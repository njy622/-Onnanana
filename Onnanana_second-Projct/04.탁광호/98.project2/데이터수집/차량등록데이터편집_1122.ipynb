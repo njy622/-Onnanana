{
 "cells": [
  {
   "cell_type": "code",
   "execution_count": 1,
   "metadata": {},
   "outputs": [],
   "source": [
    "import pandas as pd"
   ]
  },
  {
   "cell_type": "code",
   "execution_count": 2,
   "metadata": {},
   "outputs": [],
   "source": [
    "df = pd.read_csv('data/자동차등록대수현황_시도별_20231122095710.csv', encoding='ansi')"
   ]
  },
  {
   "cell_type": "code",
   "execution_count": 3,
   "metadata": {},
   "outputs": [
    {
     "data": {
      "text/html": [
       "<div>\n",
       "<style scoped>\n",
       "    .dataframe tbody tr th:only-of-type {\n",
       "        vertical-align: middle;\n",
       "    }\n",
       "\n",
       "    .dataframe tbody tr th {\n",
       "        vertical-align: top;\n",
       "    }\n",
       "\n",
       "    .dataframe thead th {\n",
       "        text-align: right;\n",
       "    }\n",
       "</style>\n",
       "<table border=\"1\" class=\"dataframe\">\n",
       "  <thead>\n",
       "    <tr style=\"text-align: right;\">\n",
       "      <th></th>\n",
       "      <th>시도명(1)</th>\n",
       "      <th>시군구(1)</th>\n",
       "      <th>2011.01</th>\n",
       "      <th>2011.02</th>\n",
       "      <th>2011.03</th>\n",
       "      <th>2011.04</th>\n",
       "      <th>2011.05</th>\n",
       "      <th>2011.06</th>\n",
       "      <th>2011.07</th>\n",
       "      <th>2011.08</th>\n",
       "      <th>...</th>\n",
       "      <th>2023.01</th>\n",
       "      <th>2023.02</th>\n",
       "      <th>2023.03</th>\n",
       "      <th>2023.04</th>\n",
       "      <th>2023.05</th>\n",
       "      <th>2023.06</th>\n",
       "      <th>2023.07</th>\n",
       "      <th>2023.08</th>\n",
       "      <th>2023.09</th>\n",
       "      <th>2023.10</th>\n",
       "    </tr>\n",
       "  </thead>\n",
       "  <tbody>\n",
       "    <tr>\n",
       "      <th>0</th>\n",
       "      <td>시도명(1)</td>\n",
       "      <td>시군구(1)</td>\n",
       "      <td>총계</td>\n",
       "      <td>총계</td>\n",
       "      <td>총계</td>\n",
       "      <td>총계</td>\n",
       "      <td>총계</td>\n",
       "      <td>총계</td>\n",
       "      <td>총계</td>\n",
       "      <td>총계</td>\n",
       "      <td>...</td>\n",
       "      <td>총계</td>\n",
       "      <td>총계</td>\n",
       "      <td>총계</td>\n",
       "      <td>총계</td>\n",
       "      <td>총계</td>\n",
       "      <td>총계</td>\n",
       "      <td>총계</td>\n",
       "      <td>총계</td>\n",
       "      <td>총계</td>\n",
       "      <td>총계</td>\n",
       "    </tr>\n",
       "    <tr>\n",
       "      <th>1</th>\n",
       "      <td>시도명(1)</td>\n",
       "      <td>시군구(1)</td>\n",
       "      <td>계</td>\n",
       "      <td>계</td>\n",
       "      <td>계</td>\n",
       "      <td>계</td>\n",
       "      <td>계</td>\n",
       "      <td>계</td>\n",
       "      <td>계</td>\n",
       "      <td>계</td>\n",
       "      <td>...</td>\n",
       "      <td>계</td>\n",
       "      <td>계</td>\n",
       "      <td>계</td>\n",
       "      <td>계</td>\n",
       "      <td>계</td>\n",
       "      <td>계</td>\n",
       "      <td>계</td>\n",
       "      <td>계</td>\n",
       "      <td>계</td>\n",
       "      <td>계</td>\n",
       "    </tr>\n",
       "    <tr>\n",
       "      <th>2</th>\n",
       "      <td>서울</td>\n",
       "      <td>계</td>\n",
       "      <td>2991173</td>\n",
       "      <td>2992406</td>\n",
       "      <td>2995826</td>\n",
       "      <td>2999731</td>\n",
       "      <td>2999402</td>\n",
       "      <td>2999651</td>\n",
       "      <td>3000038</td>\n",
       "      <td>2996185</td>\n",
       "      <td>...</td>\n",
       "      <td>3194351</td>\n",
       "      <td>3191681</td>\n",
       "      <td>3191538</td>\n",
       "      <td>3191516</td>\n",
       "      <td>3190288</td>\n",
       "      <td>3192434</td>\n",
       "      <td>3192414</td>\n",
       "      <td>3190446</td>\n",
       "      <td>3192359</td>\n",
       "      <td>3191832</td>\n",
       "    </tr>\n",
       "  </tbody>\n",
       "</table>\n",
       "<p>3 rows × 156 columns</p>\n",
       "</div>"
      ],
      "text/plain": [
       "   시도명(1)  시군구(1)  2011.01  2011.02  2011.03  2011.04  2011.05  2011.06  \\\n",
       "0  시도명(1)  시군구(1)       총계       총계       총계       총계       총계       총계   \n",
       "1  시도명(1)  시군구(1)        계        계        계        계        계        계   \n",
       "2      서울       계  2991173  2992406  2995826  2999731  2999402  2999651   \n",
       "\n",
       "   2011.07  2011.08  ...  2023.01  2023.02  2023.03  2023.04  2023.05  \\\n",
       "0       총계       총계  ...       총계       총계       총계       총계       총계   \n",
       "1        계        계  ...        계        계        계        계        계   \n",
       "2  3000038  2996185  ...  3194351  3191681  3191538  3191516  3190288   \n",
       "\n",
       "   2023.06  2023.07  2023.08  2023.09  2023.10  \n",
       "0       총계       총계       총계       총계       총계  \n",
       "1        계        계        계        계        계  \n",
       "2  3192434  3192414  3190446  3192359  3191832  \n",
       "\n",
       "[3 rows x 156 columns]"
      ]
     },
     "execution_count": 3,
     "metadata": {},
     "output_type": "execute_result"
    }
   ],
   "source": [
    "df.head(3)"
   ]
  },
  {
   "cell_type": "code",
   "execution_count": 4,
   "metadata": {},
   "outputs": [],
   "source": [
    "long_df = df.melt(id_vars=['시도명(1)', '시군구(1)'], \n",
    "                  var_name='STD_YYYYMM', \n",
    "                  value_name='차량수')"
   ]
  },
  {
   "cell_type": "code",
   "execution_count": 12,
   "metadata": {},
   "outputs": [
    {
     "data": {
      "text/html": [
       "<div>\n",
       "<style scoped>\n",
       "    .dataframe tbody tr th:only-of-type {\n",
       "        vertical-align: middle;\n",
       "    }\n",
       "\n",
       "    .dataframe tbody tr th {\n",
       "        vertical-align: top;\n",
       "    }\n",
       "\n",
       "    .dataframe thead th {\n",
       "        text-align: right;\n",
       "    }\n",
       "</style>\n",
       "<table border=\"1\" class=\"dataframe\">\n",
       "  <thead>\n",
       "    <tr style=\"text-align: right;\">\n",
       "      <th></th>\n",
       "      <th>SIDO</th>\n",
       "      <th>STD_YYYYMM</th>\n",
       "      <th>차량수</th>\n",
       "    </tr>\n",
       "  </thead>\n",
       "  <tbody>\n",
       "    <tr>\n",
       "      <th>0</th>\n",
       "      <td>NaN</td>\n",
       "      <td>2011.01</td>\n",
       "      <td>총계</td>\n",
       "    </tr>\n",
       "    <tr>\n",
       "      <th>1</th>\n",
       "      <td>NaN</td>\n",
       "      <td>2011.01</td>\n",
       "      <td>계</td>\n",
       "    </tr>\n",
       "    <tr>\n",
       "      <th>2</th>\n",
       "      <td>서울특별시</td>\n",
       "      <td>2011.01</td>\n",
       "      <td>2991173</td>\n",
       "    </tr>\n",
       "  </tbody>\n",
       "</table>\n",
       "</div>"
      ],
      "text/plain": [
       "    SIDO STD_YYYYMM      차량수\n",
       "0    NaN    2011.01       총계\n",
       "1    NaN    2011.01        계\n",
       "2  서울특별시    2011.01  2991173"
      ]
     },
     "execution_count": 12,
     "metadata": {},
     "output_type": "execute_result"
    }
   ],
   "source": [
    "long_df.head(3)"
   ]
  },
  {
   "cell_type": "code",
   "execution_count": 6,
   "metadata": {},
   "outputs": [],
   "source": [
    "long_df.rename(columns={'시도명(1)': 'SIDO'}, inplace=True)"
   ]
  },
  {
   "cell_type": "code",
   "execution_count": 9,
   "metadata": {},
   "outputs": [],
   "source": [
    "\n",
    "# 변경할 문자열 매핑\n",
    "name_mapping = {\n",
    "    '서울': '서울특별시',\n",
    "    '부산': '부산광역시',\n",
    "    '대구': '대구광역시',\n",
    "    '인천': '인천광역시',\n",
    "    '광주': '광주광역시',\n",
    "    '대전': '대전광역시',\n",
    "    '울산': '울산광역시',\n",
    "    '경기': '경기도',\n",
    "    '세종': '세종특별자치시',\n",
    "    '강원': '강원도',\n",
    "    '충북': '충청북도',\n",
    "    '충남': '충청남도',\n",
    "    '전북': '전라북도',\n",
    "    '전남': '전라남도',\n",
    "    '경북': '경상북도',\n",
    "    '경남': '경상남도',\n",
    "    '제주': '제주특별자치도'\n",
    "}\n",
    "\n",
    "# 'SIDO' 컬럼의 값을 매핑에 따라 변경\n",
    "long_df['SIDO'] = long_df['SIDO'].map(name_mapping)"
   ]
  },
  {
   "cell_type": "code",
   "execution_count": 11,
   "metadata": {},
   "outputs": [],
   "source": [
    "long_df.drop(columns=['시군구(1)'],inplace=True)\n",
    "# 시군구(1) 컬럼 삭제"
   ]
  },
  {
   "cell_type": "code",
   "execution_count": 14,
   "metadata": {},
   "outputs": [],
   "source": [
    "# 'SIDO' 컬럼에서 NaN 값을 가진 행을 제거\n",
    "long_df = long_df.dropna(subset=['SIDO'])"
   ]
  },
  {
   "cell_type": "code",
   "execution_count": 16,
   "metadata": {},
   "outputs": [],
   "source": [
    "# 'STD_YYYYMM' 열의 숫자가 아닌 문자를 제거\n",
    "long_df['STD_YYYYMM'] = long_df['STD_YYYYMM'].str.replace('[^\\d]', '', regex=True)"
   ]
  },
  {
   "cell_type": "code",
   "execution_count": 17,
   "metadata": {},
   "outputs": [],
   "source": [
    "# 결과를 정수 타입으로 변환\n",
    "long_df['STD_YYYYMM'] = long_df['STD_YYYYMM'].astype(int)"
   ]
  },
  {
   "cell_type": "code",
   "execution_count": 23,
   "metadata": {},
   "outputs": [],
   "source": [
    "# '차량수' 컬럼을 수치형으로 변환\n",
    "long_df['차량수'] = pd.to_numeric(long_df['차량수'], errors='coerce')"
   ]
  },
  {
   "cell_type": "code",
   "execution_count": 18,
   "metadata": {},
   "outputs": [
    {
     "data": {
      "text/plain": [
       "dtype('int32')"
      ]
     },
     "execution_count": 18,
     "metadata": {},
     "output_type": "execute_result"
    }
   ],
   "source": [
    "long_df['STD_YYYYMM'].dtype"
   ]
  },
  {
   "cell_type": "code",
   "execution_count": 24,
   "metadata": {},
   "outputs": [
    {
     "data": {
      "text/plain": [
       "dtype('float64')"
      ]
     },
     "execution_count": 24,
     "metadata": {},
     "output_type": "execute_result"
    }
   ],
   "source": [
    "long_df['차량수'].dtype"
   ]
  },
  {
   "cell_type": "code",
   "execution_count": 25,
   "metadata": {},
   "outputs": [
    {
     "data": {
      "text/html": [
       "<div>\n",
       "<style scoped>\n",
       "    .dataframe tbody tr th:only-of-type {\n",
       "        vertical-align: middle;\n",
       "    }\n",
       "\n",
       "    .dataframe tbody tr th {\n",
       "        vertical-align: top;\n",
       "    }\n",
       "\n",
       "    .dataframe thead th {\n",
       "        text-align: right;\n",
       "    }\n",
       "</style>\n",
       "<table border=\"1\" class=\"dataframe\">\n",
       "  <thead>\n",
       "    <tr style=\"text-align: right;\">\n",
       "      <th></th>\n",
       "      <th>SIDO</th>\n",
       "      <th>STD_YYYYMM</th>\n",
       "      <th>차량수</th>\n",
       "    </tr>\n",
       "  </thead>\n",
       "  <tbody>\n",
       "    <tr>\n",
       "      <th>2</th>\n",
       "      <td>서울특별시</td>\n",
       "      <td>201101</td>\n",
       "      <td>2991173.0</td>\n",
       "    </tr>\n",
       "    <tr>\n",
       "      <th>3</th>\n",
       "      <td>부산광역시</td>\n",
       "      <td>201101</td>\n",
       "      <td>1153513.0</td>\n",
       "    </tr>\n",
       "    <tr>\n",
       "      <th>4</th>\n",
       "      <td>대구광역시</td>\n",
       "      <td>201101</td>\n",
       "      <td>953292.0</td>\n",
       "    </tr>\n",
       "    <tr>\n",
       "      <th>5</th>\n",
       "      <td>인천광역시</td>\n",
       "      <td>201101</td>\n",
       "      <td>931279.0</td>\n",
       "    </tr>\n",
       "    <tr>\n",
       "      <th>6</th>\n",
       "      <td>광주광역시</td>\n",
       "      <td>201101</td>\n",
       "      <td>521402.0</td>\n",
       "    </tr>\n",
       "  </tbody>\n",
       "</table>\n",
       "</div>"
      ],
      "text/plain": [
       "    SIDO  STD_YYYYMM        차량수\n",
       "2  서울특별시      201101  2991173.0\n",
       "3  부산광역시      201101  1153513.0\n",
       "4  대구광역시      201101   953292.0\n",
       "5  인천광역시      201101   931279.0\n",
       "6  광주광역시      201101   521402.0"
      ]
     },
     "execution_count": 25,
     "metadata": {},
     "output_type": "execute_result"
    }
   ],
   "source": [
    "long_df.head()"
   ]
  },
  {
   "cell_type": "code",
   "execution_count": 26,
   "metadata": {},
   "outputs": [],
   "source": [
    "# 누락된 값이 있는 행 찾기\n",
    "missing_values_df = long_df[long_df['차량수'].isna()]\n",
    "\n",
    "# 'STD_YYYYMM' 별 '차량수' 평균값 계산\n",
    "mean_values = long_df.groupby('STD_YYYYMM')['차량수'].transform('mean')\n",
    "\n",
    "# 누락된 '차량수' 값에 평균값 할당\n",
    "long_df['차량수'] = long_df['차량수'].fillna(mean_values)\n"
   ]
  },
  {
   "cell_type": "code",
   "execution_count": 27,
   "metadata": {},
   "outputs": [],
   "source": [
    "long_df.to_csv('data/test/차량.csv', index=False)"
   ]
  },
  {
   "cell_type": "code",
   "execution_count": null,
   "metadata": {},
   "outputs": [],
   "source": []
  }
 ],
 "metadata": {
  "kernelspec": {
   "display_name": "base",
   "language": "python",
   "name": "python3"
  },
  "language_info": {
   "codemirror_mode": {
    "name": "ipython",
    "version": 3
   },
   "file_extension": ".py",
   "mimetype": "text/x-python",
   "name": "python",
   "nbconvert_exporter": "python",
   "pygments_lexer": "ipython3",
   "version": "3.11.4"
  }
 },
 "nbformat": 4,
 "nbformat_minor": 2
}
