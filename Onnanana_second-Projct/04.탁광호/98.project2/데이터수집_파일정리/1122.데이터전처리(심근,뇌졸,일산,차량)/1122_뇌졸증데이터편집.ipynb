{
 "cells": [
  {
   "cell_type": "code",
   "execution_count": 75,
   "metadata": {},
   "outputs": [],
   "source": [
    "import pandas as pd"
   ]
  },
  {
   "cell_type": "code",
   "execution_count": 76,
   "metadata": {},
   "outputs": [],
   "source": [
    "df = pd.read_csv('data/뇌졸중_환자_수_시도별_월별__20231122122856.csv', encoding='ansi')"
   ]
  },
  {
   "cell_type": "code",
   "execution_count": 77,
   "metadata": {},
   "outputs": [
    {
     "data": {
      "text/html": [
       "<div>\n",
       "<style scoped>\n",
       "    .dataframe tbody tr th:only-of-type {\n",
       "        vertical-align: middle;\n",
       "    }\n",
       "\n",
       "    .dataframe tbody tr th {\n",
       "        vertical-align: top;\n",
       "    }\n",
       "\n",
       "    .dataframe thead th {\n",
       "        text-align: right;\n",
       "    }\n",
       "</style>\n",
       "<table border=\"1\" class=\"dataframe\">\n",
       "  <thead>\n",
       "    <tr style=\"text-align: right;\">\n",
       "      <th></th>\n",
       "      <th>지역별(1)</th>\n",
       "      <th>2014</th>\n",
       "      <th>2014.1</th>\n",
       "      <th>2014.2</th>\n",
       "      <th>2014.3</th>\n",
       "      <th>2014.4</th>\n",
       "      <th>2014.5</th>\n",
       "      <th>2014.6</th>\n",
       "      <th>2014.7</th>\n",
       "      <th>2014.8</th>\n",
       "      <th>...</th>\n",
       "      <th>2021.2</th>\n",
       "      <th>2021.3</th>\n",
       "      <th>2021.4</th>\n",
       "      <th>2021.5</th>\n",
       "      <th>2021.6</th>\n",
       "      <th>2021.7</th>\n",
       "      <th>2021.8</th>\n",
       "      <th>2021.9</th>\n",
       "      <th>2021.10</th>\n",
       "      <th>2021.11</th>\n",
       "    </tr>\n",
       "  </thead>\n",
       "  <tbody>\n",
       "    <tr>\n",
       "      <th>0</th>\n",
       "      <td>지역별(1)</td>\n",
       "      <td>1월</td>\n",
       "      <td>2월</td>\n",
       "      <td>3월</td>\n",
       "      <td>4월</td>\n",
       "      <td>5월</td>\n",
       "      <td>6월</td>\n",
       "      <td>7월</td>\n",
       "      <td>8월</td>\n",
       "      <td>9월</td>\n",
       "      <td>...</td>\n",
       "      <td>3월</td>\n",
       "      <td>4월</td>\n",
       "      <td>5월</td>\n",
       "      <td>6월</td>\n",
       "      <td>7월</td>\n",
       "      <td>8월</td>\n",
       "      <td>9월</td>\n",
       "      <td>10월</td>\n",
       "      <td>11월</td>\n",
       "      <td>12월</td>\n",
       "    </tr>\n",
       "    <tr>\n",
       "      <th>1</th>\n",
       "      <td>서울</td>\n",
       "      <td>2012</td>\n",
       "      <td>1871</td>\n",
       "      <td>2003</td>\n",
       "      <td>1970</td>\n",
       "      <td>2037</td>\n",
       "      <td>1882</td>\n",
       "      <td>1849</td>\n",
       "      <td>1900</td>\n",
       "      <td>1907</td>\n",
       "      <td>...</td>\n",
       "      <td>2112</td>\n",
       "      <td>2223</td>\n",
       "      <td>2221</td>\n",
       "      <td>2182</td>\n",
       "      <td>2211</td>\n",
       "      <td>2151</td>\n",
       "      <td>2081</td>\n",
       "      <td>2136</td>\n",
       "      <td>2049</td>\n",
       "      <td>2053</td>\n",
       "    </tr>\n",
       "    <tr>\n",
       "      <th>2</th>\n",
       "      <td>부산</td>\n",
       "      <td>391</td>\n",
       "      <td>369</td>\n",
       "      <td>409</td>\n",
       "      <td>362</td>\n",
       "      <td>408</td>\n",
       "      <td>386</td>\n",
       "      <td>380</td>\n",
       "      <td>421</td>\n",
       "      <td>455</td>\n",
       "      <td>...</td>\n",
       "      <td>601</td>\n",
       "      <td>554</td>\n",
       "      <td>645</td>\n",
       "      <td>605</td>\n",
       "      <td>587</td>\n",
       "      <td>550</td>\n",
       "      <td>582</td>\n",
       "      <td>569</td>\n",
       "      <td>565</td>\n",
       "      <td>545</td>\n",
       "    </tr>\n",
       "    <tr>\n",
       "      <th>3</th>\n",
       "      <td>대구</td>\n",
       "      <td>673</td>\n",
       "      <td>543</td>\n",
       "      <td>568</td>\n",
       "      <td>607</td>\n",
       "      <td>625</td>\n",
       "      <td>571</td>\n",
       "      <td>566</td>\n",
       "      <td>603</td>\n",
       "      <td>590</td>\n",
       "      <td>...</td>\n",
       "      <td>678</td>\n",
       "      <td>665</td>\n",
       "      <td>716</td>\n",
       "      <td>628</td>\n",
       "      <td>696</td>\n",
       "      <td>610</td>\n",
       "      <td>559</td>\n",
       "      <td>643</td>\n",
       "      <td>691</td>\n",
       "      <td>590</td>\n",
       "    </tr>\n",
       "    <tr>\n",
       "      <th>4</th>\n",
       "      <td>인천</td>\n",
       "      <td>341</td>\n",
       "      <td>309</td>\n",
       "      <td>320</td>\n",
       "      <td>293</td>\n",
       "      <td>332</td>\n",
       "      <td>296</td>\n",
       "      <td>299</td>\n",
       "      <td>284</td>\n",
       "      <td>272</td>\n",
       "      <td>...</td>\n",
       "      <td>536</td>\n",
       "      <td>557</td>\n",
       "      <td>617</td>\n",
       "      <td>586</td>\n",
       "      <td>554</td>\n",
       "      <td>567</td>\n",
       "      <td>582</td>\n",
       "      <td>592</td>\n",
       "      <td>586</td>\n",
       "      <td>570</td>\n",
       "    </tr>\n",
       "  </tbody>\n",
       "</table>\n",
       "<p>5 rows × 97 columns</p>\n",
       "</div>"
      ],
      "text/plain": [
       "   지역별(1)  2014 2014.1 2014.2 2014.3 2014.4 2014.5 2014.6 2014.7 2014.8  ...  \\\n",
       "0  지역별(1)    1월     2월     3월     4월     5월     6월     7월     8월     9월  ...   \n",
       "1      서울  2012   1871   2003   1970   2037   1882   1849   1900   1907  ...   \n",
       "2      부산   391    369    409    362    408    386    380    421    455  ...   \n",
       "3      대구   673    543    568    607    625    571    566    603    590  ...   \n",
       "4      인천   341    309    320    293    332    296    299    284    272  ...   \n",
       "\n",
       "  2021.2 2021.3 2021.4 2021.5 2021.6 2021.7 2021.8 2021.9 2021.10 2021.11  \n",
       "0     3월     4월     5월     6월     7월     8월     9월    10월     11월     12월  \n",
       "1   2112   2223   2221   2182   2211   2151   2081   2136    2049    2053  \n",
       "2    601    554    645    605    587    550    582    569     565     545  \n",
       "3    678    665    716    628    696    610    559    643     691     590  \n",
       "4    536    557    617    586    554    567    582    592     586     570  \n",
       "\n",
       "[5 rows x 97 columns]"
      ]
     },
     "execution_count": 77,
     "metadata": {},
     "output_type": "execute_result"
    }
   ],
   "source": [
    "df.head()"
   ]
  },
  {
   "cell_type": "code",
   "execution_count": 78,
   "metadata": {},
   "outputs": [],
   "source": [
    "# '지역별(1)' 컬럼에서 '지역별(1)' 문자값을 가진 행을 제거\n",
    "df = df[df['지역별(1)'] != '지역별(1)']"
   ]
  },
  {
   "cell_type": "code",
   "execution_count": 79,
   "metadata": {},
   "outputs": [],
   "source": [
    "long_df = df.melt(id_vars=['지역별(1)'], \n",
    "                  var_name='STD_YYYYMM', \n",
    "                  value_name='뇌졸증')"
   ]
  },
  {
   "cell_type": "code",
   "execution_count": 80,
   "metadata": {},
   "outputs": [
    {
     "data": {
      "text/html": [
       "<div>\n",
       "<style scoped>\n",
       "    .dataframe tbody tr th:only-of-type {\n",
       "        vertical-align: middle;\n",
       "    }\n",
       "\n",
       "    .dataframe tbody tr th {\n",
       "        vertical-align: top;\n",
       "    }\n",
       "\n",
       "    .dataframe thead th {\n",
       "        text-align: right;\n",
       "    }\n",
       "</style>\n",
       "<table border=\"1\" class=\"dataframe\">\n",
       "  <thead>\n",
       "    <tr style=\"text-align: right;\">\n",
       "      <th></th>\n",
       "      <th>지역별(1)</th>\n",
       "      <th>STD_YYYYMM</th>\n",
       "      <th>뇌졸증</th>\n",
       "    </tr>\n",
       "  </thead>\n",
       "  <tbody>\n",
       "    <tr>\n",
       "      <th>0</th>\n",
       "      <td>서울</td>\n",
       "      <td>2014</td>\n",
       "      <td>2012</td>\n",
       "    </tr>\n",
       "    <tr>\n",
       "      <th>1</th>\n",
       "      <td>부산</td>\n",
       "      <td>2014</td>\n",
       "      <td>391</td>\n",
       "    </tr>\n",
       "    <tr>\n",
       "      <th>2</th>\n",
       "      <td>대구</td>\n",
       "      <td>2014</td>\n",
       "      <td>673</td>\n",
       "    </tr>\n",
       "  </tbody>\n",
       "</table>\n",
       "</div>"
      ],
      "text/plain": [
       "  지역별(1) STD_YYYYMM   뇌졸증\n",
       "0     서울       2014  2012\n",
       "1     부산       2014   391\n",
       "2     대구       2014   673"
      ]
     },
     "execution_count": 80,
     "metadata": {},
     "output_type": "execute_result"
    }
   ],
   "source": [
    "long_df.head(3)"
   ]
  },
  {
   "cell_type": "code",
   "execution_count": 81,
   "metadata": {},
   "outputs": [],
   "source": [
    "long_df.rename(columns={'지역별(1)': 'SIDO'}, inplace=True)"
   ]
  },
  {
   "cell_type": "code",
   "execution_count": 82,
   "metadata": {},
   "outputs": [],
   "source": [
    "\n",
    "# 변경할 문자열 매핑\n",
    "name_mapping = {\n",
    "    '서울': '서울특별시',\n",
    "    '부산': '부산광역시',\n",
    "    '대구': '대구광역시',\n",
    "    '인천': '인천광역시',\n",
    "    '광주': '광주광역시',\n",
    "    '대전': '대전광역시',\n",
    "    '울산': '울산광역시',\n",
    "    '경기': '경기도',\n",
    "    '세종': '세종특별자치시',\n",
    "    '강원': '강원도',\n",
    "    '충북': '충청북도',\n",
    "    '충남': '충청남도',\n",
    "    '전북': '전라북도',\n",
    "    '전남': '전라남도',\n",
    "    '경북': '경상북도',\n",
    "    '경남': '경상남도',\n",
    "    '제주': '제주특별자치도'\n",
    "}\n",
    "\n",
    "# 'SIDO' 컬럼의 값을 매핑에 따라 변경\n",
    "long_df['SIDO'] = long_df['SIDO'].map(name_mapping)"
   ]
  },
  {
   "cell_type": "code",
   "execution_count": 83,
   "metadata": {},
   "outputs": [],
   "source": [
    "# 'STD_YYYYMM' 열의 숫자가 아닌 문자를 제거\n",
    "long_df['STD_YYYYMM'] = long_df['STD_YYYYMM'].str.replace('[^\\d]', '', regex=True)"
   ]
  },
  {
   "cell_type": "code",
   "execution_count": 84,
   "metadata": {},
   "outputs": [],
   "source": [
    "# 결과를 정수 타입으로 변환\n",
    "long_df['STD_YYYYMM'] = long_df['STD_YYYYMM'].astype(int)"
   ]
  },
  {
   "cell_type": "code",
   "execution_count": 85,
   "metadata": {},
   "outputs": [],
   "source": [
    "def increment_month_properly(date_int):\n",
    "    date_str = str(date_int)\n",
    "    # 년도만 있는 경우, 01월을 추가\n",
    "    if len(date_str) == 4:\n",
    "        return date_str + '01'\n",
    "    # 년도와 한 자리 월이 있는 경우 (예: 20141)\n",
    "    elif len(date_str) == 5:\n",
    "        year, month = int(date_str[:4]), int(date_str[4:])\n",
    "        new_month = month + 1 if month < 9 else 10  # 9월 이하면 1 증가, 그렇지 않으면 10월\n",
    "        return f\"{year}0{new_month}\"\n",
    "    # 년도와 두 자리 월이 있는 경우\n",
    "    elif len(date_str) == 6:\n",
    "        year, month = int(date_str[:4]), int(date_str[4:])\n",
    "        # 월을 1 증가시키기 (12월인 경우 다음 해로 넘어가지 않음)\n",
    "        new_month = month + 1 if month < 12 else month\n",
    "        return f\"{year}{new_month:02d}\"\n",
    "    else:\n",
    "        return date_str  # 형식에 맞지 않는 경우 그대로 반환\n",
    "\n",
    "long_df['STD_YYYYMM'] = long_df['STD_YYYYMM'].apply(increment_month_properly)\n"
   ]
  },
  {
   "cell_type": "code",
   "execution_count": 86,
   "metadata": {},
   "outputs": [
    {
     "data": {
      "text/plain": [
       "dtype('O')"
      ]
     },
     "execution_count": 86,
     "metadata": {},
     "output_type": "execute_result"
    }
   ],
   "source": [
    "long_df['뇌졸증'].dtype"
   ]
  },
  {
   "cell_type": "code",
   "execution_count": 87,
   "metadata": {},
   "outputs": [],
   "source": [
    "# '뇌졸증' 컬럼을 수치형(float)으로 변환\n",
    "long_df['뇌졸증'] = pd.to_numeric(long_df['뇌졸증'], errors='coerce')\n",
    "\n",
    "# 누락된 값이 있는 행 찾기\n",
    "missing_values_df = long_df[long_df['뇌졸증'].isna()]\n",
    "\n",
    "# 'STD_YYYYMM' 별 '뇌졸증' 평균값 계산 및 소수점 첫째 자리까지 반올림\n",
    "mean_values = long_df.groupby('STD_YYYYMM')['뇌졸증'].transform('mean').round(1)\n",
    "\n",
    "# 누락된 '뇌졸증' 값에 평균값 할당\n",
    "long_df['뇌졸증'] = long_df['뇌졸증'].fillna(mean_values)"
   ]
  },
  {
   "cell_type": "code",
   "execution_count": 88,
   "metadata": {},
   "outputs": [],
   "source": [
    "long_df.to_csv('data/test/뇌졸증.csv', index=False)"
   ]
  },
  {
   "cell_type": "code",
   "execution_count": null,
   "metadata": {},
   "outputs": [],
   "source": []
  }
 ],
 "metadata": {
  "kernelspec": {
   "display_name": "base",
   "language": "python",
   "name": "python3"
  },
  "language_info": {
   "codemirror_mode": {
    "name": "ipython",
    "version": 3
   },
   "file_extension": ".py",
   "mimetype": "text/x-python",
   "name": "python",
   "nbconvert_exporter": "python",
   "pygments_lexer": "ipython3",
   "version": "3.11.4"
  }
 },
 "nbformat": 4,
 "nbformat_minor": 2
}
