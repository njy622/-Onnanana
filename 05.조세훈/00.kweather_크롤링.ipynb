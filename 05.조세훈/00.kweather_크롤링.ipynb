{
 "cells": [
  {
   "cell_type": "code",
   "execution_count": 12,
   "metadata": {},
   "outputs": [],
   "source": [
    "import requests, time\n",
    "import pandas as pd\n",
    "from tqdm import tqdm\n",
    "from bs4 import BeautifulSoup\n",
    "from selenium import webdriver\n",
    "from datetime import datetime, timedelta"
   ]
  },
  {
   "cell_type": "code",
   "execution_count": 13,
   "metadata": {},
   "outputs": [
    {
     "data": {
      "text/plain": [
       "'<!doctype html><html><head><title>생활지수</title><meta charset=utf-8><meta http-equiv=X-UA-Compatible content=\"IE=Edge\"><meta name=theme-color content=#0c419a><meta name=viewport content=\"width=device-width,initial-scale=1,shrink-to-fit=no,maximum-scale=1,user-scalable=no\"><meta name=title content=생활지수><meta name=description content=\"세계 최대의 기상 컨설팅 회사, 날씨, 주간날씨, 주말날씨, 기상 컨설팅, 해운 날씨 컨설팅, 항공 날씨 컨설팅\"><meta property=og:url content=\"//www.kr-weathernews.com/mv3/html/main.html?region=1100000000\"><meta pro'"
      ]
     },
     "execution_count": 13,
     "metadata": {},
     "output_type": "execute_result"
    }
   ],
   "source": [
    "url = 'https://www.kr-weathernews.com/mv3/html/lifeindex.html?region='\n",
    "header = {'User-Agent' : 'Mozilla/5.0 (Windows NT 10.0; Win64; x64) AppleWebKit/537.36 (KHTML, like Gecko) Chrome/117.0.0.0 Safari/537.36'}\n",
    "res = requests.get(url, headers=header)\n",
    "res.encoding = 'utf-8'\n",
    "res.text[:500]"
   ]
  },
  {
   "cell_type": "code",
   "execution_count": 14,
   "metadata": {},
   "outputs": [
    {
     "name": "stderr",
     "output_type": "stream",
     "text": [
      "The chromedriver version (119.0.6045.105) detected in PATH at C:\\Users\\human\\Downloads\\chromedriver.exe might not be compatible with the detected chrome version (120.0.6099.71); currently, chromedriver 120.0.6099.71 is recommended for chrome 120.*, so it is advised to delete the driver in PATH and retry\n"
     ]
    }
   ],
   "source": [
    "from selenium import webdriver\n",
    "\n",
    "driver = webdriver.Chrome()     # PATH 설정 할 것 (chromedriver.exe가 위치해있는곳을 path 설정해야함)\n",
    "driver.get(url)"
   ]
  },
  {
   "cell_type": "code",
   "execution_count": 6,
   "metadata": {},
   "outputs": [],
   "source": [
    "soup = BeautifulSoup(driver.page_source, 'html.parser')"
   ]
  },
  {
   "cell_type": "code",
   "execution_count": 7,
   "metadata": {},
   "outputs": [
    {
     "data": {
      "text/plain": [
       "5"
      ]
     },
     "execution_count": 7,
     "metadata": {},
     "output_type": "execute_result"
    }
   ],
   "source": [
    "trs = soup.select('#slidePage1 > #pointList > li')\n",
    "len(trs)"
   ]
  },
  {
   "cell_type": "code",
   "execution_count": 8,
   "metadata": {},
   "outputs": [
    {
     "data": {
      "text/plain": [
       "[<li><img alt=\"세차지수 사진\" src=\"../img/icon_idx_carwash.png?ver=20231201\"/><h1>세차지수</h1><h2> 30</h2><p>오늘은 차량 내부 세차를 추천해요</p><progress max=\"100\" value=\"30\"></progress></li>,\n",
       " <li><img alt=\"달리기지수 사진\" src=\"../img/icon_idx_running.png?ver=20231201\"/><h1>달리기지수</h1><h2> 90</h2><p>오늘은 상쾌하게 조깅하는 날!</p><progress max=\"100\" value=\"90\"></progress></li>,\n",
       " <li><img alt=\"빨래지수 사진\" src=\"../img/icon_idx_washing.png?ver=20231201\"/><h1>빨래지수</h1><h2> 52</h2><p>빨래는 실내에서 말려주세요</p><progress max=\"100\" value=\"52\"></progress></li>,\n",
       " <li><img alt=\"수면지수 사진\" src=\"../img/icon_idx_sleep.png?ver=20231201\"/><h1>수면지수</h1><h2> 30</h2><p>수면을 위해 적정 온습도를 유지하세요</p><progress max=\"100\" value=\"30\"></progress></li>,\n",
       " <li><img alt=\"우산지수 사진\" src=\"../img/icon_idx_umb.png?ver=20231201\"/><h1>우산지수</h1><h2> 40</h2><p>외출 시 우산 챙기면 안심이 돼요</p><progress max=\"100\" value=\"40\"></progress></li>]"
      ]
     },
     "execution_count": 8,
     "metadata": {},
     "output_type": "execute_result"
    }
   ],
   "source": [
    "trs.encoding = 'utf-8'\n",
    "trs"
   ]
  },
  {
   "cell_type": "code",
   "execution_count": 9,
   "metadata": {},
   "outputs": [
    {
     "data": {
      "text/plain": [
       "('세차지수', '30', '오늘은 차량 내부 세차를 추천해요', '')"
      ]
     },
     "execution_count": 9,
     "metadata": {},
     "output_type": "execute_result"
    }
   ],
   "source": [
    "# 생활지수\n",
    "tr = trs[0]\n",
    "img = tr.select_one('img')['src']\n",
    "item = tr.select_one('h1').get_text().strip().replace('.', '')\n",
    "index = tr.select_one('h2').get_text().strip()\n",
    "ment = tr.select_one('p').get_text().strip()\n",
    "progress_element = tr.select_one('progress')\n",
    "graph_value = progress_element['value'].get_text().strip()\n",
    "graph_max = progress_element['max'].get_text().strip()\n",
    "item, index, ment, value, max"
   ]
  },
  {
   "cell_type": "code",
   "execution_count": 10,
   "metadata": {},
   "outputs": [],
   "source": [
    "data = []\n",
    "from datetime import datetime, timedelta\n",
    "\n",
    "for tr in trs:\n",
    "    soup = BeautifulSoup(driver.page_source, 'html.parser')\n",
    "    img = tr.select_one('img')['src']\n",
    "    item = tr.select_one('h1').get_text().strip().replace('.', '')\n",
    "    index = tr.select_one('h2').get_text().strip()\n",
    "    ment = tr.select_one('p').get_text().strip()\n",
    "    graph = tr.select_one('progress').get_text().strip()\n",
    "\n",
    "\n",
    "    url = 'https://www.kr-weathernews.com/mv3/html/lifeindex.html?region='\n",
    "    res = requests.get(url)\n",
    "    soup = BeautifulSoup(res.text, 'html.parser')\n",
    "\n",
    "    data.append({ '이미지': img, '생활지수': item, '지수': index, '안내멘트': ment, '그래프': graph})"
   ]
  },
  {
   "cell_type": "code",
   "execution_count": 11,
   "metadata": {},
   "outputs": [
    {
     "data": {
      "text/html": [
       "<div>\n",
       "<style scoped>\n",
       "    .dataframe tbody tr th:only-of-type {\n",
       "        vertical-align: middle;\n",
       "    }\n",
       "\n",
       "    .dataframe tbody tr th {\n",
       "        vertical-align: top;\n",
       "    }\n",
       "\n",
       "    .dataframe thead th {\n",
       "        text-align: right;\n",
       "    }\n",
       "</style>\n",
       "<table border=\"1\" class=\"dataframe\">\n",
       "  <thead>\n",
       "    <tr style=\"text-align: right;\">\n",
       "      <th></th>\n",
       "      <th>이미지</th>\n",
       "      <th>생활지수</th>\n",
       "      <th>지수</th>\n",
       "      <th>안내멘트</th>\n",
       "      <th>그래프</th>\n",
       "    </tr>\n",
       "  </thead>\n",
       "  <tbody>\n",
       "    <tr>\n",
       "      <th>0</th>\n",
       "      <td>../img/icon_idx_carwash.png?ver=20231201</td>\n",
       "      <td>세차지수</td>\n",
       "      <td>30</td>\n",
       "      <td>오늘은 차량 내부 세차를 추천해요</td>\n",
       "      <td></td>\n",
       "    </tr>\n",
       "    <tr>\n",
       "      <th>1</th>\n",
       "      <td>../img/icon_idx_running.png?ver=20231201</td>\n",
       "      <td>달리기지수</td>\n",
       "      <td>90</td>\n",
       "      <td>오늘은 상쾌하게 조깅하는 날!</td>\n",
       "      <td></td>\n",
       "    </tr>\n",
       "    <tr>\n",
       "      <th>2</th>\n",
       "      <td>../img/icon_idx_washing.png?ver=20231201</td>\n",
       "      <td>빨래지수</td>\n",
       "      <td>52</td>\n",
       "      <td>빨래는 실내에서 말려주세요</td>\n",
       "      <td></td>\n",
       "    </tr>\n",
       "    <tr>\n",
       "      <th>3</th>\n",
       "      <td>../img/icon_idx_sleep.png?ver=20231201</td>\n",
       "      <td>수면지수</td>\n",
       "      <td>30</td>\n",
       "      <td>수면을 위해 적정 온습도를 유지하세요</td>\n",
       "      <td></td>\n",
       "    </tr>\n",
       "    <tr>\n",
       "      <th>4</th>\n",
       "      <td>../img/icon_idx_umb.png?ver=20231201</td>\n",
       "      <td>우산지수</td>\n",
       "      <td>40</td>\n",
       "      <td>외출 시 우산 챙기면 안심이 돼요</td>\n",
       "      <td></td>\n",
       "    </tr>\n",
       "  </tbody>\n",
       "</table>\n",
       "</div>"
      ],
      "text/plain": [
       "                                        이미지   생활지수  지수                  안내멘트  \\\n",
       "0  ../img/icon_idx_carwash.png?ver=20231201   세차지수  30    오늘은 차량 내부 세차를 추천해요   \n",
       "1  ../img/icon_idx_running.png?ver=20231201  달리기지수  90      오늘은 상쾌하게 조깅하는 날!   \n",
       "2  ../img/icon_idx_washing.png?ver=20231201   빨래지수  52        빨래는 실내에서 말려주세요   \n",
       "3    ../img/icon_idx_sleep.png?ver=20231201   수면지수  30  수면을 위해 적정 온습도를 유지하세요   \n",
       "4      ../img/icon_idx_umb.png?ver=20231201   우산지수  40    외출 시 우산 챙기면 안심이 돼요   \n",
       "\n",
       "  그래프  \n",
       "0      \n",
       "1      \n",
       "2      \n",
       "3      \n",
       "4      "
      ]
     },
     "execution_count": 11,
     "metadata": {},
     "output_type": "execute_result"
    }
   ],
   "source": [
    "df = pd.DataFrame(data)\n",
    "df"
   ]
  },
  {
   "cell_type": "code",
   "execution_count": 15,
   "metadata": {},
   "outputs": [
    {
     "name": "stderr",
     "output_type": "stream",
     "text": [
      "The chromedriver version (119.0.6045.105) detected in PATH at C:\\Users\\human\\Downloads\\chromedriver.exe might not be compatible with the detected chrome version (120.0.6099.71); currently, chromedriver 120.0.6099.71 is recommended for chrome 120.*, so it is advised to delete the driver in PATH and retry\n"
     ]
    },
    {
     "data": {
      "text/plain": [
       "3"
      ]
     },
     "execution_count": 15,
     "metadata": {},
     "output_type": "execute_result"
    }
   ],
   "source": [
    "#\n",
    "url = 'https://www.kr-weathernews.com/mv3/html/lifeindex.html?region='\n",
    "header = {'User-Agent' : 'Mozilla/5.0 (Windows NT 10.0; Win64; x64) AppleWebKit/537.36 (KHTML, like Gecko) Chrome/117.0.0.0 Safari/537.36'}\n",
    "res = requests.get(url, headers=header) \n",
    "driver = webdriver.Chrome()     # PATH 설정 할 것 (chromedriver.exe가 위치해있는곳을 path 설정해야함)\n",
    "driver.get(url)\n",
    "soup = BeautifulSoup(driver.page_source, 'html.parser')\n",
    "trs2 = soup.select('#slidePage2 > #pointList > li')\n",
    "len(trs2)"
   ]
  },
  {
   "cell_type": "code",
   "execution_count": 4,
   "metadata": {},
   "outputs": [
    {
     "data": {
      "text/plain": [
       "[<li><img alt=\"자외선지수 사진\" src=\"../img/icon_life_uv.png?ver=20231201\"/><h1>자외선지수</h1><h2> 0</h2><p>자외선 걱정 없는 날이에요.</p><progress max=\"100\" value=\"25\"></progress></li>,\n",
       " <li><img alt=\"감기지수 사진\" src=\"../img/icon_life_cold.png?ver=20231201\"/><h1>감기지수</h1><h2> 3</h2><p>노약자는 외부 활동을 되도록 삼가요</p><progress max=\"100\" value=\"75\"></progress></li>,\n",
       " <li><img alt=\"동파지수 사진\" src=\"../img/icon_life_freez.png?ver=20231201\"/><h1>동파지수</h1><h2> 25</h2><p>동파지수가 매우 낮아요</p><progress max=\"100\" value=\"25\"></progress></li>]"
      ]
     },
     "execution_count": 4,
     "metadata": {},
     "output_type": "execute_result"
    }
   ],
   "source": [
    "#trs2.encoding = 'utf-8'\n",
    "trs2"
   ]
  },
  {
   "cell_type": "code",
   "execution_count": 17,
   "metadata": {},
   "outputs": [
    {
     "data": {
      "text/plain": [
       "('자외선지수', '1', '자외선 걱정 없는 날이에요.', <function max>)"
      ]
     },
     "execution_count": 17,
     "metadata": {},
     "output_type": "execute_result"
    }
   ],
   "source": [
    "# 생활지수\n",
    "soup = BeautifulSoup(driver.page_source, 'html.parser')\n",
    "trs2 = soup.select('#slidePage2 > #pointList > li')\n",
    "tr2 = trs2[0]\n",
    "img = tr2.select_one('img')['src']\n",
    "item = tr2.select_one('h1').get_text().strip().replace('.', '')\n",
    "index = tr2.select_one('h2').get_text().strip()\n",
    "ment = tr2.select_one('p').get_text().strip()\n",
    "progress_element = tr.select_one('progress')\n",
    "graph_value = progress_element['value']\n",
    "graph_max = progress_element['max']\n",
    "item, index, ment, max"
   ]
  },
  {
   "cell_type": "code",
   "execution_count": 6,
   "metadata": {},
   "outputs": [],
   "source": [
    "data = []\n",
    "#url = 'https://www.kr-weathernews.com/mv3/html/lifeindex.html?region='\n",
    "#driver = webdriver.Chrome()     # PATH 설정 할 것 (chromedriver.exe가 위치해있는곳을 path 설정해야함)\n",
    "#driver.get(url)\n",
    "#soup = BeautifulSoup(driver.page_source, 'html.parser')\n",
    "#trs2 = soup.select('#slidePage2 > #pointList > li')\n",
    "for tr2 in trs2:\n",
    "    soup = BeautifulSoup(driver.page_source, 'html.parser')\n",
    "    img = tr2.select_one('img')['src']\n",
    "    item = tr2.select_one('h1').get_text().strip().replace('.', '')\n",
    "    index = tr2.select_one('h2').get_text().strip()\n",
    "    ment = tr2.select_one('p').get_text().strip()\n",
    "\n",
    "\n",
    "    url = 'https://www.kr-weathernews.com/mv3/html/lifeindex.html?region='\n",
    "    res = requests.get(url)\n",
    "    soup = BeautifulSoup(res.text, 'html.parser')\n",
    "\n",
    "    data.append({ '이미지': img, '생활지수': item, '지수': index, '안내멘트': ment})"
   ]
  },
  {
   "cell_type": "code",
   "execution_count": 17,
   "metadata": {},
   "outputs": [
    {
     "data": {
      "text/html": [
       "<div>\n",
       "<style scoped>\n",
       "    .dataframe tbody tr th:only-of-type {\n",
       "        vertical-align: middle;\n",
       "    }\n",
       "\n",
       "    .dataframe tbody tr th {\n",
       "        vertical-align: top;\n",
       "    }\n",
       "\n",
       "    .dataframe thead th {\n",
       "        text-align: right;\n",
       "    }\n",
       "</style>\n",
       "<table border=\"1\" class=\"dataframe\">\n",
       "  <thead>\n",
       "    <tr style=\"text-align: right;\">\n",
       "      <th></th>\n",
       "      <th>이미지</th>\n",
       "      <th>생활지수</th>\n",
       "      <th>지수</th>\n",
       "      <th>안내멘트</th>\n",
       "    </tr>\n",
       "  </thead>\n",
       "  <tbody>\n",
       "    <tr>\n",
       "      <th>0</th>\n",
       "      <td>../img/icon_idx_carwash.png?ver=20231201</td>\n",
       "      <td>세차지수</td>\n",
       "      <td>0</td>\n",
       "      <td>오늘은 세차하기에 최악의 날씨</td>\n",
       "    </tr>\n",
       "    <tr>\n",
       "      <th>1</th>\n",
       "      <td>../img/icon_idx_running.png?ver=20231201</td>\n",
       "      <td>달리기지수</td>\n",
       "      <td>17.5</td>\n",
       "      <td>오늘은 꼭 실내에서 운동하세요</td>\n",
       "    </tr>\n",
       "    <tr>\n",
       "      <th>2</th>\n",
       "      <td>../img/icon_idx_washing.png?ver=20231201</td>\n",
       "      <td>빨래지수</td>\n",
       "      <td>63</td>\n",
       "      <td>빨래하기에 적당한 날씨예요</td>\n",
       "    </tr>\n",
       "    <tr>\n",
       "      <th>3</th>\n",
       "      <td>../img/icon_idx_sleep.png?ver=20231201</td>\n",
       "      <td>수면지수</td>\n",
       "      <td>20</td>\n",
       "      <td>수면을 위해 적정 온습도를 유지하세요</td>\n",
       "    </tr>\n",
       "    <tr>\n",
       "      <th>4</th>\n",
       "      <td>../img/icon_idx_umb.png?ver=20231201</td>\n",
       "      <td>우산지수</td>\n",
       "      <td>60</td>\n",
       "      <td>우산 꼭 챙겨서 외출하세요</td>\n",
       "    </tr>\n",
       "    <tr>\n",
       "      <th>5</th>\n",
       "      <td>../img/icon_life_uv.png?ver=20231201</td>\n",
       "      <td>자외선지수</td>\n",
       "      <td>1</td>\n",
       "      <td>오늘은 안심하고 야외 활동하세요</td>\n",
       "    </tr>\n",
       "    <tr>\n",
       "      <th>6</th>\n",
       "      <td>../img/icon_life_cold.png?ver=20231201</td>\n",
       "      <td>감기지수</td>\n",
       "      <td>3</td>\n",
       "      <td>감기지수가 높으니 체온 유지는 필수</td>\n",
       "    </tr>\n",
       "    <tr>\n",
       "      <th>7</th>\n",
       "      <td>../img/icon_life_freez.png?ver=20231201</td>\n",
       "      <td>동파지수</td>\n",
       "      <td>25</td>\n",
       "      <td>오늘은 동파 걱정 끝!</td>\n",
       "    </tr>\n",
       "  </tbody>\n",
       "</table>\n",
       "</div>"
      ],
      "text/plain": [
       "                                        이미지   생활지수    지수                  안내멘트\n",
       "0  ../img/icon_idx_carwash.png?ver=20231201   세차지수     0      오늘은 세차하기에 최악의 날씨\n",
       "1  ../img/icon_idx_running.png?ver=20231201  달리기지수  17.5      오늘은 꼭 실내에서 운동하세요\n",
       "2  ../img/icon_idx_washing.png?ver=20231201   빨래지수    63        빨래하기에 적당한 날씨예요\n",
       "3    ../img/icon_idx_sleep.png?ver=20231201   수면지수    20  수면을 위해 적정 온습도를 유지하세요\n",
       "4      ../img/icon_idx_umb.png?ver=20231201   우산지수    60        우산 꼭 챙겨서 외출하세요\n",
       "5      ../img/icon_life_uv.png?ver=20231201  자외선지수     1     오늘은 안심하고 야외 활동하세요\n",
       "6    ../img/icon_life_cold.png?ver=20231201   감기지수     3   감기지수가 높으니 체온 유지는 필수\n",
       "7   ../img/icon_life_freez.png?ver=20231201   동파지수    25          오늘은 동파 걱정 끝!"
      ]
     },
     "execution_count": 17,
     "metadata": {},
     "output_type": "execute_result"
    }
   ],
   "source": [
    "df = pd.DataFrame(data)\n",
    "df"
   ]
  },
  {
   "cell_type": "code",
   "execution_count": 8,
   "metadata": {},
   "outputs": [],
   "source": [
    "# 데이터프레임을 텍스트 파일로 저장\n",
    "df.to_csv('data/kweather.txt', sep='\\t', index=False)"
   ]
  },
  {
   "cell_type": "code",
   "execution_count": 18,
   "metadata": {},
   "outputs": [],
   "source": [
    "df.to_csv('data/kweather.csv', index=False)"
   ]
  },
  {
   "cell_type": "code",
   "execution_count": 19,
   "metadata": {},
   "outputs": [
    {
     "name": "stderr",
     "output_type": "stream",
     "text": [
      "The chromedriver version (119.0.6045.105) detected in PATH at C:\\Users\\human\\Downloads\\chromedriver.exe might not be compatible with the detected chrome version (120.0.6099.71); currently, chromedriver 120.0.6099.71 is recommended for chrome 120.*, so it is advised to delete the driver in PATH and retry\n"
     ]
    }
   ],
   "source": [
    "data1 = []\n",
    "data2 = []\n",
    "url = 'https://www.kr-weathernews.com/mv3/html/lifeindex.html?region='\n",
    "header = {'User-Agent' : 'Mozilla/5.0 (Windows NT 10.0; Win64; x64) AppleWebKit/537.36 (KHTML, like Gecko) Chrome/117.0.0.0 Safari/537.36'}\n",
    "res = requests.get(url, headers=header) \n",
    "driver = webdriver.Chrome()     # PATH 설정 할 것 (chromedriver.exe가 위치해있는곳을 path 설정해야함)\n",
    "driver.get(url)\n",
    "soup = BeautifulSoup(driver.page_source, 'html.parser')\n",
    "trs = soup.select('#slidePage1 > #pointList > li')\n",
    "trs2 = soup.select('#slidePage2 > #pointList > li')\n",
    "\n",
    "for tr in trs:\n",
    "    soup = BeautifulSoup(driver.page_source, 'html.parser')\n",
    "    img = tr.select_one('img')['src']\n",
    "    item = tr.select_one('h1').get_text().strip().replace('.', '')\n",
    "    index = tr.select_one('h2').get_text().strip()\n",
    "    ment = tr.select_one('p').get_text().strip()\n",
    "\n",
    "\n",
    "    url = 'https://www.kr-weathernews.com/mv3/html/lifeindex.html?region='\n",
    "    res = requests.get(url)\n",
    "    soup = BeautifulSoup(res.text, 'html.parser')\n",
    "\n",
    "    data1.append({ '이미지': img, '생활지수': item, '지수': index, '안내멘트': ment})\n",
    "    \n",
    "for tr2 in trs2:\n",
    "    soup = BeautifulSoup(driver.page_source, 'html.parser')\n",
    "    time.sleep(2)\n",
    "    img = tr2.select_one('img')['src']\n",
    "    item = tr2.select_one('h1').get_text().strip().replace('.', '')\n",
    "    index = tr2.select_one('h2').get_text().strip()\n",
    "    ment = tr2.select_one('p').get_text().strip()\n",
    "\n",
    "\n",
    "    url = 'https://www.kr-weathernews.com/mv3/html/lifeindex.html?region='\n",
    "    res = requests.get(url)\n",
    "    soup = BeautifulSoup(res.text, 'html.parser')\n",
    "\n",
    "    data2.append({ '이미지': img, '생활지수': item, '지수': index, '안내멘트': ment})\n",
    "\n",
    "data = data1 + data2\n",
    "df = pd.DataFrame(data)\n",
    "df.to_csv('data/kweather.csv', index=False)"
   ]
  },
  {
   "cell_type": "code",
   "execution_count": 16,
   "metadata": {},
   "outputs": [
    {
     "data": {
      "text/plain": [
       "[{'이미지': '../img/icon_idx_carwash.png?ver=20231201',\n",
       "  '생활지수': '세차지수',\n",
       "  '지수': '0',\n",
       "  '안내멘트': '오늘은 세차하기에 최악의 날씨'},\n",
       " {'이미지': '../img/icon_idx_running.png?ver=20231201',\n",
       "  '생활지수': '달리기지수',\n",
       "  '지수': '17.5',\n",
       "  '안내멘트': '오늘은 꼭 실내에서 운동하세요'},\n",
       " {'이미지': '../img/icon_idx_washing.png?ver=20231201',\n",
       "  '생활지수': '빨래지수',\n",
       "  '지수': '63',\n",
       "  '안내멘트': '빨래하기에 적당한 날씨예요'},\n",
       " {'이미지': '../img/icon_idx_sleep.png?ver=20231201',\n",
       "  '생활지수': '수면지수',\n",
       "  '지수': '20',\n",
       "  '안내멘트': '수면을 위해 적정 온습도를 유지하세요'},\n",
       " {'이미지': '../img/icon_idx_umb.png?ver=20231201',\n",
       "  '생활지수': '우산지수',\n",
       "  '지수': '60',\n",
       "  '안내멘트': '우산 꼭 챙겨서 외출하세요'},\n",
       " {'이미지': '../img/icon_life_uv.png?ver=20231201',\n",
       "  '생활지수': '자외선지수',\n",
       "  '지수': '1',\n",
       "  '안내멘트': '오늘은 안심하고 야외 활동하세요'},\n",
       " {'이미지': '../img/icon_life_cold.png?ver=20231201',\n",
       "  '생활지수': '감기지수',\n",
       "  '지수': '3',\n",
       "  '안내멘트': '감기지수가 높으니 체온 유지는 필수'},\n",
       " {'이미지': '../img/icon_life_freez.png?ver=20231201',\n",
       "  '생활지수': '동파지수',\n",
       "  '지수': '25',\n",
       "  '안내멘트': '오늘은 동파 걱정 끝!'}]"
      ]
     },
     "execution_count": 16,
     "metadata": {},
     "output_type": "execute_result"
    }
   ],
   "source": [
    "data"
   ]
  },
  {
   "cell_type": "code",
   "execution_count": null,
   "metadata": {},
   "outputs": [],
   "source": []
  }
 ],
 "metadata": {
  "kernelspec": {
   "display_name": "Python 3",
   "language": "python",
   "name": "python3"
  },
  "language_info": {
   "codemirror_mode": {
    "name": "ipython",
    "version": 3
   },
   "file_extension": ".py",
   "mimetype": "text/x-python",
   "name": "python",
   "nbconvert_exporter": "python",
   "pygments_lexer": "ipython3",
   "version": "3.11.4"
  }
 },
 "nbformat": 4,
 "nbformat_minor": 2
}
