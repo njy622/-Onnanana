{
 "cells": [
  {
   "cell_type": "code",
   "execution_count": 1,
   "metadata": {},
   "outputs": [
    {
     "name": "stdout",
     "output_type": "stream",
     "text": [
      "{'일시': '2023-12-01', '지점명': '서울', '평균기온': '-3.2', '최저기온': '-6.8', '최고기온': '0.7', '일강수량': '', '평균풍속': '2.0', '일적설량': ''}\n",
      "{'일시': '2023-12-02', '지점명': '서울', '평균기온': '2.0', '최저기온': '-4.4', '최고기온': '8.0', '일강수량': '0.0', '평균풍속': '2.4', '일적설량': ''}\n",
      "{'일시': '2023-12-03', '지점명': '서울', '평균기온': '0.8', '최저기온': '-2.8', '최고기온': '6.0', '일강수량': '', '평균풍속': '1.7', '일적설량': ''}\n",
      "{'일시': '2023-12-04', '지점명': '서울', '평균기온': '2.7', '최저기온': '-3.0', '최고기온': '9.4', '일강수량': '', '평균풍속': '1.6', '일적설량': ''}\n",
      "{'일시': '2023-12-05', '지점명': '서울', '평균기온': '6.8', '최저기온': '3.8', '최고기온': '12.6', '일강수량': '', '평균풍속': '2.0', '일적설량': ''}\n",
      "{'일시': '2023-12-06', '지점명': '서울', '평균기온': '6.1', '최저기온': '3.9', '최고기온': '8.7', '일강수량': '3.8', '평균풍속': '2.3', '일적설량': ''}\n",
      "{'일시': '2023-12-07', '지점명': '서울', '평균기온': '6.6', '최저기온': '0.8', '최고기온': '11.4', '일강수량': '', '평균풍속': '2.6', '일적설량': ''}\n",
      "{'일시': '2023-12-08', '지점명': '서울', '평균기온': '11.2', '최저기온': '5.1', '최고기온': '16.8', '일강수량': '', '평균풍속': '3.0', '일적설량': ''}\n",
      "{'일시': '2023-12-09', '지점명': '서울', '평균기온': '13.7', '최저기온': '11.7', '최고기온': '16.2', '일강수량': '', '평균풍속': '2.0', '일적설량': ''}\n",
      "{'일시': '2023-12-10', '지점명': '서울', '평균기온': '11.4', '최저기온': '6.7', '최고기온': '15.5', '일강수량': '0.0', '평균풍속': '', '일적설량': ''}\n",
      "{'일시': '2023-12-11', '지점명': '서울', '평균기온': '8.9', '최저기온': '5.0', '최고기온': '12.3', '일강수량': '11.4', '평균풍속': '', '일적설량': ''}\n",
      "{'일시': '2023-12-12', '지점명': '서울', '평균기온': '5.4', '최저기온': '3.5', '최고기온': '9.3', '일강수량': '0.4', '평균풍속': '2.7', '일적설량': ''}\n",
      "{'일시': '2023-12-13', '지점명': '서울', '평균기온': '6.8', '최저기온': '2.6', '최고기온': '10.3', '일강수량': '', '평균풍속': '2.4', '일적설량': ''}\n",
      "{'일시': '2023-12-14', '지점명': '서울', '평균기온': '7.6', '최저기온': '6.2', '최고기온': '9.1', '일강수량': '17.0', '평균풍속': '4.5', '일적설량': ''}\n"
     ]
    }
   ],
   "source": [
    "    \n",
    "def weather_data():\n",
    "    import pandas as pd\n",
    "    from datetime import datetime, timedelta\n",
    "    import requests\n",
    "\n",
    "    base_url = 'http://apis.data.go.kr/1360000/AsosDalyInfoService/getWthrDataList'\n",
    "    with open('keys/일자료api.txt') as file:\n",
    "        service_key = file.read()       # 발급받은 기상청 API 키 입력\n",
    "    results_list = []\n",
    "    \n",
    "    now = datetime.now() # 현재 시각 데이터 생성\n",
    "    endDt = (now-timedelta(days=1)).strftime('%Y%m%d') # 하루 전 데이터\n",
    "    \n",
    "    params = {\n",
    "        'serviceKey': service_key,\n",
    "        'numOfRows': 31, # 한달 31일\n",
    "        'pageNo0': 1,\n",
    "        'dataType': 'JSON',\n",
    "        'dataCd': 'ASOS',   # 자료 코드\n",
    "        'dateCd': 'DAY',    # 날짜 코드\n",
    "        'startDt': '20231201',  # 시작일 (YYYYMMDD)\n",
    "        'endDt': endDt,    # 종료일 (HHMM)\n",
    "        'stnIds': '108'     # 지점 번호 ex)서울\n",
    "    }\n",
    "\n",
    "    res = requests.get(url=base_url, params=params)\n",
    "    data = res.json()['response']['body']['items']['item']\n",
    "\n",
    "    for item in data:\n",
    "        results = {\n",
    "            '일시': item['tm'],\n",
    "            '지점명': item['stnNm'],\n",
    "            '평균기온': item['avgTa'],\n",
    "            '최저기온': item['minTa'],\n",
    "            '최고기온': item['maxTa'],\n",
    "            '일강수량': item['sumRn'],\n",
    "            '평균풍속': item['avgWs'],\n",
    "            '일적설량': item['ddMefs']\n",
    "        }\n",
    "\n",
    "        results_list.append(results)\n",
    "\n",
    "    return results_list\n",
    "\n",
    "# 테스트 코드\n",
    "if __name__ == \"__main__\":\n",
    "    results = weather_data()\n",
    "    for result in results:\n",
    "        print(result)"
   ]
  },
  {
   "cell_type": "code",
   "execution_count": null,
   "metadata": {},
   "outputs": [],
   "source": []
  }
 ],
 "metadata": {
  "kernelspec": {
   "display_name": "base",
   "language": "python",
   "name": "python3"
  },
  "language_info": {
   "codemirror_mode": {
    "name": "ipython",
    "version": 3
   },
   "file_extension": ".py",
   "mimetype": "text/x-python",
   "name": "python",
   "nbconvert_exporter": "python",
   "pygments_lexer": "ipython3",
   "version": "3.11.4"
  }
 },
 "nbformat": 4,
 "nbformat_minor": 2
}
