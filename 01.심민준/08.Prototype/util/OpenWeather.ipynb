{
 "cells": [
  {
   "cell_type": "markdown",
   "metadata": {},
   "source": [
    "### OpenWeather API 2.5"
   ]
  },
  {
   "cell_type": "code",
   "execution_count": 1,
   "metadata": {},
   "outputs": [],
   "source": [
    "import requests"
   ]
  },
  {
   "cell_type": "code",
   "execution_count": 2,
   "metadata": {},
   "outputs": [],
   "source": [
    "with open('../static/keys/OpenWeatherApikey.txt') as file:\n",
    "    weather_key = file.read()"
   ]
  },
  {
   "cell_type": "code",
   "execution_count": 3,
   "metadata": {},
   "outputs": [
    {
     "data": {
      "text/plain": [
       "{'lat': 37.526,\n",
       " 'lon': 126.8964,\n",
       " 'timezone': 'Asia/Seoul',\n",
       " 'timezone_offset': 32400,\n",
       " 'current': {'dt': 1696400524,\n",
       "  'sunrise': 1696368580,\n",
       "  'sunset': 1696410773,\n",
       "  'temp': 21.98,\n",
       "  'feels_like': 22.01,\n",
       "  'pressure': 1012,\n",
       "  'humidity': 68,\n",
       "  'dew_point': 15.81,\n",
       "  'uvi': 2.71,\n",
       "  'clouds': 75,\n",
       "  'visibility': 10000,\n",
       "  'wind_speed': 3.6,\n",
       "  'wind_deg': 250,\n",
       "  'weather': [{'id': 500,\n",
       "    'main': 'Rain',\n",
       "    'description': '실 비',\n",
       "    'icon': '10d'}],\n",
       "  'rain': {'1h': 0.55}},\n",
       " 'daily': [{'dt': 1696388400,\n",
       "   'sunrise': 1696368580,\n",
       "   'sunset': 1696410773,\n",
       "   'moonrise': 1696421520,\n",
       "   'moonset': 1696387800,\n",
       "   'moon_phase': 0.67,\n",
       "   'temp': {'day': 22.47,\n",
       "    'min': 16.26,\n",
       "    'max': 22.47,\n",
       "    'night': 16.26,\n",
       "    'eve': 21.27,\n",
       "    'morn': 16.67},\n",
       "   'feels_like': {'day': 22.18, 'night': 14.93, 'eve': 21.2, 'morn': 16.27},\n",
       "   'pressure': 1013,\n",
       "   'humidity': 54,\n",
       "   'dew_point': 12.71,\n",
       "   'wind_speed': 7.05,\n",
       "   'wind_deg': 328,\n",
       "   'wind_gust': 13.05,\n",
       "   'weather': [{'id': 502,\n",
       "     'main': 'Rain',\n",
       "     'description': '강한 비',\n",
       "     'icon': '10d'}],\n",
       "   'clouds': 67,\n",
       "   'pop': 0.78,\n",
       "   'rain': 12.52,\n",
       "   'uvi': 5.12},\n",
       "  {'dt': 1696474800,\n",
       "   'sunrise': 1696455032,\n",
       "   'sunset': 1696497082,\n",
       "   'moonrise': 1696510860,\n",
       "   'moonset': 1696477980,\n",
       "   'moon_phase': 0.7,\n",
       "   'temp': {'day': 17.48,\n",
       "    'min': 13.11,\n",
       "    'max': 18.85,\n",
       "    'night': 14.55,\n",
       "    'eve': 16.65,\n",
       "    'morn': 13.45},\n",
       "   'feels_like': {'day': 16.07, 'night': 13.13, 'eve': 15.28, 'morn': 11.63},\n",
       "   'pressure': 1016,\n",
       "   'humidity': 30,\n",
       "   'dew_point': -0.66,\n",
       "   'wind_speed': 6.5,\n",
       "   'wind_deg': 333,\n",
       "   'wind_gust': 15.37,\n",
       "   'weather': [{'id': 800,\n",
       "     'main': 'Clear',\n",
       "     'description': '맑음',\n",
       "     'icon': '01d'}],\n",
       "   'clouds': 0,\n",
       "   'pop': 0,\n",
       "   'uvi': 5.14},\n",
       "  {'dt': 1696561200,\n",
       "   'sunrise': 1696541485,\n",
       "   'sunset': 1696583392,\n",
       "   'moonrise': 1696600560,\n",
       "   'moonset': 1696567740,\n",
       "   'moon_phase': 0.75,\n",
       "   'temp': {'day': 19.25,\n",
       "    'min': 12.81,\n",
       "    'max': 21.03,\n",
       "    'night': 17.57,\n",
       "    'eve': 19.67,\n",
       "    'morn': 12.92},\n",
       "   'feels_like': {'day': 17.94, 'night': 16.51, 'eve': 18.58, 'morn': 11.44},\n",
       "   'pressure': 1018,\n",
       "   'humidity': 27,\n",
       "   'dew_point': -0.32,\n",
       "   'wind_speed': 4.64,\n",
       "   'wind_deg': 326,\n",
       "   'wind_gust': 7.17,\n",
       "   'weather': [{'id': 804,\n",
       "     'main': 'Clouds',\n",
       "     'description': '온흐림',\n",
       "     'icon': '04d'}],\n",
       "   'clouds': 85,\n",
       "   'pop': 0,\n",
       "   'uvi': 4.89},\n",
       "  {'dt': 1696647600,\n",
       "   'sunrise': 1696627938,\n",
       "   'sunset': 1696669703,\n",
       "   'moonrise': 1696690560,\n",
       "   'moonset': 1696656960,\n",
       "   'moon_phase': 0.77,\n",
       "   'temp': {'day': 20.79,\n",
       "    'min': 14.82,\n",
       "    'max': 22.28,\n",
       "    'night': 19.63,\n",
       "    'eve': 20.78,\n",
       "    'morn': 15.02},\n",
       "   'feels_like': {'day': 19.79, 'night': 18.8, 'eve': 19.96, 'morn': 13.91},\n",
       "   'pressure': 1020,\n",
       "   'humidity': 33,\n",
       "   'dew_point': 3.96,\n",
       "   'wind_speed': 2.74,\n",
       "   'wind_deg': 121,\n",
       "   'wind_gust': 3.87,\n",
       "   'weather': [{'id': 804,\n",
       "     'main': 'Clouds',\n",
       "     'description': '온흐림',\n",
       "     'icon': '04d'}],\n",
       "   'clouds': 100,\n",
       "   'pop': 0,\n",
       "   'uvi': 4.97},\n",
       "  {'dt': 1696734000,\n",
       "   'sunrise': 1696714391,\n",
       "   'sunset': 1696756014,\n",
       "   'moonrise': 0,\n",
       "   'moonset': 1696745700,\n",
       "   'moon_phase': 0.8,\n",
       "   'temp': {'day': 21.34,\n",
       "    'min': 16,\n",
       "    'max': 21.34,\n",
       "    'night': 19.01,\n",
       "    'eve': 20.53,\n",
       "    'morn': 16},\n",
       "   'feels_like': {'day': 20.7, 'night': 18.3, 'eve': 19.84, 'morn': 15.35},\n",
       "   'pressure': 1024,\n",
       "   'humidity': 45,\n",
       "   'dew_point': 8.61,\n",
       "   'wind_speed': 3.22,\n",
       "   'wind_deg': 107,\n",
       "   'wind_gust': 4.81,\n",
       "   'weather': [{'id': 804,\n",
       "     'main': 'Clouds',\n",
       "     'description': '온흐림',\n",
       "     'icon': '04d'}],\n",
       "   'clouds': 99,\n",
       "   'pop': 0,\n",
       "   'uvi': 4.94},\n",
       "  {'dt': 1696820400,\n",
       "   'sunrise': 1696800845,\n",
       "   'sunset': 1696842325,\n",
       "   'moonrise': 1696780620,\n",
       "   'moonset': 1696834080,\n",
       "   'moon_phase': 0.83,\n",
       "   'temp': {'day': 20.32,\n",
       "    'min': 15.3,\n",
       "    'max': 22,\n",
       "    'night': 18.67,\n",
       "    'eve': 20.44,\n",
       "    'morn': 15.3},\n",
       "   'feels_like': {'day': 19.37, 'night': 17.79, 'eve': 19.53, 'morn': 14.4},\n",
       "   'pressure': 1025,\n",
       "   'humidity': 37,\n",
       "   'dew_point': 5.05,\n",
       "   'wind_speed': 2.36,\n",
       "   'wind_deg': 17,\n",
       "   'wind_gust': 3.94,\n",
       "   'weather': [{'id': 804,\n",
       "     'main': 'Clouds',\n",
       "     'description': '온흐림',\n",
       "     'icon': '04d'}],\n",
       "   'clouds': 100,\n",
       "   'pop': 0,\n",
       "   'uvi': 5},\n",
       "  {'dt': 1696906800,\n",
       "   'sunrise': 1696887299,\n",
       "   'sunset': 1696928638,\n",
       "   'moonrise': 1696870680,\n",
       "   'moonset': 1696922100,\n",
       "   'moon_phase': 0.86,\n",
       "   'temp': {'day': 21.64,\n",
       "    'min': 15.34,\n",
       "    'max': 22.65,\n",
       "    'night': 18.71,\n",
       "    'eve': 20.36,\n",
       "    'morn': 15.34},\n",
       "   'feels_like': {'day': 20.98, 'night': 18.07, 'eve': 19.81, 'morn': 14.5},\n",
       "   'pressure': 1021,\n",
       "   'humidity': 43,\n",
       "   'dew_point': 8.22,\n",
       "   'wind_speed': 4.49,\n",
       "   'wind_deg': 299,\n",
       "   'wind_gust': 6.79,\n",
       "   'weather': [{'id': 800,\n",
       "     'main': 'Clear',\n",
       "     'description': '맑음',\n",
       "     'icon': '01d'}],\n",
       "   'clouds': 0,\n",
       "   'pop': 0.01,\n",
       "   'uvi': 5},\n",
       "  {'dt': 1696993200,\n",
       "   'sunrise': 1696973753,\n",
       "   'sunset': 1697014950,\n",
       "   'moonrise': 1696960620,\n",
       "   'moonset': 1697009940,\n",
       "   'moon_phase': 0.89,\n",
       "   'temp': {'day': 21.24,\n",
       "    'min': 15.07,\n",
       "    'max': 22.52,\n",
       "    'night': 19.24,\n",
       "    'eve': 20.72,\n",
       "    'morn': 15.07},\n",
       "   'feels_like': {'day': 20.46, 'night': 18.53, 'eve': 19.97, 'morn': 14.36},\n",
       "   'pressure': 1022,\n",
       "   'humidity': 40,\n",
       "   'dew_point': 7.13,\n",
       "   'wind_speed': 1.6,\n",
       "   'wind_deg': 327,\n",
       "   'wind_gust': 2.91,\n",
       "   'weather': [{'id': 804,\n",
       "     'main': 'Clouds',\n",
       "     'description': '온흐림',\n",
       "     'icon': '04d'}],\n",
       "   'clouds': 100,\n",
       "   'pop': 0,\n",
       "   'uvi': 5}]}"
      ]
     },
     "execution_count": 3,
     "metadata": {},
     "output_type": "execute_result"
    }
   ],
   "source": [
    "base_url = 'https://api.openweathermap.org/data/2.5/onecall'\n",
    "lat, lng = 37.5260, 126.8964\n",
    "url = f'{base_url}?lat={lat}&lon={lng}&appid={weather_key}&units=metric&lang=kr&exclude=minutely,hourly,daliy,alerts'\n",
    "result = requests.get(url).json()\n",
    "result\n"
   ]
  },
  {
   "cell_type": "code",
   "execution_count": 4,
   "metadata": {},
   "outputs": [
    {
     "data": {
      "text/plain": [
       "dict_keys(['dt', 'sunrise', 'sunset', 'temp', 'feels_like', 'pressure', 'humidity', 'dew_point', 'uvi', 'clouds', 'visibility', 'wind_speed', 'wind_deg', 'weather', 'rain'])"
      ]
     },
     "execution_count": 4,
     "metadata": {},
     "output_type": "execute_result"
    }
   ],
   "source": [
    "result['current'].keys()"
   ]
  },
  {
   "cell_type": "code",
   "execution_count": 5,
   "metadata": {},
   "outputs": [
    {
     "data": {
      "text/plain": [
       "21.98"
      ]
     },
     "execution_count": 5,
     "metadata": {},
     "output_type": "execute_result"
    }
   ],
   "source": [
    "temp = result['current']['temp']\n",
    "temp"
   ]
  },
  {
   "cell_type": "code",
   "execution_count": 6,
   "metadata": {},
   "outputs": [
    {
     "data": {
      "text/plain": [
       "[{'id': 500, 'main': 'Rain', 'description': '실 비', 'icon': '10d'}]"
      ]
     },
     "execution_count": 6,
     "metadata": {},
     "output_type": "execute_result"
    }
   ],
   "source": [
    "\n",
    "result['current']['weather']"
   ]
  },
  {
   "cell_type": "code",
   "execution_count": 7,
   "metadata": {},
   "outputs": [
    {
     "data": {
      "text/plain": [
       "'실 비'"
      ]
     },
     "execution_count": 7,
     "metadata": {},
     "output_type": "execute_result"
    }
   ],
   "source": [
    "desc = result['current']['weather'][0]['description']\n",
    "desc"
   ]
  },
  {
   "cell_type": "code",
   "execution_count": 8,
   "metadata": {},
   "outputs": [],
   "source": [
    "icon_code = result['current']['weather'][0]['icon']\n",
    "icon_url = f'http://api.openweathermap.org/img/w/{icon_code}.png'\n"
   ]
  },
  {
   "cell_type": "code",
   "execution_count": 9,
   "metadata": {},
   "outputs": [
    {
     "data": {
      "image/png": "[encoded data removed]",
      "text/plain": [
       "<Figure size 640x480 with 1 Axes>"
      ]
     },
     "metadata": {},
     "output_type": "display_data"
    }
   ],
   "source": [
    "import urllib.request\n",
    "from PIL import Image\n",
    "import matplotlib.pyplot as plt\n",
    "urllib.request.urlretrieve(icon_url, '../static/img/icon.png')\n",
    "img = Image.open('../static/img/icon.png')\n",
    "plt.imshow(img), plt.axis('off');"
   ]
  },
  {
   "cell_type": "code",
   "execution_count": 10,
   "metadata": {},
   "outputs": [
    {
     "data": {
      "text/plain": [
       "'<img src=\"http://api.openweathermap.org/img/w/10d.png\" height=\"32\"><strong>실 비</strong>,\\n            온도: <strong>22.0</strong>&#8451'"
      ]
     },
     "execution_count": 10,
     "metadata": {},
     "output_type": "execute_result"
    }
   ],
   "source": [
    "html = f'''<img src=\"{icon_url}\" height=\"32\"><strong>{desc}</strong>,\n",
    "            온도: <strong>{temp:.1f}</strong>&#8451'''\n",
    "html"
   ]
  }
 ],
 "metadata": {
  "kernelspec": {
   "display_name": "base",
   "language": "python",
   "name": "python3"
  },
  "language_info": {
   "codemirror_mode": {
    "name": "ipython",
    "version": 3
   },
   "file_extension": ".py",
   "mimetype": "text/x-python",
   "name": "python",
   "nbconvert_exporter": "python",
   "pygments_lexer": "ipython3",
   "version": "3.11.4"
  },
  "orig_nbformat": 4
 },
 "nbformat": 4,
 "nbformat_minor": 2
}
