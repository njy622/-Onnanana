{
 "cells": [
  {
   "cell_type": "code",
   "execution_count": 25,
   "metadata": {},
   "outputs": [],
   "source": [
    "import pandas as pd"
   ]
  },
  {
   "cell_type": "code",
   "execution_count": 26,
   "metadata": {},
   "outputs": [
    {
     "data": {
      "text/html": [
       "<div>\n",
       "<style scoped>\n",
       "    .dataframe tbody tr th:only-of-type {\n",
       "        vertical-align: middle;\n",
       "    }\n",
       "\n",
       "    .dataframe tbody tr th {\n",
       "        vertical-align: top;\n",
       "    }\n",
       "\n",
       "    .dataframe thead th {\n",
       "        text-align: right;\n",
       "    }\n",
       "</style>\n",
       "<table border=\"1\" class=\"dataframe\">\n",
       "  <thead>\n",
       "    <tr style=\"text-align: right;\">\n",
       "      <th></th>\n",
       "      <th>광역시도</th>\n",
       "      <th>시군구</th>\n",
       "      <th>격자 X</th>\n",
       "      <th>격자 Y</th>\n",
       "    </tr>\n",
       "  </thead>\n",
       "  <tbody>\n",
       "    <tr>\n",
       "      <th>0</th>\n",
       "      <td>서울특별시</td>\n",
       "      <td>종로구</td>\n",
       "      <td>60</td>\n",
       "      <td>127</td>\n",
       "    </tr>\n",
       "    <tr>\n",
       "      <th>1</th>\n",
       "      <td>서울특별시</td>\n",
       "      <td>중구</td>\n",
       "      <td>60</td>\n",
       "      <td>127</td>\n",
       "    </tr>\n",
       "    <tr>\n",
       "      <th>2</th>\n",
       "      <td>서울특별시</td>\n",
       "      <td>용산구</td>\n",
       "      <td>60</td>\n",
       "      <td>126</td>\n",
       "    </tr>\n",
       "    <tr>\n",
       "      <th>3</th>\n",
       "      <td>서울특별시</td>\n",
       "      <td>성동구</td>\n",
       "      <td>61</td>\n",
       "      <td>127</td>\n",
       "    </tr>\n",
       "    <tr>\n",
       "      <th>4</th>\n",
       "      <td>서울특별시</td>\n",
       "      <td>광진구</td>\n",
       "      <td>62</td>\n",
       "      <td>126</td>\n",
       "    </tr>\n",
       "  </tbody>\n",
       "</table>\n",
       "</div>"
      ],
      "text/plain": [
       "    광역시도  시군구  격자 X  격자 Y\n",
       "0  서울특별시  종로구    60   127\n",
       "1  서울특별시   중구    60   127\n",
       "2  서울특별시  용산구    60   126\n",
       "3  서울특별시  성동구    61   127\n",
       "4  서울특별시  광진구    62   126"
      ]
     },
     "execution_count": 26,
     "metadata": {},
     "output_type": "execute_result"
    }
   ],
   "source": [
    "# 데이터 불러오기\n",
    "df = pd.read_csv('data/위도경도_전처리.csv')\n",
    "df.head()"
   ]
  },
  {
   "cell_type": "code",
   "execution_count": 27,
   "metadata": {},
   "outputs": [],
   "source": [
    "tmp_gu_dict = {\n",
    "    '수원': ['수원시장안구', '수원시권선구', '수원시팔달구', '수원시영통구'], \n",
    "    '성남': ['성남시수정구', '성남시중원구', '성남시분당구'], \n",
    "    '안양': ['안양시만안구', '안양시동안구'], \n",
    "    '안산': ['안산시상록구', '안산시단원구'], \n",
    "    '고양': ['고양시덕양구', '고양시일산동구', '고양시일산서구'], \n",
    "    '용인': ['용인시처인구', '용인시기흥구', '용인시수지구'], \n",
    "    '청주': ['청주시상당구', '청주시서원구', '청주시흥덕구', '청주시청원구'], \n",
    "    '천안': ['천안시동남구', '천안시서북구'], \n",
    "    '전주': ['전주시완산구', '전주시덕진구'], \n",
    "    '포항': ['포항시남구', '포항시북구'], \n",
    "    '창원': ['창원시의창구', '창원시성산구', '창원시진해구', '창원시마산합포구', '창원시마산회원구']\n",
    "}"
   ]
  },
  {
   "cell_type": "code",
   "execution_count": 28,
   "metadata": {},
   "outputs": [],
   "source": [
    "metro_list = ['서울특별시','부산광역시','대구광역시','인천광역시','대전광역시','광주광역시','울산광역시', '세종특별자치시']"
   ]
  },
  {
   "cell_type": "code",
   "execution_count": 29,
   "metadata": {},
   "outputs": [],
   "source": [
    "si_name = [None] * len(df)\n",
    "\n",
    "for i in df.index:\n",
    "    if df.광역시도[i] in metro_list:\n",
    "        if len(df.시군구[i]) == 2:\n",
    "            si_name[i] = df.광역시도[i][:2] + ' ' + df.시군구[i]      # 서울 중구, 대전 서구\n",
    "        elif len(df.시군구[i]) == 7:\n",
    "            si_name[i] = df.시군구[i][:2]      # 세종특별자치시\n",
    "        else:\n",
    "            si_name[i] = df.광역시도[i][:2] + ' ' + df.시군구[i][:-1] # 서울 용산, 서울 영등포\n",
    "    else:\n",
    "        if df.시군구[i][:-1] == '고성':\n",
    "            if df.광역시도[i] == '강원특별자치도':\n",
    "                si_name[i] = '고성(강원)'\n",
    "            else:\n",
    "                si_name[i] = '고성(경남)' \n",
    "        else:\n",
    "            si_name[i] = df.시군구[i][:-1]     # 광명, 의정부\n",
    "            \n",
    "        for key, value in tmp_gu_dict.items():\n",
    "            if df.시군구[i] in value:\n",
    "                if len(df.시군구[i]) == 5:\n",
    "                    si_name[i] = df.시군구[i].replace('시', ' ')      # 포항 북구, 포함 남구\n",
    "                elif len(df.시군구[i]) == 8:\n",
    "                    si_name[i] = key + ' ' + df.시군구[i][2:-1].replace('시마산', '')      # 창원 합포, 창원 회원\n",
    "                else:\n",
    "                    si_name[i] = df.시군구[i].replace('시', ' ')[:-1]     # 수원 장안, 고양 일산동\n"
   ]
  },
  {
   "cell_type": "code",
   "execution_count": 30,
   "metadata": {},
   "outputs": [
    {
     "name": "stdout",
     "output_type": "stream",
     "text": [
      "['서울 종로', '서울 중구', '서울 용산', '서울 성동', '서울 광진', '서울 동대문', '서울 중랑', '서울 성북', '서울 강북', '서울 도봉', '서울 노원', '서울 은평', '서울 서대문', '서울 마포', '서울 양천', '서울 강서', '서울 구로', '서울 금천', '서울 영등포', '서울 동작', '서울 관악', '서울 서초', '서울 강남', '서울 송파', '서울 강동', '부산 중구', '부산 서구', '부산 동구', '부산 영도', '부산 부산진', '부산 동래', '부산 남구', '부산 북구', '부산 해운대', '부산 사하', '부산 금정', '부산 강서', '부산 연제', '부산 수영', '부산 사상', '부산 기장', '대구 중구', '대구 동구', '대구 서구', '대구 남구', '대구 북구', '대구 수성', '대구 달서', '대구 달성', '인천 중구', '인천 동구', '인천 미추홀', '인천 연수', '인천 남동', '인천 부평', '인천 계양', '인천 서구', '인천 강화', '인천 옹진', '광주 동구', '광주 서구', '광주 남구', '광주 북구', '광주 광산', '대전 동구', '대전 중구', '대전 서구', '대전 유성', '대전 대덕', '울산 중구', '울산 남구', '울산 동구', '울산 북구', '울산 울주', '세종', '수원 장안', '수원 권선', '수원 팔달', '수원 영통', '성남 수정', '성남 중원', '성남 분당', '의정부', '안양 만안', '안양 동안', '부천', '광명', '평택', '동두천', '안산 상록', '안산 단원', '고양 덕양', '고양 일산동', '고양 일산서', '과천', '구리', '남양주', '오산', '시흥', '군포', '의왕', '하남', '용인 처인', '용인 기흥', '용인 수지', '파주', '이천', '안성', '김포', '화성', '광주', '양주', '포천', '여주', '연천', '가평', '양평', '청주 상당', '청주 서원', '청주 흥덕', '청주 청원', '충주', '제천', '보은', '옥천', '영동', '증평', '진천', '괴산', '음성', '단양', '천안 동남', '천안 서북', '공주', '보령', '아산', '서산', '논산', '계룡', '당진', '금산', '부여', '서천', '청양', '홍성', '예산', '태안', '전주 완산', '전주 덕진', '군산', '익산', '정읍', '남원', '김제', '완주', '진안', '무주', '장수', '임실', '순창', '고창', '부안', '목포', '여수', '순천', '나주', '광양', '담양', '곡성', '구례', '고흥', '보성', '화순', '장흥', '강진', '해남', '영암', '무안', '함평', '영광', '장성', '완도', '진도', '신안', '포항 남구', '포항 북구', '경주', '김천', '안동', '구미', '영주', '영천', '상주', '문경', '경산', '군위', '의성', '청송', '영양', '영덕', '청도', '고령', '성주', '칠곡', '예천', '봉화', '울진', '울릉', '창원 의창', '창원 성산', '창원 합포', '창원 회원', '창원 진해', '진주', '통영', '사천', '김해', '밀양', '거제', '양산', '의령', '함안', '창녕', '고성(경남)', '남해', '하동', '산청', '함양', '거창', '합천', '제주', '서귀포', '춘천', '원주', '강릉', '동해', '태백', '속초', '삼척', '홍천', '횡성', '영월', '평창', '정선', '철원', '화천', '양구', '인제', '고성(강원)', '양양']\n"
     ]
    }
   ],
   "source": [
    "print(si_name)"
   ]
  },
  {
   "cell_type": "code",
   "execution_count": 31,
   "metadata": {},
   "outputs": [
    {
     "data": {
      "text/html": [
       "<div>\n",
       "<style scoped>\n",
       "    .dataframe tbody tr th:only-of-type {\n",
       "        vertical-align: middle;\n",
       "    }\n",
       "\n",
       "    .dataframe tbody tr th {\n",
       "        vertical-align: top;\n",
       "    }\n",
       "\n",
       "    .dataframe thead th {\n",
       "        text-align: right;\n",
       "    }\n",
       "</style>\n",
       "<table border=\"1\" class=\"dataframe\">\n",
       "  <thead>\n",
       "    <tr style=\"text-align: right;\">\n",
       "      <th></th>\n",
       "      <th>광역시도</th>\n",
       "      <th>시군구</th>\n",
       "      <th>격자 X</th>\n",
       "      <th>격자 Y</th>\n",
       "    </tr>\n",
       "    <tr>\n",
       "      <th>ID</th>\n",
       "      <th></th>\n",
       "      <th></th>\n",
       "      <th></th>\n",
       "      <th></th>\n",
       "    </tr>\n",
       "  </thead>\n",
       "  <tbody>\n",
       "    <tr>\n",
       "      <th>서울 종로</th>\n",
       "      <td>서울특별시</td>\n",
       "      <td>종로구</td>\n",
       "      <td>60</td>\n",
       "      <td>127</td>\n",
       "    </tr>\n",
       "    <tr>\n",
       "      <th>서울 중구</th>\n",
       "      <td>서울특별시</td>\n",
       "      <td>중구</td>\n",
       "      <td>60</td>\n",
       "      <td>127</td>\n",
       "    </tr>\n",
       "    <tr>\n",
       "      <th>서울 용산</th>\n",
       "      <td>서울특별시</td>\n",
       "      <td>용산구</td>\n",
       "      <td>60</td>\n",
       "      <td>126</td>\n",
       "    </tr>\n",
       "    <tr>\n",
       "      <th>서울 성동</th>\n",
       "      <td>서울특별시</td>\n",
       "      <td>성동구</td>\n",
       "      <td>61</td>\n",
       "      <td>127</td>\n",
       "    </tr>\n",
       "    <tr>\n",
       "      <th>서울 광진</th>\n",
       "      <td>서울특별시</td>\n",
       "      <td>광진구</td>\n",
       "      <td>62</td>\n",
       "      <td>126</td>\n",
       "    </tr>\n",
       "  </tbody>\n",
       "</table>\n",
       "</div>"
      ],
      "text/plain": [
       "        광역시도  시군구  격자 X  격자 Y\n",
       "ID                           \n",
       "서울 종로  서울특별시  종로구    60   127\n",
       "서울 중구  서울특별시   중구    60   127\n",
       "서울 용산  서울특별시  용산구    60   126\n",
       "서울 성동  서울특별시  성동구    61   127\n",
       "서울 광진  서울특별시  광진구    62   126"
      ]
     },
     "execution_count": 31,
     "metadata": {},
     "output_type": "execute_result"
    }
   ],
   "source": [
    "df.index = si_name\n",
    "df.index.name = 'ID'\n",
    "df.head()"
   ]
  },
  {
   "cell_type": "code",
   "execution_count": 32,
   "metadata": {},
   "outputs": [],
   "source": [
    "# csv파일로 저장\n",
    "df.to_csv('data/위도경도_최종.csv', encoding='utf-8')"
   ]
  }
 ],
 "metadata": {
  "kernelspec": {
   "display_name": "base",
   "language": "python",
   "name": "python3"
  },
  "language_info": {
   "codemirror_mode": {
    "name": "ipython",
    "version": 3
   },
   "file_extension": ".py",
   "mimetype": "text/x-python",
   "name": "python",
   "nbconvert_exporter": "python",
   "pygments_lexer": "ipython3",
   "version": "3.11.4"
  }
 },
 "nbformat": 4,
 "nbformat_minor": 2
}
