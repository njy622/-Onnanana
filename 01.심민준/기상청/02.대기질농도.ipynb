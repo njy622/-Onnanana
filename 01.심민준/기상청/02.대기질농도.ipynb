{
 "cells": [
  {
   "cell_type": "code",
   "execution_count": 1,
   "metadata": {},
   "outputs": [],
   "source": [
    "import requests\n",
    "from datetime import datetime, timedelta\n",
    "from pprint import pprint"
   ]
  },
  {
   "cell_type": "code",
   "execution_count": 2,
   "metadata": {},
   "outputs": [],
   "source": [
    "# 측정소별 실시간 측정정보 조회 (매시 15분 내외 업데이트)\n",
    "base_url = \"http://apis.data.go.kr/B552584/ArpltnInforInqireSvc/getMsrstnAcctoRltmMesureDnsty\"\n",
    "with open('keys/에어코리아api.txt') as file:\n",
    "    service_key = file.read()       # 발급받은 에어코리아 API 키 입력"
   ]
  },
  {
   "cell_type": "code",
   "execution_count": 3,
   "metadata": {},
   "outputs": [
    {
     "ename": "JSONDecodeError",
     "evalue": "Expecting value: line 1 column 1 (char 0)",
     "output_type": "error",
     "traceback": [
      "\u001b[1;31m---------------------------------------------------------------------------\u001b[0m",
      "\u001b[1;31mJSONDecodeError\u001b[0m                           Traceback (most recent call last)",
      "File \u001b[1;32mc:\\Users\\human\\anaconda3\\Lib\\site-packages\\requests\\models.py:971\u001b[0m, in \u001b[0;36mResponse.json\u001b[1;34m(self, **kwargs)\u001b[0m\n\u001b[0;32m    970\u001b[0m \u001b[39mtry\u001b[39;00m:\n\u001b[1;32m--> 971\u001b[0m     \u001b[39mreturn\u001b[39;00m complexjson\u001b[39m.\u001b[39mloads(\u001b[39mself\u001b[39m\u001b[39m.\u001b[39mtext, \u001b[39m*\u001b[39m\u001b[39m*\u001b[39mkwargs)\n\u001b[0;32m    972\u001b[0m \u001b[39mexcept\u001b[39;00m JSONDecodeError \u001b[39mas\u001b[39;00m e:\n\u001b[0;32m    973\u001b[0m     \u001b[39m# Catch JSON-related errors and raise as requests.JSONDecodeError\u001b[39;00m\n\u001b[0;32m    974\u001b[0m     \u001b[39m# This aliases json.JSONDecodeError and simplejson.JSONDecodeError\u001b[39;00m\n",
      "File \u001b[1;32mc:\\Users\\human\\anaconda3\\Lib\\json\\__init__.py:346\u001b[0m, in \u001b[0;36mloads\u001b[1;34m(s, cls, object_hook, parse_float, parse_int, parse_constant, object_pairs_hook, **kw)\u001b[0m\n\u001b[0;32m    343\u001b[0m \u001b[39mif\u001b[39;00m (\u001b[39mcls\u001b[39m \u001b[39mis\u001b[39;00m \u001b[39mNone\u001b[39;00m \u001b[39mand\u001b[39;00m object_hook \u001b[39mis\u001b[39;00m \u001b[39mNone\u001b[39;00m \u001b[39mand\u001b[39;00m\n\u001b[0;32m    344\u001b[0m         parse_int \u001b[39mis\u001b[39;00m \u001b[39mNone\u001b[39;00m \u001b[39mand\u001b[39;00m parse_float \u001b[39mis\u001b[39;00m \u001b[39mNone\u001b[39;00m \u001b[39mand\u001b[39;00m\n\u001b[0;32m    345\u001b[0m         parse_constant \u001b[39mis\u001b[39;00m \u001b[39mNone\u001b[39;00m \u001b[39mand\u001b[39;00m object_pairs_hook \u001b[39mis\u001b[39;00m \u001b[39mNone\u001b[39;00m \u001b[39mand\u001b[39;00m \u001b[39mnot\u001b[39;00m kw):\n\u001b[1;32m--> 346\u001b[0m     \u001b[39mreturn\u001b[39;00m _default_decoder\u001b[39m.\u001b[39mdecode(s)\n\u001b[0;32m    347\u001b[0m \u001b[39mif\u001b[39;00m \u001b[39mcls\u001b[39m \u001b[39mis\u001b[39;00m \u001b[39mNone\u001b[39;00m:\n",
      "File \u001b[1;32mc:\\Users\\human\\anaconda3\\Lib\\json\\decoder.py:337\u001b[0m, in \u001b[0;36mJSONDecoder.decode\u001b[1;34m(self, s, _w)\u001b[0m\n\u001b[0;32m    333\u001b[0m \u001b[39m\u001b[39m\u001b[39m\"\"\"Return the Python representation of ``s`` (a ``str`` instance\u001b[39;00m\n\u001b[0;32m    334\u001b[0m \u001b[39mcontaining a JSON document).\u001b[39;00m\n\u001b[0;32m    335\u001b[0m \n\u001b[0;32m    336\u001b[0m \u001b[39m\"\"\"\u001b[39;00m\n\u001b[1;32m--> 337\u001b[0m obj, end \u001b[39m=\u001b[39m \u001b[39mself\u001b[39m\u001b[39m.\u001b[39mraw_decode(s, idx\u001b[39m=\u001b[39m_w(s, \u001b[39m0\u001b[39m)\u001b[39m.\u001b[39mend())\n\u001b[0;32m    338\u001b[0m end \u001b[39m=\u001b[39m _w(s, end)\u001b[39m.\u001b[39mend()\n",
      "File \u001b[1;32mc:\\Users\\human\\anaconda3\\Lib\\json\\decoder.py:355\u001b[0m, in \u001b[0;36mJSONDecoder.raw_decode\u001b[1;34m(self, s, idx)\u001b[0m\n\u001b[0;32m    354\u001b[0m \u001b[39mexcept\u001b[39;00m \u001b[39mStopIteration\u001b[39;00m \u001b[39mas\u001b[39;00m err:\n\u001b[1;32m--> 355\u001b[0m     \u001b[39mraise\u001b[39;00m JSONDecodeError(\u001b[39m\"\u001b[39m\u001b[39mExpecting value\u001b[39m\u001b[39m\"\u001b[39m, s, err\u001b[39m.\u001b[39mvalue) \u001b[39mfrom\u001b[39;00m \u001b[39mNone\u001b[39;00m\n\u001b[0;32m    356\u001b[0m \u001b[39mreturn\u001b[39;00m obj, end\n",
      "\u001b[1;31mJSONDecodeError\u001b[0m: Expecting value: line 1 column 1 (char 0)",
      "\nDuring handling of the above exception, another exception occurred:\n",
      "\u001b[1;31mJSONDecodeError\u001b[0m                           Traceback (most recent call last)",
      "\u001b[1;32md:\\WorkSpace\\Onnanana_second-Projct\\01.심민준\\기상청\\02.대기질농도.ipynb 셀 3\u001b[0m line \u001b[0;36m1\n\u001b[0;32m     <a href='vscode-notebook-cell:/d%3A/WorkSpace/Onnanana_second-Projct/01.%EC%8B%AC%EB%AF%BC%EC%A4%80/%EA%B8%B0%EC%83%81%EC%B2%AD/02.%EB%8C%80%EA%B8%B0%EC%A7%88%EB%86%8D%EB%8F%84.ipynb#W2sZmlsZQ%3D%3D?line=12'>13</a>\u001b[0m \u001b[39m# print(res.status_code, type(res.text), res.url)\u001b[39;00m\n\u001b[0;32m     <a href='vscode-notebook-cell:/d%3A/WorkSpace/Onnanana_second-Projct/01.%EC%8B%AC%EB%AF%BC%EC%A4%80/%EA%B8%B0%EC%83%81%EC%B2%AD/02.%EB%8C%80%EA%B8%B0%EC%A7%88%EB%86%8D%EB%8F%84.ipynb#W2sZmlsZQ%3D%3D?line=13'>14</a>\u001b[0m \u001b[39m# print()\u001b[39;00m\n\u001b[0;32m     <a href='vscode-notebook-cell:/d%3A/WorkSpace/Onnanana_second-Projct/01.%EC%8B%AC%EB%AF%BC%EC%A4%80/%EA%B8%B0%EC%83%81%EC%B2%AD/02.%EB%8C%80%EA%B8%B0%EC%A7%88%EB%86%8D%EB%8F%84.ipynb#W2sZmlsZQ%3D%3D?line=14'>15</a>\u001b[0m \u001b[39m# print(res.text)\u001b[39;00m\n\u001b[0;32m     <a href='vscode-notebook-cell:/d%3A/WorkSpace/Onnanana_second-Projct/01.%EC%8B%AC%EB%AF%BC%EC%A4%80/%EA%B8%B0%EC%83%81%EC%B2%AD/02.%EB%8C%80%EA%B8%B0%EC%A7%88%EB%86%8D%EB%8F%84.ipynb#W2sZmlsZQ%3D%3D?line=15'>16</a>\u001b[0m \n\u001b[0;32m     <a href='vscode-notebook-cell:/d%3A/WorkSpace/Onnanana_second-Projct/01.%EC%8B%AC%EB%AF%BC%EC%A4%80/%EA%B8%B0%EC%83%81%EC%B2%AD/02.%EB%8C%80%EA%B8%B0%EC%A7%88%EB%86%8D%EB%8F%84.ipynb#W2sZmlsZQ%3D%3D?line=16'>17</a>\u001b[0m \u001b[39m# 응답 데이터 정리\u001b[39;00m\n\u001b[0;32m     <a href='vscode-notebook-cell:/d%3A/WorkSpace/Onnanana_second-Projct/01.%EC%8B%AC%EB%AF%BC%EC%A4%80/%EA%B8%B0%EC%83%81%EC%B2%AD/02.%EB%8C%80%EA%B8%B0%EC%A7%88%EB%86%8D%EB%8F%84.ipynb#W2sZmlsZQ%3D%3D?line=17'>18</a>\u001b[0m \u001b[39mfrom\u001b[39;00m \u001b[39mpprint\u001b[39;00m \u001b[39mimport\u001b[39;00m pprint  \u001b[39m# 구조있는 데이터를 더 편하게 보여줌\u001b[39;00m\n\u001b[1;32m---> <a href='vscode-notebook-cell:/d%3A/WorkSpace/Onnanana_second-Projct/01.%EC%8B%AC%EB%AF%BC%EC%A4%80/%EA%B8%B0%EC%83%81%EC%B2%AD/02.%EB%8C%80%EA%B8%B0%EC%A7%88%EB%86%8D%EB%8F%84.ipynb#W2sZmlsZQ%3D%3D?line=18'>19</a>\u001b[0m data \u001b[39m=\u001b[39m res\u001b[39m.\u001b[39mjson() \u001b[39m# json.loads(res.text)와 같은 기능\u001b[39;00m\n\u001b[0;32m     <a href='vscode-notebook-cell:/d%3A/WorkSpace/Onnanana_second-Projct/01.%EC%8B%AC%EB%AF%BC%EC%A4%80/%EA%B8%B0%EC%83%81%EC%B2%AD/02.%EB%8C%80%EA%B8%B0%EC%A7%88%EB%86%8D%EB%8F%84.ipynb#W2sZmlsZQ%3D%3D?line=19'>20</a>\u001b[0m data \u001b[39m=\u001b[39m data[\u001b[39m'\u001b[39m\u001b[39mresponse\u001b[39m\u001b[39m'\u001b[39m][\u001b[39m'\u001b[39m\u001b[39mbody\u001b[39m\u001b[39m'\u001b[39m][\u001b[39m'\u001b[39m\u001b[39mitems\u001b[39m\u001b[39m'\u001b[39m]\n\u001b[0;32m     <a href='vscode-notebook-cell:/d%3A/WorkSpace/Onnanana_second-Projct/01.%EC%8B%AC%EB%AF%BC%EC%A4%80/%EA%B8%B0%EC%83%81%EC%B2%AD/02.%EB%8C%80%EA%B8%B0%EC%A7%88%EB%86%8D%EB%8F%84.ipynb#W2sZmlsZQ%3D%3D?line=20'>21</a>\u001b[0m pprint(data)\n",
      "File \u001b[1;32mc:\\Users\\human\\anaconda3\\Lib\\site-packages\\requests\\models.py:975\u001b[0m, in \u001b[0;36mResponse.json\u001b[1;34m(self, **kwargs)\u001b[0m\n\u001b[0;32m    971\u001b[0m     \u001b[39mreturn\u001b[39;00m complexjson\u001b[39m.\u001b[39mloads(\u001b[39mself\u001b[39m\u001b[39m.\u001b[39mtext, \u001b[39m*\u001b[39m\u001b[39m*\u001b[39mkwargs)\n\u001b[0;32m    972\u001b[0m \u001b[39mexcept\u001b[39;00m JSONDecodeError \u001b[39mas\u001b[39;00m e:\n\u001b[0;32m    973\u001b[0m     \u001b[39m# Catch JSON-related errors and raise as requests.JSONDecodeError\u001b[39;00m\n\u001b[0;32m    974\u001b[0m     \u001b[39m# This aliases json.JSONDecodeError and simplejson.JSONDecodeError\u001b[39;00m\n\u001b[1;32m--> 975\u001b[0m     \u001b[39mraise\u001b[39;00m RequestsJSONDecodeError(e\u001b[39m.\u001b[39mmsg, e\u001b[39m.\u001b[39mdoc, e\u001b[39m.\u001b[39mpos)\n",
      "\u001b[1;31mJSONDecodeError\u001b[0m: Expecting value: line 1 column 1 (char 0)"
     ]
    }
   ],
   "source": [
    "# 웹 요청시 같이 전달될 데이터 = 요청 메시지\n",
    "params = {\n",
    "        'serviceKey' : service_key,\n",
    "        'returnType' : 'JSON',\n",
    "        'numOfRows' : 30,\n",
    "        'pageNo' : 1,\n",
    "        'stationName' : \"강변북로\", # 측정소이름\n",
    "        'dataTerm' : 'DAILY',\n",
    "        'ver' : \"1.4\" # 오퍼레이션 버전\n",
    "    }\n",
    "\n",
    "res = requests.get(url=base_url , params=params)\n",
    "# print(res.status_code, type(res.text), res.url)\n",
    "# print()\n",
    "# print(res.text)\n",
    "\n",
    "# 응답 데이터 정리\n",
    "from pprint import pprint  # 구조있는 데이터를 더 편하게 보여줌\n",
    "data = res.json() # json.loads(res.text)와 같은 기능\n",
    "data = data['response']['body']['items']\n",
    "pprint(data)"
   ]
  },
  {
   "cell_type": "code",
   "execution_count": null,
   "metadata": {},
   "outputs": [],
   "source": [
    "import pandas as pd\n",
    "station_Name = pd.read_csv('data/대기측정1번.csv', encoding='utf-8')"
   ]
  },
  {
   "cell_type": "code",
   "execution_count": null,
   "metadata": {},
   "outputs": [
    {
     "data": {
      "text/plain": [
       "0      송정동(봉명동)\n",
       "1           영동읍\n",
       "2           영천동\n",
       "3           오송읍\n",
       "4           오창읍\n",
       "         ...   \n",
       "120          연동\n",
       "121         이도동\n",
       "122         조천읍\n",
       "123         한림읍\n",
       "124         화북동\n",
       "Name: 측정소명, Length: 125, dtype: object"
      ]
     },
     "execution_count": 18,
     "metadata": {},
     "output_type": "execute_result"
    }
   ],
   "source": [
    "station_Name.측정소명"
   ]
  },
  {
   "cell_type": "code",
   "execution_count": null,
   "metadata": {},
   "outputs": [
    {
     "name": "stdout",
     "output_type": "stream",
     "text": [
      "[{'날짜': '2023-11-25 12:00', '이름': '송정동(봉명동)', '측정망 정보': '도시대기', '아황산가스 농도': '0.002ppm', '일산화탄소 농도': '0.4ppm', '오존 농도': '0.026ppm', '이산화질소 농도': '0.010ppm', '미세먼지(PM10) 농도': '17ug/m³', '초미세먼지(PM2.5) 농도': '11ug/m³'}]\n"
     ]
    }
   ],
   "source": [
    "# 완성코드\n",
    "\n",
    "def get_air_quality():\n",
    "    \n",
    "    # 결과를 저장할 리스트\n",
    "    results_list = []\n",
    "    \n",
    "    # 각 측정소에 대한 데이터 수집\n",
    "    for index, row in station_Name.iterrows():\n",
    "        # 웹 요청시 같이 전달될 데이터 = 요청 메시지\n",
    "        params = {\n",
    "            'serviceKey' : service_key,\n",
    "            'returnType' : 'JSON',\n",
    "            'numOfRows' : 30,\n",
    "            'pageNo' : 1,\n",
    "            'stationName' : row['측정소명'], # 측정소이름\n",
    "            'dataTerm' : 'DAILY',\n",
    "            'ver' : \"1.4\" # 오퍼레이션 버전\n",
    "        }\n",
    "\n",
    "        res = requests.get(url=base_url , params=params)\n",
    "\n",
    "        # 응답 데이터 정리\n",
    "        from pprint import pprint  # 구조있는 데이터를 더 편하게 보여줌\n",
    "        data = res.json() # json.loads(res.text)와 같은 기능\n",
    "        data = data['response']['body']['items']\n",
    "        \n",
    "        # 데이터를 날짜와 시간에 대한 기준으로 정렬\n",
    "        sorted_data = sorted(data, key=lambda x: x['dataTime'], reverse=True)\n",
    "\n",
    "        # 최신 데이터 선택\n",
    "        latest_data = sorted_data[0]\n",
    "        \n",
    "        # 최종 데이터 생성\n",
    "        results = {\n",
    "            '날짜': latest_data['dataTime'],\n",
    "            '이름': latest_data['stationName'],\n",
    "            '측정망 정보': latest_data['mangName'],\n",
    "            '아황산가스 농도': latest_data['so2Value'] + \"ppm\",\n",
    "            '일산화탄소 농도': latest_data['coValue'] + \"ppm\",\n",
    "            '오존 농도': latest_data['o3Value'] + \"ppm\",\n",
    "            '이산화질소 농도': latest_data['no2Value'] + \"ppm\",\n",
    "            '미세먼지(PM10) 농도': latest_data['pm10Value'] + \"ug/m³\",\n",
    "            '초미세먼지(PM2.5) 농도': latest_data['pm25Value'] + \"ug/m³\"\n",
    "        }\n",
    "        \n",
    "        # 결과 리스트에 추가\n",
    "        results_list.append(results)\n",
    "            \n",
    "        # pprint(results)\n",
    "        return results_list\n",
    "    \n",
    "# 테스트 코드\n",
    "if __name__ == \"__main__\":\n",
    "    print(get_air_quality())"
   ]
  },
  {
   "cell_type": "code",
   "execution_count": null,
   "metadata": {},
   "outputs": [
    {
     "ename": "JSONDecodeError",
     "evalue": "Expecting value: line 1 column 1 (char 0)",
     "output_type": "error",
     "traceback": [
      "\u001b[1;31m---------------------------------------------------------------------------\u001b[0m",
      "\u001b[1;31mJSONDecodeError\u001b[0m                           Traceback (most recent call last)",
      "File \u001b[1;32mc:\\Users\\human\\anaconda3\\Lib\\site-packages\\requests\\models.py:971\u001b[0m, in \u001b[0;36mResponse.json\u001b[1;34m(self, **kwargs)\u001b[0m\n\u001b[0;32m    970\u001b[0m \u001b[39mtry\u001b[39;00m:\n\u001b[1;32m--> 971\u001b[0m     \u001b[39mreturn\u001b[39;00m complexjson\u001b[39m.\u001b[39mloads(\u001b[39mself\u001b[39m\u001b[39m.\u001b[39mtext, \u001b[39m*\u001b[39m\u001b[39m*\u001b[39mkwargs)\n\u001b[0;32m    972\u001b[0m \u001b[39mexcept\u001b[39;00m JSONDecodeError \u001b[39mas\u001b[39;00m e:\n\u001b[0;32m    973\u001b[0m     \u001b[39m# Catch JSON-related errors and raise as requests.JSONDecodeError\u001b[39;00m\n\u001b[0;32m    974\u001b[0m     \u001b[39m# This aliases json.JSONDecodeError and simplejson.JSONDecodeError\u001b[39;00m\n",
      "File \u001b[1;32mc:\\Users\\human\\anaconda3\\Lib\\json\\__init__.py:346\u001b[0m, in \u001b[0;36mloads\u001b[1;34m(s, cls, object_hook, parse_float, parse_int, parse_constant, object_pairs_hook, **kw)\u001b[0m\n\u001b[0;32m    343\u001b[0m \u001b[39mif\u001b[39;00m (\u001b[39mcls\u001b[39m \u001b[39mis\u001b[39;00m \u001b[39mNone\u001b[39;00m \u001b[39mand\u001b[39;00m object_hook \u001b[39mis\u001b[39;00m \u001b[39mNone\u001b[39;00m \u001b[39mand\u001b[39;00m\n\u001b[0;32m    344\u001b[0m         parse_int \u001b[39mis\u001b[39;00m \u001b[39mNone\u001b[39;00m \u001b[39mand\u001b[39;00m parse_float \u001b[39mis\u001b[39;00m \u001b[39mNone\u001b[39;00m \u001b[39mand\u001b[39;00m\n\u001b[0;32m    345\u001b[0m         parse_constant \u001b[39mis\u001b[39;00m \u001b[39mNone\u001b[39;00m \u001b[39mand\u001b[39;00m object_pairs_hook \u001b[39mis\u001b[39;00m \u001b[39mNone\u001b[39;00m \u001b[39mand\u001b[39;00m \u001b[39mnot\u001b[39;00m kw):\n\u001b[1;32m--> 346\u001b[0m     \u001b[39mreturn\u001b[39;00m _default_decoder\u001b[39m.\u001b[39mdecode(s)\n\u001b[0;32m    347\u001b[0m \u001b[39mif\u001b[39;00m \u001b[39mcls\u001b[39m \u001b[39mis\u001b[39;00m \u001b[39mNone\u001b[39;00m:\n",
      "File \u001b[1;32mc:\\Users\\human\\anaconda3\\Lib\\json\\decoder.py:337\u001b[0m, in \u001b[0;36mJSONDecoder.decode\u001b[1;34m(self, s, _w)\u001b[0m\n\u001b[0;32m    333\u001b[0m \u001b[39m\u001b[39m\u001b[39m\"\"\"Return the Python representation of ``s`` (a ``str`` instance\u001b[39;00m\n\u001b[0;32m    334\u001b[0m \u001b[39mcontaining a JSON document).\u001b[39;00m\n\u001b[0;32m    335\u001b[0m \n\u001b[0;32m    336\u001b[0m \u001b[39m\"\"\"\u001b[39;00m\n\u001b[1;32m--> 337\u001b[0m obj, end \u001b[39m=\u001b[39m \u001b[39mself\u001b[39m\u001b[39m.\u001b[39mraw_decode(s, idx\u001b[39m=\u001b[39m_w(s, \u001b[39m0\u001b[39m)\u001b[39m.\u001b[39mend())\n\u001b[0;32m    338\u001b[0m end \u001b[39m=\u001b[39m _w(s, end)\u001b[39m.\u001b[39mend()\n",
      "File \u001b[1;32mc:\\Users\\human\\anaconda3\\Lib\\json\\decoder.py:355\u001b[0m, in \u001b[0;36mJSONDecoder.raw_decode\u001b[1;34m(self, s, idx)\u001b[0m\n\u001b[0;32m    354\u001b[0m \u001b[39mexcept\u001b[39;00m \u001b[39mStopIteration\u001b[39;00m \u001b[39mas\u001b[39;00m err:\n\u001b[1;32m--> 355\u001b[0m     \u001b[39mraise\u001b[39;00m JSONDecodeError(\u001b[39m\"\u001b[39m\u001b[39mExpecting value\u001b[39m\u001b[39m\"\u001b[39m, s, err\u001b[39m.\u001b[39mvalue) \u001b[39mfrom\u001b[39;00m \u001b[39mNone\u001b[39;00m\n\u001b[0;32m    356\u001b[0m \u001b[39mreturn\u001b[39;00m obj, end\n",
      "\u001b[1;31mJSONDecodeError\u001b[0m: Expecting value: line 1 column 1 (char 0)",
      "\nDuring handling of the above exception, another exception occurred:\n",
      "\u001b[1;31mJSONDecodeError\u001b[0m                           Traceback (most recent call last)",
      "\u001b[1;32md:\\WorkSpace\\Onnanana_second-Projct\\01.심민준\\기상청\\02.대기질농도.ipynb 셀 7\u001b[0m line \u001b[0;36m5\n\u001b[0;32m     <a href='vscode-notebook-cell:/d%3A/WorkSpace/Onnanana_second-Projct/01.%EC%8B%AC%EB%AF%BC%EC%A4%80/%EA%B8%B0%EC%83%81%EC%B2%AD/02.%EB%8C%80%EA%B8%B0%EC%A7%88%EB%86%8D%EB%8F%84.ipynb#W6sZmlsZQ%3D%3D?line=55'>56</a>\u001b[0m \u001b[39m# 테스트 코드\u001b[39;00m\n\u001b[0;32m     <a href='vscode-notebook-cell:/d%3A/WorkSpace/Onnanana_second-Projct/01.%EC%8B%AC%EB%AF%BC%EC%A4%80/%EA%B8%B0%EC%83%81%EC%B2%AD/02.%EB%8C%80%EA%B8%B0%EC%A7%88%EB%86%8D%EB%8F%84.ipynb#W6sZmlsZQ%3D%3D?line=56'>57</a>\u001b[0m \u001b[39mif\u001b[39;00m \u001b[39m__name__\u001b[39m \u001b[39m==\u001b[39m \u001b[39m\"\u001b[39m\u001b[39m__main__\u001b[39m\u001b[39m\"\u001b[39m:\n\u001b[1;32m---> <a href='vscode-notebook-cell:/d%3A/WorkSpace/Onnanana_second-Projct/01.%EC%8B%AC%EB%AF%BC%EC%A4%80/%EA%B8%B0%EC%83%81%EC%B2%AD/02.%EB%8C%80%EA%B8%B0%EC%A7%88%EB%86%8D%EB%8F%84.ipynb#W6sZmlsZQ%3D%3D?line=57'>58</a>\u001b[0m     results \u001b[39m=\u001b[39m get_air_quality()\n\u001b[0;32m     <a href='vscode-notebook-cell:/d%3A/WorkSpace/Onnanana_second-Projct/01.%EC%8B%AC%EB%AF%BC%EC%A4%80/%EA%B8%B0%EC%83%81%EC%B2%AD/02.%EB%8C%80%EA%B8%B0%EC%A7%88%EB%86%8D%EB%8F%84.ipynb#W6sZmlsZQ%3D%3D?line=58'>59</a>\u001b[0m     \u001b[39mfor\u001b[39;00m result \u001b[39min\u001b[39;00m results:\n\u001b[0;32m     <a href='vscode-notebook-cell:/d%3A/WorkSpace/Onnanana_second-Projct/01.%EC%8B%AC%EB%AF%BC%EC%A4%80/%EA%B8%B0%EC%83%81%EC%B2%AD/02.%EB%8C%80%EA%B8%B0%EC%A7%88%EB%86%8D%EB%8F%84.ipynb#W6sZmlsZQ%3D%3D?line=59'>60</a>\u001b[0m         \u001b[39mprint\u001b[39m(result)\n",
      "\u001b[1;32md:\\WorkSpace\\Onnanana_second-Projct\\01.심민준\\기상청\\02.대기질농도.ipynb 셀 7\u001b[0m line \u001b[0;36m2\n\u001b[0;32m     <a href='vscode-notebook-cell:/d%3A/WorkSpace/Onnanana_second-Projct/01.%EC%8B%AC%EB%AF%BC%EC%A4%80/%EA%B8%B0%EC%83%81%EC%B2%AD/02.%EB%8C%80%EA%B8%B0%EC%A7%88%EB%86%8D%EB%8F%84.ipynb#W6sZmlsZQ%3D%3D?line=24'>25</a>\u001b[0m res \u001b[39m=\u001b[39m requests\u001b[39m.\u001b[39mget(url\u001b[39m=\u001b[39mbase_url , params\u001b[39m=\u001b[39mparams)\n\u001b[0;32m     <a href='vscode-notebook-cell:/d%3A/WorkSpace/Onnanana_second-Projct/01.%EC%8B%AC%EB%AF%BC%EC%A4%80/%EA%B8%B0%EC%83%81%EC%B2%AD/02.%EB%8C%80%EA%B8%B0%EC%A7%88%EB%86%8D%EB%8F%84.ipynb#W6sZmlsZQ%3D%3D?line=26'>27</a>\u001b[0m \u001b[39m# 응답 데이터 정리\u001b[39;00m\n\u001b[1;32m---> <a href='vscode-notebook-cell:/d%3A/WorkSpace/Onnanana_second-Projct/01.%EC%8B%AC%EB%AF%BC%EC%A4%80/%EA%B8%B0%EC%83%81%EC%B2%AD/02.%EB%8C%80%EA%B8%B0%EC%A7%88%EB%86%8D%EB%8F%84.ipynb#W6sZmlsZQ%3D%3D?line=27'>28</a>\u001b[0m data \u001b[39m=\u001b[39m res\u001b[39m.\u001b[39mjson()[\u001b[39m'\u001b[39m\u001b[39mresponse\u001b[39m\u001b[39m'\u001b[39m][\u001b[39m'\u001b[39m\u001b[39mbody\u001b[39m\u001b[39m'\u001b[39m][\u001b[39m'\u001b[39m\u001b[39mitems\u001b[39m\u001b[39m'\u001b[39m]\n\u001b[0;32m     <a href='vscode-notebook-cell:/d%3A/WorkSpace/Onnanana_second-Projct/01.%EC%8B%AC%EB%AF%BC%EC%A4%80/%EA%B8%B0%EC%83%81%EC%B2%AD/02.%EB%8C%80%EA%B8%B0%EC%A7%88%EB%86%8D%EB%8F%84.ipynb#W6sZmlsZQ%3D%3D?line=29'>30</a>\u001b[0m \u001b[39m# 데이터가 존재하면 처리\u001b[39;00m\n\u001b[0;32m     <a href='vscode-notebook-cell:/d%3A/WorkSpace/Onnanana_second-Projct/01.%EC%8B%AC%EB%AF%BC%EC%A4%80/%EA%B8%B0%EC%83%81%EC%B2%AD/02.%EB%8C%80%EA%B8%B0%EC%A7%88%EB%86%8D%EB%8F%84.ipynb#W6sZmlsZQ%3D%3D?line=30'>31</a>\u001b[0m \u001b[39mif\u001b[39;00m data:\n\u001b[0;32m     <a href='vscode-notebook-cell:/d%3A/WorkSpace/Onnanana_second-Projct/01.%EC%8B%AC%EB%AF%BC%EC%A4%80/%EA%B8%B0%EC%83%81%EC%B2%AD/02.%EB%8C%80%EA%B8%B0%EC%A7%88%EB%86%8D%EB%8F%84.ipynb#W6sZmlsZQ%3D%3D?line=31'>32</a>\u001b[0m     \u001b[39m# 데이터를 날짜와 시간에 대한 기준으로 정렬\u001b[39;00m\n",
      "File \u001b[1;32mc:\\Users\\human\\anaconda3\\Lib\\site-packages\\requests\\models.py:975\u001b[0m, in \u001b[0;36mResponse.json\u001b[1;34m(self, **kwargs)\u001b[0m\n\u001b[0;32m    971\u001b[0m     \u001b[39mreturn\u001b[39;00m complexjson\u001b[39m.\u001b[39mloads(\u001b[39mself\u001b[39m\u001b[39m.\u001b[39mtext, \u001b[39m*\u001b[39m\u001b[39m*\u001b[39mkwargs)\n\u001b[0;32m    972\u001b[0m \u001b[39mexcept\u001b[39;00m JSONDecodeError \u001b[39mas\u001b[39;00m e:\n\u001b[0;32m    973\u001b[0m     \u001b[39m# Catch JSON-related errors and raise as requests.JSONDecodeError\u001b[39;00m\n\u001b[0;32m    974\u001b[0m     \u001b[39m# This aliases json.JSONDecodeError and simplejson.JSONDecodeError\u001b[39;00m\n\u001b[1;32m--> 975\u001b[0m     \u001b[39mraise\u001b[39;00m RequestsJSONDecodeError(e\u001b[39m.\u001b[39mmsg, e\u001b[39m.\u001b[39mdoc, e\u001b[39m.\u001b[39mpos)\n",
      "\u001b[1;31mJSONDecodeError\u001b[0m: Expecting value: line 1 column 1 (char 0)"
     ]
    }
   ],
   "source": [
    "import requests\n",
    "import pandas as pd\n",
    "\n",
    "# 예제 데이터프레임 생성\n",
    "station_Name = pd.read_csv('data/대기측정1번.csv', encoding='utf-8')\n",
    "\n",
    "# 완성코드\n",
    "def get_air_quality():\n",
    "    # 결과를 저장할 리스트\n",
    "    results_list = []\n",
    "    \n",
    "    # 각 측정소에 대한 데이터 수집\n",
    "    for index, row in station_Name.iterrows():\n",
    "        # 웹 요청시 같이 전달될 데이터 = 요청 메시지\n",
    "        params = {\n",
    "            'serviceKey' : service_key,\n",
    "            'returnType' : 'JSON',\n",
    "            'numOfRows' : 30,\n",
    "            'pageNo' : 1,\n",
    "            'stationName' : row['측정소명'],  # 각 행의 측정소명을 선택\n",
    "            'dataTerm' : 'DAILY',\n",
    "            'ver' : \"1.4\"  # 오퍼레이션 버전\n",
    "        }\n",
    "\n",
    "        res = requests.get(url=base_url , params=params)\n",
    "\n",
    "        # 응답 데이터 정리\n",
    "        data = res.json()['response']['body']['items']\n",
    "        \n",
    "        # 데이터가 존재하면 처리\n",
    "        if data:\n",
    "            # 데이터를 날짜와 시간에 대한 기준으로 정렬\n",
    "            sorted_data = sorted(data, key=lambda x: x['dataTime'], reverse=True)\n",
    "\n",
    "            # 최신 데이터 선택\n",
    "            latest_data = sorted_data[0]\n",
    "\n",
    "            # 최종 데이터 생성\n",
    "            result = {\n",
    "                '날짜': latest_data['dataTime'],\n",
    "                '이름': latest_data['stationName'],\n",
    "                '측정망 정보': latest_data['mangName'],\n",
    "                '아황산가스 농도': latest_data['so2Value'] + \"ppm\",\n",
    "                '일산화탄소 농도': latest_data['coValue'] + \"ppm\",\n",
    "                '오존 농도': latest_data['o3Value'] + \"ppm\",\n",
    "                '이산화질소 농도': latest_data['no2Value'] + \"ppm\",\n",
    "                '미세먼지(PM10) 농도': latest_data['pm10Value'] + \"ug/m³\",\n",
    "                '초미세먼지(PM2.5) 농도': latest_data['pm25Value'] + \"ug/m³\"\n",
    "            }\n",
    "\n",
    "            # 결과 리스트에 추가\n",
    "            results_list.append(result)\n",
    "    \n",
    "    return results_list\n",
    "\n",
    "# 테스트 코드\n",
    "if __name__ == \"__main__\":\n",
    "    results = get_air_quality()\n",
    "    for result in results:\n",
    "        print(result)\n"
   ]
  },
  {
   "cell_type": "code",
   "execution_count": null,
   "metadata": {},
   "outputs": [
    {
     "name": "stdout",
     "output_type": "stream",
     "text": [
      "{\"response\":{\"body\":{\"totalCount\":23,\"items\":[{\"pm25Grade1h\":null,\"pm10Value24\":\"14\",\"so2Value\":\"0.002\",\"pm10Grade1h\":\"1\",\"o3Grade\":\"1\",\"pm10Value\":\"9\",\"pm25Flag\":\"통신장애\",\"khaiGrade\":\"1\",\"pm25Value\":\"-\",\"no2Flag\":null,\"mangName\":\"도시대기\",\"stationName\":\"서대문구\",\"no2Value\":\"0.014\",\"so2Grade\":\"1\",\"stationCode\":\"111191\",\"coFlag\":null,\"khaiValue\":\"42\",\"coValue\":\"0.3\",\"pm10Flag\":null,\"no2Grade\":\"1\",\"pm25Value24\":\"10\",\"o3Flag\":null,\"pm25Grade\":\"1\",\"so2Flag\":null,\"coGrade\":\"1\",\"dataTime\":\"2023-11-25 12:00\",\"pm10Grade\":\"1\",\"o3Value\":\"0.025\"},{\"pm25Grade1h\":\"1\",\"pm10Value24\":\"15\",\"so2Value\":\"0.002\",\"pm10Grade1h\":\"1\",\"o3Grade\":\"1\",\"pm10Value\":\"11\",\"pm25Flag\":null,\"khaiGrade\":\"1\",\"pm25Value\":\"11\",\"no2Flag\":null,\"mangName\":\"도시대기\",\"stationName\":\"서대문구\",\"no2Value\":\"0.019\",\"so2Grade\":\"1\",\"stationCode\":\"111191\",\"coFlag\":null,\"khaiValue\":\"33\",\"coValue\":\"0.4\",\"pm10Flag\":null,\"no2Grade\":\"1\",\"pm25Value24\":\"10\",\"o3Flag\":null,\"pm25Grade\":\"1\",\"so2Flag\":null,\"coGrade\":\"1\",\"dataTime\":\"2023-11-25 11:00\",\"pm10Grade\":\"1\",\"o3Value\":\"0.020\"},{\"pm25Grade1h\":\"1\",\"pm10Value24\":\"16\",\"so2Value\":\"0.003\",\"pm10Grade1h\":\"1\",\"o3Grade\":\"1\",\"pm10Value\":\"19\",\"pm25Flag\":null,\"khaiGrade\":\"1\",\"pm25Value\":\"12\",\"no2Flag\":null,\"mangName\":\"도시대기\",\"stationName\":\"서대문구\",\"no2Value\":\"0.021\",\"so2Grade\":\"1\",\"stationCode\":\"111191\",\"coFlag\":null,\"khaiValue\":\"35\",\"coValue\":\"0.5\",\"pm10Flag\":null,\"no2Grade\":\"1\",\"pm25Value24\":\"10\",\"o3Flag\":null,\"pm25Grade\":\"1\",\"so2Flag\":null,\"coGrade\":\"1\",\"dataTime\":\"2023-11-25 10:00\",\"pm10Grade\":\"1\",\"o3Value\":\"0.017\"},{\"pm25Grade1h\":\"1\",\"pm10Value24\":\"15\",\"so2Value\":\"0.005\",\"pm10Grade1h\":\"1\",\"o3Grade\":\"1\",\"pm10Value\":\"16\",\"pm25Flag\":null,\"khaiGrade\":\"1\",\"pm25Value\":\"11\",\"no2Flag\":null,\"mangName\":\"도시대기\",\"stationName\":\"서대문구\",\"no2Value\":\"0.023\",\"so2Grade\":\"1\",\"stationCode\":\"111191\",\"coFlag\":null,\"khaiValue\":\"38\",\"coValue\":\"0.7\",\"pm10Flag\":null,\"no2Grade\":\"1\",\"pm25Value24\":\"9\",\"o3Flag\":null,\"pm25Grade\":\"1\",\"so2Flag\":null,\"coGrade\":\"1\",\"dataTime\":\"2023-11-25 09:00\",\"pm10Grade\":\"1\",\"o3Value\":\"0.013\"},{\"pm25Grade1h\":\"1\",\"pm10Value24\":\"15\",\"so2Value\":\"0.004\",\"pm10Grade1h\":\"1\",\"o3Grade\":\"1\",\"pm10Value\":\"14\",\"pm25Flag\":null,\"khaiGrade\":\"1\",\"pm25Value\":\"12\",\"no2Flag\":null,\"mangName\":\"도시대기\",\"stationName\":\"서대문구\",\"no2Value\":\"0.020\",\"so2Grade\":\"1\",\"stationCode\":\"111191\",\"coFlag\":null,\"khaiValue\":\"33\",\"coValue\":\"0.6\",\"pm10Flag\":null,\"no2Grade\":\"1\",\"pm25Value24\":\"8\",\"o3Flag\":null,\"pm25Grade\":\"1\",\"so2Flag\":null,\"coGrade\":\"1\",\"dataTime\":\"2023-11-25 08:00\",\"pm10Grade\":\"1\",\"o3Value\":\"0.016\"},{\"pm25Grade1h\":\"1\",\"pm10Value24\":\"15\",\"so2Value\":\"0.002\",\"pm10Grade1h\":\"1\",\"o3Grade\":\"1\",\"pm10Value\":\"19\",\"pm25Flag\":null,\"khaiGrade\":\"1\",\"pm25Value\":\"8\",\"no2Flag\":null,\"mangName\":\"도시대기\",\"stationName\":\"서대문구\",\"no2Value\":\"0.013\",\"so2Grade\":\"1\",\"stationCode\":\"111191\",\"coFlag\":null,\"khaiValue\":\"38\",\"coValue\":\"0.4\",\"pm10Flag\":null,\"no2Grade\":\"1\",\"pm25Value24\":\"8\",\"o3Flag\":null,\"pm25Grade\":\"1\",\"so2Flag\":null,\"coGrade\":\"1\",\"dataTime\":\"2023-11-25 07:00\",\"pm10Grade\":\"1\",\"o3Value\":\"0.023\"},{\"pm25Grade1h\":\"1\",\"pm10Value24\":\"14\",\"so2Value\":\"0.002\",\"pm10Grade1h\":\"1\",\"o3Grade\":\"1\",\"pm10Value\":\"16\",\"pm25Flag\":null,\"khaiGrade\":\"1\",\"pm25Value\":\"8\",\"no2Flag\":null,\"mangName\":\"도시대기\",\"stationName\":\"서대문구\",\"no2Value\":\"0.011\",\"so2Grade\":\"1\",\"stationCode\":\"111191\",\"coFlag\":null,\"khaiValue\":\"40\",\"coValue\":\"0.3\",\"pm10Flag\":null,\"no2Grade\":\"1\",\"pm25Value24\":\"8\",\"o3Flag\":null,\"pm25Grade\":\"1\",\"so2Flag\":null,\"coGrade\":\"1\",\"dataTime\":\"2023-11-25 06:00\",\"pm10Grade\":\"1\",\"o3Value\":\"0.024\"},{\"pm25Grade1h\":\"1\",\"pm10Value24\":\"13\",\"so2Value\":\"0.002\",\"pm10Grade1h\":\"1\",\"o3Grade\":\"1\",\"pm10Value\":\"14\",\"pm25Flag\":null,\"khaiGrade\":\"1\",\"pm25Value\":\"9\",\"no2Flag\":null,\"mangName\":\"도시대기\",\"stationName\":\"서대문구\",\"no2Value\":\"0.010\",\"so2Grade\":\"1\",\"stationCode\":\"111191\",\"coFlag\":null,\"khaiValue\":\"40\",\"coValue\":\"0.3\",\"pm10Flag\":null,\"no2Grade\":\"1\",\"pm25Value24\":\"8\",\"o3Flag\":null,\"pm25Grade\":\"1\",\"so2Flag\":null,\"coGrade\":\"1\",\"dataTime\":\"2023-11-25 05:00\",\"pm10Grade\":\"1\",\"o3Value\":\"0.024\"},{\"pm25Grade1h\":\"1\",\"pm10Value24\":\"13\",\"so2Value\":\"0.003\",\"pm10Grade1h\":\"1\",\"o3Grade\":\"1\",\"pm10Value\":\"14\",\"pm25Flag\":null,\"khaiGrade\":\"1\",\"pm25Value\":\"8\",\"no2Flag\":null,\"mangName\":\"도시대기\",\"stationName\":\"서대문구\",\"no2Value\":\"0.013\",\"so2Grade\":\"1\",\"stationCode\":\"111191\",\"coFlag\":null,\"khaiValue\":\"38\",\"coValue\":\"0.4\",\"pm10Flag\":null,\"no2Grade\":\"1\",\"pm25Value24\":\"7\",\"o3Flag\":null,\"pm25Grade\":\"1\",\"so2Flag\":null,\"coGrade\":\"1\",\"dataTime\":\"2023-11-25 04:00\",\"pm10Grade\":\"1\",\"o3Value\":\"0.023\"},{\"pm25Grade1h\":\"1\",\"pm10Value24\":\"14\",\"so2Value\":\"0.002\",\"pm10Grade1h\":\"1\",\"o3Grade\":\"1\",\"pm10Value\":\"11\",\"pm25Flag\":null,\"khaiGrade\":\"1\",\"pm25Value\":\"8\",\"no2Flag\":null,\"mangName\":\"도시대기\",\"stationName\":\"서대문구\",\"no2Value\":\"0.009\",\"so2Grade\":\"1\",\"stationCode\":\"111191\",\"coFlag\":null,\"khaiValue\":\"43\",\"coValue\":\"0.4\",\"pm10Flag\":null,\"no2Grade\":\"1\",\"pm25Value24\":\"7\",\"o3Flag\":null,\"pm25Grade\":\"1\",\"so2Flag\":null,\"coGrade\":\"1\",\"dataTime\":\"2023-11-25 03:00\",\"pm10Grade\":\"1\",\"o3Value\":\"0.026\"},{\"pm25Grade1h\":\"1\",\"pm10Value24\":\"14\",\"so2Value\":\"0.002\",\"pm10Grade1h\":\"1\",\"o3Grade\":\"1\",\"pm10Value\":\"14\",\"pm25Flag\":null,\"khaiGrade\":\"1\",\"pm25Value\":\"8\",\"no2Flag\":null,\"mangName\":\"도시대기\",\"stationName\":\"서대문구\",\"no2Value\":\"0.007\",\"so2Grade\":\"1\",\"stationCode\":\"111191\",\"coFlag\":null,\"khaiValue\":\"48\",\"coValue\":\"0.3\",\"pm10Flag\":null,\"no2Grade\":\"1\",\"pm25Value24\":\"6\",\"o3Flag\":null,\"pm25Grade\":\"1\",\"so2Flag\":null,\"coGrade\":\"1\",\"dataTime\":\"2023-11-25 02:00\",\"pm10Grade\":\"1\",\"o3Value\":\"0.029\"},{\"pm25Grade1h\":\"1\",\"pm10Value24\":\"14\",\"so2Value\":\"0.002\",\"pm10Grade1h\":\"1\",\"o3Grade\":\"1\",\"pm10Value\":\"14\",\"pm25Flag\":null,\"khaiGrade\":\"1\",\"pm25Value\":\"5\",\"no2Flag\":null,\"mangName\":\"도시대기\",\"stationName\":\"서대문구\",\"no2Value\":\"0.007\",\"so2Grade\":\"1\",\"stationCode\":\"111191\",\"coFlag\":null,\"khaiValue\":\"50\",\"coValue\":\"0.3\",\"pm10Flag\":null,\"no2Grade\":\"1\",\"pm25Value24\":\"7\",\"o3Flag\":null,\"pm25Grade\":\"1\",\"so2Flag\":null,\"coGrade\":\"1\",\"dataTime\":\"2023-11-25 01:00\",\"pm10Grade\":\"1\",\"o3Value\":\"0.030\"},{\"pm25Grade1h\":\"1\",\"pm10Value24\":\"14\",\"so2Value\":\"0.002\",\"pm10Grade1h\":\"1\",\"o3Grade\":\"1\",\"pm10Value\":\"16\",\"pm25Flag\":null,\"khaiGrade\":\"1\",\"pm25Value\":\"5\",\"no2Flag\":null,\"mangName\":\"도시대기\",\"stationName\":\"서대문구\",\"no2Value\":\"0.010\",\"so2Grade\":\"1\",\"stationCode\":\"111191\",\"coFlag\":null,\"khaiValue\":\"45\",\"coValue\":\"0.3\",\"pm10Flag\":null,\"no2Grade\":\"1\",\"pm25Value24\":\"7\",\"o3Flag\":null,\"pm25Grade\":\"1\",\"so2Flag\":null,\"coGrade\":\"1\",\"dataTime\":\"2023-11-24 24:00\",\"pm10Grade\":\"1\",\"o3Value\":\"0.027\"},{\"pm25Grade1h\":\"1\",\"pm10Value24\":\"14\",\"so2Value\":\"0.002\",\"pm10Grade1h\":\"1\",\"o3Grade\":\"1\",\"pm10Value\":\"11\",\"pm25Flag\":null,\"khaiGrade\":\"1\",\"pm25Value\":\"6\",\"no2Flag\":null,\"mangName\":\"도시대기\",\"stationName\":\"서대문구\",\"no2Value\":\"0.009\",\"so2Grade\":\"1\",\"stationCode\":\"111191\",\"coFlag\":null,\"khaiValue\":\"48\",\"coValue\":\"0.3\",\"pm10Flag\":null,\"no2Grade\":\"1\",\"pm25Value24\":\"7\",\"o3Flag\":null,\"pm25Grade\":\"1\",\"so2Flag\":null,\"coGrade\":\"1\",\"dataTime\":\"2023-11-24 23:00\",\"pm10Grade\":\"1\",\"o3Value\":\"0.029\"},{\"pm25Grade1h\":\"1\",\"pm10Value24\":\"14\",\"so2Value\":\"0.002\",\"pm10Grade1h\":\"1\",\"o3Grade\":\"1\",\"pm10Value\":\"17\",\"pm25Flag\":null,\"khaiGrade\":\"1\",\"pm25Value\":\"8\",\"no2Flag\":null,\"mangName\":\"도시대기\",\"stationName\":\"서대문구\",\"no2Value\":\"0.010\",\"so2Grade\":\"1\",\"stationCode\":\"111191\",\"coFlag\":null,\"khaiValue\":\"48\",\"coValue\":\"0.3\",\"pm10Flag\":null,\"no2Grade\":\"1\",\"pm25Value24\":\"8\",\"o3Flag\":null,\"pm25Grade\":\"1\",\"so2Flag\":null,\"coGrade\":\"1\",\"dataTime\":\"2023-11-24 22:00\",\"pm10Grade\":\"1\",\"o3Value\":\"0.029\"},{\"pm25Grade1h\":\"1\",\"pm10Value24\":\"13\",\"so2Value\":\"0.002\",\"pm10Grade1h\":\"1\",\"o3Grade\":\"1\",\"pm10Value\":\"12\",\"pm25Flag\":null,\"khaiGrade\":\"1\",\"pm25Value\":\"6\",\"no2Flag\":null,\"mangName\":\"도시대기\",\"stationName\":\"서대문구\",\"no2Value\":\"0.012\",\"so2Grade\":\"1\",\"stationCode\":\"111191\",\"coFlag\":null,\"khaiValue\":\"45\",\"coValue\":\"0.3\",\"pm10Flag\":null,\"no2Grade\":\"1\",\"pm25Value24\":\"8\",\"o3Flag\":null,\"pm25Grade\":\"1\",\"so2Flag\":null,\"coGrade\":\"1\",\"dataTime\":\"2023-11-24 21:00\",\"pm10Grade\":\"1\",\"o3Value\":\"0.027\"},{\"pm25Grade1h\":\"1\",\"pm10Value24\":\"14\",\"so2Value\":\"0.002\",\"pm10Grade1h\":\"1\",\"o3Grade\":\"1\",\"pm10Value\":\"15\",\"pm25Flag\":null,\"khaiGrade\":\"1\",\"pm25Value\":\"6\",\"no2Flag\":null,\"mangName\":\"도시대기\",\"stationName\":\"서대문구\",\"no2Value\":\"0.012\",\"so2Grade\":\"1\",\"stationCode\":\"111191\",\"coFlag\":null,\"khaiValue\":\"43\",\"coValue\":\"0.3\",\"pm10Flag\":null,\"no2Grade\":\"1\",\"pm25Value24\":\"8\",\"o3Flag\":null,\"pm25Grade\":\"1\",\"so2Flag\":null,\"coGrade\":\"1\",\"dataTime\":\"2023-11-24 20:00\",\"pm10Grade\":\"1\",\"o3Value\":\"0.026\"},{\"pm25Grade1h\":\"1\",\"pm10Value24\":\"13\",\"so2Value\":\"0.002\",\"pm10Grade1h\":\"1\",\"o3Grade\":\"1\",\"pm10Value\":\"13\",\"pm25Flag\":null,\"khaiGrade\":\"1\",\"pm25Value\":\"5\",\"no2Flag\":null,\"mangName\":\"도시대기\",\"stationName\":\"서대문구\",\"no2Value\":\"0.013\",\"so2Grade\":\"1\",\"stationCode\":\"111191\",\"coFlag\":null,\"khaiValue\":\"42\",\"coValue\":\"0.3\",\"pm10Flag\":null,\"no2Grade\":\"1\",\"pm25Value24\":\"8\",\"o3Flag\":null,\"pm25Grade\":\"1\",\"so2Flag\":null,\"coGrade\":\"1\",\"dataTime\":\"2023-11-24 19:00\",\"pm10Grade\":\"1\",\"o3Value\":\"0.025\"},{\"pm25Grade1h\":\"1\",\"pm10Value24\":\"14\",\"so2Value\":\"0.002\",\"pm10Grade1h\":\"1\",\"o3Grade\":\"1\",\"pm10Value\":\"10\",\"pm25Flag\":null,\"khaiGrade\":\"1\",\"pm25Value\":\"7\",\"no2Flag\":null,\"mangName\":\"도시대기\",\"stationName\":\"서대문구\",\"no2Value\":\"0.011\",\"so2Grade\":\"1\",\"stationCode\":\"111191\",\"coFlag\":null,\"khaiValue\":\"45\",\"coValue\":\"0.3\",\"pm10Flag\":null,\"no2Grade\":\"1\",\"pm25Value24\":\"9\",\"o3Flag\":null,\"pm25Grade\":\"1\",\"so2Flag\":null,\"coGrade\":\"1\",\"dataTime\":\"2023-11-24 18:00\",\"pm10Grade\":\"1\",\"o3Value\":\"0.027\"},{\"pm25Grade1h\":\"1\",\"pm10Value24\":\"15\",\"so2Value\":\"0.002\",\"pm10Grade1h\":\"1\",\"o3Grade\":\"1\",\"pm10Value\":\"13\",\"pm25Flag\":null,\"khaiGrade\":\"1\",\"pm25Value\":\"9\",\"no2Flag\":null,\"mangName\":\"도시대기\",\"stationName\":\"서대문구\",\"no2Value\":\"0.008\",\"so2Grade\":\"1\",\"stationCode\":\"111191\",\"coFlag\":null,\"khaiValue\":\"48\",\"coValue\":\"0.3\",\"pm10Flag\":null,\"no2Grade\":\"1\",\"pm25Value24\":\"10\",\"o3Flag\":null,\"pm25Grade\":\"1\",\"so2Flag\":null,\"coGrade\":\"1\",\"dataTime\":\"2023-11-24 17:00\",\"pm10Grade\":\"1\",\"o3Value\":\"0.029\"},{\"pm25Grade1h\":null,\"pm10Value24\":\"16\",\"so2Value\":\"-\",\"pm10Grade1h\":null,\"o3Grade\":null,\"pm10Value\":\"-\",\"pm25Flag\":\"통신장애\",\"khaiGrade\":null,\"pm25Value\":\"-\",\"no2Flag\":\"통신장애\",\"mangName\":\"도시대기\",\"stationName\":\"서대문구\",\"no2Value\":\"-\",\"so2Grade\":null,\"stationCode\":\"111191\",\"coFlag\":\"통신장애\",\"khaiValue\":\"-\",\"coValue\":\"-\",\"pm10Flag\":\"통신장애\",\"no2Grade\":null,\"pm25Value24\":\"11\",\"o3Flag\":\"통신장애\",\"pm25Grade\":\"1\",\"so2Flag\":\"통신장애\",\"coGrade\":null,\"dataTime\":\"2023-11-24 16:00\",\"pm10Grade\":\"1\",\"o3Value\":\"-\"},{\"pm25Grade1h\":\"1\",\"pm10Value24\":\"16\",\"so2Value\":\"0.002\",\"pm10Grade1h\":\"1\",\"o3Grade\":\"2\",\"pm10Value\":\"17\",\"pm25Flag\":null,\"khaiGrade\":\"2\",\"pm25Value\":\"9\",\"no2Flag\":null,\"mangName\":\"도시대기\",\"stationName\":\"서대문구\",\"no2Value\":\"0.007\",\"so2Grade\":\"1\",\"stationCode\":\"111191\",\"coFlag\":null,\"khaiValue\":\"52\",\"coValue\":\"0.3\",\"pm10Flag\":null,\"no2Grade\":\"1\",\"pm25Value24\":\"11\",\"o3Flag\":null,\"pm25Grade\":\"1\",\"so2Flag\":null,\"coGrade\":\"1\",\"dataTime\":\"2023-11-24 15:00\",\"pm10Grade\":\"1\",\"o3Value\":\"0.032\"},{\"pm25Grade1h\":\"1\",\"pm10Value24\":\"15\",\"so2Value\":\"0.002\",\"pm10Grade1h\":\"1\",\"o3Grade\":\"2\",\"pm10Value\":\"19\",\"pm25Flag\":null,\"khaiGrade\":\"2\",\"pm25Value\":\"13\",\"no2Flag\":null,\"mangName\":\"도시대기\",\"stationName\":\"서대문구\",\"no2Value\":\"0.008\",\"so2Grade\":\"1\",\"stationCode\":\"111191\",\"coFlag\":null,\"khaiValue\":\"52\",\"coValue\":\"0.3\",\"pm10Flag\":null,\"no2Grade\":\"1\",\"pm25Value24\":\"11\",\"o3Flag\":null,\"pm25Grade\":\"1\",\"so2Flag\":null,\"coGrade\":\"1\",\"dataTime\":\"2023-11-24 14:00\",\"pm10Grade\":\"1\",\"o3Value\":\"0.032\"}],\"pageNo\":1,\"numOfRows\":30},\"header\":{\"resultMsg\":\"NORMAL_CODE\",\"resultCode\":\"00\"}}}\n"
     ]
    }
   ],
   "source": [
    "print(res.text)"
   ]
  },
  {
   "cell_type": "code",
   "execution_count": null,
   "metadata": {},
   "outputs": [],
   "source": []
  }
 ],
 "metadata": {
  "kernelspec": {
   "display_name": "base",
   "language": "python",
   "name": "python3"
  },
  "language_info": {
   "codemirror_mode": {
    "name": "ipython",
    "version": 3
   },
   "file_extension": ".py",
   "mimetype": "text/x-python",
   "name": "python",
   "nbconvert_exporter": "python",
   "pygments_lexer": "ipython3",
   "version": "3.11.4"
  }
 },
 "nbformat": 4,
 "nbformat_minor": 2
}
