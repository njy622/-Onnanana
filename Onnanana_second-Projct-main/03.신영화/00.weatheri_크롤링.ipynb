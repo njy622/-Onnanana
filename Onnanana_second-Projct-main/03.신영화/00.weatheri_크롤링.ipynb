{
 "cells": [
  {
   "cell_type": "code",
   "execution_count": 1,
   "metadata": {},
   "outputs": [],
   "source": [
    "import requests\n",
    "import pandas as pd\n",
    "from tqdm import tqdm\n",
    "from bs4 import BeautifulSoup"
   ]
  },
  {
   "cell_type": "code",
   "execution_count": 2,
   "metadata": {},
   "outputs": [
    {
     "name": "stderr",
     "output_type": "stream",
     "text": [
      "c:\\Users\\young\\anaconda3\\Lib\\site-packages\\urllib3\\connectionpool.py:1056: InsecureRequestWarning: Unverified HTTPS request is being made to host 'www.weatheri.co.kr'. Adding certificate verification is strongly advised. See: https://urllib3.readthedocs.io/en/1.26.x/advanced-usage.html#ssl-warnings\n",
      "  warnings.warn(\n"
     ]
    },
    {
     "data": {
      "text/plain": [
       "'\\n\\n\\n<!DOCTYPE html PUBLIC \"-//W3C//DTD XHTML 1.0 Transitional//EN\" \"http://www.w3.org/TR/xhtml1/DTD/xhtml1-transitional.dtd\">\\n<html xmlns=\"http://www.w3.org/1999/xhtml\">\\n<html lang=\"ko\">\\n<head>\\n<meta http-equiv=\"Content-Type\" content=\"text/html; charset=utf-8\" />\\n<title>생활지수 : 웨더아이 - 날씨로부터의 자유, 날씨와 함께하는 행복</title>\\n<LINK REL=\"stylesheet\" TYPE=\"text/css\" HREF=\"/images/style.css\">\\n<script src=\"/images/AC_RunActiveContent.js\" language=\"javascript\"></script>\\n<style type=\"text/css\">\\n<!--\\nbody {\\n\\tmargin'"
      ]
     },
     "execution_count": 2,
     "metadata": {},
     "output_type": "execute_result"
    }
   ],
   "source": [
    "url = 'https://www.weatheri.co.kr/forecast/forecast08.php'\n",
    "header = {'User-Agent' : 'Mozilla/5.0 (Windows NT 10.0; Win64; x64) AppleWebKit/537.36 (KHTML, like Gecko) Chrome/117.0.0.0 Safari/537.36'}\n",
    "res = requests.get(url, headers=header, verify=False)\n",
    "res.encoding = 'utf-8'\n",
    "res.text[:500]"
   ]
  },
  {
   "cell_type": "code",
   "execution_count": 41,
   "metadata": {},
   "outputs": [],
   "source": [
    "from selenium import webdriver\n",
    "from selenium.webdriver.common.by import By\n",
    "\n",
    "driver = webdriver.Chrome()     # PATH 설정 할 것 (chromedriver.exe가 위치해있는곳을 path 설정해야함)\n",
    "driver.get(url)"
   ]
  },
  {
   "cell_type": "code",
   "execution_count": 42,
   "metadata": {},
   "outputs": [
    {
     "data": {
      "text/plain": [
       "12"
      ]
     },
     "execution_count": 42,
     "metadata": {},
     "output_type": "execute_result"
    }
   ],
   "source": [
    "soup = BeautifulSoup(driver.page_source, 'html.parser')\n",
    "trs = soup.select('tbody > tr > td > font > strong')\n",
    "len(trs)"
   ]
  },
  {
   "cell_type": "code",
   "execution_count": 43,
   "metadata": {},
   "outputs": [
    {
     "data": {
      "text/plain": [
       "[<strong>서울/경기지역 </strong>,\n",
       " <strong>빨래지수 : 60</strong>,\n",
       " <strong>외출지수 : 70</strong>,\n",
       " <strong>운동지수 : 60</strong>,\n",
       " <strong>세차지수 : 30</strong>,\n",
       " <strong>우산지수 : 20</strong>,\n",
       " <strong>수면지수 : 80</strong>,\n",
       " <strong>계절별 생활지수 </strong>,\n",
       " <strong>피부지수 \n",
       " \t\t\t\t\t\t\t\t\t\t\t\t\t\t\t\t\t\t: 80</strong>,\n",
       " <strong>감기지수 : 70</strong>,\n",
       " <strong>불조심지수 :80</strong>,\n",
       " <strong>난방지수  \n",
       " \t\t\t\t\t\t\t\t\t\t\t\t\t\t\t\t\t\t:10</strong>]"
      ]
     },
     "execution_count": 43,
     "metadata": {},
     "output_type": "execute_result"
    }
   ],
   "source": [
    "trs.encoding = 'utf-8'\n",
    "trs"
   ]
  },
  {
   "cell_type": "code",
   "execution_count": 45,
   "metadata": {},
   "outputs": [
    {
     "data": {
      "text/plain": [
       "'빨래지수 : 60\\n바깥 날씨 주의하세요'"
      ]
     },
     "execution_count": 45,
     "metadata": {},
     "output_type": "execute_result"
    }
   ],
   "source": [
    "ment =driver.find_element(By.XPATH,'/html/body/table[2]/tbody/tr[3]/td[2]/table/tbody/tr[3]/td/table/tbody/tr/td/table/tbody/tr[1]/td[2]').text\n",
    "ment\n",
    "# 다른 내용이 출력.....와이~~~~~~~~~~~"
   ]
  },
  {
   "cell_type": "code",
   "execution_count": 48,
   "metadata": {},
   "outputs": [
    {
     "data": {
      "text/plain": [
       "'외출지수 : 70\\n외출 약속도 좋아요'"
      ]
     },
     "execution_count": 48,
     "metadata": {},
     "output_type": "execute_result"
    }
   ],
   "source": [
    "ment =driver.find_element(By.XPATH,'/html/body/table[2]/tbody/tr[3]/td[2]/table/tbody/tr[3]/td/table/tbody/tr/td/table/tbody/tr[1]/td[4]').text\n",
    "ment"
   ]
  },
  {
   "cell_type": "code",
   "execution_count": 16,
   "metadata": {},
   "outputs": [
    {
     "ename": "AttributeError",
     "evalue": "'NoneType' object has no attribute 'get_text'",
     "output_type": "error",
     "traceback": [
      "\u001b[1;31m---------------------------------------------------------------------------\u001b[0m",
      "\u001b[1;31mAttributeError\u001b[0m                            Traceback (most recent call last)",
      "\u001b[1;32mc:\\Users\\young\\workspace\\project_01\\Fine_Dust\\00.weatheri_크롤링.ipynb 셀 6\u001b[0m line \u001b[0;36m6\n\u001b[0;32m      <a href='vscode-notebook-cell:/c%3A/Users/young/workspace/project_01/Fine_Dust/00.weatheri_%ED%81%AC%EB%A1%A4%EB%A7%81.ipynb#X10sZmlsZQ%3D%3D?line=3'>4</a>\u001b[0m name \u001b[39m=\u001b[39m tr\u001b[39m.\u001b[39mselect_one(\u001b[39m'\u001b[39m\u001b[39mtbody > tr > td > font > strong\u001b[39m\u001b[39m'\u001b[39m)\n\u001b[0;32m      <a href='vscode-notebook-cell:/c%3A/Users/young/workspace/project_01/Fine_Dust/00.weatheri_%ED%81%AC%EB%A1%A4%EB%A7%81.ipynb#X10sZmlsZQ%3D%3D?line=4'>5</a>\u001b[0m index \u001b[39m=\u001b[39m tr\u001b[39m.\u001b[39mselect_one(\u001b[39m'\u001b[39m\u001b[39mtbody > tr > td > font > strong\u001b[39m\u001b[39m'\u001b[39m)\n\u001b[1;32m----> <a href='vscode-notebook-cell:/c%3A/Users/young/workspace/project_01/Fine_Dust/00.weatheri_%ED%81%AC%EB%A1%A4%EB%A7%81.ipynb#X10sZmlsZQ%3D%3D?line=5'>6</a>\u001b[0m ment \u001b[39m=\u001b[39m tr\u001b[39m.\u001b[39mselect_one(\u001b[39m'\u001b[39m\u001b[39mtbody > tr > td > font\u001b[39m\u001b[39m'\u001b[39m)\u001b[39m.\u001b[39mget_text()\u001b[39m.\u001b[39mstrip()\n\u001b[0;32m      <a href='vscode-notebook-cell:/c%3A/Users/young/workspace/project_01/Fine_Dust/00.weatheri_%ED%81%AC%EB%A1%A4%EB%A7%81.ipynb#X10sZmlsZQ%3D%3D?line=6'>7</a>\u001b[0m name, index, ment\n",
      "\u001b[1;31mAttributeError\u001b[0m: 'NoneType' object has no attribute 'get_text'"
     ]
    }
   ],
   "source": [
    "# 생활지수\n",
    "tr = trs[0]\n",
    "#img = tr.select_one('tbody > tr > td > img')['src']\n",
    "name = tr.select_one('tbody > tr > td > font > strong')\n",
    "index = tr.select_one('tbody > tr > td > font > strong')\n",
    "ment = tr.select_one('tbody > tr > td > font')\n",
    "name, index, ment"
   ]
  },
  {
   "cell_type": "code",
   "execution_count": 14,
   "metadata": {},
   "outputs": [],
   "source": [
    "data = []\n",
    "from datetime import datetime, timedelta\n",
    "\n",
    "for tr in trs:\n",
    "    soup = BeautifulSoup(driver.page_source, 'html.parser')\n",
    "    img = tr.select_one('img')['src']\n",
    "    item = tr.select_one('h1').get_text().strip().replace('.', '')\n",
    "    index = tr.select_one('h2').get_text().strip()\n",
    "    ment = tr.select_one('p').get_text().strip()\n",
    "\n",
    "\n",
    "    url = 'https://www.kr-weathernews.com/mv3/html/lifeindex.html?region='\n",
    "    res = requests.get(url)\n",
    "    soup = BeautifulSoup(res.text, 'html.parser')\n",
    "\n",
    "    data.append({ '이미지': img, '생활지수': item, '지수': index, '안내멘트': ment})"
   ]
  },
  {
   "cell_type": "code",
   "execution_count": 15,
   "metadata": {},
   "outputs": [
    {
     "data": {
      "text/html": [
       "<div>\n",
       "<style scoped>\n",
       "    .dataframe tbody tr th:only-of-type {\n",
       "        vertical-align: middle;\n",
       "    }\n",
       "\n",
       "    .dataframe tbody tr th {\n",
       "        vertical-align: top;\n",
       "    }\n",
       "\n",
       "    .dataframe thead th {\n",
       "        text-align: right;\n",
       "    }\n",
       "</style>\n",
       "<table border=\"1\" class=\"dataframe\">\n",
       "  <thead>\n",
       "    <tr style=\"text-align: right;\">\n",
       "      <th></th>\n",
       "      <th>이미지</th>\n",
       "      <th>생활지수</th>\n",
       "      <th>지수</th>\n",
       "      <th>안내멘트</th>\n",
       "    </tr>\n",
       "  </thead>\n",
       "  <tbody>\n",
       "    <tr>\n",
       "      <th>0</th>\n",
       "      <td>../img/icon_idx_carwash.png?ver=20231116</td>\n",
       "      <td>세차지수</td>\n",
       "      <td>30</td>\n",
       "      <td>오늘 세차는 다시 한번 생각해 보세요</td>\n",
       "    </tr>\n",
       "    <tr>\n",
       "      <th>1</th>\n",
       "      <td>../img/icon_idx_running.png?ver=20231116</td>\n",
       "      <td>달리기지수</td>\n",
       "      <td>70</td>\n",
       "      <td>달리기에 나쁘지 않은 날씨예요</td>\n",
       "    </tr>\n",
       "    <tr>\n",
       "      <th>2</th>\n",
       "      <td>../img/icon_idx_washing.png?ver=20231116</td>\n",
       "      <td>빨래지수</td>\n",
       "      <td>26</td>\n",
       "      <td>야외에서 빨래 말리기는 절대 NO</td>\n",
       "    </tr>\n",
       "    <tr>\n",
       "      <th>3</th>\n",
       "      <td>../img/icon_idx_sleep.png?ver=20231116</td>\n",
       "      <td>수면지수</td>\n",
       "      <td>30</td>\n",
       "      <td>잠자기에 조금 힘든 날이에요</td>\n",
       "    </tr>\n",
       "    <tr>\n",
       "      <th>4</th>\n",
       "      <td>../img/icon_idx_umb.png?ver=20231116</td>\n",
       "      <td>우산지수</td>\n",
       "      <td>30</td>\n",
       "      <td>혹시 모르니 가벼운 우산을 챙겨보세요</td>\n",
       "    </tr>\n",
       "  </tbody>\n",
       "</table>\n",
       "</div>"
      ],
      "text/plain": [
       "                                        이미지   생활지수  지수                  안내멘트\n",
       "0  ../img/icon_idx_carwash.png?ver=20231116   세차지수  30  오늘 세차는 다시 한번 생각해 보세요\n",
       "1  ../img/icon_idx_running.png?ver=20231116  달리기지수  70      달리기에 나쁘지 않은 날씨예요\n",
       "2  ../img/icon_idx_washing.png?ver=20231116   빨래지수  26    야외에서 빨래 말리기는 절대 NO\n",
       "3    ../img/icon_idx_sleep.png?ver=20231116   수면지수  30       잠자기에 조금 힘든 날이에요\n",
       "4      ../img/icon_idx_umb.png?ver=20231116   우산지수  30  혹시 모르니 가벼운 우산을 챙겨보세요"
      ]
     },
     "execution_count": 15,
     "metadata": {},
     "output_type": "execute_result"
    }
   ],
   "source": [
    "df = pd.DataFrame(data)\n",
    "df"
   ]
  },
  {
   "cell_type": "code",
   "execution_count": 18,
   "metadata": {},
   "outputs": [
    {
     "data": {
      "text/plain": [
       "2"
      ]
     },
     "execution_count": 18,
     "metadata": {},
     "output_type": "execute_result"
    }
   ],
   "source": [
    "# \n",
    "soup = BeautifulSoup(driver.page_source, 'html.parser')\n",
    "trs2 = soup.select('#slidePage2 > #pointList > li')\n",
    "len(trs2)"
   ]
  },
  {
   "cell_type": "code",
   "execution_count": 20,
   "metadata": {},
   "outputs": [
    {
     "data": {
      "text/plain": [
       "[<li><img alt=\"자외선지수 사진\" src=\"../img/icon_life_uv.png?ver=20231116\"/><h1>자외선지수</h1><h2> 3</h2><p>야외활동 안심하고 마음껏 하세요</p><progress max=\"100\" value=\"25\"></progress></li>,\n",
       " <li><img alt=\"감기지수 사진\" src=\"../img/icon_life_cold.png?ver=20231116\"/><h1>감기지수</h1><h2> 3</h2><p>노약자는 외부 활동을 되도록 삼가요</p><progress max=\"100\" value=\"75\"></progress></li>]"
      ]
     },
     "execution_count": 20,
     "metadata": {},
     "output_type": "execute_result"
    }
   ],
   "source": [
    "trs2.encoding = 'utf-8'\n",
    "trs2"
   ]
  },
  {
   "cell_type": "code",
   "execution_count": 21,
   "metadata": {},
   "outputs": [
    {
     "data": {
      "text/plain": [
       "('자외선지수', '3', '야외활동 안심하고 마음껏 하세요')"
      ]
     },
     "execution_count": 21,
     "metadata": {},
     "output_type": "execute_result"
    }
   ],
   "source": [
    "# 생활지수\n",
    "tr2 = trs2[0]\n",
    "img = tr2.select_one('img')['src']\n",
    "item = tr2.select_one('h1').get_text().strip().replace('.', '')\n",
    "index = tr2.select_one('h2').get_text().strip()\n",
    "ment = tr2.select_one('p').get_text().strip()\n",
    "item, index, ment"
   ]
  },
  {
   "cell_type": "code",
   "execution_count": 22,
   "metadata": {},
   "outputs": [],
   "source": [
    "for tr2 in trs2:\n",
    "    soup = BeautifulSoup(driver.page_source, 'html.parser')\n",
    "    img = tr2.select_one('img')['src']\n",
    "    item = tr2.select_one('h1').get_text().strip().replace('.', '')\n",
    "    index = tr2.select_one('h2').get_text().strip()\n",
    "    ment = tr2.select_one('p').get_text().strip()\n",
    "\n",
    "\n",
    "    url = 'https://www.kr-weathernews.com/mv3/html/lifeindex.html?region='\n",
    "    res = requests.get(url)\n",
    "    soup = BeautifulSoup(res.text, 'html.parser')\n",
    "\n",
    "    data.append({ '이미지': img, '생활지수': item, '지수': index, '안내멘트': ment})"
   ]
  },
  {
   "cell_type": "code",
   "execution_count": 24,
   "metadata": {},
   "outputs": [
    {
     "data": {
      "text/html": [
       "<div>\n",
       "<style scoped>\n",
       "    .dataframe tbody tr th:only-of-type {\n",
       "        vertical-align: middle;\n",
       "    }\n",
       "\n",
       "    .dataframe tbody tr th {\n",
       "        vertical-align: top;\n",
       "    }\n",
       "\n",
       "    .dataframe thead th {\n",
       "        text-align: right;\n",
       "    }\n",
       "</style>\n",
       "<table border=\"1\" class=\"dataframe\">\n",
       "  <thead>\n",
       "    <tr style=\"text-align: right;\">\n",
       "      <th></th>\n",
       "      <th>이미지</th>\n",
       "      <th>생활지수</th>\n",
       "      <th>지수</th>\n",
       "      <th>안내멘트</th>\n",
       "    </tr>\n",
       "  </thead>\n",
       "  <tbody>\n",
       "    <tr>\n",
       "      <th>0</th>\n",
       "      <td>../img/icon_idx_carwash.png?ver=20231116</td>\n",
       "      <td>세차지수</td>\n",
       "      <td>30</td>\n",
       "      <td>오늘 세차는 다시 한번 생각해 보세요</td>\n",
       "    </tr>\n",
       "    <tr>\n",
       "      <th>1</th>\n",
       "      <td>../img/icon_idx_running.png?ver=20231116</td>\n",
       "      <td>달리기지수</td>\n",
       "      <td>70</td>\n",
       "      <td>달리기에 나쁘지 않은 날씨예요</td>\n",
       "    </tr>\n",
       "    <tr>\n",
       "      <th>2</th>\n",
       "      <td>../img/icon_idx_washing.png?ver=20231116</td>\n",
       "      <td>빨래지수</td>\n",
       "      <td>26</td>\n",
       "      <td>야외에서 빨래 말리기는 절대 NO</td>\n",
       "    </tr>\n",
       "    <tr>\n",
       "      <th>3</th>\n",
       "      <td>../img/icon_idx_sleep.png?ver=20231116</td>\n",
       "      <td>수면지수</td>\n",
       "      <td>30</td>\n",
       "      <td>잠자기에 조금 힘든 날이에요</td>\n",
       "    </tr>\n",
       "    <tr>\n",
       "      <th>4</th>\n",
       "      <td>../img/icon_idx_umb.png?ver=20231116</td>\n",
       "      <td>우산지수</td>\n",
       "      <td>30</td>\n",
       "      <td>혹시 모르니 가벼운 우산을 챙겨보세요</td>\n",
       "    </tr>\n",
       "    <tr>\n",
       "      <th>5</th>\n",
       "      <td>../img/icon_life_uv.png?ver=20231116</td>\n",
       "      <td>자외선지수</td>\n",
       "      <td>3</td>\n",
       "      <td>야외활동 안심하고 마음껏 하세요</td>\n",
       "    </tr>\n",
       "    <tr>\n",
       "      <th>6</th>\n",
       "      <td>../img/icon_life_cold.png?ver=20231116</td>\n",
       "      <td>감기지수</td>\n",
       "      <td>3</td>\n",
       "      <td>노약자는 외부 활동을 되도록 삼가요</td>\n",
       "    </tr>\n",
       "  </tbody>\n",
       "</table>\n",
       "</div>"
      ],
      "text/plain": [
       "                                        이미지   생활지수  지수                  안내멘트\n",
       "0  ../img/icon_idx_carwash.png?ver=20231116   세차지수  30  오늘 세차는 다시 한번 생각해 보세요\n",
       "1  ../img/icon_idx_running.png?ver=20231116  달리기지수  70      달리기에 나쁘지 않은 날씨예요\n",
       "2  ../img/icon_idx_washing.png?ver=20231116   빨래지수  26    야외에서 빨래 말리기는 절대 NO\n",
       "3    ../img/icon_idx_sleep.png?ver=20231116   수면지수  30       잠자기에 조금 힘든 날이에요\n",
       "4      ../img/icon_idx_umb.png?ver=20231116   우산지수  30  혹시 모르니 가벼운 우산을 챙겨보세요\n",
       "5      ../img/icon_life_uv.png?ver=20231116  자외선지수   3     야외활동 안심하고 마음껏 하세요\n",
       "6    ../img/icon_life_cold.png?ver=20231116   감기지수   3   노약자는 외부 활동을 되도록 삼가요"
      ]
     },
     "execution_count": 24,
     "metadata": {},
     "output_type": "execute_result"
    }
   ],
   "source": [
    "df = pd.DataFrame(data)\n",
    "df"
   ]
  },
  {
   "cell_type": "code",
   "execution_count": null,
   "metadata": {},
   "outputs": [],
   "source": []
  }
 ],
 "metadata": {
  "kernelspec": {
   "display_name": "Python 3",
   "language": "python",
   "name": "python3"
  },
  "language_info": {
   "codemirror_mode": {
    "name": "ipython",
    "version": 3
   },
   "file_extension": ".py",
   "mimetype": "text/x-python",
   "name": "python",
   "nbconvert_exporter": "python",
   "pygments_lexer": "ipython3",
   "version": "3.11.5"
  }
 },
 "nbformat": 4,
 "nbformat_minor": 2
}
