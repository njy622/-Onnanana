{
 "cells": [
  {
   "cell_type": "code",
   "execution_count": 1,
   "metadata": {},
   "outputs": [],
   "source": [
    "import pandas as pd"
   ]
  },
  {
   "cell_type": "code",
   "execution_count": 2,
   "metadata": {},
   "outputs": [],
   "source": [
    "df = pd.read_csv('data/test/비염.csv')"
   ]
  },
  {
   "cell_type": "code",
   "execution_count": 3,
   "metadata": {},
   "outputs": [],
   "source": [
    "df1 = pd.read_csv('data/test/아토피.csv')"
   ]
  },
  {
   "cell_type": "code",
   "execution_count": 4,
   "metadata": {},
   "outputs": [],
   "source": [
    "df2 = pd.read_csv('data/test/천식.csv')"
   ]
  },
  {
   "cell_type": "code",
   "execution_count": 9,
   "metadata": {},
   "outputs": [],
   "source": [
    "df3 = pd.read_csv('data/test/pm25_2.csv')"
   ]
  },
  {
   "cell_type": "code",
   "execution_count": 12,
   "metadata": {},
   "outputs": [],
   "source": [
    "df4 = pd.read_csv('data/test/pm10_2.csv')"
   ]
  },
  {
   "cell_type": "code",
   "execution_count": 15,
   "metadata": {},
   "outputs": [],
   "source": [
    "df5 = pd.read_csv('data/test/일산화.csv')"
   ]
  },
  {
   "cell_type": "code",
   "execution_count": 18,
   "metadata": {},
   "outputs": [],
   "source": [
    "df6 = pd.read_csv('data/test/이산화.csv')"
   ]
  },
  {
   "cell_type": "code",
   "execution_count": 21,
   "metadata": {},
   "outputs": [],
   "source": [
    "df7 = pd.read_csv('data/test/오존.csv')"
   ]
  },
  {
   "cell_type": "code",
   "execution_count": 24,
   "metadata": {},
   "outputs": [],
   "source": [
    "df8 = pd.read_csv('data/test/납.csv')"
   ]
  },
  {
   "cell_type": "code",
   "execution_count": 48,
   "metadata": {},
   "outputs": [],
   "source": [
    "df9 = pd.read_csv('data/test/아황산.csv')"
   ]
  },
  {
   "cell_type": "code",
   "execution_count": 6,
   "metadata": {},
   "outputs": [],
   "source": [
    "# 먼저 df와 df1을 병합\n",
    "result_df = pd.merge(df, df1, on=['STD_YYYYMM', 'SIDO'], how='inner')\n",
    "\n",
    "# 그 결과에 df2를 병합\n",
    "result_df = pd.merge(result_df, df2, on=['STD_YYYYMM', 'SIDO'], how='inner')"
   ]
  },
  {
   "cell_type": "code",
   "execution_count": 10,
   "metadata": {},
   "outputs": [],
   "source": [
    "\n",
    "# 그 결과에 df3를 병합\n",
    "result_df = pd.merge(result_df, df3, on=['STD_YYYYMM', 'SIDO'], how='inner')"
   ]
  },
  {
   "cell_type": "code",
   "execution_count": 13,
   "metadata": {},
   "outputs": [],
   "source": [
    "# 그 결과에 df4를 병합\n",
    "result_df = pd.merge(result_df, df4, on=['STD_YYYYMM', 'SIDO'], how='inner')"
   ]
  },
  {
   "cell_type": "code",
   "execution_count": 16,
   "metadata": {},
   "outputs": [],
   "source": [
    "# 그 결과에 df5를 병합\n",
    "result_df = pd.merge(result_df, df5, on=['STD_YYYYMM', 'SIDO'], how='inner')"
   ]
  },
  {
   "cell_type": "code",
   "execution_count": 19,
   "metadata": {},
   "outputs": [],
   "source": [
    "# 그 결과에 df6를 병합\n",
    "result_df = pd.merge(result_df, df6, on=['STD_YYYYMM', 'SIDO'], how='inner')"
   ]
  },
  {
   "cell_type": "code",
   "execution_count": 22,
   "metadata": {},
   "outputs": [],
   "source": [
    "# 그 결과에 df7를 병합\n",
    "result_df = pd.merge(result_df, df7, on=['STD_YYYYMM', 'SIDO'], how='inner')"
   ]
  },
  {
   "cell_type": "code",
   "execution_count": 25,
   "metadata": {},
   "outputs": [],
   "source": [
    "# 그 결과에 df8를 병합\n",
    "result_df = pd.merge(result_df, df8, on=['STD_YYYYMM', 'SIDO'], how='inner')"
   ]
  },
  {
   "cell_type": "code",
   "execution_count": 49,
   "metadata": {},
   "outputs": [],
   "source": [
    "# 그 결과에 df9를 병합\n",
    "result_df = pd.merge(result_df, df9, on=['STD_YYYYMM', 'SIDO'], how='inner')"
   ]
  },
  {
   "cell_type": "code",
   "execution_count": 26,
   "metadata": {},
   "outputs": [
    {
     "data": {
      "text/html": [
       "<div>\n",
       "<style scoped>\n",
       "    .dataframe tbody tr th:only-of-type {\n",
       "        vertical-align: middle;\n",
       "    }\n",
       "\n",
       "    .dataframe tbody tr th {\n",
       "        vertical-align: top;\n",
       "    }\n",
       "\n",
       "    .dataframe thead th {\n",
       "        text-align: right;\n",
       "    }\n",
       "</style>\n",
       "<table border=\"1\" class=\"dataframe\">\n",
       "  <thead>\n",
       "    <tr style=\"text-align: right;\">\n",
       "      <th></th>\n",
       "      <th>STD_YYYYMM</th>\n",
       "      <th>SIDO</th>\n",
       "      <th>비염환자수</th>\n",
       "      <th>아토피환자수</th>\n",
       "      <th>천식환자수</th>\n",
       "      <th>AVG_PM2.5</th>\n",
       "      <th>PM2_BAD</th>\n",
       "      <th>AVG_PM10</th>\n",
       "      <th>PM10_BAD</th>\n",
       "      <th>PM10_80BAD</th>\n",
       "      <th>...</th>\n",
       "      <th>이산화_0.06BAD</th>\n",
       "      <th>이산화_0.03BAD</th>\n",
       "      <th>이산화_BAD</th>\n",
       "      <th>AVG_오존</th>\n",
       "      <th>오존_BAD</th>\n",
       "      <th>오존0.06_BAD</th>\n",
       "      <th>오존0.1_BAD</th>\n",
       "      <th>AVG_납</th>\n",
       "      <th>납_0.5BAD</th>\n",
       "      <th>납_BAD</th>\n",
       "    </tr>\n",
       "  </thead>\n",
       "  <tbody>\n",
       "    <tr>\n",
       "      <th>0</th>\n",
       "      <td>201501</td>\n",
       "      <td>서울특별시</td>\n",
       "      <td>377167</td>\n",
       "      <td>28189</td>\n",
       "      <td>53718</td>\n",
       "      <td>25.00</td>\n",
       "      <td>N</td>\n",
       "      <td>49.00</td>\n",
       "      <td>Y</td>\n",
       "      <td>N</td>\n",
       "      <td>...</td>\n",
       "      <td>N</td>\n",
       "      <td>Y</td>\n",
       "      <td>Y</td>\n",
       "      <td>0.0110</td>\n",
       "      <td>N</td>\n",
       "      <td>N</td>\n",
       "      <td>N</td>\n",
       "      <td>0.0458</td>\n",
       "      <td>N</td>\n",
       "      <td>Y</td>\n",
       "    </tr>\n",
       "    <tr>\n",
       "      <th>1</th>\n",
       "      <td>201502</td>\n",
       "      <td>서울특별시</td>\n",
       "      <td>391955</td>\n",
       "      <td>25469</td>\n",
       "      <td>53754</td>\n",
       "      <td>30.00</td>\n",
       "      <td>N</td>\n",
       "      <td>84.00</td>\n",
       "      <td>Y</td>\n",
       "      <td>Y</td>\n",
       "      <td>...</td>\n",
       "      <td>N</td>\n",
       "      <td>Y</td>\n",
       "      <td>Y</td>\n",
       "      <td>0.0160</td>\n",
       "      <td>N</td>\n",
       "      <td>N</td>\n",
       "      <td>N</td>\n",
       "      <td>0.0558</td>\n",
       "      <td>N</td>\n",
       "      <td>Y</td>\n",
       "    </tr>\n",
       "    <tr>\n",
       "      <th>2</th>\n",
       "      <td>201503</td>\n",
       "      <td>서울특별시</td>\n",
       "      <td>456140</td>\n",
       "      <td>31604</td>\n",
       "      <td>60610</td>\n",
       "      <td>30.00</td>\n",
       "      <td>N</td>\n",
       "      <td>71.00</td>\n",
       "      <td>Y</td>\n",
       "      <td>N</td>\n",
       "      <td>...</td>\n",
       "      <td>N</td>\n",
       "      <td>Y</td>\n",
       "      <td>Y</td>\n",
       "      <td>0.0220</td>\n",
       "      <td>N</td>\n",
       "      <td>N</td>\n",
       "      <td>N</td>\n",
       "      <td>0.0203</td>\n",
       "      <td>N</td>\n",
       "      <td>N</td>\n",
       "    </tr>\n",
       "    <tr>\n",
       "      <th>3</th>\n",
       "      <td>201504</td>\n",
       "      <td>서울특별시</td>\n",
       "      <td>429844</td>\n",
       "      <td>30585</td>\n",
       "      <td>60421</td>\n",
       "      <td>21.00</td>\n",
       "      <td>N</td>\n",
       "      <td>45.00</td>\n",
       "      <td>Y</td>\n",
       "      <td>N</td>\n",
       "      <td>...</td>\n",
       "      <td>N</td>\n",
       "      <td>Y</td>\n",
       "      <td>Y</td>\n",
       "      <td>0.0280</td>\n",
       "      <td>N</td>\n",
       "      <td>N</td>\n",
       "      <td>N</td>\n",
       "      <td>0.0316</td>\n",
       "      <td>N</td>\n",
       "      <td>Y</td>\n",
       "    </tr>\n",
       "    <tr>\n",
       "      <th>4</th>\n",
       "      <td>201505</td>\n",
       "      <td>서울특별시</td>\n",
       "      <td>320863</td>\n",
       "      <td>33323</td>\n",
       "      <td>50343</td>\n",
       "      <td>22.00</td>\n",
       "      <td>N</td>\n",
       "      <td>45.00</td>\n",
       "      <td>Y</td>\n",
       "      <td>N</td>\n",
       "      <td>...</td>\n",
       "      <td>N</td>\n",
       "      <td>Y</td>\n",
       "      <td>Y</td>\n",
       "      <td>0.0330</td>\n",
       "      <td>Y</td>\n",
       "      <td>N</td>\n",
       "      <td>N</td>\n",
       "      <td>0.0250</td>\n",
       "      <td>N</td>\n",
       "      <td>Y</td>\n",
       "    </tr>\n",
       "    <tr>\n",
       "      <th>...</th>\n",
       "      <td>...</td>\n",
       "      <td>...</td>\n",
       "      <td>...</td>\n",
       "      <td>...</td>\n",
       "      <td>...</td>\n",
       "      <td>...</td>\n",
       "      <td>...</td>\n",
       "      <td>...</td>\n",
       "      <td>...</td>\n",
       "      <td>...</td>\n",
       "      <td>...</td>\n",
       "      <td>...</td>\n",
       "      <td>...</td>\n",
       "      <td>...</td>\n",
       "      <td>...</td>\n",
       "      <td>...</td>\n",
       "      <td>...</td>\n",
       "      <td>...</td>\n",
       "      <td>...</td>\n",
       "      <td>...</td>\n",
       "      <td>...</td>\n",
       "    </tr>\n",
       "    <tr>\n",
       "      <th>1435</th>\n",
       "      <td>202208</td>\n",
       "      <td>경상남도</td>\n",
       "      <td>108328</td>\n",
       "      <td>8306</td>\n",
       "      <td>8727</td>\n",
       "      <td>9.88</td>\n",
       "      <td>N</td>\n",
       "      <td>17.12</td>\n",
       "      <td>N</td>\n",
       "      <td>N</td>\n",
       "      <td>...</td>\n",
       "      <td>N</td>\n",
       "      <td>N</td>\n",
       "      <td>N</td>\n",
       "      <td>0.0281</td>\n",
       "      <td>N</td>\n",
       "      <td>N</td>\n",
       "      <td>N</td>\n",
       "      <td>0.0030</td>\n",
       "      <td>N</td>\n",
       "      <td>N</td>\n",
       "    </tr>\n",
       "    <tr>\n",
       "      <th>1436</th>\n",
       "      <td>202209</td>\n",
       "      <td>경상남도</td>\n",
       "      <td>135927</td>\n",
       "      <td>7578</td>\n",
       "      <td>12709</td>\n",
       "      <td>10.35</td>\n",
       "      <td>N</td>\n",
       "      <td>17.29</td>\n",
       "      <td>N</td>\n",
       "      <td>N</td>\n",
       "      <td>...</td>\n",
       "      <td>N</td>\n",
       "      <td>N</td>\n",
       "      <td>N</td>\n",
       "      <td>0.0284</td>\n",
       "      <td>N</td>\n",
       "      <td>N</td>\n",
       "      <td>N</td>\n",
       "      <td>0.0116</td>\n",
       "      <td>N</td>\n",
       "      <td>N</td>\n",
       "    </tr>\n",
       "    <tr>\n",
       "      <th>1437</th>\n",
       "      <td>202210</td>\n",
       "      <td>경상남도</td>\n",
       "      <td>139660</td>\n",
       "      <td>7262</td>\n",
       "      <td>13831</td>\n",
       "      <td>12.06</td>\n",
       "      <td>N</td>\n",
       "      <td>18.29</td>\n",
       "      <td>N</td>\n",
       "      <td>N</td>\n",
       "      <td>...</td>\n",
       "      <td>N</td>\n",
       "      <td>N</td>\n",
       "      <td>N</td>\n",
       "      <td>0.0269</td>\n",
       "      <td>N</td>\n",
       "      <td>N</td>\n",
       "      <td>N</td>\n",
       "      <td>0.0071</td>\n",
       "      <td>N</td>\n",
       "      <td>N</td>\n",
       "    </tr>\n",
       "    <tr>\n",
       "      <th>1438</th>\n",
       "      <td>202211</td>\n",
       "      <td>경상남도</td>\n",
       "      <td>154846</td>\n",
       "      <td>6545</td>\n",
       "      <td>12240</td>\n",
       "      <td>18.79</td>\n",
       "      <td>N</td>\n",
       "      <td>30.00</td>\n",
       "      <td>N</td>\n",
       "      <td>N</td>\n",
       "      <td>...</td>\n",
       "      <td>N</td>\n",
       "      <td>N</td>\n",
       "      <td>N</td>\n",
       "      <td>0.0257</td>\n",
       "      <td>N</td>\n",
       "      <td>N</td>\n",
       "      <td>N</td>\n",
       "      <td>0.0135</td>\n",
       "      <td>N</td>\n",
       "      <td>N</td>\n",
       "    </tr>\n",
       "    <tr>\n",
       "      <th>1439</th>\n",
       "      <td>202212</td>\n",
       "      <td>경상남도</td>\n",
       "      <td>172837</td>\n",
       "      <td>6625</td>\n",
       "      <td>12876</td>\n",
       "      <td>16.21</td>\n",
       "      <td>N</td>\n",
       "      <td>29.36</td>\n",
       "      <td>N</td>\n",
       "      <td>N</td>\n",
       "      <td>...</td>\n",
       "      <td>N</td>\n",
       "      <td>N</td>\n",
       "      <td>N</td>\n",
       "      <td>0.0237</td>\n",
       "      <td>N</td>\n",
       "      <td>N</td>\n",
       "      <td>N</td>\n",
       "      <td>0.0117</td>\n",
       "      <td>N</td>\n",
       "      <td>N</td>\n",
       "    </tr>\n",
       "  </tbody>\n",
       "</table>\n",
       "<p>1440 rows × 24 columns</p>\n",
       "</div>"
      ],
      "text/plain": [
       "      STD_YYYYMM   SIDO   비염환자수  아토피환자수  천식환자수  AVG_PM2.5 PM2_BAD  AVG_PM10  \\\n",
       "0         201501  서울특별시  377167   28189  53718      25.00       N     49.00   \n",
       "1         201502  서울특별시  391955   25469  53754      30.00       N     84.00   \n",
       "2         201503  서울특별시  456140   31604  60610      30.00       N     71.00   \n",
       "3         201504  서울특별시  429844   30585  60421      21.00       N     45.00   \n",
       "4         201505  서울특별시  320863   33323  50343      22.00       N     45.00   \n",
       "...          ...    ...     ...     ...    ...        ...     ...       ...   \n",
       "1435      202208   경상남도  108328    8306   8727       9.88       N     17.12   \n",
       "1436      202209   경상남도  135927    7578  12709      10.35       N     17.29   \n",
       "1437      202210   경상남도  139660    7262  13831      12.06       N     18.29   \n",
       "1438      202211   경상남도  154846    6545  12240      18.79       N     30.00   \n",
       "1439      202212   경상남도  172837    6625  12876      16.21       N     29.36   \n",
       "\n",
       "     PM10_BAD PM10_80BAD  ...  이산화_0.06BAD 이산화_0.03BAD 이산화_BAD  AVG_오존 오존_BAD  \\\n",
       "0           Y          N  ...            N           Y       Y  0.0110      N   \n",
       "1           Y          Y  ...            N           Y       Y  0.0160      N   \n",
       "2           Y          N  ...            N           Y       Y  0.0220      N   \n",
       "3           Y          N  ...            N           Y       Y  0.0280      N   \n",
       "4           Y          N  ...            N           Y       Y  0.0330      Y   \n",
       "...       ...        ...  ...          ...         ...     ...     ...    ...   \n",
       "1435        N          N  ...            N           N       N  0.0281      N   \n",
       "1436        N          N  ...            N           N       N  0.0284      N   \n",
       "1437        N          N  ...            N           N       N  0.0269      N   \n",
       "1438        N          N  ...            N           N       N  0.0257      N   \n",
       "1439        N          N  ...            N           N       N  0.0237      N   \n",
       "\n",
       "     오존0.06_BAD 오존0.1_BAD   AVG_납 납_0.5BAD 납_BAD  \n",
       "0             N         N  0.0458        N     Y  \n",
       "1             N         N  0.0558        N     Y  \n",
       "2             N         N  0.0203        N     N  \n",
       "3             N         N  0.0316        N     Y  \n",
       "4             N         N  0.0250        N     Y  \n",
       "...         ...       ...     ...      ...   ...  \n",
       "1435          N         N  0.0030        N     N  \n",
       "1436          N         N  0.0116        N     N  \n",
       "1437          N         N  0.0071        N     N  \n",
       "1438          N         N  0.0135        N     N  \n",
       "1439          N         N  0.0117        N     N  \n",
       "\n",
       "[1440 rows x 24 columns]"
      ]
     },
     "execution_count": 26,
     "metadata": {},
     "output_type": "execute_result"
    }
   ],
   "source": [
    "result_df"
   ]
  },
  {
   "cell_type": "code",
   "execution_count": 27,
   "metadata": {},
   "outputs": [],
   "source": [
    "result_df.to_csv('data/merge/데이터취합.csv', index=False)"
   ]
  },
  {
   "cell_type": "code",
   "execution_count": 28,
   "metadata": {},
   "outputs": [],
   "source": [
    "import seaborn as sns\n",
    "import matplotlib.pyplot as plt\n",
    "plt.rcParams['font.family'] = 'Malgun Gothic'\n",
    "plt.rcParams['axes.unicode_minus'] = False"
   ]
  },
  {
   "cell_type": "code",
   "execution_count": 29,
   "metadata": {},
   "outputs": [
    {
     "data": {
      "text/html": [
       "<div>\n",
       "<style scoped>\n",
       "    .dataframe tbody tr th:only-of-type {\n",
       "        vertical-align: middle;\n",
       "    }\n",
       "\n",
       "    .dataframe tbody tr th {\n",
       "        vertical-align: top;\n",
       "    }\n",
       "\n",
       "    .dataframe thead tr th {\n",
       "        text-align: left;\n",
       "    }\n",
       "\n",
       "    .dataframe thead tr:last-of-type th {\n",
       "        text-align: right;\n",
       "    }\n",
       "</style>\n",
       "<table border=\"1\" class=\"dataframe\">\n",
       "  <thead>\n",
       "    <tr>\n",
       "      <th></th>\n",
       "      <th>count</th>\n",
       "      <th>mean</th>\n",
       "      <th>min</th>\n",
       "      <th>max</th>\n",
       "      <th>std</th>\n",
       "      <th>var</th>\n",
       "    </tr>\n",
       "    <tr>\n",
       "      <th></th>\n",
       "      <th>천식환자수</th>\n",
       "      <th>천식환자수</th>\n",
       "      <th>천식환자수</th>\n",
       "      <th>천식환자수</th>\n",
       "      <th>천식환자수</th>\n",
       "      <th>천식환자수</th>\n",
       "    </tr>\n",
       "    <tr>\n",
       "      <th>PM10_BAD</th>\n",
       "      <th></th>\n",
       "      <th></th>\n",
       "      <th></th>\n",
       "      <th></th>\n",
       "      <th></th>\n",
       "      <th></th>\n",
       "    </tr>\n",
       "  </thead>\n",
       "  <tbody>\n",
       "    <tr>\n",
       "      <th>N</th>\n",
       "      <td>874</td>\n",
       "      <td>11592.101831</td>\n",
       "      <td>542</td>\n",
       "      <td>82650</td>\n",
       "      <td>11407.741348</td>\n",
       "      <td>1.301366e+08</td>\n",
       "    </tr>\n",
       "    <tr>\n",
       "      <th>Y</th>\n",
       "      <td>566</td>\n",
       "      <td>19807.061837</td>\n",
       "      <td>524</td>\n",
       "      <td>97561</td>\n",
       "      <td>18772.164835</td>\n",
       "      <td>3.523942e+08</td>\n",
       "    </tr>\n",
       "  </tbody>\n",
       "</table>\n",
       "</div>"
      ],
      "text/plain": [
       "         count          mean   min    max           std           var\n",
       "         천식환자수         천식환자수 천식환자수  천식환자수         천식환자수         천식환자수\n",
       "PM10_BAD                                                             \n",
       "N          874  11592.101831   542  82650  11407.741348  1.301366e+08\n",
       "Y          566  19807.061837   524  97561  18772.164835  3.523942e+08"
      ]
     },
     "execution_count": 29,
     "metadata": {},
     "output_type": "execute_result"
    }
   ],
   "source": [
    "result_df.pivot_table('천식환자수', 'PM10_BAD', aggfunc=['count', 'mean', 'min', 'max', 'std', 'var'])"
   ]
  },
  {
   "cell_type": "code",
   "execution_count": 30,
   "metadata": {},
   "outputs": [
    {
     "name": "stderr",
     "output_type": "stream",
     "text": [
      "c:\\Users\\human\\anaconda3\\Lib\\site-packages\\seaborn\\_oldcore.py:1498: FutureWarning: is_categorical_dtype is deprecated and will be removed in a future version. Use isinstance(dtype, CategoricalDtype) instead\n",
      "  if pd.api.types.is_categorical_dtype(vector):\n",
      "c:\\Users\\human\\anaconda3\\Lib\\site-packages\\seaborn\\_oldcore.py:1498: FutureWarning: is_categorical_dtype is deprecated and will be removed in a future version. Use isinstance(dtype, CategoricalDtype) instead\n",
      "  if pd.api.types.is_categorical_dtype(vector):\n",
      "c:\\Users\\human\\anaconda3\\Lib\\site-packages\\seaborn\\_oldcore.py:1498: FutureWarning: is_categorical_dtype is deprecated and will be removed in a future version. Use isinstance(dtype, CategoricalDtype) instead\n",
      "  if pd.api.types.is_categorical_dtype(vector):\n"
     ]
    },
    {
     "data": {
      "image/png": "[encoded data removed]",
      "text/plain": [
       "<Figure size 640x480 with 1 Axes>"
      ]
     },
     "metadata": {},
     "output_type": "display_data"
    }
   ],
   "source": [
    "sns.boxplot(result_df, x='PM10_BAD', y='천식환자수')\n",
    "plt.title('미세먼지에 따른 천식환자수 boxplot');"
   ]
  },
  {
   "cell_type": "code",
   "execution_count": 31,
   "metadata": {},
   "outputs": [
    {
     "data": {
      "text/plain": [
       "Ttest_indResult(statistic=9.352697008205746, pvalue=7.619971172325327e-20)"
      ]
     },
     "execution_count": 31,
     "metadata": {},
     "output_type": "execute_result"
    }
   ],
   "source": [
    "import scipy as sp \n",
    "sp.stats.ttest_ind(result_df[result_df.PM10_BAD=='Y'].천식환자수, result_df[result_df.PM10_BAD=='N'].천식환자수, equal_var=False)"
   ]
  },
  {
   "cell_type": "markdown",
   "metadata": {},
   "source": [
    "두 독립 표본 t-검정(Two-sample t-test)을 나타냅니다. sp.stats.ttest_ind 함수는 두 그룹 간의 평균 차이가 통계적으로 유의미한지 검정합니다. 여기서 두 그룹은 PM10 농도가 나쁜('Y') 날과 좋은('N') 날의 천식 환자 수입니다."
   ]
  },
  {
   "cell_type": "markdown",
   "metadata": {},
   "source": [
    "통계량 (statistic = 9.35): 두 그룹 간의 평균 차이가 크다는 것을 나타내는 값입니다. 이 값이 클수록, 두 그룹 간의 차이가 크다는 것을 의미합니다.\n",
    "p-값 (pvalue ≈ 7.62e-20): 귀무 가설(두 그룹의 평균이 같다는 가설)이 참일 확률입니다. 이 p-값은 매우 작으므로, 우리는 귀무 가설을 기각할 수 있습니다. 즉, PM10 농도가 나쁜 날과 좋은 날의 천식 환자 수 간에는 통계적으로 유의미한 차이가 있음을 나타냅니다.\n",
    "이 결과는 PM10 농도가 천식 환자 수에 영향을 미칠 수 있음을 시사합니다. 그러나 이러한 통계적 분석은 인과 관계를 직접적으로 증명하지는 않으며, 추가적인 연구와 분석이 필요할 수 있습니다."
   ]
  },
  {
   "cell_type": "code",
   "execution_count": 32,
   "metadata": {},
   "outputs": [],
   "source": [
    "from scipy.stats import mannwhitneyu\n",
    "\n",
    "u_statistic, p_value = mannwhitneyu(result_df[result_df.PM10_BAD=='Y'].천식환자수, \n",
    "                                    result_df[result_df.PM10_BAD=='N'].천식환자수)"
   ]
  },
  {
   "cell_type": "code",
   "execution_count": 33,
   "metadata": {},
   "outputs": [
    {
     "data": {
      "text/plain": [
       "(341383.5, 3.052834066199556e-34)"
      ]
     },
     "execution_count": 33,
     "metadata": {},
     "output_type": "execute_result"
    }
   ],
   "source": [
    "u_statistic, p_value"
   ]
  },
  {
   "cell_type": "markdown",
   "metadata": {},
   "source": [
    "Mann-Whitney U 검정을 사용하여 PM10 농도가 나쁜('Y') 날과 좋은('N') 날의 천식 환자 수 간의 차이를 비모수적 방법으로 검정합니다. 비모수적 검정은 데이터가 정규 분포를 따르지 않을 때 유용합니다. mannwhitneyu 함수는 두 독립 표본 간의 차이를 평가하며, 이때 반환되는 두 가지 값은 다음과 같습니다:"
   ]
  },
  {
   "cell_type": "markdown",
   "metadata": {},
   "source": [
    "U 통계량 (u_statistic): 두 그룹 간의 차이를 나타내는 값입니다. 이 값은 두 표본 간의 순위 합 차이를 기반으로 합니다.\n",
    "p-값 (p_value): 귀무 가설(두 그룹의 분포가 같다는 가설)이 참일 확률을 나타냅니다. p-값이 작을수록, 두 그룹 간의 분포 차이가 통계적으로 유의미함을 의미합니다."
   ]
  },
  {
   "cell_type": "markdown",
   "metadata": {},
   "source": [
    "\n",
    "Mann-Whitney U 검정 결과 (341383.5, 3.052834066199556e-34)는 다음과 같은 의미를 가집니다:\n",
    "\n",
    "U 통계량 (341383.5): 두 그룹 간의 차이를 나타내는 값입니다. 이 값은 두 표본 간의 순위 합 차이를 기반으로 합니다.\n",
    "p-값 (약 3.05e-34): 귀무 가설(두 그룹의 분포가 같다는 가설)이 참일 확률을 나타냅니다. 이 매우 작은 p-값은 두 그룹 간의 분포 차이가 통계적으로 매우 유의미하다는 것을 의미합니다.\n",
    "결과적으로, PM10 농도가 나쁜 날과 좋은 날의 천식 환자 수 간에는 통계적으로 유의미한 차이가 있음을 나타냅니다. 이러한 차이는 PM10 농도 변화가 천식 발병에 영향을 미칠 수 있음을 시사할 수 있습니다."
   ]
  },
  {
   "cell_type": "code",
   "execution_count": 39,
   "metadata": {},
   "outputs": [],
   "source": [
    "import statsmodels.api as sm"
   ]
  },
  {
   "cell_type": "code",
   "execution_count": 57,
   "metadata": {},
   "outputs": [
    {
     "name": "stdout",
     "output_type": "stream",
     "text": [
      "                                 OLS Regression Results                                \n",
      "=======================================================================================\n",
      "Dep. Variable:                  천식환자수   R-squared (uncentered):                   0.630\n",
      "Model:                            OLS   Adj. R-squared (uncentered):              0.629\n",
      "Method:                 Least Squares   F-statistic:                              349.1\n",
      "Date:                Tue, 21 Nov 2023   Prob (F-statistic):                   2.84e-304\n",
      "Time:                        16:14:55   Log-Likelihood:                         -15677.\n",
      "No. Observations:                1440   AIC:                                  3.137e+04\n",
      "Df Residuals:                    1433   BIC:                                  3.141e+04\n",
      "Df Model:                           7                                                  \n",
      "Covariance Type:            nonrobust                                                  \n",
      "==============================================================================\n",
      "                 coef    std err          t      P>|t|      [0.025      0.975]\n",
      "------------------------------------------------------------------------------\n",
      "AVG_PM10      64.1679     54.546      1.176      0.240     -42.830     171.166\n",
      "AVG_PM2.5    -83.3593     94.820     -0.879      0.379    -269.360     102.641\n",
      "AVG_일산화    -3.595e+04   4012.556     -8.960      0.000   -4.38e+04   -2.81e+04\n",
      "AVG_오존      4.778e+04    2.9e+04      1.647      0.100   -9122.721    1.05e+05\n",
      "AVG_이산화     1.416e+06   8.39e+04     16.875      0.000    1.25e+06    1.58e+06\n",
      "AVG_아황산     6.031e+05   3.15e+05      1.918      0.055   -1.39e+04    1.22e+06\n",
      "AVG_납       1.072e+05   2.79e+04      3.847      0.000    5.25e+04    1.62e+05\n",
      "==============================================================================\n",
      "Omnibus:                      544.272   Durbin-Watson:                   0.173\n",
      "Prob(Omnibus):                  0.000   Jarque-Bera (JB):             2312.248\n",
      "Skew:                           1.780   Prob(JB):                         0.00\n",
      "Kurtosis:                       8.086   Cond. No.                     4.35e+04\n",
      "==============================================================================\n",
      "\n",
      "Notes:\n",
      "[1] R² is computed without centering (uncentered) since the model does not contain a constant.\n",
      "[2] Standard Errors assume that the covariance matrix of the errors is correctly specified.\n",
      "[3] The condition number is large, 4.35e+04. This might indicate that there are\n",
      "strong multicollinearity or other numerical problems.\n"
     ]
    }
   ],
   "source": [
    "\n",
    "# 각 열의 평균 계산\n",
    "avg_pm10 = result_df['AVG_PM10'].mean()\n",
    "avg_pm25 = result_df['AVG_PM2.5'].mean()\n",
    "avg_일산화 = result_df['AVG_일산화'].mean()\n",
    "avg_오존 = result_df['AVG_오존'].mean()\n",
    "avg_이산화 = result_df['AVG_이산화'].mean()\n",
    "avg_아황산 = result_df['AVG_아황산'].mean()\n",
    "avg_납 = result_df['AVG_납'].mean()\n",
    "\n",
    "# 결측치를 해당 열의 평균값으로 대체\n",
    "result_df['AVG_PM10'] = result_df['AVG_PM10'].fillna(avg_pm10)\n",
    "result_df['AVG_PM2.5'] = result_df['AVG_PM2.5'].fillna(avg_pm25)\n",
    "result_df['AVG_일산화'] = result_df['AVG_일산화'].fillna(avg_일산화)\n",
    "result_df['AVG_오존'] = result_df['AVG_오존'].fillna(avg_오존)\n",
    "result_df['AVG_이산화'] = result_df['AVG_이산화'].fillna(avg_이산화)\n",
    "result_df['AVG_아황산'] = result_df['AVG_아황산'].fillna(avg_아황산)\n",
    "result_df['AVG_납'] = result_df['AVG_납'].fillna(avg_납)\n",
    "\n",
    "# 모델 구축\n",
    "X = result_df[['AVG_PM10', 'AVG_PM2.5', 'AVG_일산화', 'AVG_오존', 'AVG_이산화', 'AVG_아황산', 'AVG_납']]\n",
    "y = result_df['천식환자수']\n",
    "\n",
    "# OLS 모델 생성 및 적합\n",
    "model = sm.OLS(y, X).fit()\n",
    "\n",
    "# 결과 요약 출력\n",
    "print(model.summary())\n"
   ]
  },
  {
   "cell_type": "markdown",
   "metadata": {},
   "source": [
    "이 회귀 분석 결과는 대기 오염 물질이 천식 환자 수에 미치는 영향을 평가한 것입니다. 모델은 천식 환자 수 변동의 약 63%를 설명합니다(R-squared = 0.630). 이산화질소의 영향력이 가장 크며(p-value < 0.000), 통계적으로 유의미한 긍정적 영향을 미치는 것으로 나타났습니다. 납도 유의미한 영향을 미칩니다(p-value < 0.000). 반면, PM10과 PM2.5는 유의미한 영향을 주지 않습니다(p-value > 0.05).\n",
    "\n",
    "일산화질소는 음의 계수를 가지며, 이는 높은 일산화질소 수치가 천식 환자 수 감소와 관련이 있음을 시사하지만, 이는 일반적인 예상과 다르므로 추가적인 조사가 필요합니다.\n",
    "\n",
    "모델의 조건 수(Cond. No.)가 매우 높아, 다중공선성이나 다른 수치적 문제가 있을 수 있음을 나타냅니다. 이는 독립 변수들 간의 과도한 상관관계가 있을 수 있음을 의미하므로, 변수 선택이나 차원 축소 기법을 고려할 필요가 있습니다.\n",
    "\n",
    "이 결과를 바탕으로, 대기 오염 물질 중 특히 이산화질소와 납이 천식 환자 수에 중요한 영향을 미치는 것으로 볼 수 있으며, 이는 공중 보건 정책 수립에 있어 중요한 지표가 될 수 있습니다."
   ]
  },
  {
   "cell_type": "code",
   "execution_count": 55,
   "metadata": {},
   "outputs": [
    {
     "data": {
      "image/png": "[encoded data removed]",
      "text/plain": [
       "<Figure size 640x480 with 1 Axes>"
      ]
     },
     "metadata": {},
     "output_type": "display_data"
    }
   ],
   "source": [
    "import matplotlib.pyplot as plt\n",
    "import numpy as np\n",
    "\n",
    "# 한글 폰트 설정\n",
    "plt.rcParams['font.family'] = 'Malgun Gothic'\n",
    "plt.rcParams['axes.unicode_minus'] = False\n",
    "\n",
    "# 회귀 계수 및 신뢰 구간 추출\n",
    "coefficients = model.params\n",
    "conf = model.conf_int()\n",
    "errors = conf[1] - coefficients\n",
    "\n",
    "# 막대 그래프 생성\n",
    "variables = ['평균 PM10', '평균 PM2.5', '평균 일산화', '평균 오존', '평균 이산화', '평균 아황산', '평균 납']\n",
    "x_pos = np.arange(len(variables))\n",
    "\n",
    "# 막대 그래프 시각화\n",
    "plt.bar(x_pos, coefficients, yerr=errors, align='center', alpha=0.7, capsize=10)\n",
    "plt.xticks(x_pos, variables, rotation=45)\n",
    "plt.ylabel('계수')\n",
    "plt.title('회귀 계수와 신뢰 구간')\n",
    "\n",
    "# 그래프 표시\n",
    "plt.show()\n"
   ]
  },
  {
   "cell_type": "markdown",
   "metadata": {},
   "source": [
    "\n",
    "이 OLS 회귀 분석 결과를 기반으로 한 발표자료 해석은 다음과 같습니다:\n",
    "\n",
    "\"이 연구는 미세먼지, 초미세먼지, 일산화, 오존, 이산화, 아황산, 납이 천식 환자 수에 미치는 영향을 분석하였습니다. 분석 결과, 모델은 전체 변동성의 약 63%를 설명합니다(R-squared = 0.630). 특히, 이산화질소와 납은 천식 환자 수에 대해 강한 양의 영향을 미치는 것으로 나타났으며, 이는 통계적으로 유의미한 결과입니다. 반면, 미세먼지와 초미세먼지는 유의미한 영향을 미치지 않는 것으로 나타났습니다. 일산화는 음의 관계를 보였으나, 이는 추가적인 연구가 필요합니다. 이 연구는 대기 오염물질이 천식 발병에 미치는 영향을 이해하는 데 중요한 기여를 합니다.\"\n",
    "\n",
    "이 해석은 분석된 통계적 수치를 바탕으로 연구 결과의 핵심 내용을 간략하게 요약한 것입니다."
   ]
  },
  {
   "cell_type": "code",
   "execution_count": 63,
   "metadata": {},
   "outputs": [
    {
     "name": "stdout",
     "output_type": "stream",
     "text": [
      "                                 OLS Regression Results                                \n",
      "=======================================================================================\n",
      "Dep. Variable:                  천식환자수   R-squared (uncentered):                   0.530\n",
      "Model:                            OLS   Adj. R-squared (uncentered):              0.529\n",
      "Method:                 Least Squares   F-statistic:                              810.3\n",
      "Date:                Tue, 21 Nov 2023   Prob (F-statistic):                   2.19e-236\n",
      "Time:                        16:20:56   Log-Likelihood:                         -15850.\n",
      "No. Observations:                1440   AIC:                                  3.170e+04\n",
      "Df Residuals:                    1438   BIC:                                  3.172e+04\n",
      "Df Model:                           2                                                  \n",
      "Covariance Type:            nonrobust                                                  \n",
      "==============================================================================\n",
      "                 coef    std err          t      P>|t|      [0.025      0.975]\n",
      "------------------------------------------------------------------------------\n",
      "AVG_PM10     297.9119     53.300      5.589      0.000     193.357     402.466\n",
      "AVG_PM2.5    139.1905     95.542      1.457      0.145     -48.226     326.607\n",
      "==============================================================================\n",
      "Omnibus:                      703.693   Durbin-Watson:                   0.137\n",
      "Prob(Omnibus):                  0.000   Jarque-Bera (JB):             3531.749\n",
      "Skew:                           2.336   Prob(JB):                         0.00\n",
      "Kurtosis:                       9.086   Cond. No.                         13.4\n",
      "==============================================================================\n",
      "\n",
      "Notes:\n",
      "[1] R² is computed without centering (uncentered) since the model does not contain a constant.\n",
      "[2] Standard Errors assume that the covariance matrix of the errors is correctly specified.\n"
     ]
    }
   ],
   "source": [
    "\n",
    "# 각 열의 평균 계산\n",
    "avg_pm10 = result_df['AVG_PM10'].mean()\n",
    "avg_pm25 = result_df['AVG_PM2.5'].mean()\n",
    "avg_일산화 = result_df['AVG_일산화'].mean()\n",
    "avg_오존 = result_df['AVG_오존'].mean()\n",
    "\n",
    "avg_납 = result_df['AVG_납'].mean()\n",
    "\n",
    "# 결측치를 해당 열의 평균값으로 대체\n",
    "result_df['AVG_PM10'] = result_df['AVG_PM10'].fillna(avg_pm10)\n",
    "result_df['AVG_PM2.5'] = result_df['AVG_PM2.5'].fillna(avg_pm25)\n",
    "result_df['AVG_일산화'] = result_df['AVG_일산화'].fillna(avg_일산화)\n",
    "result_df['AVG_오존'] = result_df['AVG_오존'].fillna(avg_오존)\n",
    "\n",
    "result_df['AVG_납'] = result_df['AVG_납'].fillna(avg_납)\n",
    "\n",
    "# 모델 구축\n",
    "X = result_df[['AVG_PM10', 'AVG_PM2.5']]\n",
    "y = result_df['천식환자수']\n",
    "\n",
    "# OLS 모델 생성 및 적합\n",
    "model2 = sm.OLS(y, X).fit()\n",
    "\n",
    "# 결과 요약 출력\n",
    "print(model2.summary())\n"
   ]
  },
  {
   "cell_type": "code",
   "execution_count": 64,
   "metadata": {},
   "outputs": [
    {
     "data": {
      "image/png": "[encoded data removed]",
      "text/plain": [
       "<Figure size 640x480 with 1 Axes>"
      ]
     },
     "metadata": {},
     "output_type": "display_data"
    }
   ],
   "source": [
    "import matplotlib.pyplot as plt\n",
    "import numpy as np\n",
    "\n",
    "# 한글 폰트 설정\n",
    "plt.rcParams['font.family'] = 'Malgun Gothic'\n",
    "plt.rcParams['axes.unicode_minus'] = False\n",
    "\n",
    "# 회귀 계수 및 신뢰 구간 추출\n",
    "coefficients = model2.params\n",
    "conf = model2.conf_int()\n",
    "errors = conf[1] - coefficients\n",
    "\n",
    "# 막대 그래프 생성\n",
    "variables = ['평균 PM10', '평균 PM2.5']\n",
    "x_pos = np.arange(len(variables))\n",
    "\n",
    "# 막대 그래프 시각화\n",
    "plt.bar(x_pos, coefficients, yerr=errors, align='center', alpha=0.7, capsize=10)\n",
    "plt.xticks(x_pos, variables, rotation=45)\n",
    "plt.ylabel('계수')\n",
    "plt.title('회귀 계수와 신뢰 구간')\n",
    "\n",
    "# 그래프 표시\n",
    "plt.show()\n"
   ]
  },
  {
   "cell_type": "code",
   "execution_count": 68,
   "metadata": {},
   "outputs": [
    {
     "name": "stdout",
     "output_type": "stream",
     "text": [
      "                                 OLS Regression Results                                \n",
      "=======================================================================================\n",
      "Dep. Variable:                  천식환자수   R-squared (uncentered):                   0.509\n",
      "Model:                            OLS   Adj. R-squared (uncentered):              0.508\n",
      "Method:                 Least Squares   F-statistic:                              745.6\n",
      "Date:                Tue, 21 Nov 2023   Prob (F-statistic):                   6.79e-223\n",
      "Time:                        16:27:02   Log-Likelihood:                         -15881.\n",
      "No. Observations:                1440   AIC:                                  3.177e+04\n",
      "Df Residuals:                    1438   BIC:                                  3.178e+04\n",
      "Df Model:                           2                                                  \n",
      "Covariance Type:            nonrobust                                                  \n",
      "==============================================================================\n",
      "                 coef    std err          t      P>|t|      [0.025      0.975]\n",
      "------------------------------------------------------------------------------\n",
      "AVG_일산화     3.461e+04   1786.476     19.371      0.000    3.11e+04    3.81e+04\n",
      "AVG_오존     -4.352e+04   2.72e+04     -1.601      0.110   -9.69e+04    9815.578\n",
      "==============================================================================\n",
      "Omnibus:                      699.027   Durbin-Watson:                   0.115\n",
      "Prob(Omnibus):                  0.000   Jarque-Bera (JB):             3513.952\n",
      "Skew:                           2.315   Prob(JB):                         0.00\n",
      "Kurtosis:                       9.093   Cond. No.                         32.8\n",
      "==============================================================================\n",
      "\n",
      "Notes:\n",
      "[1] R² is computed without centering (uncentered) since the model does not contain a constant.\n",
      "[2] Standard Errors assume that the covariance matrix of the errors is correctly specified.\n"
     ]
    }
   ],
   "source": [
    "\n",
    "# 각 열의 평균 계산\n",
    "avg_pm10 = result_df['AVG_PM10'].mean()\n",
    "avg_pm25 = result_df['AVG_PM2.5'].mean()\n",
    "avg_일산화 = result_df['AVG_일산화'].mean()\n",
    "avg_오존 = result_df['AVG_오존'].mean()\n",
    "\n",
    "avg_납 = result_df['AVG_납'].mean()\n",
    "\n",
    "# 결측치를 해당 열의 평균값으로 대체\n",
    "result_df['AVG_PM10'] = result_df['AVG_PM10'].fillna(avg_pm10)\n",
    "result_df['AVG_PM2.5'] = result_df['AVG_PM2.5'].fillna(avg_pm25)\n",
    "result_df['AVG_일산화'] = result_df['AVG_일산화'].fillna(avg_일산화)\n",
    "result_df['AVG_오존'] = result_df['AVG_오존'].fillna(avg_오존)\n",
    "\n",
    "result_df['AVG_납'] = result_df['AVG_납'].fillna(avg_납)\n",
    "\n",
    "# 모델 구축\n",
    "X = result_df[['AVG_일산화', 'AVG_오존']]\n",
    "y = result_df['천식환자수']\n",
    "\n",
    "# OLS 모델 생성 및 적합\n",
    "model3 = sm.OLS(y, X).fit()\n",
    "\n",
    "# 결과 요약 출력\n",
    "print(model3.summary())\n"
   ]
  },
  {
   "cell_type": "code",
   "execution_count": 69,
   "metadata": {},
   "outputs": [
    {
     "data": {
      "image/png": "[encoded data removed]",
      "text/plain": [
       "<Figure size 640x480 with 1 Axes>"
      ]
     },
     "metadata": {},
     "output_type": "display_data"
    }
   ],
   "source": [
    "import matplotlib.pyplot as plt\n",
    "import numpy as np\n",
    "\n",
    "# 한글 폰트 설정\n",
    "plt.rcParams['font.family'] = 'Malgun Gothic'\n",
    "plt.rcParams['axes.unicode_minus'] = False\n",
    "\n",
    "# 회귀 계수 및 신뢰 구간 추출\n",
    "coefficients = model3.params\n",
    "conf = model3.conf_int()\n",
    "errors = conf[1] - coefficients\n",
    "\n",
    "# 막대 그래프 생성\n",
    "variables = ['일산화질소', '오존']\n",
    "x_pos = np.arange(len(variables))\n",
    "\n",
    "# 막대 그래프 시각화\n",
    "plt.bar(x_pos, coefficients, yerr=errors, align='center', alpha=0.7, capsize=10)\n",
    "plt.xticks(x_pos, variables, rotation=45)\n",
    "plt.ylabel('계수')\n",
    "plt.title('회귀 계수와 신뢰 구간')\n",
    "\n",
    "# 그래프 표시\n",
    "plt.show()"
   ]
  },
  {
   "cell_type": "code",
   "execution_count": null,
   "metadata": {},
   "outputs": [],
   "source": []
  }
 ],
 "metadata": {
  "kernelspec": {
   "display_name": "base",
   "language": "python",
   "name": "python3"
  },
  "language_info": {
   "codemirror_mode": {
    "name": "ipython",
    "version": 3
   },
   "file_extension": ".py",
   "mimetype": "text/x-python",
   "name": "python",
   "nbconvert_exporter": "python",
   "pygments_lexer": "ipython3",
   "version": "3.11.4"
  }
 },
 "nbformat": 4,
 "nbformat_minor": 2
}
