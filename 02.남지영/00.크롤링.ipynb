{
 "cells": [
  {
   "cell_type": "code",
   "execution_count": 54,
   "metadata": {},
   "outputs": [],
   "source": [
    "import requests\n",
    "import pandas as pd\n",
    "from bs4 import BeautifulSoup\n"
   ]
  },
  {
   "cell_type": "code",
   "execution_count": 55,
   "metadata": {},
   "outputs": [],
   "source": [
    "url = 'https://www.kr-weathernews.com/mv3/html/lifeindex.html?region='\n",
    "res = requests.get(url)\n",
    "soup = BeautifulSoup(res.text, 'html.parser')"
   ]
  },
  {
   "cell_type": "code",
   "execution_count": 49,
   "metadata": {},
   "outputs": [],
   "source": [
    "res.encoding = 'utf-8'"
   ]
  },
  {
   "cell_type": "code",
   "execution_count": 50,
   "metadata": {},
   "outputs": [
    {
     "name": "stdout",
     "output_type": "stream",
     "text": [
      "<!doctype html><html><head><title>생활지수</title><meta charset=utf-8><meta http-equiv=X-UA-Compatible content=\"IE=Edge\"><meta name=theme-color content=#0c419a><meta name=viewport content=\"width=device-width,initial-scale=1,shrink-to-fit=no,maximum-scale=1,user-scalable=no\"><meta name=title content=생활지수><meta name=description content=\"세계 최대의 기상 컨설팅 회사, 날씨, 주간날씨, 주말날씨, 기상 컨설팅, 해운 날씨 컨설팅, 항공 날씨 컨설팅\"><meta property=og:url content=\"//www.kr-weathernews.com/mv3/html/main.html?region=1100000000\"><meta property=og:type content=website><meta property=og:title content=웨더뉴스><meta property=og:image content=\"//www.kr-weathernews.com/mv3/img/logo_260x260.png?ver=20231116\"><meta property=og:description content=\"SAMSUNG날씨위젯 상세날씨\"><link rel=stylesheet href=\"../css/style2018.css?ver=20231116\"><link rel=stylesheet href=\"../css/main.css?ver=20231116\" media=screen><link rel=stylesheet href=\"../css/p_main.css?ver=20231116\" media=screen><link rel=stylesheet href=\"../css/p_life.css?ver=20231116\" media=screen><li\n"
     ]
    }
   ],
   "source": [
    "print(res.text[:1000])"
   ]
  },
  {
   "cell_type": "code",
   "execution_count": 59,
   "metadata": {},
   "outputs": [
    {
     "ename": "UnicodeEncodeError",
     "evalue": "'euc_kr' codec can't encode character '\\xec' in position 35: illegal multibyte sequence",
     "output_type": "error",
     "traceback": [
      "\u001b[1;31m---------------------------------------------------------------------------\u001b[0m",
      "\u001b[1;31mUnicodeEncodeError\u001b[0m                        Traceback (most recent call last)",
      "\u001b[1;32md:\\IT 공부\\Workspace\\Onnanana_second-Projct\\02.남지영\\00.크롤링.ipynb 셀 5\u001b[0m line \u001b[0;36m1\n\u001b[1;32m----> <a href='vscode-notebook-cell:/d%3A/IT%20%EA%B3%B5%EB%B6%80/Workspace/Onnanana_second-Projct/02.%EB%82%A8%EC%A7%80%EC%98%81/00.%ED%81%AC%EB%A1%A4%EB%A7%81.ipynb#X12sZmlsZQ%3D%3D?line=0'>1</a>\u001b[0m soup\u001b[39m.\u001b[39mencode_contents(encoding\u001b[39m=\u001b[39m\u001b[39m'\u001b[39m\u001b[39mEUC-KR\u001b[39m\u001b[39m'\u001b[39m)\n",
      "File \u001b[1;32mc:\\Users\\mwsong\\anaconda3\\Lib\\site-packages\\bs4\\element.py:1969\u001b[0m, in \u001b[0;36mTag.encode_contents\u001b[1;34m(self, indent_level, encoding, formatter)\u001b[0m\n\u001b[0;32m   1953\u001b[0m \u001b[39m\u001b[39m\u001b[39m\"\"\"Renders the contents of this PageElement as a bytestring.\u001b[39;00m\n\u001b[0;32m   1954\u001b[0m \n\u001b[0;32m   1955\u001b[0m \u001b[39m:param indent_level: Each line of the rendering will be\u001b[39;00m\n\u001b[1;32m   (...)\u001b[0m\n\u001b[0;32m   1966\u001b[0m \u001b[39m:return: A bytestring.\u001b[39;00m\n\u001b[0;32m   1967\u001b[0m \u001b[39m\"\"\"\u001b[39;00m\n\u001b[0;32m   1968\u001b[0m contents \u001b[39m=\u001b[39m \u001b[39mself\u001b[39m\u001b[39m.\u001b[39mdecode_contents(indent_level, encoding, formatter)\n\u001b[1;32m-> 1969\u001b[0m \u001b[39mreturn\u001b[39;00m contents\u001b[39m.\u001b[39mencode(encoding)\n",
      "\u001b[1;31mUnicodeEncodeError\u001b[0m: 'euc_kr' codec can't encode character '\\xec' in position 35: illegal multibyte sequence"
     ]
    }
   ],
   "source": [
    "soup.encode_contents()"
   ]
  },
  {
   "cell_type": "code",
   "execution_count": 42,
   "metadata": {},
   "outputs": [
    {
     "data": {
      "text/plain": [
       "1"
      ]
     },
     "execution_count": 42,
     "metadata": {},
     "output_type": "execute_result"
    }
   ],
   "source": [
    "# 생활지수 \n",
    "lis = soup.select(' #slidePage1 > div > li ')\n",
    "len(lis)"
   ]
  },
  {
   "cell_type": "code",
   "execution_count": 44,
   "metadata": {},
   "outputs": [
    {
     "data": {
      "text/plain": [
       "[<li><p>ë°ì´í°ê° ììµëë¤.</p></li>]"
      ]
     },
     "execution_count": 44,
     "metadata": {},
     "output_type": "execute_result"
    }
   ],
   "source": [
    "lis"
   ]
  },
  {
   "cell_type": "code",
   "execution_count": null,
   "metadata": {},
   "outputs": [],
   "source": []
  }
 ],
 "metadata": {
  "kernelspec": {
   "display_name": "Python 3",
   "language": "python",
   "name": "python3"
  },
  "language_info": {
   "codemirror_mode": {
    "name": "ipython",
    "version": 3
   },
   "file_extension": ".py",
   "mimetype": "text/x-python",
   "name": "python",
   "nbconvert_exporter": "python",
   "pygments_lexer": "ipython3",
   "version": "3.11.4"
  }
 },
 "nbformat": 4,
 "nbformat_minor": 2
}
