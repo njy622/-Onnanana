{
 "cells": [
  {
   "cell_type": "markdown",
   "metadata": {},
   "source": [
    "## 카카오 로컬 API 활용\n",
    "- 도로명 주소 ---> 위도, 경도 좌표"
   ]
  },
  {
   "cell_type": "code",
   "execution_count": 1,
   "metadata": {},
   "outputs": [],
   "source": [
    "import requests, json\n",
    "import pandas as pd\n",
    "from urllib.parse import quote"
   ]
  },
  {
   "cell_type": "markdown",
   "metadata": {},
   "source": [
    "- API Key"
   ]
  },
  {
   "cell_type": "code",
   "execution_count": 2,
   "metadata": {},
   "outputs": [],
   "source": [
    "with open('keys/카카오apikey.txt') as file:\n",
    "    kakao_key = file.read()"
   ]
  },
  {
   "cell_type": "markdown",
   "metadata": {},
   "source": [
    "- URL 만들기"
   ]
  },
  {
   "cell_type": "code",
   "execution_count": 3,
   "metadata": {},
   "outputs": [],
   "source": [
    "base_url = 'https://dapi.kakao.com/v2/local/search/address.json'\n",
    "addr = '서울특별시 영등포구 경인로 지하843 (영등포동3가)'\n",
    "url = f'{base_url}?query={quote(addr)}'"
   ]
  },
  {
   "cell_type": "code",
   "execution_count": 5,
   "metadata": {},
   "outputs": [],
   "source": [
    "# Header: Authorization: KakaoAK ${REST_API_KEY}\n",
    "header = {'Authorization': f'KakaoAK {kakao_key}'}"
   ]
  },
  {
   "cell_type": "markdown",
   "metadata": {},
   "source": [
    "- Kakao Local API 호출하여 결과 가져오기"
   ]
  },
  {
   "cell_type": "code",
   "execution_count": 7,
   "metadata": {},
   "outputs": [
    {
     "data": {
      "text/plain": [
       "{'documents': [{'address': {'address_name': '서울 영등포구 영등포동3가 33',\n",
       "    'b_code': '1156010400',\n",
       "    'h_code': '1156053500',\n",
       "    'main_address_no': '33',\n",
       "    'mountain_yn': 'N',\n",
       "    'region_1depth_name': '서울',\n",
       "    'region_2depth_name': '영등포구',\n",
       "    'region_3depth_h_name': '영등포동',\n",
       "    'region_3depth_name': '영등포동3가',\n",
       "    'sub_address_no': '',\n",
       "    'x': '126.906658750671',\n",
       "    'y': '37.5164625580995'},\n",
       "   'address_name': '서울 영등포구 경인로 지하 843',\n",
       "   'address_type': 'ROAD_ADDR',\n",
       "   'road_address': {'address_name': '서울 영등포구 경인로 지하 843',\n",
       "    'building_name': '영등포역지하도상가',\n",
       "    'main_building_no': '843',\n",
       "    'region_1depth_name': '서울',\n",
       "    'region_2depth_name': '영등포구',\n",
       "    'region_3depth_name': '영등포동3가',\n",
       "    'road_name': '경인로',\n",
       "    'sub_building_no': '',\n",
       "    'underground_yn': 'Y',\n",
       "    'x': '126.906658750671',\n",
       "    'y': '37.5164625580995',\n",
       "    'zone_no': '07305'},\n",
       "   'x': '126.906658750671',\n",
       "   'y': '37.5164625580995'}],\n",
       " 'meta': {'is_end': True, 'pageable_count': 1, 'total_count': 1}}"
      ]
     },
     "execution_count": 7,
     "metadata": {},
     "output_type": "execute_result"
    }
   ],
   "source": [
    "result = requests.get(url, headers=header).json()\n",
    "result"
   ]
  },
  {
   "cell_type": "code",
   "execution_count": 8,
   "metadata": {},
   "outputs": [
    {
     "data": {
      "text/plain": [
       "dict_keys(['address', 'address_name', 'address_type', 'road_address', 'x', 'y'])"
      ]
     },
     "execution_count": 8,
     "metadata": {},
     "output_type": "execute_result"
    }
   ],
   "source": [
    "result['documents'][0].keys()"
   ]
  },
  {
   "cell_type": "code",
   "execution_count": 9,
   "metadata": {},
   "outputs": [
    {
     "data": {
      "text/plain": [
       "(37.5164625580995, 126.906658750671)"
      ]
     },
     "execution_count": 9,
     "metadata": {},
     "output_type": "execute_result"
    }
   ],
   "source": [
    "lat = float(result['documents'][0]['y'])\n",
    "lng = float(result['documents'][0]['x'])\n",
    "lat, lng"
   ]
  },
  {
   "cell_type": "markdown",
   "metadata": {},
   "source": [
    "- 영등포소재 지하철역 정보 완성하기"
   ]
  },
  {
   "cell_type": "code",
   "execution_count": 5,
   "metadata": {},
   "outputs": [
    {
     "data": {
      "text/html": [
       "<div>\n",
       "<style scoped>\n",
       "    .dataframe tbody tr th:only-of-type {\n",
       "        vertical-align: middle;\n",
       "    }\n",
       "\n",
       "    .dataframe tbody tr th {\n",
       "        vertical-align: top;\n",
       "    }\n",
       "\n",
       "    .dataframe thead th {\n",
       "        text-align: right;\n",
       "    }\n",
       "</style>\n",
       "<table border=\"1\" class=\"dataframe\">\n",
       "  <thead>\n",
       "    <tr style=\"text-align: right;\">\n",
       "      <th></th>\n",
       "      <th>지역명</th>\n",
       "      <th>측정소명</th>\n",
       "      <th>주소</th>\n",
       "      <th>운영기관</th>\n",
       "      <th>설치년도</th>\n",
       "    </tr>\n",
       "  </thead>\n",
       "  <tbody>\n",
       "    <tr>\n",
       "      <th>0</th>\n",
       "      <td>서울</td>\n",
       "      <td>강남구</td>\n",
       "      <td>서울 강남구 학동로 426 강남구청 별관 1동</td>\n",
       "      <td>서울특별시보건환경연구원</td>\n",
       "      <td>1978.0</td>\n",
       "    </tr>\n",
       "    <tr>\n",
       "      <th>1</th>\n",
       "      <td>서울</td>\n",
       "      <td>강동구</td>\n",
       "      <td>서울 강동구 구천면로 42길 59 천호1동 주민센터</td>\n",
       "      <td>서울특별시보건환경연구원</td>\n",
       "      <td>1997.0</td>\n",
       "    </tr>\n",
       "    <tr>\n",
       "      <th>2</th>\n",
       "      <td>서울</td>\n",
       "      <td>강북구</td>\n",
       "      <td>서울 강북구 삼양로 139길 49 우이동 주민센터</td>\n",
       "      <td>서울특별시보건환경연구원</td>\n",
       "      <td>1997.0</td>\n",
       "    </tr>\n",
       "    <tr>\n",
       "      <th>3</th>\n",
       "      <td>서울</td>\n",
       "      <td>강서구</td>\n",
       "      <td>서울 강서구 강서로 45 다길 71 화곡3동 푸른들청소년도서관</td>\n",
       "      <td>서울특별시보건환경연구원</td>\n",
       "      <td>1992.0</td>\n",
       "    </tr>\n",
       "    <tr>\n",
       "      <th>4</th>\n",
       "      <td>서울</td>\n",
       "      <td>관악구</td>\n",
       "      <td>서울 관악구 신림동길 14 신림동 주민센터</td>\n",
       "      <td>서울특별시보건환경연구원</td>\n",
       "      <td>1979.0</td>\n",
       "    </tr>\n",
       "    <tr>\n",
       "      <th>...</th>\n",
       "      <td>...</td>\n",
       "      <td>...</td>\n",
       "      <td>...</td>\n",
       "      <td>...</td>\n",
       "      <td>...</td>\n",
       "    </tr>\n",
       "    <tr>\n",
       "      <th>520</th>\n",
       "      <td>제주</td>\n",
       "      <td>연동</td>\n",
       "      <td>제주 제주시 연동 322-1 번지 제주특별자치도청 제2청사 제주특별자치도청 제2청사 옥상</td>\n",
       "      <td>제주특별자치도보건환경연구원</td>\n",
       "      <td>2006.0</td>\n",
       "    </tr>\n",
       "    <tr>\n",
       "      <th>521</th>\n",
       "      <td>제주</td>\n",
       "      <td>이도동</td>\n",
       "      <td>제주 제주시 이도2동 1176-1(제주시청) 제주시청</td>\n",
       "      <td>제주특별자치도보건환경연구원</td>\n",
       "      <td>1994.0</td>\n",
       "    </tr>\n",
       "    <tr>\n",
       "      <th>522</th>\n",
       "      <td>제주</td>\n",
       "      <td>조천읍</td>\n",
       "      <td>제주특별자치도 제주시 조천읍 조천18길 11-1 조천읍 체육관</td>\n",
       "      <td>제주특별자치도보건환경연구원</td>\n",
       "      <td>2020.0</td>\n",
       "    </tr>\n",
       "    <tr>\n",
       "      <th>523</th>\n",
       "      <td>제주</td>\n",
       "      <td>한림읍</td>\n",
       "      <td>제주특별자치도 제주시 한림읍 한림중앙로 71-9 한림읍 체육관</td>\n",
       "      <td>제주특별자치도보건환경연구원</td>\n",
       "      <td>2020.0</td>\n",
       "    </tr>\n",
       "    <tr>\n",
       "      <th>524</th>\n",
       "      <td>제주</td>\n",
       "      <td>화북동</td>\n",
       "      <td>제주특별자치도 제주시 화북일동 1098 지상 (화북일동)</td>\n",
       "      <td>제주특별자치도보건환경연구원</td>\n",
       "      <td>2021.0</td>\n",
       "    </tr>\n",
       "  </tbody>\n",
       "</table>\n",
       "<p>525 rows × 5 columns</p>\n",
       "</div>"
      ],
      "text/plain": [
       "    지역명 측정소명                                                 주소  \\\n",
       "0    서울  강남구                          서울 강남구 학동로 426 강남구청 별관 1동   \n",
       "1    서울  강동구                       서울 강동구 구천면로 42길 59 천호1동 주민센터   \n",
       "2    서울  강북구                        서울 강북구 삼양로 139길 49 우이동 주민센터   \n",
       "3    서울  강서구                 서울 강서구 강서로 45 다길 71 화곡3동 푸른들청소년도서관   \n",
       "4    서울  관악구                            서울 관악구 신림동길 14 신림동 주민센터   \n",
       "..   ..  ...                                                ...   \n",
       "520  제주   연동  제주 제주시 연동 322-1 번지 제주특별자치도청 제2청사 제주특별자치도청 제2청사 옥상   \n",
       "521  제주  이도동                      제주 제주시 이도2동 1176-1(제주시청) 제주시청   \n",
       "522  제주  조천읍                 제주특별자치도 제주시 조천읍 조천18길 11-1 조천읍 체육관   \n",
       "523  제주  한림읍                 제주특별자치도 제주시 한림읍 한림중앙로 71-9 한림읍 체육관   \n",
       "524  제주  화북동                    제주특별자치도 제주시 화북일동 1098 지상 (화북일동)   \n",
       "\n",
       "               운영기관    설치년도  \n",
       "0      서울특별시보건환경연구원  1978.0  \n",
       "1      서울특별시보건환경연구원  1997.0  \n",
       "2      서울특별시보건환경연구원  1997.0  \n",
       "3      서울특별시보건환경연구원  1992.0  \n",
       "4      서울특별시보건환경연구원  1979.0  \n",
       "..              ...     ...  \n",
       "520  제주특별자치도보건환경연구원  2006.0  \n",
       "521  제주특별자치도보건환경연구원  1994.0  \n",
       "522  제주특별자치도보건환경연구원  2020.0  \n",
       "523  제주특별자치도보건환경연구원  2020.0  \n",
       "524  제주특별자치도보건환경연구원  2021.0  \n",
       "\n",
       "[525 rows x 5 columns]"
      ]
     },
     "execution_count": 5,
     "metadata": {},
     "output_type": "execute_result"
    }
   ],
   "source": [
    "df = pd.read_csv('data/station_list2.csv')\n",
    "df"
   ]
  },
  {
   "cell_type": "code",
   "execution_count": 12,
   "metadata": {},
   "outputs": [
    {
     "ename": "AttributeError",
     "evalue": "'DataFrame' object has no attribute '위도'",
     "output_type": "error",
     "traceback": [
      "\u001b[1;31m---------------------------------------------------------------------------\u001b[0m",
      "\u001b[1;31mAttributeError\u001b[0m                            Traceback (most recent call last)",
      "\u001b[1;32md:\\Itsudy\\Workspace\\Onnanana_second-Projct\\02.남지영\\07.측정소 2.ipynb 셀 14\u001b[0m line \u001b[0;36m6\n\u001b[0;32m      <a href='vscode-notebook-cell:/d%3A/Itsudy/Workspace/Onnanana_second-Projct/02.%EB%82%A8%EC%A7%80%EC%98%81/07.%EC%B8%A1%EC%A0%95%EC%86%8C%202.ipynb#X16sZmlsZQ%3D%3D?line=1'>2</a>\u001b[0m \u001b[39mimport\u001b[39;00m \u001b[39mpandas\u001b[39;00m \u001b[39mas\u001b[39;00m \u001b[39mpd\u001b[39;00m\n\u001b[0;32m      <a href='vscode-notebook-cell:/d%3A/Itsudy/Workspace/Onnanana_second-Projct/02.%EB%82%A8%EC%A7%80%EC%98%81/07.%EC%B8%A1%EC%A0%95%EC%86%8C%202.ipynb#X16sZmlsZQ%3D%3D?line=3'>4</a>\u001b[0m lat_list, lng_list \u001b[39m=\u001b[39m [], []\n\u001b[1;32m----> <a href='vscode-notebook-cell:/d%3A/Itsudy/Workspace/Onnanana_second-Projct/02.%EB%82%A8%EC%A7%80%EC%98%81/07.%EC%B8%A1%EC%A0%95%EC%86%8C%202.ipynb#X16sZmlsZQ%3D%3D?line=5'>6</a>\u001b[0m \u001b[39mmap\u001b[39m \u001b[39m=\u001b[39m folium\u001b[39m.\u001b[39mMap(location\u001b[39m=\u001b[39m[df\u001b[39m.\u001b[39m위도\u001b[39m.\u001b[39mmean(), df\u001b[39m.\u001b[39m경도\u001b[39m.\u001b[39mmean()], zoom_start\u001b[39m=\u001b[39m\u001b[39m13\u001b[39m) \u001b[39m#Center position\u001b[39;00m\n\u001b[0;32m      <a href='vscode-notebook-cell:/d%3A/Itsudy/Workspace/Onnanana_second-Projct/02.%EB%82%A8%EC%A7%80%EC%98%81/07.%EC%B8%A1%EC%A0%95%EC%86%8C%202.ipynb#X16sZmlsZQ%3D%3D?line=6'>7</a>\u001b[0m \u001b[39mfor\u001b[39;00m i \u001b[39min\u001b[39;00m df\u001b[39m.\u001b[39mindex:\n\u001b[0;32m      <a href='vscode-notebook-cell:/d%3A/Itsudy/Workspace/Onnanana_second-Projct/02.%EB%82%A8%EC%A7%80%EC%98%81/07.%EC%B8%A1%EC%A0%95%EC%86%8C%202.ipynb#X16sZmlsZQ%3D%3D?line=7'>8</a>\u001b[0m     folium\u001b[39m.\u001b[39mMarker(\n\u001b[0;32m      <a href='vscode-notebook-cell:/d%3A/Itsudy/Workspace/Onnanana_second-Projct/02.%EB%82%A8%EC%A7%80%EC%98%81/07.%EC%B8%A1%EC%A0%95%EC%86%8C%202.ipynb#X16sZmlsZQ%3D%3D?line=8'>9</a>\u001b[0m         location\u001b[39m=\u001b[39m[df\u001b[39m.\u001b[39m위도[i],df\u001b[39m.\u001b[39m경도[i]],    \u001b[39m# WGS84 좌표계: 위도(latitude), 경도(longitude)\u001b[39;00m\n\u001b[0;32m     <a href='vscode-notebook-cell:/d%3A/Itsudy/Workspace/Onnanana_second-Projct/02.%EB%82%A8%EC%A7%80%EC%98%81/07.%EC%B8%A1%EC%A0%95%EC%86%8C%202.ipynb#X16sZmlsZQ%3D%3D?line=9'>10</a>\u001b[0m         tooltip\u001b[39m=\u001b[39mdf\u001b[39m.\u001b[39m이름[i],\n\u001b[0;32m     <a href='vscode-notebook-cell:/d%3A/Itsudy/Workspace/Onnanana_second-Projct/02.%EB%82%A8%EC%A7%80%EC%98%81/07.%EC%B8%A1%EC%A0%95%EC%86%8C%202.ipynb#X16sZmlsZQ%3D%3D?line=10'>11</a>\u001b[0m         popup\u001b[39m=\u001b[39mfolium\u001b[39m.\u001b[39mPopup(df\u001b[39m.\u001b[39m주소[i], max_width\u001b[39m=\u001b[39m\u001b[39m200\u001b[39m)\n\u001b[0;32m     <a href='vscode-notebook-cell:/d%3A/Itsudy/Workspace/Onnanana_second-Projct/02.%EB%82%A8%EC%A7%80%EC%98%81/07.%EC%B8%A1%EC%A0%95%EC%86%8C%202.ipynb#X16sZmlsZQ%3D%3D?line=11'>12</a>\u001b[0m     )\u001b[39m.\u001b[39madd_to(\u001b[39mmap\u001b[39m)\n",
      "File \u001b[1;32mc:\\Users\\mwsong\\anaconda3\\Lib\\site-packages\\pandas\\core\\generic.py:5902\u001b[0m, in \u001b[0;36mNDFrame.__getattr__\u001b[1;34m(self, name)\u001b[0m\n\u001b[0;32m   5895\u001b[0m \u001b[39mif\u001b[39;00m (\n\u001b[0;32m   5896\u001b[0m     name \u001b[39mnot\u001b[39;00m \u001b[39min\u001b[39;00m \u001b[39mself\u001b[39m\u001b[39m.\u001b[39m_internal_names_set\n\u001b[0;32m   5897\u001b[0m     \u001b[39mand\u001b[39;00m name \u001b[39mnot\u001b[39;00m \u001b[39min\u001b[39;00m \u001b[39mself\u001b[39m\u001b[39m.\u001b[39m_metadata\n\u001b[0;32m   5898\u001b[0m     \u001b[39mand\u001b[39;00m name \u001b[39mnot\u001b[39;00m \u001b[39min\u001b[39;00m \u001b[39mself\u001b[39m\u001b[39m.\u001b[39m_accessors\n\u001b[0;32m   5899\u001b[0m     \u001b[39mand\u001b[39;00m \u001b[39mself\u001b[39m\u001b[39m.\u001b[39m_info_axis\u001b[39m.\u001b[39m_can_hold_identifiers_and_holds_name(name)\n\u001b[0;32m   5900\u001b[0m ):\n\u001b[0;32m   5901\u001b[0m     \u001b[39mreturn\u001b[39;00m \u001b[39mself\u001b[39m[name]\n\u001b[1;32m-> 5902\u001b[0m \u001b[39mreturn\u001b[39;00m \u001b[39mobject\u001b[39m\u001b[39m.\u001b[39m\u001b[39m__getattribute__\u001b[39m(\u001b[39mself\u001b[39m, name)\n",
      "\u001b[1;31mAttributeError\u001b[0m: 'DataFrame' object has no attribute '위도'"
     ]
    }
   ],
   "source": [
    "import folium\n",
    "import pandas as pd\n",
    "\n",
    "lat_list, lng_list = [], []\n",
    "\n",
    "map = folium.Map(location=[df.위도.mean(), df.경도.mean()], zoom_start=13) #Center position\n",
    "for i in df.index:\n",
    "    folium.Marker(\n",
    "        location=[df.위도[i],df.경도[i]],    # WGS84 좌표계: 위도(latitude), 경도(longitude)\n",
    "        tooltip=df.이름[i],\n",
    "        popup=folium.Popup(df.주소[i], max_width=200)\n",
    "    ).add_to(map)\n",
    "\n",
    "title_html = '<h3 align=\"center\" style=\"font-size:20px\">영등포소재 주요 지하철역</h3>'\n",
    "map.get_root().html.add_child(folium.Element(title_html))\n",
    "map"
   ]
  },
  {
   "cell_type": "code",
   "execution_count": 10,
   "metadata": {},
   "outputs": [
    {
     "data": {
      "text/plain": [
       "{'documents': [],\n",
       " 'meta': {'is_end': True, 'pageable_count': 0, 'total_count': 0}}"
      ]
     },
     "execution_count": 10,
     "metadata": {},
     "output_type": "execute_result"
    }
   ],
   "source": [
    "result"
   ]
  },
  {
   "cell_type": "code",
   "execution_count": 12,
   "metadata": {},
   "outputs": [
    {
     "data": {
      "text/html": [
       "<div>\n",
       "<style scoped>\n",
       "    .dataframe tbody tr th:only-of-type {\n",
       "        vertical-align: middle;\n",
       "    }\n",
       "\n",
       "    .dataframe tbody tr th {\n",
       "        vertical-align: top;\n",
       "    }\n",
       "\n",
       "    .dataframe thead th {\n",
       "        text-align: right;\n",
       "    }\n",
       "</style>\n",
       "<table border=\"1\" class=\"dataframe\">\n",
       "  <thead>\n",
       "    <tr style=\"text-align: right;\">\n",
       "      <th></th>\n",
       "      <th>이름</th>\n",
       "      <th>주소</th>\n",
       "      <th>위도</th>\n",
       "      <th>경도</th>\n",
       "    </tr>\n",
       "  </thead>\n",
       "  <tbody>\n",
       "    <tr>\n",
       "      <th>0</th>\n",
       "      <td>영등포역</td>\n",
       "      <td>서울특별시 영등포구 경인로 지하843 (영등포동3가)</td>\n",
       "      <td>37.516463</td>\n",
       "      <td>126.906659</td>\n",
       "    </tr>\n",
       "    <tr>\n",
       "      <th>1</th>\n",
       "      <td>신도림역</td>\n",
       "      <td>서울특별시 구로구 경인로 625 (신도림동)</td>\n",
       "      <td>37.507084</td>\n",
       "      <td>126.884719</td>\n",
       "    </tr>\n",
       "    <tr>\n",
       "      <th>2</th>\n",
       "      <td>당산역</td>\n",
       "      <td>서울특별시 영등포구 당산로 229 (당산동6가)</td>\n",
       "      <td>37.534957</td>\n",
       "      <td>126.902731</td>\n",
       "    </tr>\n",
       "    <tr>\n",
       "      <th>3</th>\n",
       "      <td>여의도역</td>\n",
       "      <td>서울특별시 영등포구 여의나루로 지하40 (여의도동)</td>\n",
       "      <td>37.521842</td>\n",
       "      <td>126.924485</td>\n",
       "    </tr>\n",
       "    <tr>\n",
       "      <th>4</th>\n",
       "      <td>영등포구청역</td>\n",
       "      <td>서울특별시 영등포구 당산로 지하121 (당산동3가)</td>\n",
       "      <td>37.525700</td>\n",
       "      <td>126.896627</td>\n",
       "    </tr>\n",
       "  </tbody>\n",
       "</table>\n",
       "</div>"
      ],
      "text/plain": [
       "        이름                             주소         위도          경도\n",
       "0     영등포역  서울특별시 영등포구 경인로 지하843 (영등포동3가)  37.516463  126.906659\n",
       "1     신도림역       서울특별시 구로구 경인로 625 (신도림동)  37.507084  126.884719\n",
       "2      당산역     서울특별시 영등포구 당산로 229 (당산동6가)  37.534957  126.902731\n",
       "3     여의도역   서울특별시 영등포구 여의나루로 지하40 (여의도동)  37.521842  126.924485\n",
       "4   영등포구청역   서울특별시 영등포구 당산로 지하121 (당산동3가)  37.525700  126.896627"
      ]
     },
     "execution_count": 12,
     "metadata": {},
     "output_type": "execute_result"
    }
   ],
   "source": [
    "df['위도'] = lat_list\n",
    "df['경도'] = lng_list\n",
    "df"
   ]
  },
  {
   "cell_type": "code",
   "execution_count": 14,
   "metadata": {},
   "outputs": [
    {
     "data": {
      "text/html": [
       "<div>\n",
       "<style scoped>\n",
       "    .dataframe tbody tr th:only-of-type {\n",
       "        vertical-align: middle;\n",
       "    }\n",
       "\n",
       "    .dataframe tbody tr th {\n",
       "        vertical-align: top;\n",
       "    }\n",
       "\n",
       "    .dataframe thead th {\n",
       "        text-align: right;\n",
       "    }\n",
       "</style>\n",
       "<table border=\"1\" class=\"dataframe\">\n",
       "  <thead>\n",
       "    <tr style=\"text-align: right;\">\n",
       "      <th></th>\n",
       "      <th>이름</th>\n",
       "      <th>주소</th>\n",
       "      <th>위도</th>\n",
       "      <th>경도</th>\n",
       "    </tr>\n",
       "  </thead>\n",
       "  <tbody>\n",
       "    <tr>\n",
       "      <th>0</th>\n",
       "      <td>영등포역</td>\n",
       "      <td>서울특별시 영등포구 경인로 지하843 (영등포동3가)</td>\n",
       "      <td>37.516463</td>\n",
       "      <td>126.906659</td>\n",
       "    </tr>\n",
       "    <tr>\n",
       "      <th>1</th>\n",
       "      <td>신도림역</td>\n",
       "      <td>서울특별시 구로구 경인로 625 (신도림동)</td>\n",
       "      <td>37.507084</td>\n",
       "      <td>126.884719</td>\n",
       "    </tr>\n",
       "    <tr>\n",
       "      <th>2</th>\n",
       "      <td>당산역</td>\n",
       "      <td>서울특별시 영등포구 당산로 229 (당산동6가)</td>\n",
       "      <td>37.534957</td>\n",
       "      <td>126.902731</td>\n",
       "    </tr>\n",
       "    <tr>\n",
       "      <th>3</th>\n",
       "      <td>여의도역</td>\n",
       "      <td>서울특별시 영등포구 여의나루로 지하40 (여의도동)</td>\n",
       "      <td>37.521842</td>\n",
       "      <td>126.924485</td>\n",
       "    </tr>\n",
       "    <tr>\n",
       "      <th>4</th>\n",
       "      <td>영등포구청역</td>\n",
       "      <td>서울특별시 영등포구 당산로 지하121 (당산동3가)</td>\n",
       "      <td>37.525700</td>\n",
       "      <td>126.896627</td>\n",
       "    </tr>\n",
       "  </tbody>\n",
       "</table>\n",
       "</div>"
      ],
      "text/plain": [
       "        이름                             주소         위도          경도\n",
       "0     영등포역  서울특별시 영등포구 경인로 지하843 (영등포동3가)  37.516463  126.906659\n",
       "1     신도림역       서울특별시 구로구 경인로 625 (신도림동)  37.507084  126.884719\n",
       "2      당산역     서울특별시 영등포구 당산로 229 (당산동6가)  37.534957  126.902731\n",
       "3     여의도역   서울특별시 영등포구 여의나루로 지하40 (여의도동)  37.521842  126.924485\n",
       "4   영등포구청역   서울특별시 영등포구 당산로 지하121 (당산동3가)  37.525700  126.896627"
      ]
     },
     "execution_count": 14,
     "metadata": {},
     "output_type": "execute_result"
    }
   ],
   "source": [
    "df.to_csv('data/영등포소재 지하철역2.csv', index=False)\n",
    "pd.read_csv('data/영등포소재 지하철역2.csv')"
   ]
  },
  {
   "cell_type": "code",
   "execution_count": null,
   "metadata": {},
   "outputs": [],
   "source": []
  }
 ],
 "metadata": {
  "kernelspec": {
   "display_name": "base",
   "language": "python",
   "name": "python3"
  },
  "language_info": {
   "codemirror_mode": {
    "name": "ipython",
    "version": 3
   },
   "file_extension": ".py",
   "mimetype": "text/x-python",
   "name": "python",
   "nbconvert_exporter": "python",
   "pygments_lexer": "ipython3",
   "version": "3.11.4"
  },
  "orig_nbformat": 4
 },
 "nbformat": 4,
 "nbformat_minor": 2
}
