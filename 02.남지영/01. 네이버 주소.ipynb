{
 "cells": [
  {
   "cell_type": "markdown",
   "metadata": {},
   "source": [
    "## 네이버 로컬 API 활용"
   ]
  },
  {
   "cell_type": "code",
   "execution_count": 43,
   "metadata": {},
   "outputs": [],
   "source": [
    "import requests, json\n",
    "import urllib\n",
    "from urllib.request import Request, urlopen"
   ]
  },
  {
   "cell_type": "markdown",
   "metadata": {},
   "source": [
    "- API Key"
   ]
  },
  {
   "cell_type": "code",
   "execution_count": 44,
   "metadata": {},
   "outputs": [],
   "source": [
    "with open('keys/네이버apikey.txt') as file:\n",
    "    naver_key = file.read()"
   ]
  },
  {
   "cell_type": "markdown",
   "metadata": {},
   "source": [
    "- URL 만들기"
   ]
  },
  {
   "cell_type": "code",
   "execution_count": 71,
   "metadata": {},
   "outputs": [],
   "source": [
    "start = '서울특별시 영등포구 영중로8길 6 401(영등포동3가)'\n",
    "goal = '경기도 고양시 덕양구 소원로 102'\n",
    "waypoint = '경기도 수원시 장안구 서부로 2149'"
   ]
  },
  {
   "cell_type": "code",
   "execution_count": 72,
   "metadata": {},
   "outputs": [
    {
     "name": "stdout",
     "output_type": "stream",
     "text": [
      "{'status': 'OK', 'meta': {'totalCount': 1, 'page': 1, 'count': 1}, 'addresses': [{'roadAddress': '서울특별시 영등포구 영중로8길 6 성남빌딩', 'jibunAddress': '서울특별시 영등포구 영등포동3가 8-1 성남빌딩', 'englishAddress': '6, Yeongjung-ro 8-gil, Yeongdeungpo-gu, Seoul, Republic of Korea', 'addressElements': [{'types': ['SIDO'], 'longName': '서울특별시', 'shortName': '서울특별시', 'code': ''}, {'types': ['SIGUGUN'], 'longName': '영등포구', 'shortName': '영등포구', 'code': ''}, {'types': ['DONGMYUN'], 'longName': '영등포동3가', 'shortName': '영등포동3가', 'code': ''}, {'types': ['RI'], 'longName': '', 'shortName': '', 'code': ''}, {'types': ['ROAD_NAME'], 'longName': '영중로8길', 'shortName': '영중로8길', 'code': ''}, {'types': ['BUILDING_NUMBER'], 'longName': '6', 'shortName': '6', 'code': ''}, {'types': ['BUILDING_NAME'], 'longName': '성남빌딩', 'shortName': '성남빌딩', 'code': ''}, {'types': ['LAND_NUMBER'], 'longName': '8-1', 'shortName': '8-1', 'code': ''}, {'types': ['POSTAL_CODE'], 'longName': '07302', 'shortName': '07302', 'code': ''}], 'x': '126.9061910', 'y': '37.5183657', 'distance': 0.0}], 'errorMessage': ''}\n",
      "{'status': 'OK', 'meta': {'totalCount': 1, 'page': 1, 'count': 1}, 'addresses': [{'roadAddress': '경기도 고양시 덕양구 소원로 102 행신역', 'jibunAddress': '경기도 고양시 덕양구 행신동 812 행신역', 'englishAddress': '102, Sowon-ro, Deogyang-gu, Goyang-si, Gyeonggi-do, Republic of Korea', 'addressElements': [{'types': ['SIDO'], 'longName': '경기도', 'shortName': '경기도', 'code': ''}, {'types': ['SIGUGUN'], 'longName': '고양시 덕양구', 'shortName': '고양시 덕양구', 'code': ''}, {'types': ['DONGMYUN'], 'longName': '행신동', 'shortName': '행신동', 'code': ''}, {'types': ['RI'], 'longName': '', 'shortName': '', 'code': ''}, {'types': ['ROAD_NAME'], 'longName': '소원로', 'shortName': '소원로', 'code': ''}, {'types': ['BUILDING_NUMBER'], 'longName': '102', 'shortName': '102', 'code': ''}, {'types': ['BUILDING_NAME'], 'longName': '행신역', 'shortName': '행신역', 'code': ''}, {'types': ['LAND_NUMBER'], 'longName': '812', 'shortName': '812', 'code': ''}, {'types': ['POSTAL_CODE'], 'longName': '10523', 'shortName': '10523', 'code': ''}], 'x': '126.8341891', 'y': '37.6121307', 'distance': 0.0}], 'errorMessage': ''}\n",
      "{'status': 'OK', 'meta': {'totalCount': 1, 'page': 1, 'count': 1}, 'addresses': [{'roadAddress': '경기도 수원시 장안구 서부로 2149 성대역사', 'jibunAddress': '경기도 수원시 장안구 율전동 495-2 성대역사', 'englishAddress': '2149, Seobu-ro, Jangan-gu, Suwon-si, Gyeonggi-do, Republic of Korea', 'addressElements': [{'types': ['SIDO'], 'longName': '경기도', 'shortName': '경기도', 'code': ''}, {'types': ['SIGUGUN'], 'longName': '수원시 장안구', 'shortName': '수원시 장안구', 'code': ''}, {'types': ['DONGMYUN'], 'longName': '율전동', 'shortName': '율전동', 'code': ''}, {'types': ['RI'], 'longName': '', 'shortName': '', 'code': ''}, {'types': ['ROAD_NAME'], 'longName': '서부로', 'shortName': '서부로', 'code': ''}, {'types': ['BUILDING_NUMBER'], 'longName': '2149', 'shortName': '2149', 'code': ''}, {'types': ['BUILDING_NAME'], 'longName': '성대역사', 'shortName': '성대역사', 'code': ''}, {'types': ['LAND_NUMBER'], 'longName': '495-2', 'shortName': '495-2', 'code': ''}, {'types': ['POSTAL_CODE'], 'longName': '16360', 'shortName': '16360', 'code': ''}], 'x': '126.9721787', 'y': '37.3001965', 'distance': 0.0}], 'errorMessage': ''}\n"
     ]
    }
   ],
   "source": [
    "# 주소에 geocoding 적용하는 함수를 작성.\n",
    "def get_location(loc) :\n",
    "    client_id = 'ogam984n5u'\n",
    "    client_secret = naver_key\n",
    "    url = f\"https://naveropenapi.apigw.ntruss.com/map-geocode/v2/geocode?query=\" \\\n",
    "    \t\t\t+ urllib.parse.quote(loc)\n",
    "    \n",
    "    # 주소 변환\n",
    "    request = urllib.request.Request(url)\n",
    "    request.add_header('X-NCP-APIGW-API-KEY-ID', client_id)\n",
    "    request.add_header('X-NCP-APIGW-API-KEY', client_secret)\n",
    "    \n",
    "    response = urlopen(request)\n",
    "    res = response.getcode()\n",
    "    \n",
    "    if (res == 200) : # 응답이 정상적으로 완료되면 200을 return한다\n",
    "        response_body = response.read().decode('utf-8')\n",
    "        response_body = json.loads(response_body)\n",
    "        print(response_body)\n",
    "        # 주소가 존재할 경우 total count == 1이 반환됨.\n",
    "        if response_body['meta']['totalCount'] == 1 : \n",
    "        \t# 위도, 경도 좌표를 받아와서 return해 줌.\n",
    "            lat = response_body['addresses'][0]['y']\n",
    "            lon = response_body['addresses'][0]['x']\n",
    "            return (lon, lat)\n",
    "        else :\n",
    "            print('location not exist')\n",
    "        \n",
    "    else :\n",
    "        print('ERROR')\n",
    "        \n",
    "#  함수 적용\n",
    "start = get_location(start)\n",
    "goal = get_location(goal)\n",
    "waypoint = get_location(waypoint)"
   ]
  },
  {
   "cell_type": "code",
   "execution_count": 73,
   "metadata": {},
   "outputs": [
    {
     "data": {
      "text/plain": [
       "(('126.9061910', '37.5183657'),\n",
       " ('126.8341891', '37.6121307'),\n",
       " ('126.9721787', '37.3001965'))"
      ]
     },
     "execution_count": 73,
     "metadata": {},
     "output_type": "execute_result"
    }
   ],
   "source": [
    "start, goal, waypoint"
   ]
  },
  {
   "cell_type": "code",
   "execution_count": 84,
   "metadata": {},
   "outputs": [],
   "source": [
    "start, goal = (127.1058342, 37.3597078), (129.0759853, 35.1794697)"
   ]
  },
  {
   "cell_type": "code",
   "execution_count": 85,
   "metadata": {},
   "outputs": [],
   "source": [
    "option = 'traoptimal'\n",
    "client_id = 'ogam984n5u'\n",
    "client_secret = naver_key\n",
    "url = f\"https://naveropenapi.apigw.ntruss.com/map-direction-15/v1/driving?start={start}&goal={goal}&option={option}\"\n",
    "        \n",
    "\n",
    "header = {'X-NCP-APIGW-API-KEY-ID': client_id, 'X-NCP-APIGW-API-KEY': naver_key}\n",
    "\n",
    "result = requests.get(url, headers=header).json()"
   ]
  },
  {
   "cell_type": "code",
   "execution_count": 86,
   "metadata": {},
   "outputs": [
    {
     "data": {
      "text/plain": [
       "{'code': 2, 'message': '출발지 또는 도착지가 도로 주변이 아닙니다. 위치를 변경해 주세요.'}"
      ]
     },
     "execution_count": 86,
     "metadata": {},
     "output_type": "execute_result"
    }
   ],
   "source": [
    "result"
   ]
  },
  {
   "cell_type": "code",
   "execution_count": 90,
   "metadata": {},
   "outputs": [
    {
     "name": "stdout",
     "output_type": "stream",
     "text": [
      "서울특별시 강남구 삼성동의 위도는 37.514442, 경도는 127.062532 입니다.\n",
      "경기도 고양시 덕양구 마상로 164의 위도는 37.6578214, 경도는 126.8403659 입니다.\n"
     ]
    },
    {
     "ename": "KeyError",
     "evalue": "'trafast'",
     "output_type": "error",
     "traceback": [
      "\u001b[1;31m---------------------------------------------------------------------------\u001b[0m",
      "\u001b[1;31mKeyError\u001b[0m                                  Traceback (most recent call last)",
      "\u001b[1;32md:\\IT 공부\\Workspace\\Onnanana_second-Projct\\02.남지영\\01. 네이버 주소.ipynb 셀 12\u001b[0m line \u001b[0;36m6\n\u001b[0;32m     <a href='vscode-notebook-cell:/d%3A/IT%20%EA%B3%B5%EB%B6%80/Workspace/Onnanana_second-Projct/02.%EB%82%A8%EC%A7%80%EC%98%81/01.%20%EB%84%A4%EC%9D%B4%EB%B2%84%20%EC%A3%BC%EC%86%8C.ipynb#X31sZmlsZQ%3D%3D?line=56'>57</a>\u001b[0m start_address \u001b[39m=\u001b[39m \u001b[39m'\u001b[39m\u001b[39m서울특별시 강남구 삼성동\u001b[39m\u001b[39m'\u001b[39m  \u001b[39m# 예시: '서울특별시 강남구 삼성동'\u001b[39;00m\n\u001b[0;32m     <a href='vscode-notebook-cell:/d%3A/IT%20%EA%B3%B5%EB%B6%80/Workspace/Onnanana_second-Projct/02.%EB%82%A8%EC%A7%80%EC%98%81/01.%20%EB%84%A4%EC%9D%B4%EB%B2%84%20%EC%A3%BC%EC%86%8C.ipynb#X31sZmlsZQ%3D%3D?line=57'>58</a>\u001b[0m end_address \u001b[39m=\u001b[39m \u001b[39m'\u001b[39m\u001b[39m경기도 고양시 덕양구 마상로 164\u001b[39m\u001b[39m'\u001b[39m    \u001b[39m# 예시: '서울특별시 중구 을지로'\u001b[39;00m\n\u001b[1;32m---> <a href='vscode-notebook-cell:/d%3A/IT%20%EA%B3%B5%EB%B6%80/Workspace/Onnanana_second-Projct/02.%EB%82%A8%EC%A7%80%EC%98%81/01.%20%EB%84%A4%EC%9D%B4%EB%B2%84%20%EC%A3%BC%EC%86%8C.ipynb#X31sZmlsZQ%3D%3D?line=59'>60</a>\u001b[0m get_directions(start_address, end_address)\n",
      "\u001b[1;32md:\\IT 공부\\Workspace\\Onnanana_second-Projct\\02.남지영\\01. 네이버 주소.ipynb 셀 12\u001b[0m line \u001b[0;36m4\n\u001b[0;32m     <a href='vscode-notebook-cell:/d%3A/IT%20%EA%B3%B5%EB%B6%80/Workspace/Onnanana_second-Projct/02.%EB%82%A8%EC%A7%80%EC%98%81/01.%20%EB%84%A4%EC%9D%B4%EB%B2%84%20%EC%A3%BC%EC%86%8C.ipynb#X31sZmlsZQ%3D%3D?line=44'>45</a>\u001b[0m json_data \u001b[39m=\u001b[39m response\u001b[39m.\u001b[39mjson()\n\u001b[0;32m     <a href='vscode-notebook-cell:/d%3A/IT%20%EA%B3%B5%EB%B6%80/Workspace/Onnanana_second-Projct/02.%EB%82%A8%EC%A7%80%EC%98%81/01.%20%EB%84%A4%EC%9D%B4%EB%B2%84%20%EC%A3%BC%EC%86%8C.ipynb#X31sZmlsZQ%3D%3D?line=46'>47</a>\u001b[0m \u001b[39mif\u001b[39;00m \u001b[39m'\u001b[39m\u001b[39mroute\u001b[39m\u001b[39m'\u001b[39m \u001b[39min\u001b[39;00m json_data:\n\u001b[1;32m---> <a href='vscode-notebook-cell:/d%3A/IT%20%EA%B3%B5%EB%B6%80/Workspace/Onnanana_second-Projct/02.%EB%82%A8%EC%A7%80%EC%98%81/01.%20%EB%84%A4%EC%9D%B4%EB%B2%84%20%EC%A3%BC%EC%86%8C.ipynb#X31sZmlsZQ%3D%3D?line=47'>48</a>\u001b[0m     distance \u001b[39m=\u001b[39m json_data[\u001b[39m'\u001b[39m\u001b[39mroute\u001b[39m\u001b[39m'\u001b[39m][\u001b[39m'\u001b[39m\u001b[39mtrafast\u001b[39m\u001b[39m'\u001b[39m][\u001b[39m0\u001b[39m][\u001b[39m'\u001b[39m\u001b[39msummary\u001b[39m\u001b[39m'\u001b[39m][\u001b[39m'\u001b[39m\u001b[39mdistance\u001b[39m\u001b[39m'\u001b[39m]\n\u001b[0;32m     <a href='vscode-notebook-cell:/d%3A/IT%20%EA%B3%B5%EB%B6%80/Workspace/Onnanana_second-Projct/02.%EB%82%A8%EC%A7%80%EC%98%81/01.%20%EB%84%A4%EC%9D%B4%EB%B2%84%20%EC%A3%BC%EC%86%8C.ipynb#X31sZmlsZQ%3D%3D?line=48'>49</a>\u001b[0m     \u001b[39mprint\u001b[39m(\u001b[39mf\u001b[39m\u001b[39m\"\u001b[39m\u001b[39m출발지에서 도착지까지의 거리는 \u001b[39m\u001b[39m{\u001b[39;00mdistance\u001b[39m}\u001b[39;00m\u001b[39mm 입니다.\u001b[39m\u001b[39m\"\u001b[39m)\n\u001b[0;32m     <a href='vscode-notebook-cell:/d%3A/IT%20%EA%B3%B5%EB%B6%80/Workspace/Onnanana_second-Projct/02.%EB%82%A8%EC%A7%80%EC%98%81/01.%20%EB%84%A4%EC%9D%B4%EB%B2%84%20%EC%A3%BC%EC%86%8C.ipynb#X31sZmlsZQ%3D%3D?line=49'>50</a>\u001b[0m     \u001b[39mprint\u001b[39m(\u001b[39m\"\u001b[39m\u001b[39m경로 정보:\u001b[39m\u001b[39m\"\u001b[39m)\n",
      "\u001b[1;31mKeyError\u001b[0m: 'trafast'"
     ]
    }
   ],
   "source": [
    "import requests\n",
    "\n",
    "def get_coordinates(location):\n",
    "    base_url = 'https://naveropenapi.apigw.ntruss.com/map-geocode/v2/geocode'\n",
    "    headers = {\n",
    "        'X-NCP-APIGW-API-KEY-ID': 'ogam984n5u',  # 여기에 본인의 API 키 ID 입력\n",
    "        'X-NCP-APIGW-API-KEY': naver_key         # 여기에 본인의 API 키 입력\n",
    "    }\n",
    "\n",
    "    params = {\n",
    "        'query': location\n",
    "    }\n",
    "\n",
    "    response = requests.get(base_url, headers=headers, params=params)\n",
    "    json_data = response.json()\n",
    "\n",
    "    if 'addresses' in json_data and json_data['addresses']:\n",
    "        x = json_data['addresses'][0]['x']\n",
    "        y = json_data['addresses'][0]['y']\n",
    "        print(f\"{location}의 위도는 {y}, 경도는 {x} 입니다.\")\n",
    "        return x, y\n",
    "    else:\n",
    "        print(f\"{location}의 좌표를 찾을 수 없습니다.\")\n",
    "        return None, None\n",
    "\n",
    "def get_directions(start, end):\n",
    "    start_x, start_y = get_coordinates(start)\n",
    "    end_x, end_y = get_coordinates(end)\n",
    "\n",
    "    if start_x is None or end_x is None:\n",
    "        return\n",
    "\n",
    "    base_url = 'https://naveropenapi.apigw.ntruss.com/map-direction/v1/driving'\n",
    "    headers = {\n",
    "        'X-NCP-APIGW-API-KEY-ID': 'ogam984n5u',  # 여기에 본인의 API 키 ID 입력\n",
    "        'X-NCP-APIGW-API-KEY': naver_key         # 여기에 본인의 API 키 입력\n",
    "    }\n",
    "\n",
    "    params = {\n",
    "        'start': f\"{start_x},{start_y}\",\n",
    "        'goal': f\"{end_x},{end_y}\"\n",
    "    }\n",
    "\n",
    "    response = requests.get(base_url, headers=headers, params=params)\n",
    "    json_data = response.json()\n",
    "\n",
    "    if 'route' in json_data:\n",
    "        distance = json_data['route']['trafast'][0]['summary']['distance']\n",
    "        print(f\"출발지에서 도착지까지의 거리는 {distance}m 입니다.\")\n",
    "        print(\"경로 정보:\")\n",
    "        for path in json_data['route']['trafast'][0]['path']:\n",
    "            print(path)\n",
    "    else:\n",
    "        print(\"경로를 찾을 수 없습니다.\")\n",
    "\n",
    "# 출발지와 도착지 설정 (주소)\n",
    "start_address = '서울특별시 강남구 삼성동'  # 예시: '서울특별시 강남구 삼성동'\n",
    "end_address = '경기도 고양시 덕양구 마상로 164'    # 예시: '서울특별시 중구 을지로'\n",
    "\n",
    "get_directions(start_address, end_address)\n"
   ]
  },
  {
   "cell_type": "code",
   "execution_count": 92,
   "metadata": {},
   "outputs": [
    {
     "name": "stdout",
     "output_type": "stream",
     "text": [
      "서울특별시 강남구 삼성동의 위도는 37.514442, 경도는 127.062532 입니다.\n",
      "경기도 고양시 덕양구 마상로 164의 위도는 37.6578214, 경도는 126.8403659 입니다.\n",
      "경로를 찾을 수 없습니다.\n"
     ]
    }
   ],
   "source": [
    "import requests\n",
    "\n",
    "def get_coordinates(location):\n",
    "    base_url = 'https://naveropenapi.apigw.ntruss.com/map-geocode/v2/geocode'\n",
    "    headers = {\n",
    "        'X-NCP-APIGW-API-KEY-ID': 'ogam984n5u',  # 여기에 본인의 API 키 ID 입력\n",
    "        'X-NCP-APIGW-API-KEY': naver_key         # 여기에 본인의 API 키 입력\n",
    "    }\n",
    "\n",
    "    params = {\n",
    "        'query': location\n",
    "    }\n",
    "\n",
    "    response = requests.get(base_url, headers=headers, params=params)\n",
    "    json_data = response.json()\n",
    "\n",
    "    if 'addresses' in json_data and json_data['addresses']:\n",
    "        x = json_data['addresses'][0]['x']\n",
    "        y = json_data['addresses'][0]['y']\n",
    "        print(f\"{location}의 위도는 {y}, 경도는 {x} 입니다.\")\n",
    "        return x, y\n",
    "    else:\n",
    "        print(f\"{location}의 좌표를 찾을 수 없습니다.\")\n",
    "        return None, None\n",
    "\n",
    "def get_directions(start, end):\n",
    "    start_x, start_y = get_coordinates(start)\n",
    "    end_x, end_y = get_coordinates(end)\n",
    "\n",
    "    if start_x is None or end_x is None:\n",
    "        return\n",
    "\n",
    "    base_url = 'https://naveropenapi.apigw.ntruss.com/map-direction/v1/driving'\n",
    "    headers = {\n",
    "        'X-NCP-APIGW-API-KEY-ID': 'ogam984n5u',  # 여기에 본인의 API 키 ID 입력\n",
    "        'X-NCP-APIGW-API-KEY': naver_key         # 여기에 본인의 API 키 입력\n",
    "    }\n",
    "\n",
    "    params = {\n",
    "        'start': f\"{start_x},{start_y}\",\n",
    "        'goal': f\"{end_x},{end_y}\"\n",
    "    }\n",
    "\n",
    "    response = requests.get(base_url, headers=headers, params=params)\n",
    "    json_data = response.json()\n",
    "\n",
    "    if 'routes' in json_data and json_data['routes']:\n",
    "        distance = json_data['routes'][0]['summary']['distance']\n",
    "        print(f\"출발지에서 도착지까지의 거리는 {distance}m 입니다.\")\n",
    "        print(\"경로 정보:\")\n",
    "        for path in json_data['routes'][0]['trafast']:\n",
    "            print(path)\n",
    "    else:\n",
    "        print(\"경로를 찾을 수 없습니다.\")\n",
    "\n",
    "# 출발지와 도착지 설정 (주소)\n",
    "start_address = '서울특별시 강남구 삼성동'  # 예시: '서울특별시 강남구 삼성동'\n",
    "end_address = '경기도 고양시 덕양구 마상로 164'    # 예시: '서울특별시 중구 을지로'\n",
    "\n",
    "get_directions(start_address, end_address)\n"
   ]
  },
  {
   "cell_type": "code",
   "execution_count": null,
   "metadata": {},
   "outputs": [],
   "source": []
  }
 ],
 "metadata": {
  "kernelspec": {
   "display_name": "base",
   "language": "python",
   "name": "python3"
  },
  "language_info": {
   "codemirror_mode": {
    "name": "ipython",
    "version": 3
   },
   "file_extension": ".py",
   "mimetype": "text/x-python",
   "name": "python",
   "nbconvert_exporter": "python",
   "pygments_lexer": "ipython3",
   "version": "3.11.4"
  },
  "orig_nbformat": 4
 },
 "nbformat": 4,
 "nbformat_minor": 2
}
