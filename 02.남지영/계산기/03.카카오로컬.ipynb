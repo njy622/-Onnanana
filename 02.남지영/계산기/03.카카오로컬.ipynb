{
 "cells": [
  {
   "cell_type": "markdown",
   "metadata": {},
   "source": [
    "## 카카오 로컬 API 활용\n",
    "- 도로명 주소 ---> 위도, 경도 좌표"
   ]
  },
  {
   "cell_type": "code",
   "execution_count": 16,
   "metadata": {},
   "outputs": [],
   "source": [
    "import requests, json\n",
    "import pandas as pd\n",
    "from urllib.parse import quote"
   ]
  },
  {
   "cell_type": "markdown",
   "metadata": {},
   "source": [
    "- API Key"
   ]
  },
  {
   "cell_type": "code",
   "execution_count": 17,
   "metadata": {},
   "outputs": [],
   "source": [
    "with open('keys/카카오apikey.txt') as file:\n",
    "    kakao_key = file.read()"
   ]
  },
  {
   "cell_type": "markdown",
   "metadata": {},
   "source": [
    "- URL 만들기"
   ]
  },
  {
   "cell_type": "code",
   "execution_count": 18,
   "metadata": {},
   "outputs": [],
   "source": [
    "base_url = 'https://dapi.kakao.com/v2/local/search/address.json'\n",
    "addr = '서울특별시 영등포구 경인로 지하843 (영등포동3가)'\n",
    "url = f'{base_url}?query={quote(addr)}'"
   ]
  },
  {
   "cell_type": "code",
   "execution_count": 19,
   "metadata": {},
   "outputs": [],
   "source": [
    "# Header: Authorization: KakaoAK ${REST_API_KEY}\n",
    "header = {'Authorization': f'KakaoAK {kakao_key}'}"
   ]
  },
  {
   "cell_type": "markdown",
   "metadata": {},
   "source": [
    "- Kakao Local API 호출하여 결과 가져오기"
   ]
  },
  {
   "cell_type": "code",
   "execution_count": 20,
   "metadata": {},
   "outputs": [
    {
     "data": {
      "text/plain": [
       "{'documents': [{'address': {'address_name': '서울 영등포구 영등포동3가 33',\n",
       "    'b_code': '1156010400',\n",
       "    'h_code': '1156053500',\n",
       "    'main_address_no': '33',\n",
       "    'mountain_yn': 'N',\n",
       "    'region_1depth_name': '서울',\n",
       "    'region_2depth_name': '영등포구',\n",
       "    'region_3depth_h_name': '영등포동',\n",
       "    'region_3depth_name': '영등포동3가',\n",
       "    'sub_address_no': '',\n",
       "    'x': '126.906658750671',\n",
       "    'y': '37.5164625580995'},\n",
       "   'address_name': '서울 영등포구 경인로 지하 843',\n",
       "   'address_type': 'ROAD_ADDR',\n",
       "   'road_address': {'address_name': '서울 영등포구 경인로 지하 843',\n",
       "    'building_name': '영등포역지하도상가',\n",
       "    'main_building_no': '843',\n",
       "    'region_1depth_name': '서울',\n",
       "    'region_2depth_name': '영등포구',\n",
       "    'region_3depth_name': '영등포동3가',\n",
       "    'road_name': '경인로',\n",
       "    'sub_building_no': '',\n",
       "    'underground_yn': 'Y',\n",
       "    'x': '126.906658750671',\n",
       "    'y': '37.5164625580995',\n",
       "    'zone_no': '07305'},\n",
       "   'x': '126.906658750671',\n",
       "   'y': '37.5164625580995'}],\n",
       " 'meta': {'is_end': True, 'pageable_count': 1, 'total_count': 1}}"
      ]
     },
     "execution_count": 20,
     "metadata": {},
     "output_type": "execute_result"
    }
   ],
   "source": [
    "result = requests.get(url, headers=header).json()\n",
    "result"
   ]
  },
  {
   "cell_type": "code",
   "execution_count": 21,
   "metadata": {},
   "outputs": [
    {
     "data": {
      "text/plain": [
       "dict_keys(['address', 'address_name', 'address_type', 'road_address', 'x', 'y'])"
      ]
     },
     "execution_count": 21,
     "metadata": {},
     "output_type": "execute_result"
    }
   ],
   "source": [
    "result['documents'][0].keys()"
   ]
  },
  {
   "cell_type": "code",
   "execution_count": 22,
   "metadata": {},
   "outputs": [
    {
     "data": {
      "text/plain": [
       "(37.5164625580995, 126.906658750671)"
      ]
     },
     "execution_count": 22,
     "metadata": {},
     "output_type": "execute_result"
    }
   ],
   "source": [
    "lat = float(result['documents'][0]['y'])\n",
    "lng = float(result['documents'][0]['x'])\n",
    "lat, lng"
   ]
  },
  {
   "cell_type": "markdown",
   "metadata": {},
   "source": [
    "- 영등포소재 지하철역 정보 완성하기"
   ]
  },
  {
   "cell_type": "code",
   "execution_count": 23,
   "metadata": {},
   "outputs": [
    {
     "data": {
      "text/html": [
       "<div>\n",
       "<style scoped>\n",
       "    .dataframe tbody tr th:only-of-type {\n",
       "        vertical-align: middle;\n",
       "    }\n",
       "\n",
       "    .dataframe tbody tr th {\n",
       "        vertical-align: top;\n",
       "    }\n",
       "\n",
       "    .dataframe thead th {\n",
       "        text-align: right;\n",
       "    }\n",
       "</style>\n",
       "<table border=\"1\" class=\"dataframe\">\n",
       "  <thead>\n",
       "    <tr style=\"text-align: right;\">\n",
       "      <th></th>\n",
       "      <th>이름</th>\n",
       "      <th>주소</th>\n",
       "    </tr>\n",
       "  </thead>\n",
       "  <tbody>\n",
       "    <tr>\n",
       "      <th>0</th>\n",
       "      <td>영등포역</td>\n",
       "      <td>서울특별시 영등포구 경인로 지하843 (영등포동3가)</td>\n",
       "    </tr>\n",
       "    <tr>\n",
       "      <th>1</th>\n",
       "      <td>신도림역</td>\n",
       "      <td>서울특별시 구로구 경인로 625 (신도림동)</td>\n",
       "    </tr>\n",
       "    <tr>\n",
       "      <th>2</th>\n",
       "      <td>당산역</td>\n",
       "      <td>서울특별시 영등포구 당산로 229 (당산동6가)</td>\n",
       "    </tr>\n",
       "    <tr>\n",
       "      <th>3</th>\n",
       "      <td>여의도역</td>\n",
       "      <td>서울특별시 영등포구 여의나루로 지하40 (여의도동)</td>\n",
       "    </tr>\n",
       "    <tr>\n",
       "      <th>4</th>\n",
       "      <td>영등포구청역</td>\n",
       "      <td>서울특별시 영등포구 당산로 지하121 (당산동3가)</td>\n",
       "    </tr>\n",
       "  </tbody>\n",
       "</table>\n",
       "</div>"
      ],
      "text/plain": [
       "        이름                             주소\n",
       "0     영등포역  서울특별시 영등포구 경인로 지하843 (영등포동3가)\n",
       "1     신도림역       서울특별시 구로구 경인로 625 (신도림동)\n",
       "2      당산역     서울특별시 영등포구 당산로 229 (당산동6가)\n",
       "3     여의도역   서울특별시 영등포구 여의나루로 지하40 (여의도동)\n",
       "4   영등포구청역   서울특별시 영등포구 당산로 지하121 (당산동3가)"
      ]
     },
     "execution_count": 23,
     "metadata": {},
     "output_type": "execute_result"
    }
   ],
   "source": [
    "df = pd.read_csv('data/영등포소재 지하철역.csv')\n",
    "df"
   ]
  },
  {
   "cell_type": "code",
   "execution_count": 24,
   "metadata": {},
   "outputs": [],
   "source": [
    "lat_list, lng_list = [], []\n",
    "for i in df.index:\n",
    "    url = f'{base_url}?query={quote(df[\"주소\"][i])}'\n",
    "    result = requests.get(url, headers=header).json()\n",
    "    lat_list.append(float(result['documents'][0]['y']))\n",
    "    lng_list.append(float(result['documents'][0]['x']))"
   ]
  },
  {
   "cell_type": "code",
   "execution_count": 25,
   "metadata": {},
   "outputs": [
    {
     "data": {
      "text/html": [
       "<div>\n",
       "<style scoped>\n",
       "    .dataframe tbody tr th:only-of-type {\n",
       "        vertical-align: middle;\n",
       "    }\n",
       "\n",
       "    .dataframe tbody tr th {\n",
       "        vertical-align: top;\n",
       "    }\n",
       "\n",
       "    .dataframe thead th {\n",
       "        text-align: right;\n",
       "    }\n",
       "</style>\n",
       "<table border=\"1\" class=\"dataframe\">\n",
       "  <thead>\n",
       "    <tr style=\"text-align: right;\">\n",
       "      <th></th>\n",
       "      <th>이름</th>\n",
       "      <th>주소</th>\n",
       "      <th>위도</th>\n",
       "      <th>경도</th>\n",
       "    </tr>\n",
       "  </thead>\n",
       "  <tbody>\n",
       "    <tr>\n",
       "      <th>0</th>\n",
       "      <td>영등포역</td>\n",
       "      <td>서울특별시 영등포구 경인로 지하843 (영등포동3가)</td>\n",
       "      <td>37.516463</td>\n",
       "      <td>126.906659</td>\n",
       "    </tr>\n",
       "    <tr>\n",
       "      <th>1</th>\n",
       "      <td>신도림역</td>\n",
       "      <td>서울특별시 구로구 경인로 625 (신도림동)</td>\n",
       "      <td>37.507084</td>\n",
       "      <td>126.884719</td>\n",
       "    </tr>\n",
       "    <tr>\n",
       "      <th>2</th>\n",
       "      <td>당산역</td>\n",
       "      <td>서울특별시 영등포구 당산로 229 (당산동6가)</td>\n",
       "      <td>37.534957</td>\n",
       "      <td>126.902731</td>\n",
       "    </tr>\n",
       "    <tr>\n",
       "      <th>3</th>\n",
       "      <td>여의도역</td>\n",
       "      <td>서울특별시 영등포구 여의나루로 지하40 (여의도동)</td>\n",
       "      <td>37.521842</td>\n",
       "      <td>126.924485</td>\n",
       "    </tr>\n",
       "    <tr>\n",
       "      <th>4</th>\n",
       "      <td>영등포구청역</td>\n",
       "      <td>서울특별시 영등포구 당산로 지하121 (당산동3가)</td>\n",
       "      <td>37.525700</td>\n",
       "      <td>126.896627</td>\n",
       "    </tr>\n",
       "  </tbody>\n",
       "</table>\n",
       "</div>"
      ],
      "text/plain": [
       "        이름                             주소         위도          경도\n",
       "0     영등포역  서울특별시 영등포구 경인로 지하843 (영등포동3가)  37.516463  126.906659\n",
       "1     신도림역       서울특별시 구로구 경인로 625 (신도림동)  37.507084  126.884719\n",
       "2      당산역     서울특별시 영등포구 당산로 229 (당산동6가)  37.534957  126.902731\n",
       "3     여의도역   서울특별시 영등포구 여의나루로 지하40 (여의도동)  37.521842  126.924485\n",
       "4   영등포구청역   서울특별시 영등포구 당산로 지하121 (당산동3가)  37.525700  126.896627"
      ]
     },
     "execution_count": 25,
     "metadata": {},
     "output_type": "execute_result"
    }
   ],
   "source": [
    "df['위도'] = lat_list\n",
    "df['경도'] = lng_list\n",
    "df"
   ]
  },
  {
   "cell_type": "code",
   "execution_count": 26,
   "metadata": {},
   "outputs": [
    {
     "data": {
      "text/html": [
       "<div>\n",
       "<style scoped>\n",
       "    .dataframe tbody tr th:only-of-type {\n",
       "        vertical-align: middle;\n",
       "    }\n",
       "\n",
       "    .dataframe tbody tr th {\n",
       "        vertical-align: top;\n",
       "    }\n",
       "\n",
       "    .dataframe thead th {\n",
       "        text-align: right;\n",
       "    }\n",
       "</style>\n",
       "<table border=\"1\" class=\"dataframe\">\n",
       "  <thead>\n",
       "    <tr style=\"text-align: right;\">\n",
       "      <th></th>\n",
       "      <th>이름</th>\n",
       "      <th>주소</th>\n",
       "      <th>위도</th>\n",
       "      <th>경도</th>\n",
       "    </tr>\n",
       "  </thead>\n",
       "  <tbody>\n",
       "    <tr>\n",
       "      <th>0</th>\n",
       "      <td>영등포역</td>\n",
       "      <td>서울특별시 영등포구 경인로 지하843 (영등포동3가)</td>\n",
       "      <td>37.516463</td>\n",
       "      <td>126.906659</td>\n",
       "    </tr>\n",
       "    <tr>\n",
       "      <th>1</th>\n",
       "      <td>신도림역</td>\n",
       "      <td>서울특별시 구로구 경인로 625 (신도림동)</td>\n",
       "      <td>37.507084</td>\n",
       "      <td>126.884719</td>\n",
       "    </tr>\n",
       "    <tr>\n",
       "      <th>2</th>\n",
       "      <td>당산역</td>\n",
       "      <td>서울특별시 영등포구 당산로 229 (당산동6가)</td>\n",
       "      <td>37.534957</td>\n",
       "      <td>126.902731</td>\n",
       "    </tr>\n",
       "    <tr>\n",
       "      <th>3</th>\n",
       "      <td>여의도역</td>\n",
       "      <td>서울특별시 영등포구 여의나루로 지하40 (여의도동)</td>\n",
       "      <td>37.521842</td>\n",
       "      <td>126.924485</td>\n",
       "    </tr>\n",
       "    <tr>\n",
       "      <th>4</th>\n",
       "      <td>영등포구청역</td>\n",
       "      <td>서울특별시 영등포구 당산로 지하121 (당산동3가)</td>\n",
       "      <td>37.525700</td>\n",
       "      <td>126.896627</td>\n",
       "    </tr>\n",
       "  </tbody>\n",
       "</table>\n",
       "</div>"
      ],
      "text/plain": [
       "        이름                             주소         위도          경도\n",
       "0     영등포역  서울특별시 영등포구 경인로 지하843 (영등포동3가)  37.516463  126.906659\n",
       "1     신도림역       서울특별시 구로구 경인로 625 (신도림동)  37.507084  126.884719\n",
       "2      당산역     서울특별시 영등포구 당산로 229 (당산동6가)  37.534957  126.902731\n",
       "3     여의도역   서울특별시 영등포구 여의나루로 지하40 (여의도동)  37.521842  126.924485\n",
       "4   영등포구청역   서울특별시 영등포구 당산로 지하121 (당산동3가)  37.525700  126.896627"
      ]
     },
     "execution_count": 26,
     "metadata": {},
     "output_type": "execute_result"
    }
   ],
   "source": [
    "df.to_csv('data/영등포소재 지하철역2.csv', index=False)\n",
    "pd.read_csv('data/영등포소재 지하철역2.csv')"
   ]
  },
  {
   "cell_type": "code",
   "execution_count": 31,
   "metadata": {},
   "outputs": [
    {
     "data": {
      "text/plain": [
       "(126.906658750671, 37.5164625580995)"
      ]
     },
     "execution_count": 31,
     "metadata": {},
     "output_type": "execute_result"
    }
   ],
   "source": [
    "df.경도[0], df.위도[0]"
   ]
  },
  {
   "cell_type": "code",
   "execution_count": 41,
   "metadata": {},
   "outputs": [
    {
     "data": {
      "text/plain": [
       "('https://map.kakao.com/link/to/영등포역,37.5164625580995,126.906658750671',\n",
       " 'https://map.kakao.com/link/as/ 신도림역,37.5070842748567,126.884718686628')"
      ]
     },
     "execution_count": 41,
     "metadata": {},
     "output_type": "execute_result"
    }
   ],
   "source": [
    "name, W, K = df.이름[0], df.위도[0], df.경도[0]\n",
    "name2, W2, K2 = df.이름[1], df.위도[1], df.경도[1]\n",
    "\n",
    "url1 = f'https://map.kakao.com/link/to/{name},{W},{K}'\n",
    "url2 = f'https://map.kakao.com/link//{name2},{W2},{K2}'\n",
    "url, url2"
   ]
  },
  {
   "cell_type": "code",
   "execution_count": 5,
   "metadata": {},
   "outputs": [
    {
     "ename": "KeyError",
     "evalue": "'x'",
     "output_type": "error",
     "traceback": [
      "\u001b[1;31m---------------------------------------------------------------------------\u001b[0m",
      "\u001b[1;31mKeyError\u001b[0m                                  Traceback (most recent call last)",
      "\u001b[1;32md:\\IT 공부\\Workspace\\Onnanana_second-Projct\\02.남지영\\03.카카오로컬.ipynb 셀 19\u001b[0m line \u001b[0;36m4\n\u001b[0;32m     <a href='vscode-notebook-cell:/d%3A/IT%20%EA%B3%B5%EB%B6%80/Workspace/Onnanana_second-Projct/02.%EB%82%A8%EC%A7%80%EC%98%81/03.%EC%B9%B4%EC%B9%B4%EC%98%A4%EB%A1%9C%EC%BB%AC.ipynb#X24sZmlsZQ%3D%3D?line=39'>40</a>\u001b[0m start_point \u001b[39m=\u001b[39m (\u001b[39m37.5662952\u001b[39m, \u001b[39m126.9779451\u001b[39m)  \u001b[39m# 예시: 서울 시청\u001b[39;00m\n\u001b[0;32m     <a href='vscode-notebook-cell:/d%3A/IT%20%EA%B3%B5%EB%B6%80/Workspace/Onnanana_second-Projct/02.%EB%82%A8%EC%A7%80%EC%98%81/03.%EC%B9%B4%EC%B9%B4%EC%98%A4%EB%A1%9C%EC%BB%AC.ipynb#X24sZmlsZQ%3D%3D?line=40'>41</a>\u001b[0m end_point \u001b[39m=\u001b[39m (\u001b[39m37.566681\u001b[39m, \u001b[39m126.978437\u001b[39m)  \u001b[39m# 예시: 덕수궁\u001b[39;00m\n\u001b[1;32m---> <a href='vscode-notebook-cell:/d%3A/IT%20%EA%B3%B5%EB%B6%80/Workspace/Onnanana_second-Projct/02.%EB%82%A8%EC%A7%80%EC%98%81/03.%EC%B9%B4%EC%B9%B4%EC%98%A4%EB%A1%9C%EC%BB%AC.ipynb#X24sZmlsZQ%3D%3D?line=42'>43</a>\u001b[0m get_directions(start_point, end_point)\n",
      "\u001b[1;32md:\\IT 공부\\Workspace\\Onnanana_second-Projct\\02.남지영\\03.카카오로컬.ipynb 셀 19\u001b[0m line \u001b[0;36m1\n\u001b[0;32m     <a href='vscode-notebook-cell:/d%3A/IT%20%EA%B3%B5%EB%B6%80/Workspace/Onnanana_second-Projct/02.%EB%82%A8%EC%A7%80%EC%98%81/03.%EC%B9%B4%EC%B9%B4%EC%98%A4%EB%A1%9C%EC%BB%AC.ipynb#X24sZmlsZQ%3D%3D?line=10'>11</a>\u001b[0m start_response \u001b[39m=\u001b[39m requests\u001b[39m.\u001b[39mget(start_url, headers\u001b[39m=\u001b[39mheaders)\n\u001b[0;32m     <a href='vscode-notebook-cell:/d%3A/IT%20%EA%B3%B5%EB%B6%80/Workspace/Onnanana_second-Projct/02.%EB%82%A8%EC%A7%80%EC%98%81/03.%EC%B9%B4%EC%B9%B4%EC%98%A4%EB%A1%9C%EC%BB%AC.ipynb#X24sZmlsZQ%3D%3D?line=11'>12</a>\u001b[0m start_json \u001b[39m=\u001b[39m start_response\u001b[39m.\u001b[39mjson()\n\u001b[1;32m---> <a href='vscode-notebook-cell:/d%3A/IT%20%EA%B3%B5%EB%B6%80/Workspace/Onnanana_second-Projct/02.%EB%82%A8%EC%A7%80%EC%98%81/03.%EC%B9%B4%EC%B9%B4%EC%98%A4%EB%A1%9C%EC%BB%AC.ipynb#X24sZmlsZQ%3D%3D?line=12'>13</a>\u001b[0m start_x \u001b[39m=\u001b[39m start_json[\u001b[39m'\u001b[39m\u001b[39mx\u001b[39m\u001b[39m'\u001b[39m]\n\u001b[0;32m     <a href='vscode-notebook-cell:/d%3A/IT%20%EA%B3%B5%EB%B6%80/Workspace/Onnanana_second-Projct/02.%EB%82%A8%EC%A7%80%EC%98%81/03.%EC%B9%B4%EC%B9%B4%EC%98%A4%EB%A1%9C%EC%BB%AC.ipynb#X24sZmlsZQ%3D%3D?line=13'>14</a>\u001b[0m start_y \u001b[39m=\u001b[39m start_json[\u001b[39m'\u001b[39m\u001b[39my\u001b[39m\u001b[39m'\u001b[39m]\n\u001b[0;32m     <a href='vscode-notebook-cell:/d%3A/IT%20%EA%B3%B5%EB%B6%80/Workspace/Onnanana_second-Projct/02.%EB%82%A8%EC%A7%80%EC%98%81/03.%EC%B9%B4%EC%B9%B4%EC%98%A4%EB%A1%9C%EC%BB%AC.ipynb#X24sZmlsZQ%3D%3D?line=15'>16</a>\u001b[0m \u001b[39m# 도착지 좌표 변환 (WGS84 좌표계를 카카오 좌표계로 변환)\u001b[39;00m\n",
      "\u001b[1;31mKeyError\u001b[0m: 'x'"
     ]
    }
   ],
   "source": [
    "import requests\n",
    "\n",
    "def get_directions(start, end):\n",
    "    url = 'https://dapi.kakao.com/v2/local/geo/transcoord.json?'\n",
    "    headers = {\n",
    "        'Authorization': 'db8c17d6893ffe5d073cd03b8bfe32b5'  # 여기에 본인의 REST API 키를 입력하세요\n",
    "    }\n",
    "\n",
    "    # 출발지 좌표 변환 (WGS84 좌표계를 카카오 좌표계로 변환)\n",
    "    start_url = url + f'x={start[0]}&y={start[1]}&input_coord=WGS84&output_coord=WTM'\n",
    "    start_response = requests.get(start_url, headers=headers)\n",
    "    start_json = start_response.json()\n",
    "    start_x = start_json['x']\n",
    "    start_y = start_json['y']\n",
    "\n",
    "    # 도착지 좌표 변환 (WGS84 좌표계를 카카오 좌표계로 변환)\n",
    "    end_url = url + f'x={end[0]}&y={end[1]}&input_coord=WGS84&output_coord=WTM'\n",
    "    end_response = requests.get(end_url, headers=headers)\n",
    "    end_json = end_response.json()\n",
    "    end_x = end_json['x']\n",
    "    end_y = end_json['y']\n",
    "\n",
    "    # 경로 탐색\n",
    "    \n",
    "    route_url = f'https://dapi.kakao.com/v2/local/path.json?startX={start_x}&startY={start_y}&endX={end_x}&endY={end_y}&option=trafast'\n",
    "    route_response = requests.get(route_url, headers=headers)\n",
    "    route_json = route_response.json()\n",
    "\n",
    "    # 경로 정보 및 거리 출력\n",
    "    if 'code' in route_json and route_json['code'] == -2:\n",
    "        print(\"경로를 찾을 수 없습니다.\")\n",
    "    else:\n",
    "        distance = route_json['route']['distance']\n",
    "        print(f\"출발지에서 도착지까지의 거리는 {distance}m 입니다.\")\n",
    "        print(\"경로 정보:\")\n",
    "        for path in route_json['route']['trafast']:\n",
    "            print(path)\n",
    "\n",
    "# 출발지와 도착지 좌표 설정 (위도, 경도)\n",
    "start_point = (37.5662952, 126.9779451)  # 예시: 서울 시청\n",
    "end_point = (37.566681, 126.978437)  # 예시: 덕수궁\n",
    "\n",
    "get_directions(start_point, end_point)\n"
   ]
  },
  {
   "cell_type": "code",
   "execution_count": 8,
   "metadata": {},
   "outputs": [
    {
     "ename": "KeyError",
     "evalue": "'x'",
     "output_type": "error",
     "traceback": [
      "\u001b[1;31m---------------------------------------------------------------------------\u001b[0m",
      "\u001b[1;31mKeyError\u001b[0m                                  Traceback (most recent call last)",
      "\u001b[1;32md:\\IT 공부\\Workspace\\Onnanana_second-Projct\\02.남지영\\03.카카오로컬.ipynb 셀 20\u001b[0m line \u001b[0;36m4\n\u001b[0;32m     <a href='vscode-notebook-cell:/d%3A/IT%20%EA%B3%B5%EB%B6%80/Workspace/Onnanana_second-Projct/02.%EB%82%A8%EC%A7%80%EC%98%81/03.%EC%B9%B4%EC%B9%B4%EC%98%A4%EB%A1%9C%EC%BB%AC.ipynb#X25sZmlsZQ%3D%3D?line=39'>40</a>\u001b[0m start_point \u001b[39m=\u001b[39m (\u001b[39m37.5662952\u001b[39m, \u001b[39m126.9779451\u001b[39m)  \u001b[39m# 예시: 서울 시청\u001b[39;00m\n\u001b[0;32m     <a href='vscode-notebook-cell:/d%3A/IT%20%EA%B3%B5%EB%B6%80/Workspace/Onnanana_second-Projct/02.%EB%82%A8%EC%A7%80%EC%98%81/03.%EC%B9%B4%EC%B9%B4%EC%98%A4%EB%A1%9C%EC%BB%AC.ipynb#X25sZmlsZQ%3D%3D?line=40'>41</a>\u001b[0m end_point \u001b[39m=\u001b[39m (\u001b[39m37.566681\u001b[39m, \u001b[39m126.978437\u001b[39m)  \u001b[39m# 예시: 덕수궁\u001b[39;00m\n\u001b[1;32m---> <a href='vscode-notebook-cell:/d%3A/IT%20%EA%B3%B5%EB%B6%80/Workspace/Onnanana_second-Projct/02.%EB%82%A8%EC%A7%80%EC%98%81/03.%EC%B9%B4%EC%B9%B4%EC%98%A4%EB%A1%9C%EC%BB%AC.ipynb#X25sZmlsZQ%3D%3D?line=42'>43</a>\u001b[0m get_directions(start_point, end_point)\n",
      "\u001b[1;32md:\\IT 공부\\Workspace\\Onnanana_second-Projct\\02.남지영\\03.카카오로컬.ipynb 셀 20\u001b[0m line \u001b[0;36m1\n\u001b[0;32m     <a href='vscode-notebook-cell:/d%3A/IT%20%EA%B3%B5%EB%B6%80/Workspace/Onnanana_second-Projct/02.%EB%82%A8%EC%A7%80%EC%98%81/03.%EC%B9%B4%EC%B9%B4%EC%98%A4%EB%A1%9C%EC%BB%AC.ipynb#X25sZmlsZQ%3D%3D?line=10'>11</a>\u001b[0m start_response \u001b[39m=\u001b[39m requests\u001b[39m.\u001b[39mget(start_url, headers\u001b[39m=\u001b[39mheaders)\n\u001b[0;32m     <a href='vscode-notebook-cell:/d%3A/IT%20%EA%B3%B5%EB%B6%80/Workspace/Onnanana_second-Projct/02.%EB%82%A8%EC%A7%80%EC%98%81/03.%EC%B9%B4%EC%B9%B4%EC%98%A4%EB%A1%9C%EC%BB%AC.ipynb#X25sZmlsZQ%3D%3D?line=11'>12</a>\u001b[0m start_json \u001b[39m=\u001b[39m start_response\u001b[39m.\u001b[39mjson()\n\u001b[1;32m---> <a href='vscode-notebook-cell:/d%3A/IT%20%EA%B3%B5%EB%B6%80/Workspace/Onnanana_second-Projct/02.%EB%82%A8%EC%A7%80%EC%98%81/03.%EC%B9%B4%EC%B9%B4%EC%98%A4%EB%A1%9C%EC%BB%AC.ipynb#X25sZmlsZQ%3D%3D?line=12'>13</a>\u001b[0m start_x \u001b[39m=\u001b[39m start_json[\u001b[39m'\u001b[39m\u001b[39mx\u001b[39m\u001b[39m'\u001b[39m]\n\u001b[0;32m     <a href='vscode-notebook-cell:/d%3A/IT%20%EA%B3%B5%EB%B6%80/Workspace/Onnanana_second-Projct/02.%EB%82%A8%EC%A7%80%EC%98%81/03.%EC%B9%B4%EC%B9%B4%EC%98%A4%EB%A1%9C%EC%BB%AC.ipynb#X25sZmlsZQ%3D%3D?line=13'>14</a>\u001b[0m start_y \u001b[39m=\u001b[39m start_json[\u001b[39m'\u001b[39m\u001b[39my\u001b[39m\u001b[39m'\u001b[39m]\n\u001b[0;32m     <a href='vscode-notebook-cell:/d%3A/IT%20%EA%B3%B5%EB%B6%80/Workspace/Onnanana_second-Projct/02.%EB%82%A8%EC%A7%80%EC%98%81/03.%EC%B9%B4%EC%B9%B4%EC%98%A4%EB%A1%9C%EC%BB%AC.ipynb#X25sZmlsZQ%3D%3D?line=15'>16</a>\u001b[0m \u001b[39m# 도착지 좌표 변환 (WGS84 좌표계를 카카오 좌표계로 변환)\u001b[39;00m\n",
      "\u001b[1;31mKeyError\u001b[0m: 'x'"
     ]
    }
   ],
   "source": [
    "import requests\n",
    "\n",
    "def get_directions(start, end):\n",
    "    url = 'https://dapi.kakao.com/v2/local/geo/transcoord.json?'\n",
    "    headers = {\n",
    "        'Authorization': kakao_key  # 여기에 본인의 REST API 키를 입력하세요\n",
    "    }\n",
    "\n",
    "    # 출발지 좌표 변환 (WGS84 좌표계를 카카오 좌표계로 변환)\n",
    "    start_url = url + f'x={start[0]}&y={start[1]}&input_coord=WGS84&output_coord=WTM'\n",
    "    start_response = requests.get(start_url, headers=headers)\n",
    "    start_json = start_response.json()\n",
    "    start_x = start_json['x']\n",
    "    start_y = start_json['y']\n",
    "\n",
    "    # 도착지 좌표 변환 (WGS84 좌표계를 카카오 좌표계로 변환)\n",
    "    end_url = url + f'x={end[0]}&y={end[1]}&input_coord=WGS84&output_coord=WTM'\n",
    "    end_response = requests.get(end_url, headers=headers)\n",
    "    end_json = end_response.json()\n",
    "    end_x = end_json['x']\n",
    "    end_y = end_json['y']\n",
    "\n",
    "    # 경로 탐색\n",
    "    \n",
    "    route_url = f'kakaomap://route?sp={start_x},{start_y}&ep={end_x},{end_y}&by=CAR'\n",
    "    route_response = requests.get(route_url, headers=headers)\n",
    "    route_json = route_response.json()\n",
    "\n",
    "    # 경로 정보 및 거리 출력\n",
    "    if 'code' in route_json and route_json['code'] == -2:\n",
    "        print(\"경로를 찾을 수 없습니다.\")\n",
    "    else:\n",
    "        distance = route_json['route']['distance']\n",
    "        print(f\"출발지에서 도착지까지의 거리는 {distance}m 입니다.\")\n",
    "        print(\"경로 정보:\")\n",
    "        for path in route_json['route']['trafast']:\n",
    "            print(path)\n",
    "\n",
    "# 출발지와 도착지 좌표 설정 (위도, 경도)\n",
    "start_point = (37.5662952, 126.9779451)  # 예시: 서울 시청\n",
    "end_point = (37.566681, 126.978437)  # 예시: 덕수궁\n",
    "\n",
    "get_directions(start_point, end_point)\n"
   ]
  },
  {
   "cell_type": "code",
   "execution_count": 7,
   "metadata": {},
   "outputs": [
    {
     "name": "stdout",
     "output_type": "stream",
     "text": [
      "거리를 계산할 수 없습니다.\n"
     ]
    }
   ],
   "source": [
    "import requests\n",
    "\n",
    "def get_route_distance(start_x, start_y, end_x, end_y):\n",
    "    base_url = 'https://dapi.kakao.com/v2/local/route'\n",
    "    \n",
    "    headers = {\n",
    "        'Authorization': kakao_key  # 여기에 본인의 REST API 키를 입력하세요\n",
    "    }\n",
    "\n",
    "    params = {\n",
    "        'start': f\"{start_y},{start_x}\",\n",
    "        'goal': f\"{end_y},{end_x}\",\n",
    "        'option': 'trafast',  # 빠른 길 찾기 옵션 선택\n",
    "        'vehicle_type': '1'   # 1은 자동차, 2는 자전거, 3은 도보\n",
    "    }\n",
    "\n",
    "    response = requests.get(base_url, headers=headers, params=params)\n",
    "    json_data = response.json()\n",
    "\n",
    "    if 'documents' in json_data:\n",
    "        distance = json_data['documents'][0]['distance']\n",
    "        print(f\"출발지에서 도착지까지의 거리는 {distance}m 입니다.\")\n",
    "    else:\n",
    "        print(\"거리를 계산할 수 없습니다.\")\n",
    "\n",
    "# 출발지와 도착지의 경도와 위도 설정\n",
    "start_longitude, start_latitude = 37.5662952, 126.9779451\n",
    "end_longitude, end_latitude = 37.566681, 126.978437\n",
    "get_route_distance(start_longitude, start_latitude, end_longitude, end_latitude)\n"
   ]
  },
  {
   "cell_type": "code",
   "execution_count": 6,
   "metadata": {},
   "outputs": [
    {
     "data": {
      "text/plain": [
       "(37.5164625580995, 126.906658750671)"
      ]
     },
     "execution_count": 6,
     "metadata": {},
     "output_type": "execute_result"
    }
   ],
   "source": [
    "import requests, json\n",
    "import pandas as pd\n",
    "from urllib.parse import quote\n",
    "\n",
    "with open('keys/카카오apikey.txt') as file:\n",
    "    kakao_key = file.read()\n",
    "\n",
    "base_url = 'https://dapi.kakao.com/v2/local/search/address.json'\n",
    "addr = '서울특별시 영등포구 경인로 지하843 (영등포동3가)'\n",
    "url = f'{base_url}?query={quote(addr)}'\n",
    "\n",
    "\n",
    "header = {'Authorization': f'KakaoAK {kakao_key}'}\n",
    "\n",
    "result = requests.get(url, headers=header).json()\n",
    "result\n",
    "\n",
    "\n",
    "result['documents'][0].keys()\n",
    "\n",
    "lat = float(result['documents'][0]['y'])\n",
    "lng = float(result['documents'][0]['x'])\n",
    "lat, lng"
   ]
  },
  {
   "cell_type": "code",
   "execution_count": 9,
   "metadata": {},
   "outputs": [],
   "source": [
    "import requests, json\n",
    "import pandas as pd\n",
    "from urllib.parse import quote\n",
    "\n",
    "with open('keys/카카오apikey.txt') as file:\n",
    "    kakao_key = file.read()\n",
    "\n",
    "base_url = 'https://dapi.kakao.com/v2/local/search/address.json'\n",
    "addr = '서울특별시 영등포구 경인로 지하843 (영등포동3가)'\n",
    "url = f'{base_url}?query={quote(addr)}'\n",
    "\n",
    "\n",
    "header = {'Authorization': f'KakaoAK {kakao_key}'}\n",
    "\n",
    "result = requests.get(url, headers=header).json()\n",
    "result\n",
    "\n",
    "\n",
    "result['documents'][0].keys()\n",
    "\n",
    "lat = float(result['documents'][0]['y'])\n",
    "lng = float(result['documents'][0]['x'])\n",
    "lat, lng"
   ]
  },
  {
   "cell_type": "code",
   "execution_count": 13,
   "metadata": {},
   "outputs": [],
   "source": [
    "base_url= \"https://apis-navi.kakaomobility.com/v1/directions?\"\n",
    "start = \"origin=127.11015314141542,37.39472714688412\"\n",
    "goal = \"&destination=127.10824367964793,37.401937080111644\"\n",
    "waypoint = \"&waypoints=&priority=RECOMMEND&car_fuel=GASOLINE&car_hipass=false&alternatives=false&road_details=false\"\n",
    "\n",
    "url = f'{base_url}{start}{goal}{waypoint}'\n",
    "\n",
    "header = {'Authorization': f'KakaoAK {kakao_key}'}\n",
    "\n",
    "result = requests.get(url, headers=header).json()\n"
   ]
  },
  {
   "cell_type": "code",
   "execution_count": 14,
   "metadata": {},
   "outputs": [
    {
     "data": {
      "text/plain": [
       "{'trans_id': '018bf9a8e3e17828817bc9a5c709ff35',\n",
       " 'routes': [{'result_code': 0,\n",
       "   'result_msg': '길찾기 성공',\n",
       "   'summary': {'origin': {'name': '',\n",
       "     'x': 127.11015051307636,\n",
       "     'y': 37.394725518530834},\n",
       "    'destination': {'name': '',\n",
       "     'x': 127.10823557165544,\n",
       "     'y': 37.401928707331656},\n",
       "    'waypoints': [],\n",
       "    'priority': 'RECOMMEND',\n",
       "    'bound': {'min_x': 127.10833536148644,\n",
       "     'min_y': 37.39445954360996,\n",
       "     'max_x': 127.1098222529551,\n",
       "     'max_y': 37.40242724407785},\n",
       "    'fare': {'taxi': 5100, 'toll': 0},\n",
       "    'distance': 1033,\n",
       "    'duration': 311},\n",
       "   'sections': [{'distance': 1033,\n",
       "     'duration': 311,\n",
       "     'bound': {'min_x': 127.10824109988312,\n",
       "      'min_y': 37.394469584427156,\n",
       "      'max_x': 127.10991634747967,\n",
       "      'max_y': 37.40242613861426},\n",
       "     'roads': [{'name': '',\n",
       "       'distance': 22,\n",
       "       'duration': 5,\n",
       "       'traffic_speed': 16.0,\n",
       "       'traffic_state': 0,\n",
       "       'vertexes': [127.10991634747967,\n",
       "        37.39447145478345,\n",
       "        127.10966790676201,\n",
       "        37.394469584427156]},\n",
       "      {'name': '판교역로',\n",
       "       'distance': 883,\n",
       "       'duration': 241,\n",
       "       'traffic_speed': 9.0,\n",
       "       'traffic_state': 1,\n",
       "       'vertexes': [127.10966790676201,\n",
       "        37.394469584427156,\n",
       "        127.10967141980313,\n",
       "        37.39512739646385,\n",
       "        127.10968100356395,\n",
       "        37.396226781360426,\n",
       "        127.10967417816033,\n",
       "        37.39775855885587,\n",
       "        127.10968323318781,\n",
       "        37.39794785293074,\n",
       "        127.10967534594126,\n",
       "        37.39861458950405,\n",
       "        127.10967214334856,\n",
       "        37.399840028043634,\n",
       "        127.1096931266438,\n",
       "        37.40093048716485,\n",
       "        127.10967543155922,\n",
       "        37.40242613861426]},\n",
       "      {'name': '판교역로241번길',\n",
       "       'distance': 128,\n",
       "       'duration': 65,\n",
       "       'traffic_speed': 15.0,\n",
       "       'traffic_state': 2,\n",
       "       'vertexes': [127.10967543155922,\n",
       "        37.40242613861426,\n",
       "        127.10860261294675,\n",
       "        37.40240904474889,\n",
       "        127.10824109988312,\n",
       "        37.402415329497174]}],\n",
       "     'guides': [{'name': '출발지',\n",
       "       'x': 127.10991634747967,\n",
       "       'y': 37.39447145478345,\n",
       "       'distance': 0,\n",
       "       'duration': 0,\n",
       "       'type': 100,\n",
       "       'guidance': '출발지',\n",
       "       'road_index': 0},\n",
       "      {'name': '',\n",
       "       'x': 127.10966790676201,\n",
       "       'y': 37.394469584427156,\n",
       "       'distance': 22,\n",
       "       'duration': 5,\n",
       "       'type': 2,\n",
       "       'guidance': '우회전',\n",
       "       'road_index': 1},\n",
       "      {'name': '',\n",
       "       'x': 127.10967543155922,\n",
       "       'y': 37.40242613861426,\n",
       "       'distance': 883,\n",
       "       'duration': 241,\n",
       "       'type': 1,\n",
       "       'guidance': '좌회전',\n",
       "       'road_index': 2},\n",
       "      {'name': '목적지',\n",
       "       'x': 127.10824109988312,\n",
       "       'y': 37.402415329497174,\n",
       "       'distance': 128,\n",
       "       'duration': 65,\n",
       "       'type': 101,\n",
       "       'guidance': '목적지',\n",
       "       'road_index': -1}]}]}]}"
      ]
     },
     "execution_count": 14,
     "metadata": {},
     "output_type": "execute_result"
    }
   ],
   "source": [
    "result"
   ]
  },
  {
   "cell_type": "code",
   "execution_count": null,
   "metadata": {},
   "outputs": [],
   "source": []
  }
 ],
 "metadata": {
  "kernelspec": {
   "display_name": "base",
   "language": "python",
   "name": "python3"
  },
  "language_info": {
   "codemirror_mode": {
    "name": "ipython",
    "version": 3
   },
   "file_extension": ".py",
   "mimetype": "text/x-python",
   "name": "python",
   "nbconvert_exporter": "python",
   "pygments_lexer": "ipython3",
   "version": "3.11.4"
  },
  "orig_nbformat": 4
 },
 "nbformat": 4,
 "nbformat_minor": 2
}
