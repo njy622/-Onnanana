{
 "cells": [
  {
   "cell_type": "code",
   "execution_count": 1,
   "metadata": {},
   "outputs": [],
   "source": [
    "import pandas as pd"
   ]
  },
  {
   "cell_type": "code",
   "execution_count": 2,
   "metadata": {},
   "outputs": [],
   "source": [
    "df = pd.read_csv('data/미세먼지_PM10__월별_도시별_대기오염도_20231116153601.csv',encoding='ansi')"
   ]
  },
  {
   "cell_type": "code",
   "execution_count": 3,
   "metadata": {},
   "outputs": [
    {
     "data": {
      "text/html": [
       "<div>\n",
       "<style scoped>\n",
       "    .dataframe tbody tr th:only-of-type {\n",
       "        vertical-align: middle;\n",
       "    }\n",
       "\n",
       "    .dataframe tbody tr th {\n",
       "        vertical-align: top;\n",
       "    }\n",
       "\n",
       "    .dataframe thead th {\n",
       "        text-align: right;\n",
       "    }\n",
       "</style>\n",
       "<table border=\"1\" class=\"dataframe\">\n",
       "  <thead>\n",
       "    <tr style=\"text-align: right;\">\n",
       "      <th></th>\n",
       "      <th>구분</th>\n",
       "      <th>항목</th>\n",
       "      <th>단위</th>\n",
       "      <th>2010.01 월</th>\n",
       "      <th>2010.02 월</th>\n",
       "      <th>2010.03 월</th>\n",
       "      <th>2010.04 월</th>\n",
       "      <th>2010.05 월</th>\n",
       "      <th>2010.06 월</th>\n",
       "      <th>2010.07 월</th>\n",
       "      <th>...</th>\n",
       "      <th>2022.06 월</th>\n",
       "      <th>2022.07 월</th>\n",
       "      <th>2022.08 월</th>\n",
       "      <th>2022.09 월</th>\n",
       "      <th>2022.10 월</th>\n",
       "      <th>2022.11 월</th>\n",
       "      <th>2022.12 월</th>\n",
       "      <th>2023.01 월</th>\n",
       "      <th>2023.02 월</th>\n",
       "      <th>Unnamed: 161</th>\n",
       "    </tr>\n",
       "  </thead>\n",
       "  <tbody>\n",
       "    <tr>\n",
       "      <th>0</th>\n",
       "      <td>총계</td>\n",
       "      <td>월평균</td>\n",
       "      <td>NaN</td>\n",
       "      <td>57.0</td>\n",
       "      <td>49</td>\n",
       "      <td>64.0</td>\n",
       "      <td>51</td>\n",
       "      <td>59</td>\n",
       "      <td>52</td>\n",
       "      <td>36</td>\n",
       "      <td>...</td>\n",
       "      <td>22</td>\n",
       "      <td>22</td>\n",
       "      <td>19</td>\n",
       "      <td>22</td>\n",
       "      <td>26</td>\n",
       "      <td>39</td>\n",
       "      <td>35</td>\n",
       "      <td>45.0</td>\n",
       "      <td>43.0</td>\n",
       "      <td>NaN</td>\n",
       "    </tr>\n",
       "    <tr>\n",
       "      <th>1</th>\n",
       "      <td>서울특별시</td>\n",
       "      <td>월평균</td>\n",
       "      <td>NaN</td>\n",
       "      <td>59.0</td>\n",
       "      <td>50</td>\n",
       "      <td>61.0</td>\n",
       "      <td>49</td>\n",
       "      <td>56</td>\n",
       "      <td>51</td>\n",
       "      <td>33</td>\n",
       "      <td>...</td>\n",
       "      <td>22</td>\n",
       "      <td>25</td>\n",
       "      <td>20</td>\n",
       "      <td>22</td>\n",
       "      <td>25</td>\n",
       "      <td>39</td>\n",
       "      <td>38</td>\n",
       "      <td>48.0</td>\n",
       "      <td>46.0</td>\n",
       "      <td>NaN</td>\n",
       "    </tr>\n",
       "    <tr>\n",
       "      <th>2</th>\n",
       "      <td>부산광역시</td>\n",
       "      <td>월평균</td>\n",
       "      <td>NaN</td>\n",
       "      <td>47.0</td>\n",
       "      <td>44</td>\n",
       "      <td>64.0</td>\n",
       "      <td>50</td>\n",
       "      <td>56</td>\n",
       "      <td>46</td>\n",
       "      <td>41</td>\n",
       "      <td>...</td>\n",
       "      <td>19</td>\n",
       "      <td>20</td>\n",
       "      <td>19</td>\n",
       "      <td>20</td>\n",
       "      <td>21</td>\n",
       "      <td>33</td>\n",
       "      <td>30</td>\n",
       "      <td>37.0</td>\n",
       "      <td>34.0</td>\n",
       "      <td>NaN</td>\n",
       "    </tr>\n",
       "  </tbody>\n",
       "</table>\n",
       "<p>3 rows × 162 columns</p>\n",
       "</div>"
      ],
      "text/plain": [
       "      구분   항목  단위  2010.01 월 2010.02 월  2010.03 월 2010.04 월 2010.05 월  \\\n",
       "0     총계  월평균 NaN       57.0        49       64.0        51        59   \n",
       "1  서울특별시  월평균 NaN       59.0        50       61.0        49        56   \n",
       "2  부산광역시  월평균 NaN       47.0        44       64.0        50        56   \n",
       "\n",
       "  2010.06 월 2010.07 월  ... 2022.06 월 2022.07 월  2022.08 월  2022.09 월  \\\n",
       "0        52        36  ...        22        22         19         22   \n",
       "1        51        33  ...        22        25         20         22   \n",
       "2        46        41  ...        19        20         19         20   \n",
       "\n",
       "   2022.10 월 2022.11 월  2022.12 월  2023.01 월  2023.02 월  Unnamed: 161  \n",
       "0         26        39         35       45.0       43.0           NaN  \n",
       "1         25        39         38       48.0       46.0           NaN  \n",
       "2         21        33         30       37.0       34.0           NaN  \n",
       "\n",
       "[3 rows x 162 columns]"
      ]
     },
     "execution_count": 3,
     "metadata": {},
     "output_type": "execute_result"
    }
   ],
   "source": [
    "df.head(3)"
   ]
  },
  {
   "cell_type": "code",
   "execution_count": 4,
   "metadata": {},
   "outputs": [],
   "source": [
    "long_df = df.melt(id_vars=['구분', '항목','단위'], \n",
    "                  var_name='STD_YYYYMM', \n",
    "                  value_name='PM10')"
   ]
  },
  {
   "cell_type": "code",
   "execution_count": 8,
   "metadata": {},
   "outputs": [
    {
     "data": {
      "text/html": [
       "<div>\n",
       "<style scoped>\n",
       "    .dataframe tbody tr th:only-of-type {\n",
       "        vertical-align: middle;\n",
       "    }\n",
       "\n",
       "    .dataframe tbody tr th {\n",
       "        vertical-align: top;\n",
       "    }\n",
       "\n",
       "    .dataframe thead th {\n",
       "        text-align: right;\n",
       "    }\n",
       "</style>\n",
       "<table border=\"1\" class=\"dataframe\">\n",
       "  <thead>\n",
       "    <tr style=\"text-align: right;\">\n",
       "      <th></th>\n",
       "      <th>SIDO</th>\n",
       "      <th>항목</th>\n",
       "      <th>단위</th>\n",
       "      <th>STD_YYYYMM</th>\n",
       "      <th>PM10</th>\n",
       "    </tr>\n",
       "  </thead>\n",
       "  <tbody>\n",
       "    <tr>\n",
       "      <th>0</th>\n",
       "      <td>총계</td>\n",
       "      <td>월평균</td>\n",
       "      <td>NaN</td>\n",
       "      <td>2010.01 월</td>\n",
       "      <td>57.0</td>\n",
       "    </tr>\n",
       "    <tr>\n",
       "      <th>1</th>\n",
       "      <td>서울특별시</td>\n",
       "      <td>월평균</td>\n",
       "      <td>NaN</td>\n",
       "      <td>2010.01 월</td>\n",
       "      <td>59.0</td>\n",
       "    </tr>\n",
       "    <tr>\n",
       "      <th>2</th>\n",
       "      <td>부산광역시</td>\n",
       "      <td>월평균</td>\n",
       "      <td>NaN</td>\n",
       "      <td>2010.01 월</td>\n",
       "      <td>47.0</td>\n",
       "    </tr>\n",
       "  </tbody>\n",
       "</table>\n",
       "</div>"
      ],
      "text/plain": [
       "    SIDO   항목  단위 STD_YYYYMM  PM10\n",
       "0     총계  월평균 NaN  2010.01 월  57.0\n",
       "1  서울특별시  월평균 NaN  2010.01 월  59.0\n",
       "2  부산광역시  월평균 NaN  2010.01 월  47.0"
      ]
     },
     "execution_count": 8,
     "metadata": {},
     "output_type": "execute_result"
    }
   ],
   "source": [
    "long_df.head(3)"
   ]
  },
  {
   "cell_type": "code",
   "execution_count": 6,
   "metadata": {},
   "outputs": [],
   "source": [
    "long_df.rename(columns={'구분': 'SIDO'}, inplace=True)"
   ]
  },
  {
   "cell_type": "code",
   "execution_count": 9,
   "metadata": {},
   "outputs": [],
   "source": [
    "# 대체하고자 하는 도시 이름 목록\n",
    "cities = [\n",
    "    \"수원\", \"안양\", \"성남\", \"의정부\", \"광명\", \"안산\", \"평택\", \"과천\", \"구리\", \"의왕\",\n",
    "    \"고양\", \"광주\", \"군포\", \"시흥\", \"부천\", \"남양주\", \"용인\", \"김포\", \"오산\", \"하남\",\n",
    "    \"화성\", \"양주\", \"동두천\", \"안성\", \"이천\", \"파주\", \"포천\", \"여주\", \"연천\", \"가평\", \"양평\"\n",
    "]\n",
    "\n",
    "# '구분' 열에서 해당 도시 이름들을 '경기도'로 변경\n",
    "long_df['SIDO'] = long_df['SIDO'].replace(cities, '경기도')"
   ]
  },
  {
   "cell_type": "code",
   "execution_count": 10,
   "metadata": {},
   "outputs": [],
   "source": [
    "cities = [\n",
    "    \"양구\", \"고성\", \"정선\", \"횡성\", \"춘천\", \"강릉\", \"원주\", \"동해\", \"삼척\", \"평창\", \n",
    "    \"양양\", \"속초\", \"영월\", \"철원\", \"홍천\", \"화천\", \"태백\", \"인제\"\n",
    "]\n",
    "\n",
    "# '구분' 열에서 해당 도시 이름들을 '강원도'로 변경\n",
    "long_df['SIDO'] = long_df['SIDO'].replace(cities, '강원도')"
   ]
  },
  {
   "cell_type": "code",
   "execution_count": 11,
   "metadata": {},
   "outputs": [],
   "source": [
    "# 대체하고자 하는 충청북도 도시 이름 목록\n",
    "cities = [\n",
    "    \"괴산\", \"음성\", \"청주\", \"충주\", \"제천\", \"청원\", \"단양\", \"진천\", \"옥천\", \"영동\", \"증평\", \"보은\"\n",
    "]\n",
    "\n",
    "# '구분' 열에서 해당 도시 이름들을 '충청북도'로 변경\n",
    "long_df['SIDO'] = long_df['SIDO'].replace(cities, '충청북도')"
   ]
  },
  {
   "cell_type": "code",
   "execution_count": 12,
   "metadata": {},
   "outputs": [],
   "source": [
    "# 대체하고자 하는 충청남도 도시 이름 목록\n",
    "cities = [\n",
    "    \"천안\", \"당진\", \"서산\", \"아산\", \"논산\", \"태안\", \"보령\", \"홍성\", \"공주\", \n",
    "    \"부여\", \"청양\", \"금산\", \"예산\", \"계룡\", \"서천\"\n",
    "]\n",
    "\n",
    "# '구분' 열에서 해당 도시 이름들을 '충청남도'로 변경\n",
    "long_df['SIDO'] = long_df['SIDO'].replace(cities, '충청남도')"
   ]
  },
  {
   "cell_type": "code",
   "execution_count": 13,
   "metadata": {},
   "outputs": [],
   "source": [
    "# 대체하고자 하는 전라북도 도시 이름 목록\n",
    "cities = [\n",
    "    \"임실\", \"전주\", \"군산\", \"익산\", \"남원\", \"정읍\", \"고창\", \"부안\", \"김제\", \n",
    "    \"완주\", \"진안\", \"무주\", \"순창\", \"장수\"\n",
    "]\n",
    "\n",
    "# '구분' 열에서 해당 도시 이름들을 '전라북도'로 변경\n",
    "long_df['SIDO'] = long_df['SIDO'].replace(cities, '전라북도')"
   ]
  },
  {
   "cell_type": "code",
   "execution_count": 15,
   "metadata": {},
   "outputs": [],
   "source": [
    "# 대체하고자 하는 전라남도 도시 이름 목록\n",
    "cities = [\n",
    "    \"화순\", \"여수\", \"광양\", \"순천\", \"목포\", \"영암\", \"나주\", \"담양\", \"장성\", \"해남\", \n",
    "    \"영광\", \"장흥\", \"진도\", \"완도\", \"함평\", \"고흥\", \"신안\", \"무안\", \"강진\", \"곡성\", \"구례\", \"보성\"\n",
    "]\n",
    "\n",
    "# 'SIDO' 열에서 해당 도시 이름들을 '전라남도'로 변경\n",
    "long_df['SIDO'] = long_df['SIDO'].replace(cities, '전라남도')"
   ]
  },
  {
   "cell_type": "code",
   "execution_count": 18,
   "metadata": {},
   "outputs": [],
   "source": [
    "# 대체하고자 하는 경상북도 도시 이름 목록\n",
    "cities = [\n",
    "    \"영덕\", \"영천\", \"의성\", \"울릉도\", \"포항\", \"구미\", \"김천\", \"경주\", \"안동\", \"영주\", \n",
    "    \"경산\", \"상주\", \"칠곡\", \"울진\", \"봉화\", \"고령\", \"군위\", \"성주\", \"예천\", \"청도\", \n",
    "    \"청송\", \"영양\", \"문경\"\n",
    "]\n",
    "\n",
    "# 'SIDO' 열에서 해당 도시 이름들을 '경상북도'로 변경\n",
    "long_df['SIDO'] = long_df['SIDO'].replace(cities, '경상북도')"
   ]
  },
  {
   "cell_type": "code",
   "execution_count": 20,
   "metadata": {},
   "outputs": [],
   "source": [
    "# 대체하고자 하는 경상남도 도시 이름 목록\n",
    "cities = [\n",
    "    \"창원\", \"마산\", \"진주\", \"진해\", \"하동\", \"김해\", \"양산\", \"거제\", \"사천\", \"밀양\", \n",
    "    \"통영\", \"강원도\", \"거창\", \"함안\", \"함양\", \"남해\", \"산청\", \"의령\", \"창녕\", \"합천\"\n",
    "]\n",
    "\n",
    "# 'SIDO' 열에서 해당 도시 이름들을 '경상남도'로 변경\n",
    "long_df['SIDO'] = long_df['SIDO'].replace(cities, '경상남도')\n"
   ]
  },
  {
   "cell_type": "code",
   "execution_count": 22,
   "metadata": {},
   "outputs": [],
   "source": [
    "# 대체하고자 하는 경상남도 도시 이름 목록\n",
    "cities = [\n",
    "    \"제주\", \"서귀포\"\n",
    "]\n",
    "\n",
    "# 'SIDO' 열에서 해당 도시 이름들을 '제주특별자치도'로 변경\n",
    "long_df['SIDO'] = long_df['SIDO'].replace(cities, '제주특별자치도')\n"
   ]
  },
  {
   "cell_type": "code",
   "execution_count": 27,
   "metadata": {},
   "outputs": [
    {
     "data": {
      "text/plain": [
       "dtype('float64')"
      ]
     },
     "execution_count": 27,
     "metadata": {},
     "output_type": "execute_result"
    }
   ],
   "source": [
    "long_df['PM10'].dtype"
   ]
  },
  {
   "cell_type": "code",
   "execution_count": 26,
   "metadata": {},
   "outputs": [],
   "source": [
    "long_df['PM10'] = pd.to_numeric(long_df['PM10'], errors='coerce') \n",
    "\n",
    "# 오브젝트 타입에서의 변환"
   ]
  },
  {
   "cell_type": "code",
   "execution_count": 28,
   "metadata": {},
   "outputs": [],
   "source": [
    "# SIDO, STD_YYYYMM 열을 기준으로 그룹바이 한후 PM10의 평균값을 새로운 콜롬에 저장\n",
    "long_df['AVG_PM10'] = long_df.groupby(['SIDO', 'STD_YYYYMM'])['PM10'].transform('mean')"
   ]
  },
  {
   "cell_type": "code",
   "execution_count": 30,
   "metadata": {},
   "outputs": [],
   "source": [
    "# 평균값을 소수점 둘째자리까지 반올림\n",
    "long_df['AVG_PM10'] = long_df['AVG_PM10'].round(2)"
   ]
  },
  {
   "cell_type": "code",
   "execution_count": 32,
   "metadata": {},
   "outputs": [],
   "source": [
    "long_df.to_csv('data/test/pm10.csv',index=False)"
   ]
  },
  {
   "cell_type": "code",
   "execution_count": 33,
   "metadata": {},
   "outputs": [],
   "source": [
    "df2 = long_df.drop_duplicates(subset=['SIDO', 'STD_YYYYMM', 'AVG_PM10'])\n",
    "# SIDO와 STD_YYYYMM 열을 기준으로 중복을 제거\n",
    "# 중복된 데이터를 제거하면 데이터가 정렬됨 "
   ]
  },
  {
   "cell_type": "code",
   "execution_count": 37,
   "metadata": {},
   "outputs": [],
   "source": [
    "# SIDO 열에 총계 또는 도평균을 포함하는 열을 필터링 \n",
    "df2 = df2[~df2['SIDO'].str.contains('총계|도평균')]"
   ]
  },
  {
   "cell_type": "code",
   "execution_count": 39,
   "metadata": {},
   "outputs": [],
   "source": [
    "# PM10 , 항목 , 단위 콜롬 제거\n",
    "df2 = df2.drop(columns=['PM10', '항목', '단위'])"
   ]
  },
  {
   "cell_type": "code",
   "execution_count": 44,
   "metadata": {},
   "outputs": [],
   "source": [
    "# 'STD_YYYYMM' 열의 숫자가 아닌 문자를 제거\n",
    "df2['STD_YYYYMM'] = df2['STD_YYYYMM'].str.replace('[^\\d]', '', regex=True)"
   ]
  },
  {
   "cell_type": "code",
   "execution_count": 46,
   "metadata": {},
   "outputs": [],
   "source": [
    "# 결과를 정수 타입으로 변환\n",
    "df2['STD_YYYYMM'] = df2['STD_YYYYMM'].astype(int)\n"
   ]
  },
  {
   "cell_type": "code",
   "execution_count": 47,
   "metadata": {},
   "outputs": [
    {
     "data": {
      "text/plain": [
       "dtype('int32')"
      ]
     },
     "execution_count": 47,
     "metadata": {},
     "output_type": "execute_result"
    }
   ],
   "source": [
    "df2['STD_YYYYMM'].dtype"
   ]
  },
  {
   "cell_type": "code",
   "execution_count": 48,
   "metadata": {},
   "outputs": [],
   "source": [
    "df2.to_csv('data/test/pm10_2.csv', index=False)"
   ]
  },
  {
   "cell_type": "code",
   "execution_count": 2,
   "metadata": {},
   "outputs": [],
   "source": [
    "df2 = pd.read_csv('data/test/pm10_2.csv')"
   ]
  },
  {
   "cell_type": "code",
   "execution_count": 3,
   "metadata": {},
   "outputs": [
    {
     "data": {
      "text/html": [
       "<div>\n",
       "<style scoped>\n",
       "    .dataframe tbody tr th:only-of-type {\n",
       "        vertical-align: middle;\n",
       "    }\n",
       "\n",
       "    .dataframe tbody tr th {\n",
       "        vertical-align: top;\n",
       "    }\n",
       "\n",
       "    .dataframe thead th {\n",
       "        text-align: right;\n",
       "    }\n",
       "</style>\n",
       "<table border=\"1\" class=\"dataframe\">\n",
       "  <thead>\n",
       "    <tr style=\"text-align: right;\">\n",
       "      <th></th>\n",
       "      <th>SIDO</th>\n",
       "      <th>STD_YYYYMM</th>\n",
       "      <th>AVG_PM10</th>\n",
       "    </tr>\n",
       "  </thead>\n",
       "  <tbody>\n",
       "    <tr>\n",
       "      <th>0</th>\n",
       "      <td>서울특별시</td>\n",
       "      <td>201001</td>\n",
       "      <td>59.0</td>\n",
       "    </tr>\n",
       "    <tr>\n",
       "      <th>1</th>\n",
       "      <td>부산광역시</td>\n",
       "      <td>201001</td>\n",
       "      <td>47.0</td>\n",
       "    </tr>\n",
       "    <tr>\n",
       "      <th>2</th>\n",
       "      <td>대구광역시</td>\n",
       "      <td>201001</td>\n",
       "      <td>56.0</td>\n",
       "    </tr>\n",
       "    <tr>\n",
       "      <th>3</th>\n",
       "      <td>인천광역시</td>\n",
       "      <td>201001</td>\n",
       "      <td>64.0</td>\n",
       "    </tr>\n",
       "    <tr>\n",
       "      <th>4</th>\n",
       "      <td>광주광역시</td>\n",
       "      <td>201001</td>\n",
       "      <td>46.0</td>\n",
       "    </tr>\n",
       "  </tbody>\n",
       "</table>\n",
       "</div>"
      ],
      "text/plain": [
       "    SIDO  STD_YYYYMM  AVG_PM10\n",
       "0  서울특별시      201001      59.0\n",
       "1  부산광역시      201001      47.0\n",
       "2  대구광역시      201001      56.0\n",
       "3  인천광역시      201001      64.0\n",
       "4  광주광역시      201001      46.0"
      ]
     },
     "execution_count": 3,
     "metadata": {},
     "output_type": "execute_result"
    }
   ],
   "source": [
    "df2.head()"
   ]
  },
  {
   "cell_type": "code",
   "execution_count": 4,
   "metadata": {},
   "outputs": [
    {
     "data": {
      "text/html": [
       "<div>\n",
       "<style scoped>\n",
       "    .dataframe tbody tr th:only-of-type {\n",
       "        vertical-align: middle;\n",
       "    }\n",
       "\n",
       "    .dataframe tbody tr th {\n",
       "        vertical-align: top;\n",
       "    }\n",
       "\n",
       "    .dataframe thead th {\n",
       "        text-align: right;\n",
       "    }\n",
       "</style>\n",
       "<table border=\"1\" class=\"dataframe\">\n",
       "  <thead>\n",
       "    <tr style=\"text-align: right;\">\n",
       "      <th></th>\n",
       "      <th>SIDO</th>\n",
       "      <th>STD_YYYYMM</th>\n",
       "      <th>AVG_PM10</th>\n",
       "    </tr>\n",
       "  </thead>\n",
       "  <tbody>\n",
       "    <tr>\n",
       "      <th>2539</th>\n",
       "      <td>충청남도</td>\n",
       "      <td>161</td>\n",
       "      <td>NaN</td>\n",
       "    </tr>\n",
       "    <tr>\n",
       "      <th>2540</th>\n",
       "      <td>전라북도</td>\n",
       "      <td>161</td>\n",
       "      <td>NaN</td>\n",
       "    </tr>\n",
       "    <tr>\n",
       "      <th>2541</th>\n",
       "      <td>전라남도</td>\n",
       "      <td>161</td>\n",
       "      <td>NaN</td>\n",
       "    </tr>\n",
       "    <tr>\n",
       "      <th>2542</th>\n",
       "      <td>경상북도</td>\n",
       "      <td>161</td>\n",
       "      <td>NaN</td>\n",
       "    </tr>\n",
       "    <tr>\n",
       "      <th>2543</th>\n",
       "      <td>제주특별자치도</td>\n",
       "      <td>161</td>\n",
       "      <td>NaN</td>\n",
       "    </tr>\n",
       "  </tbody>\n",
       "</table>\n",
       "</div>"
      ],
      "text/plain": [
       "         SIDO  STD_YYYYMM  AVG_PM10\n",
       "2539     충청남도         161       NaN\n",
       "2540     전라북도         161       NaN\n",
       "2541     전라남도         161       NaN\n",
       "2542     경상북도         161       NaN\n",
       "2543  제주특별자치도         161       NaN"
      ]
     },
     "execution_count": 4,
     "metadata": {},
     "output_type": "execute_result"
    }
   ],
   "source": [
    "df2.tail()"
   ]
  },
  {
   "cell_type": "code",
   "execution_count": 1,
   "metadata": {},
   "outputs": [],
   "source": [
    "import pandas as pd\n",
    "import numpy as np"
   ]
  },
  {
   "cell_type": "code",
   "execution_count": 9,
   "metadata": {},
   "outputs": [
    {
     "data": {
      "text/html": [
       "<div>\n",
       "<style scoped>\n",
       "    .dataframe tbody tr th:only-of-type {\n",
       "        vertical-align: middle;\n",
       "    }\n",
       "\n",
       "    .dataframe tbody tr th {\n",
       "        vertical-align: top;\n",
       "    }\n",
       "\n",
       "    .dataframe thead th {\n",
       "        text-align: right;\n",
       "    }\n",
       "</style>\n",
       "<table border=\"1\" class=\"dataframe\">\n",
       "  <thead>\n",
       "    <tr style=\"text-align: right;\">\n",
       "      <th></th>\n",
       "      <th>SIDO</th>\n",
       "      <th>STD_YYYYMM</th>\n",
       "      <th>AVG_PM10</th>\n",
       "      <th>PM10_BAD</th>\n",
       "    </tr>\n",
       "  </thead>\n",
       "  <tbody>\n",
       "    <tr>\n",
       "      <th>0</th>\n",
       "      <td>서울특별시</td>\n",
       "      <td>201001</td>\n",
       "      <td>59.0</td>\n",
       "      <td>N</td>\n",
       "    </tr>\n",
       "    <tr>\n",
       "      <th>1</th>\n",
       "      <td>부산광역시</td>\n",
       "      <td>201001</td>\n",
       "      <td>47.0</td>\n",
       "      <td>N</td>\n",
       "    </tr>\n",
       "    <tr>\n",
       "      <th>2</th>\n",
       "      <td>대구광역시</td>\n",
       "      <td>201001</td>\n",
       "      <td>56.0</td>\n",
       "      <td>N</td>\n",
       "    </tr>\n",
       "    <tr>\n",
       "      <th>3</th>\n",
       "      <td>인천광역시</td>\n",
       "      <td>201001</td>\n",
       "      <td>64.0</td>\n",
       "      <td>N</td>\n",
       "    </tr>\n",
       "    <tr>\n",
       "      <th>4</th>\n",
       "      <td>광주광역시</td>\n",
       "      <td>201001</td>\n",
       "      <td>46.0</td>\n",
       "      <td>N</td>\n",
       "    </tr>\n",
       "  </tbody>\n",
       "</table>\n",
       "</div>"
      ],
      "text/plain": [
       "    SIDO  STD_YYYYMM  AVG_PM10 PM10_BAD\n",
       "0  서울특별시      201001      59.0        N\n",
       "1  부산광역시      201001      47.0        N\n",
       "2  대구광역시      201001      56.0        N\n",
       "3  인천광역시      201001      64.0        N\n",
       "4  광주광역시      201001      46.0        N"
      ]
     },
     "execution_count": 9,
     "metadata": {},
     "output_type": "execute_result"
    }
   ],
   "source": [
    "df = pd.read_csv('data/test/pm10_2.csv')\n",
    "df.head()"
   ]
  },
  {
   "cell_type": "code",
   "execution_count": 10,
   "metadata": {},
   "outputs": [],
   "source": [
    "# 'AVG_PM10'의 값이 80 이하이거나 NaN이면 'N', 80 초과이면 'Y'를 'PM10_80BAD' 열에 할당\n",
    "df['PM10_80BAD'] = np.where((df['AVG_PM10'] <= 80) | pd.isna(df['AVG_PM10']), 'N', 'Y')\n"
   ]
  },
  {
   "cell_type": "code",
   "execution_count": 11,
   "metadata": {},
   "outputs": [
    {
     "data": {
      "text/html": [
       "<div>\n",
       "<style scoped>\n",
       "    .dataframe tbody tr th:only-of-type {\n",
       "        vertical-align: middle;\n",
       "    }\n",
       "\n",
       "    .dataframe tbody tr th {\n",
       "        vertical-align: top;\n",
       "    }\n",
       "\n",
       "    .dataframe thead th {\n",
       "        text-align: right;\n",
       "    }\n",
       "</style>\n",
       "<table border=\"1\" class=\"dataframe\">\n",
       "  <thead>\n",
       "    <tr style=\"text-align: right;\">\n",
       "      <th></th>\n",
       "      <th>SIDO</th>\n",
       "      <th>STD_YYYYMM</th>\n",
       "      <th>AVG_PM10</th>\n",
       "      <th>PM10_BAD</th>\n",
       "      <th>PM10_80BAD</th>\n",
       "    </tr>\n",
       "  </thead>\n",
       "  <tbody>\n",
       "    <tr>\n",
       "      <th>0</th>\n",
       "      <td>서울특별시</td>\n",
       "      <td>201001</td>\n",
       "      <td>59.0</td>\n",
       "      <td>N</td>\n",
       "      <td>N</td>\n",
       "    </tr>\n",
       "    <tr>\n",
       "      <th>1</th>\n",
       "      <td>부산광역시</td>\n",
       "      <td>201001</td>\n",
       "      <td>47.0</td>\n",
       "      <td>N</td>\n",
       "      <td>N</td>\n",
       "    </tr>\n",
       "    <tr>\n",
       "      <th>2</th>\n",
       "      <td>대구광역시</td>\n",
       "      <td>201001</td>\n",
       "      <td>56.0</td>\n",
       "      <td>N</td>\n",
       "      <td>N</td>\n",
       "    </tr>\n",
       "    <tr>\n",
       "      <th>3</th>\n",
       "      <td>인천광역시</td>\n",
       "      <td>201001</td>\n",
       "      <td>64.0</td>\n",
       "      <td>N</td>\n",
       "      <td>N</td>\n",
       "    </tr>\n",
       "    <tr>\n",
       "      <th>4</th>\n",
       "      <td>광주광역시</td>\n",
       "      <td>201001</td>\n",
       "      <td>46.0</td>\n",
       "      <td>N</td>\n",
       "      <td>N</td>\n",
       "    </tr>\n",
       "  </tbody>\n",
       "</table>\n",
       "</div>"
      ],
      "text/plain": [
       "    SIDO  STD_YYYYMM  AVG_PM10 PM10_BAD PM10_80BAD\n",
       "0  서울특별시      201001      59.0        N          N\n",
       "1  부산광역시      201001      47.0        N          N\n",
       "2  대구광역시      201001      56.0        N          N\n",
       "3  인천광역시      201001      64.0        N          N\n",
       "4  광주광역시      201001      46.0        N          N"
      ]
     },
     "execution_count": 11,
     "metadata": {},
     "output_type": "execute_result"
    }
   ],
   "source": [
    "df.head()"
   ]
  },
  {
   "cell_type": "code",
   "execution_count": 12,
   "metadata": {},
   "outputs": [
    {
     "data": {
      "text/plain": [
       "PM10_80BAD\n",
       "N    2533\n",
       "Y      11\n",
       "Name: count, dtype: int64"
      ]
     },
     "execution_count": 12,
     "metadata": {},
     "output_type": "execute_result"
    }
   ],
   "source": [
    "df['PM10_80BAD'].value_counts()"
   ]
  },
  {
   "cell_type": "code",
   "execution_count": 13,
   "metadata": {},
   "outputs": [],
   "source": [
    "# AVG_납의 평균 계산\n",
    "avg_pm10 = df['AVG_PM10'].mean()\n",
    "\n",
    "# 조건에 따라 납_BAD에 Y 또는 N 할당\n",
    "df['PM10_BAD'] = df['AVG_PM10'].apply(lambda x: 'Y' if x > avg_pm10 else 'N')"
   ]
  },
  {
   "cell_type": "code",
   "execution_count": 14,
   "metadata": {},
   "outputs": [
    {
     "data": {
      "text/plain": [
       "PM10_BAD\n",
       "N    1392\n",
       "Y    1152\n",
       "Name: count, dtype: int64"
      ]
     },
     "execution_count": 14,
     "metadata": {},
     "output_type": "execute_result"
    }
   ],
   "source": [
    "df['PM10_BAD'].value_counts()"
   ]
  },
  {
   "cell_type": "code",
   "execution_count": 15,
   "metadata": {},
   "outputs": [],
   "source": [
    "df.to_csv('data/test/pm10_2.csv', index=False)"
   ]
  },
  {
   "cell_type": "code",
   "execution_count": null,
   "metadata": {},
   "outputs": [],
   "source": []
  }
 ],
 "metadata": {
  "kernelspec": {
   "display_name": "base",
   "language": "python",
   "name": "python3"
  },
  "language_info": {
   "codemirror_mode": {
    "name": "ipython",
    "version": 3
   },
   "file_extension": ".py",
   "mimetype": "text/x-python",
   "name": "python",
   "nbconvert_exporter": "python",
   "pygments_lexer": "ipython3",
   "version": "3.11.4"
  }
 },
 "nbformat": 4,
 "nbformat_minor": 2
}
