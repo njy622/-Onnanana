{
 "cells": [
  {
   "cell_type": "code",
   "execution_count": 1,
   "metadata": {},
   "outputs": [],
   "source": [
    "import pandas as pd"
   ]
  },
  {
   "cell_type": "code",
   "execution_count": 2,
   "metadata": {},
   "outputs": [],
   "source": [
    "df = pd.read_csv('data/급성_심근경색_환자_수_시도별_월별__20231122140252.csv', encoding='ansi')"
   ]
  },
  {
   "cell_type": "code",
   "execution_count": 3,
   "metadata": {},
   "outputs": [
    {
     "data": {
      "text/html": [
       "<div>\n",
       "<style scoped>\n",
       "    .dataframe tbody tr th:only-of-type {\n",
       "        vertical-align: middle;\n",
       "    }\n",
       "\n",
       "    .dataframe tbody tr th {\n",
       "        vertical-align: top;\n",
       "    }\n",
       "\n",
       "    .dataframe thead th {\n",
       "        text-align: right;\n",
       "    }\n",
       "</style>\n",
       "<table border=\"1\" class=\"dataframe\">\n",
       "  <thead>\n",
       "    <tr style=\"text-align: right;\">\n",
       "      <th></th>\n",
       "      <th>지역별(1)</th>\n",
       "      <th>2014</th>\n",
       "      <th>2014.1</th>\n",
       "      <th>2014.2</th>\n",
       "      <th>2014.3</th>\n",
       "      <th>2014.4</th>\n",
       "      <th>2014.5</th>\n",
       "      <th>2014.6</th>\n",
       "      <th>2014.7</th>\n",
       "      <th>2014.8</th>\n",
       "      <th>...</th>\n",
       "      <th>2021.2</th>\n",
       "      <th>2021.3</th>\n",
       "      <th>2021.4</th>\n",
       "      <th>2021.5</th>\n",
       "      <th>2021.6</th>\n",
       "      <th>2021.7</th>\n",
       "      <th>2021.8</th>\n",
       "      <th>2021.9</th>\n",
       "      <th>2021.10</th>\n",
       "      <th>2021.11</th>\n",
       "    </tr>\n",
       "  </thead>\n",
       "  <tbody>\n",
       "    <tr>\n",
       "      <th>0</th>\n",
       "      <td>지역별(1)</td>\n",
       "      <td>1월</td>\n",
       "      <td>2월</td>\n",
       "      <td>3월</td>\n",
       "      <td>4월</td>\n",
       "      <td>5월</td>\n",
       "      <td>6월</td>\n",
       "      <td>7월</td>\n",
       "      <td>8월</td>\n",
       "      <td>9월</td>\n",
       "      <td>...</td>\n",
       "      <td>3월</td>\n",
       "      <td>4월</td>\n",
       "      <td>5월</td>\n",
       "      <td>6월</td>\n",
       "      <td>7월</td>\n",
       "      <td>8월</td>\n",
       "      <td>9월</td>\n",
       "      <td>10월</td>\n",
       "      <td>11월</td>\n",
       "      <td>12월</td>\n",
       "    </tr>\n",
       "    <tr>\n",
       "      <th>1</th>\n",
       "      <td>서울</td>\n",
       "      <td>505</td>\n",
       "      <td>509</td>\n",
       "      <td>498</td>\n",
       "      <td>475</td>\n",
       "      <td>534</td>\n",
       "      <td>444</td>\n",
       "      <td>421</td>\n",
       "      <td>471</td>\n",
       "      <td>449</td>\n",
       "      <td>...</td>\n",
       "      <td>605</td>\n",
       "      <td>621</td>\n",
       "      <td>643</td>\n",
       "      <td>562</td>\n",
       "      <td>559</td>\n",
       "      <td>585</td>\n",
       "      <td>591</td>\n",
       "      <td>638</td>\n",
       "      <td>655</td>\n",
       "      <td>527</td>\n",
       "    </tr>\n",
       "    <tr>\n",
       "      <th>2</th>\n",
       "      <td>부산</td>\n",
       "      <td>134</td>\n",
       "      <td>118</td>\n",
       "      <td>143</td>\n",
       "      <td>136</td>\n",
       "      <td>126</td>\n",
       "      <td>129</td>\n",
       "      <td>138</td>\n",
       "      <td>129</td>\n",
       "      <td>140</td>\n",
       "      <td>...</td>\n",
       "      <td>196</td>\n",
       "      <td>208</td>\n",
       "      <td>193</td>\n",
       "      <td>207</td>\n",
       "      <td>189</td>\n",
       "      <td>231</td>\n",
       "      <td>197</td>\n",
       "      <td>189</td>\n",
       "      <td>211</td>\n",
       "      <td>213</td>\n",
       "    </tr>\n",
       "    <tr>\n",
       "      <th>3</th>\n",
       "      <td>대구</td>\n",
       "      <td>237</td>\n",
       "      <td>194</td>\n",
       "      <td>243</td>\n",
       "      <td>220</td>\n",
       "      <td>245</td>\n",
       "      <td>234</td>\n",
       "      <td>231</td>\n",
       "      <td>211</td>\n",
       "      <td>220</td>\n",
       "      <td>...</td>\n",
       "      <td>252</td>\n",
       "      <td>219</td>\n",
       "      <td>216</td>\n",
       "      <td>235</td>\n",
       "      <td>220</td>\n",
       "      <td>213</td>\n",
       "      <td>234</td>\n",
       "      <td>224</td>\n",
       "      <td>222</td>\n",
       "      <td>223</td>\n",
       "    </tr>\n",
       "    <tr>\n",
       "      <th>4</th>\n",
       "      <td>인천</td>\n",
       "      <td>95</td>\n",
       "      <td>100</td>\n",
       "      <td>100</td>\n",
       "      <td>126</td>\n",
       "      <td>88</td>\n",
       "      <td>74</td>\n",
       "      <td>104</td>\n",
       "      <td>99</td>\n",
       "      <td>84</td>\n",
       "      <td>...</td>\n",
       "      <td>174</td>\n",
       "      <td>166</td>\n",
       "      <td>196</td>\n",
       "      <td>191</td>\n",
       "      <td>174</td>\n",
       "      <td>165</td>\n",
       "      <td>155</td>\n",
       "      <td>188</td>\n",
       "      <td>157</td>\n",
       "      <td>168</td>\n",
       "    </tr>\n",
       "  </tbody>\n",
       "</table>\n",
       "<p>5 rows × 97 columns</p>\n",
       "</div>"
      ],
      "text/plain": [
       "   지역별(1) 2014 2014.1 2014.2 2014.3 2014.4 2014.5 2014.6 2014.7 2014.8  ...  \\\n",
       "0  지역별(1)   1월     2월     3월     4월     5월     6월     7월     8월     9월  ...   \n",
       "1      서울  505    509    498    475    534    444    421    471    449  ...   \n",
       "2      부산  134    118    143    136    126    129    138    129    140  ...   \n",
       "3      대구  237    194    243    220    245    234    231    211    220  ...   \n",
       "4      인천   95    100    100    126     88     74    104     99     84  ...   \n",
       "\n",
       "  2021.2 2021.3 2021.4 2021.5 2021.6 2021.7 2021.8 2021.9 2021.10 2021.11  \n",
       "0     3월     4월     5월     6월     7월     8월     9월    10월     11월     12월  \n",
       "1    605    621    643    562    559    585    591    638     655     527  \n",
       "2    196    208    193    207    189    231    197    189     211     213  \n",
       "3    252    219    216    235    220    213    234    224     222     223  \n",
       "4    174    166    196    191    174    165    155    188     157     168  \n",
       "\n",
       "[5 rows x 97 columns]"
      ]
     },
     "execution_count": 3,
     "metadata": {},
     "output_type": "execute_result"
    }
   ],
   "source": [
    "df.head()"
   ]
  },
  {
   "cell_type": "code",
   "execution_count": 4,
   "metadata": {},
   "outputs": [],
   "source": [
    "df.to_csv('data/test/심근경색.csv', index=False)"
   ]
  },
  {
   "cell_type": "code",
   "execution_count": 5,
   "metadata": {},
   "outputs": [],
   "source": [
    "# '지역별(1)' 컬럼에서 '지역별(1)' 문자값을 가진 행을 제거\n",
    "df = df[df['지역별(1)'] != '지역별(1)']"
   ]
  },
  {
   "cell_type": "code",
   "execution_count": 6,
   "metadata": {},
   "outputs": [],
   "source": [
    "long_df = df.melt(id_vars=['지역별(1)'], \n",
    "                  var_name='STD_YYYYMM', \n",
    "                  value_name='심근경색')"
   ]
  },
  {
   "cell_type": "code",
   "execution_count": 7,
   "metadata": {},
   "outputs": [
    {
     "data": {
      "text/html": [
       "<div>\n",
       "<style scoped>\n",
       "    .dataframe tbody tr th:only-of-type {\n",
       "        vertical-align: middle;\n",
       "    }\n",
       "\n",
       "    .dataframe tbody tr th {\n",
       "        vertical-align: top;\n",
       "    }\n",
       "\n",
       "    .dataframe thead th {\n",
       "        text-align: right;\n",
       "    }\n",
       "</style>\n",
       "<table border=\"1\" class=\"dataframe\">\n",
       "  <thead>\n",
       "    <tr style=\"text-align: right;\">\n",
       "      <th></th>\n",
       "      <th>지역별(1)</th>\n",
       "      <th>STD_YYYYMM</th>\n",
       "      <th>심근경색</th>\n",
       "    </tr>\n",
       "  </thead>\n",
       "  <tbody>\n",
       "    <tr>\n",
       "      <th>0</th>\n",
       "      <td>서울</td>\n",
       "      <td>2014</td>\n",
       "      <td>505</td>\n",
       "    </tr>\n",
       "    <tr>\n",
       "      <th>1</th>\n",
       "      <td>부산</td>\n",
       "      <td>2014</td>\n",
       "      <td>134</td>\n",
       "    </tr>\n",
       "    <tr>\n",
       "      <th>2</th>\n",
       "      <td>대구</td>\n",
       "      <td>2014</td>\n",
       "      <td>237</td>\n",
       "    </tr>\n",
       "  </tbody>\n",
       "</table>\n",
       "</div>"
      ],
      "text/plain": [
       "  지역별(1) STD_YYYYMM 심근경색\n",
       "0     서울       2014  505\n",
       "1     부산       2014  134\n",
       "2     대구       2014  237"
      ]
     },
     "execution_count": 7,
     "metadata": {},
     "output_type": "execute_result"
    }
   ],
   "source": [
    "long_df.head(3)"
   ]
  },
  {
   "cell_type": "code",
   "execution_count": 8,
   "metadata": {},
   "outputs": [],
   "source": [
    "long_df.rename(columns={'지역별(1)': 'SIDO'}, inplace=True)"
   ]
  },
  {
   "cell_type": "code",
   "execution_count": 9,
   "metadata": {},
   "outputs": [],
   "source": [
    "\n",
    "# 변경할 문자열 매핑\n",
    "name_mapping = {\n",
    "    '서울': '서울특별시',\n",
    "    '부산': '부산광역시',\n",
    "    '대구': '대구광역시',\n",
    "    '인천': '인천광역시',\n",
    "    '광주': '광주광역시',\n",
    "    '대전': '대전광역시',\n",
    "    '울산': '울산광역시',\n",
    "    '경기': '경기도',\n",
    "    '세종': '세종특별자치시',\n",
    "    '강원': '강원도',\n",
    "    '충북': '충청북도',\n",
    "    '충남': '충청남도',\n",
    "    '전북': '전라북도',\n",
    "    '전남': '전라남도',\n",
    "    '경북': '경상북도',\n",
    "    '경남': '경상남도',\n",
    "    '제주': '제주특별자치도'\n",
    "}\n",
    "\n",
    "# 'SIDO' 컬럼의 값을 매핑에 따라 변경\n",
    "long_df['SIDO'] = long_df['SIDO'].map(name_mapping)"
   ]
  },
  {
   "cell_type": "code",
   "execution_count": 10,
   "metadata": {},
   "outputs": [],
   "source": [
    "# 'STD_YYYYMM' 열의 숫자가 아닌 문자를 제거\n",
    "long_df['STD_YYYYMM'] = long_df['STD_YYYYMM'].str.replace('[^\\d]', '', regex=True)"
   ]
  },
  {
   "cell_type": "code",
   "execution_count": 11,
   "metadata": {},
   "outputs": [],
   "source": [
    "# 결과를 정수 타입으로 변환\n",
    "long_df['STD_YYYYMM'] = long_df['STD_YYYYMM'].astype(int)"
   ]
  },
  {
   "cell_type": "code",
   "execution_count": 12,
   "metadata": {},
   "outputs": [],
   "source": [
    "def increment_month_properly(date_int):\n",
    "    date_str = str(date_int)\n",
    "    # 년도만 있는 경우, 01월을 추가\n",
    "    if len(date_str) == 4:\n",
    "        return date_str + '01'\n",
    "    # 년도와 한 자리 월이 있는 경우 (예: 20141)\n",
    "    elif len(date_str) == 5:\n",
    "        year, month = int(date_str[:4]), int(date_str[4:])\n",
    "        new_month = month + 1 if month < 9 else 10  # 9월 이하면 1 증가, 그렇지 않으면 10월\n",
    "        return f\"{year}0{new_month}\"\n",
    "    # 년도와 두 자리 월이 있는 경우\n",
    "    elif len(date_str) == 6:\n",
    "        year, month = int(date_str[:4]), int(date_str[4:])\n",
    "        # 월을 1 증가시키기 (12월인 경우 다음 해로 넘어가지 않음)\n",
    "        new_month = month + 1 if month < 12 else month\n",
    "        return f\"{year}{new_month:02d}\"\n",
    "    else:\n",
    "        return date_str  # 형식에 맞지 않는 경우 그대로 반환\n",
    "\n",
    "long_df['STD_YYYYMM'] = long_df['STD_YYYYMM'].apply(increment_month_properly)\n"
   ]
  },
  {
   "cell_type": "code",
   "execution_count": 13,
   "metadata": {},
   "outputs": [
    {
     "data": {
      "text/plain": [
       "dtype('O')"
      ]
     },
     "execution_count": 13,
     "metadata": {},
     "output_type": "execute_result"
    }
   ],
   "source": [
    "long_df['심근경색'].dtype"
   ]
  },
  {
   "cell_type": "code",
   "execution_count": 14,
   "metadata": {},
   "outputs": [],
   "source": [
    "# '심근경색' 컬럼을 수치형(float)으로 변환\n",
    "long_df['심근경색'] = pd.to_numeric(long_df['심근경색'], errors='coerce')\n",
    "\n",
    "# 누락된 값이 있는 행 찾기\n",
    "missing_values_df = long_df[long_df['심근경색'].isna()]\n",
    "\n",
    "# 'STD_YYYYMM' 별 '심근경색' 평균값 계산 및 소수점 첫째 자리까지 반올림\n",
    "mean_values = long_df.groupby('STD_YYYYMM')['심근경색'].transform('mean').round(1)\n",
    "\n",
    "# 누락된 '심근경색' 값에 평균값 할당\n",
    "long_df['심근경색'] = long_df['심근경색'].fillna(mean_values)"
   ]
  },
  {
   "cell_type": "code",
   "execution_count": 15,
   "metadata": {},
   "outputs": [],
   "source": [
    "long_df.to_csv('data/test/심근경색.csv', index=False)"
   ]
  },
  {
   "cell_type": "code",
   "execution_count": null,
   "metadata": {},
   "outputs": [],
   "source": []
  }
 ],
 "metadata": {
  "kernelspec": {
   "display_name": "base",
   "language": "python",
   "name": "python3"
  },
  "language_info": {
   "codemirror_mode": {
    "name": "ipython",
    "version": 3
   },
   "file_extension": ".py",
   "mimetype": "text/x-python",
   "name": "python",
   "nbconvert_exporter": "python",
   "pygments_lexer": "ipython3",
   "version": "3.11.4"
  }
 },
 "nbformat": 4,
 "nbformat_minor": 2
}
