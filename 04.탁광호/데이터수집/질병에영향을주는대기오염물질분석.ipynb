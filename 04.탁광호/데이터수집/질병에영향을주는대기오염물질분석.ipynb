{
 "cells": [
  {
   "cell_type": "code",
   "execution_count": 1,
   "metadata": {},
   "outputs": [],
   "source": [
    "import pandas as pd"
   ]
  },
  {
   "cell_type": "code",
   "execution_count": 9,
   "metadata": {},
   "outputs": [],
   "source": [
    "result_df = pd.read_csv('data/merge/데이터취합.csv')"
   ]
  },
  {
   "cell_type": "code",
   "execution_count": 3,
   "metadata": {},
   "outputs": [],
   "source": [
    "import statsmodels.api as sm"
   ]
  },
  {
   "cell_type": "code",
   "execution_count": 10,
   "metadata": {},
   "outputs": [
    {
     "name": "stdout",
     "output_type": "stream",
     "text": [
      "                                 OLS Regression Results                                \n",
      "=======================================================================================\n",
      "Dep. Variable:                  천식환자수   R-squared (uncentered):                   0.630\n",
      "Model:                            OLS   Adj. R-squared (uncentered):              0.629\n",
      "Method:                 Least Squares   F-statistic:                              349.1\n",
      "Date:                Tue, 21 Nov 2023   Prob (F-statistic):                   2.84e-304\n",
      "Time:                        16:40:13   Log-Likelihood:                         -15677.\n",
      "No. Observations:                1440   AIC:                                  3.137e+04\n",
      "Df Residuals:                    1433   BIC:                                  3.141e+04\n",
      "Df Model:                           7                                                  \n",
      "Covariance Type:            nonrobust                                                  \n",
      "==============================================================================\n",
      "                 coef    std err          t      P>|t|      [0.025      0.975]\n",
      "------------------------------------------------------------------------------\n",
      "AVG_PM10      64.1679     54.546      1.176      0.240     -42.830     171.166\n",
      "AVG_PM2.5    -83.3593     94.820     -0.879      0.379    -269.360     102.641\n",
      "AVG_일산화    -3.595e+04   4012.556     -8.960      0.000   -4.38e+04   -2.81e+04\n",
      "AVG_오존      4.778e+04    2.9e+04      1.647      0.100   -9122.721    1.05e+05\n",
      "AVG_이산화     1.416e+06   8.39e+04     16.875      0.000    1.25e+06    1.58e+06\n",
      "AVG_아황산     6.031e+05   3.15e+05      1.918      0.055   -1.39e+04    1.22e+06\n",
      "AVG_납       1.072e+05   2.79e+04      3.847      0.000    5.25e+04    1.62e+05\n",
      "==============================================================================\n",
      "Omnibus:                      544.272   Durbin-Watson:                   0.173\n",
      "Prob(Omnibus):                  0.000   Jarque-Bera (JB):             2312.248\n",
      "Skew:                           1.780   Prob(JB):                         0.00\n",
      "Kurtosis:                       8.086   Cond. No.                     4.35e+04\n",
      "==============================================================================\n",
      "\n",
      "Notes:\n",
      "[1] R² is computed without centering (uncentered) since the model does not contain a constant.\n",
      "[2] Standard Errors assume that the covariance matrix of the errors is correctly specified.\n",
      "[3] The condition number is large, 4.35e+04. This might indicate that there are\n",
      "strong multicollinearity or other numerical problems.\n"
     ]
    }
   ],
   "source": [
    "# 각 열의 평균 계산\n",
    "avg_pm10 = result_df['AVG_PM10'].mean()\n",
    "avg_pm25 = result_df['AVG_PM2.5'].mean()\n",
    "avg_일산화 = result_df['AVG_일산화'].mean()\n",
    "avg_오존 = result_df['AVG_오존'].mean()\n",
    "avg_이산화 = result_df['AVG_이산화'].mean()\n",
    "avg_아황산 = result_df['AVG_아황산'].mean()\n",
    "avg_납 = result_df['AVG_납'].mean()\n",
    "\n",
    "# 결측치를 해당 열의 평균값으로 대체\n",
    "result_df['AVG_PM10'] = result_df['AVG_PM10'].fillna(avg_pm10)\n",
    "result_df['AVG_PM2.5'] = result_df['AVG_PM2.5'].fillna(avg_pm25)\n",
    "result_df['AVG_일산화'] = result_df['AVG_일산화'].fillna(avg_일산화)\n",
    "result_df['AVG_오존'] = result_df['AVG_오존'].fillna(avg_오존)\n",
    "result_df['AVG_이산화'] = result_df['AVG_이산화'].fillna(avg_이산화)\n",
    "result_df['AVG_아황산'] = result_df['AVG_아황산'].fillna(avg_아황산)\n",
    "result_df['AVG_납'] = result_df['AVG_납'].fillna(avg_납)\n",
    "\n",
    "# 모델 구축\n",
    "X = result_df[['AVG_PM10', 'AVG_PM2.5', 'AVG_일산화', 'AVG_오존', 'AVG_이산화', 'AVG_아황산', 'AVG_납']]\n",
    "y = result_df['천식환자수']\n",
    "\n",
    "# OLS 모델 생성 및 적합\n",
    "model = sm.OLS(y, X).fit()\n",
    "\n",
    "# 결과 요약 출력\n",
    "print(model.summary())\n"
   ]
  },
  {
   "cell_type": "code",
   "execution_count": 14,
   "metadata": {},
   "outputs": [
    {
     "data": {
      "image/png": "[encoded data removed]",
      "text/plain": [
       "<Figure size 640x480 with 1 Axes>"
      ]
     },
     "metadata": {},
     "output_type": "display_data"
    }
   ],
   "source": [
    "import matplotlib.pyplot as plt\n",
    "import numpy as np\n",
    "\n",
    "# 한글 폰트 설정\n",
    "plt.rcParams['font.family'] = 'Malgun Gothic'\n",
    "plt.rcParams['axes.unicode_minus'] = False\n",
    "\n",
    "# 회귀 계수 및 신뢰 구간 추출\n",
    "coefficients = model.params\n",
    "conf = model.conf_int()\n",
    "errors = conf[1] - coefficients\n",
    "\n",
    "# 막대 그래프 생성\n",
    "variables = ['평균 PM10', '평균 PM2.5', '평균 일산화', '평균 오존', '평균 이산화', '평균 아황산', '평균 납']\n",
    "x_pos = np.arange(len(variables))\n",
    "\n",
    "# 막대 그래프 시각화\n",
    "plt.bar(x_pos, coefficients, yerr=errors, align='center', alpha=0.7, capsize=10)\n",
    "plt.xticks(x_pos, variables, rotation=45)\n",
    "plt.ylabel('계수')\n",
    "plt.title('천식에 영향을 주는 대기오염물질')\n",
    "\n",
    "# 그래프 표시\n",
    "plt.show()"
   ]
  },
  {
   "cell_type": "markdown",
   "metadata": {},
   "source": [
    "이 회귀 분석 결과는 대기 오염 물질이 천식 환자 수에 미치는 영향을 평가한 것입니다. 모델은 천식 환자 수 변동의 약 63%를 설명합니다(R-squared = 0.630). 이산화질소의 영향력이 가장 크며(p-value < 0.000), 통계적으로 유의미한 긍정적 영향을 미치는 것으로 나타났습니다. 납도 유의미한 영향을 미칩니다(p-value < 0.000). 반면, PM10과 PM2.5는 유의미한 영향을 주지 않습니다(p-value > 0.05).\n",
    "\n",
    "일산화질소는 음의 계수를 가지며, 이는 높은 일산화질소 수치가 천식 환자 수 감소와 관련이 있음을 시사하지만, 이는 일반적인 예상과 다르므로 추가적인 조사가 필요합니다.\n",
    "\n",
    "모델의 조건 수(Cond. No.)가 매우 높아, 다중공선성이나 다른 수치적 문제가 있을 수 있음을 나타냅니다. 이는 독립 변수들 간의 과도한 상관관계가 있을 수 있음을 의미하므로, 변수 선택이나 차원 축소 기법을 고려할 필요가 있습니다.\n",
    "\n",
    "이 결과를 바탕으로, 대기 오염 물질 중 특히 이산화질소와 납이 천식 환자 수에 중요한 영향을 미치는 것으로 볼 수 있으며, 이는 공중 보건 정책 수립에 있어 중요한 지표가 될 수 있습니다."
   ]
  },
  {
   "cell_type": "code",
   "execution_count": 18,
   "metadata": {},
   "outputs": [
    {
     "name": "stdout",
     "output_type": "stream",
     "text": [
      "                                 OLS Regression Results                                \n",
      "=======================================================================================\n",
      "Dep. Variable:                  비염환자수   R-squared (uncentered):                   0.591\n",
      "Model:                            OLS   Adj. R-squared (uncentered):              0.589\n",
      "Method:                 Least Squares   F-statistic:                              295.4\n",
      "Date:                Tue, 21 Nov 2023   Prob (F-statistic):                   1.32e-272\n",
      "Time:                        17:29:00   Log-Likelihood:                         -18872.\n",
      "No. Observations:                1440   AIC:                                  3.776e+04\n",
      "Df Residuals:                    1433   BIC:                                  3.779e+04\n",
      "Df Model:                           7                                                  \n",
      "Covariance Type:            nonrobust                                                  \n",
      "==============================================================================\n",
      "                 coef    std err          t      P>|t|      [0.025      0.975]\n",
      "------------------------------------------------------------------------------\n",
      "AVG_PM10    -104.4839    501.416     -0.208      0.835   -1088.071     879.103\n",
      "AVG_PM2.5  -1607.1355    871.637     -1.844      0.065   -3316.957     102.686\n",
      "AVG_일산화    -2.826e+05   3.69e+04     -7.662      0.000   -3.55e+05    -2.1e+05\n",
      "AVG_오존      1.055e+06   2.67e+05      3.957      0.000    5.32e+05    1.58e+06\n",
      "AVG_이산화     1.448e+07   7.71e+05     18.784      0.000     1.3e+07     1.6e+07\n",
      "AVG_아황산    -3.964e+06   2.89e+06     -1.371      0.171   -9.64e+06    1.71e+06\n",
      "AVG_납        1.07e+06   2.56e+05      4.180      0.000    5.68e+05    1.57e+06\n",
      "==============================================================================\n",
      "Omnibus:                      644.899   Durbin-Watson:                   0.244\n",
      "Prob(Omnibus):                  0.000   Jarque-Bera (JB):             3498.134\n",
      "Skew:                           2.059   Prob(JB):                         0.00\n",
      "Kurtosis:                       9.431   Cond. No.                     4.35e+04\n",
      "==============================================================================\n",
      "\n",
      "Notes:\n",
      "[1] R² is computed without centering (uncentered) since the model does not contain a constant.\n",
      "[2] Standard Errors assume that the covariance matrix of the errors is correctly specified.\n",
      "[3] The condition number is large, 4.35e+04. This might indicate that there are\n",
      "strong multicollinearity or other numerical problems.\n"
     ]
    }
   ],
   "source": [
    "\n",
    "# 각 열의 평균 계산\n",
    "avg_pm10 = result_df['AVG_PM10'].mean()\n",
    "avg_pm25 = result_df['AVG_PM2.5'].mean()\n",
    "avg_일산화 = result_df['AVG_일산화'].mean()\n",
    "avg_오존 = result_df['AVG_오존'].mean()\n",
    "avg_이산화 = result_df['AVG_이산화'].mean()\n",
    "avg_아황산 = result_df['AVG_아황산'].mean()\n",
    "avg_납 = result_df['AVG_납'].mean()\n",
    "\n",
    "# 결측치를 해당 열의 평균값으로 대체\n",
    "result_df['AVG_PM10'] = result_df['AVG_PM10'].fillna(avg_pm10)\n",
    "result_df['AVG_PM2.5'] = result_df['AVG_PM2.5'].fillna(avg_pm25)\n",
    "result_df['AVG_일산화'] = result_df['AVG_일산화'].fillna(avg_일산화)\n",
    "result_df['AVG_오존'] = result_df['AVG_오존'].fillna(avg_오존)\n",
    "result_df['AVG_이산화'] = result_df['AVG_이산화'].fillna(avg_이산화)\n",
    "result_df['AVG_아황산'] = result_df['AVG_아황산'].fillna(avg_아황산)\n",
    "result_df['AVG_납'] = result_df['AVG_납'].fillna(avg_납)\n",
    "\n",
    "# 모델 구축\n",
    "X = result_df[['AVG_PM10', 'AVG_PM2.5', 'AVG_일산화', 'AVG_오존', 'AVG_이산화', 'AVG_아황산', 'AVG_납']]\n",
    "y = result_df['비염환자수']\n",
    "\n",
    "# OLS 모델 생성 및 적합\n",
    "model2 = sm.OLS(y, X).fit()\n",
    "\n",
    "# 결과 요약 출력\n",
    "print(model2.summary())"
   ]
  },
  {
   "cell_type": "markdown",
   "metadata": {},
   "source": [
    "\n",
    "이 회귀 분석 결과는 대기 오염 물질과 비염 환자 수 간의 관계를 평가합니다. 모델은 비염 환자 수 변동의 약 59.1%를 설명하며(R-squared = 0.591), 특히 이산화질소가 가장 강력한 긍정적 영향을 미치는 것으로 나타났습니다. 오존과 납 역시 비염 환자 수에 유의미한 긍정적 영향을 미치며, 일산화질소는 음의 영향을 나타냅니다. 다만, 높은 조건 수는 다중공선성이나 수치적 문제가 있을 수 있음을 암시하므로 주의가 필요합니다. 이 결과는 대기 오염이 비염 발생에 미치는 영향을 이해하는 데 중요한 정보를 제공합니다."
   ]
  },
  {
   "cell_type": "code",
   "execution_count": 21,
   "metadata": {},
   "outputs": [
    {
     "data": {
      "image/png": "[encoded data removed]",
      "text/plain": [
       "<Figure size 600x400 with 2 Axes>"
      ]
     },
     "metadata": {},
     "output_type": "display_data"
    }
   ],
   "source": [
    "import seaborn as sns\n",
    "# 상관 계수 행렬 계산\n",
    "corr_matrix = X.corr()\n",
    "\n",
    "# Heatmap 그리기\n",
    "plt.figure(figsize=(6, 4))\n",
    "sns.heatmap(corr_matrix, annot=True, fmt=\".2f\", cmap='coolwarm')\n",
    "\n",
    "# 레이블 및 타이틀 설정\n",
    "plt.title('변수 간 상관 관계')\n",
    "plt.xticks(rotation=45)\n",
    "plt.yticks(rotation=45)\n",
    "\n",
    "# 그래프 표시\n",
    "plt.show()"
   ]
  },
  {
   "cell_type": "code",
   "execution_count": 22,
   "metadata": {},
   "outputs": [
    {
     "name": "stderr",
     "output_type": "stream",
     "text": [
      "c:\\Users\\human\\anaconda3\\Lib\\site-packages\\seaborn\\_oldcore.py:1498: FutureWarning: is_categorical_dtype is deprecated and will be removed in a future version. Use isinstance(dtype, CategoricalDtype) instead\n",
      "  if pd.api.types.is_categorical_dtype(vector):\n",
      "c:\\Users\\human\\anaconda3\\Lib\\site-packages\\seaborn\\_oldcore.py:1498: FutureWarning: is_categorical_dtype is deprecated and will be removed in a future version. Use isinstance(dtype, CategoricalDtype) instead\n",
      "  if pd.api.types.is_categorical_dtype(vector):\n",
      "c:\\Users\\human\\anaconda3\\Lib\\site-packages\\seaborn\\_oldcore.py:1498: FutureWarning: is_categorical_dtype is deprecated and will be removed in a future version. Use isinstance(dtype, CategoricalDtype) instead\n",
      "  if pd.api.types.is_categorical_dtype(vector):\n"
     ]
    },
    {
     "data": {
      "image/png": "[encoded data removed]",
      "text/plain": [
       "<Figure size 1000x600 with 1 Axes>"
      ]
     },
     "metadata": {},
     "output_type": "display_data"
    }
   ],
   "source": [
    "# 회귀 계수를 데이터프레임으로 변환\n",
    "coeff_df = pd.DataFrame({'Variable': X.columns, 'Coefficient': model2.params})\n",
    "\n",
    "# Seaborn을 사용한 막대 그래프\n",
    "plt.figure(figsize=(10, 6))\n",
    "sns.barplot(x='Coefficient', y='Variable', data=coeff_df)\n",
    "\n",
    "# 레이블 및 타이틀 설정\n",
    "plt.title('비염에 영향을 주는 대기 오염 물질의 회귀 계수')\n",
    "plt.xlabel('계수')\n",
    "plt.ylabel('변수')\n",
    "\n",
    "# 그래프 표시\n",
    "plt.show()"
   ]
  },
  {
   "cell_type": "code",
   "execution_count": 24,
   "metadata": {},
   "outputs": [
    {
     "name": "stderr",
     "output_type": "stream",
     "text": [
      "C:\\Users\\human\\AppData\\Local\\Temp\\ipykernel_11992\\3497114870.py:14: FutureWarning:\n",
      "\n",
      "Series.__getitem__ treating keys as positions is deprecated. In a future version, integer keys will always be treated as labels (consistent with DataFrame behavior). To access a value by position, use `ser.iloc[pos]`\n",
      "\n",
      "C:\\Users\\human\\AppData\\Local\\Temp\\ipykernel_11992\\3497114870.py:21: FutureWarning:\n",
      "\n",
      "Series.__getitem__ treating keys as positions is deprecated. In a future version, integer keys will always be treated as labels (consistent with DataFrame behavior). To access a value by position, use `ser.iloc[pos]`\n",
      "\n",
      "C:\\Users\\human\\AppData\\Local\\Temp\\ipykernel_11992\\3497114870.py:25: FutureWarning:\n",
      "\n",
      "Series.__getitem__ treating keys as positions is deprecated. In a future version, integer keys will always be treated as labels (consistent with DataFrame behavior). To access a value by position, use `ser.iloc[pos]`\n",
      "\n"
     ]
    },
    {
     "data": {
      "application/vnd.plotly.v1+json": {
       "config": {
        "plotlyServerURL": "https://plot.ly"
       },
       "data": [
        {
         "line": {
          "color": "black"
         },
         "mode": "lines",
         "showlegend": false,
         "type": "scatter",
         "x": [
          -1088.0711743962454,
          879.1034320294384
         ],
         "y": [
          "AVG_PM10",
          "AVG_PM10"
         ]
        },
        {
         "marker": {
          "color": "red",
          "size": 10
         },
         "mode": "markers",
         "name": "계수: -104.48",
         "type": "scatter",
         "x": [
          -104.48387118340355
         ],
         "y": [
          "AVG_PM10"
         ]
        },
        {
         "line": {
          "color": "black"
         },
         "mode": "lines",
         "showlegend": false,
         "type": "scatter",
         "x": [
          -3316.9570464958497,
          102.68598560413216
         ],
         "y": [
          "AVG_PM2.5",
          "AVG_PM2.5"
         ]
        },
        {
         "marker": {
          "color": "red",
          "size": 10
         },
         "mode": "markers",
         "name": "계수: -1607.14",
         "type": "scatter",
         "x": [
          -1607.1355304458589
         ],
         "y": [
          "AVG_PM2.5"
         ]
        },
        {
         "line": {
          "color": "black"
         },
         "mode": "lines",
         "showlegend": false,
         "type": "scatter",
         "x": [
          -354983.3114613347,
          -210271.63490421756
         ],
         "y": [
          "AVG_일산화",
          "AVG_일산화"
         ]
        },
        {
         "marker": {
          "color": "red",
          "size": 10
         },
         "mode": "markers",
         "name": "계수: -282627.47",
         "type": "scatter",
         "x": [
          -282627.4731827761
         ],
         "y": [
          "AVG_일산화"
         ]
        },
        {
         "line": {
          "color": "black"
         },
         "mode": "lines",
         "showlegend": false,
         "type": "scatter",
         "x": [
          532173.2904411935,
          1578422.0454409528
         ],
         "y": [
          "AVG_오존",
          "AVG_오존"
         ]
        },
        {
         "marker": {
          "color": "red",
          "size": 10
         },
         "mode": "markers",
         "name": "계수: 1055297.67",
         "type": "scatter",
         "x": [
          1055297.6679410732
         ],
         "y": [
          "AVG_오존"
         ]
        },
        {
         "line": {
          "color": "black"
         },
         "mode": "lines",
         "showlegend": false,
         "type": "scatter",
         "x": [
          12971962.961976448,
          15997137.702884255
         ],
         "y": [
          "AVG_이산화",
          "AVG_이산화"
         ]
        },
        {
         "marker": {
          "color": "red",
          "size": 10
         },
         "mode": "markers",
         "name": "계수: 14484550.33",
         "type": "scatter",
         "x": [
          14484550.332430352
         ],
         "y": [
          "AVG_이산화"
         ]
        },
        {
         "line": {
          "color": "black"
         },
         "mode": "lines",
         "showlegend": false,
         "type": "scatter",
         "x": [
          -9635667.829253115,
          1707416.5342246918
         ],
         "y": [
          "AVG_아황산",
          "AVG_아황산"
         ]
        },
        {
         "marker": {
          "color": "red",
          "size": 10
         },
         "mode": "markers",
         "name": "계수: -3964125.65",
         "type": "scatter",
         "x": [
          -3964125.647514212
         ],
         "y": [
          "AVG_아황산"
         ]
        },
        {
         "line": {
          "color": "black"
         },
         "mode": "lines",
         "showlegend": false,
         "type": "scatter",
         "x": [
          568071.3686701912,
          1572751.859924221
         ],
         "y": [
          "AVG_납",
          "AVG_납"
         ]
        },
        {
         "marker": {
          "color": "red",
          "size": 10
         },
         "mode": "markers",
         "name": "계수: 1070411.61",
         "type": "scatter",
         "x": [
          1070411.614297206
         ],
         "y": [
          "AVG_납"
         ]
        }
       ],
       "layout": {
        "template": {
         "data": {
          "bar": [
           {
            "error_x": {
             "color": "#2a3f5f"
            },
            "error_y": {
             "color": "#2a3f5f"
            },
            "marker": {
             "line": {
              "color": "#E5ECF6",
              "width": 0.5
             },
             "pattern": {
              "fillmode": "overlay",
              "size": 10,
              "solidity": 0.2
             }
            },
            "type": "bar"
           }
          ],
          "barpolar": [
           {
            "marker": {
             "line": {
              "color": "#E5ECF6",
              "width": 0.5
             },
             "pattern": {
              "fillmode": "overlay",
              "size": 10,
              "solidity": 0.2
             }
            },
            "type": "barpolar"
           }
          ],
          "carpet": [
           {
            "aaxis": {
             "endlinecolor": "#2a3f5f",
             "gridcolor": "white",
             "linecolor": "white",
             "minorgridcolor": "white",
             "startlinecolor": "#2a3f5f"
            },
            "baxis": {
             "endlinecolor": "#2a3f5f",
             "gridcolor": "white",
             "linecolor": "white",
             "minorgridcolor": "white",
             "startlinecolor": "#2a3f5f"
            },
            "type": "carpet"
           }
          ],
          "choropleth": [
           {
            "colorbar": {
             "outlinewidth": 0,
             "ticks": ""
            },
            "type": "choropleth"
           }
          ],
          "contour": [
           {
            "colorbar": {
             "outlinewidth": 0,
             "ticks": ""
            },
            "colorscale": [
             [
              0,
              "#0d0887"
             ],
             [
              0.1111111111111111,
              "#46039f"
             ],
             [
              0.2222222222222222,
              "#7201a8"
             ],
             [
              0.3333333333333333,
              "#9c179e"
             ],
             [
              0.4444444444444444,
              "#bd3786"
             ],
             [
              0.5555555555555556,
              "#d8576b"
             ],
             [
              0.6666666666666666,
              "#ed7953"
             ],
             [
              0.7777777777777778,
              "#fb9f3a"
             ],
             [
              0.8888888888888888,
              "#fdca26"
             ],
             [
              1,
              "#f0f921"
             ]
            ],
            "type": "contour"
           }
          ],
          "contourcarpet": [
           {
            "colorbar": {
             "outlinewidth": 0,
             "ticks": ""
            },
            "type": "contourcarpet"
           }
          ],
          "heatmap": [
           {
            "colorbar": {
             "outlinewidth": 0,
             "ticks": ""
            },
            "colorscale": [
             [
              0,
              "#0d0887"
             ],
             [
              0.1111111111111111,
              "#46039f"
             ],
             [
              0.2222222222222222,
              "#7201a8"
             ],
             [
              0.3333333333333333,
              "#9c179e"
             ],
             [
              0.4444444444444444,
              "#bd3786"
             ],
             [
              0.5555555555555556,
              "#d8576b"
             ],
             [
              0.6666666666666666,
              "#ed7953"
             ],
             [
              0.7777777777777778,
              "#fb9f3a"
             ],
             [
              0.8888888888888888,
              "#fdca26"
             ],
             [
              1,
              "#f0f921"
             ]
            ],
            "type": "heatmap"
           }
          ],
          "heatmapgl": [
           {
            "colorbar": {
             "outlinewidth": 0,
             "ticks": ""
            },
            "colorscale": [
             [
              0,
              "#0d0887"
             ],
             [
              0.1111111111111111,
              "#46039f"
             ],
             [
              0.2222222222222222,
              "#7201a8"
             ],
             [
              0.3333333333333333,
              "#9c179e"
             ],
             [
              0.4444444444444444,
              "#bd3786"
             ],
             [
              0.5555555555555556,
              "#d8576b"
             ],
             [
              0.6666666666666666,
              "#ed7953"
             ],
             [
              0.7777777777777778,
              "#fb9f3a"
             ],
             [
              0.8888888888888888,
              "#fdca26"
             ],
             [
              1,
              "#f0f921"
             ]
            ],
            "type": "heatmapgl"
           }
          ],
          "histogram": [
           {
            "marker": {
             "pattern": {
              "fillmode": "overlay",
              "size": 10,
              "solidity": 0.2
             }
            },
            "type": "histogram"
           }
          ],
          "histogram2d": [
           {
            "colorbar": {
             "outlinewidth": 0,
             "ticks": ""
            },
            "colorscale": [
             [
              0,
              "#0d0887"
             ],
             [
              0.1111111111111111,
              "#46039f"
             ],
             [
              0.2222222222222222,
              "#7201a8"
             ],
             [
              0.3333333333333333,
              "#9c179e"
             ],
             [
              0.4444444444444444,
              "#bd3786"
             ],
             [
              0.5555555555555556,
              "#d8576b"
             ],
             [
              0.6666666666666666,
              "#ed7953"
             ],
             [
              0.7777777777777778,
              "#fb9f3a"
             ],
             [
              0.8888888888888888,
              "#fdca26"
             ],
             [
              1,
              "#f0f921"
             ]
            ],
            "type": "histogram2d"
           }
          ],
          "histogram2dcontour": [
           {
            "colorbar": {
             "outlinewidth": 0,
             "ticks": ""
            },
            "colorscale": [
             [
              0,
              "#0d0887"
             ],
             [
              0.1111111111111111,
              "#46039f"
             ],
             [
              0.2222222222222222,
              "#7201a8"
             ],
             [
              0.3333333333333333,
              "#9c179e"
             ],
             [
              0.4444444444444444,
              "#bd3786"
             ],
             [
              0.5555555555555556,
              "#d8576b"
             ],
             [
              0.6666666666666666,
              "#ed7953"
             ],
             [
              0.7777777777777778,
              "#fb9f3a"
             ],
             [
              0.8888888888888888,
              "#fdca26"
             ],
             [
              1,
              "#f0f921"
             ]
            ],
            "type": "histogram2dcontour"
           }
          ],
          "mesh3d": [
           {
            "colorbar": {
             "outlinewidth": 0,
             "ticks": ""
            },
            "type": "mesh3d"
           }
          ],
          "parcoords": [
           {
            "line": {
             "colorbar": {
              "outlinewidth": 0,
              "ticks": ""
             }
            },
            "type": "parcoords"
           }
          ],
          "pie": [
           {
            "automargin": true,
            "type": "pie"
           }
          ],
          "scatter": [
           {
            "fillpattern": {
             "fillmode": "overlay",
             "size": 10,
             "solidity": 0.2
            },
            "type": "scatter"
           }
          ],
          "scatter3d": [
           {
            "line": {
             "colorbar": {
              "outlinewidth": 0,
              "ticks": ""
             }
            },
            "marker": {
             "colorbar": {
              "outlinewidth": 0,
              "ticks": ""
             }
            },
            "type": "scatter3d"
           }
          ],
          "scattercarpet": [
           {
            "marker": {
             "colorbar": {
              "outlinewidth": 0,
              "ticks": ""
             }
            },
            "type": "scattercarpet"
           }
          ],
          "scattergeo": [
           {
            "marker": {
             "colorbar": {
              "outlinewidth": 0,
              "ticks": ""
             }
            },
            "type": "scattergeo"
           }
          ],
          "scattergl": [
           {
            "marker": {
             "colorbar": {
              "outlinewidth": 0,
              "ticks": ""
             }
            },
            "type": "scattergl"
           }
          ],
          "scattermapbox": [
           {
            "marker": {
             "colorbar": {
              "outlinewidth": 0,
              "ticks": ""
             }
            },
            "type": "scattermapbox"
           }
          ],
          "scatterpolar": [
           {
            "marker": {
             "colorbar": {
              "outlinewidth": 0,
              "ticks": ""
             }
            },
            "type": "scatterpolar"
           }
          ],
          "scatterpolargl": [
           {
            "marker": {
             "colorbar": {
              "outlinewidth": 0,
              "ticks": ""
             }
            },
            "type": "scatterpolargl"
           }
          ],
          "scatterternary": [
           {
            "marker": {
             "colorbar": {
              "outlinewidth": 0,
              "ticks": ""
             }
            },
            "type": "scatterternary"
           }
          ],
          "surface": [
           {
            "colorbar": {
             "outlinewidth": 0,
             "ticks": ""
            },
            "colorscale": [
             [
              0,
              "#0d0887"
             ],
             [
              0.1111111111111111,
              "#46039f"
             ],
             [
              0.2222222222222222,
              "#7201a8"
             ],
             [
              0.3333333333333333,
              "#9c179e"
             ],
             [
              0.4444444444444444,
              "#bd3786"
             ],
             [
              0.5555555555555556,
              "#d8576b"
             ],
             [
              0.6666666666666666,
              "#ed7953"
             ],
             [
              0.7777777777777778,
              "#fb9f3a"
             ],
             [
              0.8888888888888888,
              "#fdca26"
             ],
             [
              1,
              "#f0f921"
             ]
            ],
            "type": "surface"
           }
          ],
          "table": [
           {
            "cells": {
             "fill": {
              "color": "#EBF0F8"
             },
             "line": {
              "color": "white"
             }
            },
            "header": {
             "fill": {
              "color": "#C8D4E3"
             },
             "line": {
              "color": "white"
             }
            },
            "type": "table"
           }
          ]
         },
         "layout": {
          "annotationdefaults": {
           "arrowcolor": "#2a3f5f",
           "arrowhead": 0,
           "arrowwidth": 1
          },
          "autotypenumbers": "strict",
          "coloraxis": {
           "colorbar": {
            "outlinewidth": 0,
            "ticks": ""
           }
          },
          "colorscale": {
           "diverging": [
            [
             0,
             "#8e0152"
            ],
            [
             0.1,
             "#c51b7d"
            ],
            [
             0.2,
             "#de77ae"
            ],
            [
             0.3,
             "#f1b6da"
            ],
            [
             0.4,
             "#fde0ef"
            ],
            [
             0.5,
             "#f7f7f7"
            ],
            [
             0.6,
             "#e6f5d0"
            ],
            [
             0.7,
             "#b8e186"
            ],
            [
             0.8,
             "#7fbc41"
            ],
            [
             0.9,
             "#4d9221"
            ],
            [
             1,
             "#276419"
            ]
           ],
           "sequential": [
            [
             0,
             "#0d0887"
            ],
            [
             0.1111111111111111,
             "#46039f"
            ],
            [
             0.2222222222222222,
             "#7201a8"
            ],
            [
             0.3333333333333333,
             "#9c179e"
            ],
            [
             0.4444444444444444,
             "#bd3786"
            ],
            [
             0.5555555555555556,
             "#d8576b"
            ],
            [
             0.6666666666666666,
             "#ed7953"
            ],
            [
             0.7777777777777778,
             "#fb9f3a"
            ],
            [
             0.8888888888888888,
             "#fdca26"
            ],
            [
             1,
             "#f0f921"
            ]
           ],
           "sequentialminus": [
            [
             0,
             "#0d0887"
            ],
            [
             0.1111111111111111,
             "#46039f"
            ],
            [
             0.2222222222222222,
             "#7201a8"
            ],
            [
             0.3333333333333333,
             "#9c179e"
            ],
            [
             0.4444444444444444,
             "#bd3786"
            ],
            [
             0.5555555555555556,
             "#d8576b"
            ],
            [
             0.6666666666666666,
             "#ed7953"
            ],
            [
             0.7777777777777778,
             "#fb9f3a"
            ],
            [
             0.8888888888888888,
             "#fdca26"
            ],
            [
             1,
             "#f0f921"
            ]
           ]
          },
          "colorway": [
           "#636efa",
           "#EF553B",
           "#00cc96",
           "#ab63fa",
           "#FFA15A",
           "#19d3f3",
           "#FF6692",
           "#B6E880",
           "#FF97FF",
           "#FECB52"
          ],
          "font": {
           "color": "#2a3f5f"
          },
          "geo": {
           "bgcolor": "white",
           "lakecolor": "white",
           "landcolor": "#E5ECF6",
           "showlakes": true,
           "showland": true,
           "subunitcolor": "white"
          },
          "hoverlabel": {
           "align": "left"
          },
          "hovermode": "closest",
          "mapbox": {
           "style": "light"
          },
          "paper_bgcolor": "white",
          "plot_bgcolor": "#E5ECF6",
          "polar": {
           "angularaxis": {
            "gridcolor": "white",
            "linecolor": "white",
            "ticks": ""
           },
           "bgcolor": "#E5ECF6",
           "radialaxis": {
            "gridcolor": "white",
            "linecolor": "white",
            "ticks": ""
           }
          },
          "scene": {
           "xaxis": {
            "backgroundcolor": "#E5ECF6",
            "gridcolor": "white",
            "gridwidth": 2,
            "linecolor": "white",
            "showbackground": true,
            "ticks": "",
            "zerolinecolor": "white"
           },
           "yaxis": {
            "backgroundcolor": "#E5ECF6",
            "gridcolor": "white",
            "gridwidth": 2,
            "linecolor": "white",
            "showbackground": true,
            "ticks": "",
            "zerolinecolor": "white"
           },
           "zaxis": {
            "backgroundcolor": "#E5ECF6",
            "gridcolor": "white",
            "gridwidth": 2,
            "linecolor": "white",
            "showbackground": true,
            "ticks": "",
            "zerolinecolor": "white"
           }
          },
          "shapedefaults": {
           "line": {
            "color": "#2a3f5f"
           }
          },
          "ternary": {
           "aaxis": {
            "gridcolor": "white",
            "linecolor": "white",
            "ticks": ""
           },
           "baxis": {
            "gridcolor": "white",
            "linecolor": "white",
            "ticks": ""
           },
           "bgcolor": "#E5ECF6",
           "caxis": {
            "gridcolor": "white",
            "linecolor": "white",
            "ticks": ""
           }
          },
          "title": {
           "x": 0.05
          },
          "xaxis": {
           "automargin": true,
           "gridcolor": "white",
           "linecolor": "white",
           "ticks": "",
           "title": {
            "standoff": 15
           },
           "zerolinecolor": "white",
           "zerolinewidth": 2
          },
          "yaxis": {
           "automargin": true,
           "gridcolor": "white",
           "linecolor": "white",
           "ticks": "",
           "title": {
            "standoff": 15
           },
           "zerolinecolor": "white",
           "zerolinewidth": 2
          }
         }
        },
        "title": {
         "text": "비염에 영향을 주는 대기 오염 물질의 회귀 계수 및 신뢰 구간"
        },
        "xaxis": {
         "title": {
          "text": "계수"
         }
        },
        "yaxis": {
         "title": {
          "text": "변수"
         }
        }
       }
      }
     },
     "metadata": {},
     "output_type": "display_data"
    }
   ],
   "source": [
    "import plotly.graph_objects as go\n",
    "\n",
    "# 계수와 신뢰 구간 데이터 준비\n",
    "coefficients = model2.params\n",
    "conf_int = model2.conf_int()\n",
    "variables = X.columns\n",
    "\n",
    "# 인터랙티브 그래프 생성\n",
    "fig = go.Figure()\n",
    "\n",
    "# 각 변수에 대해 계수와 신뢰 구간 추가\n",
    "for i, var in enumerate(variables):\n",
    "    fig.add_trace(go.Scatter(\n",
    "        x=[conf_int[0][i], conf_int[1][i]],\n",
    "        y=[var, var],\n",
    "        mode=\"lines\",\n",
    "        line=dict(color=\"black\"),\n",
    "        showlegend=False\n",
    "    ))\n",
    "    fig.add_trace(go.Scatter(\n",
    "        x=[coefficients[i]],\n",
    "        y=[var],\n",
    "        mode=\"markers\",\n",
    "        marker=dict(color=\"red\", size=10),\n",
    "        name=f\"계수: {coefficients[i]:.2f}\"\n",
    "    ))\n",
    "\n",
    "# 레이아웃 설정\n",
    "fig.update_layout(\n",
    "    title=\"비염에 영향을 주는 대기 오염 물질의 회귀 계수 및 신뢰 구간\",\n",
    "    xaxis_title=\"계수\",\n",
    "    yaxis_title=\"변수\"\n",
    ")\n",
    "\n",
    "# 그래프 표시\n",
    "fig.show()"
   ]
  },
  {
   "cell_type": "code",
   "execution_count": 15,
   "metadata": {},
   "outputs": [
    {
     "data": {
      "image/png": "[encoded data removed]",
      "text/plain": [
       "<Figure size 640x480 with 1 Axes>"
      ]
     },
     "metadata": {},
     "output_type": "display_data"
    }
   ],
   "source": [
    "import matplotlib.pyplot as plt\n",
    "import numpy as np\n",
    "\n",
    "# 한글 폰트 설정\n",
    "plt.rcParams['font.family'] = 'Malgun Gothic'\n",
    "plt.rcParams['axes.unicode_minus'] = False\n",
    "\n",
    "# 회귀 계수 및 신뢰 구간 추출\n",
    "coefficients = model2.params\n",
    "conf = model2.conf_int()\n",
    "errors = conf[1] - coefficients\n",
    "\n",
    "# 막대 그래프 생성\n",
    "variables = ['평균 PM10', '평균 PM2.5', '평균 일산화', '평균 오존', '평균 이산화', '평균 아황산', '평균 납']\n",
    "x_pos = np.arange(len(variables))\n",
    "\n",
    "# 막대 그래프 시각화\n",
    "plt.bar(x_pos, coefficients, yerr=errors, align='center', alpha=0.7, capsize=10)\n",
    "plt.xticks(x_pos, variables, rotation=45)\n",
    "plt.ylabel('계수')\n",
    "plt.title('비염에 영향을 주는 대기오염물질')\n",
    "\n",
    "# 그래프 표시\n",
    "plt.show()"
   ]
  },
  {
   "cell_type": "code",
   "execution_count": 25,
   "metadata": {},
   "outputs": [
    {
     "name": "stdout",
     "output_type": "stream",
     "text": [
      "                                 OLS Regression Results                                \n",
      "=======================================================================================\n",
      "Dep. Variable:                 아토피환자수   R-squared (uncentered):                   0.547\n",
      "Model:                            OLS   Adj. R-squared (uncentered):              0.545\n",
      "Method:                 Least Squares   F-statistic:                              247.2\n",
      "Date:                Tue, 21 Nov 2023   Prob (F-statistic):                   3.58e-241\n",
      "Time:                        17:40:33   Log-Likelihood:                         -15283.\n",
      "No. Observations:                1440   AIC:                                  3.058e+04\n",
      "Df Residuals:                    1433   BIC:                                  3.062e+04\n",
      "Df Model:                           7                                                  \n",
      "Covariance Type:            nonrobust                                                  \n",
      "==============================================================================\n",
      "                 coef    std err          t      P>|t|      [0.025      0.975]\n",
      "------------------------------------------------------------------------------\n",
      "AVG_PM10     -92.8433     41.468     -2.239      0.025    -174.188     -11.499\n",
      "AVG_PM2.5   -171.5633     72.086     -2.380      0.017    -312.968     -30.158\n",
      "AVG_일산화    -2.344e+04   3050.508     -7.685      0.000   -2.94e+04   -1.75e+04\n",
      "AVG_오존      2.443e+05   2.21e+04     11.078      0.000    2.01e+05    2.88e+05\n",
      "AVG_이산화      1.21e+06   6.38e+04     18.978      0.000    1.09e+06    1.34e+06\n",
      "AVG_아황산    -7.421e+05   2.39e+05     -3.104      0.002   -1.21e+06   -2.73e+05\n",
      "AVG_납       9.666e+04   2.12e+04      4.564      0.000    5.51e+04    1.38e+05\n",
      "==============================================================================\n",
      "Omnibus:                      559.294   Durbin-Watson:                   0.132\n",
      "Prob(Omnibus):                  0.000   Jarque-Bera (JB):             2028.910\n",
      "Skew:                           1.915   Prob(JB):                         0.00\n",
      "Kurtosis:                       7.376   Cond. No.                     4.35e+04\n",
      "==============================================================================\n",
      "\n",
      "Notes:\n",
      "[1] R² is computed without centering (uncentered) since the model does not contain a constant.\n",
      "[2] Standard Errors assume that the covariance matrix of the errors is correctly specified.\n",
      "[3] The condition number is large, 4.35e+04. This might indicate that there are\n",
      "strong multicollinearity or other numerical problems.\n"
     ]
    }
   ],
   "source": [
    "\n",
    "# 각 열의 평균 계산\n",
    "avg_pm10 = result_df['AVG_PM10'].mean()\n",
    "avg_pm25 = result_df['AVG_PM2.5'].mean()\n",
    "avg_일산화 = result_df['AVG_일산화'].mean()\n",
    "avg_오존 = result_df['AVG_오존'].mean()\n",
    "avg_이산화 = result_df['AVG_이산화'].mean()\n",
    "avg_아황산 = result_df['AVG_아황산'].mean()\n",
    "avg_납 = result_df['AVG_납'].mean()\n",
    "\n",
    "# 결측치를 해당 열의 평균값으로 대체\n",
    "result_df['AVG_PM10'] = result_df['AVG_PM10'].fillna(avg_pm10)\n",
    "result_df['AVG_PM2.5'] = result_df['AVG_PM2.5'].fillna(avg_pm25)\n",
    "result_df['AVG_일산화'] = result_df['AVG_일산화'].fillna(avg_일산화)\n",
    "result_df['AVG_오존'] = result_df['AVG_오존'].fillna(avg_오존)\n",
    "result_df['AVG_이산화'] = result_df['AVG_이산화'].fillna(avg_이산화)\n",
    "result_df['AVG_아황산'] = result_df['AVG_아황산'].fillna(avg_아황산)\n",
    "result_df['AVG_납'] = result_df['AVG_납'].fillna(avg_납)\n",
    "\n",
    "# 모델 구축\n",
    "X = result_df[['AVG_PM10', 'AVG_PM2.5', 'AVG_일산화', 'AVG_오존', 'AVG_이산화', 'AVG_아황산', 'AVG_납']]\n",
    "y = result_df['아토피환자수']\n",
    "\n",
    "# OLS 모델 생성 및 적합\n",
    "model3 = sm.OLS(y, X).fit()\n",
    "\n",
    "# 결과 요약 출력\n",
    "print(model3.summary())"
   ]
  },
  {
   "cell_type": "markdown",
   "metadata": {},
   "source": [
    "이 회귀 분석은 아토피 환자 수에 영향을 미치는 대기 오염 물질들 간의 관계를 조사합니다. 모델은 아토피 환자 수 변동의 약 54.7%를 설명합니다(R-squared = 0.547). 이산화질소가 가장 강력한 양의 영향을 미치며, 오존 또한 아토피 환자 수에 상당한 긍정적 영향을 주는 것으로 나타났습니다. 반면, 아황산은 아토피 환자 수 감소와 관련이 있는 것으로 보이며, PM10과 PM2.5도 부정적인 영향을 주는 것으로 나타났습니다. 다만, 모델의 높은 조건 수는 변수 간의 다중공선성 문제를 시사하므로, 이는 결과의 해석에 주의를 요합니다."
   ]
  },
  {
   "cell_type": "code",
   "execution_count": 17,
   "metadata": {},
   "outputs": [
    {
     "data": {
      "image/png": "[encoded data removed]",
      "text/plain": [
       "<Figure size 640x480 with 1 Axes>"
      ]
     },
     "metadata": {},
     "output_type": "display_data"
    }
   ],
   "source": [
    "import matplotlib.pyplot as plt\n",
    "import numpy as np\n",
    "\n",
    "# 한글 폰트 설정\n",
    "plt.rcParams['font.family'] = 'Malgun Gothic'\n",
    "plt.rcParams['axes.unicode_minus'] = False\n",
    "\n",
    "# 회귀 계수 및 신뢰 구간 추출\n",
    "coefficients = model3.params\n",
    "conf = model3.conf_int()\n",
    "errors = conf[1] - coefficients\n",
    "\n",
    "# 막대 그래프 생성\n",
    "variables = ['평균 PM10', '평균 PM2.5', '평균 일산화', '평균 오존', '평균 이산화', '평균 아황산', '평균 납']\n",
    "x_pos = np.arange(len(variables))\n",
    "\n",
    "# 막대 그래프 시각화\n",
    "plt.bar(x_pos, coefficients, yerr=errors, align='center', alpha=0.7, capsize=10)\n",
    "plt.xticks(x_pos, variables, rotation=45)\n",
    "plt.ylabel('계수')\n",
    "plt.title('아토피에 영향을 주는 대기오염물질')\n",
    "\n",
    "# 그래프 표시\n",
    "plt.show()"
   ]
  },
  {
   "cell_type": "code",
   "execution_count": null,
   "metadata": {},
   "outputs": [],
   "source": []
  }
 ],
 "metadata": {
  "kernelspec": {
   "display_name": "base",
   "language": "python",
   "name": "python3"
  },
  "language_info": {
   "codemirror_mode": {
    "name": "ipython",
    "version": 3
   },
   "file_extension": ".py",
   "mimetype": "text/x-python",
   "name": "python",
   "nbconvert_exporter": "python",
   "pygments_lexer": "ipython3",
   "version": "3.11.4"
  }
 },
 "nbformat": 4,
 "nbformat_minor": 2
}
