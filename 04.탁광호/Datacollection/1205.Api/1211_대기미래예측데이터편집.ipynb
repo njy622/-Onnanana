{
 "cells": [
  {
   "cell_type": "code",
   "execution_count": 1,
   "metadata": {},
   "outputs": [],
   "source": [
    "import pandas as pd"
   ]
  },
  {
   "cell_type": "code",
   "execution_count": 2,
   "metadata": {},
   "outputs": [],
   "source": [
    "df1 = pd.read_csv('data/1월.csv')"
   ]
  },
  {
   "cell_type": "code",
   "execution_count": 3,
   "metadata": {},
   "outputs": [
    {
     "data": {
      "text/html": [
       "<div>\n",
       "<style scoped>\n",
       "    .dataframe tbody tr th:only-of-type {\n",
       "        vertical-align: middle;\n",
       "    }\n",
       "\n",
       "    .dataframe tbody tr th {\n",
       "        vertical-align: top;\n",
       "    }\n",
       "\n",
       "    .dataframe thead th {\n",
       "        text-align: right;\n",
       "    }\n",
       "</style>\n",
       "<table border=\"1\" class=\"dataframe\">\n",
       "  <thead>\n",
       "    <tr style=\"text-align: right;\">\n",
       "      <th></th>\n",
       "      <th>측정일시</th>\n",
       "      <th>측정소명</th>\n",
       "      <th>이산화질소</th>\n",
       "      <th>오존</th>\n",
       "      <th>일산화탄소</th>\n",
       "      <th>아황산</th>\n",
       "      <th>미세</th>\n",
       "      <th>초미세</th>\n",
       "    </tr>\n",
       "  </thead>\n",
       "  <tbody>\n",
       "    <tr>\n",
       "      <th>0</th>\n",
       "      <td>20230101</td>\n",
       "      <td>강남구</td>\n",
       "      <td>0.025</td>\n",
       "      <td>0.024</td>\n",
       "      <td>0.6</td>\n",
       "      <td>0.004</td>\n",
       "      <td>55.0</td>\n",
       "      <td>38.0</td>\n",
       "    </tr>\n",
       "  </tbody>\n",
       "</table>\n",
       "</div>"
      ],
      "text/plain": [
       "       측정일시 측정소명  이산화질소     오존  일산화탄소    아황산    미세   초미세\n",
       "0  20230101  강남구  0.025  0.024    0.6  0.004  55.0  38.0"
      ]
     },
     "execution_count": 3,
     "metadata": {},
     "output_type": "execute_result"
    }
   ],
   "source": [
    "df1.head(1)"
   ]
  },
  {
   "cell_type": "code",
   "execution_count": 4,
   "metadata": {},
   "outputs": [],
   "source": [
    "df2 = pd.read_csv('data/2월.csv')\n",
    "df3 = pd.read_csv('data/3월.csv')\n",
    "df4 = pd.read_csv('data/4월.csv')\n",
    "df5 = pd.read_csv('data/5월.csv')\n",
    "df6 = pd.read_csv('data/6월.csv')\n",
    "df7 = pd.read_csv('data/7월.csv')\n",
    "df8 = pd.read_csv('data/8월.csv')\n",
    "df9 = pd.read_csv('data/9월.csv')\n",
    "df10 = pd.read_csv('data/10월.csv')\n",
    "df11 = pd.read_csv('data/11월.csv')\n",
    "df12 = pd.read_csv('data/12월.csv')"
   ]
  },
  {
   "cell_type": "code",
   "execution_count": 5,
   "metadata": {},
   "outputs": [
    {
     "name": "stdout",
     "output_type": "stream",
     "text": [
      "           측정일시  측정소명   이산화질소      오존  일산화탄소     아황산    미세   초미세\n",
      "0      20230101   강남구  0.0250  0.0240   0.60  0.0040  55.0  38.0\n",
      "1      20230101  강남대로  0.0260  0.0200   0.60  0.0040  57.0  40.0\n",
      "2      20230101   강동구  0.0280  0.0160   0.70  0.0030  59.0  46.0\n",
      "3      20230101  강변북로  0.0320  0.0160   1.00  0.0030  54.0  40.0\n",
      "4      20230101   강북구  0.0000  0.0250   0.70  0.0040  53.0  36.0\n",
      "...         ...   ...     ...     ...    ...     ...   ...   ...\n",
      "11435  20231211  천호대로  0.0178  0.0220   0.34  0.0024   7.0   4.0\n",
      "11436  20231211  청계천로  0.0146  0.0237   0.41  0.0027   7.0   4.0\n",
      "11437  20231211  한강대로  0.0178  0.0209   0.41  0.0025   7.0   4.0\n",
      "11438  20231211   홍릉로  0.0179  0.0214   0.33  0.0028   7.0   3.0\n",
      "11439  20231211   화랑로  0.0249  0.0150   0.39  0.0027   7.0   3.0\n",
      "\n",
      "[11440 rows x 8 columns]\n"
     ]
    }
   ],
   "source": [
    "# 모든 데이터프레임을 리스트에 담기\n",
    "dataframes = [df1, df2, df3, df4, df5, df6, df7, df8, df9, df10, df11, df12]\n",
    "\n",
    "# concat 함수를 사용하여 모든 데이터프레임을 하나로 합치기\n",
    "combined_df = pd.concat(dataframes, ignore_index=True)\n",
    "\n",
    "# 결과 확인\n",
    "print(combined_df)\n"
   ]
  },
  {
   "cell_type": "code",
   "execution_count": 6,
   "metadata": {},
   "outputs": [
    {
     "data": {
      "text/plain": [
       "측정일시      0\n",
       "측정소명      0\n",
       "이산화질소    64\n",
       "오존       66\n",
       "일산화탄소    65\n",
       "아황산      78\n",
       "미세       70\n",
       "초미세      78\n",
       "dtype: int64"
      ]
     },
     "execution_count": 6,
     "metadata": {},
     "output_type": "execute_result"
    }
   ],
   "source": [
    "combined_df.isna().sum()"
   ]
  },
  {
   "cell_type": "code",
   "execution_count": 7,
   "metadata": {},
   "outputs": [
    {
     "data": {
      "text/plain": [
       "dtype('int64')"
      ]
     },
     "execution_count": 7,
     "metadata": {},
     "output_type": "execute_result"
    }
   ],
   "source": [
    "combined_df['측정일시'].dtype"
   ]
  },
  {
   "cell_type": "code",
   "execution_count": 8,
   "metadata": {},
   "outputs": [],
   "source": [
    "combined_df = combined_df.drop(columns=['측정소명'])\n",
    "# 측정일시 별로 그룹화하여 평균 계산\n",
    "combined_df = combined_df.groupby('측정일시').mean()"
   ]
  },
  {
   "cell_type": "code",
   "execution_count": 14,
   "metadata": {},
   "outputs": [
    {
     "data": {
      "text/html": [
       "<div>\n",
       "<style scoped>\n",
       "    .dataframe tbody tr th:only-of-type {\n",
       "        vertical-align: middle;\n",
       "    }\n",
       "\n",
       "    .dataframe tbody tr th {\n",
       "        vertical-align: top;\n",
       "    }\n",
       "\n",
       "    .dataframe thead th {\n",
       "        text-align: right;\n",
       "    }\n",
       "</style>\n",
       "<table border=\"1\" class=\"dataframe\">\n",
       "  <thead>\n",
       "    <tr style=\"text-align: right;\">\n",
       "      <th></th>\n",
       "      <th>측정일시</th>\n",
       "      <th>이산화질소</th>\n",
       "      <th>오존</th>\n",
       "      <th>일산화탄소</th>\n",
       "      <th>아황산</th>\n",
       "      <th>미세</th>\n",
       "      <th>초미세</th>\n",
       "    </tr>\n",
       "  </thead>\n",
       "  <tbody>\n",
       "    <tr>\n",
       "      <th>281</th>\n",
       "      <td>20231207</td>\n",
       "      <td>0.026</td>\n",
       "      <td>0.018</td>\n",
       "      <td>0.5</td>\n",
       "      <td>0.003</td>\n",
       "      <td>62.0</td>\n",
       "      <td>16.0</td>\n",
       "    </tr>\n",
       "    <tr>\n",
       "      <th>282</th>\n",
       "      <td>20231208</td>\n",
       "      <td>0.029</td>\n",
       "      <td>0.030</td>\n",
       "      <td>0.6</td>\n",
       "      <td>0.003</td>\n",
       "      <td>84.0</td>\n",
       "      <td>23.0</td>\n",
       "    </tr>\n",
       "    <tr>\n",
       "      <th>283</th>\n",
       "      <td>20231209</td>\n",
       "      <td>0.027</td>\n",
       "      <td>0.038</td>\n",
       "      <td>0.6</td>\n",
       "      <td>0.003</td>\n",
       "      <td>72.0</td>\n",
       "      <td>31.0</td>\n",
       "    </tr>\n",
       "    <tr>\n",
       "      <th>284</th>\n",
       "      <td>20231210</td>\n",
       "      <td>0.025</td>\n",
       "      <td>0.021</td>\n",
       "      <td>0.7</td>\n",
       "      <td>0.003</td>\n",
       "      <td>80.0</td>\n",
       "      <td>36.0</td>\n",
       "    </tr>\n",
       "    <tr>\n",
       "      <th>285</th>\n",
       "      <td>20231211</td>\n",
       "      <td>0.015</td>\n",
       "      <td>0.023</td>\n",
       "      <td>0.4</td>\n",
       "      <td>0.002</td>\n",
       "      <td>7.0</td>\n",
       "      <td>3.0</td>\n",
       "    </tr>\n",
       "  </tbody>\n",
       "</table>\n",
       "</div>"
      ],
      "text/plain": [
       "         측정일시  이산화질소     오존  일산화탄소    아황산    미세   초미세\n",
       "281  20231207  0.026  0.018    0.5  0.003  62.0  16.0\n",
       "282  20231208  0.029  0.030    0.6  0.003  84.0  23.0\n",
       "283  20231209  0.027  0.038    0.6  0.003  72.0  31.0\n",
       "284  20231210  0.025  0.021    0.7  0.003  80.0  36.0\n",
       "285  20231211  0.015  0.023    0.4  0.002   7.0   3.0"
      ]
     },
     "execution_count": 14,
     "metadata": {},
     "output_type": "execute_result"
    }
   ],
   "source": [
    "combined_df.tail()"
   ]
  },
  {
   "cell_type": "code",
   "execution_count": 10,
   "metadata": {},
   "outputs": [],
   "source": [
    "combined_df['이산화질소'] = combined_df['이산화질소'].round(3)\n",
    "combined_df['오존'] = combined_df['오존'].round(3)\n",
    "combined_df['일산화탄소'] = combined_df['일산화탄소'].round(1)\n",
    "combined_df['아황산'] = combined_df['아황산'].round(3)\n",
    "combined_df['미세'] = combined_df['미세'].round(0)\n",
    "combined_df['초미세'] = combined_df['초미세'].round(0)"
   ]
  },
  {
   "cell_type": "code",
   "execution_count": 11,
   "metadata": {},
   "outputs": [],
   "source": [
    "combined_df = combined_df.reset_index()"
   ]
  },
  {
   "cell_type": "code",
   "execution_count": 13,
   "metadata": {},
   "outputs": [],
   "source": [
    "combined_df.to_csv('data/23년.csv', index=False)"
   ]
  },
  {
   "cell_type": "code",
   "execution_count": 12,
   "metadata": {},
   "outputs": [
    {
     "data": {
      "text/plain": [
       "측정일시     0\n",
       "이산화질소    0\n",
       "오존       0\n",
       "일산화탄소    0\n",
       "아황산      0\n",
       "미세       0\n",
       "초미세      0\n",
       "dtype: int64"
      ]
     },
     "execution_count": 12,
     "metadata": {},
     "output_type": "execute_result"
    }
   ],
   "source": [
    "combined_df.isna().sum()"
   ]
  },
  {
   "cell_type": "code",
   "execution_count": null,
   "metadata": {},
   "outputs": [],
   "source": []
  }
 ],
 "metadata": {
  "kernelspec": {
   "display_name": "base",
   "language": "python",
   "name": "python3"
  },
  "language_info": {
   "codemirror_mode": {
    "name": "ipython",
    "version": 3
   },
   "file_extension": ".py",
   "mimetype": "text/x-python",
   "name": "python",
   "nbconvert_exporter": "python",
   "pygments_lexer": "ipython3",
   "version": "3.11.4"
  }
 },
 "nbformat": 4,
 "nbformat_minor": 2
}
