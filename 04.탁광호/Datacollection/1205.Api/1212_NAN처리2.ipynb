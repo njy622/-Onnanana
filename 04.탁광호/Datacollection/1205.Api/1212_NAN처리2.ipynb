{
 "cells": [
  {
   "cell_type": "code",
   "execution_count": 27,
   "metadata": {},
   "outputs": [],
   "source": [
    "import pandas as pd"
   ]
  },
  {
   "cell_type": "code",
   "execution_count": 28,
   "metadata": {},
   "outputs": [],
   "source": [
    "df2 = pd.read_excel('data/일별평균대기오염도_2012.xlsx')\n",
    "df2 = df2.dropna()\n",
    "df2 = df2.drop(columns=['측정소명'])\n",
    "# 측정일시 별로 그룹화하여 평균 계산\n",
    "df2 = df2.groupby('측정일시').mean()"
   ]
  },
  {
   "cell_type": "code",
   "execution_count": 29,
   "metadata": {},
   "outputs": [],
   "source": [
    "df3 = pd.read_excel('data/일별평균대기오염도_2013.xlsx')\n",
    "df3 = df3.dropna()\n",
    "df3 = df3.drop(columns=['측정소명'])\n",
    "# 측정일시 별로 그룹화하여 평균 계산\n",
    "df3 = df3.groupby('측정일시').mean()"
   ]
  },
  {
   "cell_type": "code",
   "execution_count": 30,
   "metadata": {},
   "outputs": [],
   "source": [
    "df4 = pd.read_excel('data/일별평균대기오염도_2014.xlsx')\n",
    "df4 = df4.dropna()\n",
    "df4 = df4.drop(columns=['측정소명'])\n",
    "# 측정일시 별로 그룹화하여 평균 계산\n",
    "df4 = df4.groupby('측정일시').mean()"
   ]
  },
  {
   "cell_type": "code",
   "execution_count": 31,
   "metadata": {},
   "outputs": [],
   "source": [
    "df5 = pd.read_excel('data/일별평균대기오염도_2015.xlsx')\n",
    "df5 = df5.dropna()\n",
    "df5 = df5.drop(columns=['측정소명'])\n",
    "# 측정일시 별로 그룹화하여 평균 계산\n",
    "df5 = df5.groupby('측정일시').mean()"
   ]
  },
  {
   "cell_type": "code",
   "execution_count": 32,
   "metadata": {},
   "outputs": [],
   "source": [
    "df6 = pd.read_excel('data/일별평균대기오염도_2016.xlsx')\n",
    "df6 = df6.dropna()\n",
    "df6 = df6.drop(columns=['측정소명'])\n",
    "# 측정일시 별로 그룹화하여 평균 계산\n",
    "df6 = df6.groupby('측정일시').mean()"
   ]
  },
  {
   "cell_type": "code",
   "execution_count": 33,
   "metadata": {},
   "outputs": [],
   "source": [
    "df7 = pd.read_excel('data/일별평균대기오염도_2017.xlsx')\n",
    "df7 = df7.dropna()\n",
    "df7 = df7.drop(columns=['측정소명'])\n",
    "# 측정일시 별로 그룹화하여 평균 계산\n",
    "df7 = df7.groupby('측정일시').mean()"
   ]
  },
  {
   "cell_type": "code",
   "execution_count": 34,
   "metadata": {},
   "outputs": [],
   "source": [
    "# 데이터프레임 리스트 생성\n",
    "dataframes = [df2, df3, df4, df5, df6, df7]\n",
    "\n",
    "# 각 데이터프레임에서 '측정일시'를 일반 컬럼으로 변환\n",
    "dataframes = [df.reset_index() for df in dataframes]\n",
    "\n",
    "# 모든 데이터프레임을 하나로 합치기\n",
    "combined_df = pd.concat(dataframes, ignore_index=True)\n",
    "\n"
   ]
  },
  {
   "cell_type": "code",
   "execution_count": 35,
   "metadata": {},
   "outputs": [],
   "source": [
    "# 데이터프레임의 열 이름 변경\n",
    "combined_df.columns = ['측정일시', '이산화질소', '오존', '일산화탄소', '아황산', '미세', '초미세']\n"
   ]
  },
  {
   "cell_type": "code",
   "execution_count": 36,
   "metadata": {},
   "outputs": [
    {
     "data": {
      "text/plain": [
       "Index(['측정일시', '이산화질소', '오존', '일산화탄소', '아황산', '미세', '초미세'], dtype='object')"
      ]
     },
     "execution_count": 36,
     "metadata": {},
     "output_type": "execute_result"
    }
   ],
   "source": [
    "combined_df.columns"
   ]
  },
  {
   "cell_type": "code",
   "execution_count": 37,
   "metadata": {},
   "outputs": [],
   "source": [
    "df8 = pd.read_csv('data/일별평균대기오염도_2018.csv', encoding='euc-kr')\n",
    "df = df8.dropna()\n",
    "df8 = df8.drop(columns=['측정소명'])\n",
    "# 측정일시 별로 그룹화하여 평균 계산\n",
    "df8 = df8.groupby('측정일시').mean()"
   ]
  },
  {
   "cell_type": "code",
   "execution_count": 38,
   "metadata": {},
   "outputs": [],
   "source": [
    "df9 = pd.read_csv('data/일별평균대기오염도_2019.csv', encoding='euc-kr')\n",
    "df9 = df9.dropna()\n",
    "df9 = df9.drop(columns=['측정소명'])\n",
    "# 측정일시 별로 그룹화하여 평균 계산\n",
    "df9 = df9.groupby('측정일시').mean()"
   ]
  },
  {
   "cell_type": "code",
   "execution_count": 39,
   "metadata": {},
   "outputs": [],
   "source": [
    "df10 = pd.read_csv('data/일별평균대기오염도_2020.csv', encoding='euc-kr')\n",
    "df10 = df10.dropna()\n",
    "df10 = df10.drop(columns=['측정소명'])\n",
    "# 측정일시 별로 그룹화하여 평균 계산\n",
    "df10 = df10.groupby('측정일시').mean()"
   ]
  },
  {
   "cell_type": "code",
   "execution_count": 40,
   "metadata": {},
   "outputs": [],
   "source": [
    "df11 = pd.read_csv('data/일별평균대기오염도_2021.csv', encoding='euc-kr')\n",
    "df11 = df11.dropna()\n",
    "df11 = df11.drop(columns=['측정소명'])\n",
    "# 측정일시 별로 그룹화하여 평균 계산\n",
    "df11 = df11.groupby('측정일시').mean()"
   ]
  },
  {
   "cell_type": "code",
   "execution_count": 41,
   "metadata": {},
   "outputs": [],
   "source": [
    "df12 = pd.read_csv('data/일별평균대기오염도_2022.csv', encoding='euc-kr')\n",
    "df12 = df12.dropna()\n",
    "df12 = df12.drop(columns=['측정소명'])\n",
    "# 측정일시 별로 그룹화하여 평균 계산\n",
    "df12 = df12.groupby('측정일시').mean()"
   ]
  },
  {
   "cell_type": "code",
   "execution_count": 42,
   "metadata": {},
   "outputs": [
    {
     "name": "stdout",
     "output_type": "stream",
     "text": [
      "          측정일시  이산화질소농도(ppm)  오존농도(ppm)  일산화탄소농도(ppm)  아황산가스농도(ppm)  \\\n",
      "0     20180101      0.035946   0.010081      0.644444      0.005784   \n",
      "1     20180102      0.040000   0.009622      0.770270      0.005595   \n",
      "2     20180103      0.026842   0.014500      0.500000      0.005368   \n",
      "3     20180104      0.038526   0.008737      0.623684      0.005500   \n",
      "4     20180105      0.046105   0.007105      0.755263      0.006079   \n",
      "...        ...           ...        ...           ...           ...   \n",
      "1821  20221227      0.046700   0.008260      0.872000      0.003660   \n",
      "1822  20221228      0.027920   0.017380      0.564000      0.003520   \n",
      "1823  20221229      0.032860   0.012900      0.576000      0.003800   \n",
      "1824  20221230      0.033660   0.014720      0.606000      0.003600   \n",
      "1825  20221231      0.041980   0.008300      0.786000      0.003780   \n",
      "\n",
      "      미세먼지농도(㎍/㎥)  초미세먼지농도(㎍/㎥)  \n",
      "0       44.542857     20.243243  \n",
      "1       43.027027     21.756757  \n",
      "2       36.815789     17.894737  \n",
      "3       48.210526     24.368421  \n",
      "4       60.210526     35.052632  \n",
      "...           ...           ...  \n",
      "1821    49.080000     36.000000  \n",
      "1822    34.920000     20.460000  \n",
      "1823    30.100000     17.840000  \n",
      "1824    38.200000     26.940000  \n",
      "1825    43.180000     32.220000  \n",
      "\n",
      "[1826 rows x 7 columns]\n"
     ]
    }
   ],
   "source": [
    "# 데이터프레임 리스트 생성\n",
    "dataframes1 = [df8, df9, df10, df11, df12]\n",
    "\n",
    "# 각 데이터프레임에서 '측정일시'를 일반 컬럼으로 변환\n",
    "dataframes1 = [df.reset_index() for df in dataframes1]\n",
    "\n",
    "# 모든 데이터프레임을 하나로 합치기\n",
    "combined_df1 = pd.concat(dataframes1, ignore_index=True)\n",
    "\n",
    "# 결과 확인\n",
    "print(combined_df1)\n",
    "\n"
   ]
  },
  {
   "cell_type": "code",
   "execution_count": 43,
   "metadata": {},
   "outputs": [],
   "source": [
    "# 데이터프레임의 열 이름 변경\n",
    "combined_df1.columns = ['측정일시', '이산화질소', '오존', '일산화탄소', '아황산', '미세', '초미세']\n"
   ]
  },
  {
   "cell_type": "code",
   "execution_count": 44,
   "metadata": {},
   "outputs": [],
   "source": [
    "dataframes2 = [combined_df, combined_df1]\n",
    "combined_df = pd.concat(dataframes2, ignore_index=True)"
   ]
  },
  {
   "cell_type": "code",
   "execution_count": 45,
   "metadata": {},
   "outputs": [
    {
     "data": {
      "text/html": [
       "<div>\n",
       "<style scoped>\n",
       "    .dataframe tbody tr th:only-of-type {\n",
       "        vertical-align: middle;\n",
       "    }\n",
       "\n",
       "    .dataframe tbody tr th {\n",
       "        vertical-align: top;\n",
       "    }\n",
       "\n",
       "    .dataframe thead th {\n",
       "        text-align: right;\n",
       "    }\n",
       "</style>\n",
       "<table border=\"1\" class=\"dataframe\">\n",
       "  <thead>\n",
       "    <tr style=\"text-align: right;\">\n",
       "      <th></th>\n",
       "      <th>측정일시</th>\n",
       "      <th>이산화질소</th>\n",
       "      <th>오존</th>\n",
       "      <th>일산화탄소</th>\n",
       "      <th>아황산</th>\n",
       "      <th>미세</th>\n",
       "      <th>초미세</th>\n",
       "    </tr>\n",
       "  </thead>\n",
       "  <tbody>\n",
       "    <tr>\n",
       "      <th>4017</th>\n",
       "      <td>20221231</td>\n",
       "      <td>0.04198</td>\n",
       "      <td>0.0083</td>\n",
       "      <td>0.786</td>\n",
       "      <td>0.00378</td>\n",
       "      <td>43.18</td>\n",
       "      <td>32.22</td>\n",
       "    </tr>\n",
       "  </tbody>\n",
       "</table>\n",
       "</div>"
      ],
      "text/plain": [
       "          측정일시    이산화질소      오존  일산화탄소      아황산     미세    초미세\n",
       "4017  20221231  0.04198  0.0083  0.786  0.00378  43.18  32.22"
      ]
     },
     "execution_count": 45,
     "metadata": {},
     "output_type": "execute_result"
    }
   ],
   "source": [
    "combined_df.tail(1)"
   ]
  },
  {
   "cell_type": "code",
   "execution_count": 46,
   "metadata": {},
   "outputs": [],
   "source": [
    "combined_df.to_csv('data/nan/일별대기오염합침.csv', index=False)"
   ]
  },
  {
   "cell_type": "code",
   "execution_count": 47,
   "metadata": {},
   "outputs": [
    {
     "data": {
      "text/plain": [
       "Index(['측정일시', '이산화질소', '오존', '일산화탄소', '아황산', '미세', '초미세'], dtype='object')"
      ]
     },
     "execution_count": 47,
     "metadata": {},
     "output_type": "execute_result"
    }
   ],
   "source": [
    "combined_df.columns"
   ]
  },
  {
   "cell_type": "code",
   "execution_count": 48,
   "metadata": {},
   "outputs": [],
   "source": [
    "combined_df['이산화질소'] = combined_df['이산화질소'].round(3)\n",
    "combined_df['오존'] = combined_df['오존'].round(4)\n",
    "combined_df['일산화탄소'] = combined_df['일산화탄소'].round(2)\n",
    "combined_df['아황산'] = combined_df['아황산'].round(4)\n",
    "combined_df['미세'] = combined_df['미세'].round(1)\n",
    "combined_df['초미세'] = combined_df['초미세'].round(1)\n"
   ]
  },
  {
   "cell_type": "code",
   "execution_count": 49,
   "metadata": {},
   "outputs": [],
   "source": [
    "import re\n",
    "\n",
    "def remove_non_korean_characters(column_name):\n",
    "    return re.sub('[^가-힣]', '', column_name)\n",
    "\n",
    "combined_df = combined_df.rename(columns={col: remove_non_korean_characters(col) for col in combined_df.columns})\n"
   ]
  },
  {
   "cell_type": "code",
   "execution_count": 50,
   "metadata": {},
   "outputs": [
    {
     "data": {
      "text/html": [
       "<div>\n",
       "<style scoped>\n",
       "    .dataframe tbody tr th:only-of-type {\n",
       "        vertical-align: middle;\n",
       "    }\n",
       "\n",
       "    .dataframe tbody tr th {\n",
       "        vertical-align: top;\n",
       "    }\n",
       "\n",
       "    .dataframe thead th {\n",
       "        text-align: right;\n",
       "    }\n",
       "</style>\n",
       "<table border=\"1\" class=\"dataframe\">\n",
       "  <thead>\n",
       "    <tr style=\"text-align: right;\">\n",
       "      <th></th>\n",
       "      <th>측정일시</th>\n",
       "      <th>이산화질소</th>\n",
       "      <th>오존</th>\n",
       "      <th>일산화탄소</th>\n",
       "      <th>아황산</th>\n",
       "      <th>미세</th>\n",
       "      <th>초미세</th>\n",
       "    </tr>\n",
       "  </thead>\n",
       "  <tbody>\n",
       "    <tr>\n",
       "      <th>0</th>\n",
       "      <td>20120101</td>\n",
       "      <td>0.031</td>\n",
       "      <td>0.0080</td>\n",
       "      <td>1.17</td>\n",
       "      <td>0.0093</td>\n",
       "      <td>88.3</td>\n",
       "      <td>57.3</td>\n",
       "    </tr>\n",
       "    <tr>\n",
       "      <th>1</th>\n",
       "      <td>20120102</td>\n",
       "      <td>0.036</td>\n",
       "      <td>0.0050</td>\n",
       "      <td>1.20</td>\n",
       "      <td>0.0087</td>\n",
       "      <td>100.0</td>\n",
       "      <td>62.7</td>\n",
       "    </tr>\n",
       "    <tr>\n",
       "      <th>2</th>\n",
       "      <td>20120103</td>\n",
       "      <td>0.041</td>\n",
       "      <td>0.0063</td>\n",
       "      <td>1.27</td>\n",
       "      <td>0.0073</td>\n",
       "      <td>96.0</td>\n",
       "      <td>63.0</td>\n",
       "    </tr>\n",
       "    <tr>\n",
       "      <th>3</th>\n",
       "      <td>20120104</td>\n",
       "      <td>0.024</td>\n",
       "      <td>0.0130</td>\n",
       "      <td>0.83</td>\n",
       "      <td>0.0103</td>\n",
       "      <td>70.3</td>\n",
       "      <td>42.0</td>\n",
       "    </tr>\n",
       "    <tr>\n",
       "      <th>4</th>\n",
       "      <td>20120105</td>\n",
       "      <td>0.037</td>\n",
       "      <td>0.0073</td>\n",
       "      <td>0.77</td>\n",
       "      <td>0.0063</td>\n",
       "      <td>53.3</td>\n",
       "      <td>29.3</td>\n",
       "    </tr>\n",
       "    <tr>\n",
       "      <th>...</th>\n",
       "      <td>...</td>\n",
       "      <td>...</td>\n",
       "      <td>...</td>\n",
       "      <td>...</td>\n",
       "      <td>...</td>\n",
       "      <td>...</td>\n",
       "      <td>...</td>\n",
       "    </tr>\n",
       "    <tr>\n",
       "      <th>4013</th>\n",
       "      <td>20221227</td>\n",
       "      <td>0.047</td>\n",
       "      <td>0.0083</td>\n",
       "      <td>0.87</td>\n",
       "      <td>0.0037</td>\n",
       "      <td>49.1</td>\n",
       "      <td>36.0</td>\n",
       "    </tr>\n",
       "    <tr>\n",
       "      <th>4014</th>\n",
       "      <td>20221228</td>\n",
       "      <td>0.028</td>\n",
       "      <td>0.0174</td>\n",
       "      <td>0.56</td>\n",
       "      <td>0.0035</td>\n",
       "      <td>34.9</td>\n",
       "      <td>20.5</td>\n",
       "    </tr>\n",
       "    <tr>\n",
       "      <th>4015</th>\n",
       "      <td>20221229</td>\n",
       "      <td>0.033</td>\n",
       "      <td>0.0129</td>\n",
       "      <td>0.58</td>\n",
       "      <td>0.0038</td>\n",
       "      <td>30.1</td>\n",
       "      <td>17.8</td>\n",
       "    </tr>\n",
       "    <tr>\n",
       "      <th>4016</th>\n",
       "      <td>20221230</td>\n",
       "      <td>0.034</td>\n",
       "      <td>0.0147</td>\n",
       "      <td>0.61</td>\n",
       "      <td>0.0036</td>\n",
       "      <td>38.2</td>\n",
       "      <td>26.9</td>\n",
       "    </tr>\n",
       "    <tr>\n",
       "      <th>4017</th>\n",
       "      <td>20221231</td>\n",
       "      <td>0.042</td>\n",
       "      <td>0.0083</td>\n",
       "      <td>0.79</td>\n",
       "      <td>0.0038</td>\n",
       "      <td>43.2</td>\n",
       "      <td>32.2</td>\n",
       "    </tr>\n",
       "  </tbody>\n",
       "</table>\n",
       "<p>4018 rows × 7 columns</p>\n",
       "</div>"
      ],
      "text/plain": [
       "          측정일시  이산화질소      오존  일산화탄소     아황산     미세   초미세\n",
       "0     20120101  0.031  0.0080   1.17  0.0093   88.3  57.3\n",
       "1     20120102  0.036  0.0050   1.20  0.0087  100.0  62.7\n",
       "2     20120103  0.041  0.0063   1.27  0.0073   96.0  63.0\n",
       "3     20120104  0.024  0.0130   0.83  0.0103   70.3  42.0\n",
       "4     20120105  0.037  0.0073   0.77  0.0063   53.3  29.3\n",
       "...        ...    ...     ...    ...     ...    ...   ...\n",
       "4013  20221227  0.047  0.0083   0.87  0.0037   49.1  36.0\n",
       "4014  20221228  0.028  0.0174   0.56  0.0035   34.9  20.5\n",
       "4015  20221229  0.033  0.0129   0.58  0.0038   30.1  17.8\n",
       "4016  20221230  0.034  0.0147   0.61  0.0036   38.2  26.9\n",
       "4017  20221231  0.042  0.0083   0.79  0.0038   43.2  32.2\n",
       "\n",
       "[4018 rows x 7 columns]"
      ]
     },
     "execution_count": 50,
     "metadata": {},
     "output_type": "execute_result"
    }
   ],
   "source": [
    "combined_df"
   ]
  },
  {
   "cell_type": "code",
   "execution_count": 51,
   "metadata": {},
   "outputs": [],
   "source": [
    "combined_df.to_csv('data/nan/일별대기오염합침.csv', index=False)"
   ]
  },
  {
   "cell_type": "code",
   "execution_count": 52,
   "metadata": {},
   "outputs": [
    {
     "data": {
      "text/plain": [
       "dtype('int64')"
      ]
     },
     "execution_count": 52,
     "metadata": {},
     "output_type": "execute_result"
    }
   ],
   "source": [
    "combined_df['측정일시'].dtype"
   ]
  },
  {
   "cell_type": "code",
   "execution_count": 53,
   "metadata": {},
   "outputs": [
    {
     "data": {
      "text/plain": [
       "측정일시     0\n",
       "이산화질소    0\n",
       "오존       0\n",
       "일산화탄소    0\n",
       "아황산      0\n",
       "미세       0\n",
       "초미세      0\n",
       "dtype: int64"
      ]
     },
     "execution_count": 53,
     "metadata": {},
     "output_type": "execute_result"
    }
   ],
   "source": [
    "combined_df.isna().sum()"
   ]
  },
  {
   "cell_type": "code",
   "execution_count": null,
   "metadata": {},
   "outputs": [],
   "source": []
  }
 ],
 "metadata": {
  "kernelspec": {
   "display_name": "base",
   "language": "python",
   "name": "python3"
  },
  "language_info": {
   "codemirror_mode": {
    "name": "ipython",
    "version": 3
   },
   "file_extension": ".py",
   "mimetype": "text/x-python",
   "name": "python",
   "nbconvert_exporter": "python",
   "pygments_lexer": "ipython3",
   "version": "3.11.4"
  }
 },
 "nbformat": 4,
 "nbformat_minor": 2
}
