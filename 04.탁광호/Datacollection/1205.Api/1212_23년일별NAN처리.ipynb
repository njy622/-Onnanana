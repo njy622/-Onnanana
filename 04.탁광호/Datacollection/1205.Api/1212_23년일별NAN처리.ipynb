{
 "cells": [
  {
   "cell_type": "code",
   "execution_count": 6,
   "metadata": {},
   "outputs": [],
   "source": [
    "import pandas as pd"
   ]
  },
  {
   "cell_type": "code",
   "execution_count": 7,
   "metadata": {},
   "outputs": [],
   "source": [
    "df1 = pd.read_csv('data/1월.csv')\n",
    "df2 = pd.read_csv('data/2월.csv')\n",
    "df3 = pd.read_csv('data/3월.csv')\n",
    "df4 = pd.read_csv('data/4월.csv')\n",
    "df5 = pd.read_csv('data/5월.csv')\n",
    "df6 = pd.read_csv('data/6월.csv')\n",
    "df7 = pd.read_csv('data/7월.csv')\n",
    "df8 = pd.read_csv('data/8월.csv')\n",
    "df9 = pd.read_csv('data/9월.csv')\n",
    "df10 = pd.read_csv('data/10월.csv')\n",
    "df11 = pd.read_csv('data/11월.csv')\n",
    "df12 = pd.read_csv('data/12월.csv')"
   ]
  },
  {
   "cell_type": "code",
   "execution_count": 8,
   "metadata": {},
   "outputs": [],
   "source": [
    "df1.dropna(inplace=True)\n",
    "df2.dropna(inplace=True)\n",
    "df3.dropna(inplace=True)\n",
    "df4.dropna(inplace=True)\n",
    "df5.dropna(inplace=True)\n",
    "df6.dropna(inplace=True)\n",
    "df7.dropna(inplace=True)\n",
    "df8.dropna(inplace=True)\n",
    "df9.dropna(inplace=True)\n",
    "df10.dropna(inplace=True)\n",
    "df11.dropna(inplace=True)\n",
    "df12.dropna(inplace=True)"
   ]
  },
  {
   "cell_type": "code",
   "execution_count": 9,
   "metadata": {},
   "outputs": [
    {
     "data": {
      "text/plain": [
       "측정일시     0\n",
       "측정소명     0\n",
       "이산화질소    0\n",
       "오존       0\n",
       "일산화탄소    0\n",
       "아황산      0\n",
       "미세       0\n",
       "초미세      0\n",
       "dtype: int64"
      ]
     },
     "execution_count": 9,
     "metadata": {},
     "output_type": "execute_result"
    }
   ],
   "source": [
    "df1.isna().sum()"
   ]
  },
  {
   "cell_type": "code",
   "execution_count": 10,
   "metadata": {},
   "outputs": [
    {
     "name": "stdout",
     "output_type": "stream",
     "text": [
      "           측정일시  측정소명   이산화질소      오존  일산화탄소     아황산    미세   초미세\n",
      "0      20230101   강남구  0.0250  0.0240   0.60  0.0040  55.0  38.0\n",
      "1      20230101  강남대로  0.0260  0.0200   0.60  0.0040  57.0  40.0\n",
      "2      20230101   강동구  0.0280  0.0160   0.70  0.0030  59.0  46.0\n",
      "3      20230101  강변북로  0.0320  0.0160   1.00  0.0030  54.0  40.0\n",
      "4      20230101   강북구  0.0000  0.0250   0.70  0.0040  53.0  36.0\n",
      "...         ...   ...     ...     ...    ...     ...   ...   ...\n",
      "11335  20231211  천호대로  0.0178  0.0220   0.34  0.0024   7.0   4.0\n",
      "11336  20231211  청계천로  0.0146  0.0237   0.41  0.0027   7.0   4.0\n",
      "11337  20231211  한강대로  0.0178  0.0209   0.41  0.0025   7.0   4.0\n",
      "11338  20231211   홍릉로  0.0179  0.0214   0.33  0.0028   7.0   3.0\n",
      "11339  20231211   화랑로  0.0249  0.0150   0.39  0.0027   7.0   3.0\n",
      "\n",
      "[11340 rows x 8 columns]\n"
     ]
    }
   ],
   "source": [
    "# 모든 데이터프레임을 리스트에 담기\n",
    "dataframes = [df1, df2, df3, df4, df5, df6, df7, df8, df9, df10, df11, df12]\n",
    "\n",
    "# concat 함수를 사용하여 모든 데이터프레임을 하나로 합치기\n",
    "combined_df = pd.concat(dataframes, ignore_index=True)\n",
    "\n",
    "# 결과 확인\n",
    "print(combined_df)\n"
   ]
  },
  {
   "cell_type": "code",
   "execution_count": 11,
   "metadata": {},
   "outputs": [
    {
     "data": {
      "text/plain": [
       "측정일시     0\n",
       "측정소명     0\n",
       "이산화질소    0\n",
       "오존       0\n",
       "일산화탄소    0\n",
       "아황산      0\n",
       "미세       0\n",
       "초미세      0\n",
       "dtype: int64"
      ]
     },
     "execution_count": 11,
     "metadata": {},
     "output_type": "execute_result"
    }
   ],
   "source": [
    "combined_df.isna().sum()"
   ]
  },
  {
   "cell_type": "code",
   "execution_count": 12,
   "metadata": {},
   "outputs": [
    {
     "data": {
      "text/plain": [
       "dtype('int64')"
      ]
     },
     "execution_count": 12,
     "metadata": {},
     "output_type": "execute_result"
    }
   ],
   "source": [
    "combined_df['측정일시'].dtype"
   ]
  },
  {
   "cell_type": "code",
   "execution_count": 13,
   "metadata": {},
   "outputs": [],
   "source": [
    "combined_df = combined_df.drop(columns=['측정소명'])\n",
    "# 측정일시 별로 그룹화하여 평균 계산\n",
    "combined_df = combined_df.groupby('측정일시').mean()"
   ]
  },
  {
   "cell_type": "code",
   "execution_count": 14,
   "metadata": {},
   "outputs": [
    {
     "data": {
      "text/html": [
       "<div>\n",
       "<style scoped>\n",
       "    .dataframe tbody tr th:only-of-type {\n",
       "        vertical-align: middle;\n",
       "    }\n",
       "\n",
       "    .dataframe tbody tr th {\n",
       "        vertical-align: top;\n",
       "    }\n",
       "\n",
       "    .dataframe thead th {\n",
       "        text-align: right;\n",
       "    }\n",
       "</style>\n",
       "<table border=\"1\" class=\"dataframe\">\n",
       "  <thead>\n",
       "    <tr style=\"text-align: right;\">\n",
       "      <th></th>\n",
       "      <th>이산화질소</th>\n",
       "      <th>오존</th>\n",
       "      <th>일산화탄소</th>\n",
       "      <th>아황산</th>\n",
       "      <th>미세</th>\n",
       "      <th>초미세</th>\n",
       "    </tr>\n",
       "    <tr>\n",
       "      <th>측정일시</th>\n",
       "      <th></th>\n",
       "      <th></th>\n",
       "      <th></th>\n",
       "      <th></th>\n",
       "      <th></th>\n",
       "      <th></th>\n",
       "    </tr>\n",
       "  </thead>\n",
       "  <tbody>\n",
       "    <tr>\n",
       "      <th>20231207</th>\n",
       "      <td>0.026490</td>\n",
       "      <td>0.018395</td>\n",
       "      <td>0.49725</td>\n",
       "      <td>0.003295</td>\n",
       "      <td>62.150</td>\n",
       "      <td>16.500</td>\n",
       "    </tr>\n",
       "    <tr>\n",
       "      <th>20231208</th>\n",
       "      <td>0.028758</td>\n",
       "      <td>0.029960</td>\n",
       "      <td>0.55875</td>\n",
       "      <td>0.003090</td>\n",
       "      <td>84.225</td>\n",
       "      <td>22.775</td>\n",
       "    </tr>\n",
       "    <tr>\n",
       "      <th>20231209</th>\n",
       "      <td>0.026665</td>\n",
       "      <td>0.037893</td>\n",
       "      <td>0.61350</td>\n",
       "      <td>0.002857</td>\n",
       "      <td>72.275</td>\n",
       "      <td>30.700</td>\n",
       "    </tr>\n",
       "    <tr>\n",
       "      <th>20231210</th>\n",
       "      <td>0.025020</td>\n",
       "      <td>0.020890</td>\n",
       "      <td>0.67350</td>\n",
       "      <td>0.002902</td>\n",
       "      <td>80.225</td>\n",
       "      <td>35.575</td>\n",
       "    </tr>\n",
       "    <tr>\n",
       "      <th>20231211</th>\n",
       "      <td>0.014952</td>\n",
       "      <td>0.022665</td>\n",
       "      <td>0.39925</td>\n",
       "      <td>0.002390</td>\n",
       "      <td>7.225</td>\n",
       "      <td>3.025</td>\n",
       "    </tr>\n",
       "  </tbody>\n",
       "</table>\n",
       "</div>"
      ],
      "text/plain": [
       "             이산화질소        오존    일산화탄소       아황산      미세     초미세\n",
       "측정일시                                                           \n",
       "20231207  0.026490  0.018395  0.49725  0.003295  62.150  16.500\n",
       "20231208  0.028758  0.029960  0.55875  0.003090  84.225  22.775\n",
       "20231209  0.026665  0.037893  0.61350  0.002857  72.275  30.700\n",
       "20231210  0.025020  0.020890  0.67350  0.002902  80.225  35.575\n",
       "20231211  0.014952  0.022665  0.39925  0.002390   7.225   3.025"
      ]
     },
     "execution_count": 14,
     "metadata": {},
     "output_type": "execute_result"
    }
   ],
   "source": [
    "combined_df.tail()"
   ]
  },
  {
   "cell_type": "code",
   "execution_count": 15,
   "metadata": {},
   "outputs": [],
   "source": [
    "combined_df['이산화질소'] = combined_df['이산화질소'].round(3)\n",
    "combined_df['오존'] = combined_df['오존'].round(4)\n",
    "combined_df['일산화탄소'] = combined_df['일산화탄소'].round(2)\n",
    "combined_df['아황산'] = combined_df['아황산'].round(4)\n",
    "combined_df['미세'] = combined_df['미세'].round(1)\n",
    "combined_df['초미세'] = combined_df['초미세'].round(1)\n"
   ]
  },
  {
   "cell_type": "code",
   "execution_count": 16,
   "metadata": {},
   "outputs": [],
   "source": [
    "combined_df = combined_df.reset_index()"
   ]
  },
  {
   "cell_type": "code",
   "execution_count": 17,
   "metadata": {},
   "outputs": [],
   "source": [
    "combined_df.to_csv('data/nan/23년.csv', index=False)"
   ]
  },
  {
   "cell_type": "code",
   "execution_count": 18,
   "metadata": {},
   "outputs": [
    {
     "data": {
      "text/plain": [
       "측정일시     0\n",
       "이산화질소    0\n",
       "오존       0\n",
       "일산화탄소    0\n",
       "아황산      0\n",
       "미세       0\n",
       "초미세      0\n",
       "dtype: int64"
      ]
     },
     "execution_count": 18,
     "metadata": {},
     "output_type": "execute_result"
    }
   ],
   "source": [
    "combined_df.isna().sum()"
   ]
  },
  {
   "cell_type": "code",
   "execution_count": 22,
   "metadata": {},
   "outputs": [],
   "source": [
    "df11 = pd.read_csv('data/nan/일별대기오염합침.csv')\n",
    "df22 = pd.read_csv('data/nan/23년.csv')"
   ]
  },
  {
   "cell_type": "code",
   "execution_count": 23,
   "metadata": {},
   "outputs": [],
   "source": [
    "# 모든 데이터프레임을 리스트에 담기\n",
    "dataframes = [df11, df22]\n",
    "\n",
    "# concat 함수를 사용하여 모든 데이터프레임을 하나로 합치기\n",
    "combined_df = pd.concat(dataframes, ignore_index=True)"
   ]
  },
  {
   "cell_type": "code",
   "execution_count": 24,
   "metadata": {},
   "outputs": [
    {
     "data": {
      "text/html": [
       "<div>\n",
       "<style scoped>\n",
       "    .dataframe tbody tr th:only-of-type {\n",
       "        vertical-align: middle;\n",
       "    }\n",
       "\n",
       "    .dataframe tbody tr th {\n",
       "        vertical-align: top;\n",
       "    }\n",
       "\n",
       "    .dataframe thead th {\n",
       "        text-align: right;\n",
       "    }\n",
       "</style>\n",
       "<table border=\"1\" class=\"dataframe\">\n",
       "  <thead>\n",
       "    <tr style=\"text-align: right;\">\n",
       "      <th></th>\n",
       "      <th>측정일시</th>\n",
       "      <th>이산화질소</th>\n",
       "      <th>오존</th>\n",
       "      <th>일산화탄소</th>\n",
       "      <th>아황산</th>\n",
       "      <th>미세</th>\n",
       "      <th>초미세</th>\n",
       "    </tr>\n",
       "  </thead>\n",
       "  <tbody>\n",
       "    <tr>\n",
       "      <th>0</th>\n",
       "      <td>20120101</td>\n",
       "      <td>0.031</td>\n",
       "      <td>0.0080</td>\n",
       "      <td>1.17</td>\n",
       "      <td>0.0093</td>\n",
       "      <td>88.3</td>\n",
       "      <td>57.3</td>\n",
       "    </tr>\n",
       "    <tr>\n",
       "      <th>1</th>\n",
       "      <td>20120102</td>\n",
       "      <td>0.036</td>\n",
       "      <td>0.0050</td>\n",
       "      <td>1.20</td>\n",
       "      <td>0.0087</td>\n",
       "      <td>100.0</td>\n",
       "      <td>62.7</td>\n",
       "    </tr>\n",
       "    <tr>\n",
       "      <th>2</th>\n",
       "      <td>20120103</td>\n",
       "      <td>0.041</td>\n",
       "      <td>0.0063</td>\n",
       "      <td>1.27</td>\n",
       "      <td>0.0073</td>\n",
       "      <td>96.0</td>\n",
       "      <td>63.0</td>\n",
       "    </tr>\n",
       "    <tr>\n",
       "      <th>3</th>\n",
       "      <td>20120104</td>\n",
       "      <td>0.024</td>\n",
       "      <td>0.0130</td>\n",
       "      <td>0.83</td>\n",
       "      <td>0.0103</td>\n",
       "      <td>70.3</td>\n",
       "      <td>42.0</td>\n",
       "    </tr>\n",
       "    <tr>\n",
       "      <th>4</th>\n",
       "      <td>20120105</td>\n",
       "      <td>0.037</td>\n",
       "      <td>0.0073</td>\n",
       "      <td>0.77</td>\n",
       "      <td>0.0063</td>\n",
       "      <td>53.3</td>\n",
       "      <td>29.3</td>\n",
       "    </tr>\n",
       "  </tbody>\n",
       "</table>\n",
       "</div>"
      ],
      "text/plain": [
       "       측정일시  이산화질소      오존  일산화탄소     아황산     미세   초미세\n",
       "0  20120101  0.031  0.0080   1.17  0.0093   88.3  57.3\n",
       "1  20120102  0.036  0.0050   1.20  0.0087  100.0  62.7\n",
       "2  20120103  0.041  0.0063   1.27  0.0073   96.0  63.0\n",
       "3  20120104  0.024  0.0130   0.83  0.0103   70.3  42.0\n",
       "4  20120105  0.037  0.0073   0.77  0.0063   53.3  29.3"
      ]
     },
     "execution_count": 24,
     "metadata": {},
     "output_type": "execute_result"
    }
   ],
   "source": [
    "combined_df.head()"
   ]
  },
  {
   "cell_type": "code",
   "execution_count": 29,
   "metadata": {},
   "outputs": [
    {
     "data": {
      "text/html": [
       "<div>\n",
       "<style scoped>\n",
       "    .dataframe tbody tr th:only-of-type {\n",
       "        vertical-align: middle;\n",
       "    }\n",
       "\n",
       "    .dataframe tbody tr th {\n",
       "        vertical-align: top;\n",
       "    }\n",
       "\n",
       "    .dataframe thead th {\n",
       "        text-align: right;\n",
       "    }\n",
       "</style>\n",
       "<table border=\"1\" class=\"dataframe\">\n",
       "  <thead>\n",
       "    <tr style=\"text-align: right;\">\n",
       "      <th></th>\n",
       "      <th>측정일시</th>\n",
       "      <th>이산화질소</th>\n",
       "      <th>오존</th>\n",
       "      <th>일산화탄소</th>\n",
       "      <th>아황산</th>\n",
       "      <th>미세</th>\n",
       "      <th>초미세</th>\n",
       "    </tr>\n",
       "  </thead>\n",
       "  <tbody>\n",
       "    <tr>\n",
       "      <th>4299</th>\n",
       "      <td>20231207</td>\n",
       "      <td>0.026</td>\n",
       "      <td>0.0184</td>\n",
       "      <td>0.50</td>\n",
       "      <td>0.0033</td>\n",
       "      <td>62.2</td>\n",
       "      <td>16.5</td>\n",
       "    </tr>\n",
       "    <tr>\n",
       "      <th>4300</th>\n",
       "      <td>20231208</td>\n",
       "      <td>0.029</td>\n",
       "      <td>0.0300</td>\n",
       "      <td>0.56</td>\n",
       "      <td>0.0031</td>\n",
       "      <td>84.2</td>\n",
       "      <td>22.8</td>\n",
       "    </tr>\n",
       "    <tr>\n",
       "      <th>4301</th>\n",
       "      <td>20231209</td>\n",
       "      <td>0.027</td>\n",
       "      <td>0.0379</td>\n",
       "      <td>0.61</td>\n",
       "      <td>0.0029</td>\n",
       "      <td>72.3</td>\n",
       "      <td>30.7</td>\n",
       "    </tr>\n",
       "    <tr>\n",
       "      <th>4302</th>\n",
       "      <td>20231210</td>\n",
       "      <td>0.025</td>\n",
       "      <td>0.0209</td>\n",
       "      <td>0.67</td>\n",
       "      <td>0.0029</td>\n",
       "      <td>80.2</td>\n",
       "      <td>35.6</td>\n",
       "    </tr>\n",
       "    <tr>\n",
       "      <th>4303</th>\n",
       "      <td>20231211</td>\n",
       "      <td>0.015</td>\n",
       "      <td>0.0227</td>\n",
       "      <td>0.40</td>\n",
       "      <td>0.0024</td>\n",
       "      <td>7.2</td>\n",
       "      <td>3.0</td>\n",
       "    </tr>\n",
       "  </tbody>\n",
       "</table>\n",
       "</div>"
      ],
      "text/plain": [
       "          측정일시  이산화질소      오존  일산화탄소     아황산    미세   초미세\n",
       "4299  20231207  0.026  0.0184   0.50  0.0033  62.2  16.5\n",
       "4300  20231208  0.029  0.0300   0.56  0.0031  84.2  22.8\n",
       "4301  20231209  0.027  0.0379   0.61  0.0029  72.3  30.7\n",
       "4302  20231210  0.025  0.0209   0.67  0.0029  80.2  35.6\n",
       "4303  20231211  0.015  0.0227   0.40  0.0024   7.2   3.0"
      ]
     },
     "execution_count": 29,
     "metadata": {},
     "output_type": "execute_result"
    }
   ],
   "source": [
    "combined_df.tail()"
   ]
  },
  {
   "cell_type": "code",
   "execution_count": 30,
   "metadata": {},
   "outputs": [
    {
     "data": {
      "text/plain": [
       "측정일시     0\n",
       "이산화질소    0\n",
       "오존       0\n",
       "일산화탄소    0\n",
       "아황산      0\n",
       "미세       0\n",
       "초미세      0\n",
       "dtype: int64"
      ]
     },
     "execution_count": 30,
     "metadata": {},
     "output_type": "execute_result"
    }
   ],
   "source": [
    "combined_df.isna().sum()"
   ]
  },
  {
   "cell_type": "code",
   "execution_count": 31,
   "metadata": {},
   "outputs": [],
   "source": [
    "combined_df.to_csv('data/nan/12-23대기오염nan처리.csv',index=False)"
   ]
  },
  {
   "cell_type": "code",
   "execution_count": null,
   "metadata": {},
   "outputs": [],
   "source": []
  }
 ],
 "metadata": {
  "kernelspec": {
   "display_name": "base",
   "language": "python",
   "name": "python3"
  },
  "language_info": {
   "codemirror_mode": {
    "name": "ipython",
    "version": 3
   },
   "file_extension": ".py",
   "mimetype": "text/x-python",
   "name": "python",
   "nbconvert_exporter": "python",
   "pygments_lexer": "ipython3",
   "version": "3.11.4"
  }
 },
 "nbformat": 4,
 "nbformat_minor": 2
}
