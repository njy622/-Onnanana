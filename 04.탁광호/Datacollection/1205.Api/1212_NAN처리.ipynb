{
 "cells": [
  {
   "cell_type": "code",
   "execution_count": 1,
   "metadata": {},
   "outputs": [],
   "source": [
    "import pandas as pd"
   ]
  },
  {
   "cell_type": "code",
   "execution_count": 3,
   "metadata": {},
   "outputs": [],
   "source": [
    "df = pd.read_csv('data/일별평균대기오염도_2018.csv' , encoding='euc-kr')"
   ]
  },
  {
   "cell_type": "code",
   "execution_count": 7,
   "metadata": {},
   "outputs": [
    {
     "data": {
      "text/plain": [
       "측정일시       0\n",
       "측정소명       0\n",
       "이산화질소    251\n",
       "오존       267\n",
       "일산화탄소    341\n",
       "아황산      271\n",
       "미세       430\n",
       "초미세      422\n",
       "dtype: int64"
      ]
     },
     "execution_count": 7,
     "metadata": {},
     "output_type": "execute_result"
    }
   ],
   "source": [
    "df.isna().sum()"
   ]
  },
  {
   "cell_type": "code",
   "execution_count": 6,
   "metadata": {},
   "outputs": [],
   "source": [
    "# 데이터프레임의 열 이름 변경\n",
    "df.columns = ['측정일시','측정소명', '이산화질소', '오존', '일산화탄소', '아황산', '미세', '초미세']\n"
   ]
  },
  {
   "cell_type": "code",
   "execution_count": 8,
   "metadata": {},
   "outputs": [],
   "source": [
    "# NaN 값을 포함하는 행만 선택\n",
    "df_with_nan = df[df.isnull().any(axis=1)]"
   ]
  },
  {
   "cell_type": "code",
   "execution_count": 13,
   "metadata": {},
   "outputs": [],
   "source": [
    "df_with_nan.to_csv('data/nan/2018nan대기오염.csv', index=False)"
   ]
  },
  {
   "cell_type": "code",
   "execution_count": 15,
   "metadata": {},
   "outputs": [
    {
     "data": {
      "text/plain": [
       "영등포로    79\n",
       "신촌로     73\n",
       "천호대로    70\n",
       "관악산     61\n",
       "궁동      43\n",
       "서대문구    35\n",
       "청계천로    34\n",
       "화랑로     33\n",
       "광진구     27\n",
       "송파구     15\n",
       "용산구     15\n",
       "도봉구     13\n",
       "강동구     12\n",
       "서초구     11\n",
       "구로구     10\n",
       "관악구     10\n",
       "마포구      9\n",
       "강남대로     7\n",
       "정릉로      6\n",
       "중랑구      5\n",
       "성동구      5\n",
       "동작대로     4\n",
       "강변북로     3\n",
       "동작구      2\n",
       "노원구      2\n",
       "종로       2\n",
       "강서구      1\n",
       "영등포구     1\n",
       "성북구      1\n",
       "양천구      1\n",
       "종로구      1\n",
       "Name: 측정소명, dtype: int64"
      ]
     },
     "execution_count": 15,
     "metadata": {},
     "output_type": "execute_result"
    }
   ],
   "source": [
    "df_with_nan['측정소명'].value_counts()"
   ]
  },
  {
   "cell_type": "code",
   "execution_count": 16,
   "metadata": {},
   "outputs": [],
   "source": [
    "# NaN 값을 포함하지 않는 행만 선택\n",
    "df_without_nan = df.dropna()"
   ]
  },
  {
   "cell_type": "code",
   "execution_count": 17,
   "metadata": {},
   "outputs": [
    {
     "data": {
      "text/plain": [
       "강남구     365\n",
       "강북구     365\n",
       "공항대로    365\n",
       "홍릉로     365\n",
       "한강대로    365\n",
       "중구      365\n",
       "금천구     365\n",
       "은평구     365\n",
       "도산대로    365\n",
       "동대문구    365\n",
       "성북구     364\n",
       "강서구     364\n",
       "종로구     364\n",
       "영등포구    364\n",
       "양천구     364\n",
       "종로      363\n",
       "동작구     363\n",
       "노원구     363\n",
       "강변북로    362\n",
       "동작대로    361\n",
       "성동구     360\n",
       "중랑구     360\n",
       "정릉로     359\n",
       "강남대로    358\n",
       "마포구     356\n",
       "구로구     355\n",
       "관악구     355\n",
       "서초구     354\n",
       "강동구     353\n",
       "도봉구     352\n",
       "용산구     350\n",
       "송파구     350\n",
       "광진구     338\n",
       "화랑로     332\n",
       "청계천로    331\n",
       "서대문구    330\n",
       "천호대로    295\n",
       "신촌로     292\n",
       "영등포로    286\n",
       "남산       61\n",
       "북한산      61\n",
       "세곡       61\n",
       "행주       61\n",
       "시흥대로     36\n",
       "궁동       18\n",
       "Name: 측정소명, dtype: int64"
      ]
     },
     "execution_count": 17,
     "metadata": {},
     "output_type": "execute_result"
    }
   ],
   "source": [
    "df_without_nan['측정소명'].value_counts()"
   ]
  },
  {
   "cell_type": "code",
   "execution_count": 18,
   "metadata": {},
   "outputs": [
    {
     "data": {
      "text/plain": [
       "측정일시     0\n",
       "측정소명     0\n",
       "이산화질소    0\n",
       "오존       0\n",
       "일산화탄소    0\n",
       "아황산      0\n",
       "미세       0\n",
       "초미세      0\n",
       "dtype: int64"
      ]
     },
     "execution_count": 18,
     "metadata": {},
     "output_type": "execute_result"
    }
   ],
   "source": [
    "df_without_nan.isna().sum()"
   ]
  },
  {
   "cell_type": "code",
   "execution_count": null,
   "metadata": {},
   "outputs": [],
   "source": []
  }
 ],
 "metadata": {
  "kernelspec": {
   "display_name": "base",
   "language": "python",
   "name": "python3"
  },
  "language_info": {
   "codemirror_mode": {
    "name": "ipython",
    "version": 3
   },
   "file_extension": ".py",
   "mimetype": "text/x-python",
   "name": "python",
   "nbconvert_exporter": "python",
   "pygments_lexer": "ipython3",
   "version": "3.11.4"
  }
 },
 "nbformat": 4,
 "nbformat_minor": 2
}
