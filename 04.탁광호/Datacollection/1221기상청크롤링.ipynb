{
 "cells": [
  {
   "cell_type": "markdown",
   "metadata": {},
   "source": [
    "## Youtubu Ranking"
   ]
  },
  {
   "cell_type": "code",
   "execution_count": 1,
   "metadata": {},
   "outputs": [],
   "source": [
    "import requests, time\n",
    "import pandas as pd\n",
    "from bs4 import BeautifulSoup\n",
    "from selenium import webdriver"
   ]
  },
  {
   "cell_type": "markdown",
   "metadata": {},
   "source": [
    "- Step 1, 2"
   ]
  },
  {
   "cell_type": "code",
   "execution_count": 2,
   "metadata": {},
   "outputs": [],
   "source": [
    "url1 = 'https://www.airkorea.or.kr/web/dustForecast?pMENU_NO=113'\n",
    "res = requests.get(url1)\n",
    "soup = BeautifulSoup(res.text, 'html.parser')"
   ]
  },
  {
   "cell_type": "code",
   "execution_count": 3,
   "metadata": {},
   "outputs": [],
   "source": [
    "driver = webdriver.Chrome()\n",
    "driver.get(url1)"
   ]
  },
  {
   "cell_type": "code",
   "execution_count": 4,
   "metadata": {},
   "outputs": [],
   "source": [
    "soup = BeautifulSoup(driver.page_source, 'html.parser')"
   ]
  },
  {
   "cell_type": "code",
   "execution_count": 10,
   "metadata": {},
   "outputs": [],
   "source": [
    "from selenium import webdriver\n",
    "from selenium.webdriver.chrome.service import Service\n",
    "from webdriver_manager.chrome import ChromeDriverManager\n",
    "from selenium.webdriver.common.by import By\n",
    "\n",
    "# 웹드라이버 초기화 및 웹사이트 접속\n",
    "driver = webdriver.Chrome(service=Service(ChromeDriverManager().install()))\n",
    "url = 'https://www.airkorea.or.kr/web/dustForecast?pMENU_NO=113'\n",
    "driver.get(url)"
   ]
  },
  {
   "cell_type": "code",
   "execution_count": 15,
   "metadata": {},
   "outputs": [
    {
     "name": "stdout",
     "output_type": "stream",
     "text": [
      "좋음 좋음 좋음 좋음\n"
     ]
    }
   ],
   "source": [
    "# 원하는 요소 찾기\n",
    "element = driver.find_element(By.XPATH, '//*[@id=\"lnb\"]/div[2]/div/div[4]/div[2]/div/table/tbody/tr[2]/td[1]')\n",
    "element2 = driver.find_element(By.XPATH, '//*[@id=\"lnb\"]/div[2]/div/div[4]/div[2]/div/table/tbody/tr[3]/td[1]')\n",
    "element3 = driver.find_element(By.XPATH, '//*[@id=\"lnb\"]/div[2]/div/div[3]/div[2]/div/table/tbody/tr[2]/td[1]')\n",
    "element4 = driver.find_element(By.XPATH, '//*[@id=\"lnb\"]/div[2]/div/div[3]/div[2]/div/table/tbody/tr[3]/td[1]')\n",
    "\n",
    "\n",
    "# 요소의 텍스트 추출\n",
    "tomorrow_cw_pm10 = element.text\n",
    "tomorrow_cw_pm25 = element2.text\n",
    "today_cw_pm10 = element3.text\n",
    "today_cw_pm25 = element4.text\n",
    "\n",
    "\n",
    "print(tomorrow_cw_pm10, tomorrow_cw_pm25, today_cw_pm10, today_cw_pm25)"
   ]
  },
  {
   "cell_type": "code",
   "execution_count": 16,
   "metadata": {},
   "outputs": [
    {
     "name": "stdout",
     "output_type": "stream",
     "text": [
      "좋음 좋음 좋음 좋음\n"
     ]
    }
   ],
   "source": [
    "print(tomorrow_cw_pm10, tomorrow_cw_pm25, today_cw_pm10, today_cw_pm25)"
   ]
  },
  {
   "cell_type": "code",
   "execution_count": 17,
   "metadata": {},
   "outputs": [
    {
     "name": "stderr",
     "output_type": "stream",
     "text": [
      "C:\\Users\\th\\AppData\\Local\\Temp\\ipykernel_30616\\3217754930.py:21: FutureWarning: The frame.append method is deprecated and will be removed from pandas in a future version. Use pandas.concat instead.\n",
      "  df = df.append(new_row, ignore_index=True)\n"
     ]
    }
   ],
   "source": [
    "import pandas as pd\n",
    "from datetime import datetime\n",
    "\n",
    "# 현재 날짜 가져오기\n",
    "current_date = datetime.now().date()\n",
    "\n",
    "# 새로운 행 생성\n",
    "new_row = {\n",
    "    '오늘날짜': current_date,\n",
    "    '내일미세10': tomorrow_cw_pm10,\n",
    "    '내일미세25': tomorrow_cw_pm25,\n",
    "    '오늘미세10': today_cw_pm10,\n",
    "    '오늘미세25': today_cw_pm25\n",
    "}\n",
    "\n",
    "# 기존 데이터 프레임 불러오기 (또는 새로 생성)\n",
    "# 예시 데이터 프레임 생성\n",
    "df = pd.DataFrame(columns=['오늘날짜', '내일미세10', '내일미세25', '오늘미세10', '오늘미세25'])\n",
    "\n",
    "# 새로운 행 추가\n",
    "df = df.append(new_row, ignore_index=True)"
   ]
  },
  {
   "cell_type": "code",
   "execution_count": 18,
   "metadata": {},
   "outputs": [
    {
     "data": {
      "text/html": [
       "<div>\n",
       "<style scoped>\n",
       "    .dataframe tbody tr th:only-of-type {\n",
       "        vertical-align: middle;\n",
       "    }\n",
       "\n",
       "    .dataframe tbody tr th {\n",
       "        vertical-align: top;\n",
       "    }\n",
       "\n",
       "    .dataframe thead th {\n",
       "        text-align: right;\n",
       "    }\n",
       "</style>\n",
       "<table border=\"1\" class=\"dataframe\">\n",
       "  <thead>\n",
       "    <tr style=\"text-align: right;\">\n",
       "      <th></th>\n",
       "      <th>오늘날짜</th>\n",
       "      <th>내일미세10</th>\n",
       "      <th>내일미세25</th>\n",
       "      <th>오늘미세10</th>\n",
       "      <th>오늘미세25</th>\n",
       "    </tr>\n",
       "  </thead>\n",
       "  <tbody>\n",
       "    <tr>\n",
       "      <th>0</th>\n",
       "      <td>2023-12-21</td>\n",
       "      <td>좋음</td>\n",
       "      <td>좋음</td>\n",
       "      <td>좋음</td>\n",
       "      <td>좋음</td>\n",
       "    </tr>\n",
       "  </tbody>\n",
       "</table>\n",
       "</div>"
      ],
      "text/plain": [
       "         오늘날짜 내일미세10 내일미세25 오늘미세10 오늘미세25\n",
       "0  2023-12-21     좋음     좋음     좋음     좋음"
      ]
     },
     "execution_count": 18,
     "metadata": {},
     "output_type": "execute_result"
    }
   ],
   "source": [
    "df.head()"
   ]
  },
  {
   "cell_type": "code",
   "execution_count": 20,
   "metadata": {},
   "outputs": [],
   "source": [
    "df.to_csv('data/크롤링미세먼지.csv', index=False)"
   ]
  },
  {
   "cell_type": "code",
   "execution_count": 26,
   "metadata": {},
   "outputs": [
    {
     "data": {
      "text/plain": [
       "20"
      ]
     },
     "execution_count": 26,
     "metadata": {},
     "output_type": "execute_result"
    }
   ],
   "source": [
    "news = soup.select('.land_news_list>li')\n",
    "len(news)"
   ]
  },
  {
   "cell_type": "code",
   "execution_count": 27,
   "metadata": {},
   "outputs": [],
   "source": [
    "news_list = news[0]"
   ]
  },
  {
   "cell_type": "code",
   "execution_count": 28,
   "metadata": {},
   "outputs": [
    {
     "data": {
      "text/plain": [
       "' 8300가구 이삿짐 쌌다…전세 매물 자취 감춘 이곳 [부동산360][르포]'"
      ]
     },
     "execution_count": 28,
     "metadata": {},
     "output_type": "execute_result"
    }
   ],
   "source": [
    "navernewstitle = news_list.select_one('.title').get_text()\n",
    "navernewstitle"
   ]
  },
  {
   "cell_type": "code",
   "execution_count": 29,
   "metadata": {},
   "outputs": [
    {
     "data": {
      "text/plain": [
       "'헤럴드경제'"
      ]
     },
     "execution_count": 29,
     "metadata": {},
     "output_type": "execute_result"
    }
   ],
   "source": [
    "publisher = news_list.select_one('.description.source').get_text()\n",
    "publisher"
   ]
  },
  {
   "cell_type": "code",
   "execution_count": 30,
   "metadata": {},
   "outputs": [
    {
     "data": {
      "text/plain": [
       "'https://n.news.naver.com/article/016/0002218786'"
      ]
     },
     "execution_count": 30,
     "metadata": {},
     "output_type": "execute_result"
    }
   ],
   "source": [
    "tag = news_list.select_one('a')['href']\n",
    "tag"
   ]
  },
  {
   "cell_type": "code",
   "execution_count": 32,
   "metadata": {},
   "outputs": [
    {
     "name": "stdout",
     "output_type": "stream",
     "text": [
      "뉴스 1:\n",
      "제목: 8300가구 이삿짐 쌌다…전세 매물 자취 감춘 이곳 [부동산360][르포]\n",
      "출판사: 헤럴드경제\n",
      "링크: https://n.news.naver.com/article/016/0002218786\n",
      "\n",
      "뉴스 2:\n",
      "제목: ‘실거주 의무 폐지’ 입법 하세월… 4만여가구 피마른다\n",
      "출판사: 조선일보\n",
      "링크: https://n.news.naver.com/article/023/0003796790\n",
      "\n",
      "뉴스 3:\n",
      "제목: ‘서울 편입론’에 김포 들썩? “총선용일 뿐…기대감 글쎄”[르포]\n",
      "출판사: 아시아경제\n",
      "링크: https://n.news.naver.com/article/277/0005334906\n",
      "\n",
      "뉴스 4:\n",
      "제목: “수억 대출금 이자 내다 결국 망했어요” 집 경매 눈덩이처럼 쌓인다 [부동산360]\n",
      "출판사: 헤럴드경제\n",
      "링크: https://n.news.naver.com/article/016/0002218497\n",
      "\n",
      "뉴스 5:\n",
      "제목: 재작년 7억 하던 아파트, 올해는 5억 ‘뚝’…서울도 “집 안팔려요”\n",
      "출판사: 매일경제\n",
      "링크: https://n.news.naver.com/article/009/0005208532\n",
      "\n"
     ]
    }
   ],
   "source": [
    "url = 'https://land.naver.com/news/headline.naver'\n",
    "driver = webdriver.Chrome()\n",
    "driver.get(url)\n",
    "\n",
    "soup = BeautifulSoup(driver.page_source, 'html.parser')\n",
    "news_items = soup.select('.land_news_list > li')[:5]\n",
    "\n",
    "for i, news_item in enumerate(news_items, start=1):\n",
    "    title = news_item.select_one('.title').get_text(strip=True)\n",
    "    publisher = news_item.select_one('.description.source').get_text(strip=True)\n",
    "    link = news_item.select_one('a')['href']\n",
    "    \n",
    "    print(f\"뉴스 {i}:\")\n",
    "    print(\"제목:\", title)\n",
    "    print(\"출판사:\", publisher)\n",
    "    print(\"링크:\", link)\n",
    "    print()\n",
    "\n"
   ]
  },
  {
   "cell_type": "code",
   "execution_count": null,
   "metadata": {},
   "outputs": [],
   "source": []
  }
 ],
 "metadata": {
  "kernelspec": {
   "display_name": "base",
   "language": "python",
   "name": "python3"
  },
  "language_info": {
   "codemirror_mode": {
    "name": "ipython",
    "version": 3
   },
   "file_extension": ".py",
   "mimetype": "text/x-python",
   "name": "python",
   "nbconvert_exporter": "python",
   "pygments_lexer": "ipython3",
   "version": "3.11.4"
  },
  "orig_nbformat": 4
 },
 "nbformat": 4,
 "nbformat_minor": 2
}
