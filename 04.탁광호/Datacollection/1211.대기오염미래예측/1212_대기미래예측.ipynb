{
 "cells": [
  {
   "cell_type": "code",
   "execution_count": 1,
   "metadata": {},
   "outputs": [],
   "source": [
    "import pandas as pd\n",
    "import warnings\n",
    "warnings.filterwarnings('ignore')"
   ]
  },
  {
   "cell_type": "code",
   "execution_count": 2,
   "metadata": {},
   "outputs": [],
   "source": [
    "df = pd.read_csv('data/12-23대기오염nan처리.csv')"
   ]
  },
  {
   "cell_type": "code",
   "execution_count": 3,
   "metadata": {},
   "outputs": [
    {
     "data": {
      "text/html": [
       "<div>\n",
       "<style scoped>\n",
       "    .dataframe tbody tr th:only-of-type {\n",
       "        vertical-align: middle;\n",
       "    }\n",
       "\n",
       "    .dataframe tbody tr th {\n",
       "        vertical-align: top;\n",
       "    }\n",
       "\n",
       "    .dataframe thead th {\n",
       "        text-align: right;\n",
       "    }\n",
       "</style>\n",
       "<table border=\"1\" class=\"dataframe\">\n",
       "  <thead>\n",
       "    <tr style=\"text-align: right;\">\n",
       "      <th></th>\n",
       "      <th>측정일시</th>\n",
       "      <th>이산화질소</th>\n",
       "      <th>오존</th>\n",
       "      <th>일산화탄소</th>\n",
       "      <th>아황산</th>\n",
       "      <th>미세</th>\n",
       "      <th>초미세</th>\n",
       "    </tr>\n",
       "  </thead>\n",
       "  <tbody>\n",
       "    <tr>\n",
       "      <th>0</th>\n",
       "      <td>20120101</td>\n",
       "      <td>0.031</td>\n",
       "      <td>0.008</td>\n",
       "      <td>1.17</td>\n",
       "      <td>0.0093</td>\n",
       "      <td>88.3</td>\n",
       "      <td>57.3</td>\n",
       "    </tr>\n",
       "  </tbody>\n",
       "</table>\n",
       "</div>"
      ],
      "text/plain": [
       "       측정일시  이산화질소     오존  일산화탄소     아황산    미세   초미세\n",
       "0  20120101  0.031  0.008   1.17  0.0093  88.3  57.3"
      ]
     },
     "execution_count": 3,
     "metadata": {},
     "output_type": "execute_result"
    }
   ],
   "source": [
    "df.head(1)"
   ]
  },
  {
   "cell_type": "code",
   "execution_count": 4,
   "metadata": {},
   "outputs": [
    {
     "data": {
      "text/html": [
       "<div>\n",
       "<style scoped>\n",
       "    .dataframe tbody tr th:only-of-type {\n",
       "        vertical-align: middle;\n",
       "    }\n",
       "\n",
       "    .dataframe tbody tr th {\n",
       "        vertical-align: top;\n",
       "    }\n",
       "\n",
       "    .dataframe thead th {\n",
       "        text-align: right;\n",
       "    }\n",
       "</style>\n",
       "<table border=\"1\" class=\"dataframe\">\n",
       "  <thead>\n",
       "    <tr style=\"text-align: right;\">\n",
       "      <th></th>\n",
       "      <th>측정일시</th>\n",
       "      <th>이산화질소</th>\n",
       "      <th>오존</th>\n",
       "      <th>일산화탄소</th>\n",
       "      <th>아황산</th>\n",
       "      <th>미세</th>\n",
       "      <th>초미세</th>\n",
       "    </tr>\n",
       "  </thead>\n",
       "  <tbody>\n",
       "    <tr>\n",
       "      <th>4303</th>\n",
       "      <td>20231211</td>\n",
       "      <td>0.015</td>\n",
       "      <td>0.0227</td>\n",
       "      <td>0.4</td>\n",
       "      <td>0.0024</td>\n",
       "      <td>7.2</td>\n",
       "      <td>3.0</td>\n",
       "    </tr>\n",
       "  </tbody>\n",
       "</table>\n",
       "</div>"
      ],
      "text/plain": [
       "          측정일시  이산화질소      오존  일산화탄소     아황산   미세  초미세\n",
       "4303  20231211  0.015  0.0227    0.4  0.0024  7.2  3.0"
      ]
     },
     "execution_count": 4,
     "metadata": {},
     "output_type": "execute_result"
    }
   ],
   "source": [
    "df.tail(1)"
   ]
  },
  {
   "cell_type": "code",
   "execution_count": 5,
   "metadata": {},
   "outputs": [],
   "source": [
    "df['측정일시'] = pd.to_datetime(df['측정일시'], format='%Y%m%d')"
   ]
  },
  {
   "cell_type": "code",
   "execution_count": 6,
   "metadata": {},
   "outputs": [
    {
     "data": {
      "text/html": [
       "<div>\n",
       "<style scoped>\n",
       "    .dataframe tbody tr th:only-of-type {\n",
       "        vertical-align: middle;\n",
       "    }\n",
       "\n",
       "    .dataframe tbody tr th {\n",
       "        vertical-align: top;\n",
       "    }\n",
       "\n",
       "    .dataframe thead th {\n",
       "        text-align: right;\n",
       "    }\n",
       "</style>\n",
       "<table border=\"1\" class=\"dataframe\">\n",
       "  <thead>\n",
       "    <tr style=\"text-align: right;\">\n",
       "      <th></th>\n",
       "      <th>측정일시</th>\n",
       "      <th>이산화질소</th>\n",
       "      <th>오존</th>\n",
       "      <th>일산화탄소</th>\n",
       "      <th>아황산</th>\n",
       "      <th>미세</th>\n",
       "      <th>초미세</th>\n",
       "    </tr>\n",
       "  </thead>\n",
       "  <tbody>\n",
       "    <tr>\n",
       "      <th>0</th>\n",
       "      <td>2012-01-01</td>\n",
       "      <td>0.031</td>\n",
       "      <td>0.008</td>\n",
       "      <td>1.17</td>\n",
       "      <td>0.0093</td>\n",
       "      <td>88.3</td>\n",
       "      <td>57.3</td>\n",
       "    </tr>\n",
       "  </tbody>\n",
       "</table>\n",
       "</div>"
      ],
      "text/plain": [
       "        측정일시  이산화질소     오존  일산화탄소     아황산    미세   초미세\n",
       "0 2012-01-01  0.031  0.008   1.17  0.0093  88.3  57.3"
      ]
     },
     "execution_count": 6,
     "metadata": {},
     "output_type": "execute_result"
    }
   ],
   "source": [
    "df.head(1)"
   ]
  },
  {
   "cell_type": "code",
   "execution_count": 7,
   "metadata": {},
   "outputs": [],
   "source": [
    "df = df.set_index('측정일시')"
   ]
  },
  {
   "cell_type": "code",
   "execution_count": 8,
   "metadata": {},
   "outputs": [
    {
     "data": {
      "text/plain": [
       "DatetimeIndex(['2012-01-01', '2012-01-02', '2012-01-03', '2012-01-04',\n",
       "               '2012-01-05', '2012-01-06', '2012-01-07', '2012-01-08',\n",
       "               '2012-01-09', '2012-01-10',\n",
       "               ...\n",
       "               '2023-12-02', '2023-12-03', '2023-12-04', '2023-12-05',\n",
       "               '2023-12-06', '2023-12-07', '2023-12-08', '2023-12-09',\n",
       "               '2023-12-10', '2023-12-11'],\n",
       "              dtype='datetime64[ns]', name='측정일시', length=4304, freq=None)"
      ]
     },
     "execution_count": 8,
     "metadata": {},
     "output_type": "execute_result"
    }
   ],
   "source": [
    "df.index"
   ]
  },
  {
   "cell_type": "code",
   "execution_count": 9,
   "metadata": {},
   "outputs": [
    {
     "data": {
      "text/plain": [
       "이산화질소    0\n",
       "오존       0\n",
       "일산화탄소    0\n",
       "아황산      0\n",
       "미세       0\n",
       "초미세      0\n",
       "dtype: int64"
      ]
     },
     "execution_count": 9,
     "metadata": {},
     "output_type": "execute_result"
    }
   ],
   "source": [
    "df.isna().sum()"
   ]
  },
  {
   "cell_type": "code",
   "execution_count": 10,
   "metadata": {},
   "outputs": [
    {
     "data": {
      "text/html": [
       "<div>\n",
       "<style scoped>\n",
       "    .dataframe tbody tr th:only-of-type {\n",
       "        vertical-align: middle;\n",
       "    }\n",
       "\n",
       "    .dataframe tbody tr th {\n",
       "        vertical-align: top;\n",
       "    }\n",
       "\n",
       "    .dataframe thead th {\n",
       "        text-align: right;\n",
       "    }\n",
       "</style>\n",
       "<table border=\"1\" class=\"dataframe\">\n",
       "  <thead>\n",
       "    <tr style=\"text-align: right;\">\n",
       "      <th></th>\n",
       "      <th>이산화질소</th>\n",
       "      <th>오존</th>\n",
       "      <th>일산화탄소</th>\n",
       "      <th>아황산</th>\n",
       "      <th>미세</th>\n",
       "      <th>초미세</th>\n",
       "    </tr>\n",
       "    <tr>\n",
       "      <th>측정일시</th>\n",
       "      <th></th>\n",
       "      <th></th>\n",
       "      <th></th>\n",
       "      <th></th>\n",
       "      <th></th>\n",
       "      <th></th>\n",
       "    </tr>\n",
       "  </thead>\n",
       "  <tbody>\n",
       "    <tr>\n",
       "      <th>2012-01-01</th>\n",
       "      <td>0.031</td>\n",
       "      <td>0.0080</td>\n",
       "      <td>1.17</td>\n",
       "      <td>0.0093</td>\n",
       "      <td>88.3</td>\n",
       "      <td>57.3</td>\n",
       "    </tr>\n",
       "    <tr>\n",
       "      <th>2012-01-02</th>\n",
       "      <td>0.036</td>\n",
       "      <td>0.0050</td>\n",
       "      <td>1.20</td>\n",
       "      <td>0.0087</td>\n",
       "      <td>100.0</td>\n",
       "      <td>62.7</td>\n",
       "    </tr>\n",
       "    <tr>\n",
       "      <th>2012-01-03</th>\n",
       "      <td>0.041</td>\n",
       "      <td>0.0063</td>\n",
       "      <td>1.27</td>\n",
       "      <td>0.0073</td>\n",
       "      <td>96.0</td>\n",
       "      <td>63.0</td>\n",
       "    </tr>\n",
       "    <tr>\n",
       "      <th>2012-01-04</th>\n",
       "      <td>0.024</td>\n",
       "      <td>0.0130</td>\n",
       "      <td>0.83</td>\n",
       "      <td>0.0103</td>\n",
       "      <td>70.3</td>\n",
       "      <td>42.0</td>\n",
       "    </tr>\n",
       "    <tr>\n",
       "      <th>2012-01-05</th>\n",
       "      <td>0.037</td>\n",
       "      <td>0.0073</td>\n",
       "      <td>0.77</td>\n",
       "      <td>0.0063</td>\n",
       "      <td>53.3</td>\n",
       "      <td>29.3</td>\n",
       "    </tr>\n",
       "    <tr>\n",
       "      <th>...</th>\n",
       "      <td>...</td>\n",
       "      <td>...</td>\n",
       "      <td>...</td>\n",
       "      <td>...</td>\n",
       "      <td>...</td>\n",
       "      <td>...</td>\n",
       "    </tr>\n",
       "    <tr>\n",
       "      <th>2023-12-07</th>\n",
       "      <td>0.026</td>\n",
       "      <td>0.0184</td>\n",
       "      <td>0.50</td>\n",
       "      <td>0.0033</td>\n",
       "      <td>62.2</td>\n",
       "      <td>16.5</td>\n",
       "    </tr>\n",
       "    <tr>\n",
       "      <th>2023-12-08</th>\n",
       "      <td>0.029</td>\n",
       "      <td>0.0300</td>\n",
       "      <td>0.56</td>\n",
       "      <td>0.0031</td>\n",
       "      <td>84.2</td>\n",
       "      <td>22.8</td>\n",
       "    </tr>\n",
       "    <tr>\n",
       "      <th>2023-12-09</th>\n",
       "      <td>0.027</td>\n",
       "      <td>0.0379</td>\n",
       "      <td>0.61</td>\n",
       "      <td>0.0029</td>\n",
       "      <td>72.3</td>\n",
       "      <td>30.7</td>\n",
       "    </tr>\n",
       "    <tr>\n",
       "      <th>2023-12-10</th>\n",
       "      <td>0.025</td>\n",
       "      <td>0.0209</td>\n",
       "      <td>0.67</td>\n",
       "      <td>0.0029</td>\n",
       "      <td>80.2</td>\n",
       "      <td>35.6</td>\n",
       "    </tr>\n",
       "    <tr>\n",
       "      <th>2023-12-11</th>\n",
       "      <td>0.015</td>\n",
       "      <td>0.0227</td>\n",
       "      <td>0.40</td>\n",
       "      <td>0.0024</td>\n",
       "      <td>7.2</td>\n",
       "      <td>3.0</td>\n",
       "    </tr>\n",
       "  </tbody>\n",
       "</table>\n",
       "<p>4304 rows × 6 columns</p>\n",
       "</div>"
      ],
      "text/plain": [
       "            이산화질소      오존  일산화탄소     아황산     미세   초미세\n",
       "측정일시                                                 \n",
       "2012-01-01  0.031  0.0080   1.17  0.0093   88.3  57.3\n",
       "2012-01-02  0.036  0.0050   1.20  0.0087  100.0  62.7\n",
       "2012-01-03  0.041  0.0063   1.27  0.0073   96.0  63.0\n",
       "2012-01-04  0.024  0.0130   0.83  0.0103   70.3  42.0\n",
       "2012-01-05  0.037  0.0073   0.77  0.0063   53.3  29.3\n",
       "...           ...     ...    ...     ...    ...   ...\n",
       "2023-12-07  0.026  0.0184   0.50  0.0033   62.2  16.5\n",
       "2023-12-08  0.029  0.0300   0.56  0.0031   84.2  22.8\n",
       "2023-12-09  0.027  0.0379   0.61  0.0029   72.3  30.7\n",
       "2023-12-10  0.025  0.0209   0.67  0.0029   80.2  35.6\n",
       "2023-12-11  0.015  0.0227   0.40  0.0024    7.2   3.0\n",
       "\n",
       "[4304 rows x 6 columns]"
      ]
     },
     "execution_count": 10,
     "metadata": {},
     "output_type": "execute_result"
    }
   ],
   "source": [
    "df"
   ]
  },
  {
   "cell_type": "code",
   "execution_count": null,
   "metadata": {},
   "outputs": [
    {
     "data": {
      "text/html": [
       "<div>\n",
       "<style scoped>\n",
       "    .dataframe tbody tr th:only-of-type {\n",
       "        vertical-align: middle;\n",
       "    }\n",
       "\n",
       "    .dataframe tbody tr th {\n",
       "        vertical-align: top;\n",
       "    }\n",
       "\n",
       "    .dataframe thead th {\n",
       "        text-align: right;\n",
       "    }\n",
       "</style>\n",
       "<table border=\"1\" class=\"dataframe\">\n",
       "  <thead>\n",
       "    <tr style=\"text-align: right;\">\n",
       "      <th></th>\n",
       "      <th>이산화질소</th>\n",
       "      <th>오존</th>\n",
       "      <th>일산화탄소</th>\n",
       "      <th>아황산</th>\n",
       "      <th>미세</th>\n",
       "      <th>초미세</th>\n",
       "    </tr>\n",
       "    <tr>\n",
       "      <th>측정일시</th>\n",
       "      <th></th>\n",
       "      <th></th>\n",
       "      <th></th>\n",
       "      <th></th>\n",
       "      <th></th>\n",
       "      <th></th>\n",
       "    </tr>\n",
       "  </thead>\n",
       "  <tbody>\n",
       "    <tr>\n",
       "      <th>2012-01-01</th>\n",
       "      <td>0.036</td>\n",
       "      <td>0.009</td>\n",
       "      <td>1.0</td>\n",
       "      <td>0.01</td>\n",
       "      <td>83.0</td>\n",
       "      <td>57.0</td>\n",
       "    </tr>\n",
       "  </tbody>\n",
       "</table>\n",
       "</div>"
      ],
      "text/plain": [
       "            이산화질소     오존  일산화탄소   아황산    미세   초미세\n",
       "측정일시                                             \n",
       "2012-01-01  0.036  0.009    1.0  0.01  83.0  57.0"
      ]
     },
     "execution_count": 15,
     "metadata": {},
     "output_type": "execute_result"
    }
   ],
   "source": [
    "df.head(1)"
   ]
  },
  {
   "cell_type": "code",
   "execution_count": null,
   "metadata": {},
   "outputs": [
    {
     "data": {
      "text/plain": [
       "Index(['Unnamed: 0', '이산화질소', '오존', '일산화탄소', '아황산', '미세', '초미세'], dtype='object')"
      ]
     },
     "execution_count": 28,
     "metadata": {},
     "output_type": "execute_result"
    }
   ],
   "source": [
    "df.columns"
   ]
  },
  {
   "cell_type": "code",
   "execution_count": 21,
   "metadata": {},
   "outputs": [],
   "source": [
    "import numpy as np\n",
    "import pandas as pd\n",
    "from sklearn.preprocessing import MinMaxScaler\n",
    "from tensorflow.keras.models import Sequential\n",
    "from tensorflow.keras.layers import LSTM, Dense\n",
    "from tensorflow.keras.optimizers import Adam\n",
    "from sklearn.preprocessing import StandardScaler\n",
    "import matplotlib.pyplot as plt\n",
    "from keras.preprocessing.sequence import TimeseriesGenerator"
   ]
  },
  {
   "cell_type": "code",
   "execution_count": 27,
   "metadata": {},
   "outputs": [
    {
     "data": {
      "text/plain": [
       "Index(['이산화질소', '오존', '일산화탄소', '아황산', '미세', '초미세'], dtype='object')"
      ]
     },
     "execution_count": 27,
     "metadata": {},
     "output_type": "execute_result"
    }
   ],
   "source": [
    "df.columns"
   ]
  },
  {
   "cell_type": "code",
   "execution_count": 45,
   "metadata": {},
   "outputs": [],
   "source": [
    "from sklearn.preprocessing import MinMaxScaler\n",
    "\n",
    "# 피쳐 및 타겟 분리\n",
    "features = df[['이산화질소', '오존', '일산화탄소', '아황산', '초미세']]\n",
    "target = df['미세']\n",
    "\n",
    "# 피쳐 스케일링\n",
    "scaler_features = MinMaxScaler()\n",
    "features_scaled = scaler_features.fit_transform(features)\n",
    "\n",
    "# 타겟 스케일링\n",
    "scaler_target = MinMaxScaler()\n",
    "target_scaled = scaler_target.fit_transform(target.values.reshape(-1, 1))\n"
   ]
  },
  {
   "cell_type": "code",
   "execution_count": 46,
   "metadata": {},
   "outputs": [],
   "source": [
    "from keras.preprocessing.sequence import TimeseriesGenerator\n",
    "\n",
    "n_input = 30\n",
    "n_features = features.shape[1]\n",
    "generator = TimeseriesGenerator(features_scaled, target_scaled, length=n_input, batch_size=1)\n"
   ]
  },
  {
   "cell_type": "code",
   "execution_count": 47,
   "metadata": {},
   "outputs": [],
   "source": [
    "from keras.models import Sequential\n",
    "from keras.layers import LSTM, Dense\n",
    "from keras.callbacks import EarlyStopping\n",
    "\n",
    "# LSTM 모델 구축\n",
    "model = Sequential()\n",
    "model.add(LSTM(50, activation='relu', input_shape=(n_input, n_features)))\n",
    "model.add(Dense(1))\n",
    "model.compile(optimizer='adam', loss='mse')\n",
    "\n",
    "# EarlyStopping 콜백 설정 조기종료\n",
    "early_stopping = EarlyStopping(monitor='loss', patience=10)\n"
   ]
  },
  {
   "cell_type": "code",
   "execution_count": 48,
   "metadata": {},
   "outputs": [
    {
     "name": "stdout",
     "output_type": "stream",
     "text": [
      "Epoch 1/100\n"
     ]
    },
    {
     "name": "stdout",
     "output_type": "stream",
     "text": [
      "4274/4274 [==============================] - 30s 7ms/step - loss: 0.0019\n",
      "Epoch 2/100\n",
      "4274/4274 [==============================] - 29s 7ms/step - loss: 0.0016\n",
      "Epoch 3/100\n",
      "4274/4274 [==============================] - 29s 7ms/step - loss: 0.0016\n",
      "Epoch 4/100\n",
      "4274/4274 [==============================] - 29s 7ms/step - loss: 0.0016\n",
      "Epoch 5/100\n",
      "4274/4274 [==============================] - 29s 7ms/step - loss: 0.0016\n",
      "Epoch 6/100\n",
      "4274/4274 [==============================] - 30s 7ms/step - loss: 0.0016\n",
      "Epoch 7/100\n",
      "4274/4274 [==============================] - 30s 7ms/step - loss: 0.0016\n",
      "Epoch 8/100\n",
      "4274/4274 [==============================] - 29s 7ms/step - loss: 0.0015\n",
      "Epoch 9/100\n",
      "4274/4274 [==============================] - 29s 7ms/step - loss: 0.0015\n",
      "Epoch 10/100\n",
      "4274/4274 [==============================] - 29s 7ms/step - loss: 0.0015\n",
      "Epoch 11/100\n",
      "4274/4274 [==============================] - 29s 7ms/step - loss: 0.0015\n",
      "Epoch 12/100\n",
      "4274/4274 [==============================] - 29s 7ms/step - loss: 0.0015\n",
      "Epoch 13/100\n",
      "4274/4274 [==============================] - 29s 7ms/step - loss: 0.0015\n",
      "Epoch 14/100\n",
      "4274/4274 [==============================] - 29s 7ms/step - loss: 0.0015\n",
      "Epoch 15/100\n",
      "4274/4274 [==============================] - 30s 7ms/step - loss: 0.0015\n",
      "Epoch 16/100\n",
      "4274/4274 [==============================] - 29s 7ms/step - loss: 0.0015\n",
      "Epoch 17/100\n",
      "4274/4274 [==============================] - 29s 7ms/step - loss: 0.0015\n",
      "Epoch 18/100\n",
      "4274/4274 [==============================] - 29s 7ms/step - loss: 0.0015\n",
      "Epoch 19/100\n",
      "4274/4274 [==============================] - 29s 7ms/step - loss: 0.0015\n",
      "Epoch 20/100\n",
      "4274/4274 [==============================] - 29s 7ms/step - loss: 0.0015\n",
      "Epoch 21/100\n",
      "4274/4274 [==============================] - 29s 7ms/step - loss: 0.0015\n",
      "Epoch 22/100\n",
      "4274/4274 [==============================] - 29s 7ms/step - loss: 0.0014\n",
      "Epoch 23/100\n",
      "4274/4274 [==============================] - 29s 7ms/step - loss: 0.0015\n",
      "Epoch 24/100\n",
      "4274/4274 [==============================] - 29s 7ms/step - loss: 0.0014\n",
      "Epoch 25/100\n",
      "4274/4274 [==============================] - 29s 7ms/step - loss: 0.0014\n",
      "Epoch 26/100\n",
      "4274/4274 [==============================] - 29s 7ms/step - loss: 0.0014\n",
      "Epoch 27/100\n",
      "4274/4274 [==============================] - 31s 7ms/step - loss: 0.0014\n",
      "Epoch 28/100\n",
      "4274/4274 [==============================] - 29s 7ms/step - loss: 0.0014\n",
      "Epoch 29/100\n",
      "4274/4274 [==============================] - 29s 7ms/step - loss: 0.0014\n",
      "Epoch 30/100\n",
      "4274/4274 [==============================] - 29s 7ms/step - loss: 0.0014\n",
      "Epoch 31/100\n",
      "4274/4274 [==============================] - 29s 7ms/step - loss: 0.0014\n",
      "Epoch 32/100\n",
      "4274/4274 [==============================] - 30s 7ms/step - loss: 0.0014\n",
      "Epoch 33/100\n",
      "4274/4274 [==============================] - 29s 7ms/step - loss: 0.0014\n",
      "Epoch 34/100\n",
      "4274/4274 [==============================] - 29s 7ms/step - loss: 0.0014\n",
      "Epoch 35/100\n",
      "4274/4274 [==============================] - 29s 7ms/step - loss: 0.0014\n",
      "Epoch 36/100\n",
      "4274/4274 [==============================] - 29s 7ms/step - loss: 0.0014\n",
      "Epoch 37/100\n",
      "4274/4274 [==============================] - 30s 7ms/step - loss: 0.0014\n",
      "Epoch 38/100\n",
      "4274/4274 [==============================] - 30s 7ms/step - loss: 0.0014\n",
      "Epoch 39/100\n",
      "4274/4274 [==============================] - 30s 7ms/step - loss: 0.0014\n",
      "Epoch 40/100\n",
      "4274/4274 [==============================] - 30s 7ms/step - loss: 0.0013\n",
      "Epoch 41/100\n",
      "4274/4274 [==============================] - 28s 7ms/step - loss: 0.0013\n",
      "Epoch 42/100\n",
      "4274/4274 [==============================] - 28s 7ms/step - loss: 0.0013\n",
      "Epoch 43/100\n",
      "4274/4274 [==============================] - 30s 7ms/step - loss: 0.0013\n",
      "Epoch 44/100\n",
      "4274/4274 [==============================] - 29s 7ms/step - loss: 0.0013\n",
      "Epoch 45/100\n",
      "4274/4274 [==============================] - 29s 7ms/step - loss: 0.0013\n",
      "Epoch 46/100\n",
      "4274/4274 [==============================] - 30s 7ms/step - loss: 0.0013\n",
      "Epoch 47/100\n",
      "4274/4274 [==============================] - 29s 7ms/step - loss: 0.0013\n",
      "Epoch 48/100\n",
      "4274/4274 [==============================] - 28s 7ms/step - loss: 0.0013\n",
      "Epoch 49/100\n",
      "4274/4274 [==============================] - 29s 7ms/step - loss: 0.0013\n",
      "Epoch 50/100\n",
      "4274/4274 [==============================] - 29s 7ms/step - loss: 0.0013\n",
      "Epoch 51/100\n",
      "4274/4274 [==============================] - 29s 7ms/step - loss: 0.0013\n",
      "Epoch 52/100\n",
      "4274/4274 [==============================] - 30s 7ms/step - loss: 0.0013\n",
      "Epoch 53/100\n",
      "4274/4274 [==============================] - 28s 7ms/step - loss: 0.0013\n",
      "Epoch 54/100\n",
      "4274/4274 [==============================] - 28s 7ms/step - loss: 0.0013\n",
      "Epoch 55/100\n",
      "4274/4274 [==============================] - 28s 7ms/step - loss: 0.0013\n",
      "Epoch 56/100\n",
      "4274/4274 [==============================] - 29s 7ms/step - loss: 0.0013\n",
      "Epoch 57/100\n",
      "4274/4274 [==============================] - 28s 6ms/step - loss: 0.0013\n",
      "Epoch 58/100\n",
      "4274/4274 [==============================] - 28s 7ms/step - loss: 0.0013\n",
      "Epoch 59/100\n",
      "4274/4274 [==============================] - 27s 6ms/step - loss: 0.0013\n",
      "Epoch 60/100\n",
      "4274/4274 [==============================] - 28s 7ms/step - loss: 0.0013\n",
      "Epoch 61/100\n",
      "4274/4274 [==============================] - 29s 7ms/step - loss: 0.0013\n",
      "Epoch 62/100\n",
      "4274/4274 [==============================] - 29s 7ms/step - loss: 0.0013\n",
      "Epoch 63/100\n",
      "4274/4274 [==============================] - 29s 7ms/step - loss: 0.0013\n",
      "Epoch 64/100\n",
      "4274/4274 [==============================] - 28s 6ms/step - loss: 0.0013\n",
      "Epoch 65/100\n",
      "4274/4274 [==============================] - 27s 6ms/step - loss: 0.0013\n",
      "Epoch 66/100\n",
      "4274/4274 [==============================] - 27s 6ms/step - loss: 0.0013\n",
      "Epoch 67/100\n",
      "4274/4274 [==============================] - 27s 6ms/step - loss: 0.0013\n",
      "Epoch 68/100\n",
      "4274/4274 [==============================] - 28s 6ms/step - loss: 0.0013\n",
      "Epoch 69/100\n",
      "4274/4274 [==============================] - 27s 6ms/step - loss: 0.0013\n",
      "Epoch 70/100\n",
      "4274/4274 [==============================] - 27s 6ms/step - loss: 0.0013\n",
      "Epoch 71/100\n",
      "4274/4274 [==============================] - 28s 6ms/step - loss: 0.0013\n",
      "Epoch 72/100\n",
      "4274/4274 [==============================] - 27s 6ms/step - loss: 0.0013\n",
      "Epoch 73/100\n",
      "4274/4274 [==============================] - 27s 6ms/step - loss: 0.0013\n",
      "Epoch 74/100\n",
      "4274/4274 [==============================] - 27s 6ms/step - loss: 0.0013\n",
      "Epoch 75/100\n",
      "4274/4274 [==============================] - 27s 6ms/step - loss: 0.0013\n",
      "Epoch 76/100\n",
      "4274/4274 [==============================] - 27s 6ms/step - loss: 0.0013\n",
      "Epoch 77/100\n",
      "4274/4274 [==============================] - 27s 6ms/step - loss: 0.0013\n",
      "Epoch 78/100\n",
      "4274/4274 [==============================] - 27s 6ms/step - loss: 0.0013\n",
      "Epoch 79/100\n",
      "4274/4274 [==============================] - 28s 6ms/step - loss: 0.0013\n",
      "Epoch 80/100\n",
      "4274/4274 [==============================] - 27s 6ms/step - loss: 0.0013\n",
      "Epoch 81/100\n",
      "4274/4274 [==============================] - 27s 6ms/step - loss: 0.0013\n",
      "Epoch 82/100\n",
      "4274/4274 [==============================] - 29s 7ms/step - loss: 0.0013\n",
      "Epoch 83/100\n",
      "4274/4274 [==============================] - 29s 7ms/step - loss: 0.0012\n",
      "Epoch 84/100\n",
      "4274/4274 [==============================] - 29s 7ms/step - loss: 0.0013\n",
      "Epoch 85/100\n",
      "4274/4274 [==============================] - 28s 7ms/step - loss: 0.0013\n",
      "Epoch 86/100\n",
      "4274/4274 [==============================] - 29s 7ms/step - loss: 0.0012\n",
      "Epoch 87/100\n",
      "4274/4274 [==============================] - 30s 7ms/step - loss: 0.0013\n",
      "Epoch 88/100\n",
      "4274/4274 [==============================] - 30s 7ms/step - loss: 0.0012\n",
      "Epoch 89/100\n",
      "4274/4274 [==============================] - 29s 7ms/step - loss: 0.0012\n",
      "Epoch 90/100\n",
      "4274/4274 [==============================] - 29s 7ms/step - loss: 0.0012\n",
      "Epoch 91/100\n",
      "4274/4274 [==============================] - 29s 7ms/step - loss: 0.0012\n",
      "Epoch 92/100\n",
      "4274/4274 [==============================] - 29s 7ms/step - loss: 0.0012\n",
      "Epoch 93/100\n",
      "4274/4274 [==============================] - 29s 7ms/step - loss: 0.0012\n",
      "Epoch 94/100\n",
      "4274/4274 [==============================] - 30s 7ms/step - loss: 0.0012\n",
      "Epoch 95/100\n",
      "4274/4274 [==============================] - 29s 7ms/step - loss: 0.0012\n",
      "Epoch 96/100\n",
      "4274/4274 [==============================] - 29s 7ms/step - loss: 0.0012\n",
      "Epoch 97/100\n",
      "4274/4274 [==============================] - 30s 7ms/step - loss: 0.0012\n",
      "Epoch 98/100\n",
      "4274/4274 [==============================] - 29s 7ms/step - loss: 0.0012\n",
      "Epoch 99/100\n",
      "4274/4274 [==============================] - 29s 7ms/step - loss: 0.0012\n",
      "Epoch 100/100\n",
      "4274/4274 [==============================] - 29s 7ms/step - loss: 0.0012\n"
     ]
    },
    {
     "data": {
      "text/plain": [
       "<keras.src.callbacks.History at 0x1e757d86190>"
      ]
     },
     "execution_count": 48,
     "metadata": {},
     "output_type": "execute_result"
    }
   ],
   "source": [
    "# 모델 훈련 with EarlyStopping\n",
    "model.fit(generator, epochs=100, callbacks=[early_stopping])\n"
   ]
  },
  {
   "cell_type": "code",
   "execution_count": 33,
   "metadata": {},
   "outputs": [
    {
     "data": {
      "text/html": [
       "<div>\n",
       "<style scoped>\n",
       "    .dataframe tbody tr th:only-of-type {\n",
       "        vertical-align: middle;\n",
       "    }\n",
       "\n",
       "    .dataframe tbody tr th {\n",
       "        vertical-align: top;\n",
       "    }\n",
       "\n",
       "    .dataframe thead th {\n",
       "        text-align: right;\n",
       "    }\n",
       "</style>\n",
       "<table border=\"1\" class=\"dataframe\">\n",
       "  <thead>\n",
       "    <tr style=\"text-align: right;\">\n",
       "      <th></th>\n",
       "      <th>이산화질소</th>\n",
       "      <th>오존</th>\n",
       "      <th>일산화탄소</th>\n",
       "      <th>아황산</th>\n",
       "      <th>미세</th>\n",
       "      <th>초미세</th>\n",
       "    </tr>\n",
       "    <tr>\n",
       "      <th>측정일시</th>\n",
       "      <th></th>\n",
       "      <th></th>\n",
       "      <th></th>\n",
       "      <th></th>\n",
       "      <th></th>\n",
       "      <th></th>\n",
       "    </tr>\n",
       "  </thead>\n",
       "  <tbody>\n",
       "    <tr>\n",
       "      <th>2023-12-07</th>\n",
       "      <td>0.026</td>\n",
       "      <td>0.0184</td>\n",
       "      <td>0.50</td>\n",
       "      <td>0.0033</td>\n",
       "      <td>62.2</td>\n",
       "      <td>16.5</td>\n",
       "    </tr>\n",
       "    <tr>\n",
       "      <th>2023-12-08</th>\n",
       "      <td>0.029</td>\n",
       "      <td>0.0300</td>\n",
       "      <td>0.56</td>\n",
       "      <td>0.0031</td>\n",
       "      <td>84.2</td>\n",
       "      <td>22.8</td>\n",
       "    </tr>\n",
       "    <tr>\n",
       "      <th>2023-12-09</th>\n",
       "      <td>0.027</td>\n",
       "      <td>0.0379</td>\n",
       "      <td>0.61</td>\n",
       "      <td>0.0029</td>\n",
       "      <td>72.3</td>\n",
       "      <td>30.7</td>\n",
       "    </tr>\n",
       "    <tr>\n",
       "      <th>2023-12-10</th>\n",
       "      <td>0.025</td>\n",
       "      <td>0.0209</td>\n",
       "      <td>0.67</td>\n",
       "      <td>0.0029</td>\n",
       "      <td>80.2</td>\n",
       "      <td>35.6</td>\n",
       "    </tr>\n",
       "    <tr>\n",
       "      <th>2023-12-11</th>\n",
       "      <td>0.015</td>\n",
       "      <td>0.0227</td>\n",
       "      <td>0.40</td>\n",
       "      <td>0.0024</td>\n",
       "      <td>7.2</td>\n",
       "      <td>3.0</td>\n",
       "    </tr>\n",
       "  </tbody>\n",
       "</table>\n",
       "</div>"
      ],
      "text/plain": [
       "            이산화질소      오존  일산화탄소     아황산    미세   초미세\n",
       "측정일시                                                \n",
       "2023-12-07  0.026  0.0184   0.50  0.0033  62.2  16.5\n",
       "2023-12-08  0.029  0.0300   0.56  0.0031  84.2  22.8\n",
       "2023-12-09  0.027  0.0379   0.61  0.0029  72.3  30.7\n",
       "2023-12-10  0.025  0.0209   0.67  0.0029  80.2  35.6\n",
       "2023-12-11  0.015  0.0227   0.40  0.0024   7.2   3.0"
      ]
     },
     "execution_count": 33,
     "metadata": {},
     "output_type": "execute_result"
    }
   ],
   "source": [
    "df.tail()"
   ]
  },
  {
   "cell_type": "code",
   "execution_count": 49,
   "metadata": {},
   "outputs": [
    {
     "name": "stdout",
     "output_type": "stream",
     "text": [
      "4274/4274 [==============================] - 11s 2ms/step\n",
      "R^2 Score: 0.5005735436162553\n"
     ]
    }
   ],
   "source": [
    "from sklearn.metrics import r2_score\n",
    "\n",
    "# 테스트 데이터셋 준비 (예시)\n",
    "# 이 부분은 실제 데이터셋과 상황에 맞게 조정해야 합니다.\n",
    "# test_features_scaled, test_target_scaled는 테스트 데이터의 스케일된 피쳐와 타겟입니다.\n",
    "test_generator = TimeseriesGenerator(features_scaled , target_scaled, length=n_input, batch_size=1)\n",
    "\n",
    "# 테스트 데이터셋에 대한 예측 수행\n",
    "test_predictions = model.predict(test_generator)\n",
    "\n",
    "# 예측값 역 스케일링\n",
    "test_predictions_inverse = scaler_target.inverse_transform(test_predictions)\n",
    "\n",
    "# 실제 타겟 값 역 스케일링\n",
    "actual_target = scaler_target.inverse_transform(target_scaled[n_input:])\n",
    "\n",
    "# R^2 값 계산\n",
    "r2 = r2_score(actual_target, test_predictions_inverse)\n",
    "print(f'R^2 Score: {r2}')\n"
   ]
  },
  {
   "cell_type": "code",
   "execution_count": 51,
   "metadata": {},
   "outputs": [
    {
     "name": "stdout",
     "output_type": "stream",
     "text": [
      "[[15.164758]]\n"
     ]
    }
   ],
   "source": [
    "# 최근 데이터를 사용한 예측\n",
    "x_input = features_scaled[-n_input:]\n",
    "x_input = x_input.reshape((1, n_input, n_features))\n",
    "predicted = model.predict(x_input, verbose=0)\n",
    "\n",
    "# 예측값 역 스케일링\n",
    "predicted_inverse = scaler_target.inverse_transform(predicted)\n",
    "print(predicted_inverse)\n"
   ]
  },
  {
   "cell_type": "code",
   "execution_count": 52,
   "metadata": {},
   "outputs": [],
   "source": [
    "model.save('model/a/pm10_model.h5')"
   ]
  },
  {
   "cell_type": "code",
   "execution_count": 55,
   "metadata": {},
   "outputs": [
    {
     "ename": "UnicodeDecodeError",
     "evalue": "'utf-8' codec can't decode byte 0xfc in position 52: invalid start byte",
     "output_type": "error",
     "traceback": [
      "\u001b[1;31m---------------------------------------------------------------------------\u001b[0m",
      "\u001b[1;31mUnicodeDecodeError\u001b[0m                        Traceback (most recent call last)",
      "Cell \u001b[1;32mIn[55], line 4\u001b[0m\n\u001b[0;32m      1\u001b[0m \u001b[38;5;28;01mfrom\u001b[39;00m \u001b[38;5;21;01mkeras\u001b[39;00m\u001b[38;5;21;01m.\u001b[39;00m\u001b[38;5;21;01mmodels\u001b[39;00m \u001b[38;5;28;01mimport\u001b[39;00m load_model\n\u001b[0;32m      3\u001b[0m \u001b[38;5;66;03m# 저장된 모델 불러오기\u001b[39;00m\n\u001b[1;32m----> 4\u001b[0m model_pm10 \u001b[38;5;241m=\u001b[39m \u001b[43mload_model\u001b[49m\u001b[43m(\u001b[49m\u001b[38;5;124;43m'\u001b[39;49m\u001b[38;5;124;43mmodel/a/pm10_model.h5\u001b[39;49m\u001b[38;5;124;43m'\u001b[39;49m\u001b[43m)\u001b[49m\n",
      "File \u001b[1;32mc:\\Users\\human\\anaconda3\\Lib\\site-packages\\keras\\src\\saving\\saving_api.py:262\u001b[0m, in \u001b[0;36mload_model\u001b[1;34m(filepath, custom_objects, compile, safe_mode, **kwargs)\u001b[0m\n\u001b[0;32m    254\u001b[0m     \u001b[38;5;28;01mreturn\u001b[39;00m saving_lib\u001b[38;5;241m.\u001b[39mload_model(\n\u001b[0;32m    255\u001b[0m         filepath,\n\u001b[0;32m    256\u001b[0m         custom_objects\u001b[38;5;241m=\u001b[39mcustom_objects,\n\u001b[0;32m    257\u001b[0m         \u001b[38;5;28mcompile\u001b[39m\u001b[38;5;241m=\u001b[39m\u001b[38;5;28mcompile\u001b[39m,\n\u001b[0;32m    258\u001b[0m         safe_mode\u001b[38;5;241m=\u001b[39msafe_mode,\n\u001b[0;32m    259\u001b[0m     )\n\u001b[0;32m    261\u001b[0m \u001b[38;5;66;03m# Legacy case.\u001b[39;00m\n\u001b[1;32m--> 262\u001b[0m \u001b[38;5;28;01mreturn\u001b[39;00m \u001b[43mlegacy_sm_saving_lib\u001b[49m\u001b[38;5;241;43m.\u001b[39;49m\u001b[43mload_model\u001b[49m\u001b[43m(\u001b[49m\n\u001b[0;32m    263\u001b[0m \u001b[43m    \u001b[49m\u001b[43mfilepath\u001b[49m\u001b[43m,\u001b[49m\u001b[43m \u001b[49m\u001b[43mcustom_objects\u001b[49m\u001b[38;5;241;43m=\u001b[39;49m\u001b[43mcustom_objects\u001b[49m\u001b[43m,\u001b[49m\u001b[43m \u001b[49m\u001b[38;5;28;43mcompile\u001b[39;49m\u001b[38;5;241;43m=\u001b[39;49m\u001b[38;5;28;43mcompile\u001b[39;49m\u001b[43m,\u001b[49m\u001b[43m \u001b[49m\u001b[38;5;241;43m*\u001b[39;49m\u001b[38;5;241;43m*\u001b[39;49m\u001b[43mkwargs\u001b[49m\n\u001b[0;32m    264\u001b[0m \u001b[43m\u001b[49m\u001b[43m)\u001b[49m\n",
      "File \u001b[1;32mc:\\Users\\human\\anaconda3\\Lib\\site-packages\\keras\\src\\utils\\traceback_utils.py:70\u001b[0m, in \u001b[0;36mfilter_traceback.<locals>.error_handler\u001b[1;34m(*args, **kwargs)\u001b[0m\n\u001b[0;32m     67\u001b[0m     filtered_tb \u001b[38;5;241m=\u001b[39m _process_traceback_frames(e\u001b[38;5;241m.\u001b[39m__traceback__)\n\u001b[0;32m     68\u001b[0m     \u001b[38;5;66;03m# To get the full stack trace, call:\u001b[39;00m\n\u001b[0;32m     69\u001b[0m     \u001b[38;5;66;03m# `tf.debugging.disable_traceback_filtering()`\u001b[39;00m\n\u001b[1;32m---> 70\u001b[0m     \u001b[38;5;28;01mraise\u001b[39;00m e\u001b[38;5;241m.\u001b[39mwith_traceback(filtered_tb) \u001b[38;5;28;01mfrom\u001b[39;00m \u001b[38;5;28;01mNone\u001b[39;00m\n\u001b[0;32m     71\u001b[0m \u001b[38;5;28;01mfinally\u001b[39;00m:\n\u001b[0;32m     72\u001b[0m     \u001b[38;5;28;01mdel\u001b[39;00m filtered_tb\n",
      "File \u001b[1;32mc:\\Users\\human\\anaconda3\\Lib\\site-packages\\tensorflow\\python\\lib\\io\\file_io.py:703\u001b[0m, in \u001b[0;36mis_directory_v2\u001b[1;34m(path)\u001b[0m\n\u001b[0;32m    694\u001b[0m \u001b[38;5;250m\u001b[39m\u001b[38;5;124;03m\"\"\"Returns whether the path is a directory or not.\u001b[39;00m\n\u001b[0;32m    695\u001b[0m \n\u001b[0;32m    696\u001b[0m \u001b[38;5;124;03mArgs:\u001b[39;00m\n\u001b[1;32m   (...)\u001b[0m\n\u001b[0;32m    700\u001b[0m \u001b[38;5;124;03m  True, if the path is a directory; False otherwise\u001b[39;00m\n\u001b[0;32m    701\u001b[0m \u001b[38;5;124;03m\"\"\"\u001b[39;00m\n\u001b[0;32m    702\u001b[0m \u001b[38;5;28;01mtry\u001b[39;00m:\n\u001b[1;32m--> 703\u001b[0m   \u001b[38;5;28;01mreturn\u001b[39;00m _pywrap_file_io\u001b[38;5;241m.\u001b[39mIsDirectory(compat\u001b[38;5;241m.\u001b[39mpath_to_bytes(path))\n\u001b[0;32m    704\u001b[0m \u001b[38;5;28;01mexcept\u001b[39;00m errors\u001b[38;5;241m.\u001b[39mOpError:\n\u001b[0;32m    705\u001b[0m   \u001b[38;5;28;01mreturn\u001b[39;00m \u001b[38;5;28;01mFalse\u001b[39;00m\n",
      "\u001b[1;31mUnicodeDecodeError\u001b[0m: 'utf-8' codec can't decode byte 0xfc in position 52: invalid start byte"
     ]
    }
   ],
   "source": [
    "from keras.models import load_model\n",
    "\n",
    "# 저장된 모델 불러오기\n",
    "model_pm10 = load_model('model/a/pm10_model.h5')\n"
   ]
  },
  {
   "cell_type": "code",
   "execution_count": null,
   "metadata": {},
   "outputs": [],
   "source": []
  }
 ],
 "metadata": {
  "kernelspec": {
   "display_name": "base",
   "language": "python",
   "name": "python3"
  },
  "language_info": {
   "codemirror_mode": {
    "name": "ipython",
    "version": 3
   },
   "file_extension": ".py",
   "mimetype": "text/x-python",
   "name": "python",
   "nbconvert_exporter": "python",
   "pygments_lexer": "ipython3",
   "version": "3.11.4"
  }
 },
 "nbformat": 4,
 "nbformat_minor": 2
}
