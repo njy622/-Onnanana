{
 "cells": [
  {
   "cell_type": "code",
   "execution_count": 1,
   "metadata": {},
   "outputs": [],
   "source": [
    "import pandas as pd\n",
    "import warnings\n",
    "warnings.filterwarnings('ignore')"
   ]
  },
  {
   "cell_type": "code",
   "execution_count": 2,
   "metadata": {},
   "outputs": [],
   "source": [
    "df = pd.read_csv('data/12-23대기오염nan처리.csv')"
   ]
  },
  {
   "cell_type": "code",
   "execution_count": 3,
   "metadata": {},
   "outputs": [
    {
     "data": {
      "text/html": [
       "<div>\n",
       "<style scoped>\n",
       "    .dataframe tbody tr th:only-of-type {\n",
       "        vertical-align: middle;\n",
       "    }\n",
       "\n",
       "    .dataframe tbody tr th {\n",
       "        vertical-align: top;\n",
       "    }\n",
       "\n",
       "    .dataframe thead th {\n",
       "        text-align: right;\n",
       "    }\n",
       "</style>\n",
       "<table border=\"1\" class=\"dataframe\">\n",
       "  <thead>\n",
       "    <tr style=\"text-align: right;\">\n",
       "      <th></th>\n",
       "      <th>측정일시</th>\n",
       "      <th>이산화질소</th>\n",
       "      <th>오존</th>\n",
       "      <th>일산화탄소</th>\n",
       "      <th>아황산</th>\n",
       "      <th>미세</th>\n",
       "      <th>초미세</th>\n",
       "    </tr>\n",
       "  </thead>\n",
       "  <tbody>\n",
       "    <tr>\n",
       "      <th>0</th>\n",
       "      <td>20120101</td>\n",
       "      <td>0.031</td>\n",
       "      <td>0.008</td>\n",
       "      <td>1.17</td>\n",
       "      <td>0.0093</td>\n",
       "      <td>88.3</td>\n",
       "      <td>57.3</td>\n",
       "    </tr>\n",
       "  </tbody>\n",
       "</table>\n",
       "</div>"
      ],
      "text/plain": [
       "       측정일시  이산화질소     오존  일산화탄소     아황산    미세   초미세\n",
       "0  20120101  0.031  0.008   1.17  0.0093  88.3  57.3"
      ]
     },
     "execution_count": 3,
     "metadata": {},
     "output_type": "execute_result"
    }
   ],
   "source": [
    "df.head(1)"
   ]
  },
  {
   "cell_type": "code",
   "execution_count": 4,
   "metadata": {},
   "outputs": [
    {
     "data": {
      "text/html": [
       "<div>\n",
       "<style scoped>\n",
       "    .dataframe tbody tr th:only-of-type {\n",
       "        vertical-align: middle;\n",
       "    }\n",
       "\n",
       "    .dataframe tbody tr th {\n",
       "        vertical-align: top;\n",
       "    }\n",
       "\n",
       "    .dataframe thead th {\n",
       "        text-align: right;\n",
       "    }\n",
       "</style>\n",
       "<table border=\"1\" class=\"dataframe\">\n",
       "  <thead>\n",
       "    <tr style=\"text-align: right;\">\n",
       "      <th></th>\n",
       "      <th>측정일시</th>\n",
       "      <th>이산화질소</th>\n",
       "      <th>오존</th>\n",
       "      <th>일산화탄소</th>\n",
       "      <th>아황산</th>\n",
       "      <th>미세</th>\n",
       "      <th>초미세</th>\n",
       "    </tr>\n",
       "  </thead>\n",
       "  <tbody>\n",
       "    <tr>\n",
       "      <th>4303</th>\n",
       "      <td>20231211</td>\n",
       "      <td>0.015</td>\n",
       "      <td>0.0227</td>\n",
       "      <td>0.4</td>\n",
       "      <td>0.0024</td>\n",
       "      <td>7.2</td>\n",
       "      <td>3.0</td>\n",
       "    </tr>\n",
       "  </tbody>\n",
       "</table>\n",
       "</div>"
      ],
      "text/plain": [
       "          측정일시  이산화질소      오존  일산화탄소     아황산   미세  초미세\n",
       "4303  20231211  0.015  0.0227    0.4  0.0024  7.2  3.0"
      ]
     },
     "execution_count": 4,
     "metadata": {},
     "output_type": "execute_result"
    }
   ],
   "source": [
    "df.tail(1)"
   ]
  },
  {
   "cell_type": "code",
   "execution_count": 5,
   "metadata": {},
   "outputs": [],
   "source": [
    "df['측정일시'] = pd.to_datetime(df['측정일시'], format='%Y%m%d')"
   ]
  },
  {
   "cell_type": "code",
   "execution_count": 6,
   "metadata": {},
   "outputs": [
    {
     "data": {
      "text/html": [
       "<div>\n",
       "<style scoped>\n",
       "    .dataframe tbody tr th:only-of-type {\n",
       "        vertical-align: middle;\n",
       "    }\n",
       "\n",
       "    .dataframe tbody tr th {\n",
       "        vertical-align: top;\n",
       "    }\n",
       "\n",
       "    .dataframe thead th {\n",
       "        text-align: right;\n",
       "    }\n",
       "</style>\n",
       "<table border=\"1\" class=\"dataframe\">\n",
       "  <thead>\n",
       "    <tr style=\"text-align: right;\">\n",
       "      <th></th>\n",
       "      <th>측정일시</th>\n",
       "      <th>이산화질소</th>\n",
       "      <th>오존</th>\n",
       "      <th>일산화탄소</th>\n",
       "      <th>아황산</th>\n",
       "      <th>미세</th>\n",
       "      <th>초미세</th>\n",
       "    </tr>\n",
       "  </thead>\n",
       "  <tbody>\n",
       "    <tr>\n",
       "      <th>0</th>\n",
       "      <td>2012-01-01</td>\n",
       "      <td>0.031</td>\n",
       "      <td>0.008</td>\n",
       "      <td>1.17</td>\n",
       "      <td>0.0093</td>\n",
       "      <td>88.3</td>\n",
       "      <td>57.3</td>\n",
       "    </tr>\n",
       "  </tbody>\n",
       "</table>\n",
       "</div>"
      ],
      "text/plain": [
       "        측정일시  이산화질소     오존  일산화탄소     아황산    미세   초미세\n",
       "0 2012-01-01  0.031  0.008   1.17  0.0093  88.3  57.3"
      ]
     },
     "execution_count": 6,
     "metadata": {},
     "output_type": "execute_result"
    }
   ],
   "source": [
    "df.head(1)"
   ]
  },
  {
   "cell_type": "code",
   "execution_count": 7,
   "metadata": {},
   "outputs": [],
   "source": [
    "df = df.set_index('측정일시')"
   ]
  },
  {
   "cell_type": "code",
   "execution_count": 8,
   "metadata": {},
   "outputs": [
    {
     "data": {
      "text/plain": [
       "DatetimeIndex(['2012-01-01', '2012-01-02', '2012-01-03', '2012-01-04',\n",
       "               '2012-01-05', '2012-01-06', '2012-01-07', '2012-01-08',\n",
       "               '2012-01-09', '2012-01-10',\n",
       "               ...\n",
       "               '2023-12-02', '2023-12-03', '2023-12-04', '2023-12-05',\n",
       "               '2023-12-06', '2023-12-07', '2023-12-08', '2023-12-09',\n",
       "               '2023-12-10', '2023-12-11'],\n",
       "              dtype='datetime64[ns]', name='측정일시', length=4304, freq=None)"
      ]
     },
     "execution_count": 8,
     "metadata": {},
     "output_type": "execute_result"
    }
   ],
   "source": [
    "df.index"
   ]
  },
  {
   "cell_type": "code",
   "execution_count": 9,
   "metadata": {},
   "outputs": [
    {
     "data": {
      "text/plain": [
       "이산화질소    0\n",
       "오존       0\n",
       "일산화탄소    0\n",
       "아황산      0\n",
       "미세       0\n",
       "초미세      0\n",
       "dtype: int64"
      ]
     },
     "execution_count": 9,
     "metadata": {},
     "output_type": "execute_result"
    }
   ],
   "source": [
    "df.isna().sum()"
   ]
  },
  {
   "cell_type": "code",
   "execution_count": 10,
   "metadata": {},
   "outputs": [
    {
     "data": {
      "text/html": [
       "<div>\n",
       "<style scoped>\n",
       "    .dataframe tbody tr th:only-of-type {\n",
       "        vertical-align: middle;\n",
       "    }\n",
       "\n",
       "    .dataframe tbody tr th {\n",
       "        vertical-align: top;\n",
       "    }\n",
       "\n",
       "    .dataframe thead th {\n",
       "        text-align: right;\n",
       "    }\n",
       "</style>\n",
       "<table border=\"1\" class=\"dataframe\">\n",
       "  <thead>\n",
       "    <tr style=\"text-align: right;\">\n",
       "      <th></th>\n",
       "      <th>이산화질소</th>\n",
       "      <th>오존</th>\n",
       "      <th>일산화탄소</th>\n",
       "      <th>아황산</th>\n",
       "      <th>미세</th>\n",
       "      <th>초미세</th>\n",
       "    </tr>\n",
       "    <tr>\n",
       "      <th>측정일시</th>\n",
       "      <th></th>\n",
       "      <th></th>\n",
       "      <th></th>\n",
       "      <th></th>\n",
       "      <th></th>\n",
       "      <th></th>\n",
       "    </tr>\n",
       "  </thead>\n",
       "  <tbody>\n",
       "    <tr>\n",
       "      <th>2012-01-01</th>\n",
       "      <td>0.031</td>\n",
       "      <td>0.0080</td>\n",
       "      <td>1.17</td>\n",
       "      <td>0.0093</td>\n",
       "      <td>88.3</td>\n",
       "      <td>57.3</td>\n",
       "    </tr>\n",
       "    <tr>\n",
       "      <th>2012-01-02</th>\n",
       "      <td>0.036</td>\n",
       "      <td>0.0050</td>\n",
       "      <td>1.20</td>\n",
       "      <td>0.0087</td>\n",
       "      <td>100.0</td>\n",
       "      <td>62.7</td>\n",
       "    </tr>\n",
       "    <tr>\n",
       "      <th>2012-01-03</th>\n",
       "      <td>0.041</td>\n",
       "      <td>0.0063</td>\n",
       "      <td>1.27</td>\n",
       "      <td>0.0073</td>\n",
       "      <td>96.0</td>\n",
       "      <td>63.0</td>\n",
       "    </tr>\n",
       "    <tr>\n",
       "      <th>2012-01-04</th>\n",
       "      <td>0.024</td>\n",
       "      <td>0.0130</td>\n",
       "      <td>0.83</td>\n",
       "      <td>0.0103</td>\n",
       "      <td>70.3</td>\n",
       "      <td>42.0</td>\n",
       "    </tr>\n",
       "    <tr>\n",
       "      <th>2012-01-05</th>\n",
       "      <td>0.037</td>\n",
       "      <td>0.0073</td>\n",
       "      <td>0.77</td>\n",
       "      <td>0.0063</td>\n",
       "      <td>53.3</td>\n",
       "      <td>29.3</td>\n",
       "    </tr>\n",
       "    <tr>\n",
       "      <th>...</th>\n",
       "      <td>...</td>\n",
       "      <td>...</td>\n",
       "      <td>...</td>\n",
       "      <td>...</td>\n",
       "      <td>...</td>\n",
       "      <td>...</td>\n",
       "    </tr>\n",
       "    <tr>\n",
       "      <th>2023-12-07</th>\n",
       "      <td>0.026</td>\n",
       "      <td>0.0184</td>\n",
       "      <td>0.50</td>\n",
       "      <td>0.0033</td>\n",
       "      <td>62.2</td>\n",
       "      <td>16.5</td>\n",
       "    </tr>\n",
       "    <tr>\n",
       "      <th>2023-12-08</th>\n",
       "      <td>0.029</td>\n",
       "      <td>0.0300</td>\n",
       "      <td>0.56</td>\n",
       "      <td>0.0031</td>\n",
       "      <td>84.2</td>\n",
       "      <td>22.8</td>\n",
       "    </tr>\n",
       "    <tr>\n",
       "      <th>2023-12-09</th>\n",
       "      <td>0.027</td>\n",
       "      <td>0.0379</td>\n",
       "      <td>0.61</td>\n",
       "      <td>0.0029</td>\n",
       "      <td>72.3</td>\n",
       "      <td>30.7</td>\n",
       "    </tr>\n",
       "    <tr>\n",
       "      <th>2023-12-10</th>\n",
       "      <td>0.025</td>\n",
       "      <td>0.0209</td>\n",
       "      <td>0.67</td>\n",
       "      <td>0.0029</td>\n",
       "      <td>80.2</td>\n",
       "      <td>35.6</td>\n",
       "    </tr>\n",
       "    <tr>\n",
       "      <th>2023-12-11</th>\n",
       "      <td>0.015</td>\n",
       "      <td>0.0227</td>\n",
       "      <td>0.40</td>\n",
       "      <td>0.0024</td>\n",
       "      <td>7.2</td>\n",
       "      <td>3.0</td>\n",
       "    </tr>\n",
       "  </tbody>\n",
       "</table>\n",
       "<p>4304 rows × 6 columns</p>\n",
       "</div>"
      ],
      "text/plain": [
       "            이산화질소      오존  일산화탄소     아황산     미세   초미세\n",
       "측정일시                                                 \n",
       "2012-01-01  0.031  0.0080   1.17  0.0093   88.3  57.3\n",
       "2012-01-02  0.036  0.0050   1.20  0.0087  100.0  62.7\n",
       "2012-01-03  0.041  0.0063   1.27  0.0073   96.0  63.0\n",
       "2012-01-04  0.024  0.0130   0.83  0.0103   70.3  42.0\n",
       "2012-01-05  0.037  0.0073   0.77  0.0063   53.3  29.3\n",
       "...           ...     ...    ...     ...    ...   ...\n",
       "2023-12-07  0.026  0.0184   0.50  0.0033   62.2  16.5\n",
       "2023-12-08  0.029  0.0300   0.56  0.0031   84.2  22.8\n",
       "2023-12-09  0.027  0.0379   0.61  0.0029   72.3  30.7\n",
       "2023-12-10  0.025  0.0209   0.67  0.0029   80.2  35.6\n",
       "2023-12-11  0.015  0.0227   0.40  0.0024    7.2   3.0\n",
       "\n",
       "[4304 rows x 6 columns]"
      ]
     },
     "execution_count": 10,
     "metadata": {},
     "output_type": "execute_result"
    }
   ],
   "source": [
    "df"
   ]
  },
  {
   "cell_type": "code",
   "execution_count": null,
   "metadata": {},
   "outputs": [
    {
     "data": {
      "text/html": [
       "<div>\n",
       "<style scoped>\n",
       "    .dataframe tbody tr th:only-of-type {\n",
       "        vertical-align: middle;\n",
       "    }\n",
       "\n",
       "    .dataframe tbody tr th {\n",
       "        vertical-align: top;\n",
       "    }\n",
       "\n",
       "    .dataframe thead th {\n",
       "        text-align: right;\n",
       "    }\n",
       "</style>\n",
       "<table border=\"1\" class=\"dataframe\">\n",
       "  <thead>\n",
       "    <tr style=\"text-align: right;\">\n",
       "      <th></th>\n",
       "      <th>이산화질소</th>\n",
       "      <th>오존</th>\n",
       "      <th>일산화탄소</th>\n",
       "      <th>아황산</th>\n",
       "      <th>미세</th>\n",
       "      <th>초미세</th>\n",
       "    </tr>\n",
       "    <tr>\n",
       "      <th>측정일시</th>\n",
       "      <th></th>\n",
       "      <th></th>\n",
       "      <th></th>\n",
       "      <th></th>\n",
       "      <th></th>\n",
       "      <th></th>\n",
       "    </tr>\n",
       "  </thead>\n",
       "  <tbody>\n",
       "    <tr>\n",
       "      <th>2012-01-01</th>\n",
       "      <td>0.036</td>\n",
       "      <td>0.009</td>\n",
       "      <td>1.0</td>\n",
       "      <td>0.01</td>\n",
       "      <td>83.0</td>\n",
       "      <td>57.0</td>\n",
       "    </tr>\n",
       "  </tbody>\n",
       "</table>\n",
       "</div>"
      ],
      "text/plain": [
       "            이산화질소     오존  일산화탄소   아황산    미세   초미세\n",
       "측정일시                                             \n",
       "2012-01-01  0.036  0.009    1.0  0.01  83.0  57.0"
      ]
     },
     "execution_count": 15,
     "metadata": {},
     "output_type": "execute_result"
    }
   ],
   "source": [
    "df.head(1)"
   ]
  },
  {
   "cell_type": "code",
   "execution_count": null,
   "metadata": {},
   "outputs": [
    {
     "data": {
      "text/plain": [
       "Index(['Unnamed: 0', '이산화질소', '오존', '일산화탄소', '아황산', '미세', '초미세'], dtype='object')"
      ]
     },
     "execution_count": 28,
     "metadata": {},
     "output_type": "execute_result"
    }
   ],
   "source": [
    "df.columns"
   ]
  },
  {
   "cell_type": "code",
   "execution_count": null,
   "metadata": {},
   "outputs": [],
   "source": [
    "df_feature =  df[['이산화질소', '오존', '일산화탄소', '아황산', '초미세','미세']]"
   ]
  },
  {
   "cell_type": "code",
   "execution_count": null,
   "metadata": {},
   "outputs": [
    {
     "data": {
      "text/html": [
       "<div>\n",
       "<style scoped>\n",
       "    .dataframe tbody tr th:only-of-type {\n",
       "        vertical-align: middle;\n",
       "    }\n",
       "\n",
       "    .dataframe tbody tr th {\n",
       "        vertical-align: top;\n",
       "    }\n",
       "\n",
       "    .dataframe thead th {\n",
       "        text-align: right;\n",
       "    }\n",
       "</style>\n",
       "<table border=\"1\" class=\"dataframe\">\n",
       "  <thead>\n",
       "    <tr style=\"text-align: right;\">\n",
       "      <th></th>\n",
       "      <th>이산화질소</th>\n",
       "      <th>오존</th>\n",
       "      <th>일산화탄소</th>\n",
       "      <th>아황산</th>\n",
       "      <th>초미세</th>\n",
       "      <th>미세</th>\n",
       "    </tr>\n",
       "    <tr>\n",
       "      <th>측정일시</th>\n",
       "      <th></th>\n",
       "      <th></th>\n",
       "      <th></th>\n",
       "      <th></th>\n",
       "      <th></th>\n",
       "      <th></th>\n",
       "    </tr>\n",
       "  </thead>\n",
       "  <tbody>\n",
       "    <tr>\n",
       "      <th>2012-01-01</th>\n",
       "      <td>0.036</td>\n",
       "      <td>0.009</td>\n",
       "      <td>1.0</td>\n",
       "      <td>0.010</td>\n",
       "      <td>57.0</td>\n",
       "      <td>83.0</td>\n",
       "    </tr>\n",
       "    <tr>\n",
       "      <th>2012-01-02</th>\n",
       "      <td>0.042</td>\n",
       "      <td>0.006</td>\n",
       "      <td>1.0</td>\n",
       "      <td>0.009</td>\n",
       "      <td>63.0</td>\n",
       "      <td>96.0</td>\n",
       "    </tr>\n",
       "    <tr>\n",
       "      <th>2012-01-03</th>\n",
       "      <td>0.046</td>\n",
       "      <td>0.007</td>\n",
       "      <td>1.0</td>\n",
       "      <td>0.008</td>\n",
       "      <td>63.0</td>\n",
       "      <td>93.0</td>\n",
       "    </tr>\n",
       "    <tr>\n",
       "      <th>2012-01-04</th>\n",
       "      <td>0.029</td>\n",
       "      <td>0.016</td>\n",
       "      <td>0.6</td>\n",
       "      <td>0.011</td>\n",
       "      <td>42.0</td>\n",
       "      <td>68.0</td>\n",
       "    </tr>\n",
       "    <tr>\n",
       "      <th>2012-01-05</th>\n",
       "      <td>0.044</td>\n",
       "      <td>0.009</td>\n",
       "      <td>0.7</td>\n",
       "      <td>0.007</td>\n",
       "      <td>29.0</td>\n",
       "      <td>52.0</td>\n",
       "    </tr>\n",
       "    <tr>\n",
       "      <th>...</th>\n",
       "      <td>...</td>\n",
       "      <td>...</td>\n",
       "      <td>...</td>\n",
       "      <td>...</td>\n",
       "      <td>...</td>\n",
       "      <td>...</td>\n",
       "    </tr>\n",
       "    <tr>\n",
       "      <th>2023-12-07</th>\n",
       "      <td>0.026</td>\n",
       "      <td>0.018</td>\n",
       "      <td>0.5</td>\n",
       "      <td>0.003</td>\n",
       "      <td>16.0</td>\n",
       "      <td>62.0</td>\n",
       "    </tr>\n",
       "    <tr>\n",
       "      <th>2023-12-08</th>\n",
       "      <td>0.029</td>\n",
       "      <td>0.030</td>\n",
       "      <td>0.6</td>\n",
       "      <td>0.003</td>\n",
       "      <td>23.0</td>\n",
       "      <td>84.0</td>\n",
       "    </tr>\n",
       "    <tr>\n",
       "      <th>2023-12-09</th>\n",
       "      <td>0.027</td>\n",
       "      <td>0.038</td>\n",
       "      <td>0.6</td>\n",
       "      <td>0.003</td>\n",
       "      <td>31.0</td>\n",
       "      <td>72.0</td>\n",
       "    </tr>\n",
       "    <tr>\n",
       "      <th>2023-12-10</th>\n",
       "      <td>0.025</td>\n",
       "      <td>0.021</td>\n",
       "      <td>0.7</td>\n",
       "      <td>0.003</td>\n",
       "      <td>36.0</td>\n",
       "      <td>80.0</td>\n",
       "    </tr>\n",
       "    <tr>\n",
       "      <th>2023-12-11</th>\n",
       "      <td>0.015</td>\n",
       "      <td>0.023</td>\n",
       "      <td>0.4</td>\n",
       "      <td>0.002</td>\n",
       "      <td>3.0</td>\n",
       "      <td>7.0</td>\n",
       "    </tr>\n",
       "  </tbody>\n",
       "</table>\n",
       "<p>4304 rows × 6 columns</p>\n",
       "</div>"
      ],
      "text/plain": [
       "            이산화질소     오존  일산화탄소    아황산   초미세    미세\n",
       "측정일시                                              \n",
       "2012-01-01  0.036  0.009    1.0  0.010  57.0  83.0\n",
       "2012-01-02  0.042  0.006    1.0  0.009  63.0  96.0\n",
       "2012-01-03  0.046  0.007    1.0  0.008  63.0  93.0\n",
       "2012-01-04  0.029  0.016    0.6  0.011  42.0  68.0\n",
       "2012-01-05  0.044  0.009    0.7  0.007  29.0  52.0\n",
       "...           ...    ...    ...    ...   ...   ...\n",
       "2023-12-07  0.026  0.018    0.5  0.003  16.0  62.0\n",
       "2023-12-08  0.029  0.030    0.6  0.003  23.0  84.0\n",
       "2023-12-09  0.027  0.038    0.6  0.003  31.0  72.0\n",
       "2023-12-10  0.025  0.021    0.7  0.003  36.0  80.0\n",
       "2023-12-11  0.015  0.023    0.4  0.002   3.0   7.0\n",
       "\n",
       "[4304 rows x 6 columns]"
      ]
     },
     "execution_count": 59,
     "metadata": {},
     "output_type": "execute_result"
    }
   ],
   "source": [
    "df_feature"
   ]
  },
  {
   "cell_type": "code",
   "execution_count": null,
   "metadata": {},
   "outputs": [],
   "source": [
    "df_target =  df[['미세']]"
   ]
  },
  {
   "cell_type": "code",
   "execution_count": null,
   "metadata": {},
   "outputs": [
    {
     "data": {
      "image/png": "[encoded data removed]",
      "text/plain": [
       "<Figure size 1200x1000 with 2 Axes>"
      ]
     },
     "metadata": {},
     "output_type": "display_data"
    }
   ],
   "source": [
    "import pandas as pd\n",
    "import seaborn as sns\n",
    "import matplotlib.pyplot as plt\n",
    "plt.rcParams['font.family'] = 'Malgun Gothic'\n",
    "plt.rcParams['axes.unicode_minus'] = False\n",
    "\n",
    "# 전체 상관관계 행렬 계산\n",
    "full_corr_matrix = df.corr()\n",
    "\n",
    "# 시각화용 상관관계 행렬 생성 (시간 및 도시 컬럼 제외)\n",
    "visualization_columns = [col for col in df.columns if 'Year' not in col and 'Month' not in col and not col.startswith('SIDO')]\n",
    "vis_corr_matrix = df[visualization_columns].corr()\n",
    "\n",
    "# 상관 계수 행렬 시각화\n",
    "plt.figure(figsize=(12, 10))\n",
    "sns.heatmap(vis_corr_matrix, annot=True, fmt=\".2f\", cmap='coolwarm')\n",
    "plt.title('선택된 변수 간 상관 관계')\n",
    "plt.show()"
   ]
  },
  {
   "cell_type": "code",
   "execution_count": null,
   "metadata": {},
   "outputs": [
    {
     "data": {
      "text/html": [
       "<div>\n",
       "<style scoped>\n",
       "    .dataframe tbody tr th:only-of-type {\n",
       "        vertical-align: middle;\n",
       "    }\n",
       "\n",
       "    .dataframe tbody tr th {\n",
       "        vertical-align: top;\n",
       "    }\n",
       "\n",
       "    .dataframe thead th {\n",
       "        text-align: right;\n",
       "    }\n",
       "</style>\n",
       "<table border=\"1\" class=\"dataframe\">\n",
       "  <thead>\n",
       "    <tr style=\"text-align: right;\">\n",
       "      <th></th>\n",
       "      <th>이산화질소</th>\n",
       "      <th>오존</th>\n",
       "      <th>일산화탄소</th>\n",
       "      <th>아황산</th>\n",
       "      <th>초미세</th>\n",
       "    </tr>\n",
       "    <tr>\n",
       "      <th>측정일시</th>\n",
       "      <th></th>\n",
       "      <th></th>\n",
       "      <th></th>\n",
       "      <th></th>\n",
       "      <th></th>\n",
       "    </tr>\n",
       "  </thead>\n",
       "  <tbody>\n",
       "    <tr>\n",
       "      <th>2012-01-01</th>\n",
       "      <td>0.036</td>\n",
       "      <td>0.009</td>\n",
       "      <td>1.0</td>\n",
       "      <td>0.01</td>\n",
       "      <td>57.0</td>\n",
       "    </tr>\n",
       "  </tbody>\n",
       "</table>\n",
       "</div>"
      ],
      "text/plain": [
       "            이산화질소     오존  일산화탄소   아황산   초미세\n",
       "측정일시                                       \n",
       "2012-01-01  0.036  0.009    1.0  0.01  57.0"
      ]
     },
     "execution_count": 21,
     "metadata": {},
     "output_type": "execute_result"
    }
   ],
   "source": [
    "df_feature.head(1)"
   ]
  },
  {
   "cell_type": "code",
   "execution_count": null,
   "metadata": {},
   "outputs": [],
   "source": [
    "from sklearn.linear_model import LinearRegression\n",
    "from sklearn.model_selection import train_test_split"
   ]
  },
  {
   "cell_type": "code",
   "execution_count": null,
   "metadata": {},
   "outputs": [
    {
     "data": {
      "text/plain": [
       "(Index(['이산화질소', '오존', '일산화탄소', '아황산', '초미세', '미세'], dtype='object'),\n",
       " Index(['미세'], dtype='object'))"
      ]
     },
     "execution_count": 49,
     "metadata": {},
     "output_type": "execute_result"
    }
   ],
   "source": [
    "df_feature.columns , df_target.columns"
   ]
  },
  {
   "cell_type": "code",
   "execution_count": null,
   "metadata": {},
   "outputs": [],
   "source": [
    "from sklearn.model_selection import train_test_split\n",
    "X_train, X_test, y_train, y_test = train_test_split(\n",
    "    df_feature.values, df_target.values, test_size=0.2, random_state=2023\n",
    ")"
   ]
  },
  {
   "cell_type": "code",
   "execution_count": null,
   "metadata": {},
   "outputs": [
    {
     "data": {
      "text/html": [
       "<style>#sk-container-id-2 {color: black;}#sk-container-id-2 pre{padding: 0;}#sk-container-id-2 div.sk-toggleable {background-color: white;}#sk-container-id-2 label.sk-toggleable__label {cursor: pointer;display: block;width: 100%;margin-bottom: 0;padding: 0.3em;box-sizing: border-box;text-align: center;}#sk-container-id-2 label.sk-toggleable__label-arrow:before {content: \"▸\";float: left;margin-right: 0.25em;color: #696969;}#sk-container-id-2 label.sk-toggleable__label-arrow:hover:before {color: black;}#sk-container-id-2 div.sk-estimator:hover label.sk-toggleable__label-arrow:before {color: black;}#sk-container-id-2 div.sk-toggleable__content {max-height: 0;max-width: 0;overflow: hidden;text-align: left;background-color: #f0f8ff;}#sk-container-id-2 div.sk-toggleable__content pre {margin: 0.2em;color: black;border-radius: 0.25em;background-color: #f0f8ff;}#sk-container-id-2 input.sk-toggleable__control:checked~div.sk-toggleable__content {max-height: 200px;max-width: 100%;overflow: auto;}#sk-container-id-2 input.sk-toggleable__control:checked~label.sk-toggleable__label-arrow:before {content: \"▾\";}#sk-container-id-2 div.sk-estimator input.sk-toggleable__control:checked~label.sk-toggleable__label {background-color: #d4ebff;}#sk-container-id-2 div.sk-label input.sk-toggleable__control:checked~label.sk-toggleable__label {background-color: #d4ebff;}#sk-container-id-2 input.sk-hidden--visually {border: 0;clip: rect(1px 1px 1px 1px);clip: rect(1px, 1px, 1px, 1px);height: 1px;margin: -1px;overflow: hidden;padding: 0;position: absolute;width: 1px;}#sk-container-id-2 div.sk-estimator {font-family: monospace;background-color: #f0f8ff;border: 1px dotted black;border-radius: 0.25em;box-sizing: border-box;margin-bottom: 0.5em;}#sk-container-id-2 div.sk-estimator:hover {background-color: #d4ebff;}#sk-container-id-2 div.sk-parallel-item::after {content: \"\";width: 100%;border-bottom: 1px solid gray;flex-grow: 1;}#sk-container-id-2 div.sk-label:hover label.sk-toggleable__label {background-color: #d4ebff;}#sk-container-id-2 div.sk-serial::before {content: \"\";position: absolute;border-left: 1px solid gray;box-sizing: border-box;top: 0;bottom: 0;left: 50%;z-index: 0;}#sk-container-id-2 div.sk-serial {display: flex;flex-direction: column;align-items: center;background-color: white;padding-right: 0.2em;padding-left: 0.2em;position: relative;}#sk-container-id-2 div.sk-item {position: relative;z-index: 1;}#sk-container-id-2 div.sk-parallel {display: flex;align-items: stretch;justify-content: center;background-color: white;position: relative;}#sk-container-id-2 div.sk-item::before, #sk-container-id-2 div.sk-parallel-item::before {content: \"\";position: absolute;border-left: 1px solid gray;box-sizing: border-box;top: 0;bottom: 0;left: 50%;z-index: -1;}#sk-container-id-2 div.sk-parallel-item {display: flex;flex-direction: column;z-index: 1;position: relative;background-color: white;}#sk-container-id-2 div.sk-parallel-item:first-child::after {align-self: flex-end;width: 50%;}#sk-container-id-2 div.sk-parallel-item:last-child::after {align-self: flex-start;width: 50%;}#sk-container-id-2 div.sk-parallel-item:only-child::after {width: 0;}#sk-container-id-2 div.sk-dashed-wrapped {border: 1px dashed gray;margin: 0 0.4em 0.5em 0.4em;box-sizing: border-box;padding-bottom: 0.4em;background-color: white;}#sk-container-id-2 div.sk-label label {font-family: monospace;font-weight: bold;display: inline-block;line-height: 1.2em;}#sk-container-id-2 div.sk-label-container {text-align: center;}#sk-container-id-2 div.sk-container {/* jupyter's `normalize.less` sets `[hidden] { display: none; }` but bootstrap.min.css set `[hidden] { display: none !important; }` so we also need the `!important` here to be able to override the default hidden behavior on the sphinx rendered scikit-learn.org. See: https://github.com/scikit-learn/scikit-learn/issues/21755 */display: inline-block !important;position: relative;}#sk-container-id-2 div.sk-text-repr-fallback {display: none;}</style><div id=\"sk-container-id-2\" class=\"sk-top-container\"><div class=\"sk-text-repr-fallback\"><pre>LinearRegression()</pre><b>In a Jupyter environment, please rerun this cell to show the HTML representation or trust the notebook. <br />On GitHub, the HTML representation is unable to render, please try loading this page with nbviewer.org.</b></div><div class=\"sk-container\" hidden><div class=\"sk-item\"><div class=\"sk-estimator sk-toggleable\"><input class=\"sk-toggleable__control sk-hidden--visually\" id=\"sk-estimator-id-2\" type=\"checkbox\" checked><label for=\"sk-estimator-id-2\" class=\"sk-toggleable__label sk-toggleable__label-arrow\">LinearRegression</label><div class=\"sk-toggleable__content\"><pre>LinearRegression()</pre></div></div></div></div></div>"
      ],
      "text/plain": [
       "LinearRegression()"
      ]
     },
     "execution_count": 51,
     "metadata": {},
     "output_type": "execute_result"
    }
   ],
   "source": [
    "lr = LinearRegression()\n",
    "lr.fit(X_train, y_train)"
   ]
  },
  {
   "cell_type": "code",
   "execution_count": null,
   "metadata": {},
   "outputs": [
    {
     "data": {
      "text/plain": [
       "1.0"
      ]
     },
     "execution_count": 52,
     "metadata": {},
     "output_type": "execute_result"
    }
   ],
   "source": [
    "# 결정계수(R Squared)\n",
    "lr.score(X_test, y_test)"
   ]
  },
  {
   "cell_type": "code",
   "execution_count": null,
   "metadata": {},
   "outputs": [],
   "source": [
    "\n",
    "from sklearn.svm import SVR\n",
    "from sklearn.metrics import r2_score, mean_squared_error"
   ]
  },
  {
   "cell_type": "code",
   "execution_count": null,
   "metadata": {},
   "outputs": [
    {
     "data": {
      "text/plain": [
       "0.8288632169974571"
      ]
     },
     "execution_count": 54,
     "metadata": {},
     "output_type": "execute_result"
    }
   ],
   "source": [
    "svr = SVR()\n",
    "svr.fit(X_train, y_train)\n",
    "y_hat_sv = svr.predict(X_test)\n",
    "r2_sv = r2_score(y_test, y_hat_sv)\n",
    "mse_sv = mean_squared_error(y_test, y_hat_sv)\n",
    "r2_sv"
   ]
  },
  {
   "cell_type": "code",
   "execution_count": null,
   "metadata": {},
   "outputs": [
    {
     "data": {
      "text/plain": [
       "0.9986545254204773"
      ]
     },
     "execution_count": 55,
     "metadata": {},
     "output_type": "execute_result"
    }
   ],
   "source": [
    "from sklearn.ensemble import RandomForestRegressor\n",
    "rfr = RandomForestRegressor(random_state=2023)\n",
    "rfr.fit(X_train, y_train)\n",
    "y_hat_rf = rfr.predict(X_test)\n",
    "r2_rf = r2_score(y_test, y_hat_rf)\n",
    "mse_rf = mean_squared_error(y_test, y_hat_rf)\n",
    "r2_rf"
   ]
  },
  {
   "cell_type": "code",
   "execution_count": null,
   "metadata": {},
   "outputs": [
    {
     "data": {
      "text/plain": [
       "0.9986545254204773"
      ]
     },
     "execution_count": 56,
     "metadata": {},
     "output_type": "execute_result"
    }
   ],
   "source": [
    "rfr = RandomForestRegressor(random_state=2023)\n",
    "rfr.fit(X_train, y_train)\n",
    "y_hat_rf = rfr.predict(X_test)\n",
    "r2_rf = r2_score(y_test, y_hat_rf)\n",
    "mse_rf = mean_squared_error(y_test, y_hat_rf)\n",
    "r2_rf"
   ]
  },
  {
   "cell_type": "code",
   "execution_count": null,
   "metadata": {},
   "outputs": [
    {
     "data": {
      "text/plain": [
       "{'bootstrap': True,\n",
       " 'ccp_alpha': 0.0,\n",
       " 'criterion': 'squared_error',\n",
       " 'max_depth': None,\n",
       " 'max_features': 1.0,\n",
       " 'max_leaf_nodes': None,\n",
       " 'max_samples': None,\n",
       " 'min_impurity_decrease': 0.0,\n",
       " 'min_samples_leaf': 1,\n",
       " 'min_samples_split': 2,\n",
       " 'min_weight_fraction_leaf': 0.0,\n",
       " 'n_estimators': 100,\n",
       " 'n_jobs': None,\n",
       " 'oob_score': False,\n",
       " 'random_state': 2023,\n",
       " 'verbose': 0,\n",
       " 'warm_start': False}"
      ]
     },
     "execution_count": 32,
     "metadata": {},
     "output_type": "execute_result"
    }
   ],
   "source": [
    "rfr.get_params()"
   ]
  },
  {
   "cell_type": "code",
   "execution_count": null,
   "metadata": {},
   "outputs": [
    {
     "data": {
      "text/plain": [
       "({'max_depth': 1, 'min_samples_leaf': 1, 'min_samples_split': 2},\n",
       " 0.5782358691317517)"
      ]
     },
     "execution_count": 57,
     "metadata": {},
     "output_type": "execute_result"
    }
   ],
   "source": [
    "from sklearn.model_selection import GridSearchCV\n",
    "params = { 'max_depth' : [1, 3, 5, 7], \n",
    "    'min_samples_leaf' : [1, 3, 5, 7],\n",
    "    'min_samples_split' : [2, 3, 5, 7] }\n",
    "grid_rfr = GridSearchCV(rfr, params, scoring='accuracy', cv=5)\n",
    "grid_rfr.fit(X_train, y_train)\n",
    "grid_rfr.best_params_ , grid_rfr.best_estimator_.score(X_test, y_test)"
   ]
  },
  {
   "cell_type": "code",
   "execution_count": null,
   "metadata": {},
   "outputs": [
    {
     "data": {
      "text/plain": [
       "({'n_estimators': 100}, 0.6644971966892542)"
      ]
     },
     "execution_count": 34,
     "metadata": {},
     "output_type": "execute_result"
    }
   ],
   "source": [
    "from sklearn.model_selection import GridSearchCV\n",
    "params = {'n_estimators': [100,300,600]}\n",
    "grid_rfr = GridSearchCV(rfr, params, scoring='accuracy', cv=5)\n",
    "grid_rfr.fit(X_train, y_train)\n",
    "grid_rfr.best_params_ , grid_rfr.best_estimator_.score(X_test, y_test)"
   ]
  },
  {
   "cell_type": "code",
   "execution_count": null,
   "metadata": {},
   "outputs": [
    {
     "data": {
      "text/plain": [
       "0.6644971966892542"
      ]
     },
     "execution_count": 35,
     "metadata": {},
     "output_type": "execute_result"
    }
   ],
   "source": [
    "grid_rfr.best_estimator_.score(X_test, y_test)"
   ]
  },
  {
   "cell_type": "code",
   "execution_count": null,
   "metadata": {},
   "outputs": [
    {
     "data": {
      "text/plain": [
       "{'max_depth': 3}"
      ]
     },
     "execution_count": 30,
     "metadata": {},
     "output_type": "execute_result"
    }
   ],
   "source": [
    "from sklearn.model_selection import GridSearchCV\n",
    "params = {'max_depth': [3, 6, 9,12]}\n",
    "grid_rfr = GridSearchCV(rfr, params, scoring='accuracy', cv=5)\n",
    "grid_rfr.fit(X_train, y_train)\n",
    "grid_rfr.best_params_"
   ]
  },
  {
   "cell_type": "code",
   "execution_count": null,
   "metadata": {},
   "outputs": [
    {
     "data": {
      "text/plain": [
       "0.4127685028829484"
      ]
     },
     "execution_count": 31,
     "metadata": {},
     "output_type": "execute_result"
    }
   ],
   "source": [
    "grid_rfr.best_estimator_.score(X_test, y_test)"
   ]
  },
  {
   "cell_type": "code",
   "execution_count": null,
   "metadata": {},
   "outputs": [
    {
     "data": {
      "text/plain": [
       "{'max_depth': 2}"
      ]
     },
     "execution_count": 32,
     "metadata": {},
     "output_type": "execute_result"
    }
   ],
   "source": [
    "params = {'max_depth': [2,3,4,5]}\n",
    "grid_rfr = GridSearchCV(rfr, params, scoring='accuracy', cv=5)\n",
    "grid_rfr.fit(X_train, y_train)\n",
    "grid_rfr.best_params_"
   ]
  },
  {
   "cell_type": "code",
   "execution_count": null,
   "metadata": {},
   "outputs": [
    {
     "data": {
      "text/plain": [
       "0.33250224999052924"
      ]
     },
     "execution_count": 33,
     "metadata": {},
     "output_type": "execute_result"
    }
   ],
   "source": [
    "grid_rfr.best_estimator_.score(X_test, y_test)"
   ]
  },
  {
   "cell_type": "code",
   "execution_count": null,
   "metadata": {},
   "outputs": [
    {
     "data": {
      "text/plain": [
       "{'max_depth': 1}"
      ]
     },
     "execution_count": 34,
     "metadata": {},
     "output_type": "execute_result"
    }
   ],
   "source": [
    "params = {'max_depth': [1,1.5,2]}\n",
    "grid_rfr = GridSearchCV(rfr, params, scoring='accuracy', cv=5)\n",
    "grid_rfr.fit(X_train, y_train)\n",
    "grid_rfr.best_params_"
   ]
  },
  {
   "cell_type": "code",
   "execution_count": null,
   "metadata": {},
   "outputs": [
    {
     "data": {
      "text/plain": [
       "0.2489949618126286"
      ]
     },
     "execution_count": 35,
     "metadata": {},
     "output_type": "execute_result"
    }
   ],
   "source": [
    "grid_rfr.best_estimator_.score(X_test, y_test)"
   ]
  },
  {
   "cell_type": "code",
   "execution_count": null,
   "metadata": {},
   "outputs": [
    {
     "data": {
      "text/plain": [
       "0.6609139882424788"
      ]
     },
     "execution_count": 36,
     "metadata": {},
     "output_type": "execute_result"
    }
   ],
   "source": [
    "from xgboost import XGBRegressor\n",
    "xgbr = XGBRegressor()\n",
    "xgbr.fit(X_train, y_train)\n",
    "y_hat_xgb = xgbr.predict(X_test)\n",
    "r2_xgb = r2_score(y_test, y_hat_xgb)\n",
    "mse_xgb = mean_squared_error(y_test, y_hat_xgb)\n",
    "r2_xgb"
   ]
  },
  {
   "cell_type": "code",
   "execution_count": 21,
   "metadata": {},
   "outputs": [],
   "source": [
    "import numpy as np\n",
    "import pandas as pd\n",
    "from sklearn.preprocessing import MinMaxScaler\n",
    "from tensorflow.keras.models import Sequential\n",
    "from tensorflow.keras.layers import LSTM, Dense\n",
    "from tensorflow.keras.optimizers import Adam\n",
    "from sklearn.preprocessing import StandardScaler\n",
    "import matplotlib.pyplot as plt\n",
    "from keras.preprocessing.sequence import TimeseriesGenerator"
   ]
  },
  {
   "cell_type": "code",
   "execution_count": 15,
   "metadata": {},
   "outputs": [
    {
     "data": {
      "text/html": [
       "<div>\n",
       "<style scoped>\n",
       "    .dataframe tbody tr th:only-of-type {\n",
       "        vertical-align: middle;\n",
       "    }\n",
       "\n",
       "    .dataframe tbody tr th {\n",
       "        vertical-align: top;\n",
       "    }\n",
       "\n",
       "    .dataframe thead th {\n",
       "        text-align: right;\n",
       "    }\n",
       "</style>\n",
       "<table border=\"1\" class=\"dataframe\">\n",
       "  <thead>\n",
       "    <tr style=\"text-align: right;\">\n",
       "      <th></th>\n",
       "      <th>이산화질소</th>\n",
       "      <th>오존</th>\n",
       "      <th>일산화탄소</th>\n",
       "      <th>아황산</th>\n",
       "      <th>미세</th>\n",
       "      <th>초미세</th>\n",
       "    </tr>\n",
       "    <tr>\n",
       "      <th>측정일시</th>\n",
       "      <th></th>\n",
       "      <th></th>\n",
       "      <th></th>\n",
       "      <th></th>\n",
       "      <th></th>\n",
       "      <th></th>\n",
       "    </tr>\n",
       "  </thead>\n",
       "  <tbody>\n",
       "    <tr>\n",
       "      <th>2023-12-07</th>\n",
       "      <td>0.026</td>\n",
       "      <td>0.0184</td>\n",
       "      <td>0.50</td>\n",
       "      <td>0.0033</td>\n",
       "      <td>62.2</td>\n",
       "      <td>16.5</td>\n",
       "    </tr>\n",
       "    <tr>\n",
       "      <th>2023-12-08</th>\n",
       "      <td>0.029</td>\n",
       "      <td>0.0300</td>\n",
       "      <td>0.56</td>\n",
       "      <td>0.0031</td>\n",
       "      <td>84.2</td>\n",
       "      <td>22.8</td>\n",
       "    </tr>\n",
       "    <tr>\n",
       "      <th>2023-12-09</th>\n",
       "      <td>0.027</td>\n",
       "      <td>0.0379</td>\n",
       "      <td>0.61</td>\n",
       "      <td>0.0029</td>\n",
       "      <td>72.3</td>\n",
       "      <td>30.7</td>\n",
       "    </tr>\n",
       "    <tr>\n",
       "      <th>2023-12-10</th>\n",
       "      <td>0.025</td>\n",
       "      <td>0.0209</td>\n",
       "      <td>0.67</td>\n",
       "      <td>0.0029</td>\n",
       "      <td>80.2</td>\n",
       "      <td>35.6</td>\n",
       "    </tr>\n",
       "    <tr>\n",
       "      <th>2023-12-11</th>\n",
       "      <td>0.015</td>\n",
       "      <td>0.0227</td>\n",
       "      <td>0.40</td>\n",
       "      <td>0.0024</td>\n",
       "      <td>7.2</td>\n",
       "      <td>3.0</td>\n",
       "    </tr>\n",
       "  </tbody>\n",
       "</table>\n",
       "</div>"
      ],
      "text/plain": [
       "            이산화질소      오존  일산화탄소     아황산    미세   초미세\n",
       "측정일시                                                \n",
       "2023-12-07  0.026  0.0184   0.50  0.0033  62.2  16.5\n",
       "2023-12-08  0.029  0.0300   0.56  0.0031  84.2  22.8\n",
       "2023-12-09  0.027  0.0379   0.61  0.0029  72.3  30.7\n",
       "2023-12-10  0.025  0.0209   0.67  0.0029  80.2  35.6\n",
       "2023-12-11  0.015  0.0227   0.40  0.0024   7.2   3.0"
      ]
     },
     "execution_count": 15,
     "metadata": {},
     "output_type": "execute_result"
    }
   ],
   "source": [
    "df.tail()"
   ]
  },
  {
   "cell_type": "code",
   "execution_count": 27,
   "metadata": {},
   "outputs": [
    {
     "data": {
      "text/plain": [
       "Index(['이산화질소', '오존', '일산화탄소', '아황산', '미세', '초미세'], dtype='object')"
      ]
     },
     "execution_count": 27,
     "metadata": {},
     "output_type": "execute_result"
    }
   ],
   "source": [
    "df.columns"
   ]
  },
  {
   "cell_type": "code",
   "execution_count": 45,
   "metadata": {},
   "outputs": [],
   "source": [
    "from sklearn.preprocessing import MinMaxScaler\n",
    "\n",
    "# 피쳐 및 타겟 분리\n",
    "features = df[['이산화질소', '오존', '일산화탄소', '아황산', '초미세']]\n",
    "target = df['미세']\n",
    "\n",
    "# 피쳐 스케일링\n",
    "scaler_features = MinMaxScaler()\n",
    "features_scaled = scaler_features.fit_transform(features)\n",
    "\n",
    "# 타겟 스케일링\n",
    "scaler_target = MinMaxScaler()\n",
    "target_scaled = scaler_target.fit_transform(target.values.reshape(-1, 1))\n"
   ]
  },
  {
   "cell_type": "code",
   "execution_count": 46,
   "metadata": {},
   "outputs": [],
   "source": [
    "from keras.preprocessing.sequence import TimeseriesGenerator\n",
    "\n",
    "n_input = 30\n",
    "n_features = features.shape[1]\n",
    "generator = TimeseriesGenerator(features_scaled, target_scaled, length=n_input, batch_size=1)\n"
   ]
  },
  {
   "cell_type": "code",
   "execution_count": 47,
   "metadata": {},
   "outputs": [],
   "source": [
    "from keras.models import Sequential\n",
    "from keras.layers import LSTM, Dense\n",
    "from keras.callbacks import EarlyStopping\n",
    "\n",
    "# LSTM 모델 구축\n",
    "model = Sequential()\n",
    "model.add(LSTM(50, activation='relu', input_shape=(n_input, n_features)))\n",
    "model.add(Dense(1))\n",
    "model.compile(optimizer='adam', loss='mse')\n",
    "\n",
    "# EarlyStopping 콜백 설정 조기종료\n",
    "early_stopping = EarlyStopping(monitor='loss', patience=10)\n"
   ]
  },
  {
   "cell_type": "code",
   "execution_count": 48,
   "metadata": {},
   "outputs": [
    {
     "name": "stdout",
     "output_type": "stream",
     "text": [
      "Epoch 1/100\n"
     ]
    },
    {
     "name": "stdout",
     "output_type": "stream",
     "text": [
      "4274/4274 [==============================] - 30s 7ms/step - loss: 0.0019\n",
      "Epoch 2/100\n",
      "4274/4274 [==============================] - 29s 7ms/step - loss: 0.0016\n",
      "Epoch 3/100\n",
      "4274/4274 [==============================] - 29s 7ms/step - loss: 0.0016\n",
      "Epoch 4/100\n",
      "4274/4274 [==============================] - 29s 7ms/step - loss: 0.0016\n",
      "Epoch 5/100\n",
      "4274/4274 [==============================] - 29s 7ms/step - loss: 0.0016\n",
      "Epoch 6/100\n",
      "4274/4274 [==============================] - 30s 7ms/step - loss: 0.0016\n",
      "Epoch 7/100\n",
      "4274/4274 [==============================] - 30s 7ms/step - loss: 0.0016\n",
      "Epoch 8/100\n",
      "4274/4274 [==============================] - 29s 7ms/step - loss: 0.0015\n",
      "Epoch 9/100\n",
      "4274/4274 [==============================] - 29s 7ms/step - loss: 0.0015\n",
      "Epoch 10/100\n",
      "4274/4274 [==============================] - 29s 7ms/step - loss: 0.0015\n",
      "Epoch 11/100\n",
      "4274/4274 [==============================] - 29s 7ms/step - loss: 0.0015\n",
      "Epoch 12/100\n",
      "4274/4274 [==============================] - 29s 7ms/step - loss: 0.0015\n",
      "Epoch 13/100\n",
      "4274/4274 [==============================] - 29s 7ms/step - loss: 0.0015\n",
      "Epoch 14/100\n",
      "4274/4274 [==============================] - 29s 7ms/step - loss: 0.0015\n",
      "Epoch 15/100\n",
      "4274/4274 [==============================] - 30s 7ms/step - loss: 0.0015\n",
      "Epoch 16/100\n",
      "4274/4274 [==============================] - 29s 7ms/step - loss: 0.0015\n",
      "Epoch 17/100\n",
      "4274/4274 [==============================] - 29s 7ms/step - loss: 0.0015\n",
      "Epoch 18/100\n",
      "4274/4274 [==============================] - 29s 7ms/step - loss: 0.0015\n",
      "Epoch 19/100\n",
      "4274/4274 [==============================] - 29s 7ms/step - loss: 0.0015\n",
      "Epoch 20/100\n",
      "4274/4274 [==============================] - 29s 7ms/step - loss: 0.0015\n",
      "Epoch 21/100\n",
      "4274/4274 [==============================] - 29s 7ms/step - loss: 0.0015\n",
      "Epoch 22/100\n",
      "4274/4274 [==============================] - 29s 7ms/step - loss: 0.0014\n",
      "Epoch 23/100\n",
      "4274/4274 [==============================] - 29s 7ms/step - loss: 0.0015\n",
      "Epoch 24/100\n",
      "4274/4274 [==============================] - 29s 7ms/step - loss: 0.0014\n",
      "Epoch 25/100\n",
      "4274/4274 [==============================] - 29s 7ms/step - loss: 0.0014\n",
      "Epoch 26/100\n",
      "4274/4274 [==============================] - 29s 7ms/step - loss: 0.0014\n",
      "Epoch 27/100\n",
      "4274/4274 [==============================] - 31s 7ms/step - loss: 0.0014\n",
      "Epoch 28/100\n",
      "4274/4274 [==============================] - 29s 7ms/step - loss: 0.0014\n",
      "Epoch 29/100\n",
      "4274/4274 [==============================] - 29s 7ms/step - loss: 0.0014\n",
      "Epoch 30/100\n",
      "4274/4274 [==============================] - 29s 7ms/step - loss: 0.0014\n",
      "Epoch 31/100\n",
      "4274/4274 [==============================] - 29s 7ms/step - loss: 0.0014\n",
      "Epoch 32/100\n",
      "4274/4274 [==============================] - 30s 7ms/step - loss: 0.0014\n",
      "Epoch 33/100\n",
      "4274/4274 [==============================] - 29s 7ms/step - loss: 0.0014\n",
      "Epoch 34/100\n",
      "4274/4274 [==============================] - 29s 7ms/step - loss: 0.0014\n",
      "Epoch 35/100\n",
      "4274/4274 [==============================] - 29s 7ms/step - loss: 0.0014\n",
      "Epoch 36/100\n",
      "4274/4274 [==============================] - 29s 7ms/step - loss: 0.0014\n",
      "Epoch 37/100\n",
      "4274/4274 [==============================] - 30s 7ms/step - loss: 0.0014\n",
      "Epoch 38/100\n",
      "4274/4274 [==============================] - 30s 7ms/step - loss: 0.0014\n",
      "Epoch 39/100\n",
      "4274/4274 [==============================] - 30s 7ms/step - loss: 0.0014\n",
      "Epoch 40/100\n",
      "4274/4274 [==============================] - 30s 7ms/step - loss: 0.0013\n",
      "Epoch 41/100\n",
      "4274/4274 [==============================] - 28s 7ms/step - loss: 0.0013\n",
      "Epoch 42/100\n",
      "4274/4274 [==============================] - 28s 7ms/step - loss: 0.0013\n",
      "Epoch 43/100\n",
      "4274/4274 [==============================] - 30s 7ms/step - loss: 0.0013\n",
      "Epoch 44/100\n",
      "4274/4274 [==============================] - 29s 7ms/step - loss: 0.0013\n",
      "Epoch 45/100\n",
      "4274/4274 [==============================] - 29s 7ms/step - loss: 0.0013\n",
      "Epoch 46/100\n",
      "4274/4274 [==============================] - 30s 7ms/step - loss: 0.0013\n",
      "Epoch 47/100\n",
      "4274/4274 [==============================] - 29s 7ms/step - loss: 0.0013\n",
      "Epoch 48/100\n",
      "4274/4274 [==============================] - 28s 7ms/step - loss: 0.0013\n",
      "Epoch 49/100\n",
      "4274/4274 [==============================] - 29s 7ms/step - loss: 0.0013\n",
      "Epoch 50/100\n",
      "4274/4274 [==============================] - 29s 7ms/step - loss: 0.0013\n",
      "Epoch 51/100\n",
      "4274/4274 [==============================] - 29s 7ms/step - loss: 0.0013\n",
      "Epoch 52/100\n",
      "4274/4274 [==============================] - 30s 7ms/step - loss: 0.0013\n",
      "Epoch 53/100\n",
      "4274/4274 [==============================] - 28s 7ms/step - loss: 0.0013\n",
      "Epoch 54/100\n",
      "4274/4274 [==============================] - 28s 7ms/step - loss: 0.0013\n",
      "Epoch 55/100\n",
      "4274/4274 [==============================] - 28s 7ms/step - loss: 0.0013\n",
      "Epoch 56/100\n",
      "4274/4274 [==============================] - 29s 7ms/step - loss: 0.0013\n",
      "Epoch 57/100\n",
      "4274/4274 [==============================] - 28s 6ms/step - loss: 0.0013\n",
      "Epoch 58/100\n",
      "4274/4274 [==============================] - 28s 7ms/step - loss: 0.0013\n",
      "Epoch 59/100\n",
      "4274/4274 [==============================] - 27s 6ms/step - loss: 0.0013\n",
      "Epoch 60/100\n",
      "4274/4274 [==============================] - 28s 7ms/step - loss: 0.0013\n",
      "Epoch 61/100\n",
      "4274/4274 [==============================] - 29s 7ms/step - loss: 0.0013\n",
      "Epoch 62/100\n",
      "4274/4274 [==============================] - 29s 7ms/step - loss: 0.0013\n",
      "Epoch 63/100\n",
      "4274/4274 [==============================] - 29s 7ms/step - loss: 0.0013\n",
      "Epoch 64/100\n",
      "4274/4274 [==============================] - 28s 6ms/step - loss: 0.0013\n",
      "Epoch 65/100\n",
      "4274/4274 [==============================] - 27s 6ms/step - loss: 0.0013\n",
      "Epoch 66/100\n",
      "4274/4274 [==============================] - 27s 6ms/step - loss: 0.0013\n",
      "Epoch 67/100\n",
      "4274/4274 [==============================] - 27s 6ms/step - loss: 0.0013\n",
      "Epoch 68/100\n",
      "4274/4274 [==============================] - 28s 6ms/step - loss: 0.0013\n",
      "Epoch 69/100\n",
      "4274/4274 [==============================] - 27s 6ms/step - loss: 0.0013\n",
      "Epoch 70/100\n",
      "4274/4274 [==============================] - 27s 6ms/step - loss: 0.0013\n",
      "Epoch 71/100\n",
      "4274/4274 [==============================] - 28s 6ms/step - loss: 0.0013\n",
      "Epoch 72/100\n",
      "4274/4274 [==============================] - 27s 6ms/step - loss: 0.0013\n",
      "Epoch 73/100\n",
      "4274/4274 [==============================] - 27s 6ms/step - loss: 0.0013\n",
      "Epoch 74/100\n",
      "4274/4274 [==============================] - 27s 6ms/step - loss: 0.0013\n",
      "Epoch 75/100\n",
      "4274/4274 [==============================] - 27s 6ms/step - loss: 0.0013\n",
      "Epoch 76/100\n",
      "4274/4274 [==============================] - 27s 6ms/step - loss: 0.0013\n",
      "Epoch 77/100\n",
      "4274/4274 [==============================] - 27s 6ms/step - loss: 0.0013\n",
      "Epoch 78/100\n",
      "4274/4274 [==============================] - 27s 6ms/step - loss: 0.0013\n",
      "Epoch 79/100\n",
      "4274/4274 [==============================] - 28s 6ms/step - loss: 0.0013\n",
      "Epoch 80/100\n",
      "4274/4274 [==============================] - 27s 6ms/step - loss: 0.0013\n",
      "Epoch 81/100\n",
      "4274/4274 [==============================] - 27s 6ms/step - loss: 0.0013\n",
      "Epoch 82/100\n",
      "4274/4274 [==============================] - 29s 7ms/step - loss: 0.0013\n",
      "Epoch 83/100\n",
      "4274/4274 [==============================] - 29s 7ms/step - loss: 0.0012\n",
      "Epoch 84/100\n",
      "4274/4274 [==============================] - 29s 7ms/step - loss: 0.0013\n",
      "Epoch 85/100\n",
      "4274/4274 [==============================] - 28s 7ms/step - loss: 0.0013\n",
      "Epoch 86/100\n",
      "4274/4274 [==============================] - 29s 7ms/step - loss: 0.0012\n",
      "Epoch 87/100\n",
      "4274/4274 [==============================] - 30s 7ms/step - loss: 0.0013\n",
      "Epoch 88/100\n",
      "4274/4274 [==============================] - 30s 7ms/step - loss: 0.0012\n",
      "Epoch 89/100\n",
      "4274/4274 [==============================] - 29s 7ms/step - loss: 0.0012\n",
      "Epoch 90/100\n",
      "4274/4274 [==============================] - 29s 7ms/step - loss: 0.0012\n",
      "Epoch 91/100\n",
      "4274/4274 [==============================] - 29s 7ms/step - loss: 0.0012\n",
      "Epoch 92/100\n",
      "4274/4274 [==============================] - 29s 7ms/step - loss: 0.0012\n",
      "Epoch 93/100\n",
      "4274/4274 [==============================] - 29s 7ms/step - loss: 0.0012\n",
      "Epoch 94/100\n",
      "4274/4274 [==============================] - 30s 7ms/step - loss: 0.0012\n",
      "Epoch 95/100\n",
      "4274/4274 [==============================] - 29s 7ms/step - loss: 0.0012\n",
      "Epoch 96/100\n",
      "4274/4274 [==============================] - 29s 7ms/step - loss: 0.0012\n",
      "Epoch 97/100\n",
      "4274/4274 [==============================] - 30s 7ms/step - loss: 0.0012\n",
      "Epoch 98/100\n",
      "4274/4274 [==============================] - 29s 7ms/step - loss: 0.0012\n",
      "Epoch 99/100\n",
      "4274/4274 [==============================] - 29s 7ms/step - loss: 0.0012\n",
      "Epoch 100/100\n",
      "4274/4274 [==============================] - 29s 7ms/step - loss: 0.0012\n"
     ]
    },
    {
     "data": {
      "text/plain": [
       "<keras.src.callbacks.History at 0x1e757d86190>"
      ]
     },
     "execution_count": 48,
     "metadata": {},
     "output_type": "execute_result"
    }
   ],
   "source": [
    "# 모델 훈련 with EarlyStopping\n",
    "model.fit(generator, epochs=100, callbacks=[early_stopping])\n"
   ]
  },
  {
   "cell_type": "code",
   "execution_count": 33,
   "metadata": {},
   "outputs": [
    {
     "data": {
      "text/html": [
       "<div>\n",
       "<style scoped>\n",
       "    .dataframe tbody tr th:only-of-type {\n",
       "        vertical-align: middle;\n",
       "    }\n",
       "\n",
       "    .dataframe tbody tr th {\n",
       "        vertical-align: top;\n",
       "    }\n",
       "\n",
       "    .dataframe thead th {\n",
       "        text-align: right;\n",
       "    }\n",
       "</style>\n",
       "<table border=\"1\" class=\"dataframe\">\n",
       "  <thead>\n",
       "    <tr style=\"text-align: right;\">\n",
       "      <th></th>\n",
       "      <th>이산화질소</th>\n",
       "      <th>오존</th>\n",
       "      <th>일산화탄소</th>\n",
       "      <th>아황산</th>\n",
       "      <th>미세</th>\n",
       "      <th>초미세</th>\n",
       "    </tr>\n",
       "    <tr>\n",
       "      <th>측정일시</th>\n",
       "      <th></th>\n",
       "      <th></th>\n",
       "      <th></th>\n",
       "      <th></th>\n",
       "      <th></th>\n",
       "      <th></th>\n",
       "    </tr>\n",
       "  </thead>\n",
       "  <tbody>\n",
       "    <tr>\n",
       "      <th>2023-12-07</th>\n",
       "      <td>0.026</td>\n",
       "      <td>0.0184</td>\n",
       "      <td>0.50</td>\n",
       "      <td>0.0033</td>\n",
       "      <td>62.2</td>\n",
       "      <td>16.5</td>\n",
       "    </tr>\n",
       "    <tr>\n",
       "      <th>2023-12-08</th>\n",
       "      <td>0.029</td>\n",
       "      <td>0.0300</td>\n",
       "      <td>0.56</td>\n",
       "      <td>0.0031</td>\n",
       "      <td>84.2</td>\n",
       "      <td>22.8</td>\n",
       "    </tr>\n",
       "    <tr>\n",
       "      <th>2023-12-09</th>\n",
       "      <td>0.027</td>\n",
       "      <td>0.0379</td>\n",
       "      <td>0.61</td>\n",
       "      <td>0.0029</td>\n",
       "      <td>72.3</td>\n",
       "      <td>30.7</td>\n",
       "    </tr>\n",
       "    <tr>\n",
       "      <th>2023-12-10</th>\n",
       "      <td>0.025</td>\n",
       "      <td>0.0209</td>\n",
       "      <td>0.67</td>\n",
       "      <td>0.0029</td>\n",
       "      <td>80.2</td>\n",
       "      <td>35.6</td>\n",
       "    </tr>\n",
       "    <tr>\n",
       "      <th>2023-12-11</th>\n",
       "      <td>0.015</td>\n",
       "      <td>0.0227</td>\n",
       "      <td>0.40</td>\n",
       "      <td>0.0024</td>\n",
       "      <td>7.2</td>\n",
       "      <td>3.0</td>\n",
       "    </tr>\n",
       "  </tbody>\n",
       "</table>\n",
       "</div>"
      ],
      "text/plain": [
       "            이산화질소      오존  일산화탄소     아황산    미세   초미세\n",
       "측정일시                                                \n",
       "2023-12-07  0.026  0.0184   0.50  0.0033  62.2  16.5\n",
       "2023-12-08  0.029  0.0300   0.56  0.0031  84.2  22.8\n",
       "2023-12-09  0.027  0.0379   0.61  0.0029  72.3  30.7\n",
       "2023-12-10  0.025  0.0209   0.67  0.0029  80.2  35.6\n",
       "2023-12-11  0.015  0.0227   0.40  0.0024   7.2   3.0"
      ]
     },
     "execution_count": 33,
     "metadata": {},
     "output_type": "execute_result"
    }
   ],
   "source": [
    "df.tail()"
   ]
  },
  {
   "cell_type": "code",
   "execution_count": 49,
   "metadata": {},
   "outputs": [
    {
     "name": "stdout",
     "output_type": "stream",
     "text": [
      "4274/4274 [==============================] - 11s 2ms/step\n",
      "R^2 Score: 0.5005735436162553\n"
     ]
    }
   ],
   "source": [
    "from sklearn.metrics import r2_score\n",
    "\n",
    "# 테스트 데이터셋 준비 (예시)\n",
    "# 이 부분은 실제 데이터셋과 상황에 맞게 조정해야 합니다.\n",
    "# test_features_scaled, test_target_scaled는 테스트 데이터의 스케일된 피쳐와 타겟입니다.\n",
    "test_generator = TimeseriesGenerator(features_scaled , target_scaled, length=n_input, batch_size=1)\n",
    "\n",
    "# 테스트 데이터셋에 대한 예측 수행\n",
    "test_predictions = model.predict(test_generator)\n",
    "\n",
    "# 예측값 역 스케일링\n",
    "test_predictions_inverse = scaler_target.inverse_transform(test_predictions)\n",
    "\n",
    "# 실제 타겟 값 역 스케일링\n",
    "actual_target = scaler_target.inverse_transform(target_scaled[n_input:])\n",
    "\n",
    "# R^2 값 계산\n",
    "r2 = r2_score(actual_target, test_predictions_inverse)\n",
    "print(f'R^2 Score: {r2}')\n"
   ]
  },
  {
   "cell_type": "code",
   "execution_count": 50,
   "metadata": {},
   "outputs": [
    {
     "name": "stdout",
     "output_type": "stream",
     "text": [
      "[[15.164758]]\n"
     ]
    }
   ],
   "source": [
    "# 최근 데이터를 사용한 예측\n",
    "x_input = features_scaled[-n_input:]\n",
    "x_input = x_input.reshape((1, n_input, n_features))\n",
    "predicted = model.predict(x_input, verbose=0)\n",
    "\n",
    "# 예측값 역 스케일링\n",
    "predicted_inverse = scaler_target.inverse_transform(predicted)\n",
    "print(predicted_inverse)\n"
   ]
  },
  {
   "cell_type": "code",
   "execution_count": 22,
   "metadata": {},
   "outputs": [],
   "source": [
    "# 데이터 스케일링\n",
    "scaler = MinMaxScaler()\n",
    "data_scaled = scaler.fit_transform(df)\n",
    "\n",
    "# 데이터셋 생성\n",
    "n_input = 1  # 입력으로 사용할 일 수\n",
    "n_features = df.shape[1]  # 특성의 수\n",
    "generator = TimeseriesGenerator(data_scaled, data_scaled, length=n_input, batch_size=1)"
   ]
  },
  {
   "cell_type": "code",
   "execution_count": 23,
   "metadata": {},
   "outputs": [
    {
     "name": "stdout",
     "output_type": "stream",
     "text": [
      "Epoch 1/100\n",
      "4303/4303 [==============================] - 9s 2ms/step - loss: 0.0188\n",
      "Epoch 2/100\n",
      "4303/4303 [==============================] - 8s 2ms/step - loss: 0.0186\n",
      "Epoch 3/100\n",
      "4303/4303 [==============================] - 8s 2ms/step - loss: 0.0186\n",
      "Epoch 4/100\n",
      "4303/4303 [==============================] - 8s 2ms/step - loss: 0.0186\n",
      "Epoch 5/100\n",
      "4303/4303 [==============================] - 8s 2ms/step - loss: 0.0185\n",
      "Epoch 6/100\n",
      "4303/4303 [==============================] - 8s 2ms/step - loss: 0.0185\n",
      "Epoch 7/100\n",
      "4303/4303 [==============================] - 8s 2ms/step - loss: 0.0185\n",
      "Epoch 8/100\n",
      "4303/4303 [==============================] - 8s 2ms/step - loss: 0.0185\n",
      "Epoch 9/100\n",
      "4303/4303 [==============================] - 8s 2ms/step - loss: 0.0185\n",
      "Epoch 10/100\n",
      "4303/4303 [==============================] - 7s 2ms/step - loss: 0.0185\n",
      "Epoch 11/100\n",
      "4303/4303 [==============================] - 7s 2ms/step - loss: 0.0185\n",
      "Epoch 12/100\n",
      "4303/4303 [==============================] - 7s 2ms/step - loss: 0.0185\n",
      "Epoch 13/100\n",
      "4303/4303 [==============================] - 8s 2ms/step - loss: 0.0185\n",
      "Epoch 14/100\n",
      "4303/4303 [==============================] - 7s 2ms/step - loss: 0.0185\n",
      "Epoch 15/100\n",
      "4303/4303 [==============================] - 7s 2ms/step - loss: 0.0185\n",
      "Epoch 16/100\n",
      "4303/4303 [==============================] - 7s 2ms/step - loss: 0.0185\n",
      "Epoch 17/100\n",
      "4303/4303 [==============================] - 7s 2ms/step - loss: 0.0185\n",
      "Epoch 18/100\n",
      "4303/4303 [==============================] - 7s 2ms/step - loss: 0.0185\n",
      "Epoch 19/100\n",
      "4303/4303 [==============================] - 7s 2ms/step - loss: 0.0185\n",
      "Epoch 20/100\n",
      "4303/4303 [==============================] - 7s 2ms/step - loss: 0.0185\n",
      "Epoch 21/100\n",
      "4303/4303 [==============================] - 7s 2ms/step - loss: 0.0185\n",
      "Epoch 22/100\n",
      "4303/4303 [==============================] - 7s 2ms/step - loss: 0.0185\n",
      "Epoch 23/100\n",
      "4303/4303 [==============================] - 8s 2ms/step - loss: 0.0185\n",
      "Epoch 24/100\n",
      "4303/4303 [==============================] - 10s 2ms/step - loss: 0.0185\n",
      "Epoch 25/100\n",
      "4303/4303 [==============================] - 8s 2ms/step - loss: 0.0185\n",
      "Epoch 26/100\n",
      "4303/4303 [==============================] - 8s 2ms/step - loss: 0.0185\n",
      "Epoch 27/100\n",
      "4303/4303 [==============================] - 8s 2ms/step - loss: 0.0185\n",
      "Epoch 28/100\n",
      "4303/4303 [==============================] - 8s 2ms/step - loss: 0.0185\n",
      "Epoch 29/100\n",
      "4303/4303 [==============================] - 8s 2ms/step - loss: 0.0185\n",
      "Epoch 30/100\n",
      "4303/4303 [==============================] - 8s 2ms/step - loss: 0.0185\n",
      "Epoch 31/100\n",
      "4303/4303 [==============================] - 8s 2ms/step - loss: 0.0185\n",
      "Epoch 32/100\n",
      "4303/4303 [==============================] - 8s 2ms/step - loss: 0.0185\n",
      "Epoch 33/100\n",
      "4303/4303 [==============================] - 8s 2ms/step - loss: 0.0185\n",
      "Epoch 34/100\n",
      "4303/4303 [==============================] - 7s 2ms/step - loss: 0.0185\n",
      "Epoch 35/100\n",
      "4303/4303 [==============================] - 9s 2ms/step - loss: 0.0185\n",
      "Epoch 36/100\n",
      "4303/4303 [==============================] - 7s 2ms/step - loss: 0.0185\n",
      "Epoch 37/100\n",
      "4303/4303 [==============================] - 7s 2ms/step - loss: 0.0185\n",
      "Epoch 38/100\n",
      "4303/4303 [==============================] - 8s 2ms/step - loss: 0.0185\n",
      "Epoch 39/100\n",
      "4303/4303 [==============================] - 8s 2ms/step - loss: 0.0185\n",
      "Epoch 40/100\n",
      "4303/4303 [==============================] - 8s 2ms/step - loss: 0.0185\n",
      "Epoch 41/100\n",
      "4303/4303 [==============================] - 8s 2ms/step - loss: 0.0185\n",
      "Epoch 42/100\n",
      "4303/4303 [==============================] - 8s 2ms/step - loss: 0.0185\n",
      "Epoch 43/100\n",
      "4303/4303 [==============================] - 8s 2ms/step - loss: 0.0185\n",
      "Epoch 44/100\n",
      "4303/4303 [==============================] - 8s 2ms/step - loss: 0.0185\n",
      "Epoch 45/100\n",
      "4303/4303 [==============================] - 8s 2ms/step - loss: 0.0185\n",
      "Epoch 46/100\n",
      "4303/4303 [==============================] - 8s 2ms/step - loss: 0.0185\n",
      "Epoch 47/100\n",
      "4303/4303 [==============================] - 8s 2ms/step - loss: 0.0185\n",
      "Epoch 48/100\n",
      "4303/4303 [==============================] - 8s 2ms/step - loss: 0.0185\n",
      "Epoch 49/100\n",
      "4303/4303 [==============================] - 8s 2ms/step - loss: 0.0185\n",
      "Epoch 50/100\n",
      "4303/4303 [==============================] - 8s 2ms/step - loss: 0.0185\n",
      "Epoch 51/100\n",
      "4303/4303 [==============================] - 7s 2ms/step - loss: 0.0185\n",
      "Epoch 52/100\n",
      "4303/4303 [==============================] - 7s 2ms/step - loss: 0.0185\n",
      "Epoch 53/100\n",
      "4303/4303 [==============================] - 8s 2ms/step - loss: 0.0185\n",
      "Epoch 54/100\n",
      "4303/4303 [==============================] - 7s 2ms/step - loss: 0.0185\n",
      "Epoch 55/100\n",
      "4303/4303 [==============================] - 8s 2ms/step - loss: 0.0185\n",
      "Epoch 56/100\n",
      "4303/4303 [==============================] - 7s 2ms/step - loss: 0.0185\n",
      "Epoch 57/100\n",
      "4303/4303 [==============================] - 7s 2ms/step - loss: 0.0185\n",
      "Epoch 58/100\n",
      "4303/4303 [==============================] - 7s 2ms/step - loss: 0.0185\n",
      "Epoch 59/100\n",
      "4303/4303 [==============================] - 7s 2ms/step - loss: 0.0185\n",
      "Epoch 60/100\n",
      "4303/4303 [==============================] - 8s 2ms/step - loss: 0.0185\n",
      "Epoch 61/100\n",
      "4303/4303 [==============================] - 7s 2ms/step - loss: 0.0185\n",
      "Epoch 62/100\n",
      "4303/4303 [==============================] - 7s 2ms/step - loss: 0.0185\n",
      "Epoch 63/100\n",
      "4303/4303 [==============================] - 7s 2ms/step - loss: 0.0185\n",
      "Epoch 64/100\n",
      "4303/4303 [==============================] - 7s 2ms/step - loss: 0.0185\n",
      "Epoch 65/100\n",
      "4303/4303 [==============================] - 8s 2ms/step - loss: 0.0185\n",
      "Epoch 66/100\n",
      "4303/4303 [==============================] - 8s 2ms/step - loss: 0.0185\n",
      "Epoch 67/100\n",
      "4303/4303 [==============================] - 8s 2ms/step - loss: 0.0185\n",
      "Epoch 68/100\n",
      "4303/4303 [==============================] - 8s 2ms/step - loss: 0.0185\n",
      "Epoch 69/100\n",
      "4303/4303 [==============================] - 8s 2ms/step - loss: 0.0185\n",
      "Epoch 70/100\n",
      "4303/4303 [==============================] - 8s 2ms/step - loss: 0.0185\n",
      "Epoch 71/100\n",
      "4303/4303 [==============================] - 8s 2ms/step - loss: 0.0185\n",
      "Epoch 72/100\n",
      "4303/4303 [==============================] - 8s 2ms/step - loss: 0.0185\n",
      "Epoch 73/100\n",
      "4303/4303 [==============================] - 9s 2ms/step - loss: 0.0185\n",
      "Epoch 74/100\n",
      "4303/4303 [==============================] - 8s 2ms/step - loss: 0.0185\n",
      "Epoch 75/100\n",
      "4303/4303 [==============================] - 8s 2ms/step - loss: 0.0185\n",
      "Epoch 76/100\n",
      "4303/4303 [==============================] - 8s 2ms/step - loss: 0.0185\n",
      "Epoch 77/100\n",
      "4303/4303 [==============================] - 8s 2ms/step - loss: 0.0185\n",
      "Epoch 78/100\n",
      "4303/4303 [==============================] - 7s 2ms/step - loss: 0.0185\n",
      "Epoch 79/100\n",
      "4303/4303 [==============================] - 7s 2ms/step - loss: 0.0185\n",
      "Epoch 80/100\n",
      "4303/4303 [==============================] - 7s 2ms/step - loss: 0.0185\n",
      "Epoch 81/100\n",
      "4303/4303 [==============================] - 7s 2ms/step - loss: 0.0185\n",
      "Epoch 82/100\n",
      "4303/4303 [==============================] - 8s 2ms/step - loss: 0.0185\n",
      "Epoch 83/100\n",
      "4303/4303 [==============================] - 8s 2ms/step - loss: 0.0185\n",
      "Epoch 84/100\n",
      "4303/4303 [==============================] - 8s 2ms/step - loss: 0.0185\n",
      "Epoch 85/100\n",
      "4303/4303 [==============================] - 7s 2ms/step - loss: 0.0185\n",
      "Epoch 86/100\n",
      "4303/4303 [==============================] - 7s 2ms/step - loss: 0.0185\n",
      "Epoch 87/100\n",
      "4303/4303 [==============================] - 8s 2ms/step - loss: 0.0185\n",
      "Epoch 88/100\n",
      "4303/4303 [==============================] - 8s 2ms/step - loss: 0.0185\n",
      "Epoch 89/100\n",
      "4303/4303 [==============================] - 8s 2ms/step - loss: 0.0185\n",
      "Epoch 90/100\n",
      "4303/4303 [==============================] - 8s 2ms/step - loss: 0.0185\n",
      "Epoch 91/100\n",
      "4303/4303 [==============================] - 8s 2ms/step - loss: 0.0185\n",
      "Epoch 92/100\n",
      "4303/4303 [==============================] - 8s 2ms/step - loss: 0.0185\n",
      "Epoch 93/100\n",
      "4303/4303 [==============================] - 8s 2ms/step - loss: 0.0185\n",
      "Epoch 94/100\n",
      "4303/4303 [==============================] - 8s 2ms/step - loss: 0.0185\n",
      "Epoch 95/100\n",
      "4303/4303 [==============================] - 8s 2ms/step - loss: 0.0185\n",
      "Epoch 96/100\n",
      "4303/4303 [==============================] - 8s 2ms/step - loss: 0.0185\n",
      "Epoch 97/100\n",
      "4303/4303 [==============================] - 8s 2ms/step - loss: 0.0185\n",
      "Epoch 98/100\n",
      "4303/4303 [==============================] - 7s 2ms/step - loss: 0.0185\n",
      "Epoch 99/100\n",
      "4303/4303 [==============================] - 8s 2ms/step - loss: 0.0185\n",
      "Epoch 100/100\n",
      "4303/4303 [==============================] - 7s 2ms/step - loss: 0.0185\n"
     ]
    },
    {
     "data": {
      "text/plain": [
       "<keras.src.callbacks.History at 0x1e74792d510>"
      ]
     },
     "execution_count": 23,
     "metadata": {},
     "output_type": "execute_result"
    }
   ],
   "source": [
    "# LSTM 모델 구축\n",
    "model = Sequential()\n",
    "model.add(LSTM(50, activation='relu', input_shape=(n_input, n_features)))\n",
    "model.add(Dense(1))\n",
    "model.compile(optimizer='adam', loss='mse')\n",
    "\n",
    "# 모델 훈련\n",
    "model.fit(generator, epochs=100)"
   ]
  },
  {
   "cell_type": "code",
   "execution_count": 25,
   "metadata": {},
   "outputs": [
    {
     "name": "stdout",
     "output_type": "stream",
     "text": [
      "0.016476395294070245\n"
     ]
    }
   ],
   "source": [
    "# 예측 결과 확장\n",
    "predicted_expanded = np.zeros((1, 6))\n",
    "predicted_expanded[0, 0] = predicted  # 첫 번째 특성에 예측값 할당, 나머지는 0\n",
    "\n",
    "# 스케일 역변환\n",
    "predicted_inverse = scaler.inverse_transform(predicted_expanded)\n",
    "print(predicted_inverse[0, 0])  # 첫 번째 특성의 역변환된 값을 출력\n"
   ]
  },
  {
   "cell_type": "code",
   "execution_count": 24,
   "metadata": {},
   "outputs": [
    {
     "ename": "ValueError",
     "evalue": "non-broadcastable output operand with shape (1,1) doesn't match the broadcast shape (1,6)",
     "output_type": "error",
     "traceback": [
      "\u001b[1;31m---------------------------------------------------------------------------\u001b[0m",
      "\u001b[1;31mValueError\u001b[0m                                Traceback (most recent call last)",
      "Cell \u001b[1;32mIn[24], line 7\u001b[0m\n\u001b[0;32m      4\u001b[0m predicted \u001b[38;5;241m=\u001b[39m model\u001b[38;5;241m.\u001b[39mpredict(x_input, verbose\u001b[38;5;241m=\u001b[39m\u001b[38;5;241m0\u001b[39m)\n\u001b[0;32m      6\u001b[0m \u001b[38;5;66;03m# 스케일 역변환\u001b[39;00m\n\u001b[1;32m----> 7\u001b[0m predicted \u001b[38;5;241m=\u001b[39m \u001b[43mscaler\u001b[49m\u001b[38;5;241;43m.\u001b[39;49m\u001b[43minverse_transform\u001b[49m\u001b[43m(\u001b[49m\u001b[43mpredicted\u001b[49m\u001b[43m)\u001b[49m\n\u001b[0;32m      8\u001b[0m \u001b[38;5;28mprint\u001b[39m(predicted)\n",
      "File \u001b[1;32mc:\\Users\\human\\anaconda3\\Lib\\site-packages\\sklearn\\preprocessing\\_data.py:547\u001b[0m, in \u001b[0;36mMinMaxScaler.inverse_transform\u001b[1;34m(self, X)\u001b[0m\n\u001b[0;32m    541\u001b[0m check_is_fitted(\u001b[38;5;28mself\u001b[39m)\n\u001b[0;32m    543\u001b[0m X \u001b[38;5;241m=\u001b[39m check_array(\n\u001b[0;32m    544\u001b[0m     X, copy\u001b[38;5;241m=\u001b[39m\u001b[38;5;28mself\u001b[39m\u001b[38;5;241m.\u001b[39mcopy, dtype\u001b[38;5;241m=\u001b[39mFLOAT_DTYPES, force_all_finite\u001b[38;5;241m=\u001b[39m\u001b[38;5;124m\"\u001b[39m\u001b[38;5;124mallow-nan\u001b[39m\u001b[38;5;124m\"\u001b[39m\n\u001b[0;32m    545\u001b[0m )\n\u001b[1;32m--> 547\u001b[0m \u001b[43mX\u001b[49m\u001b[43m \u001b[49m\u001b[38;5;241;43m-\u001b[39;49m\u001b[38;5;241;43m=\u001b[39;49m\u001b[43m \u001b[49m\u001b[38;5;28;43mself\u001b[39;49m\u001b[38;5;241;43m.\u001b[39;49m\u001b[43mmin_\u001b[49m\n\u001b[0;32m    548\u001b[0m X \u001b[38;5;241m/\u001b[39m\u001b[38;5;241m=\u001b[39m \u001b[38;5;28mself\u001b[39m\u001b[38;5;241m.\u001b[39mscale_\n\u001b[0;32m    549\u001b[0m \u001b[38;5;28;01mreturn\u001b[39;00m X\n",
      "\u001b[1;31mValueError\u001b[0m: non-broadcastable output operand with shape (1,1) doesn't match the broadcast shape (1,6)"
     ]
    }
   ],
   "source": [
    "# 하루 뒤 예측\n",
    "x_input = data_scaled[-n_input:]  # 마지막 데이터\n",
    "x_input = x_input.reshape((1, n_input, n_features))\n",
    "predicted = model.predict(x_input, verbose=0)\n",
    "\n",
    "# 스케일 역변환\n",
    "predicted = scaler.inverse_transform(predicted)\n",
    "print(predicted)\n"
   ]
  },
  {
   "cell_type": "code",
   "execution_count": 16,
   "metadata": {},
   "outputs": [
    {
     "name": "stdout",
     "output_type": "stream",
     "text": [
      "Epoch 1/30\n",
      "108/108 [==============================] - 9s 43ms/step - loss: 0.0050 - val_loss: 0.0011\n",
      "Epoch 2/30\n",
      "108/108 [==============================] - 4s 38ms/step - loss: 0.0020 - val_loss: 9.8798e-04\n",
      "Epoch 3/30\n",
      "108/108 [==============================] - 5s 42ms/step - loss: 0.0017 - val_loss: 7.6178e-04\n",
      "Epoch 4/30\n",
      "108/108 [==============================] - 4s 40ms/step - loss: 0.0016 - val_loss: 7.9433e-04\n",
      "Epoch 5/30\n",
      "108/108 [==============================] - 4s 36ms/step - loss: 0.0015 - val_loss: 6.3849e-04\n",
      "Epoch 6/30\n",
      "108/108 [==============================] - 4s 35ms/step - loss: 0.0015 - val_loss: 7.5981e-04\n",
      "Epoch 7/30\n",
      "108/108 [==============================] - 4s 36ms/step - loss: 0.0015 - val_loss: 7.3303e-04\n",
      "Epoch 8/30\n",
      "108/108 [==============================] - 4s 35ms/step - loss: 0.0014 - val_loss: 7.6424e-04\n",
      "Epoch 9/30\n",
      "108/108 [==============================] - 4s 35ms/step - loss: 0.0015 - val_loss: 6.4766e-04\n",
      "Epoch 10/30\n",
      "108/108 [==============================] - 4s 36ms/step - loss: 0.0014 - val_loss: 0.0012\n",
      "Epoch 11/30\n",
      "108/108 [==============================] - 4s 36ms/step - loss: 0.0014 - val_loss: 6.5256e-04\n",
      "Epoch 12/30\n",
      "108/108 [==============================] - 4s 35ms/step - loss: 0.0015 - val_loss: 6.8834e-04\n",
      "Epoch 13/30\n",
      "108/108 [==============================] - 4s 35ms/step - loss: 0.0014 - val_loss: 6.5358e-04\n",
      "Epoch 14/30\n",
      "108/108 [==============================] - 4s 35ms/step - loss: 0.0013 - val_loss: 7.4795e-04\n",
      "Epoch 15/30\n",
      "108/108 [==============================] - 4s 34ms/step - loss: 0.0013 - val_loss: 6.5026e-04\n",
      "Epoch 16/30\n",
      "108/108 [==============================] - 4s 35ms/step - loss: 0.0013 - val_loss: 6.6272e-04\n",
      "Epoch 17/30\n",
      "108/108 [==============================] - 4s 36ms/step - loss: 0.0014 - val_loss: 6.4894e-04\n",
      "Epoch 18/30\n",
      "108/108 [==============================] - 4s 36ms/step - loss: 0.0013 - val_loss: 6.6044e-04\n",
      "Epoch 19/30\n",
      "108/108 [==============================] - 4s 34ms/step - loss: 0.0014 - val_loss: 6.7622e-04\n",
      "Epoch 20/30\n",
      "108/108 [==============================] - 4s 34ms/step - loss: 0.0013 - val_loss: 6.4509e-04\n",
      "Epoch 21/30\n",
      "108/108 [==============================] - 4s 34ms/step - loss: 0.0013 - val_loss: 6.7948e-04\n",
      "Epoch 22/30\n",
      "108/108 [==============================] - 4s 34ms/step - loss: 0.0013 - val_loss: 6.4086e-04\n",
      "Epoch 23/30\n",
      "108/108 [==============================] - 4s 34ms/step - loss: 0.0013 - val_loss: 6.3087e-04\n",
      "Epoch 24/30\n",
      "108/108 [==============================] - 4s 34ms/step - loss: 0.0013 - val_loss: 6.8727e-04\n",
      "Epoch 25/30\n",
      "108/108 [==============================] - 4s 34ms/step - loss: 0.0013 - val_loss: 6.3692e-04\n",
      "Epoch 26/30\n",
      "108/108 [==============================] - 4s 35ms/step - loss: 0.0014 - val_loss: 8.3358e-04\n",
      "Epoch 27/30\n",
      "108/108 [==============================] - 4s 34ms/step - loss: 0.0014 - val_loss: 0.0010\n",
      "Epoch 28/30\n",
      "108/108 [==============================] - 4s 34ms/step - loss: 0.0013 - val_loss: 6.3458e-04\n",
      "Epoch 29/30\n",
      "108/108 [==============================] - 4s 35ms/step - loss: 0.0013 - val_loss: 6.4795e-04\n",
      "Epoch 30/30\n",
      "108/108 [==============================] - 4s 35ms/step - loss: 0.0013 - val_loss: 7.4781e-04\n",
      "12/12 [==============================] - 1s 13ms/step\n"
     ]
    }
   ],
   "source": [
    "\n",
    "\n",
    "# 데이터셋 준비 (이미 원-핫 인코딩 및 NaN 처리 완료)\n",
    "data = df.values\n",
    "\n",
    "# 데이터 정규화\n",
    "scaler = MinMaxScaler()\n",
    "data_scaled = scaler.fit_transform(data)\n",
    "\n",
    "# 데이터셋 분할\n",
    "n_train = int(0.9 * len(data_scaled))\n",
    "train_data = data_scaled[:n_train]\n",
    "test_data = data_scaled[n_train:]\n",
    "train_dates = df.index[:n_train]\n",
    "test_dates = df.index[n_train:]\n",
    "\n",
    "# 데이터셋 재구성\n",
    "seq_len = 60  # 수치구성방법 총 데이터의수 20%가 최대치 (수치를 조정해서 모델 적중률 조정)\n",
    "input_dim = train_data.shape[1]  # 입력 차원 (원-핫 인코딩된 열의 수)\n",
    "\n",
    "trainX, trainY = [], []\n",
    "testX, testY = [], []\n",
    "\n",
    "for i in range(seq_len, len(train_data)):\n",
    "    trainX.append(train_data[i-seq_len:i, :])\n",
    "    trainY.append(train_data[i, 4])  # 첫 번째 열이 타겟 변수라고 가정\n",
    "\n",
    "for i in range(seq_len, len(test_data)):\n",
    "    testX.append(test_data[i-seq_len:i, :])\n",
    "    testY.append(test_data[i, 4])\n",
    "\n",
    "trainX, trainY = np.array(trainX), np.array(trainY)\n",
    "testX, testY = np.array(testX), np.array(testY)\n",
    "\n",
    "# LSTM 모델 구성\n",
    "model = Sequential()\n",
    "model.add(LSTM(64, input_shape=(seq_len, input_dim), return_sequences=True))\n",
    "model.add(LSTM(32, return_sequences=False))\n",
    "model.add(Dense(1))  # 하나의 출력 뉴런\n",
    "\n",
    "# 모델 컴파일 및 학습\n",
    "model.compile(optimizer=Adam(learning_rate=0.01), loss='mse')\n",
    "model.fit(trainX, trainY, epochs=30, batch_size=32, validation_split=0.1, verbose=1)\n",
    "\n",
    "# 예측 및 역변환\n",
    "prediction = model.predict(testX)\n",
    "prediction_transformed = scaler.inverse_transform(np.concatenate((prediction, np.zeros((prediction.shape[0], data_scaled.shape[1]-1))), axis=1))[:,0]\n",
    "\n",
    "testY_transformed = scaler.inverse_transform(np.concatenate((testY.reshape(-1,1), np.zeros((testY.shape[0], data_scaled.shape[1]-1))), axis=1))[:,0]\n",
    "\n",
    "\n"
   ]
  },
  {
   "cell_type": "code",
   "execution_count": 17,
   "metadata": {},
   "outputs": [
    {
     "name": "stdout",
     "output_type": "stream",
     "text": [
      "R-squared (Coefficient of Determination): 0.32682585351060767\n",
      "Mean Squared Error: 1.3305178309934127e-05\n",
      "Mean Absolute Error: 0.002137832238375317\n"
     ]
    }
   ],
   "source": [
    "from sklearn.metrics import r2_score\n",
    "from sklearn.metrics import mean_squared_error, mean_absolute_error\n",
    "\n",
    "# R² 값 계산\n",
    "r_squared = r2_score(testY_transformed, prediction_transformed)\n",
    "# MSE 및 MAE 계산\n",
    "mse = mean_squared_error(testY_transformed, prediction_transformed)\n",
    "mae = mean_absolute_error(testY_transformed, prediction_transformed)\n",
    "\n",
    "\n",
    "print(\"R-squared (Coefficient of Determination):\", r_squared)\n",
    "print(\"Mean Squared Error:\", mse)\n",
    "print(\"Mean Absolute Error:\", mae)"
   ]
  },
  {
   "cell_type": "code",
   "execution_count": 18,
   "metadata": {},
   "outputs": [
    {
     "name": "stdout",
     "output_type": "stream",
     "text": [
      "1/1 [==============================] - 0s 27ms/step\n",
      "최신 데이터에 대한 예측된 값: 0.011555720355361702\n"
     ]
    }
   ],
   "source": [
    "# 최신 데이터 시퀀스 추출\n",
    "latest_seq_len = 60  # 예측에 사용할 최신 데이터의 길이\n",
    "latest_data = test_data[-latest_seq_len:].reshape(1, latest_seq_len, input_dim)\n",
    "\n",
    "# 예측 수행\n",
    "latest_prediction = model.predict(latest_data)\n",
    "\n",
    "# 예측 결과 역변환\n",
    "latest_prediction_transformed = scaler.inverse_transform(np.concatenate((latest_prediction, np.zeros((latest_prediction.shape[0], data_scaled.shape[1]-1))), axis=1))[:,0]\n",
    "\n",
    "# 예측된 결과 출력\n",
    "predicted_value = latest_prediction_transformed[0]\n",
    "print(\"최신 데이터에 대한 예측된 값:\", predicted_value)\n"
   ]
  },
  {
   "cell_type": "code",
   "execution_count": 20,
   "metadata": {},
   "outputs": [
    {
     "data": {
      "text/plain": [
       "array([0.05118787], dtype=float32)"
      ]
     },
     "execution_count": 20,
     "metadata": {},
     "output_type": "execute_result"
    }
   ],
   "source": [
    "latest_prediction[0]"
   ]
  },
  {
   "cell_type": "code",
   "execution_count": 31,
   "metadata": {},
   "outputs": [
    {
     "data": {
      "text/plain": [
       "측정일시\n",
       "2012-01-01    0.0080\n",
       "2012-01-02    0.0050\n",
       "2012-01-03    0.0063\n",
       "2012-01-04    0.0130\n",
       "2012-01-05    0.0073\n",
       "               ...  \n",
       "2023-12-07    0.0184\n",
       "2023-12-08    0.0300\n",
       "2023-12-09    0.0379\n",
       "2023-12-10    0.0209\n",
       "2023-12-11    0.0227\n",
       "Name: 오존, Length: 4304, dtype: float64"
      ]
     },
     "execution_count": 31,
     "metadata": {},
     "output_type": "execute_result"
    }
   ],
   "source": [
    "df['오존']"
   ]
  },
  {
   "cell_type": "code",
   "execution_count": null,
   "metadata": {},
   "outputs": [
    {
     "name": "stdout",
     "output_type": "stream",
     "text": [
      "R-squared (Coefficient of Determination): 0.14345537992452617\n",
      "Mean Squared Error: 3.4053615925011035e-06\n",
      "Mean Absolute Error: 0.001398751600554905\n"
     ]
    }
   ],
   "source": [
    "from sklearn.metrics import r2_score\n",
    "from sklearn.metrics import mean_squared_error, mean_absolute_error\n",
    "\n",
    "# R² 값 계산\n",
    "r_squared = r2_score(testY_transformed, prediction_transformed)\n",
    "# MSE 및 MAE 계산\n",
    "mse = mean_squared_error(testY_transformed, prediction_transformed)\n",
    "mae = mean_absolute_error(testY_transformed, prediction_transformed)\n",
    "\n",
    "\n",
    "print(\"R-squared (Coefficient of Determination):\", r_squared)\n",
    "print(\"Mean Squared Error:\", mse)\n",
    "print(\"Mean Absolute Error:\", mae)"
   ]
  },
  {
   "cell_type": "code",
   "execution_count": 32,
   "metadata": {},
   "outputs": [
    {
     "name": "stdout",
     "output_type": "stream",
     "text": [
      "Epoch 1/130\n",
      "27/27 [==============================] - 10s 244ms/step - loss: 0.0523 - val_loss: 0.0094\n",
      "Epoch 2/130\n",
      "27/27 [==============================] - 6s 216ms/step - loss: 0.0154 - val_loss: 0.0086\n",
      "Epoch 3/130\n",
      "27/27 [==============================] - 6s 208ms/step - loss: 0.0141 - val_loss: 0.0105\n",
      "Epoch 4/130\n",
      "27/27 [==============================] - 6s 215ms/step - loss: 0.0140 - val_loss: 0.0081\n",
      "Epoch 5/130\n",
      "27/27 [==============================] - 6s 212ms/step - loss: 0.0129 - val_loss: 0.0076\n",
      "Epoch 6/130\n",
      "27/27 [==============================] - 6s 209ms/step - loss: 0.0123 - val_loss: 0.0081\n",
      "Epoch 7/130\n",
      "27/27 [==============================] - 6s 211ms/step - loss: 0.0117 - val_loss: 0.0072\n",
      "Epoch 8/130\n",
      "27/27 [==============================] - 6s 215ms/step - loss: 0.0131 - val_loss: 0.0077\n",
      "Epoch 9/130\n",
      "27/27 [==============================] - 6s 224ms/step - loss: 0.0111 - val_loss: 0.0080\n",
      "Epoch 10/130\n",
      "27/27 [==============================] - 6s 218ms/step - loss: 0.0106 - val_loss: 0.0067\n",
      "Epoch 11/130\n",
      "27/27 [==============================] - 6s 211ms/step - loss: 0.0103 - val_loss: 0.0064\n",
      "Epoch 12/130\n",
      "27/27 [==============================] - 6s 209ms/step - loss: 0.0102 - val_loss: 0.0064\n",
      "Epoch 13/130\n",
      "27/27 [==============================] - 6s 215ms/step - loss: 0.0103 - val_loss: 0.0078\n",
      "Epoch 14/130\n",
      "27/27 [==============================] - 6s 210ms/step - loss: 0.0101 - val_loss: 0.0064\n",
      "Epoch 15/130\n",
      "27/27 [==============================] - 6s 214ms/step - loss: 0.0099 - val_loss: 0.0066\n",
      "Epoch 16/130\n",
      "27/27 [==============================] - 6s 221ms/step - loss: 0.0098 - val_loss: 0.0065\n",
      "Epoch 17/130\n",
      "27/27 [==============================] - 6s 216ms/step - loss: 0.0100 - val_loss: 0.0066\n",
      "Epoch 18/130\n",
      "27/27 [==============================] - 6s 224ms/step - loss: 0.0098 - val_loss: 0.0067\n",
      "Epoch 19/130\n",
      "27/27 [==============================] - 6s 223ms/step - loss: 0.0098 - val_loss: 0.0070\n",
      "Epoch 20/130\n",
      "27/27 [==============================] - 6s 210ms/step - loss: 0.0098 - val_loss: 0.0064\n",
      "Epoch 21/130\n",
      "27/27 [==============================] - 6s 210ms/step - loss: 0.0097 - val_loss: 0.0064\n",
      "Epoch 22/130\n",
      "27/27 [==============================] - 6s 209ms/step - loss: 0.0099 - val_loss: 0.0071\n",
      "Epoch 23/130\n",
      "27/27 [==============================] - 6s 211ms/step - loss: 0.0100 - val_loss: 0.0067\n",
      "Epoch 24/130\n",
      "27/27 [==============================] - 6s 209ms/step - loss: 0.0097 - val_loss: 0.0064\n",
      "Epoch 25/130\n",
      "27/27 [==============================] - 6s 209ms/step - loss: 0.0099 - val_loss: 0.0065\n",
      "Epoch 26/130\n",
      "27/27 [==============================] - 6s 211ms/step - loss: 0.0098 - val_loss: 0.0070\n",
      "Epoch 27/130\n",
      "27/27 [==============================] - 6s 208ms/step - loss: 0.0097 - val_loss: 0.0066\n",
      "Epoch 28/130\n",
      "27/27 [==============================] - 6s 210ms/step - loss: 0.0098 - val_loss: 0.0072\n",
      "Epoch 29/130\n",
      "27/27 [==============================] - 6s 210ms/step - loss: 0.0098 - val_loss: 0.0065\n",
      "Epoch 30/130\n",
      "27/27 [==============================] - 6s 212ms/step - loss: 0.0098 - val_loss: 0.0064\n",
      "11/11 [==============================] - 1s 32ms/step\n",
      "R2 점수: 0.458878333052373\n"
     ]
    }
   ],
   "source": [
    "from keras.callbacks import EarlyStopping\n",
    "\n",
    "# 데이터셋 준비 (이미 원-핫 인코딩 및 NaN 처리 완료)\n",
    "data = df.values\n",
    "\n",
    "# 데이터 정규화\n",
    "scaler = MinMaxScaler()\n",
    "data_scaled = scaler.fit_transform(data)\n",
    "\n",
    "# 데이터셋 분할\n",
    "n_train = int(0.9 * len(data_scaled))\n",
    "train_data = data_scaled[:n_train]\n",
    "test_data = data_scaled[n_train:]\n",
    "train_dates = df.index[:n_train]\n",
    "test_dates = df.index[n_train:]\n",
    "\n",
    "# 데이터셋 재구성\n",
    "seq_len = 100  # 수치구성방법 총 데이터의수 20%가 최대치 (수치를 조정해서 모델 적중률 조정)\n",
    "input_dim = train_data.shape[1]  # 입력 차원 (원-핫 인코딩된 열의 수)\n",
    "\n",
    "trainX, trainY = [], []\n",
    "testX, testY = [], []\n",
    "\n",
    "for i in range(seq_len, len(train_data)):\n",
    "    trainX.append(train_data[i-seq_len:i, :])\n",
    "    trainY.append(train_data[i, 0])  # 첫 번째 열이 타겟 변수라고 가정\n",
    "\n",
    "for i in range(seq_len, len(test_data)):\n",
    "    testX.append(test_data[i-seq_len:i, :])\n",
    "    testY.append(test_data[i, 0])\n",
    "\n",
    "trainX, trainY = np.array(trainX), np.array(trainY)\n",
    "testX, testY = np.array(testX), np.array(testY)\n",
    "\n",
    "# LSTM 모델 구성\n",
    "model = Sequential()\n",
    "model.add(LSTM(128, input_shape=(seq_len, input_dim), return_sequences=True))\n",
    "model.add(LSTM(64, return_sequences=False))\n",
    "model.add(Dense(1))  # 하나의 출력 뉴런\n",
    "\n",
    "# 모델 컴파일 및 학습\n",
    "model.compile(optimizer=Adam(learning_rate=0.008), loss='mse')\n",
    "\n",
    "# 조기 종료 설정\n",
    "early_stopping = EarlyStopping(monitor='val_loss', patience=10, restore_best_weights=True)\n",
    "\n",
    "# 모델 학습\n",
    "history = model.fit(trainX, trainY, epochs=130, batch_size=128, validation_split=0.1, verbose=1, callbacks=[early_stopping])\n",
    "\n",
    "# 예측\n",
    "prediction = model.predict(testX)\n",
    "\n",
    "# 예측값 역변환\n",
    "prediction_transformed = scaler.inverse_transform(np.concatenate((prediction, np.zeros((prediction.shape[0], data_scaled.shape[1]-1))), axis=1))[:,0]\n",
    "\n",
    "# 실제 타겟값 역변환\n",
    "testY_transformed = scaler.inverse_transform(np.concatenate((testY.reshape(-1,1), np.zeros((testY.shape[0], data_scaled.shape[1]-1))), axis=1))[:,0]\n",
    "\n",
    "# R2 점수 계산\n",
    "r2 = r2_score(testY_transformed, prediction_transformed)\n",
    "print(\"R2 점수:\", r2)\n"
   ]
  },
  {
   "cell_type": "code",
   "execution_count": 33,
   "metadata": {},
   "outputs": [
    {
     "name": "stdout",
     "output_type": "stream",
     "text": [
      "1/1 [==============================] - 1s 722ms/step\n",
      "최신 데이터에 대한 예측된 값: 0.02375040049850941\n"
     ]
    }
   ],
   "source": [
    "# 최신 데이터 시퀀스 추출\n",
    "latest_seq_len = 60  # 예측에 사용할 최신 데이터의 길이\n",
    "latest_data = test_data[-latest_seq_len:].reshape(1, latest_seq_len, input_dim)\n",
    "\n",
    "# 예측 수행\n",
    "latest_prediction = model.predict(latest_data)\n",
    "\n",
    "# 예측 결과 역변환\n",
    "latest_prediction_transformed = scaler.inverse_transform(np.concatenate((latest_prediction, np.zeros((latest_prediction.shape[0], data_scaled.shape[1]-1))), axis=1))[:,0]\n",
    "\n",
    "# 예측된 결과 출력\n",
    "predicted_value = latest_prediction_transformed[0]\n",
    "print(\"최신 데이터에 대한 예측된 값:\", predicted_value)\n"
   ]
  },
  {
   "cell_type": "code",
   "execution_count": 35,
   "metadata": {},
   "outputs": [
    {
     "data": {
      "text/html": [
       "<div>\n",
       "<style scoped>\n",
       "    .dataframe tbody tr th:only-of-type {\n",
       "        vertical-align: middle;\n",
       "    }\n",
       "\n",
       "    .dataframe tbody tr th {\n",
       "        vertical-align: top;\n",
       "    }\n",
       "\n",
       "    .dataframe thead th {\n",
       "        text-align: right;\n",
       "    }\n",
       "</style>\n",
       "<table border=\"1\" class=\"dataframe\">\n",
       "  <thead>\n",
       "    <tr style=\"text-align: right;\">\n",
       "      <th></th>\n",
       "      <th>이산화질소</th>\n",
       "      <th>오존</th>\n",
       "      <th>일산화탄소</th>\n",
       "      <th>아황산</th>\n",
       "      <th>미세</th>\n",
       "      <th>초미세</th>\n",
       "    </tr>\n",
       "    <tr>\n",
       "      <th>측정일시</th>\n",
       "      <th></th>\n",
       "      <th></th>\n",
       "      <th></th>\n",
       "      <th></th>\n",
       "      <th></th>\n",
       "      <th></th>\n",
       "    </tr>\n",
       "  </thead>\n",
       "  <tbody>\n",
       "    <tr>\n",
       "      <th>2023-12-07</th>\n",
       "      <td>0.026</td>\n",
       "      <td>0.0184</td>\n",
       "      <td>0.50</td>\n",
       "      <td>0.0033</td>\n",
       "      <td>62.2</td>\n",
       "      <td>16.5</td>\n",
       "    </tr>\n",
       "    <tr>\n",
       "      <th>2023-12-08</th>\n",
       "      <td>0.029</td>\n",
       "      <td>0.0300</td>\n",
       "      <td>0.56</td>\n",
       "      <td>0.0031</td>\n",
       "      <td>84.2</td>\n",
       "      <td>22.8</td>\n",
       "    </tr>\n",
       "    <tr>\n",
       "      <th>2023-12-09</th>\n",
       "      <td>0.027</td>\n",
       "      <td>0.0379</td>\n",
       "      <td>0.61</td>\n",
       "      <td>0.0029</td>\n",
       "      <td>72.3</td>\n",
       "      <td>30.7</td>\n",
       "    </tr>\n",
       "    <tr>\n",
       "      <th>2023-12-10</th>\n",
       "      <td>0.025</td>\n",
       "      <td>0.0209</td>\n",
       "      <td>0.67</td>\n",
       "      <td>0.0029</td>\n",
       "      <td>80.2</td>\n",
       "      <td>35.6</td>\n",
       "    </tr>\n",
       "    <tr>\n",
       "      <th>2023-12-11</th>\n",
       "      <td>0.015</td>\n",
       "      <td>0.0227</td>\n",
       "      <td>0.40</td>\n",
       "      <td>0.0024</td>\n",
       "      <td>7.2</td>\n",
       "      <td>3.0</td>\n",
       "    </tr>\n",
       "  </tbody>\n",
       "</table>\n",
       "</div>"
      ],
      "text/plain": [
       "            이산화질소      오존  일산화탄소     아황산    미세   초미세\n",
       "측정일시                                                \n",
       "2023-12-07  0.026  0.0184   0.50  0.0033  62.2  16.5\n",
       "2023-12-08  0.029  0.0300   0.56  0.0031  84.2  22.8\n",
       "2023-12-09  0.027  0.0379   0.61  0.0029  72.3  30.7\n",
       "2023-12-10  0.025  0.0209   0.67  0.0029  80.2  35.6\n",
       "2023-12-11  0.015  0.0227   0.40  0.0024   7.2   3.0"
      ]
     },
     "execution_count": 35,
     "metadata": {},
     "output_type": "execute_result"
    }
   ],
   "source": [
    "df.tail(5)"
   ]
  },
  {
   "cell_type": "code",
   "execution_count": null,
   "metadata": {},
   "outputs": [],
   "source": [
    "model.save('NO2_model.h5')\n"
   ]
  },
  {
   "cell_type": "code",
   "execution_count": null,
   "metadata": {},
   "outputs": [
    {
     "data": {
      "text/plain": [
       "Index(['이산화질소', '오존', '일산화탄소', '아황산', '미세', '초미세'], dtype='object')"
      ]
     },
     "execution_count": 79,
     "metadata": {},
     "output_type": "execute_result"
    }
   ],
   "source": [
    "df.columns"
   ]
  },
  {
   "cell_type": "code",
   "execution_count": null,
   "metadata": {},
   "outputs": [
    {
     "name": "stdout",
     "output_type": "stream",
     "text": [
      "Epoch 1/130\n",
      "27/27 [==============================] - 8s 191ms/step - loss: 0.0683 - val_loss: 0.0150\n",
      "Epoch 2/130\n",
      "27/27 [==============================] - 5s 172ms/step - loss: 0.0114 - val_loss: 0.0146\n",
      "Epoch 3/130\n",
      "27/27 [==============================] - 5s 169ms/step - loss: 0.0111 - val_loss: 0.0162\n",
      "Epoch 4/130\n",
      "27/27 [==============================] - 4s 165ms/step - loss: 0.0105 - val_loss: 0.0142\n",
      "Epoch 5/130\n",
      "27/27 [==============================] - 4s 165ms/step - loss: 0.0101 - val_loss: 0.0141\n",
      "Epoch 6/130\n",
      "27/27 [==============================] - 4s 164ms/step - loss: 0.0099 - val_loss: 0.0136\n",
      "Epoch 7/130\n",
      "27/27 [==============================] - 4s 166ms/step - loss: 0.0097 - val_loss: 0.0139\n",
      "Epoch 8/130\n",
      "27/27 [==============================] - 5s 177ms/step - loss: 0.0099 - val_loss: 0.0127\n",
      "Epoch 9/130\n",
      "27/27 [==============================] - 5s 169ms/step - loss: 0.0093 - val_loss: 0.0124\n",
      "Epoch 10/130\n",
      "27/27 [==============================] - 5s 168ms/step - loss: 0.0091 - val_loss: 0.0121\n",
      "Epoch 11/130\n",
      "27/27 [==============================] - 5s 168ms/step - loss: 0.0089 - val_loss: 0.0113\n",
      "Epoch 12/130\n",
      "27/27 [==============================] - 5s 168ms/step - loss: 0.0089 - val_loss: 0.0118\n",
      "Epoch 13/130\n",
      "27/27 [==============================] - 5s 170ms/step - loss: 0.0087 - val_loss: 0.0112\n",
      "Epoch 14/130\n",
      "27/27 [==============================] - 5s 168ms/step - loss: 0.0084 - val_loss: 0.0114\n",
      "Epoch 15/130\n",
      "27/27 [==============================] - 5s 167ms/step - loss: 0.0086 - val_loss: 0.0113\n",
      "Epoch 16/130\n",
      "27/27 [==============================] - 4s 167ms/step - loss: 0.0085 - val_loss: 0.0113\n",
      "Epoch 17/130\n",
      "27/27 [==============================] - 5s 168ms/step - loss: 0.0084 - val_loss: 0.0117\n",
      "Epoch 18/130\n",
      "27/27 [==============================] - 4s 166ms/step - loss: 0.0083 - val_loss: 0.0112\n",
      "Epoch 19/130\n",
      "27/27 [==============================] - 5s 169ms/step - loss: 0.0083 - val_loss: 0.0116\n",
      "Epoch 20/130\n",
      "27/27 [==============================] - 4s 167ms/step - loss: 0.0083 - val_loss: 0.0111\n",
      "Epoch 21/130\n",
      "27/27 [==============================] - 5s 167ms/step - loss: 0.0082 - val_loss: 0.0112\n",
      "Epoch 22/130\n",
      "27/27 [==============================] - 5s 169ms/step - loss: 0.0081 - val_loss: 0.0115\n",
      "Epoch 23/130\n",
      "27/27 [==============================] - 5s 170ms/step - loss: 0.0082 - val_loss: 0.0116\n",
      "Epoch 24/130\n",
      "27/27 [==============================] - 5s 167ms/step - loss: 0.0081 - val_loss: 0.0110\n",
      "Epoch 25/130\n",
      "27/27 [==============================] - 5s 168ms/step - loss: 0.0082 - val_loss: 0.0110\n",
      "Epoch 26/130\n",
      "27/27 [==============================] - 5s 169ms/step - loss: 0.0081 - val_loss: 0.0110\n",
      "Epoch 27/130\n",
      "27/27 [==============================] - 5s 172ms/step - loss: 0.0081 - val_loss: 0.0110\n",
      "Epoch 28/130\n",
      "27/27 [==============================] - 5s 169ms/step - loss: 0.0082 - val_loss: 0.0112\n",
      "Epoch 29/130\n",
      "27/27 [==============================] - 4s 166ms/step - loss: 0.0083 - val_loss: 0.0130\n",
      "Epoch 30/130\n",
      "27/27 [==============================] - 5s 168ms/step - loss: 0.0084 - val_loss: 0.0128\n",
      "Epoch 31/130\n",
      "27/27 [==============================] - 5s 172ms/step - loss: 0.0084 - val_loss: 0.0115\n",
      "Epoch 32/130\n",
      "27/27 [==============================] - 5s 170ms/step - loss: 0.0081 - val_loss: 0.0111\n",
      "Epoch 33/130\n",
      "27/27 [==============================] - 5s 175ms/step - loss: 0.0083 - val_loss: 0.0112\n",
      "Epoch 34/130\n",
      "27/27 [==============================] - 5s 168ms/step - loss: 0.0082 - val_loss: 0.0110\n",
      "Epoch 35/130\n",
      "27/27 [==============================] - 5s 167ms/step - loss: 0.0081 - val_loss: 0.0110\n",
      "Epoch 36/130\n",
      "27/27 [==============================] - 5s 167ms/step - loss: 0.0080 - val_loss: 0.0113\n",
      "Epoch 37/130\n",
      "27/27 [==============================] - 5s 168ms/step - loss: 0.0081 - val_loss: 0.0112\n",
      "11/11 [==============================] - 1s 23ms/step\n",
      "R2 점수: 0.6449530034121795\n"
     ]
    }
   ],
   "source": [
    "from keras.callbacks import EarlyStopping\n",
    "\n",
    "# 데이터셋 준비 (이미 원-핫 인코딩 및 NaN 처리 완료)\n",
    "data = df.values\n",
    "\n",
    "# 데이터 정규화\n",
    "scaler = MinMaxScaler()\n",
    "data_scaled = scaler.fit_transform(data)\n",
    "\n",
    "# 데이터셋 분할\n",
    "n_train = int(0.9 * len(data_scaled))\n",
    "train_data = data_scaled[:n_train]\n",
    "test_data = data_scaled[n_train:]\n",
    "train_dates = df.index[:n_train]\n",
    "test_dates = df.index[n_train:]\n",
    "\n",
    "# 데이터셋 재구성\n",
    "seq_len = 100  # 수치구성방법 총 데이터의수 20%가 최대치 (수치를 조정해서 모델 적중률 조정)\n",
    "input_dim = train_data.shape[1]  # 입력 차원 (원-핫 인코딩된 열의 수)\n",
    "\n",
    "trainX, trainY = [], []\n",
    "testX, testY = [], []\n",
    "\n",
    "for i in range(seq_len, len(train_data)):\n",
    "    trainX.append(train_data[i-seq_len:i, :])\n",
    "    trainY.append(train_data[i, 1])  # 첫 번째 열이 타겟 변수라고 가정\n",
    "\n",
    "for i in range(seq_len, len(test_data)):\n",
    "    testX.append(test_data[i-seq_len:i, :])\n",
    "    testY.append(test_data[i, 1])\n",
    "\n",
    "trainX, trainY = np.array(trainX), np.array(trainY)\n",
    "testX, testY = np.array(testX), np.array(testY)\n",
    "\n",
    "# LSTM 모델 구성\n",
    "model = Sequential()\n",
    "model.add(LSTM(128, input_shape=(seq_len, input_dim), return_sequences=True))\n",
    "model.add(LSTM(64, return_sequences=False))\n",
    "model.add(Dense(1))  # 하나의 출력 뉴런\n",
    "\n",
    "# 모델 컴파일 및 학습\n",
    "model.compile(optimizer=Adam(learning_rate=0.008), loss='mse')\n",
    "\n",
    "# 조기 종료 설정\n",
    "early_stopping = EarlyStopping(monitor='val_loss', patience=10, restore_best_weights=True)\n",
    "\n",
    "# 모델 학습\n",
    "history = model.fit(trainX, trainY, epochs=130, batch_size=128, validation_split=0.1, verbose=1, callbacks=[early_stopping])\n",
    "\n",
    "# 예측\n",
    "prediction = model.predict(testX)\n",
    "\n",
    "# 예측값 역변환\n",
    "prediction_transformed = scaler.inverse_transform(np.concatenate((prediction, np.zeros((prediction.shape[0], data_scaled.shape[1]-1))), axis=1))[:,0]\n",
    "\n",
    "# 실제 타겟값 역변환\n",
    "testY_transformed = scaler.inverse_transform(np.concatenate((testY.reshape(-1,1), np.zeros((testY.shape[0], data_scaled.shape[1]-1))), axis=1))[:,0]\n",
    "\n",
    "# R2 점수 계산\n",
    "r2 = r2_score(testY_transformed, prediction_transformed)\n",
    "print(\"R2 점수:\", r2)\n"
   ]
  },
  {
   "cell_type": "code",
   "execution_count": null,
   "metadata": {},
   "outputs": [],
   "source": [
    "model.save('model/O3_model.h5')  # 한글 이름 사용"
   ]
  },
  {
   "cell_type": "code",
   "execution_count": null,
   "metadata": {},
   "outputs": [],
   "source": [
    "import numpy as np\n",
    "import tensorflow as tf\n",
    "import random\n",
    "\n",
    "np.random.seed(42)\n",
    "random.seed(42)\n",
    "tf.random.set_seed(42)\n"
   ]
  },
  {
   "cell_type": "code",
   "execution_count": 44,
   "metadata": {},
   "outputs": [
    {
     "data": {
      "text/plain": [
       "Index(['이산화질소', '오존', '일산화탄소', '아황산', '미세', '초미세'], dtype='object')"
      ]
     },
     "execution_count": 44,
     "metadata": {},
     "output_type": "execute_result"
    }
   ],
   "source": [
    "df.columns"
   ]
  },
  {
   "cell_type": "code",
   "execution_count": 47,
   "metadata": {},
   "outputs": [
    {
     "name": "stdout",
     "output_type": "stream",
     "text": [
      "Epoch 1/100\n",
      "84/84 [==============================] - 13s 106ms/step - loss: 0.0114 - val_loss: 0.0078\n",
      "Epoch 2/100\n",
      "84/84 [==============================] - 8s 96ms/step - loss: 0.0096 - val_loss: 0.0076\n",
      "Epoch 3/100\n",
      "84/84 [==============================] - 8s 93ms/step - loss: 0.0091 - val_loss: 0.0074\n",
      "Epoch 4/100\n",
      "84/84 [==============================] - 8s 97ms/step - loss: 0.0085 - val_loss: 0.0068\n",
      "Epoch 5/100\n",
      "84/84 [==============================] - 9s 107ms/step - loss: 0.0078 - val_loss: 0.0064\n",
      "Epoch 6/100\n",
      "84/84 [==============================] - 8s 93ms/step - loss: 0.0071 - val_loss: 0.0057\n",
      "Epoch 7/100\n",
      "84/84 [==============================] - 8s 93ms/step - loss: 0.0064 - val_loss: 0.0054\n",
      "Epoch 8/100\n",
      "84/84 [==============================] - 8s 93ms/step - loss: 0.0062 - val_loss: 0.0052\n",
      "Epoch 9/100\n",
      "84/84 [==============================] - 8s 97ms/step - loss: 0.0060 - val_loss: 0.0056\n",
      "Epoch 10/100\n",
      "84/84 [==============================] - 8s 96ms/step - loss: 0.0060 - val_loss: 0.0052\n",
      "Epoch 11/100\n",
      "84/84 [==============================] - 8s 97ms/step - loss: 0.0058 - val_loss: 0.0049\n",
      "Epoch 12/100\n",
      "84/84 [==============================] - 8s 96ms/step - loss: 0.0058 - val_loss: 0.0050\n",
      "Epoch 13/100\n",
      "84/84 [==============================] - 8s 92ms/step - loss: 0.0057 - val_loss: 0.0046\n",
      "Epoch 14/100\n",
      "84/84 [==============================] - 8s 91ms/step - loss: 0.0057 - val_loss: 0.0049\n",
      "Epoch 15/100\n",
      "84/84 [==============================] - 8s 94ms/step - loss: 0.0057 - val_loss: 0.0046\n",
      "Epoch 16/100\n",
      "84/84 [==============================] - 8s 95ms/step - loss: 0.0057 - val_loss: 0.0046\n",
      "Epoch 17/100\n",
      "84/84 [==============================] - 8s 97ms/step - loss: 0.0056 - val_loss: 0.0046\n",
      "Epoch 18/100\n",
      "84/84 [==============================] - 8s 96ms/step - loss: 0.0056 - val_loss: 0.0045\n",
      "Epoch 19/100\n",
      "84/84 [==============================] - 9s 103ms/step - loss: 0.0056 - val_loss: 0.0048\n",
      "Epoch 20/100\n",
      "84/84 [==============================] - 9s 102ms/step - loss: 0.0056 - val_loss: 0.0045\n",
      "Epoch 21/100\n",
      "84/84 [==============================] - 8s 95ms/step - loss: 0.0056 - val_loss: 0.0047\n",
      "Epoch 22/100\n",
      "84/84 [==============================] - 8s 99ms/step - loss: 0.0055 - val_loss: 0.0048\n",
      "Epoch 23/100\n",
      "84/84 [==============================] - 8s 97ms/step - loss: 0.0057 - val_loss: 0.0043\n",
      "Epoch 24/100\n",
      "84/84 [==============================] - 8s 97ms/step - loss: 0.0055 - val_loss: 0.0043\n",
      "Epoch 25/100\n",
      "84/84 [==============================] - 8s 96ms/step - loss: 0.0054 - val_loss: 0.0043\n",
      "Epoch 26/100\n",
      "84/84 [==============================] - 8s 101ms/step - loss: 0.0055 - val_loss: 0.0051\n",
      "Epoch 27/100\n",
      "84/84 [==============================] - 9s 102ms/step - loss: 0.0055 - val_loss: 0.0048\n",
      "Epoch 28/100\n",
      "84/84 [==============================] - 8s 97ms/step - loss: 0.0055 - val_loss: 0.0043\n",
      "Epoch 29/100\n",
      "84/84 [==============================] - 8s 95ms/step - loss: 0.0055 - val_loss: 0.0044\n",
      "Epoch 30/100\n",
      "84/84 [==============================] - 8s 101ms/step - loss: 0.0054 - val_loss: 0.0043\n",
      "Epoch 31/100\n",
      "84/84 [==============================] - 8s 94ms/step - loss: 0.0054 - val_loss: 0.0044\n",
      "Epoch 32/100\n",
      "84/84 [==============================] - 9s 101ms/step - loss: 0.0054 - val_loss: 0.0048\n",
      "Epoch 33/100\n",
      "84/84 [==============================] - 8s 98ms/step - loss: 0.0054 - val_loss: 0.0045\n",
      "Epoch 34/100\n",
      "84/84 [==============================] - 8s 98ms/step - loss: 0.0055 - val_loss: 0.0044\n",
      "Epoch 35/100\n",
      "84/84 [==============================] - 8s 98ms/step - loss: 0.0054 - val_loss: 0.0044\n",
      "24/24 [==============================] - 2s 36ms/step\n",
      "R2 점수: 0.50592129030926\n"
     ]
    }
   ],
   "source": [
    "from sklearn.preprocessing import MinMaxScaler\n",
    "from keras.models import Sequential\n",
    "from keras.layers import LSTM, Dense\n",
    "from keras.optimizers import Adam\n",
    "from keras.callbacks import EarlyStopping\n",
    "from sklearn.metrics import r2_score\n",
    "import numpy as np\n",
    "\n",
    "# 데이터셋 준비 (이미 원-핫 인코딩 및 NaN 처리 완료)\n",
    "data = df.values\n",
    "\n",
    "# 데이터 정규화 (훈련 데이터에만 fit 적용)\n",
    "scaler = MinMaxScaler()\n",
    "n_train = int(0.8 * len(data))\n",
    "train_data = data[:n_train]\n",
    "test_data = data[n_train:]\n",
    "\n",
    "scaler.fit(train_data)  # Fit only on training data\n",
    "train_data_scaled = scaler.transform(train_data)\n",
    "test_data_scaled = scaler.transform(test_data)\n",
    "\n",
    "# 데이터셋 재구성\n",
    "seq_len = 100\n",
    "input_dim = train_data_scaled.shape[1]\n",
    "\n",
    "trainX, trainY = [], []\n",
    "testX, testY = [], []\n",
    "\n",
    "for i in range(seq_len, len(train_data_scaled)):\n",
    "    trainX.append(train_data_scaled[i-seq_len:i, :])\n",
    "    trainY.append(train_data_scaled[i, 5])  # 첫 번째 열이 타겟 변수라고 가정\n",
    "\n",
    "for i in range(seq_len, len(test_data_scaled)):\n",
    "    testX.append(test_data_scaled[i-seq_len:i, :])\n",
    "    testY.append(test_data_scaled[i, 5])\n",
    "\n",
    "trainX, trainY = np.array(trainX), np.array(trainY)\n",
    "testX, testY = np.array(testX), np.array(testY)\n",
    "\n",
    "# LSTM 모델 구성\n",
    "model = Sequential()\n",
    "model.add(LSTM(128, input_shape=(seq_len, input_dim), return_sequences=True))\n",
    "model.add(LSTM(64, return_sequences=False))\n",
    "model.add(Dense(1))\n",
    "\n",
    "# 모델 컴파일 및 학습\n",
    "model.compile(optimizer=Adam(learning_rate=0.0005), loss='mse')\n",
    "early_stopping = EarlyStopping(monitor='val_loss', patience=10, restore_best_weights=True)\n",
    "history = model.fit(trainX, trainY, epochs=100, batch_size=32, validation_split=0.2, verbose=1, callbacks=[early_stopping])\n",
    "\n",
    "# 예측 및 역변환\n",
    "prediction = model.predict(testX)\n",
    "prediction_transformed = scaler.inverse_transform(np.concatenate((prediction, np.zeros((prediction.shape[0], data.shape[1]-1))), axis=1))[:,0]\n",
    "testY_transformed = scaler.inverse_transform(np.concatenate((testY.reshape(-1,1), np.zeros((testY.shape[0], data.shape[1]-1))), axis=1))[:,0]\n",
    "\n",
    "# R2 점수 계산\n",
    "r2 = r2_score(testY_transformed, prediction_transformed)\n",
    "print(\"R2 점수:\", r2)\n"
   ]
  },
  {
   "cell_type": "code",
   "execution_count": 49,
   "metadata": {},
   "outputs": [
    {
     "ename": "NameError",
     "evalue": "name 'ddddddddddddddd' is not defined",
     "output_type": "error",
     "traceback": [
      "\u001b[1;31m---------------------------------------------------------------------------\u001b[0m",
      "\u001b[1;31mNameError\u001b[0m                                 Traceback (most recent call last)",
      "Cell \u001b[1;32mIn[49], line 1\u001b[0m\n\u001b[1;32m----> 1\u001b[0m \u001b[43mddddddddddddddd\u001b[49m\n",
      "\u001b[1;31mNameError\u001b[0m: name 'ddddddddddddddd' is not defined"
     ]
    }
   ],
   "source": [
    "ddddddddddddddd"
   ]
  },
  {
   "cell_type": "code",
   "execution_count": 48,
   "metadata": {},
   "outputs": [
    {
     "name": "stdout",
     "output_type": "stream",
     "text": [
      "1/1 [==============================] - 0s 40ms/step\n",
      "내일의 예측된 값: 0.05987326008081437\n"
     ]
    }
   ],
   "source": [
    "def predict_next_day(model, initial_seq, seq_len, input_dim):\n",
    "    current_seq = initial_seq.copy()\n",
    "    current_seq_reshaped = current_seq.reshape(1, seq_len, input_dim)\n",
    "    next_prediction = model.predict(current_seq_reshaped)\n",
    "\n",
    "    return next_prediction[0, 0]\n",
    "\n",
    "# 최신 데이터 시퀀스 준비\n",
    "latest_seq_len = 100  # 예측에 사용할 최신 데이터의 길이\n",
    "latest_data = test_data[-latest_seq_len:].reshape(seq_len, input_dim)\n",
    "\n",
    "# 내일의 값 예측\n",
    "predicted_value_for_next_day = predict_next_day(model, latest_data, seq_len, input_dim)\n",
    "\n",
    "# 예측 결과 역변환\n",
    "predicted_value_transformed = scaler.inverse_transform([[predicted_value_for_next_day] + [0] * (data_scaled.shape[1] - 1)])\n",
    "\n",
    "print(\"내일의 예측된 값:\", predicted_value_transformed[0, 0])\n"
   ]
  },
  {
   "cell_type": "code",
   "execution_count": 42,
   "metadata": {},
   "outputs": [
    {
     "name": "stdout",
     "output_type": "stream",
     "text": [
      "1/1 [==============================] - 0s 34ms/step\n"
     ]
    },
    {
     "name": "stdout",
     "output_type": "stream",
     "text": [
      "최신 데이터에 대한 예측된 값: 0.019941310375603587\n"
     ]
    }
   ],
   "source": [
    "# 최신 데이터 시퀀스 추출\n",
    "latest_seq_len = 100  # 예측에 사용할 최신 데이터의 길이\n",
    "latest_data = test_data[-latest_seq_len:].reshape(1, latest_seq_len, input_dim)\n",
    "\n",
    "# 예측 수행\n",
    "latest_prediction = model.predict(latest_data)\n",
    "\n",
    "# 예측 결과 역변환 (여기서 오류가 발생했을 수 있음)\n",
    "latest_prediction_transformed = scaler.inverse_transform(np.concatenate((latest_prediction, np.zeros((latest_prediction.shape[0], data_scaled.shape[1]-1))), axis=1))[:,0]\n",
    "\n",
    "# 예측된 결과 출력\n",
    "predicted_value = latest_prediction_transformed[0]\n",
    "print(\"최신 데이터에 대한 예측된 값:\", predicted_value)\n"
   ]
  },
  {
   "cell_type": "code",
   "execution_count": null,
   "metadata": {},
   "outputs": [
    {
     "name": "stdout",
     "output_type": "stream",
     "text": [
      "Epoch 1/100\n",
      "84/84 [==============================] - 8s 68ms/step - loss: 0.8003 - val_loss: 1.0866\n",
      "Epoch 2/100\n",
      "84/84 [==============================] - 5s 60ms/step - loss: 0.7199 - val_loss: 1.0379\n",
      "Epoch 3/100\n",
      "84/84 [==============================] - 5s 60ms/step - loss: 0.6574 - val_loss: 0.9857\n",
      "Epoch 4/100\n",
      "84/84 [==============================] - 5s 60ms/step - loss: 0.5886 - val_loss: 0.9220\n",
      "Epoch 5/100\n",
      "84/84 [==============================] - 5s 65ms/step - loss: 0.5633 - val_loss: 0.8786\n",
      "Epoch 6/100\n",
      "84/84 [==============================] - 5s 65ms/step - loss: 0.5409 - val_loss: 0.8371\n",
      "Epoch 7/100\n",
      "84/84 [==============================] - 5s 64ms/step - loss: 0.5381 - val_loss: 0.8572\n",
      "Epoch 8/100\n",
      "84/84 [==============================] - 6s 66ms/step - loss: 0.5234 - val_loss: 0.8312\n",
      "Epoch 9/100\n",
      "84/84 [==============================] - 5s 65ms/step - loss: 0.5208 - val_loss: 0.8248\n",
      "Epoch 10/100\n",
      "84/84 [==============================] - 5s 65ms/step - loss: 0.5104 - val_loss: 0.7927\n",
      "Epoch 11/100\n",
      "84/84 [==============================] - 5s 63ms/step - loss: 0.5009 - val_loss: 0.8080\n",
      "Epoch 12/100\n",
      "84/84 [==============================] - 5s 62ms/step - loss: 0.5004 - val_loss: 0.7912\n",
      "Epoch 13/100\n",
      "84/84 [==============================] - 5s 62ms/step - loss: 0.4874 - val_loss: 0.7813\n",
      "Epoch 14/100\n",
      "84/84 [==============================] - 5s 61ms/step - loss: 0.4834 - val_loss: 0.7787\n",
      "Epoch 15/100\n",
      "84/84 [==============================] - 5s 62ms/step - loss: 0.4804 - val_loss: 0.7914\n",
      "Epoch 16/100\n",
      "84/84 [==============================] - 5s 62ms/step - loss: 0.4653 - val_loss: 0.7558\n",
      "Epoch 17/100\n",
      "84/84 [==============================] - 5s 61ms/step - loss: 0.4606 - val_loss: 0.8084\n",
      "Epoch 18/100\n",
      "84/84 [==============================] - 5s 61ms/step - loss: 0.4533 - val_loss: 0.7893\n",
      "Epoch 19/100\n",
      "84/84 [==============================] - 5s 62ms/step - loss: 0.4520 - val_loss: 0.7945\n",
      "Epoch 20/100\n",
      "84/84 [==============================] - 5s 61ms/step - loss: 0.4388 - val_loss: 0.7966\n",
      "Epoch 21/100\n",
      "84/84 [==============================] - 5s 61ms/step - loss: 0.4275 - val_loss: 0.8197\n",
      "Epoch 22/100\n",
      "84/84 [==============================] - 5s 62ms/step - loss: 0.4228 - val_loss: 0.8033\n",
      "Epoch 23/100\n",
      "84/84 [==============================] - 5s 65ms/step - loss: 0.4132 - val_loss: 0.7886\n",
      "Epoch 24/100\n",
      "84/84 [==============================] - 6s 66ms/step - loss: 0.4100 - val_loss: 0.7747\n",
      "Epoch 25/100\n",
      "84/84 [==============================] - 5s 64ms/step - loss: 0.3979 - val_loss: 0.7920\n",
      "Epoch 26/100\n",
      "84/84 [==============================] - 5s 63ms/step - loss: 0.3896 - val_loss: 0.7861\n",
      "24/24 [==============================] - 1s 34ms/step\n",
      "R2 점수: 0.4469042576411071\n"
     ]
    }
   ],
   "source": [
    "from keras.callbacks import EarlyStopping\n",
    "\n",
    "# 데이터셋 준비 (이미 원-핫 인코딩 및 NaN 처리 완료)\n",
    "data = df.values\n",
    "\n",
    "# 데이터 정규화\n",
    "scaler = StandardScaler()\n",
    "data_scaled = scaler.fit_transform(data)\n",
    "\n",
    "# 데이터셋 분할\n",
    "n_train = int(0.8 * len(data_scaled))\n",
    "train_data = data_scaled[:n_train]\n",
    "test_data = data_scaled[n_train:]\n",
    "train_dates = df.index[:n_train]\n",
    "test_dates = df.index[n_train:]\n",
    "\n",
    "# 데이터셋 재구성\n",
    "seq_len = 100  # 수치구성방법 총 데이터의수 20%가 최대치 (수치를 조정해서 모델 적중률 조정)\n",
    "input_dim = train_data.shape[1]  # 입력 차원 (원-핫 인코딩된 열의 수)\n",
    "\n",
    "trainX, trainY = [], []\n",
    "testX, testY = [], []\n",
    "\n",
    "for i in range(seq_len, len(train_data)):\n",
    "    trainX.append(train_data[i-seq_len:i, :])\n",
    "    trainY.append(train_data[i, 4])  # 첫 번째 열이 타겟 변수라고 가정\n",
    "\n",
    "for i in range(seq_len, len(test_data)):\n",
    "    testX.append(test_data[i-seq_len:i, :])\n",
    "    testY.append(test_data[i, 4])\n",
    "\n",
    "trainX, trainY = np.array(trainX), np.array(trainY)\n",
    "testX, testY = np.array(testX), np.array(testY)\n",
    "\n",
    "# LSTM 모델 구성\n",
    "model = Sequential()\n",
    "model.add(LSTM(128, input_shape=(seq_len, input_dim), return_sequences=True))\n",
    "model.add(LSTM(64, return_sequences=False))\n",
    "model.add(Dense(1))  # 하나의 출력 뉴런\n",
    "\n",
    "# 모델 컴파일 및 학습\n",
    "model.compile(optimizer=Adam(learning_rate=0.0005), loss='mse')\n",
    "\n",
    "# 조기 종료 설정\n",
    "early_stopping = EarlyStopping(monitor='val_loss', patience=10, restore_best_weights=True)\n",
    "\n",
    "# 모델 학습\n",
    "history = model.fit(trainX, trainY, epochs=100, batch_size=32, validation_split=0.2, verbose=1, callbacks=[early_stopping])\n",
    "\n",
    "# 예측\n",
    "prediction = model.predict(testX)\n",
    "\n",
    "# 예측값 역변환\n",
    "prediction_transformed = scaler.inverse_transform(np.concatenate((prediction, np.zeros((prediction.shape[0], data_scaled.shape[1]-1))), axis=1))[:,0]\n",
    "\n",
    "# 실제 타겟값 역변환\n",
    "testY_transformed = scaler.inverse_transform(np.concatenate((testY.reshape(-1,1), np.zeros((testY.shape[0], data_scaled.shape[1]-1))), axis=1))[:,0]\n",
    "\n",
    "# R2 점수 계산\n",
    "r2 = r2_score(testY_transformed, prediction_transformed)\n",
    "print(\"R2 점수:\", r2)\n"
   ]
  },
  {
   "cell_type": "code",
   "execution_count": null,
   "metadata": {},
   "outputs": [],
   "source": [
    "model.save('model/PM10_model.h5')  # 한글 이름 사용"
   ]
  },
  {
   "cell_type": "code",
   "execution_count": null,
   "metadata": {},
   "outputs": [
    {
     "name": "stdout",
     "output_type": "stream",
     "text": [
      "Epoch 1/120\n",
      "101/101 [==============================] - 5s 32ms/step - loss: 0.0160 - val_loss: 0.0082\n",
      "Epoch 2/120\n",
      "101/101 [==============================] - 3s 27ms/step - loss: 0.0127 - val_loss: 0.0088\n",
      "Epoch 3/120\n",
      "101/101 [==============================] - 3s 27ms/step - loss: 0.0124 - val_loss: 0.0076\n",
      "Epoch 4/120\n",
      "101/101 [==============================] - 3s 27ms/step - loss: 0.0122 - val_loss: 0.0071\n",
      "Epoch 5/120\n",
      "101/101 [==============================] - 3s 27ms/step - loss: 0.0119 - val_loss: 0.0069\n",
      "Epoch 6/120\n",
      "101/101 [==============================] - 3s 29ms/step - loss: 0.0118 - val_loss: 0.0068\n",
      "Epoch 7/120\n",
      "101/101 [==============================] - 3s 28ms/step - loss: 0.0118 - val_loss: 0.0072\n",
      "Epoch 8/120\n",
      "101/101 [==============================] - 3s 29ms/step - loss: 0.0116 - val_loss: 0.0069\n",
      "Epoch 9/120\n",
      "101/101 [==============================] - 3s 27ms/step - loss: 0.0117 - val_loss: 0.0071\n",
      "Epoch 10/120\n",
      "101/101 [==============================] - 3s 27ms/step - loss: 0.0114 - val_loss: 0.0068\n",
      "Epoch 11/120\n",
      "101/101 [==============================] - 3s 27ms/step - loss: 0.0113 - val_loss: 0.0072\n",
      "Epoch 12/120\n",
      "101/101 [==============================] - 3s 28ms/step - loss: 0.0114 - val_loss: 0.0066\n",
      "Epoch 13/120\n",
      "101/101 [==============================] - 3s 27ms/step - loss: 0.0113 - val_loss: 0.0066\n",
      "Epoch 14/120\n",
      "101/101 [==============================] - 3s 27ms/step - loss: 0.0111 - val_loss: 0.0067\n",
      "Epoch 15/120\n",
      "101/101 [==============================] - 3s 26ms/step - loss: 0.0108 - val_loss: 0.0068\n",
      "Epoch 16/120\n",
      "101/101 [==============================] - 3s 27ms/step - loss: 0.0108 - val_loss: 0.0067\n",
      "Epoch 17/120\n",
      "101/101 [==============================] - 3s 27ms/step - loss: 0.0106 - val_loss: 0.0064\n",
      "Epoch 18/120\n",
      "101/101 [==============================] - 3s 28ms/step - loss: 0.0104 - val_loss: 0.0066\n",
      "Epoch 19/120\n",
      "101/101 [==============================] - 3s 28ms/step - loss: 0.0103 - val_loss: 0.0061\n",
      "Epoch 20/120\n",
      "101/101 [==============================] - 3s 28ms/step - loss: 0.0099 - val_loss: 0.0059\n",
      "Epoch 21/120\n",
      "101/101 [==============================] - 3s 31ms/step - loss: 0.0100 - val_loss: 0.0060\n",
      "Epoch 22/120\n",
      "101/101 [==============================] - 3s 28ms/step - loss: 0.0098 - val_loss: 0.0059\n",
      "Epoch 23/120\n",
      "101/101 [==============================] - 3s 28ms/step - loss: 0.0092 - val_loss: 0.0054\n",
      "Epoch 24/120\n",
      "101/101 [==============================] - 3s 29ms/step - loss: 0.0090 - val_loss: 0.0054\n",
      "Epoch 25/120\n",
      "101/101 [==============================] - 3s 28ms/step - loss: 0.0089 - val_loss: 0.0053\n",
      "Epoch 26/120\n",
      "101/101 [==============================] - 3s 27ms/step - loss: 0.0087 - val_loss: 0.0054\n",
      "Epoch 27/120\n",
      "101/101 [==============================] - 3s 27ms/step - loss: 0.0087 - val_loss: 0.0052\n",
      "Epoch 28/120\n",
      "101/101 [==============================] - 3s 27ms/step - loss: 0.0086 - val_loss: 0.0050\n",
      "Epoch 29/120\n",
      "101/101 [==============================] - 3s 26ms/step - loss: 0.0086 - val_loss: 0.0052\n",
      "Epoch 30/120\n",
      "101/101 [==============================] - 3s 26ms/step - loss: 0.0086 - val_loss: 0.0050\n",
      "Epoch 31/120\n",
      "101/101 [==============================] - 3s 26ms/step - loss: 0.0085 - val_loss: 0.0052\n",
      "Epoch 32/120\n",
      "101/101 [==============================] - 3s 27ms/step - loss: 0.0085 - val_loss: 0.0050\n",
      "Epoch 33/120\n",
      "101/101 [==============================] - 3s 26ms/step - loss: 0.0085 - val_loss: 0.0050\n",
      "Epoch 34/120\n",
      "101/101 [==============================] - 3s 26ms/step - loss: 0.0087 - val_loss: 0.0050\n",
      "Epoch 35/120\n",
      "101/101 [==============================] - 3s 26ms/step - loss: 0.0085 - val_loss: 0.0049\n",
      "Epoch 36/120\n",
      "101/101 [==============================] - 3s 26ms/step - loss: 0.0085 - val_loss: 0.0049\n",
      "Epoch 37/120\n",
      "101/101 [==============================] - 3s 26ms/step - loss: 0.0084 - val_loss: 0.0054\n",
      "Epoch 38/120\n",
      "101/101 [==============================] - 3s 26ms/step - loss: 0.0086 - val_loss: 0.0049\n",
      "Epoch 39/120\n",
      "101/101 [==============================] - 3s 26ms/step - loss: 0.0084 - val_loss: 0.0049\n",
      "Epoch 40/120\n",
      "101/101 [==============================] - 3s 26ms/step - loss: 0.0084 - val_loss: 0.0048\n",
      "Epoch 41/120\n",
      "101/101 [==============================] - 3s 27ms/step - loss: 0.0085 - val_loss: 0.0049\n",
      "Epoch 42/120\n",
      "101/101 [==============================] - 3s 27ms/step - loss: 0.0084 - val_loss: 0.0049\n",
      "Epoch 43/120\n",
      "101/101 [==============================] - 3s 26ms/step - loss: 0.0084 - val_loss: 0.0048\n",
      "Epoch 44/120\n",
      "101/101 [==============================] - 3s 27ms/step - loss: 0.0084 - val_loss: 0.0050\n",
      "Epoch 45/120\n",
      "101/101 [==============================] - 3s 27ms/step - loss: 0.0084 - val_loss: 0.0048\n",
      "Epoch 46/120\n",
      "101/101 [==============================] - 3s 28ms/step - loss: 0.0085 - val_loss: 0.0049\n",
      "Epoch 47/120\n",
      "101/101 [==============================] - 3s 28ms/step - loss: 0.0084 - val_loss: 0.0049\n",
      "Epoch 48/120\n",
      "101/101 [==============================] - 3s 27ms/step - loss: 0.0083 - val_loss: 0.0047\n",
      "Epoch 49/120\n",
      "101/101 [==============================] - 3s 28ms/step - loss: 0.0084 - val_loss: 0.0048\n",
      "Epoch 50/120\n",
      "101/101 [==============================] - 3s 27ms/step - loss: 0.0083 - val_loss: 0.0048\n",
      "Epoch 51/120\n",
      "101/101 [==============================] - 3s 29ms/step - loss: 0.0083 - val_loss: 0.0051\n",
      "Epoch 52/120\n",
      "101/101 [==============================] - 3s 30ms/step - loss: 0.0084 - val_loss: 0.0049\n",
      "Epoch 53/120\n",
      "101/101 [==============================] - 3s 28ms/step - loss: 0.0084 - val_loss: 0.0051\n",
      "Epoch 54/120\n",
      "101/101 [==============================] - 3s 28ms/step - loss: 0.0084 - val_loss: 0.0049\n",
      "Epoch 55/120\n",
      "101/101 [==============================] - 3s 31ms/step - loss: 0.0083 - val_loss: 0.0048\n",
      "Epoch 56/120\n",
      "101/101 [==============================] - 3s 28ms/step - loss: 0.0083 - val_loss: 0.0049\n",
      "Epoch 57/120\n",
      "101/101 [==============================] - 3s 27ms/step - loss: 0.0083 - val_loss: 0.0048\n",
      "Epoch 58/120\n",
      "101/101 [==============================] - 3s 26ms/step - loss: 0.0083 - val_loss: 0.0047\n",
      "Epoch 59/120\n",
      "101/101 [==============================] - 3s 26ms/step - loss: 0.0084 - val_loss: 0.0048\n",
      "Epoch 60/120\n",
      "101/101 [==============================] - 3s 27ms/step - loss: 0.0082 - val_loss: 0.0047\n",
      "Epoch 61/120\n",
      "101/101 [==============================] - 3s 27ms/step - loss: 0.0082 - val_loss: 0.0047\n",
      "Epoch 62/120\n",
      "101/101 [==============================] - 3s 27ms/step - loss: 0.0083 - val_loss: 0.0047\n",
      "Epoch 63/120\n",
      "101/101 [==============================] - 3s 27ms/step - loss: 0.0082 - val_loss: 0.0047\n",
      "Epoch 64/120\n",
      "101/101 [==============================] - 3s 28ms/step - loss: 0.0082 - val_loss: 0.0052\n",
      "Epoch 65/120\n",
      "101/101 [==============================] - 3s 29ms/step - loss: 0.0082 - val_loss: 0.0047\n",
      "Epoch 66/120\n",
      "101/101 [==============================] - 3s 31ms/step - loss: 0.0082 - val_loss: 0.0047\n",
      "Epoch 67/120\n",
      "101/101 [==============================] - 3s 31ms/step - loss: 0.0082 - val_loss: 0.0048\n",
      "Epoch 68/120\n",
      "101/101 [==============================] - 3s 30ms/step - loss: 0.0082 - val_loss: 0.0048\n",
      "Epoch 69/120\n",
      "101/101 [==============================] - 3s 30ms/step - loss: 0.0082 - val_loss: 0.0048\n",
      "Epoch 70/120\n",
      "101/101 [==============================] - 3s 30ms/step - loss: 0.0082 - val_loss: 0.0046\n",
      "Epoch 71/120\n",
      "101/101 [==============================] - 3s 28ms/step - loss: 0.0082 - val_loss: 0.0046\n",
      "Epoch 72/120\n",
      "101/101 [==============================] - 3s 28ms/step - loss: 0.0082 - val_loss: 0.0051\n",
      "Epoch 73/120\n",
      "101/101 [==============================] - 3s 29ms/step - loss: 0.0082 - val_loss: 0.0046\n",
      "Epoch 74/120\n",
      "101/101 [==============================] - 3s 27ms/step - loss: 0.0081 - val_loss: 0.0046\n",
      "Epoch 75/120\n",
      "101/101 [==============================] - 3s 29ms/step - loss: 0.0081 - val_loss: 0.0046\n",
      "Epoch 76/120\n",
      "101/101 [==============================] - 3s 30ms/step - loss: 0.0082 - val_loss: 0.0046\n",
      "Epoch 77/120\n",
      "101/101 [==============================] - 3s 29ms/step - loss: 0.0081 - val_loss: 0.0046\n",
      "Epoch 78/120\n",
      "101/101 [==============================] - 3s 29ms/step - loss: 0.0081 - val_loss: 0.0047\n",
      "Epoch 79/120\n",
      "101/101 [==============================] - 3s 31ms/step - loss: 0.0081 - val_loss: 0.0047\n",
      "Epoch 80/120\n",
      "101/101 [==============================] - 3s 30ms/step - loss: 0.0082 - val_loss: 0.0048\n",
      "Epoch 81/120\n",
      "101/101 [==============================] - 3s 28ms/step - loss: 0.0082 - val_loss: 0.0047\n",
      "Epoch 82/120\n",
      "101/101 [==============================] - 3s 30ms/step - loss: 0.0081 - val_loss: 0.0047\n",
      "Epoch 83/120\n",
      "101/101 [==============================] - 3s 30ms/step - loss: 0.0081 - val_loss: 0.0047\n",
      "Epoch 84/120\n",
      "101/101 [==============================] - 3s 28ms/step - loss: 0.0081 - val_loss: 0.0047\n",
      "Epoch 85/120\n",
      "101/101 [==============================] - 3s 28ms/step - loss: 0.0080 - val_loss: 0.0048\n",
      "12/12 [==============================] - 1s 13ms/step\n",
      "R2 점수: 0.5465857586105638\n"
     ]
    }
   ],
   "source": [
    "from keras.callbacks import EarlyStopping\n",
    "\n",
    "# 데이터셋 준비 (이미 원-핫 인코딩 및 NaN 처리 완료)\n",
    "data = df.values\n",
    "\n",
    "# 데이터 정규화\n",
    "scaler = MinMaxScaler()\n",
    "data_scaled = scaler.fit_transform(data)\n",
    "\n",
    "# 데이터셋 분할\n",
    "n_train = int(0.9 * len(data_scaled))\n",
    "train_data = data_scaled[:n_train]\n",
    "test_data = data_scaled[n_train:]\n",
    "train_dates = df.index[:n_train]\n",
    "test_dates = df.index[n_train:]\n",
    "\n",
    "# 데이터셋 재구성\n",
    "seq_len = 70  # 수치구성방법 총 데이터의수 20%가 최대치 (수치를 조정해서 모델 적중률 조정)\n",
    "input_dim = train_data.shape[1]  # 입력 차원 (원-핫 인코딩된 열의 수)\n",
    "\n",
    "trainX, trainY = [], []\n",
    "testX, testY = [], []\n",
    "\n",
    "for i in range(seq_len, len(train_data)):\n",
    "    trainX.append(train_data[i-seq_len:i, :])\n",
    "    trainY.append(train_data[i, 2])  # 첫 번째 열이 타겟 변수라고 가정\n",
    "\n",
    "for i in range(seq_len, len(test_data)):\n",
    "    testX.append(test_data[i-seq_len:i, :])\n",
    "    testY.append(test_data[i, 2])\n",
    "\n",
    "trainX, trainY = np.array(trainX), np.array(trainY)\n",
    "testX, testY = np.array(testX), np.array(testY)\n",
    "\n",
    "# LSTM 모델 구성\n",
    "model = Sequential()\n",
    "model.add(LSTM(128, input_shape=(seq_len, input_dim), return_sequences=True))\n",
    "model.add(LSTM(64, return_sequences=False))\n",
    "model.add(Dense(1))  # 하나의 출력 뉴런\n",
    "\n",
    "# 모델 컴파일 및 학습\n",
    "model.compile(optimizer=Adam(learning_rate=0.0001), loss='mse')\n",
    "\n",
    "# 조기 종료 설정\n",
    "early_stopping = EarlyStopping(monitor='val_loss', patience=10, restore_best_weights=True)\n",
    "\n",
    "# 모델 학습\n",
    "history = model.fit(trainX, trainY, epochs=120, batch_size=32, validation_split=0.15, verbose=1, callbacks=[early_stopping])\n",
    "\n",
    "# 예측\n",
    "prediction = model.predict(testX)\n",
    "\n",
    "# 예측값 역변환\n",
    "prediction_transformed = scaler.inverse_transform(np.concatenate((prediction, np.zeros((prediction.shape[0], data_scaled.shape[1]-1))), axis=1))[:,0]\n",
    "\n",
    "# 실제 타겟값 역변환\n",
    "testY_transformed = scaler.inverse_transform(np.concatenate((testY.reshape(-1,1), np.zeros((testY.shape[0], data_scaled.shape[1]-1))), axis=1))[:,0]\n",
    "\n",
    "# R2 점수 계산\n",
    "r2 = r2_score(testY_transformed, prediction_transformed)\n",
    "print(\"R2 점수:\", r2)\n"
   ]
  },
  {
   "cell_type": "code",
   "execution_count": null,
   "metadata": {},
   "outputs": [],
   "source": [
    "model.save('model/co.h5')  # 한글 이름 사용"
   ]
  },
  {
   "cell_type": "code",
   "execution_count": null,
   "metadata": {},
   "outputs": [
    {
     "data": {
      "text/plain": [
       "Index(['이산화질소', '오존', '일산화탄소', '아황산', '미세', '초미세'], dtype='object')"
      ]
     },
     "execution_count": 77,
     "metadata": {},
     "output_type": "execute_result"
    }
   ],
   "source": [
    "df.columns"
   ]
  },
  {
   "cell_type": "code",
   "execution_count": null,
   "metadata": {},
   "outputs": [],
   "source": [
    "from sklearn.preprocessing import MinMaxScaler\n",
    "from sklearn.preprocessing import StandardScaler\n",
    "from sklearn.preprocessing import RobustScaler\n",
    "from sklearn.preprocessing import MaxAbsScaler\n",
    "from sklearn.preprocessing import Normalizer\n",
    "from sklearn.preprocessing import PowerTransformer\n",
    "from sklearn.preprocessing import QuantileTransformer\n"
   ]
  },
  {
   "cell_type": "code",
   "execution_count": null,
   "metadata": {},
   "outputs": [
    {
     "name": "stdout",
     "output_type": "stream",
     "text": [
      "Epoch 1/100\n",
      "54/54 [==============================] - 7s 83ms/step - loss: 0.0051 - val_loss: 4.9927e-04\n",
      "Epoch 2/100\n",
      "54/54 [==============================] - 4s 73ms/step - loss: 0.0033 - val_loss: 0.0011\n",
      "Epoch 3/100\n",
      "54/54 [==============================] - 4s 74ms/step - loss: 0.0031 - val_loss: 5.4146e-04\n",
      "Epoch 4/100\n",
      "54/54 [==============================] - 4s 73ms/step - loss: 0.0030 - val_loss: 4.3067e-04\n",
      "Epoch 5/100\n",
      "54/54 [==============================] - 4s 72ms/step - loss: 0.0030 - val_loss: 5.1402e-04\n",
      "Epoch 6/100\n",
      "54/54 [==============================] - 4s 75ms/step - loss: 0.0030 - val_loss: 5.0965e-04\n",
      "Epoch 7/100\n",
      "54/54 [==============================] - 4s 75ms/step - loss: 0.0029 - val_loss: 4.5977e-04\n",
      "Epoch 8/100\n",
      "54/54 [==============================] - 4s 73ms/step - loss: 0.0028 - val_loss: 5.7101e-04\n",
      "Epoch 9/100\n",
      "54/54 [==============================] - 4s 74ms/step - loss: 0.0028 - val_loss: 9.1865e-04\n",
      "Epoch 10/100\n",
      "54/54 [==============================] - 4s 75ms/step - loss: 0.0028 - val_loss: 4.5581e-04\n",
      "Epoch 11/100\n",
      "54/54 [==============================] - 4s 73ms/step - loss: 0.0027 - val_loss: 4.8084e-04\n",
      "Epoch 12/100\n",
      "54/54 [==============================] - 4s 73ms/step - loss: 0.0027 - val_loss: 4.8583e-04\n",
      "Epoch 13/100\n",
      "54/54 [==============================] - 4s 72ms/step - loss: 0.0026 - val_loss: 4.7214e-04\n",
      "Epoch 14/100\n",
      "54/54 [==============================] - 4s 73ms/step - loss: 0.0025 - val_loss: 3.7418e-04\n",
      "Epoch 15/100\n",
      "54/54 [==============================] - 4s 70ms/step - loss: 0.0024 - val_loss: 4.0581e-04\n",
      "Epoch 16/100\n",
      "54/54 [==============================] - 4s 71ms/step - loss: 0.0023 - val_loss: 3.4190e-04\n",
      "Epoch 17/100\n",
      "54/54 [==============================] - 4s 70ms/step - loss: 0.0023 - val_loss: 4.8513e-04\n",
      "Epoch 18/100\n",
      "54/54 [==============================] - 4s 71ms/step - loss: 0.0022 - val_loss: 4.5214e-04\n",
      "Epoch 19/100\n",
      "54/54 [==============================] - 4s 71ms/step - loss: 0.0023 - val_loss: 3.1126e-04\n",
      "Epoch 20/100\n",
      "54/54 [==============================] - 4s 72ms/step - loss: 0.0023 - val_loss: 3.0755e-04\n",
      "Epoch 21/100\n",
      "54/54 [==============================] - 4s 71ms/step - loss: 0.0022 - val_loss: 4.2154e-04\n",
      "Epoch 22/100\n",
      "54/54 [==============================] - 4s 72ms/step - loss: 0.0022 - val_loss: 3.8555e-04\n",
      "Epoch 23/100\n",
      "54/54 [==============================] - 4s 72ms/step - loss: 0.0022 - val_loss: 4.9773e-04\n",
      "Epoch 24/100\n",
      "54/54 [==============================] - 4s 75ms/step - loss: 0.0022 - val_loss: 3.9062e-04\n",
      "Epoch 25/100\n",
      "54/54 [==============================] - 4s 72ms/step - loss: 0.0022 - val_loss: 3.2355e-04\n",
      "Epoch 26/100\n",
      "54/54 [==============================] - 4s 73ms/step - loss: 0.0021 - val_loss: 5.5930e-04\n",
      "Epoch 27/100\n",
      "54/54 [==============================] - 4s 70ms/step - loss: 0.0022 - val_loss: 3.3659e-04\n",
      "Epoch 28/100\n",
      "54/54 [==============================] - 4s 70ms/step - loss: 0.0021 - val_loss: 3.8972e-04\n",
      "Epoch 29/100\n",
      "54/54 [==============================] - 4s 70ms/step - loss: 0.0022 - val_loss: 3.2733e-04\n",
      "Epoch 30/100\n",
      "54/54 [==============================] - 4s 72ms/step - loss: 0.0021 - val_loss: 3.4074e-04\n",
      "11/11 [==============================] - 1s 19ms/step\n",
      "R2 점수: 0.4295381455093369\n"
     ]
    }
   ],
   "source": [
    "from keras.callbacks import EarlyStopping\n",
    "\n",
    "# 데이터셋 준비 (이미 원-핫 인코딩 및 NaN 처리 완료)\n",
    "data = df.values\n",
    "\n",
    "# 데이터 정규화\n",
    "scaler = MinMaxScaler()\n",
    "data_scaled = scaler.fit_transform(data)\n",
    "\n",
    "# 데이터셋 분할\n",
    "n_train = int(0.9 * len(data_scaled))\n",
    "train_data = data_scaled[:n_train]\n",
    "test_data = data_scaled[n_train:]\n",
    "train_dates = df.index[:n_train]\n",
    "test_dates = df.index[n_train:]\n",
    "\n",
    "# 데이터셋 재구성\n",
    "seq_len = 100  # 수치길이는 1이 하루를 의미함 4계절 대한민국이라 그것을 참고해서 정함  (수치를 조정해서 모델 적중률 조정)\n",
    "input_dim = train_data.shape[1]  # 입력 차원 (원-핫 인코딩된 열의 수)\n",
    "\n",
    "trainX, trainY = [], []\n",
    "testX, testY = [], []\n",
    "\n",
    "for i in range(seq_len, len(train_data)):\n",
    "    trainX.append(train_data[i-seq_len:i, :])\n",
    "    trainY.append(train_data[i, 3])  # 첫 번째 열이 타겟 변수라고 가정\n",
    "\n",
    "for i in range(seq_len, len(test_data)):\n",
    "    testX.append(test_data[i-seq_len:i, :])\n",
    "    testY.append(test_data[i, 3])\n",
    "\n",
    "trainX, trainY = np.array(trainX), np.array(trainY)\n",
    "testX, testY = np.array(testX), np.array(testY)\n",
    "\n",
    "# LSTM 모델 구성\n",
    "model = Sequential()\n",
    "model.add(LSTM(128, input_shape=(seq_len, input_dim), return_sequences=True))\n",
    "model.add(LSTM(64, return_sequences=False))\n",
    "model.add(Dense(1))  # 하나의 출력 뉴런\n",
    "\n",
    "# 모델 컴파일 및 학습\n",
    "model.compile(optimizer=Adam(learning_rate=0.001), loss='mse')\n",
    "\n",
    "# 조기 종료 설정\n",
    "early_stopping = EarlyStopping(monitor='val_loss', patience=10, restore_best_weights=True)\n",
    "\n",
    "# 모델 학습\n",
    "history = model.fit(trainX, trainY, epochs=100, batch_size=64, validation_split=0.1, verbose=1, callbacks=[early_stopping])\n",
    "\n",
    "# 예측\n",
    "prediction = model.predict(testX)\n",
    "\n",
    "# 예측값 역변환\n",
    "prediction_transformed = scaler.inverse_transform(np.concatenate((prediction, np.zeros((prediction.shape[0], data_scaled.shape[1]-1))), axis=1))[:,0]\n",
    "\n",
    "# 실제 타겟값 역변환\n",
    "testY_transformed = scaler.inverse_transform(np.concatenate((testY.reshape(-1,1), np.zeros((testY.shape[0], data_scaled.shape[1]-1))), axis=1))[:,0]\n",
    "\n",
    "# R2 점수 계산\n",
    "r2 = r2_score(testY_transformed, prediction_transformed)\n",
    "print(\"R2 점수:\", r2)\n"
   ]
  },
  {
   "cell_type": "code",
   "execution_count": null,
   "metadata": {},
   "outputs": [],
   "source": [
    "model.save('SO2_model.h5')"
   ]
  },
  {
   "cell_type": "code",
   "execution_count": null,
   "metadata": {},
   "outputs": [
    {
     "data": {
      "text/plain": [
       "Index(['이산화질소', '오존', '일산화탄소', '아황산', '미세', '초미세'], dtype='object')"
      ]
     },
     "execution_count": 75,
     "metadata": {},
     "output_type": "execute_result"
    }
   ],
   "source": [
    "df.columns"
   ]
  },
  {
   "cell_type": "code",
   "execution_count": null,
   "metadata": {},
   "outputs": [
    {
     "name": "stdout",
     "output_type": "stream",
     "text": [
      "이상치의 개수: 89\n",
      "이상치 인덱스와 값:\n",
      "측정일시\n",
      "2012-01-01    0.010\n",
      "2012-01-02    0.009\n",
      "2012-01-04    0.011\n",
      "2012-01-07    0.009\n",
      "2012-01-08    0.009\n",
      "              ...  \n",
      "2015-03-15    0.009\n",
      "2015-03-16    0.009\n",
      "2015-03-17    0.011\n",
      "2015-03-21    0.013\n",
      "2018-02-27    0.009\n",
      "Name: 아황산, Length: 89, dtype: float64\n"
     ]
    },
    {
     "data": {
      "image/png": "[encoded data removed]",
      "text/plain": [
       "<Figure size 1000x600 with 1 Axes>"
      ]
     },
     "metadata": {},
     "output_type": "display_data"
    }
   ],
   "source": [
    "import pandas as pd\n",
    "\n",
    "# 데이터프레임 'df'와 컬럼 이름 'column_name'을 가정\n",
    "column_name = 'your_column_name'\n",
    "data = df['아황산']\n",
    "\n",
    "# IQR 계산\n",
    "Q1 = data.quantile(0.25)\n",
    "Q3 = data.quantile(0.75)\n",
    "IQR = Q3 - Q1\n",
    "\n",
    "# 이상치 탐지\n",
    "outliers = ((data < (Q1 - 1.5 * IQR)) | (data > (Q3 + 1.5 * IQR)))\n",
    "\n",
    "# 이상치 출력\n",
    "print(\"이상치의 개수:\", outliers.sum())\n",
    "print(\"이상치 인덱스와 값:\")\n",
    "print(data[outliers])\n",
    "\n",
    "# 이상치 시각화 (선택적)\n",
    "import matplotlib.pyplot as plt\n",
    "import seaborn as sns\n",
    "\n",
    "plt.figure(figsize=(10, 6))\n",
    "sns.boxplot(x=data)\n",
    "plt.show()"
   ]
  },
  {
   "cell_type": "code",
   "execution_count": null,
   "metadata": {},
   "outputs": [],
   "source": []
  }
 ],
 "metadata": {
  "kernelspec": {
   "display_name": "base",
   "language": "python",
   "name": "python3"
  },
  "language_info": {
   "codemirror_mode": {
    "name": "ipython",
    "version": 3
   },
   "file_extension": ".py",
   "mimetype": "text/x-python",
   "name": "python",
   "nbconvert_exporter": "python",
   "pygments_lexer": "ipython3",
   "version": "3.11.4"
  }
 },
 "nbformat": 4,
 "nbformat_minor": 2
}
