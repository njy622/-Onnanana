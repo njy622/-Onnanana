{
 "cells": [
  {
   "cell_type": "code",
   "execution_count": 1,
   "metadata": {},
   "outputs": [],
   "source": [
    "import requests, json\n",
    "import pandas as pd\n",
    "from urllib.parse import quote\n",
    "import xml.etree.ElementTree as ET\n",
    "import numpy as np\n",
    "import requests\n",
    "from datetime import datetime, timedelta\n",
    "import time"
   ]
  },
  {
   "cell_type": "code",
   "execution_count": 2,
   "metadata": {},
   "outputs": [],
   "source": [
    "with open('keys/api.txt') as file:\n",
    "    road_key = file.read()"
   ]
  },
  {
   "cell_type": "code",
   "execution_count": 17,
   "metadata": {},
   "outputs": [],
   "source": [
    "base_url = f'http://openAPI.seoul.go.kr:8088/{road_key}/xml/DailyAverageAirQuality/1/5/20121225/'\n",
    "gu_map = []\n",
    "url = f'{base_url}{gu_map}'\n"
   ]
  },
  {
   "cell_type": "code",
   "execution_count": 20,
   "metadata": {},
   "outputs": [],
   "source": [
    "url = f'http://openAPI.seoul.go.kr:8088/{road_key}/xml/DailyAverageAirQuality/1/5/20121225/강남구'"
   ]
  },
  {
   "cell_type": "code",
   "execution_count": 21,
   "metadata": {},
   "outputs": [
    {
     "data": {
      "text/plain": [
       "200"
      ]
     },
     "execution_count": 21,
     "metadata": {},
     "output_type": "execute_result"
    }
   ],
   "source": [
    "result = requests.get(url)\n",
    "result.status_code"
   ]
  },
  {
   "cell_type": "code",
   "execution_count": 22,
   "metadata": {},
   "outputs": [
    {
     "data": {
      "text/plain": [
       "'<?xml version=\"1.0\" encoding=\"UTF-8\"?>\\n<DailyAverageAirQuality>\\n<list_total_count>1</list_total_count>\\n<RESULT>\\n<CODE>INFO-000</CODE>\\n<MESSAGE>정상 처리되었습니다</MESSAGE>\\n</RESULT>\\n<row>\\n<MSRDT_DE>20121225</MSRDT_DE>\\n<MSRSTE_NM>강남구</MSRSTE_NM>\\n<NO2>0.03</NO2>\\n<O3>0.014</O3>\\n<CO>0.3</CO>\\n<SO2>0.006</SO2>\\n<PM10>34</PM10>\\n<PM25/>\\n</row>\\n</DailyAverageAirQuality>\\n'"
      ]
     },
     "execution_count": 22,
     "metadata": {},
     "output_type": "execute_result"
    }
   ],
   "source": [
    "result.text"
   ]
  },
  {
   "cell_type": "code",
   "execution_count": 24,
   "metadata": {},
   "outputs": [],
   "source": [
    "xml_data = result.text"
   ]
  },
  {
   "cell_type": "code",
   "execution_count": 25,
   "metadata": {},
   "outputs": [
    {
     "name": "stdout",
     "output_type": "stream",
     "text": [
      "       측정일시 측정소명 이산화질소     오존 일산화탄소    아황산  미세  초미세\n",
      "0  20121225  강남구  0.03  0.014   0.3  0.006  34  NaN\n"
     ]
    }
   ],
   "source": [
    "# XML 파싱\n",
    "root = ET.fromstring(xml_data)\n",
    "rows = []\n",
    "\n",
    "# 'row' 태그에 대한 모든 데이터 추출\n",
    "for row in root.findall('.//row'):\n",
    "    # 각 데이터 필드의 값을 추출하고, 데이터가 없으면 None (Pandas에서 NaN으로 변환됨) 으로 설정\n",
    "    date = row.find('MSRDT_DE').text if row.find('MSRDT_DE') is not None else None\n",
    "    station_name = row.find('MSRSTE_NM').text if row.find('MSRSTE_NM') is not None else None\n",
    "    no2 = row.find('NO2').text if row.find('NO2') is not None else None\n",
    "    o3 = row.find('O3').text if row.find('O3') is not None else None\n",
    "    co = row.find('CO').text if row.find('CO') is not None else None\n",
    "    so2 = row.find('SO2').text if row.find('SO2') is not None else None\n",
    "    pm10 = row.find('PM10').text if row.find('PM10') is not None else None\n",
    "    pm25 = row.find('PM25').text if row.find('PM25') is not None else None\n",
    "    \n",
    "    # 데이터프레임의 행으로 추가될 딕셔너리\n",
    "    rows.append({\n",
    "        \"측정일시\": date,\n",
    "        \"측정소명\": station_name,\n",
    "        \"이산화질소\": no2,\n",
    "        \"오존\": o3,\n",
    "        \"일산화탄소\": co,\n",
    "        \"아황산\": so2,\n",
    "        \"미세\": pm10,\n",
    "        \"초미세\": pm25\n",
    "    })\n",
    "\n",
    "# Pandas DataFrame 생성\n",
    "df = pd.DataFrame(rows)\n",
    "\n",
    "# 데이터가 없는 경우 NaN으로 변환\n",
    "df.replace({None: np.nan}, inplace=True)\n",
    "\n",
    "print(df)"
   ]
  },
  {
   "cell_type": "code",
   "execution_count": 26,
   "metadata": {},
   "outputs": [
    {
     "data": {
      "text/html": [
       "<div>\n",
       "<style scoped>\n",
       "    .dataframe tbody tr th:only-of-type {\n",
       "        vertical-align: middle;\n",
       "    }\n",
       "\n",
       "    .dataframe tbody tr th {\n",
       "        vertical-align: top;\n",
       "    }\n",
       "\n",
       "    .dataframe thead th {\n",
       "        text-align: right;\n",
       "    }\n",
       "</style>\n",
       "<table border=\"1\" class=\"dataframe\">\n",
       "  <thead>\n",
       "    <tr style=\"text-align: right;\">\n",
       "      <th></th>\n",
       "      <th>측정일시</th>\n",
       "      <th>측정소명</th>\n",
       "      <th>이산화질소</th>\n",
       "      <th>오존</th>\n",
       "      <th>일산화탄소</th>\n",
       "      <th>아황산</th>\n",
       "      <th>미세</th>\n",
       "      <th>초미세</th>\n",
       "    </tr>\n",
       "  </thead>\n",
       "  <tbody>\n",
       "    <tr>\n",
       "      <th>0</th>\n",
       "      <td>20121225</td>\n",
       "      <td>강남구</td>\n",
       "      <td>0.03</td>\n",
       "      <td>0.014</td>\n",
       "      <td>0.3</td>\n",
       "      <td>0.006</td>\n",
       "      <td>34</td>\n",
       "      <td>NaN</td>\n",
       "    </tr>\n",
       "  </tbody>\n",
       "</table>\n",
       "</div>"
      ],
      "text/plain": [
       "       측정일시 측정소명 이산화질소     오존 일산화탄소    아황산  미세  초미세\n",
       "0  20121225  강남구  0.03  0.014   0.3  0.006  34  NaN"
      ]
     },
     "execution_count": 26,
     "metadata": {},
     "output_type": "execute_result"
    }
   ],
   "source": [
    "df.head(2)"
   ]
  },
  {
   "cell_type": "code",
   "execution_count": 30,
   "metadata": {},
   "outputs": [],
   "source": [
    "# 구 이름 목록\n",
    "gu_names = [\n",
    "    \"강남구\", \"강남대로\", \"강동구\", \"강변북로\", \"강북구\", \"강서구\", \"공항대로\",\n",
    "    \"관악구\", \"광진구\", \"구로구\", \"금천구\", \"노원구\", \"도봉구\", \"도산대로\",\n",
    "    \"동대문구\", \"동작구\", \"동작대로\", \"마포구\", \"서대문구\", \"서초구\", \"성동구\",\n",
    "    \"성북구\", \"송파구\", \"신촌로\", \"양천구\", \"영등포구\", \"영등포로\", \"용산구\",\n",
    "    \"은평구\", \"정릉로\", \"종로\", \"종로구\", \"중구\", \"중랑구\", \"천호대로\",\n",
    "    \"청계천로\", \"한강대로\", \"홍릉로\", \"화랑로\"\n",
    "]\n"
   ]
  },
  {
   "cell_type": "code",
   "execution_count": 31,
   "metadata": {},
   "outputs": [
    {
     "data": {
      "text/plain": [
       "39"
      ]
     },
     "execution_count": 31,
     "metadata": {},
     "output_type": "execute_result"
    }
   ],
   "source": [
    "len(gu_names)"
   ]
  },
  {
   "cell_type": "code",
   "execution_count": 97,
   "metadata": {},
   "outputs": [],
   "source": [
    "\n",
    "# API 키\n",
    "with open('keys/api.txt') as file:\n",
    "    road_key = file.read()\n",
    "\n",
    "# 날짜 범위 설정\n",
    "start_date = datetime(2023, 12, 1)\n",
    "end_date = datetime(2023, 12, 8)\n",
    "# 모든 데이터를 저장할 빈 데이터프레임 생성\n",
    "\n",
    "\n",
    "for attempt in range(3):  # 최대 3번 재시도\n",
    "    all_data_df1 = pd.DataFrame()\n",
    "    try:\n",
    "\n",
    "        # 지정된 날짜 범위에 대해 반복\n",
    "        for single_date in (start_date + timedelta(n) for n in range((end_date - start_date).days + 1)):\n",
    "            date_str = single_date.strftime(\"%Y%m%d\")  # 날짜를 yyyymmdd 형태의 문자열로 변환\n",
    "            \n",
    "            # 각 구에 대한 API 요청을 보내고 결과를 처리합니다.\n",
    "            for gu_name in gu_names:\n",
    "                # API 요청 URL 생성\n",
    "                url = f\"http://openAPI.seoul.go.kr:8088/{road_key}/xml/DailyAverageAirQuality/1/5/{date_str}/{gu_name}\"\n",
    "                \n",
    "                # API 요청\n",
    "                result = requests.get(url, timeout=20)\n",
    "                \n",
    "                # API 요청 결과 처리\n",
    "                if result.status_code == 200:\n",
    "                    xml_data = result.text\n",
    "                    # XML 파싱\n",
    "                    root = ET.fromstring(xml_data)\n",
    "                    rows = []\n",
    "\n",
    "                    # 'row' 태그에 대한 모든 데이터 추출\n",
    "                    for row in root.findall('.//row'):\n",
    "                        # 각 데이터 필드의 값을 추출하고, 데이터가 없으면 None (Pandas에서 NaN으로 변환됨) 으로 설정\n",
    "                        rows.append({\n",
    "                            \"측정일시\": row.find('MSRDT_DE').text if row.find('MSRDT_DE') is not None else None,\n",
    "                            \"측정소명\": row.find('MSRSTE_NM').text if row.find('MSRSTE_NM') is not None else None,\n",
    "                            \"이산화질소\": row.find('NO2').text if row.find('NO2') is not None else None,\n",
    "                            \"오존\": row.find('O3').text if row.find('O3') is not None else None,\n",
    "                            \"일산화탄소\": row.find('CO').text if row.find('CO') is not None else None,\n",
    "                            \"아황산\": row.find('SO2').text if row.find('SO2') is not None else None,\n",
    "                            \"미세\": row.find('PM10').text if row.find('PM10') is not None else None,\n",
    "                            \"초미세\": row.find('PM25').text if row.find('PM25') is not None else None\n",
    "                        })\n",
    "\n",
    "                    # 추출된 데이터로부터 DataFrame 생성\n",
    "                    df = pd.DataFrame(rows)\n",
    "                    \n",
    "                    # 전체 데이터프레임에 추가\n",
    "                    all_data_df1 = pd.concat([all_data_df1, df], ignore_index=True)\n",
    "                else:\n",
    "                    # 요청 실패 시 오류 메시지 출력\n",
    "                    print(f\"에러: {gu_name} - {date_str} - 상태 코드: {result.status_code}\")\n",
    "    except requests.exceptions.RequestException:\n",
    "        time.sleep(5)  # 5초 대기 후 재시도\n",
    "\n",
    "# 데이터가 없는 경우 NaN으로 변환\n",
    "all_data_df1.replace({None: np.nan}, inplace=True)"
   ]
  },
  {
   "cell_type": "code",
   "execution_count": 98,
   "metadata": {},
   "outputs": [
    {
     "data": {
      "text/html": [
       "<div>\n",
       "<style scoped>\n",
       "    .dataframe tbody tr th:only-of-type {\n",
       "        vertical-align: middle;\n",
       "    }\n",
       "\n",
       "    .dataframe tbody tr th {\n",
       "        vertical-align: top;\n",
       "    }\n",
       "\n",
       "    .dataframe thead th {\n",
       "        text-align: right;\n",
       "    }\n",
       "</style>\n",
       "<table border=\"1\" class=\"dataframe\">\n",
       "  <thead>\n",
       "    <tr style=\"text-align: right;\">\n",
       "      <th></th>\n",
       "      <th>측정일시</th>\n",
       "      <th>측정소명</th>\n",
       "      <th>이산화질소</th>\n",
       "      <th>오존</th>\n",
       "      <th>일산화탄소</th>\n",
       "      <th>아황산</th>\n",
       "      <th>미세</th>\n",
       "      <th>초미세</th>\n",
       "    </tr>\n",
       "  </thead>\n",
       "  <tbody>\n",
       "    <tr>\n",
       "      <th>199</th>\n",
       "      <td>20231205</td>\n",
       "      <td>화랑로</td>\n",
       "      <td>0.0476</td>\n",
       "      <td>0.0038</td>\n",
       "      <td>0.69</td>\n",
       "      <td>0.0039</td>\n",
       "      <td>43</td>\n",
       "      <td>25</td>\n",
       "    </tr>\n",
       "  </tbody>\n",
       "</table>\n",
       "</div>"
      ],
      "text/plain": [
       "         측정일시 측정소명   이산화질소      오존 일산화탄소     아황산  미세 초미세\n",
       "199  20231205  화랑로  0.0476  0.0038  0.69  0.0039  43  25"
      ]
     },
     "execution_count": 98,
     "metadata": {},
     "output_type": "execute_result"
    }
   ],
   "source": [
    "all_data_df1.tail(1)"
   ]
  },
  {
   "cell_type": "code",
   "execution_count": 99,
   "metadata": {},
   "outputs": [],
   "source": [
    "all_data_df1.to_csv('data/12월.csv', index=False)"
   ]
  },
  {
   "cell_type": "code",
   "execution_count": null,
   "metadata": {},
   "outputs": [],
   "source": []
  }
 ],
 "metadata": {
  "kernelspec": {
   "display_name": "base",
   "language": "python",
   "name": "python3"
  },
  "language_info": {
   "codemirror_mode": {
    "name": "ipython",
    "version": 3
   },
   "file_extension": ".py",
   "mimetype": "text/x-python",
   "name": "python",
   "nbconvert_exporter": "python",
   "pygments_lexer": "ipython3",
   "version": "3.11.4"
  }
 },
 "nbformat": 4,
 "nbformat_minor": 2
}
