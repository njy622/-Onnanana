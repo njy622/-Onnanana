{
 "cells": [
  {
   "cell_type": "code",
<<<<<<< HEAD
   "execution_count": 1,
=======
   "execution_count": 5,
>>>>>>> 50eaee40db6a6e2bda5738aa9f82cee8c0ed2f85
   "metadata": {},
   "outputs": [],
   "source": [
    "import pandas as pd\n",
    "import warnings\n",
    "warnings.filterwarnings('ignore')"
   ]
  },
  {
   "cell_type": "code",
<<<<<<< HEAD
   "execution_count": 2,
=======
   "execution_count": 6,
>>>>>>> 50eaee40db6a6e2bda5738aa9f82cee8c0ed2f85
   "metadata": {},
   "outputs": [],
   "source": [
    "df = pd.read_csv('data/미래예측대기오염.csv')"
   ]
  },
  {
   "cell_type": "code",
<<<<<<< HEAD
   "execution_count": 3,
=======
   "execution_count": 7,
>>>>>>> 50eaee40db6a6e2bda5738aa9f82cee8c0ed2f85
   "metadata": {},
   "outputs": [
    {
     "data": {
      "text/html": [
       "<div>\n",
       "<style scoped>\n",
       "    .dataframe tbody tr th:only-of-type {\n",
       "        vertical-align: middle;\n",
       "    }\n",
       "\n",
       "    .dataframe tbody tr th {\n",
       "        vertical-align: top;\n",
       "    }\n",
       "\n",
       "    .dataframe thead th {\n",
       "        text-align: right;\n",
       "    }\n",
       "</style>\n",
       "<table border=\"1\" class=\"dataframe\">\n",
       "  <thead>\n",
       "    <tr style=\"text-align: right;\">\n",
       "      <th></th>\n",
       "      <th>측정일시</th>\n",
       "      <th>이산화질소</th>\n",
       "      <th>오존</th>\n",
       "      <th>일산화탄소</th>\n",
       "      <th>아황산</th>\n",
       "      <th>미세</th>\n",
       "      <th>초미세</th>\n",
       "    </tr>\n",
       "  </thead>\n",
       "  <tbody>\n",
       "    <tr>\n",
       "      <th>0</th>\n",
       "      <td>20120101</td>\n",
       "      <td>0.036</td>\n",
       "      <td>0.009</td>\n",
       "      <td>1.0</td>\n",
       "      <td>0.01</td>\n",
       "      <td>83.0</td>\n",
       "      <td>57.0</td>\n",
       "    </tr>\n",
       "  </tbody>\n",
       "</table>\n",
       "</div>"
      ],
      "text/plain": [
       "       측정일시  이산화질소     오존  일산화탄소   아황산    미세   초미세\n",
       "0  20120101  0.036  0.009    1.0  0.01  83.0  57.0"
      ]
     },
<<<<<<< HEAD
     "execution_count": 3,
=======
     "execution_count": 7,
>>>>>>> 50eaee40db6a6e2bda5738aa9f82cee8c0ed2f85
     "metadata": {},
     "output_type": "execute_result"
    }
   ],
   "source": [
    "df.head(1)"
   ]
  },
  {
   "cell_type": "code",
<<<<<<< HEAD
   "execution_count": 4,
=======
   "execution_count": 8,
>>>>>>> 50eaee40db6a6e2bda5738aa9f82cee8c0ed2f85
   "metadata": {},
   "outputs": [
    {
     "data": {
      "text/html": [
       "<div>\n",
       "<style scoped>\n",
       "    .dataframe tbody tr th:only-of-type {\n",
       "        vertical-align: middle;\n",
       "    }\n",
       "\n",
       "    .dataframe tbody tr th {\n",
       "        vertical-align: top;\n",
       "    }\n",
       "\n",
       "    .dataframe thead th {\n",
       "        text-align: right;\n",
       "    }\n",
       "</style>\n",
       "<table border=\"1\" class=\"dataframe\">\n",
       "  <thead>\n",
       "    <tr style=\"text-align: right;\">\n",
       "      <th></th>\n",
       "      <th>측정일시</th>\n",
       "      <th>이산화질소</th>\n",
       "      <th>오존</th>\n",
       "      <th>일산화탄소</th>\n",
       "      <th>아황산</th>\n",
       "      <th>미세</th>\n",
       "      <th>초미세</th>\n",
       "    </tr>\n",
       "  </thead>\n",
       "  <tbody>\n",
       "    <tr>\n",
       "      <th>4303</th>\n",
       "      <td>20231211</td>\n",
       "      <td>0.015</td>\n",
       "      <td>0.023</td>\n",
       "      <td>0.4</td>\n",
       "      <td>0.002</td>\n",
       "      <td>7.0</td>\n",
       "      <td>3.0</td>\n",
       "    </tr>\n",
       "  </tbody>\n",
       "</table>\n",
       "</div>"
      ],
      "text/plain": [
       "          측정일시  이산화질소     오존  일산화탄소    아황산   미세  초미세\n",
       "4303  20231211  0.015  0.023    0.4  0.002  7.0  3.0"
      ]
     },
<<<<<<< HEAD
     "execution_count": 4,
=======
     "execution_count": 8,
>>>>>>> 50eaee40db6a6e2bda5738aa9f82cee8c0ed2f85
     "metadata": {},
     "output_type": "execute_result"
    }
   ],
   "source": [
    "df.tail(1)"
   ]
  },
  {
   "cell_type": "code",
<<<<<<< HEAD
   "execution_count": 5,
=======
   "execution_count": 9,
>>>>>>> 50eaee40db6a6e2bda5738aa9f82cee8c0ed2f85
   "metadata": {},
   "outputs": [],
   "source": [
    "df['측정일시'] = pd.to_datetime(df['측정일시'], format='%Y%m%d')"
   ]
  },
  {
   "cell_type": "code",
<<<<<<< HEAD
   "execution_count": 6,
=======
   "execution_count": 10,
>>>>>>> 50eaee40db6a6e2bda5738aa9f82cee8c0ed2f85
   "metadata": {},
   "outputs": [
    {
     "data": {
      "text/html": [
       "<div>\n",
       "<style scoped>\n",
       "    .dataframe tbody tr th:only-of-type {\n",
       "        vertical-align: middle;\n",
       "    }\n",
       "\n",
       "    .dataframe tbody tr th {\n",
       "        vertical-align: top;\n",
       "    }\n",
       "\n",
       "    .dataframe thead th {\n",
       "        text-align: right;\n",
       "    }\n",
       "</style>\n",
       "<table border=\"1\" class=\"dataframe\">\n",
       "  <thead>\n",
       "    <tr style=\"text-align: right;\">\n",
       "      <th></th>\n",
       "      <th>측정일시</th>\n",
       "      <th>이산화질소</th>\n",
       "      <th>오존</th>\n",
       "      <th>일산화탄소</th>\n",
       "      <th>아황산</th>\n",
       "      <th>미세</th>\n",
       "      <th>초미세</th>\n",
       "    </tr>\n",
       "  </thead>\n",
       "  <tbody>\n",
       "    <tr>\n",
       "      <th>0</th>\n",
       "      <td>2012-01-01</td>\n",
       "      <td>0.036</td>\n",
       "      <td>0.009</td>\n",
       "      <td>1.0</td>\n",
       "      <td>0.01</td>\n",
       "      <td>83.0</td>\n",
       "      <td>57.0</td>\n",
       "    </tr>\n",
       "  </tbody>\n",
       "</table>\n",
       "</div>"
      ],
      "text/plain": [
       "        측정일시  이산화질소     오존  일산화탄소   아황산    미세   초미세\n",
       "0 2012-01-01  0.036  0.009    1.0  0.01  83.0  57.0"
      ]
     },
<<<<<<< HEAD
     "execution_count": 6,
=======
     "execution_count": 10,
>>>>>>> 50eaee40db6a6e2bda5738aa9f82cee8c0ed2f85
     "metadata": {},
     "output_type": "execute_result"
    }
   ],
   "source": [
    "df.head(1)"
   ]
  },
  {
   "cell_type": "code",
<<<<<<< HEAD
   "execution_count": 7,
=======
   "execution_count": 11,
>>>>>>> 50eaee40db6a6e2bda5738aa9f82cee8c0ed2f85
   "metadata": {},
   "outputs": [],
   "source": [
    "df = df.set_index('측정일시')"
   ]
  },
  {
   "cell_type": "code",
<<<<<<< HEAD
   "execution_count": 8,
=======
   "execution_count": 12,
>>>>>>> 50eaee40db6a6e2bda5738aa9f82cee8c0ed2f85
   "metadata": {},
   "outputs": [
    {
     "data": {
      "text/plain": [
       "DatetimeIndex(['2012-01-01', '2012-01-02', '2012-01-03', '2012-01-04',\n",
       "               '2012-01-05', '2012-01-06', '2012-01-07', '2012-01-08',\n",
       "               '2012-01-09', '2012-01-10',\n",
       "               ...\n",
       "               '2023-12-02', '2023-12-03', '2023-12-04', '2023-12-05',\n",
       "               '2023-12-06', '2023-12-07', '2023-12-08', '2023-12-09',\n",
       "               '2023-12-10', '2023-12-11'],\n",
       "              dtype='datetime64[ns]', name='측정일시', length=4304, freq=None)"
      ]
     },
<<<<<<< HEAD
     "execution_count": 8,
=======
     "execution_count": 12,
>>>>>>> 50eaee40db6a6e2bda5738aa9f82cee8c0ed2f85
     "metadata": {},
     "output_type": "execute_result"
    }
   ],
   "source": [
    "df.index"
   ]
  },
  {
   "cell_type": "code",
<<<<<<< HEAD
   "execution_count": 9,
=======
   "execution_count": 13,
>>>>>>> 50eaee40db6a6e2bda5738aa9f82cee8c0ed2f85
   "metadata": {},
   "outputs": [
    {
     "data": {
      "text/plain": [
       "이산화질소    0\n",
       "오존       0\n",
       "일산화탄소    0\n",
       "아황산      0\n",
       "미세       0\n",
       "초미세      0\n",
       "dtype: int64"
      ]
     },
<<<<<<< HEAD
     "execution_count": 9,
=======
     "execution_count": 13,
>>>>>>> 50eaee40db6a6e2bda5738aa9f82cee8c0ed2f85
     "metadata": {},
     "output_type": "execute_result"
    }
   ],
   "source": [
    "df.isna().sum()"
   ]
  },
  {
   "cell_type": "code",
<<<<<<< HEAD
   "execution_count": 10,
=======
   "execution_count": 14,
>>>>>>> 50eaee40db6a6e2bda5738aa9f82cee8c0ed2f85
   "metadata": {},
   "outputs": [
    {
     "data": {
      "text/html": [
       "<div>\n",
       "<style scoped>\n",
       "    .dataframe tbody tr th:only-of-type {\n",
       "        vertical-align: middle;\n",
       "    }\n",
       "\n",
       "    .dataframe tbody tr th {\n",
       "        vertical-align: top;\n",
       "    }\n",
       "\n",
       "    .dataframe thead th {\n",
       "        text-align: right;\n",
       "    }\n",
       "</style>\n",
       "<table border=\"1\" class=\"dataframe\">\n",
       "  <thead>\n",
       "    <tr style=\"text-align: right;\">\n",
       "      <th></th>\n",
       "      <th>이산화질소</th>\n",
       "      <th>오존</th>\n",
       "      <th>일산화탄소</th>\n",
       "      <th>아황산</th>\n",
       "      <th>미세</th>\n",
       "      <th>초미세</th>\n",
       "    </tr>\n",
       "    <tr>\n",
       "      <th>측정일시</th>\n",
       "      <th></th>\n",
       "      <th></th>\n",
       "      <th></th>\n",
       "      <th></th>\n",
       "      <th></th>\n",
       "      <th></th>\n",
       "    </tr>\n",
       "  </thead>\n",
       "  <tbody>\n",
       "    <tr>\n",
       "      <th>2012-01-01</th>\n",
       "      <td>0.036</td>\n",
       "      <td>0.009</td>\n",
       "      <td>1.0</td>\n",
       "      <td>0.010</td>\n",
       "      <td>83.0</td>\n",
       "      <td>57.0</td>\n",
       "    </tr>\n",
       "    <tr>\n",
       "      <th>2012-01-02</th>\n",
       "      <td>0.042</td>\n",
       "      <td>0.006</td>\n",
       "      <td>1.0</td>\n",
       "      <td>0.009</td>\n",
       "      <td>96.0</td>\n",
       "      <td>63.0</td>\n",
       "    </tr>\n",
       "    <tr>\n",
       "      <th>2012-01-03</th>\n",
       "      <td>0.046</td>\n",
       "      <td>0.007</td>\n",
       "      <td>1.0</td>\n",
       "      <td>0.008</td>\n",
       "      <td>93.0</td>\n",
       "      <td>63.0</td>\n",
       "    </tr>\n",
       "    <tr>\n",
       "      <th>2012-01-04</th>\n",
       "      <td>0.029</td>\n",
       "      <td>0.016</td>\n",
       "      <td>0.6</td>\n",
       "      <td>0.011</td>\n",
       "      <td>68.0</td>\n",
       "      <td>42.0</td>\n",
       "    </tr>\n",
       "    <tr>\n",
       "      <th>2012-01-05</th>\n",
       "      <td>0.044</td>\n",
       "      <td>0.009</td>\n",
       "      <td>0.7</td>\n",
       "      <td>0.007</td>\n",
       "      <td>52.0</td>\n",
       "      <td>29.0</td>\n",
       "    </tr>\n",
       "    <tr>\n",
       "      <th>...</th>\n",
       "      <td>...</td>\n",
       "      <td>...</td>\n",
       "      <td>...</td>\n",
       "      <td>...</td>\n",
       "      <td>...</td>\n",
       "      <td>...</td>\n",
       "    </tr>\n",
       "    <tr>\n",
       "      <th>2023-12-07</th>\n",
       "      <td>0.026</td>\n",
       "      <td>0.018</td>\n",
       "      <td>0.5</td>\n",
       "      <td>0.003</td>\n",
       "      <td>62.0</td>\n",
       "      <td>16.0</td>\n",
       "    </tr>\n",
       "    <tr>\n",
       "      <th>2023-12-08</th>\n",
       "      <td>0.029</td>\n",
       "      <td>0.030</td>\n",
       "      <td>0.6</td>\n",
       "      <td>0.003</td>\n",
       "      <td>84.0</td>\n",
       "      <td>23.0</td>\n",
       "    </tr>\n",
       "    <tr>\n",
       "      <th>2023-12-09</th>\n",
       "      <td>0.027</td>\n",
       "      <td>0.038</td>\n",
       "      <td>0.6</td>\n",
       "      <td>0.003</td>\n",
       "      <td>72.0</td>\n",
       "      <td>31.0</td>\n",
       "    </tr>\n",
       "    <tr>\n",
       "      <th>2023-12-10</th>\n",
       "      <td>0.025</td>\n",
       "      <td>0.021</td>\n",
       "      <td>0.7</td>\n",
       "      <td>0.003</td>\n",
       "      <td>80.0</td>\n",
       "      <td>36.0</td>\n",
       "    </tr>\n",
       "    <tr>\n",
       "      <th>2023-12-11</th>\n",
       "      <td>0.015</td>\n",
       "      <td>0.023</td>\n",
       "      <td>0.4</td>\n",
       "      <td>0.002</td>\n",
       "      <td>7.0</td>\n",
       "      <td>3.0</td>\n",
       "    </tr>\n",
       "  </tbody>\n",
       "</table>\n",
       "<p>4304 rows × 6 columns</p>\n",
       "</div>"
      ],
      "text/plain": [
       "            이산화질소     오존  일산화탄소    아황산    미세   초미세\n",
       "측정일시                                              \n",
       "2012-01-01  0.036  0.009    1.0  0.010  83.0  57.0\n",
       "2012-01-02  0.042  0.006    1.0  0.009  96.0  63.0\n",
       "2012-01-03  0.046  0.007    1.0  0.008  93.0  63.0\n",
       "2012-01-04  0.029  0.016    0.6  0.011  68.0  42.0\n",
       "2012-01-05  0.044  0.009    0.7  0.007  52.0  29.0\n",
       "...           ...    ...    ...    ...   ...   ...\n",
       "2023-12-07  0.026  0.018    0.5  0.003  62.0  16.0\n",
       "2023-12-08  0.029  0.030    0.6  0.003  84.0  23.0\n",
       "2023-12-09  0.027  0.038    0.6  0.003  72.0  31.0\n",
       "2023-12-10  0.025  0.021    0.7  0.003  80.0  36.0\n",
       "2023-12-11  0.015  0.023    0.4  0.002   7.0   3.0\n",
       "\n",
       "[4304 rows x 6 columns]"
      ]
     },
<<<<<<< HEAD
     "execution_count": 10,
=======
     "execution_count": 14,
>>>>>>> 50eaee40db6a6e2bda5738aa9f82cee8c0ed2f85
     "metadata": {},
     "output_type": "execute_result"
    }
   ],
   "source": [
    "df"
   ]
  },
  {
   "cell_type": "code",
   "execution_count": 15,
   "metadata": {},
   "outputs": [
    {
     "data": {
      "text/html": [
       "<div>\n",
       "<style scoped>\n",
       "    .dataframe tbody tr th:only-of-type {\n",
       "        vertical-align: middle;\n",
       "    }\n",
       "\n",
       "    .dataframe tbody tr th {\n",
       "        vertical-align: top;\n",
       "    }\n",
       "\n",
       "    .dataframe thead th {\n",
       "        text-align: right;\n",
       "    }\n",
       "</style>\n",
       "<table border=\"1\" class=\"dataframe\">\n",
       "  <thead>\n",
       "    <tr style=\"text-align: right;\">\n",
       "      <th></th>\n",
       "      <th>이산화질소</th>\n",
       "      <th>오존</th>\n",
       "      <th>일산화탄소</th>\n",
       "      <th>아황산</th>\n",
       "      <th>미세</th>\n",
       "      <th>초미세</th>\n",
       "    </tr>\n",
       "    <tr>\n",
       "      <th>측정일시</th>\n",
       "      <th></th>\n",
       "      <th></th>\n",
       "      <th></th>\n",
       "      <th></th>\n",
       "      <th></th>\n",
       "      <th></th>\n",
       "    </tr>\n",
       "  </thead>\n",
       "  <tbody>\n",
       "    <tr>\n",
       "      <th>2012-01-01</th>\n",
       "      <td>0.036</td>\n",
       "      <td>0.009</td>\n",
       "      <td>1.0</td>\n",
       "      <td>0.01</td>\n",
       "      <td>83.0</td>\n",
       "      <td>57.0</td>\n",
       "    </tr>\n",
       "  </tbody>\n",
       "</table>\n",
       "</div>"
      ],
      "text/plain": [
       "            이산화질소     오존  일산화탄소   아황산    미세   초미세\n",
       "측정일시                                             \n",
       "2012-01-01  0.036  0.009    1.0  0.01  83.0  57.0"
      ]
     },
     "execution_count": 15,
     "metadata": {},
     "output_type": "execute_result"
    }
   ],
   "source": [
    "df.head(1)"
   ]
  },
  {
   "cell_type": "code",
   "execution_count": 17,
   "metadata": {},
   "outputs": [
    {
     "data": {
      "text/plain": [
       "Index(['이산화질소', '오존', '일산화탄소', '아황산', '미세', '초미세'], dtype='object')"
      ]
     },
     "execution_count": 17,
     "metadata": {},
     "output_type": "execute_result"
    }
   ],
   "source": [
    "df.columns"
   ]
  },
  {
   "cell_type": "code",
   "execution_count": 53,
   "metadata": {},
   "outputs": [],
   "source": [
    "df_feature =  df[['이산화질소', '오존', '일산화탄소', '아황산', '초미세','미세']]"
   ]
  },
  {
   "cell_type": "code",
   "execution_count": 59,
   "metadata": {},
   "outputs": [
    {
     "data": {
      "text/html": [
       "<div>\n",
       "<style scoped>\n",
       "    .dataframe tbody tr th:only-of-type {\n",
       "        vertical-align: middle;\n",
       "    }\n",
       "\n",
       "    .dataframe tbody tr th {\n",
       "        vertical-align: top;\n",
       "    }\n",
       "\n",
       "    .dataframe thead th {\n",
       "        text-align: right;\n",
       "    }\n",
       "</style>\n",
       "<table border=\"1\" class=\"dataframe\">\n",
       "  <thead>\n",
       "    <tr style=\"text-align: right;\">\n",
       "      <th></th>\n",
       "      <th>이산화질소</th>\n",
       "      <th>오존</th>\n",
       "      <th>일산화탄소</th>\n",
       "      <th>아황산</th>\n",
       "      <th>초미세</th>\n",
       "      <th>미세</th>\n",
       "    </tr>\n",
       "    <tr>\n",
       "      <th>측정일시</th>\n",
       "      <th></th>\n",
       "      <th></th>\n",
       "      <th></th>\n",
       "      <th></th>\n",
       "      <th></th>\n",
       "      <th></th>\n",
       "    </tr>\n",
       "  </thead>\n",
       "  <tbody>\n",
       "    <tr>\n",
       "      <th>2012-01-01</th>\n",
       "      <td>0.036</td>\n",
       "      <td>0.009</td>\n",
       "      <td>1.0</td>\n",
       "      <td>0.010</td>\n",
       "      <td>57.0</td>\n",
       "      <td>83.0</td>\n",
       "    </tr>\n",
       "    <tr>\n",
       "      <th>2012-01-02</th>\n",
       "      <td>0.042</td>\n",
       "      <td>0.006</td>\n",
       "      <td>1.0</td>\n",
       "      <td>0.009</td>\n",
       "      <td>63.0</td>\n",
       "      <td>96.0</td>\n",
       "    </tr>\n",
       "    <tr>\n",
       "      <th>2012-01-03</th>\n",
       "      <td>0.046</td>\n",
       "      <td>0.007</td>\n",
       "      <td>1.0</td>\n",
       "      <td>0.008</td>\n",
       "      <td>63.0</td>\n",
       "      <td>93.0</td>\n",
       "    </tr>\n",
       "    <tr>\n",
       "      <th>2012-01-04</th>\n",
       "      <td>0.029</td>\n",
       "      <td>0.016</td>\n",
       "      <td>0.6</td>\n",
       "      <td>0.011</td>\n",
       "      <td>42.0</td>\n",
       "      <td>68.0</td>\n",
       "    </tr>\n",
       "    <tr>\n",
       "      <th>2012-01-05</th>\n",
       "      <td>0.044</td>\n",
       "      <td>0.009</td>\n",
       "      <td>0.7</td>\n",
       "      <td>0.007</td>\n",
       "      <td>29.0</td>\n",
       "      <td>52.0</td>\n",
       "    </tr>\n",
       "    <tr>\n",
       "      <th>...</th>\n",
       "      <td>...</td>\n",
       "      <td>...</td>\n",
       "      <td>...</td>\n",
       "      <td>...</td>\n",
       "      <td>...</td>\n",
       "      <td>...</td>\n",
       "    </tr>\n",
       "    <tr>\n",
       "      <th>2023-12-07</th>\n",
       "      <td>0.026</td>\n",
       "      <td>0.018</td>\n",
       "      <td>0.5</td>\n",
       "      <td>0.003</td>\n",
       "      <td>16.0</td>\n",
       "      <td>62.0</td>\n",
       "    </tr>\n",
       "    <tr>\n",
       "      <th>2023-12-08</th>\n",
       "      <td>0.029</td>\n",
       "      <td>0.030</td>\n",
       "      <td>0.6</td>\n",
       "      <td>0.003</td>\n",
       "      <td>23.0</td>\n",
       "      <td>84.0</td>\n",
       "    </tr>\n",
       "    <tr>\n",
       "      <th>2023-12-09</th>\n",
       "      <td>0.027</td>\n",
       "      <td>0.038</td>\n",
       "      <td>0.6</td>\n",
       "      <td>0.003</td>\n",
       "      <td>31.0</td>\n",
       "      <td>72.0</td>\n",
       "    </tr>\n",
       "    <tr>\n",
       "      <th>2023-12-10</th>\n",
       "      <td>0.025</td>\n",
       "      <td>0.021</td>\n",
       "      <td>0.7</td>\n",
       "      <td>0.003</td>\n",
       "      <td>36.0</td>\n",
       "      <td>80.0</td>\n",
       "    </tr>\n",
       "    <tr>\n",
       "      <th>2023-12-11</th>\n",
       "      <td>0.015</td>\n",
       "      <td>0.023</td>\n",
       "      <td>0.4</td>\n",
       "      <td>0.002</td>\n",
       "      <td>3.0</td>\n",
       "      <td>7.0</td>\n",
       "    </tr>\n",
       "  </tbody>\n",
       "</table>\n",
       "<p>4304 rows × 6 columns</p>\n",
       "</div>"
      ],
      "text/plain": [
       "            이산화질소     오존  일산화탄소    아황산   초미세    미세\n",
       "측정일시                                              \n",
       "2012-01-01  0.036  0.009    1.0  0.010  57.0  83.0\n",
       "2012-01-02  0.042  0.006    1.0  0.009  63.0  96.0\n",
       "2012-01-03  0.046  0.007    1.0  0.008  63.0  93.0\n",
       "2012-01-04  0.029  0.016    0.6  0.011  42.0  68.0\n",
       "2012-01-05  0.044  0.009    0.7  0.007  29.0  52.0\n",
       "...           ...    ...    ...    ...   ...   ...\n",
       "2023-12-07  0.026  0.018    0.5  0.003  16.0  62.0\n",
       "2023-12-08  0.029  0.030    0.6  0.003  23.0  84.0\n",
       "2023-12-09  0.027  0.038    0.6  0.003  31.0  72.0\n",
       "2023-12-10  0.025  0.021    0.7  0.003  36.0  80.0\n",
       "2023-12-11  0.015  0.023    0.4  0.002   3.0   7.0\n",
       "\n",
       "[4304 rows x 6 columns]"
      ]
     },
     "execution_count": 59,
     "metadata": {},
     "output_type": "execute_result"
    }
   ],
   "source": [
    "df_feature"
   ]
  },
  {
   "cell_type": "code",
   "execution_count": 54,
   "metadata": {},
   "outputs": [],
   "source": [
    "df_target =  df[['미세']]"
   ]
  },
  {
   "cell_type": "code",
   "execution_count": 20,
   "metadata": {},
   "outputs": [
    {
     "data": {
      "image/png": "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",
      "text/plain": [
       "<Figure size 1200x1000 with 2 Axes>"
      ]
     },
     "metadata": {},
     "output_type": "display_data"
    }
   ],
   "source": [
    "import pandas as pd\n",
    "import seaborn as sns\n",
    "import matplotlib.pyplot as plt\n",
    "plt.rcParams['font.family'] = 'Malgun Gothic'\n",
    "plt.rcParams['axes.unicode_minus'] = False\n",
    "\n",
    "# 전체 상관관계 행렬 계산\n",
    "full_corr_matrix = df.corr()\n",
    "\n",
    "# 시각화용 상관관계 행렬 생성 (시간 및 도시 컬럼 제외)\n",
    "visualization_columns = [col for col in df.columns if 'Year' not in col and 'Month' not in col and not col.startswith('SIDO')]\n",
    "vis_corr_matrix = df[visualization_columns].corr()\n",
    "\n",
    "# 상관 계수 행렬 시각화\n",
    "plt.figure(figsize=(12, 10))\n",
    "sns.heatmap(vis_corr_matrix, annot=True, fmt=\".2f\", cmap='coolwarm')\n",
    "plt.title('선택된 변수 간 상관 관계')\n",
    "plt.show()"
   ]
  },
  {
   "cell_type": "code",
   "execution_count": 21,
   "metadata": {},
   "outputs": [
    {
     "data": {
      "text/html": [
       "<div>\n",
       "<style scoped>\n",
       "    .dataframe tbody tr th:only-of-type {\n",
       "        vertical-align: middle;\n",
       "    }\n",
       "\n",
       "    .dataframe tbody tr th {\n",
       "        vertical-align: top;\n",
       "    }\n",
       "\n",
       "    .dataframe thead th {\n",
       "        text-align: right;\n",
       "    }\n",
       "</style>\n",
       "<table border=\"1\" class=\"dataframe\">\n",
       "  <thead>\n",
       "    <tr style=\"text-align: right;\">\n",
       "      <th></th>\n",
       "      <th>이산화질소</th>\n",
       "      <th>오존</th>\n",
       "      <th>일산화탄소</th>\n",
       "      <th>아황산</th>\n",
       "      <th>초미세</th>\n",
       "    </tr>\n",
       "    <tr>\n",
       "      <th>측정일시</th>\n",
       "      <th></th>\n",
       "      <th></th>\n",
       "      <th></th>\n",
       "      <th></th>\n",
       "      <th></th>\n",
       "    </tr>\n",
       "  </thead>\n",
       "  <tbody>\n",
       "    <tr>\n",
       "      <th>2012-01-01</th>\n",
       "      <td>0.036</td>\n",
       "      <td>0.009</td>\n",
       "      <td>1.0</td>\n",
       "      <td>0.01</td>\n",
       "      <td>57.0</td>\n",
       "    </tr>\n",
       "  </tbody>\n",
       "</table>\n",
       "</div>"
      ],
      "text/plain": [
       "            이산화질소     오존  일산화탄소   아황산   초미세\n",
       "측정일시                                       \n",
       "2012-01-01  0.036  0.009    1.0  0.01  57.0"
      ]
     },
     "execution_count": 21,
     "metadata": {},
     "output_type": "execute_result"
    }
   ],
   "source": [
    "df_feature.head(1)"
   ]
  },
  {
   "cell_type": "code",
   "execution_count": 22,
   "metadata": {},
   "outputs": [],
   "source": [
    "from sklearn.linear_model import LinearRegression\n",
    "from sklearn.model_selection import train_test_split"
   ]
  },
  {
   "cell_type": "code",
   "execution_count": 23,
   "metadata": {},
   "outputs": [
    {
     "data": {
      "text/plain": [
       "(Index(['이산화질소', '오존', '일산화탄소', '아황산', '초미세'], dtype='object'),\n",
       " Index(['미세'], dtype='object'))"
      ]
     },
     "execution_count": 23,
     "metadata": {},
     "output_type": "execute_result"
    }
   ],
   "source": [
    "df_feature.columns , df_target.columns"
   ]
  },
  {
   "cell_type": "code",
   "execution_count": 24,
   "metadata": {},
   "outputs": [],
   "source": [
    "from sklearn.model_selection import train_test_split\n",
    "X_train, X_test, y_train, y_test = train_test_split(\n",
    "    df_feature.values, df_target.values, test_size=0.2, random_state=2023\n",
    ")"
   ]
  },
  {
   "cell_type": "code",
   "execution_count": 25,
   "metadata": {},
   "outputs": [
    {
     "data": {
      "text/html": [
       "<style>#sk-container-id-1 {color: black;}#sk-container-id-1 pre{padding: 0;}#sk-container-id-1 div.sk-toggleable {background-color: white;}#sk-container-id-1 label.sk-toggleable__label {cursor: pointer;display: block;width: 100%;margin-bottom: 0;padding: 0.3em;box-sizing: border-box;text-align: center;}#sk-container-id-1 label.sk-toggleable__label-arrow:before {content: \"▸\";float: left;margin-right: 0.25em;color: #696969;}#sk-container-id-1 label.sk-toggleable__label-arrow:hover:before {color: black;}#sk-container-id-1 div.sk-estimator:hover label.sk-toggleable__label-arrow:before {color: black;}#sk-container-id-1 div.sk-toggleable__content {max-height: 0;max-width: 0;overflow: hidden;text-align: left;background-color: #f0f8ff;}#sk-container-id-1 div.sk-toggleable__content pre {margin: 0.2em;color: black;border-radius: 0.25em;background-color: #f0f8ff;}#sk-container-id-1 input.sk-toggleable__control:checked~div.sk-toggleable__content {max-height: 200px;max-width: 100%;overflow: auto;}#sk-container-id-1 input.sk-toggleable__control:checked~label.sk-toggleable__label-arrow:before {content: \"▾\";}#sk-container-id-1 div.sk-estimator input.sk-toggleable__control:checked~label.sk-toggleable__label {background-color: #d4ebff;}#sk-container-id-1 div.sk-label input.sk-toggleable__control:checked~label.sk-toggleable__label {background-color: #d4ebff;}#sk-container-id-1 input.sk-hidden--visually {border: 0;clip: rect(1px 1px 1px 1px);clip: rect(1px, 1px, 1px, 1px);height: 1px;margin: -1px;overflow: hidden;padding: 0;position: absolute;width: 1px;}#sk-container-id-1 div.sk-estimator {font-family: monospace;background-color: #f0f8ff;border: 1px dotted black;border-radius: 0.25em;box-sizing: border-box;margin-bottom: 0.5em;}#sk-container-id-1 div.sk-estimator:hover {background-color: #d4ebff;}#sk-container-id-1 div.sk-parallel-item::after {content: \"\";width: 100%;border-bottom: 1px solid gray;flex-grow: 1;}#sk-container-id-1 div.sk-label:hover label.sk-toggleable__label {background-color: #d4ebff;}#sk-container-id-1 div.sk-serial::before {content: \"\";position: absolute;border-left: 1px solid gray;box-sizing: border-box;top: 0;bottom: 0;left: 50%;z-index: 0;}#sk-container-id-1 div.sk-serial {display: flex;flex-direction: column;align-items: center;background-color: white;padding-right: 0.2em;padding-left: 0.2em;position: relative;}#sk-container-id-1 div.sk-item {position: relative;z-index: 1;}#sk-container-id-1 div.sk-parallel {display: flex;align-items: stretch;justify-content: center;background-color: white;position: relative;}#sk-container-id-1 div.sk-item::before, #sk-container-id-1 div.sk-parallel-item::before {content: \"\";position: absolute;border-left: 1px solid gray;box-sizing: border-box;top: 0;bottom: 0;left: 50%;z-index: -1;}#sk-container-id-1 div.sk-parallel-item {display: flex;flex-direction: column;z-index: 1;position: relative;background-color: white;}#sk-container-id-1 div.sk-parallel-item:first-child::after {align-self: flex-end;width: 50%;}#sk-container-id-1 div.sk-parallel-item:last-child::after {align-self: flex-start;width: 50%;}#sk-container-id-1 div.sk-parallel-item:only-child::after {width: 0;}#sk-container-id-1 div.sk-dashed-wrapped {border: 1px dashed gray;margin: 0 0.4em 0.5em 0.4em;box-sizing: border-box;padding-bottom: 0.4em;background-color: white;}#sk-container-id-1 div.sk-label label {font-family: monospace;font-weight: bold;display: inline-block;line-height: 1.2em;}#sk-container-id-1 div.sk-label-container {text-align: center;}#sk-container-id-1 div.sk-container {/* jupyter's `normalize.less` sets `[hidden] { display: none; }` but bootstrap.min.css set `[hidden] { display: none !important; }` so we also need the `!important` here to be able to override the default hidden behavior on the sphinx rendered scikit-learn.org. See: https://github.com/scikit-learn/scikit-learn/issues/21755 */display: inline-block !important;position: relative;}#sk-container-id-1 div.sk-text-repr-fallback {display: none;}</style><div id=\"sk-container-id-1\" class=\"sk-top-container\"><div class=\"sk-text-repr-fallback\"><pre>LinearRegression()</pre><b>In a Jupyter environment, please rerun this cell to show the HTML representation or trust the notebook. <br />On GitHub, the HTML representation is unable to render, please try loading this page with nbviewer.org.</b></div><div class=\"sk-container\" hidden><div class=\"sk-item\"><div class=\"sk-estimator sk-toggleable\"><input class=\"sk-toggleable__control sk-hidden--visually\" id=\"sk-estimator-id-1\" type=\"checkbox\" checked><label for=\"sk-estimator-id-1\" class=\"sk-toggleable__label sk-toggleable__label-arrow\">LinearRegression</label><div class=\"sk-toggleable__content\"><pre>LinearRegression()</pre></div></div></div></div></div>"
      ],
      "text/plain": [
       "LinearRegression()"
      ]
     },
     "execution_count": 25,
     "metadata": {},
     "output_type": "execute_result"
    }
   ],
   "source": [
    "lr = LinearRegression()\n",
    "lr.fit(X_train, y_train)"
   ]
  },
  {
   "cell_type": "code",
   "execution_count": 26,
   "metadata": {},
   "outputs": [
    {
     "data": {
      "text/plain": [
       "0.7083134355838865"
      ]
     },
     "execution_count": 26,
     "metadata": {},
     "output_type": "execute_result"
    }
   ],
   "source": [
    "# 결정계수(R Squared)\n",
    "lr.score(X_test, y_test)"
   ]
  },
  {
   "cell_type": "code",
   "execution_count": 27,
   "metadata": {},
   "outputs": [],
   "source": [
    "\n",
    "from sklearn.svm import SVR\n",
    "from sklearn.metrics import r2_score, mean_squared_error"
   ]
  },
  {
   "cell_type": "code",
   "execution_count": 28,
   "metadata": {},
   "outputs": [
    {
     "data": {
      "text/plain": [
       "0.6184061442262387"
      ]
     },
     "execution_count": 28,
     "metadata": {},
     "output_type": "execute_result"
    }
   ],
   "source": [
    "svr = SVR()\n",
    "svr.fit(X_train, y_train)\n",
    "y_hat_sv = svr.predict(X_test)\n",
    "r2_sv = r2_score(y_test, y_hat_sv)\n",
    "mse_sv = mean_squared_error(y_test, y_hat_sv)\n",
    "r2_sv"
   ]
  },
  {
   "cell_type": "code",
   "execution_count": 29,
   "metadata": {},
   "outputs": [
    {
     "data": {
      "text/plain": [
       "0.6644971966892542"
      ]
     },
     "execution_count": 29,
     "metadata": {},
     "output_type": "execute_result"
    }
   ],
   "source": [
    "from sklearn.ensemble import RandomForestRegressor\n",
    "rfr = RandomForestRegressor(random_state=2023)\n",
    "rfr.fit(X_train, y_train)\n",
    "y_hat_rf = rfr.predict(X_test)\n",
    "r2_rf = r2_score(y_test, y_hat_rf)\n",
    "mse_rf = mean_squared_error(y_test, y_hat_rf)\n",
    "r2_rf"
   ]
  },
  {
   "cell_type": "code",
   "execution_count": 31,
   "metadata": {},
   "outputs": [
    {
     "data": {
      "text/plain": [
       "0.6644971966892542"
      ]
     },
     "execution_count": 31,
     "metadata": {},
     "output_type": "execute_result"
    }
   ],
   "source": [
    "rfr = RandomForestRegressor(random_state=2023)\n",
    "rfr.fit(X_train, y_train)\n",
    "y_hat_rf = rfr.predict(X_test)\n",
    "r2_rf = r2_score(y_test, y_hat_rf)\n",
    "mse_rf = mean_squared_error(y_test, y_hat_rf)\n",
    "r2_rf"
   ]
  },
  {
   "cell_type": "code",
   "execution_count": 32,
   "metadata": {},
   "outputs": [
    {
     "data": {
      "text/plain": [
       "{'bootstrap': True,\n",
       " 'ccp_alpha': 0.0,\n",
       " 'criterion': 'squared_error',\n",
       " 'max_depth': None,\n",
       " 'max_features': 1.0,\n",
       " 'max_leaf_nodes': None,\n",
       " 'max_samples': None,\n",
       " 'min_impurity_decrease': 0.0,\n",
       " 'min_samples_leaf': 1,\n",
       " 'min_samples_split': 2,\n",
       " 'min_weight_fraction_leaf': 0.0,\n",
       " 'n_estimators': 100,\n",
       " 'n_jobs': None,\n",
       " 'oob_score': False,\n",
       " 'random_state': 2023,\n",
       " 'verbose': 0,\n",
       " 'warm_start': False}"
      ]
     },
     "execution_count": 32,
     "metadata": {},
     "output_type": "execute_result"
    }
   ],
   "source": [
    "rfr.get_params()"
   ]
  },
  {
   "cell_type": "code",
   "execution_count": 33,
   "metadata": {},
   "outputs": [
    {
     "data": {
      "text/plain": [
       "({'max_depth': 1, 'min_samples_leaf': 1, 'min_samples_split': 2},\n",
       " 0.4415729267193408)"
      ]
     },
     "execution_count": 33,
     "metadata": {},
     "output_type": "execute_result"
    }
   ],
   "source": [
    "from sklearn.model_selection import GridSearchCV\n",
    "params = { 'max_depth' : [1, 3, 5, 7], \n",
    "    'min_samples_leaf' : [1, 3, 5, 7],\n",
    "    'min_samples_split' : [2, 3, 5, 7] }\n",
    "grid_rfr = GridSearchCV(rfr, params, scoring='accuracy', cv=5)\n",
    "grid_rfr.fit(X_train, y_train)\n",
    "grid_rfr.best_params_ , grid_rfr.best_estimator_.score(X_test, y_test)"
   ]
  },
  {
   "cell_type": "code",
   "execution_count": 34,
   "metadata": {},
   "outputs": [
    {
     "data": {
      "text/plain": [
       "({'n_estimators': 100}, 0.6644971966892542)"
      ]
     },
     "execution_count": 34,
     "metadata": {},
     "output_type": "execute_result"
    }
   ],
   "source": [
    "from sklearn.model_selection import GridSearchCV\n",
    "params = {'n_estimators': [100,300,600]}\n",
    "grid_rfr = GridSearchCV(rfr, params, scoring='accuracy', cv=5)\n",
    "grid_rfr.fit(X_train, y_train)\n",
    "grid_rfr.best_params_ , grid_rfr.best_estimator_.score(X_test, y_test)"
   ]
  },
  {
   "cell_type": "code",
   "execution_count": 35,
   "metadata": {},
   "outputs": [
    {
     "data": {
      "text/plain": [
       "0.6644971966892542"
      ]
     },
     "execution_count": 35,
     "metadata": {},
     "output_type": "execute_result"
    }
   ],
   "source": [
    "grid_rfr.best_estimator_.score(X_test, y_test)"
   ]
  },
  {
   "cell_type": "code",
   "execution_count": null,
   "metadata": {},
   "outputs": [
    {
     "data": {
      "text/plain": [
       "{'max_depth': 3}"
      ]
     },
     "execution_count": 30,
     "metadata": {},
     "output_type": "execute_result"
    }
   ],
   "source": [
    "from sklearn.model_selection import GridSearchCV\n",
    "params = {'max_depth': [3, 6, 9,12]}\n",
    "grid_rfr = GridSearchCV(rfr, params, scoring='accuracy', cv=5)\n",
    "grid_rfr.fit(X_train, y_train)\n",
    "grid_rfr.best_params_"
   ]
  },
  {
   "cell_type": "code",
   "execution_count": null,
   "metadata": {},
   "outputs": [
    {
     "data": {
      "text/plain": [
       "0.4127685028829484"
      ]
     },
     "execution_count": 31,
     "metadata": {},
     "output_type": "execute_result"
    }
   ],
   "source": [
    "grid_rfr.best_estimator_.score(X_test, y_test)"
   ]
  },
  {
   "cell_type": "code",
   "execution_count": null,
   "metadata": {},
   "outputs": [
    {
     "data": {
      "text/plain": [
       "{'max_depth': 2}"
      ]
     },
     "execution_count": 32,
     "metadata": {},
     "output_type": "execute_result"
    }
   ],
   "source": [
    "params = {'max_depth': [2,3,4,5]}\n",
    "grid_rfr = GridSearchCV(rfr, params, scoring='accuracy', cv=5)\n",
    "grid_rfr.fit(X_train, y_train)\n",
    "grid_rfr.best_params_"
   ]
  },
  {
   "cell_type": "code",
   "execution_count": null,
   "metadata": {},
   "outputs": [
    {
     "data": {
      "text/plain": [
       "0.33250224999052924"
      ]
     },
     "execution_count": 33,
     "metadata": {},
     "output_type": "execute_result"
    }
   ],
   "source": [
    "grid_rfr.best_estimator_.score(X_test, y_test)"
   ]
  },
  {
   "cell_type": "code",
   "execution_count": null,
   "metadata": {},
   "outputs": [
    {
     "data": {
      "text/plain": [
       "{'max_depth': 1}"
      ]
     },
     "execution_count": 34,
     "metadata": {},
     "output_type": "execute_result"
    }
   ],
   "source": [
    "params = {'max_depth': [1,1.5,2]}\n",
    "grid_rfr = GridSearchCV(rfr, params, scoring='accuracy', cv=5)\n",
    "grid_rfr.fit(X_train, y_train)\n",
    "grid_rfr.best_params_"
   ]
  },
  {
   "cell_type": "code",
   "execution_count": null,
   "metadata": {},
   "outputs": [
    {
     "data": {
      "text/plain": [
       "0.2489949618126286"
      ]
     },
     "execution_count": 35,
     "metadata": {},
     "output_type": "execute_result"
    }
   ],
   "source": [
    "grid_rfr.best_estimator_.score(X_test, y_test)"
   ]
  },
  {
   "cell_type": "code",
   "execution_count": 36,
   "metadata": {},
   "outputs": [
    {
     "data": {
      "text/plain": [
       "0.6609139882424788"
      ]
     },
     "execution_count": 36,
     "metadata": {},
     "output_type": "execute_result"
    }
   ],
   "source": [
    "from xgboost import XGBRegressor\n",
    "xgbr = XGBRegressor()\n",
    "xgbr.fit(X_train, y_train)\n",
    "y_hat_xgb = xgbr.predict(X_test)\n",
    "r2_xgb = r2_score(y_test, y_hat_xgb)\n",
    "mse_xgb = mean_squared_error(y_test, y_hat_xgb)\n",
    "r2_xgb"
   ]
  },
  {
   "cell_type": "code",
<<<<<<< HEAD
   "execution_count": 13,
   "metadata": {},
   "outputs": [
    {
     "name": "stdout",
     "output_type": "stream",
     "text": [
      "WARNING:tensorflow:From c:\\Users\\th\\anaconda3\\Lib\\site-packages\\keras\\src\\losses.py:2976: The name tf.losses.sparse_softmax_cross_entropy is deprecated. Please use tf.compat.v1.losses.sparse_softmax_cross_entropy instead.\n",
      "\n"
     ]
    }
   ],
=======
   "execution_count": 37,
   "metadata": {},
   "outputs": [],
>>>>>>> 50eaee40db6a6e2bda5738aa9f82cee8c0ed2f85
   "source": [
    "import numpy as np\n",
    "import pandas as pd\n",
    "from sklearn.preprocessing import MinMaxScaler\n",
    "from tensorflow.keras.models import Sequential\n",
    "from tensorflow.keras.layers import LSTM, Dense\n",
    "from tensorflow.keras.optimizers import Adam\n",
    "from sklearn.preprocessing import StandardScaler\n",
    "import matplotlib.pyplot as plt\n"
   ]
  },
  {
   "cell_type": "code",
   "execution_count": 62,
   "metadata": {},
   "outputs": [
    {
     "name": "stdout",
     "output_type": "stream",
     "text": [
      "Epoch 1/30\n",
      "108/108 [==============================] - 8s 43ms/step - loss: 0.0188 - val_loss: 0.0143\n",
      "Epoch 2/30\n",
      "108/108 [==============================] - 4s 35ms/step - loss: 0.0105 - val_loss: 0.0162\n",
      "Epoch 3/30\n",
      "108/108 [==============================] - 4s 35ms/step - loss: 0.0094 - val_loss: 0.0116\n",
      "Epoch 4/30\n",
      "108/108 [==============================] - 4s 34ms/step - loss: 0.0088 - val_loss: 0.0153\n",
      "Epoch 5/30\n",
      "108/108 [==============================] - 4s 34ms/step - loss: 0.0091 - val_loss: 0.0115\n",
      "Epoch 6/30\n",
      "108/108 [==============================] - 4s 34ms/step - loss: 0.0086 - val_loss: 0.0115\n",
      "Epoch 7/30\n",
      "108/108 [==============================] - 4s 38ms/step - loss: 0.0085 - val_loss: 0.0111\n",
      "Epoch 8/30\n",
      "108/108 [==============================] - 4s 36ms/step - loss: 0.0087 - val_loss: 0.0110\n",
      "Epoch 9/30\n",
      "108/108 [==============================] - 4s 35ms/step - loss: 0.0087 - val_loss: 0.0139\n",
      "Epoch 10/30\n",
      "108/108 [==============================] - 4s 35ms/step - loss: 0.0086 - val_loss: 0.0112\n",
      "Epoch 11/30\n",
      "108/108 [==============================] - 4s 35ms/step - loss: 0.0087 - val_loss: 0.0111\n",
      "Epoch 12/30\n",
      "108/108 [==============================] - 4s 34ms/step - loss: 0.0087 - val_loss: 0.0135\n",
      "Epoch 13/30\n",
      "108/108 [==============================] - 4s 35ms/step - loss: 0.0089 - val_loss: 0.0115\n",
      "Epoch 14/30\n",
      "108/108 [==============================] - 4s 35ms/step - loss: 0.0085 - val_loss: 0.0110\n",
      "Epoch 15/30\n",
      "108/108 [==============================] - 4s 35ms/step - loss: 0.0087 - val_loss: 0.0119\n",
      "Epoch 16/30\n",
      "108/108 [==============================] - 4s 36ms/step - loss: 0.0085 - val_loss: 0.0114\n",
      "Epoch 17/30\n",
      "108/108 [==============================] - 4s 36ms/step - loss: 0.0084 - val_loss: 0.0132\n",
      "Epoch 18/30\n",
      "108/108 [==============================] - 4s 35ms/step - loss: 0.0084 - val_loss: 0.0117\n",
      "Epoch 19/30\n",
      "108/108 [==============================] - 4s 35ms/step - loss: 0.0084 - val_loss: 0.0129\n",
      "Epoch 20/30\n",
      "108/108 [==============================] - 4s 35ms/step - loss: 0.0084 - val_loss: 0.0118\n",
      "Epoch 21/30\n",
      "108/108 [==============================] - 4s 35ms/step - loss: 0.0082 - val_loss: 0.0114\n",
      "Epoch 22/30\n",
      "108/108 [==============================] - 4s 36ms/step - loss: 0.0084 - val_loss: 0.0117\n",
      "Epoch 23/30\n",
      "108/108 [==============================] - 4s 35ms/step - loss: 0.0083 - val_loss: 0.0115\n",
      "Epoch 24/30\n",
      "108/108 [==============================] - 4s 34ms/step - loss: 0.0082 - val_loss: 0.0118\n",
      "Epoch 25/30\n",
      "108/108 [==============================] - 4s 34ms/step - loss: 0.0084 - val_loss: 0.0119\n",
      "Epoch 26/30\n",
      "108/108 [==============================] - 4s 34ms/step - loss: 0.0081 - val_loss: 0.0120\n",
      "Epoch 27/30\n",
      "108/108 [==============================] - 4s 34ms/step - loss: 0.0082 - val_loss: 0.0134\n",
      "Epoch 28/30\n",
      "108/108 [==============================] - 4s 34ms/step - loss: 0.0083 - val_loss: 0.0116\n",
      "Epoch 29/30\n",
      "108/108 [==============================] - 4s 34ms/step - loss: 0.0082 - val_loss: 0.0121\n",
      "Epoch 30/30\n",
      "108/108 [==============================] - 4s 34ms/step - loss: 0.0085 - val_loss: 0.0119\n",
      "12/12 [==============================] - 1s 12ms/step\n"
     ]
    }
   ],
   "source": [
    "\n",
    "\n",
    "# 데이터셋 준비 (이미 원-핫 인코딩 및 NaN 처리 완료)\n",
    "data = df.values\n",
    "\n",
    "# 데이터 정규화\n",
    "scaler = MinMaxScaler()\n",
    "data_scaled = scaler.fit_transform(data)\n",
    "\n",
    "# 데이터셋 분할\n",
    "n_train = int(0.9 * len(data_scaled))\n",
    "train_data = data_scaled[:n_train]\n",
    "test_data = data_scaled[n_train:]\n",
    "train_dates = df.index[:n_train]\n",
    "test_dates = df.index[n_train:]\n",
    "\n",
    "# 데이터셋 재구성\n",
    "seq_len = 60  # 수치구성방법 총 데이터의수 20%가 최대치 (수치를 조정해서 모델 적중률 조정)\n",
    "input_dim = train_data.shape[1]  # 입력 차원 (원-핫 인코딩된 열의 수)\n",
    "\n",
    "trainX, trainY = [], []\n",
    "testX, testY = [], []\n",
    "\n",
    "for i in range(seq_len, len(train_data)):\n",
    "    trainX.append(train_data[i-seq_len:i, :])\n",
    "    trainY.append(train_data[i, 1])  # 첫 번째 열이 타겟 변수라고 가정\n",
    "\n",
    "for i in range(seq_len, len(test_data)):\n",
    "    testX.append(test_data[i-seq_len:i, :])\n",
    "    testY.append(test_data[i, 1])\n",
    "\n",
    "trainX, trainY = np.array(trainX), np.array(trainY)\n",
    "testX, testY = np.array(testX), np.array(testY)\n",
    "\n",
    "# LSTM 모델 구성\n",
    "model = Sequential()\n",
    "model.add(LSTM(64, input_shape=(seq_len, input_dim), return_sequences=True))\n",
    "model.add(LSTM(32, return_sequences=False))\n",
    "model.add(Dense(1))  # 하나의 출력 뉴런\n",
    "\n",
    "# 모델 컴파일 및 학습\n",
    "model.compile(optimizer=Adam(learning_rate=0.01), loss='mse')\n",
    "model.fit(trainX, trainY, epochs=30, batch_size=32, validation_split=0.1, verbose=1)\n",
    "\n",
    "# 예측 및 역변환\n",
    "prediction = model.predict(testX)\n",
    "prediction_transformed = scaler.inverse_transform(np.concatenate((prediction, np.zeros((prediction.shape[0], data_scaled.shape[1]-1))), axis=1))[:,0]\n",
    "\n",
    "testY_transformed = scaler.inverse_transform(np.concatenate((testY.reshape(-1,1), np.zeros((testY.shape[0], data_scaled.shape[1]-1))), axis=1))[:,0]\n",
    "\n",
    "\n"
   ]
  },
  {
   "cell_type": "code",
   "execution_count": 63,
   "metadata": {},
   "outputs": [
    {
     "name": "stdout",
     "output_type": "stream",
     "text": [
      "R-squared (Coefficient of Determination): 0.6271477367231644\n",
      "Mean Squared Error: 6.467273702060166e-05\n",
      "Mean Absolute Error: 0.006250622819786694\n"
     ]
    }
   ],
   "source": [
    "from sklearn.metrics import r2_score\n",
    "from sklearn.metrics import mean_squared_error, mean_absolute_error\n",
    "\n",
    "# R² 값 계산\n",
    "r_squared = r2_score(testY_transformed, prediction_transformed)\n",
    "# MSE 및 MAE 계산\n",
    "mse = mean_squared_error(testY_transformed, prediction_transformed)\n",
    "mae = mean_absolute_error(testY_transformed, prediction_transformed)\n",
    "\n",
    "\n",
    "print(\"R-squared (Coefficient of Determination):\", r_squared)\n",
    "print(\"Mean Squared Error:\", mse)\n",
    "print(\"Mean Absolute Error:\", mae)"
   ]
  },
  {
   "cell_type": "code",
   "execution_count": 89,
   "metadata": {},
   "outputs": [
    {
     "name": "stdout",
     "output_type": "stream",
     "text": [
      "Epoch 1/60\n",
      "54/54 [==============================] - 10s 124ms/step - loss: 0.0250 - val_loss: 0.0125\n",
      "Epoch 2/60\n",
      "54/54 [==============================] - 5s 97ms/step - loss: 0.0185 - val_loss: 0.0125\n",
      "Epoch 3/60\n",
      "54/54 [==============================] - 5s 101ms/step - loss: 0.0180 - val_loss: 0.0113\n",
      "Epoch 4/60\n",
      "54/54 [==============================] - 5s 98ms/step - loss: 0.0178 - val_loss: 0.0118\n",
      "Epoch 5/60\n",
      "54/54 [==============================] - 6s 104ms/step - loss: 0.0179 - val_loss: 0.0112\n",
      "Epoch 6/60\n",
      "54/54 [==============================] - 6s 105ms/step - loss: 0.0177 - val_loss: 0.0110\n",
      "Epoch 7/60\n",
      "54/54 [==============================] - 6s 102ms/step - loss: 0.0166 - val_loss: 0.0109\n",
      "Epoch 8/60\n",
      "54/54 [==============================] - 6s 103ms/step - loss: 0.0163 - val_loss: 0.0108\n",
      "Epoch 9/60\n",
      "54/54 [==============================] - 6s 103ms/step - loss: 0.0146 - val_loss: 0.0092\n",
      "Epoch 10/60\n",
      "54/54 [==============================] - 6s 110ms/step - loss: 0.0142 - val_loss: 0.0102\n",
      "Epoch 11/60\n",
      "54/54 [==============================] - 5s 100ms/step - loss: 0.0142 - val_loss: 0.0092\n",
      "Epoch 12/60\n",
      "54/54 [==============================] - 5s 101ms/step - loss: 0.0139 - val_loss: 0.0106\n",
      "Epoch 13/60\n",
      "54/54 [==============================] - 5s 100ms/step - loss: 0.0136 - val_loss: 0.0092\n",
      "Epoch 14/60\n",
      "54/54 [==============================] - 6s 102ms/step - loss: 0.0135 - val_loss: 0.0096\n",
      "Epoch 15/60\n",
      "54/54 [==============================] - 6s 105ms/step - loss: 0.0134 - val_loss: 0.0087\n",
      "Epoch 16/60\n",
      "54/54 [==============================] - 5s 101ms/step - loss: 0.0134 - val_loss: 0.0087\n",
      "Epoch 17/60\n",
      "54/54 [==============================] - 6s 106ms/step - loss: 0.0135 - val_loss: 0.0098\n",
      "Epoch 18/60\n",
      "54/54 [==============================] - 6s 106ms/step - loss: 0.0134 - val_loss: 0.0102\n",
      "Epoch 19/60\n",
      "54/54 [==============================] - 6s 103ms/step - loss: 0.0132 - val_loss: 0.0094\n",
      "Epoch 20/60\n",
      "54/54 [==============================] - 6s 104ms/step - loss: 0.0130 - val_loss: 0.0086\n",
      "Epoch 21/60\n",
      "54/54 [==============================] - 5s 101ms/step - loss: 0.0132 - val_loss: 0.0099\n",
      "Epoch 22/60\n",
      "54/54 [==============================] - 5s 101ms/step - loss: 0.0134 - val_loss: 0.0087\n",
      "Epoch 23/60\n",
      "54/54 [==============================] - 5s 100ms/step - loss: 0.0130 - val_loss: 0.0094\n",
      "Epoch 24/60\n",
      "54/54 [==============================] - 5s 100ms/step - loss: 0.0132 - val_loss: 0.0093\n",
      "Epoch 25/60\n",
      "54/54 [==============================] - 5s 99ms/step - loss: 0.0130 - val_loss: 0.0088\n",
      "Epoch 26/60\n",
      "54/54 [==============================] - 5s 98ms/step - loss: 0.0130 - val_loss: 0.0092\n",
      "Epoch 27/60\n",
      "54/54 [==============================] - 5s 102ms/step - loss: 0.0129 - val_loss: 0.0089\n",
      "Epoch 28/60\n",
      "54/54 [==============================] - 6s 102ms/step - loss: 0.0128 - val_loss: 0.0090\n",
      "Epoch 29/60\n",
      "54/54 [==============================] - 6s 105ms/step - loss: 0.0131 - val_loss: 0.0089\n",
      "Epoch 30/60\n",
      "54/54 [==============================] - 5s 102ms/step - loss: 0.0128 - val_loss: 0.0089\n",
      "Epoch 31/60\n",
      "54/54 [==============================] - 5s 101ms/step - loss: 0.0129 - val_loss: 0.0092\n",
      "Epoch 32/60\n",
      "54/54 [==============================] - 5s 97ms/step - loss: 0.0131 - val_loss: 0.0089\n",
      "Epoch 33/60\n",
      "54/54 [==============================] - 6s 105ms/step - loss: 0.0128 - val_loss: 0.0089\n",
      "Epoch 34/60\n",
      "54/54 [==============================] - 6s 108ms/step - loss: 0.0129 - val_loss: 0.0091\n",
      "Epoch 35/60\n",
      "54/54 [==============================] - 5s 99ms/step - loss: 0.0127 - val_loss: 0.0089\n",
      "Epoch 36/60\n",
      "54/54 [==============================] - 5s 97ms/step - loss: 0.0127 - val_loss: 0.0086\n",
      "Epoch 37/60\n",
      "54/54 [==============================] - 6s 102ms/step - loss: 0.0129 - val_loss: 0.0090\n",
      "Epoch 38/60\n",
      "54/54 [==============================] - 6s 102ms/step - loss: 0.0128 - val_loss: 0.0094\n",
      "Epoch 39/60\n",
      "54/54 [==============================] - 6s 103ms/step - loss: 0.0128 - val_loss: 0.0088\n",
      "Epoch 40/60\n",
      "54/54 [==============================] - 6s 103ms/step - loss: 0.0128 - val_loss: 0.0091\n",
      "Epoch 41/60\n",
      "54/54 [==============================] - 5s 99ms/step - loss: 0.0129 - val_loss: 0.0110\n",
      "Epoch 42/60\n",
      "54/54 [==============================] - 6s 103ms/step - loss: 0.0128 - val_loss: 0.0095\n",
      "Epoch 43/60\n",
      "54/54 [==============================] - 6s 108ms/step - loss: 0.0127 - val_loss: 0.0089\n",
      "Epoch 44/60\n",
      "54/54 [==============================] - 5s 101ms/step - loss: 0.0127 - val_loss: 0.0091\n",
      "Epoch 45/60\n",
      "54/54 [==============================] - 5s 101ms/step - loss: 0.0127 - val_loss: 0.0094\n",
      "Epoch 46/60\n",
      "54/54 [==============================] - 5s 100ms/step - loss: 0.0127 - val_loss: 0.0091\n",
      "Epoch 47/60\n",
      "54/54 [==============================] - 5s 100ms/step - loss: 0.0126 - val_loss: 0.0089\n",
      "Epoch 48/60\n",
      "54/54 [==============================] - 5s 100ms/step - loss: 0.0126 - val_loss: 0.0089\n",
      "Epoch 49/60\n",
      "54/54 [==============================] - 5s 102ms/step - loss: 0.0125 - val_loss: 0.0091\n",
      "Epoch 50/60\n",
      "54/54 [==============================] - 5s 102ms/step - loss: 0.0125 - val_loss: 0.0093\n",
      "Epoch 51/60\n",
      "54/54 [==============================] - 5s 102ms/step - loss: 0.0128 - val_loss: 0.0092\n",
      "Epoch 52/60\n",
      "54/54 [==============================] - 6s 102ms/step - loss: 0.0126 - val_loss: 0.0091\n",
      "Epoch 53/60\n",
      "54/54 [==============================] - 6s 104ms/step - loss: 0.0125 - val_loss: 0.0087\n",
      "Epoch 54/60\n",
      "54/54 [==============================] - 6s 105ms/step - loss: 0.0126 - val_loss: 0.0089\n",
      "Epoch 55/60\n",
      "54/54 [==============================] - 6s 103ms/step - loss: 0.0125 - val_loss: 0.0090\n",
      "Epoch 56/60\n",
      "54/54 [==============================] - 6s 103ms/step - loss: 0.0125 - val_loss: 0.0096\n",
      "Epoch 57/60\n",
      "54/54 [==============================] - 6s 103ms/step - loss: 0.0126 - val_loss: 0.0103\n",
      "Epoch 58/60\n",
      "54/54 [==============================] - 6s 105ms/step - loss: 0.0126 - val_loss: 0.0101\n",
      "Epoch 59/60\n",
      "54/54 [==============================] - 5s 101ms/step - loss: 0.0125 - val_loss: 0.0087\n",
      "Epoch 60/60\n",
      "54/54 [==============================] - 5s 99ms/step - loss: 0.0124 - val_loss: 0.0091\n",
      "12/12 [==============================] - 1s 26ms/step\n"
     ]
    }
   ],
   "source": [
    "\n",
    "\n",
    "# 데이터셋 준비 (이미 원-핫 인코딩 및 NaN 처리 완료)\n",
    "data = df.values\n",
    "\n",
    "# 데이터 정규화\n",
    "scaler = MinMaxScaler()\n",
    "data_scaled = scaler.fit_transform(data)\n",
    "\n",
    "# 데이터셋 분할\n",
    "n_train = int(0.9 * len(data_scaled))\n",
    "train_data = data_scaled[:n_train]\n",
    "test_data = data_scaled[n_train:]\n",
    "train_dates = df.index[:n_train]\n",
    "test_dates = df.index[n_train:]\n",
    "\n",
    "# 데이터셋 재구성\n",
    "seq_len = 70  # 수치구성방법 총 데이터의수 20%가 최대치 (수치를 조정해서 모델 적중률 조정)\n",
    "input_dim = train_data.shape[1]  # 입력 차원 (원-핫 인코딩된 열의 수)\n",
    "\n",
    "trainX, trainY = [], []\n",
    "testX, testY = [], []\n",
    "\n",
    "for i in range(seq_len, len(train_data)):\n",
    "    trainX.append(train_data[i-seq_len:i, :])\n",
    "    trainY.append(train_data[i, 0])  # 첫 번째 열이 타겟 변수라고 가정\n",
    "\n",
    "for i in range(seq_len, len(test_data)):\n",
    "    testX.append(test_data[i-seq_len:i, :])\n",
    "    testY.append(test_data[i, 0])\n",
    "\n",
    "trainX, trainY = np.array(trainX), np.array(trainY)\n",
    "testX, testY = np.array(testX), np.array(testY)\n",
    "\n",
    "# LSTM 모델 구성\n",
    "model = Sequential()\n",
    "model.add(LSTM(128, input_shape=(seq_len, input_dim), return_sequences=True))\n",
    "model.add(LSTM(64, return_sequences=False))\n",
    "model.add(Dense(1))  # 하나의 출력 뉴런\n",
    "\n",
    "# 모델 컴파일 및 학습\n",
    "model.compile(optimizer=Adam(learning_rate=0.001), loss='mse')\n",
    "model.fit(trainX, trainY, epochs=60, batch_size=64, validation_split=0.1, verbose=1)\n",
    "\n",
    "# 예측 및 역변환\n",
    "prediction = model.predict(testX)\n",
    "prediction_transformed = scaler.inverse_transform(np.concatenate((prediction, np.zeros((prediction.shape[0], data_scaled.shape[1]-1))), axis=1))[:,0]\n",
    "\n",
    "testY_transformed = scaler.inverse_transform(np.concatenate((testY.reshape(-1,1), np.zeros((testY.shape[0], data_scaled.shape[1]-1))), axis=1))[:,0]\n",
    "\n",
    "\n"
   ]
  },
  {
   "cell_type": "code",
<<<<<<< HEAD
   "execution_count": 16,
=======
   "execution_count": 90,
>>>>>>> 50eaee40db6a6e2bda5738aa9f82cee8c0ed2f85
   "metadata": {},
   "outputs": [
    {
     "name": "stdout",
     "output_type": "stream",
     "text": [
<<<<<<< HEAD
      "R-squared (Coefficient of Determination): 0.14345537992452617\n",
      "Mean Squared Error: 3.4053615925011035e-06\n",
      "Mean Absolute Error: 0.001398751600554905\n"
=======
      "R-squared (Coefficient of Determination): 0.4367741354925533\n",
      "Mean Squared Error: 5.695660829507499e-05\n",
      "Mean Absolute Error: 0.005880340743428122\n"
>>>>>>> 50eaee40db6a6e2bda5738aa9f82cee8c0ed2f85
     ]
    }
   ],
   "source": [
    "from sklearn.metrics import r2_score\n",
    "from sklearn.metrics import mean_squared_error, mean_absolute_error\n",
    "\n",
    "# R² 값 계산\n",
    "r_squared = r2_score(testY_transformed, prediction_transformed)\n",
    "# MSE 및 MAE 계산\n",
    "mse = mean_squared_error(testY_transformed, prediction_transformed)\n",
    "mae = mean_absolute_error(testY_transformed, prediction_transformed)\n",
    "\n",
    "\n",
    "print(\"R-squared (Coefficient of Determination):\", r_squared)\n",
    "print(\"Mean Squared Error:\", mse)\n",
    "print(\"Mean Absolute Error:\", mae)"
   ]
  },
  {
   "cell_type": "code",
   "execution_count": 94,
   "metadata": {},
   "outputs": [],
   "source": [
    "from keras.callbacks import EarlyStopping\n",
    "\n",
    "# 데이터셋 준비 (이미 원-핫 인코딩 및 NaN 처리 완료)\n",
    "data = df.values\n",
    "\n",
    "# 데이터 정규화\n",
    "scaler = MinMaxScaler()\n",
    "data_scaled = scaler.fit_transform(data)\n",
    "\n",
    "# 데이터셋 분할\n",
    "n_train = int(0.9 * len(data_scaled))\n",
    "train_data = data_scaled[:n_train]\n",
    "test_data = data_scaled[n_train:]\n",
    "train_dates = df.index[:n_train]\n",
    "test_dates = df.index[n_train:]\n",
    "\n",
    "# 데이터셋 재구성\n",
    "seq_len = 70  # 수치구성방법 총 데이터의수 20%가 최대치 (수치를 조정해서 모델 적중률 조정)\n",
    "input_dim = train_data.shape[1]  # 입력 차원 (원-핫 인코딩된 열의 수)\n",
    "\n",
    "trainX, trainY = [], []\n",
    "testX, testY = [], []\n",
    "\n",
    "for i in range(seq_len, len(train_data)):\n",
    "    trainX.append(train_data[i-seq_len:i, :])\n",
    "    trainY.append(train_data[i, 0])  # 첫 번째 열이 타겟 변수라고 가정\n",
    "\n",
    "for i in range(seq_len, len(test_data)):\n",
    "    testX.append(test_data[i-seq_len:i, :])\n",
    "    testY.append(test_data[i, 0])\n",
    "\n",
    "trainX, trainY = np.array(trainX), np.array(trainY)\n",
    "testX, testY = np.array(testX), np.array(testY)\n",
    "\n",
    "# LSTM 모델 구성\n",
    "model = Sequential()\n",
    "model.add(LSTM(128, input_shape=(seq_len, input_dim), return_sequences=True))\n",
    "model.add(LSTM(64, return_sequences=False))\n",
    "model.add(Dense(1))  # 하나의 출력 뉴런\n",
    "\n",
    "# 모델 컴파일 및 학습\n",
    "model.compile(optimizer=Adam(learning_rate=0.001), loss='mse')\n",
    "\n",
    "# 조기 종료 설정\n",
    "early_stopping = EarlyStopping(monitor='val_loss', patience=10, restore_best_weights=True)\n",
    "\n",
    "# 모델 학습\n",
    "history = model.fit(trainX, trainY, epochs=60, batch_size=32, validation_split=0.15, verbose=1, callbacks=[early_stopping])\n",
    "\n",
    "# 예측\n",
    "prediction = model.predict(testX)\n",
    "\n",
    "# 예측값 역변환\n",
    "prediction_transformed = scaler.inverse_transform(np.concatenate((prediction, np.zeros((prediction.shape[0], data_scaled.shape[1]-1))), axis=1))[:,0]\n",
    "\n",
    "# 실제 타겟값 역변환\n",
    "testY_transformed = scaler.inverse_transform(np.concatenate((testY.reshape(-1,1), np.zeros((testY.shape[0], data_scaled.shape[1]-1))), axis=1))[:,0]\n",
    "\n",
    "# R2 점수 계산\n",
    "r2 = r2_score(testY_transformed, prediction_transformed)\n",
    "print(\"R2 점수:\", r2)\n"
   ]
  },
  {
   "cell_type": "code",
   "execution_count": 97,
   "metadata": {},
   "outputs": [
    {
     "name": "stdout",
     "output_type": "stream",
     "text": [
      "Epoch 1/60\n",
      "101/101 [==============================] - 11s 69ms/step - loss: 0.0124 - val_loss: 0.0058\n",
      "Epoch 2/60\n",
      "101/101 [==============================] - 6s 60ms/step - loss: 0.0102 - val_loss: 0.0057\n",
      "Epoch 3/60\n",
      "101/101 [==============================] - 6s 60ms/step - loss: 0.0095 - val_loss: 0.0055\n",
      "Epoch 4/60\n",
      "101/101 [==============================] - 6s 62ms/step - loss: 0.0086 - val_loss: 0.0044\n",
      "Epoch 5/60\n",
      "101/101 [==============================] - 7s 67ms/step - loss: 0.0075 - val_loss: 0.0051\n",
      "Epoch 6/60\n",
      "101/101 [==============================] - 7s 65ms/step - loss: 0.0074 - val_loss: 0.0050\n",
      "Epoch 7/60\n",
      "101/101 [==============================] - 6s 61ms/step - loss: 0.0073 - val_loss: 0.0043\n",
      "Epoch 8/60\n",
      "101/101 [==============================] - 6s 62ms/step - loss: 0.0073 - val_loss: 0.0042\n",
      "Epoch 9/60\n",
      "101/101 [==============================] - 6s 61ms/step - loss: 0.0072 - val_loss: 0.0041\n",
      "Epoch 10/60\n",
      "101/101 [==============================] - 6s 61ms/step - loss: 0.0072 - val_loss: 0.0041\n",
      "Epoch 11/60\n",
      "101/101 [==============================] - 6s 62ms/step - loss: 0.0070 - val_loss: 0.0041\n",
      "Epoch 12/60\n",
      "101/101 [==============================] - 6s 64ms/step - loss: 0.0072 - val_loss: 0.0043\n",
      "Epoch 13/60\n",
      "101/101 [==============================] - 7s 65ms/step - loss: 0.0071 - val_loss: 0.0041\n",
      "Epoch 14/60\n",
      "101/101 [==============================] - 6s 63ms/step - loss: 0.0072 - val_loss: 0.0048\n",
      "Epoch 15/60\n",
      "101/101 [==============================] - 6s 63ms/step - loss: 0.0071 - val_loss: 0.0043\n",
      "Epoch 16/60\n",
      "101/101 [==============================] - 6s 62ms/step - loss: 0.0072 - val_loss: 0.0041\n",
      "Epoch 17/60\n",
      "101/101 [==============================] - 6s 62ms/step - loss: 0.0070 - val_loss: 0.0043\n",
      "Epoch 18/60\n",
      "101/101 [==============================] - 6s 64ms/step - loss: 0.0070 - val_loss: 0.0045\n",
      "Epoch 19/60\n",
      "101/101 [==============================] - 6s 63ms/step - loss: 0.0070 - val_loss: 0.0041\n",
      "12/12 [==============================] - 1s 25ms/step\n",
      "R2 점수: 0.5090997283645957\n"
     ]
    }
   ],
   "source": [
    "from keras.callbacks import EarlyStopping\n",
    "\n",
    "# 데이터셋 준비 (이미 원-핫 인코딩 및 NaN 처리 완료)\n",
    "data = df.values\n",
    "\n",
    "# 데이터 정규화\n",
    "scaler = MinMaxScaler()\n",
    "data_scaled = scaler.fit_transform(data)\n",
    "\n",
    "# 데이터셋 분할\n",
    "n_train = int(0.9 * len(data_scaled))\n",
    "train_data = data_scaled[:n_train]\n",
    "test_data = data_scaled[n_train:]\n",
    "train_dates = df.index[:n_train]\n",
    "test_dates = df.index[n_train:]\n",
    "\n",
    "# 데이터셋 재구성\n",
    "seq_len = 70  # 수치구성방법 총 데이터의수 20%가 최대치 (수치를 조정해서 모델 적중률 조정)\n",
    "input_dim = train_data.shape[1]  # 입력 차원 (원-핫 인코딩된 열의 수)\n",
    "\n",
    "trainX, trainY = [], []\n",
    "testX, testY = [], []\n",
    "\n",
    "for i in range(seq_len, len(train_data)):\n",
    "    trainX.append(train_data[i-seq_len:i, :])\n",
    "    trainY.append(train_data[i, 2])  # 첫 번째 열이 타겟 변수라고 가정\n",
    "\n",
    "for i in range(seq_len, len(test_data)):\n",
    "    testX.append(test_data[i-seq_len:i, :])\n",
    "    testY.append(test_data[i, 2])\n",
    "\n",
    "trainX, trainY = np.array(trainX), np.array(trainY)\n",
    "testX, testY = np.array(testX), np.array(testY)\n",
    "\n",
    "# LSTM 모델 구성\n",
    "model = Sequential()\n",
    "model.add(LSTM(128, input_shape=(seq_len, input_dim), return_sequences=True))\n",
    "model.add(LSTM(64, return_sequences=False))\n",
    "model.add(Dense(1))  # 하나의 출력 뉴런\n",
    "\n",
    "# 모델 컴파일 및 학습\n",
    "model.compile(optimizer=Adam(learning_rate=0.001), loss='mse')\n",
    "\n",
    "# 조기 종료 설정\n",
    "early_stopping = EarlyStopping(monitor='val_loss', patience=10, restore_best_weights=True)\n",
    "\n",
    "# 모델 학습\n",
    "history = model.fit(trainX, trainY, epochs=60, batch_size=32, validation_split=0.15, verbose=1, callbacks=[early_stopping])\n",
    "\n",
    "# 예측\n",
    "prediction = model.predict(testX)\n",
    "\n",
    "# 예측값 역변환\n",
    "prediction_transformed = scaler.inverse_transform(np.concatenate((prediction, np.zeros((prediction.shape[0], data_scaled.shape[1]-1))), axis=1))[:,0]\n",
    "\n",
    "# 실제 타겟값 역변환\n",
    "testY_transformed = scaler.inverse_transform(np.concatenate((testY.reshape(-1,1), np.zeros((testY.shape[0], data_scaled.shape[1]-1))), axis=1))[:,0]\n",
    "\n",
    "# R2 점수 계산\n",
    "r2 = r2_score(testY_transformed, prediction_transformed)\n",
    "print(\"R2 점수:\", r2)\n"
   ]
  },
  {
   "cell_type": "code",
   "execution_count": 99,
   "metadata": {},
   "outputs": [
    {
     "data": {
      "text/plain": [
       "Index(['이산화질소', '오존', '일산화탄소', '아황산', '미세', '초미세'], dtype='object')"
      ]
     },
     "execution_count": 99,
     "metadata": {},
     "output_type": "execute_result"
    }
   ],
   "source": [
    "df.columns"
   ]
  },
  {
   "cell_type": "code",
<<<<<<< HEAD
   "execution_count": 24,
   "metadata": {},
   "outputs": [],
   "source": [
    "from sklearn.preprocessing import MinMaxScaler\n",
    "from sklearn.preprocessing import StandardScaler\n",
    "from sklearn.preprocessing import RobustScaler\n",
    "from sklearn.preprocessing import MaxAbsScaler\n",
    "from sklearn.preprocessing import Normalizer\n",
    "from sklearn.preprocessing import PowerTransformer\n",
    "from sklearn.preprocessing import QuantileTransformer\n"
   ]
  },
  {
   "cell_type": "code",
   "execution_count": 33,
=======
   "execution_count": 101,
>>>>>>> 50eaee40db6a6e2bda5738aa9f82cee8c0ed2f85
   "metadata": {},
   "outputs": [
    {
     "name": "stdout",
     "output_type": "stream",
     "text": [
<<<<<<< HEAD
      "Epoch 1/100\n",
      "102/102 [==============================] - 5s 27ms/step - loss: 0.2837 - val_loss: 0.0695\n",
      "Epoch 2/100\n",
      "102/102 [==============================] - 2s 21ms/step - loss: 0.2517 - val_loss: 0.0736\n",
      "Epoch 3/100\n",
      "102/102 [==============================] - 2s 21ms/step - loss: 0.2281 - val_loss: 0.0717\n",
      "Epoch 4/100\n",
      "102/102 [==============================] - 2s 22ms/step - loss: 0.2200 - val_loss: 0.0659\n",
      "Epoch 5/100\n",
      "102/102 [==============================] - 2s 21ms/step - loss: 0.2047 - val_loss: 0.0650\n",
      "Epoch 6/100\n",
      "102/102 [==============================] - 2s 22ms/step - loss: 0.2021 - val_loss: 0.0731\n",
      "Epoch 7/100\n",
      "102/102 [==============================] - 2s 21ms/step - loss: 0.1995 - val_loss: 0.0682\n",
      "Epoch 8/100\n",
      "102/102 [==============================] - 2s 21ms/step - loss: 0.1981 - val_loss: 0.0796\n",
      "Epoch 9/100\n",
      "102/102 [==============================] - 2s 21ms/step - loss: 0.1998 - val_loss: 0.0694\n",
      "Epoch 10/100\n",
      "102/102 [==============================] - 2s 21ms/step - loss: 0.1953 - val_loss: 0.0675\n",
      "Epoch 11/100\n",
      "102/102 [==============================] - 2s 21ms/step - loss: 0.1936 - val_loss: 0.0721\n",
      "Epoch 12/100\n",
      "102/102 [==============================] - 2s 20ms/step - loss: 0.1936 - val_loss: 0.0688\n",
      "Epoch 13/100\n",
      "102/102 [==============================] - 2s 20ms/step - loss: 0.1927 - val_loss: 0.0697\n",
      "Epoch 14/100\n",
      "102/102 [==============================] - 2s 20ms/step - loss: 0.1873 - val_loss: 0.0728\n",
      "Epoch 15/100\n",
      "102/102 [==============================] - 2s 20ms/step - loss: 0.1872 - val_loss: 0.0653\n",
      "12/12 [==============================] - 1s 10ms/step\n",
      "R2 점수: 0.00767148690871855\n"
=======
      "Epoch 1/60\n",
      "103/103 [==============================] - 8s 38ms/step - loss: 0.0041 - val_loss: 0.0027\n",
      "Epoch 2/60\n",
      "103/103 [==============================] - 3s 32ms/step - loss: 0.0033 - val_loss: 0.0011\n",
      "Epoch 3/60\n",
      "103/103 [==============================] - 3s 29ms/step - loss: 0.0030 - val_loss: 8.0893e-04\n",
      "Epoch 4/60\n",
      "103/103 [==============================] - 3s 29ms/step - loss: 0.0030 - val_loss: 7.3558e-04\n",
      "Epoch 5/60\n",
      "103/103 [==============================] - 3s 30ms/step - loss: 0.0029 - val_loss: 7.2940e-04\n",
      "Epoch 6/60\n",
      "103/103 [==============================] - 3s 29ms/step - loss: 0.0027 - val_loss: 7.8650e-04\n",
      "Epoch 7/60\n",
      "103/103 [==============================] - 3s 30ms/step - loss: 0.0025 - val_loss: 7.1909e-04\n",
      "Epoch 8/60\n",
      "103/103 [==============================] - 4s 35ms/step - loss: 0.0024 - val_loss: 9.0682e-04\n",
      "Epoch 9/60\n",
      "103/103 [==============================] - 3s 33ms/step - loss: 0.0024 - val_loss: 6.1331e-04\n",
      "Epoch 10/60\n",
      "103/103 [==============================] - 3s 31ms/step - loss: 0.0024 - val_loss: 5.9531e-04\n",
      "Epoch 11/60\n",
      "103/103 [==============================] - 3s 30ms/step - loss: 0.0024 - val_loss: 6.8965e-04\n",
      "Epoch 12/60\n",
      "103/103 [==============================] - 3s 29ms/step - loss: 0.0023 - val_loss: 6.5894e-04\n",
      "Epoch 13/60\n",
      "103/103 [==============================] - 3s 30ms/step - loss: 0.0023 - val_loss: 7.8062e-04\n",
      "Epoch 14/60\n",
      "103/103 [==============================] - 3s 32ms/step - loss: 0.0023 - val_loss: 6.1622e-04\n",
      "Epoch 15/60\n",
      "103/103 [==============================] - 3s 30ms/step - loss: 0.0024 - val_loss: 6.4359e-04\n",
      "Epoch 16/60\n",
      "103/103 [==============================] - 3s 30ms/step - loss: 0.0023 - val_loss: 6.1371e-04\n",
      "Epoch 17/60\n",
      "103/103 [==============================] - 3s 30ms/step - loss: 0.0023 - val_loss: 6.6238e-04\n",
      "Epoch 18/60\n",
      "103/103 [==============================] - 3s 29ms/step - loss: 0.0023 - val_loss: 6.1873e-04\n",
      "Epoch 19/60\n",
      "103/103 [==============================] - 3s 30ms/step - loss: 0.0023 - val_loss: 6.5320e-04\n",
      "Epoch 20/60\n",
      "103/103 [==============================] - 3s 29ms/step - loss: 0.0023 - val_loss: 6.5830e-04\n",
      "13/13 [==============================] - 1s 12ms/step\n",
      "R2 점수: 0.20776723214775994\n"
>>>>>>> 50eaee40db6a6e2bda5738aa9f82cee8c0ed2f85
     ]
    }
   ],
   "source": [
    "from keras.callbacks import EarlyStopping\n",
    "\n",
    "# 데이터셋 준비 (이미 원-핫 인코딩 및 NaN 처리 완료)\n",
    "data = df.values\n",
    "\n",
    "# 데이터 정규화\n",
<<<<<<< HEAD
    "scaler = RobustScaler()\n",
=======
    "scaler = MinMaxScaler()\n",
>>>>>>> 50eaee40db6a6e2bda5738aa9f82cee8c0ed2f85
    "data_scaled = scaler.fit_transform(data)\n",
    "\n",
    "# 데이터셋 분할\n",
    "n_train = int(0.9 * len(data_scaled))\n",
    "train_data = data_scaled[:n_train]\n",
    "test_data = data_scaled[n_train:]\n",
    "train_dates = df.index[:n_train]\n",
    "test_dates = df.index[n_train:]\n",
    "\n",
    "# 데이터셋 재구성\n",
<<<<<<< HEAD
    "seq_len = 50  # 수치길이는 1이 하루를 의미함 4계절 대한민국이라 그것을 참고해서 정함  (수치를 조정해서 모델 적중률 조정)\n",
=======
    "seq_len = 30  # 수치길이는 1이 하루를 의미함 4계절이 뚜렷한 대한민국이라 그것을 참고해서 정함  (수치를 조정해서 모델 적중률 조정)\n",
>>>>>>> 50eaee40db6a6e2bda5738aa9f82cee8c0ed2f85
    "input_dim = train_data.shape[1]  # 입력 차원 (원-핫 인코딩된 열의 수)\n",
    "\n",
    "trainX, trainY = [], []\n",
    "testX, testY = [], []\n",
    "\n",
    "for i in range(seq_len, len(train_data)):\n",
    "    trainX.append(train_data[i-seq_len:i, :])\n",
    "    trainY.append(train_data[i, 3])  # 첫 번째 열이 타겟 변수라고 가정\n",
    "\n",
    "for i in range(seq_len, len(test_data)):\n",
    "    testX.append(test_data[i-seq_len:i, :])\n",
    "    testY.append(test_data[i, 3])\n",
    "\n",
    "trainX, trainY = np.array(trainX), np.array(trainY)\n",
    "testX, testY = np.array(testX), np.array(testY)\n",
    "\n",
    "# LSTM 모델 구성\n",
    "model = Sequential()\n",
    "model.add(LSTM(128, input_shape=(seq_len, input_dim), return_sequences=True))\n",
    "model.add(LSTM(64, return_sequences=False))\n",
    "model.add(Dense(1))  # 하나의 출력 뉴런\n",
    "\n",
    "# 모델 컴파일 및 학습\n",
    "model.compile(optimizer=Adam(learning_rate=0.001), loss='mse')\n",
    "\n",
    "# 조기 종료 설정\n",
    "early_stopping = EarlyStopping(monitor='val_loss', patience=10, restore_best_weights=True)\n",
    "\n",
    "# 모델 학습\n",
<<<<<<< HEAD
    "history = model.fit(trainX, trainY, epochs=100, batch_size=32, validation_split=0.15, verbose=1, callbacks=[early_stopping])\n",
=======
    "history = model.fit(trainX, trainY, epochs=60, batch_size=32, validation_split=0.15, verbose=1, callbacks=[early_stopping])\n",
>>>>>>> 50eaee40db6a6e2bda5738aa9f82cee8c0ed2f85
    "\n",
    "# 예측\n",
    "prediction = model.predict(testX)\n",
    "\n",
    "# 예측값 역변환\n",
    "prediction_transformed = scaler.inverse_transform(np.concatenate((prediction, np.zeros((prediction.shape[0], data_scaled.shape[1]-1))), axis=1))[:,0]\n",
    "\n",
    "# 실제 타겟값 역변환\n",
    "testY_transformed = scaler.inverse_transform(np.concatenate((testY.reshape(-1,1), np.zeros((testY.shape[0], data_scaled.shape[1]-1))), axis=1))[:,0]\n",
    "\n",
    "# R2 점수 계산\n",
    "r2 = r2_score(testY_transformed, prediction_transformed)\n",
    "print(\"R2 점수:\", r2)\n"
   ]
  },
  {
   "cell_type": "code",
   "execution_count": 75,
   "metadata": {},
   "outputs": [
    {
     "data": {
      "text/plain": [
       "Index(['이산화질소', '오존', '일산화탄소', '아황산', '미세', '초미세'], dtype='object')"
      ]
     },
     "execution_count": 75,
     "metadata": {},
     "output_type": "execute_result"
    }
   ],
   "source": [
    "df.columns"
   ]
  },
  {
   "cell_type": "code",
<<<<<<< HEAD
   "execution_count": 23,
=======
   "execution_count": 103,
>>>>>>> 50eaee40db6a6e2bda5738aa9f82cee8c0ed2f85
   "metadata": {},
   "outputs": [
    {
     "name": "stdout",
     "output_type": "stream",
     "text": [
      "이상치의 개수: 89\n",
      "이상치 인덱스와 값:\n",
      "측정일시\n",
      "2012-01-01    0.010\n",
      "2012-01-02    0.009\n",
      "2012-01-04    0.011\n",
      "2012-01-07    0.009\n",
      "2012-01-08    0.009\n",
      "              ...  \n",
      "2015-03-15    0.009\n",
      "2015-03-16    0.009\n",
      "2015-03-17    0.011\n",
      "2015-03-21    0.013\n",
      "2018-02-27    0.009\n",
      "Name: 아황산, Length: 89, dtype: float64\n"
     ]
    },
    {
     "data": {
<<<<<<< HEAD
      "image/png": "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",
=======
      "image/png": "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",
>>>>>>> 50eaee40db6a6e2bda5738aa9f82cee8c0ed2f85
      "text/plain": [
       "<Figure size 1000x600 with 1 Axes>"
      ]
     },
     "metadata": {},
     "output_type": "display_data"
    }
   ],
   "source": [
    "import pandas as pd\n",
    "\n",
    "# 데이터프레임 'df'와 컬럼 이름 'column_name'을 가정\n",
    "column_name = 'your_column_name'\n",
    "data = df['아황산']\n",
    "\n",
    "# IQR 계산\n",
    "Q1 = data.quantile(0.25)\n",
    "Q3 = data.quantile(0.75)\n",
    "IQR = Q3 - Q1\n",
    "\n",
    "# 이상치 탐지\n",
    "outliers = ((data < (Q1 - 1.5 * IQR)) | (data > (Q3 + 1.5 * IQR)))\n",
    "\n",
    "# 이상치 출력\n",
    "print(\"이상치의 개수:\", outliers.sum())\n",
    "print(\"이상치 인덱스와 값:\")\n",
    "print(data[outliers])\n",
    "\n",
    "# 이상치 시각화 (선택적)\n",
    "import matplotlib.pyplot as plt\n",
    "import seaborn as sns\n",
    "\n",
    "plt.figure(figsize=(10, 6))\n",
    "sns.boxplot(x=data)\n",
    "plt.show()"
   ]
  },
  {
   "cell_type": "code",
   "execution_count": null,
   "metadata": {},
   "outputs": [],
   "source": []
  }
 ],
 "metadata": {
  "kernelspec": {
   "display_name": "base",
   "language": "python",
   "name": "python3"
  },
  "language_info": {
   "codemirror_mode": {
    "name": "ipython",
    "version": 3
   },
   "file_extension": ".py",
   "mimetype": "text/x-python",
   "name": "python",
   "nbconvert_exporter": "python",
   "pygments_lexer": "ipython3",
   "version": "3.11.4"
  }
 },
 "nbformat": 4,
 "nbformat_minor": 2
}
