{
 "cells": [
  {
   "cell_type": "code",
   "execution_count": 10,
   "metadata": {},
   "outputs": [],
   "source": [
    "import pandas as pd\n",
    "import seaborn as sns\n",
    "import matplotlib.pyplot as plt\n",
    "import numpy as np\n",
    "plt.rcParams['font.family'] = 'Malgun Gothic'\n",
    "plt.rcParams['axes.unicode_minus'] = False"
   ]
  },
  {
   "cell_type": "code",
   "execution_count": 2,
   "metadata": {},
   "outputs": [],
   "source": [
    "df = pd.read_csv('../1205월별데이터편집/data/월별데이터합침2015-2022(콜롬명수정).csv')"
   ]
  },
  {
   "cell_type": "code",
   "execution_count": 20,
   "metadata": {},
   "outputs": [],
   "source": [
    "# 데이터 불러오기\n",
    "df = pd.read_csv('../1205월별데이터편집/data/월별데이터합침2015-2022(콜롬명수정).csv')\n",
    "\n",
    "# 날짜 형식 변환\n",
    "df['STD_YYYYMM'] = pd.to_datetime(df['STD_YYYYMM'], format='%Y%m')\n",
    "\n",
    "# 코로나19 기간 설정\n",
    "pre_covid_start = pd.to_datetime('2010-01-01')\n",
    "pre_covid_end = pd.to_datetime('2019-12-31')\n",
    "covid_start = pd.to_datetime('2020-01-01')\n",
    "covid_end = pd.to_datetime('2021-12-31')\n",
    "\n",
    "# 컬럼 리스트\n",
    "columns = [\n",
    "    '비염환자(질병)', '아토피환자(질병)', '천식환자(질병)', '평균기온(기후)', \n",
    "    '상대습도(기후)', '증기압(기후)', '최고기온(기후)', '최저기온(기후)', '풍속(기후)', '미세먼지', \n",
    "    '초미세먼지', '아황산가스', '이산화질소', '일산화탄소', '구리(중금속)', '납(중금속)',\n",
    "    '니켈(중금속)', '망간(중금속)', '비소(중금속)', '철(중금속)', '카드뮴(중금속)', '크롬(중금속)'\n",
    "]\n",
    "\n",
    "for column in columns:\n",
    "    # 코로나 이전과 이후 데이터 필터링 및 평균 계산\n",
    "    pre_covid_avg = df[(df['STD_YYYYMM'] >= pre_covid_start) & (df['STD_YYYYMM'] <= pre_covid_end)].groupby('SIDO')[column].mean()\n",
    "    covid_avg = df[(df['STD_YYYYMM'] >= covid_start) & (df['STD_YYYYMM'] <= covid_end)].groupby('SIDO')[column].mean()\n",
    "\n",
    "    # 코로나 증감폭 계산 및 백분율 변환, 정수 변환\n",
    "    covid_impact = (((covid_avg - pre_covid_avg) / pre_covid_avg) * 100).fillna(0).replace([np.inf, -np.inf], 0).astype(int)\n",
    "    covid_impact = covid_impact.reset_index()\n",
    "    covid_impact.columns = ['SIDO', column + '_코로나증감폭']\n",
    "\n",
    "    # df와 covid_impact를 SIDO를 기준으로 병합\n",
    "    df = pd.merge(df, covid_impact, on='SIDO', how='left')\n"
   ]
  },
  {
   "cell_type": "code",
   "execution_count": 27,
   "metadata": {},
   "outputs": [],
   "source": [
    "# STD_YYYYMM 열을 'YYYYMM' 형식의 문자열로 변환\n",
    "df['STD_YYYYMM'] = df['STD_YYYYMM'].dt.strftime('%Y%m')\n"
   ]
  },
  {
   "cell_type": "code",
   "execution_count": 28,
   "metadata": {},
   "outputs": [
    {
     "data": {
      "text/plain": [
       "0       201501\n",
       "1       201502\n",
       "2       201503\n",
       "3       201504\n",
       "4       201505\n",
       "         ...  \n",
       "1435    202208\n",
       "1436    202209\n",
       "1437    202210\n",
       "1438    202211\n",
       "1439    202212\n",
       "Name: STD_YYYYMM, Length: 1440, dtype: object"
      ]
     },
     "execution_count": 28,
     "metadata": {},
     "output_type": "execute_result"
    }
   ],
   "source": [
    "df['STD_YYYYMM']"
   ]
  },
  {
   "cell_type": "code",
   "execution_count": 21,
   "metadata": {},
   "outputs": [
    {
     "data": {
      "text/plain": [
       "Index(['STD_YYYYMM', 'SIDO', '비염환자(질병)', '아토피환자(질병)', '천식환자(질병)', '평균기온(기후)',\n",
       "       '상대습도(기후)', '증기압(기후)', '최고기온(기후)', '최저기온(기후)', '풍속(기후)', '미세먼지',\n",
       "       '미세먼지(농도)', '미세먼지(농도80)', '초미세먼지', '초미세먼지(농도)', '초미세먼지(농도35)', '아황산가스',\n",
       "       '아황산가스(농도0.05)', '아황산가스(농도)', '이산화질소', '이산화질소(농도0.06)', '이산화질소(농도0.03)',\n",
       "       '이산화질소(농도)', '일산화탄소', '일산화탄소(농도9)', '일산화탄소(농도)', '차량수', '구리(중금속)',\n",
       "       '구리(농도)', '납(중금속)', '납(농도0.5)', '납(농도)', '니켈(중금속)', '니켈(농도)', '망간(중금속)',\n",
       "       '망간(농도)', '비소(중금속)', '비소(농도)', '철(중금속)', '철(농도)', '카드뮴(중금속)', '카드뮴(농도)',\n",
       "       '크롬(중금속)', '크롬(농도)', '비염환자(질병)_코로나증감폭', '아토피환자(질병)_코로나증감폭',\n",
       "       '천식환자(질병)_코로나증감폭', '평균기온(기후)_코로나증감폭', '상대습도(기후)_코로나증감폭',\n",
       "       '증기압(기후)_코로나증감폭', '최고기온(기후)_코로나증감폭', '최저기온(기후)_코로나증감폭', '풍속(기후)_코로나증감폭',\n",
       "       '미세먼지_코로나증감폭', '초미세먼지_코로나증감폭', '아황산가스_코로나증감폭', '이산화질소_코로나증감폭',\n",
       "       '일산화탄소_코로나증감폭', '구리(중금속)_코로나증감폭', '납(중금속)_코로나증감폭', '니켈(중금속)_코로나증감폭',\n",
       "       '망간(중금속)_코로나증감폭', '비소(중금속)_코로나증감폭', '철(중금속)_코로나증감폭', '카드뮴(중금속)_코로나증감폭',\n",
       "       '크롬(중금속)_코로나증감폭'],\n",
       "      dtype='object')"
      ]
     },
     "execution_count": 21,
     "metadata": {},
     "output_type": "execute_result"
    }
   ],
   "source": [
    "df.columns"
   ]
  },
  {
   "cell_type": "code",
   "execution_count": 29,
   "metadata": {},
   "outputs": [
    {
     "data": {
      "text/plain": [
       "0       5\n",
       "1       5\n",
       "2       5\n",
       "3       5\n",
       "4       5\n",
       "       ..\n",
       "1435    9\n",
       "1436    9\n",
       "1437    9\n",
       "1438    9\n",
       "1439    9\n",
       "Name: 아토피환자(질병)_코로나증감폭, Length: 1440, dtype: int32"
      ]
     },
     "execution_count": 29,
     "metadata": {},
     "output_type": "execute_result"
    }
   ],
   "source": [
    "df['아토피환자(질병)_코로나증감폭']"
   ]
  },
  {
   "cell_type": "code",
   "execution_count": 30,
   "metadata": {},
   "outputs": [],
   "source": [
    "df.to_csv('../1205월별데이터편집/data/코로나시각화.csv', index=False)"
   ]
  },
  {
   "cell_type": "code",
   "execution_count": 4,
   "metadata": {},
   "outputs": [],
   "source": [
    "result_df2 = df.loc[:, (df.columns.str.contains('농도') | df.columns.str.contains('질병'))]"
   ]
  },
  {
   "cell_type": "code",
   "execution_count": 8,
   "metadata": {},
   "outputs": [],
   "source": [
    "result_df3 = df.loc[:, ~(df.columns.str.contains('농도') )]"
   ]
  },
  {
   "cell_type": "code",
   "execution_count": 9,
   "metadata": {},
   "outputs": [
    {
     "data": {
      "text/plain": [
       "Index(['STD_YYYYMM', 'SIDO', '비염환자(질병)', '아토피환자(질병)', '천식환자(질병)', '평균기온(기후)',\n",
       "       '상대습도(기후)', '증기압(기후)', '최고기온(기후)', '최저기온(기후)', '풍속(기후)', '미세먼지',\n",
       "       '초미세먼지', '아황산가스', '이산화질소', '일산화탄소', '차량수', '구리(중금속)', '납(중금속)',\n",
       "       '니켈(중금속)', '망간(중금속)', '비소(중금속)', '철(중금속)', '카드뮴(중금속)', '크롬(중금속)'],\n",
       "      dtype='object')"
      ]
     },
     "execution_count": 9,
     "metadata": {},
     "output_type": "execute_result"
    }
   ],
   "source": [
    "result_df3.columns"
   ]
  },
  {
   "cell_type": "code",
   "execution_count": 5,
   "metadata": {},
   "outputs": [
    {
     "data": {
      "text/plain": [
       "Index(['비염환자(질병)', '아토피환자(질병)', '천식환자(질병)', '미세먼지(농도)', '미세먼지(농도80)',\n",
       "       '초미세먼지(농도)', '초미세먼지(농도35)', '아황산가스(농도0.05)', '아황산가스(농도)',\n",
       "       '이산화질소(농도0.06)', '이산화질소(농도0.03)', '이산화질소(농도)', '일산화탄소(농도9)',\n",
       "       '일산화탄소(농도)', '구리(농도)', '납(농도0.5)', '납(농도)', '니켈(농도)', '망간(농도)',\n",
       "       '비소(농도)', '철(농도)', '카드뮴(농도)', '크롬(농도)'],\n",
       "      dtype='object')"
      ]
     },
     "execution_count": 5,
     "metadata": {},
     "output_type": "execute_result"
    }
   ],
   "source": [
    "result_df2.columns"
   ]
  },
  {
   "cell_type": "code",
   "execution_count": null,
   "metadata": {},
   "outputs": [],
   "source": [
    "# '이산화_0.03BAD'에 따른 '천식환자수'의 최소값을 계산합니다.\n",
    "result_df2 = result_df2.groupby('이산화_0.03BAD')['천식환자수'].min().reset_index()\n",
    "\n",
    "# 최소값을 이용한 막대 그래프를 그립니다.\n",
    "plt.figure(figsize=(8, 6))\n",
    "sns.barplot(x='이산화_0.03BAD', y='천식환자수', data=result_df2)\n",
    "\n",
    "plt.title('이산화질소 농도에 따른 천식환자수의 최소값 비교')\n",
    "plt.show()"
   ]
  }
 ],
 "metadata": {
  "kernelspec": {
   "display_name": "base",
   "language": "python",
   "name": "python3"
  },
  "language_info": {
   "codemirror_mode": {
    "name": "ipython",
    "version": 3
   },
   "file_extension": ".py",
   "mimetype": "text/x-python",
   "name": "python",
   "nbconvert_exporter": "python",
   "pygments_lexer": "ipython3",
   "version": "3.11.4"
  }
 },
 "nbformat": 4,
 "nbformat_minor": 2
}
