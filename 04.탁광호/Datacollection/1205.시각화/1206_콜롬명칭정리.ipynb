{
 "cells": [
  {
   "cell_type": "code",
   "execution_count": 2,
   "metadata": {},
   "outputs": [],
   "source": [
    "import pandas as pd\n",
    "import seaborn as sns\n",
    "import matplotlib.pyplot as plt\n",
    "plt.rcParams['font.family'] = 'Malgun Gothic'\n",
    "plt.rcParams['axes.unicode_minus'] = False"
   ]
  },
  {
   "cell_type": "code",
   "execution_count": 3,
   "metadata": {},
   "outputs": [],
   "source": [
    "df = pd.read_csv('../1205월별데이터편집/data/월별데이터합침2015-2022.csv')"
   ]
  },
  {
   "cell_type": "code",
   "execution_count": 4,
   "metadata": {},
   "outputs": [
    {
     "data": {
      "text/plain": [
       "Index(['STD_YYYYMM', 'SIDO', '비염환자수', '아토피환자수', '천식환자수', '평균기온', '평균상대습도',\n",
       "       '평균증기압', '평균최고기온', '평균최저기온', '평균풍속', 'AVG_PM10', 'PM10_BAD',\n",
       "       'PM10_80BAD', 'AVG_PM2.5', 'PM2_BAD', 'PM2_35BAD', 'AVG_아황산',\n",
       "       '아황산_0.05BAD', '아황산_BAD', 'AVG_이산화', '이산화_0.06BAD', '이산화_0.03BAD',\n",
       "       '이산화_BAD', 'AVG_일산화', '일산화_9BAD', '일산화_BAD', '차량수', 'AVG_구리', '구리_BAD',\n",
       "       'AVG_납', '납_0.5BAD', '납_BAD', 'AVG_니켈', '니켈_BAD', 'AVG_망간', '망간_BAD',\n",
       "       'AVG_비소', '비소_BAD', 'AVG_철', '철_BAD', 'AVG_카드뮴', '카드뮴_BAD', 'AVG_크롬',\n",
       "       '크롬_BAD'],\n",
       "      dtype='object')"
      ]
     },
     "execution_count": 4,
     "metadata": {},
     "output_type": "execute_result"
    }
   ],
   "source": [
    "df.columns"
   ]
  },
  {
   "cell_type": "code",
   "execution_count": 5,
   "metadata": {},
   "outputs": [],
   "source": [
    "# 데이터프레임 컬럼명 변경\n",
    "df.columns = ['STD_YYYYMM', 'SIDO', '비염환자(질병)', '아토피환자(질병)', '천식환자(질병)', '평균기온(기후)', '상대습도(기후)',\n",
    "              '증기압(기후)', '최고기온(기후)', '최저기온(기후)', '풍속(기후)', '미세먼지', '미세먼지(농도)',\n",
    "              '미세먼지(농도80)', '초미세먼지', '초미세먼지(농도)', '초미세먼지(농도35)', '아황산가스',\n",
    "              '아황산가스(농도0.05)', '아황산가스(농도)', '이산화질소', '이산화질소(농도0.06)', '이산화질소(농도0.03)',\n",
    "              '이산화질소(농도)', '일산화탄소', '일산화탄소(농도9)', '일산화탄소(농도)', '차량수', '구리(중금속)', '구리(농도)',\n",
    "              '납(중금속)', '납(농도0.5)', '납(농도)', '니켈(중금속)', '니켈(농도)', '망간(중금속)', '망간(농도)',\n",
    "              '비소(중금속)', '비소(농도)', '철(중금속)', '철(농도)', '카드뮴(중금속)', '카드뮴(농도)', '크롬(중금속)',\n",
    "              '크롬(농도)']\n"
   ]
  },
  {
   "cell_type": "code",
   "execution_count": 7,
   "metadata": {},
   "outputs": [
    {
     "data": {
      "text/plain": [
       "Index(['STD_YYYYMM', 'SIDO', '비염환자(질병)', '아토피환자(질병)', '천식환자(질병)', '평균기온(기후)',\n",
       "       '상대습도(기후)', '증기압(기후)', '최고기온(기후)', '최저기온(기후)', '풍속(기후)', '미세먼지',\n",
       "       '미세먼지(농도)', '미세먼지(농도80)', '초미세먼지', '초미세먼지(농도)', '초미세먼지(농도35)', '아황산가스',\n",
       "       '아황산가스(농도0.05)', '아황산가스(농도)', '이산화질소', '이산화질소(농도0.06)', '이산화질소(농도0.03)',\n",
       "       '이산화질소(농도)', '일산화탄소', '일산화탄소(농도9)', '일산화탄소(농도)', '차량수', '구리(중금속)',\n",
       "       '구리(농도)', '납(중금속)', '납(농도0.5)', '납(농도)', '니켈(중금속)', '니켈(농도)', '망간(중금속)',\n",
       "       '망간(농도)', '비소(중금속)', '비소(농도)', '철(중금속)', '철(농도)', '카드뮴(중금속)', '카드뮴(농도)',\n",
       "       '크롬(중금속)', '크롬(농도)'],\n",
       "      dtype='object')"
      ]
     },
     "execution_count": 7,
     "metadata": {},
     "output_type": "execute_result"
    }
   ],
   "source": [
    "df.columns"
   ]
  },
  {
   "cell_type": "code",
   "execution_count": 8,
   "metadata": {},
   "outputs": [],
   "source": [
    "# '농도'가 포함된 열에 대해서만 'Y'와 'N'을 각각 '나쁨', '좋음'으로 변경\n",
    "for col in df.columns:\n",
    "    if '농도' in col:\n",
    "        df[col] = df[col].replace({'Y': '나쁨', 'N': '좋음'})\n"
   ]
  },
  {
   "cell_type": "code",
   "execution_count": 9,
   "metadata": {},
   "outputs": [
    {
     "data": {
      "text/plain": [
       "구리(농도)\n",
       "좋음    940\n",
       "나쁨    500\n",
       "Name: count, dtype: int64"
      ]
     },
     "execution_count": 9,
     "metadata": {},
     "output_type": "execute_result"
    }
   ],
   "source": [
    "df['구리(농도)'].value_counts()"
   ]
  },
  {
   "cell_type": "code",
   "execution_count": 6,
   "metadata": {},
   "outputs": [],
   "source": [
    "df.to_csv('../1205월별데이터편집/data/월별데이터합침2015-2022(콜롬명수정).csv',index=False)"
   ]
  },
  {
   "cell_type": "code",
   "execution_count": null,
   "metadata": {},
   "outputs": [],
   "source": []
  }
 ],
 "metadata": {
  "kernelspec": {
   "display_name": "base",
   "language": "python",
   "name": "python3"
  },
  "language_info": {
   "codemirror_mode": {
    "name": "ipython",
    "version": 3
   },
   "file_extension": ".py",
   "mimetype": "text/x-python",
   "name": "python",
   "nbconvert_exporter": "python",
   "pygments_lexer": "ipython3",
   "version": "3.11.4"
  }
 },
 "nbformat": 4,
 "nbformat_minor": 2
}
