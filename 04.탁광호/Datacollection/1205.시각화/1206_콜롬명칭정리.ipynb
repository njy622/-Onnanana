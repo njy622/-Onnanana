{
 "cells": [
  {
   "cell_type": "code",
   "execution_count": 1,
   "metadata": {},
   "outputs": [],
   "source": [
    "import pandas as pd\n",
    "import seaborn as sns\n",
    "import matplotlib.pyplot as plt\n",
    "plt.rcParams['font.family'] = 'Malgun Gothic'\n",
    "plt.rcParams['axes.unicode_minus'] = False"
   ]
  },
  {
   "cell_type": "code",
   "execution_count": 2,
   "metadata": {},
   "outputs": [],
   "source": [
    "df = pd.read_csv('../1205월별데이터편집/data/월별데이터합침2015-2022.csv')"
   ]
  },
  {
   "cell_type": "code",
   "execution_count": 3,
   "metadata": {},
   "outputs": [
    {
     "data": {
      "text/plain": [
       "Index(['STD_YYYYMM', 'SIDO', '비염환자수', '아토피환자수', '천식환자수', '평균기온', '평균상대습도',\n",
       "       '평균증기압', '평균최고기온', '평균최저기온', '평균풍속', 'AVG_PM10', 'PM10_BAD',\n",
       "       'PM10_80BAD', 'AVG_PM2.5', 'PM2_BAD', 'PM2_35BAD', 'AVG_아황산',\n",
       "       '아황산_0.05BAD', '아황산_BAD', 'AVG_이산화', '이산화_0.06BAD', '이산화_0.03BAD',\n",
       "       '이산화_BAD', 'AVG_일산화', '일산화_9BAD', '일산화_BAD', '차량수', 'AVG_구리', '구리_BAD',\n",
       "       'AVG_납', '납_0.5BAD', '납_BAD', 'AVG_니켈', '니켈_BAD', 'AVG_망간', '망간_BAD',\n",
       "       'AVG_비소', '비소_BAD', 'AVG_철', '철_BAD', 'AVG_카드뮴', '카드뮴_BAD', 'AVG_크롬',\n",
       "       '크롬_BAD'],\n",
       "      dtype='object')"
      ]
     },
     "execution_count": 3,
     "metadata": {},
     "output_type": "execute_result"
    }
   ],
   "source": [
    "df.columns"
   ]
  },
  {
   "cell_type": "code",
   "execution_count": null,
   "metadata": {},
   "outputs": [],
   "source": [
    "# 데이터프레임 컬럼명 변경\n",
    "df.columns = ['STD_YYYYMM', 'SIDO', '비염환자수', '아토피환자수', '천식환자수', '평균기온', '상대습도',\n",
    "              '증기압', '최고기온', '최저기온', '풍속', 'AVG_PM10', '변경PM10_BAD',\n",
    "              '변경PM10_80BAD', '변경AVG_PM2.5', '변경PM2_BAD', '변경PM2_35BAD', '변경AVG_아황산',\n",
    "              '변경아황산_0.05BAD', '변경아황산_BAD', '변경AVG_이산화', '변경이산화_0.06BAD', '변경이산화_0.03BAD',\n",
    "              '변경이산화_BAD', '변경AVG_일산화', '변경일산화_9BAD', '변경일산화_BAD', '변경차량수', '변경AVG_구리', '변경구리_BAD',\n",
    "              '변경AVG_납', '변경납_0.5BAD', '변경납_BAD', '변경AVG_니켈', '변경니켈_BAD', '변경AVG_망간', '변경망간_BAD',\n",
    "              '변경AVG_비소', '변경비소_BAD', '변경AVG_철', '변경철_BAD', '변경AVG_카드뮴', '변경카드뮴_BAD', '변경AVG_크롬',\n",
    "              '변경크롬_BAD']\n"
   ]
  }
 ],
 "metadata": {
  "kernelspec": {
   "display_name": "base",
   "language": "python",
   "name": "python3"
  },
  "language_info": {
   "codemirror_mode": {
    "name": "ipython",
    "version": 3
   },
   "file_extension": ".py",
   "mimetype": "text/x-python",
   "name": "python",
   "nbconvert_exporter": "python",
   "pygments_lexer": "ipython3",
   "version": "3.11.4"
  }
 },
 "nbformat": 4,
 "nbformat_minor": 2
}
