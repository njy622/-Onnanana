{
 "cells": [
  {
   "cell_type": "code",
   "execution_count": 3,
   "metadata": {},
   "outputs": [],
   "source": [
    "import pandas as pd\n",
    "import warnings\n",
    "warnings.filterwarnings('ignore')"
   ]
  },
  {
   "cell_type": "code",
   "execution_count": 2,
   "metadata": {},
   "outputs": [],
   "source": [
    "df = pd.read_csv('1211.대기오염미래예측/data/12-23대기오염nan처리.csv')"
   ]
  },
  {
   "cell_type": "code",
   "execution_count": 3,
   "metadata": {},
   "outputs": [
    {
     "data": {
      "text/html": [
       "<div>\n",
       "<style scoped>\n",
       "    .dataframe tbody tr th:only-of-type {\n",
       "        vertical-align: middle;\n",
       "    }\n",
       "\n",
       "    .dataframe tbody tr th {\n",
       "        vertical-align: top;\n",
       "    }\n",
       "\n",
       "    .dataframe thead th {\n",
       "        text-align: right;\n",
       "    }\n",
       "</style>\n",
       "<table border=\"1\" class=\"dataframe\">\n",
       "  <thead>\n",
       "    <tr style=\"text-align: right;\">\n",
       "      <th></th>\n",
       "      <th>측정일시</th>\n",
       "      <th>이산화질소</th>\n",
       "      <th>오존</th>\n",
       "      <th>일산화탄소</th>\n",
       "      <th>아황산</th>\n",
       "      <th>미세</th>\n",
       "      <th>초미세</th>\n",
       "    </tr>\n",
       "  </thead>\n",
       "  <tbody>\n",
       "    <tr>\n",
       "      <th>0</th>\n",
       "      <td>20120101</td>\n",
       "      <td>0.031</td>\n",
       "      <td>0.008</td>\n",
       "      <td>1.17</td>\n",
       "      <td>0.0093</td>\n",
       "      <td>88.3</td>\n",
       "      <td>57.3</td>\n",
       "    </tr>\n",
       "  </tbody>\n",
       "</table>\n",
       "</div>"
      ],
      "text/plain": [
       "       측정일시  이산화질소     오존  일산화탄소     아황산    미세   초미세\n",
       "0  20120101  0.031  0.008   1.17  0.0093  88.3  57.3"
      ]
     },
     "execution_count": 3,
     "metadata": {},
     "output_type": "execute_result"
    }
   ],
   "source": [
    "df.head(1)"
   ]
  },
  {
   "cell_type": "code",
   "execution_count": 4,
   "metadata": {},
   "outputs": [
    {
     "data": {
      "text/html": [
       "<div>\n",
       "<style scoped>\n",
       "    .dataframe tbody tr th:only-of-type {\n",
       "        vertical-align: middle;\n",
       "    }\n",
       "\n",
       "    .dataframe tbody tr th {\n",
       "        vertical-align: top;\n",
       "    }\n",
       "\n",
       "    .dataframe thead th {\n",
       "        text-align: right;\n",
       "    }\n",
       "</style>\n",
       "<table border=\"1\" class=\"dataframe\">\n",
       "  <thead>\n",
       "    <tr style=\"text-align: right;\">\n",
       "      <th></th>\n",
       "      <th>측정일시</th>\n",
       "      <th>이산화질소</th>\n",
       "      <th>오존</th>\n",
       "      <th>일산화탄소</th>\n",
       "      <th>아황산</th>\n",
       "      <th>미세</th>\n",
       "      <th>초미세</th>\n",
       "    </tr>\n",
       "  </thead>\n",
       "  <tbody>\n",
       "    <tr>\n",
       "      <th>4303</th>\n",
       "      <td>20231211</td>\n",
       "      <td>0.015</td>\n",
       "      <td>0.0227</td>\n",
       "      <td>0.4</td>\n",
       "      <td>0.0024</td>\n",
       "      <td>7.2</td>\n",
       "      <td>3.0</td>\n",
       "    </tr>\n",
       "  </tbody>\n",
       "</table>\n",
       "</div>"
      ],
      "text/plain": [
       "          측정일시  이산화질소      오존  일산화탄소     아황산   미세  초미세\n",
       "4303  20231211  0.015  0.0227    0.4  0.0024  7.2  3.0"
      ]
     },
     "execution_count": 4,
     "metadata": {},
     "output_type": "execute_result"
    }
   ],
   "source": [
    "df.tail(1)"
   ]
  },
  {
   "cell_type": "code",
   "execution_count": 5,
   "metadata": {},
   "outputs": [],
   "source": [
    "df['측정일시'] = pd.to_datetime(df['측정일시'], format='%Y%m%d')"
   ]
  },
  {
   "cell_type": "code",
   "execution_count": 6,
   "metadata": {},
   "outputs": [
    {
     "data": {
      "text/html": [
       "<div>\n",
       "<style scoped>\n",
       "    .dataframe tbody tr th:only-of-type {\n",
       "        vertical-align: middle;\n",
       "    }\n",
       "\n",
       "    .dataframe tbody tr th {\n",
       "        vertical-align: top;\n",
       "    }\n",
       "\n",
       "    .dataframe thead th {\n",
       "        text-align: right;\n",
       "    }\n",
       "</style>\n",
       "<table border=\"1\" class=\"dataframe\">\n",
       "  <thead>\n",
       "    <tr style=\"text-align: right;\">\n",
       "      <th></th>\n",
       "      <th>측정일시</th>\n",
       "      <th>이산화질소</th>\n",
       "      <th>오존</th>\n",
       "      <th>일산화탄소</th>\n",
       "      <th>아황산</th>\n",
       "      <th>미세</th>\n",
       "      <th>초미세</th>\n",
       "    </tr>\n",
       "  </thead>\n",
       "  <tbody>\n",
       "    <tr>\n",
       "      <th>0</th>\n",
       "      <td>2012-01-01</td>\n",
       "      <td>0.031</td>\n",
       "      <td>0.008</td>\n",
       "      <td>1.17</td>\n",
       "      <td>0.0093</td>\n",
       "      <td>88.3</td>\n",
       "      <td>57.3</td>\n",
       "    </tr>\n",
       "  </tbody>\n",
       "</table>\n",
       "</div>"
      ],
      "text/plain": [
       "        측정일시  이산화질소     오존  일산화탄소     아황산    미세   초미세\n",
       "0 2012-01-01  0.031  0.008   1.17  0.0093  88.3  57.3"
      ]
     },
     "execution_count": 6,
     "metadata": {},
     "output_type": "execute_result"
    }
   ],
   "source": [
    "df.head(1)"
   ]
  },
  {
   "cell_type": "code",
   "execution_count": 7,
   "metadata": {},
   "outputs": [],
   "source": [
    "df = df.set_index('측정일시')"
   ]
  },
  {
   "cell_type": "code",
   "execution_count": 8,
   "metadata": {},
   "outputs": [
    {
     "data": {
      "text/plain": [
       "DatetimeIndex(['2012-01-01', '2012-01-02', '2012-01-03', '2012-01-04',\n",
       "               '2012-01-05', '2012-01-06', '2012-01-07', '2012-01-08',\n",
       "               '2012-01-09', '2012-01-10',\n",
       "               ...\n",
       "               '2023-12-02', '2023-12-03', '2023-12-04', '2023-12-05',\n",
       "               '2023-12-06', '2023-12-07', '2023-12-08', '2023-12-09',\n",
       "               '2023-12-10', '2023-12-11'],\n",
       "              dtype='datetime64[ns]', name='측정일시', length=4304, freq=None)"
      ]
     },
     "execution_count": 8,
     "metadata": {},
     "output_type": "execute_result"
    }
   ],
   "source": [
    "df.index"
   ]
  },
  {
   "cell_type": "code",
   "execution_count": 9,
   "metadata": {},
   "outputs": [
    {
     "data": {
      "text/plain": [
       "이산화질소    0\n",
       "오존       0\n",
       "일산화탄소    0\n",
       "아황산      0\n",
       "미세       0\n",
       "초미세      0\n",
       "dtype: int64"
      ]
     },
     "execution_count": 9,
     "metadata": {},
     "output_type": "execute_result"
    }
   ],
   "source": [
    "df.isna().sum()"
   ]
  },
  {
   "cell_type": "code",
   "execution_count": 9,
   "metadata": {},
   "outputs": [
    {
     "data": {
      "text/html": [
       "<div>\n",
       "<style scoped>\n",
       "    .dataframe tbody tr th:only-of-type {\n",
       "        vertical-align: middle;\n",
       "    }\n",
       "\n",
       "    .dataframe tbody tr th {\n",
       "        vertical-align: top;\n",
       "    }\n",
       "\n",
       "    .dataframe thead th {\n",
       "        text-align: right;\n",
       "    }\n",
       "</style>\n",
       "<table border=\"1\" class=\"dataframe\">\n",
       "  <thead>\n",
       "    <tr style=\"text-align: right;\">\n",
       "      <th></th>\n",
       "      <th>이산화질소</th>\n",
       "      <th>오존</th>\n",
       "      <th>일산화탄소</th>\n",
       "      <th>아황산</th>\n",
       "      <th>미세</th>\n",
       "      <th>초미세</th>\n",
       "    </tr>\n",
       "    <tr>\n",
       "      <th>측정일시</th>\n",
       "      <th></th>\n",
       "      <th></th>\n",
       "      <th></th>\n",
       "      <th></th>\n",
       "      <th></th>\n",
       "      <th></th>\n",
       "    </tr>\n",
       "  </thead>\n",
       "  <tbody>\n",
       "    <tr>\n",
       "      <th>2012-01-01</th>\n",
       "      <td>0.031</td>\n",
       "      <td>0.0080</td>\n",
       "      <td>1.17</td>\n",
       "      <td>0.0093</td>\n",
       "      <td>88.3</td>\n",
       "      <td>57.3</td>\n",
       "    </tr>\n",
       "    <tr>\n",
       "      <th>2012-01-02</th>\n",
       "      <td>0.036</td>\n",
       "      <td>0.0050</td>\n",
       "      <td>1.20</td>\n",
       "      <td>0.0087</td>\n",
       "      <td>100.0</td>\n",
       "      <td>62.7</td>\n",
       "    </tr>\n",
       "    <tr>\n",
       "      <th>2012-01-03</th>\n",
       "      <td>0.041</td>\n",
       "      <td>0.0063</td>\n",
       "      <td>1.27</td>\n",
       "      <td>0.0073</td>\n",
       "      <td>96.0</td>\n",
       "      <td>63.0</td>\n",
       "    </tr>\n",
       "    <tr>\n",
       "      <th>2012-01-04</th>\n",
       "      <td>0.024</td>\n",
       "      <td>0.0130</td>\n",
       "      <td>0.83</td>\n",
       "      <td>0.0103</td>\n",
       "      <td>70.3</td>\n",
       "      <td>42.0</td>\n",
       "    </tr>\n",
       "    <tr>\n",
       "      <th>2012-01-05</th>\n",
       "      <td>0.037</td>\n",
       "      <td>0.0073</td>\n",
       "      <td>0.77</td>\n",
       "      <td>0.0063</td>\n",
       "      <td>53.3</td>\n",
       "      <td>29.3</td>\n",
       "    </tr>\n",
       "    <tr>\n",
       "      <th>...</th>\n",
       "      <td>...</td>\n",
       "      <td>...</td>\n",
       "      <td>...</td>\n",
       "      <td>...</td>\n",
       "      <td>...</td>\n",
       "      <td>...</td>\n",
       "    </tr>\n",
       "    <tr>\n",
       "      <th>2023-12-07</th>\n",
       "      <td>0.026</td>\n",
       "      <td>0.0184</td>\n",
       "      <td>0.50</td>\n",
       "      <td>0.0033</td>\n",
       "      <td>62.2</td>\n",
       "      <td>16.5</td>\n",
       "    </tr>\n",
       "    <tr>\n",
       "      <th>2023-12-08</th>\n",
       "      <td>0.029</td>\n",
       "      <td>0.0300</td>\n",
       "      <td>0.56</td>\n",
       "      <td>0.0031</td>\n",
       "      <td>84.2</td>\n",
       "      <td>22.8</td>\n",
       "    </tr>\n",
       "    <tr>\n",
       "      <th>2023-12-09</th>\n",
       "      <td>0.027</td>\n",
       "      <td>0.0379</td>\n",
       "      <td>0.61</td>\n",
       "      <td>0.0029</td>\n",
       "      <td>72.3</td>\n",
       "      <td>30.7</td>\n",
       "    </tr>\n",
       "    <tr>\n",
       "      <th>2023-12-10</th>\n",
       "      <td>0.025</td>\n",
       "      <td>0.0209</td>\n",
       "      <td>0.67</td>\n",
       "      <td>0.0029</td>\n",
       "      <td>80.2</td>\n",
       "      <td>35.6</td>\n",
       "    </tr>\n",
       "    <tr>\n",
       "      <th>2023-12-11</th>\n",
       "      <td>0.015</td>\n",
       "      <td>0.0227</td>\n",
       "      <td>0.40</td>\n",
       "      <td>0.0024</td>\n",
       "      <td>7.2</td>\n",
       "      <td>3.0</td>\n",
       "    </tr>\n",
       "  </tbody>\n",
       "</table>\n",
       "<p>4304 rows × 6 columns</p>\n",
       "</div>"
      ],
      "text/plain": [
       "            이산화질소      오존  일산화탄소     아황산     미세   초미세\n",
       "측정일시                                                 \n",
       "2012-01-01  0.031  0.0080   1.17  0.0093   88.3  57.3\n",
       "2012-01-02  0.036  0.0050   1.20  0.0087  100.0  62.7\n",
       "2012-01-03  0.041  0.0063   1.27  0.0073   96.0  63.0\n",
       "2012-01-04  0.024  0.0130   0.83  0.0103   70.3  42.0\n",
       "2012-01-05  0.037  0.0073   0.77  0.0063   53.3  29.3\n",
       "...           ...     ...    ...     ...    ...   ...\n",
       "2023-12-07  0.026  0.0184   0.50  0.0033   62.2  16.5\n",
       "2023-12-08  0.029  0.0300   0.56  0.0031   84.2  22.8\n",
       "2023-12-09  0.027  0.0379   0.61  0.0029   72.3  30.7\n",
       "2023-12-10  0.025  0.0209   0.67  0.0029   80.2  35.6\n",
       "2023-12-11  0.015  0.0227   0.40  0.0024    7.2   3.0\n",
       "\n",
       "[4304 rows x 6 columns]"
      ]
     },
     "execution_count": 9,
     "metadata": {},
     "output_type": "execute_result"
    }
   ],
   "source": [
    "df"
   ]
  },
  {
   "cell_type": "code",
   "execution_count": null,
   "metadata": {},
   "outputs": [
    {
     "data": {
      "text/html": [
       "<div>\n",
       "<style scoped>\n",
       "    .dataframe tbody tr th:only-of-type {\n",
       "        vertical-align: middle;\n",
       "    }\n",
       "\n",
       "    .dataframe tbody tr th {\n",
       "        vertical-align: top;\n",
       "    }\n",
       "\n",
       "    .dataframe thead th {\n",
       "        text-align: right;\n",
       "    }\n",
       "</style>\n",
       "<table border=\"1\" class=\"dataframe\">\n",
       "  <thead>\n",
       "    <tr style=\"text-align: right;\">\n",
       "      <th></th>\n",
       "      <th>이산화질소</th>\n",
       "      <th>오존</th>\n",
       "      <th>일산화탄소</th>\n",
       "      <th>아황산</th>\n",
       "      <th>미세</th>\n",
       "      <th>초미세</th>\n",
       "    </tr>\n",
       "    <tr>\n",
       "      <th>측정일시</th>\n",
       "      <th></th>\n",
       "      <th></th>\n",
       "      <th></th>\n",
       "      <th></th>\n",
       "      <th></th>\n",
       "      <th></th>\n",
       "    </tr>\n",
       "  </thead>\n",
       "  <tbody>\n",
       "    <tr>\n",
       "      <th>2012-01-01</th>\n",
       "      <td>0.036</td>\n",
       "      <td>0.009</td>\n",
       "      <td>1.0</td>\n",
       "      <td>0.01</td>\n",
       "      <td>83.0</td>\n",
       "      <td>57.0</td>\n",
       "    </tr>\n",
       "  </tbody>\n",
       "</table>\n",
       "</div>"
      ],
      "text/plain": [
       "            이산화질소     오존  일산화탄소   아황산    미세   초미세\n",
       "측정일시                                             \n",
       "2012-01-01  0.036  0.009    1.0  0.01  83.0  57.0"
      ]
     },
     "execution_count": 15,
     "metadata": {},
     "output_type": "execute_result"
    }
   ],
   "source": [
    "df.head(1)"
   ]
  },
  {
   "cell_type": "code",
   "execution_count": null,
   "metadata": {},
   "outputs": [
    {
     "data": {
      "text/plain": [
       "Index(['Unnamed: 0', '이산화질소', '오존', '일산화탄소', '아황산', '미세', '초미세'], dtype='object')"
      ]
     },
     "execution_count": 28,
     "metadata": {},
     "output_type": "execute_result"
    }
   ],
   "source": [
    "df.columns"
   ]
  },
  {
   "cell_type": "code",
   "execution_count": 1,
   "metadata": {},
   "outputs": [
    {
     "name": "stdout",
     "output_type": "stream",
     "text": [
      "WARNING:tensorflow:From c:\\Users\\th\\anaconda3\\Lib\\site-packages\\keras\\src\\losses.py:2976: The name tf.losses.sparse_softmax_cross_entropy is deprecated. Please use tf.compat.v1.losses.sparse_softmax_cross_entropy instead.\n",
      "\n"
     ]
    }
   ],
   "source": [
    "import numpy as np\n",
    "import pandas as pd\n",
    "from sklearn.preprocessing import MinMaxScaler\n",
    "from tensorflow.keras.models import Sequential\n",
    "from tensorflow.keras.layers import LSTM, Dense\n",
    "from tensorflow.keras.optimizers import Adam\n",
    "from sklearn.preprocessing import StandardScaler\n",
    "import matplotlib.pyplot as plt\n",
    "from keras.preprocessing.sequence import TimeseriesGenerator"
   ]
  },
  {
   "cell_type": "code",
   "execution_count": 27,
   "metadata": {},
   "outputs": [
    {
     "data": {
      "text/plain": [
       "Index(['이산화질소', '오존', '일산화탄소', '아황산', '미세', '초미세'], dtype='object')"
      ]
     },
     "execution_count": 27,
     "metadata": {},
     "output_type": "execute_result"
    }
   ],
   "source": [
    "df.columns"
   ]
  },
  {
   "cell_type": "code",
   "execution_count": 45,
   "metadata": {},
   "outputs": [],
   "source": [
    "from sklearn.preprocessing import MinMaxScaler\n",
    "\n",
    "# 피쳐 및 타겟 분리\n",
    "features = df[['이산화질소', '오존', '일산화탄소', '아황산', '초미세']]\n",
    "target = df['미세']\n",
    "\n",
    "# 피쳐 스케일링\n",
    "scaler_features = MinMaxScaler()\n",
    "features_scaled = scaler_features.fit_transform(features)\n",
    "\n",
    "# 타겟 스케일링\n",
    "scaler_target = MinMaxScaler()\n",
    "target_scaled = scaler_target.fit_transform(target.values.reshape(-1, 1))\n"
   ]
  },
  {
   "cell_type": "code",
   "execution_count": 25,
   "metadata": {},
   "outputs": [],
   "source": [
    "from keras.preprocessing.sequence import TimeseriesGenerator\n",
    "\n",
    "n_input = 30\n",
    "n_features = features.shape[1]\n",
    "generator = TimeseriesGenerator(features_scaled, target_scaled, length=n_input, batch_size=1)\n"
   ]
  },
  {
   "cell_type": "code",
   "execution_count": 47,
   "metadata": {},
   "outputs": [],
   "source": [
    "from keras.models import Sequential\n",
    "from keras.layers import LSTM, Dense\n",
    "from keras.callbacks import EarlyStopping\n",
    "\n",
    "# LSTM 모델 구축\n",
    "model = Sequential()\n",
    "model.add(LSTM(50, activation='relu', input_shape=(n_input, n_features)))\n",
    "model.add(Dense(1))\n",
    "model.compile(optimizer='adam', loss='mse')\n",
    "\n",
    "# EarlyStopping 콜백 설정 조기종료\n",
    "early_stopping = EarlyStopping(monitor='loss', patience=10)\n"
   ]
  },
  {
   "cell_type": "code",
   "execution_count": 48,
   "metadata": {},
   "outputs": [
    {
     "name": "stdout",
     "output_type": "stream",
     "text": [
      "Epoch 1/100\n"
     ]
    },
    {
     "name": "stdout",
     "output_type": "stream",
     "text": [
      "4274/4274 [==============================] - 30s 7ms/step - loss: 0.0019\n",
      "Epoch 2/100\n",
      "4274/4274 [==============================] - 29s 7ms/step - loss: 0.0016\n",
      "Epoch 3/100\n",
      "4274/4274 [==============================] - 29s 7ms/step - loss: 0.0016\n",
      "Epoch 4/100\n",
      "4274/4274 [==============================] - 29s 7ms/step - loss: 0.0016\n",
      "Epoch 5/100\n",
      "4274/4274 [==============================] - 29s 7ms/step - loss: 0.0016\n",
      "Epoch 6/100\n",
      "4274/4274 [==============================] - 30s 7ms/step - loss: 0.0016\n",
      "Epoch 7/100\n",
      "4274/4274 [==============================] - 30s 7ms/step - loss: 0.0016\n",
      "Epoch 8/100\n",
      "4274/4274 [==============================] - 29s 7ms/step - loss: 0.0015\n",
      "Epoch 9/100\n",
      "4274/4274 [==============================] - 29s 7ms/step - loss: 0.0015\n",
      "Epoch 10/100\n",
      "4274/4274 [==============================] - 29s 7ms/step - loss: 0.0015\n",
      "Epoch 11/100\n",
      "4274/4274 [==============================] - 29s 7ms/step - loss: 0.0015\n",
      "Epoch 12/100\n",
      "4274/4274 [==============================] - 29s 7ms/step - loss: 0.0015\n",
      "Epoch 13/100\n",
      "4274/4274 [==============================] - 29s 7ms/step - loss: 0.0015\n",
      "Epoch 14/100\n",
      "4274/4274 [==============================] - 29s 7ms/step - loss: 0.0015\n",
      "Epoch 15/100\n",
      "4274/4274 [==============================] - 30s 7ms/step - loss: 0.0015\n",
      "Epoch 16/100\n",
      "4274/4274 [==============================] - 29s 7ms/step - loss: 0.0015\n",
      "Epoch 17/100\n",
      "4274/4274 [==============================] - 29s 7ms/step - loss: 0.0015\n",
      "Epoch 18/100\n",
      "4274/4274 [==============================] - 29s 7ms/step - loss: 0.0015\n",
      "Epoch 19/100\n",
      "4274/4274 [==============================] - 29s 7ms/step - loss: 0.0015\n",
      "Epoch 20/100\n",
      "4274/4274 [==============================] - 29s 7ms/step - loss: 0.0015\n",
      "Epoch 21/100\n",
      "4274/4274 [==============================] - 29s 7ms/step - loss: 0.0015\n",
      "Epoch 22/100\n",
      "4274/4274 [==============================] - 29s 7ms/step - loss: 0.0014\n",
      "Epoch 23/100\n",
      "4274/4274 [==============================] - 29s 7ms/step - loss: 0.0015\n",
      "Epoch 24/100\n",
      "4274/4274 [==============================] - 29s 7ms/step - loss: 0.0014\n",
      "Epoch 25/100\n",
      "4274/4274 [==============================] - 29s 7ms/step - loss: 0.0014\n",
      "Epoch 26/100\n",
      "4274/4274 [==============================] - 29s 7ms/step - loss: 0.0014\n",
      "Epoch 27/100\n",
      "4274/4274 [==============================] - 31s 7ms/step - loss: 0.0014\n",
      "Epoch 28/100\n",
      "4274/4274 [==============================] - 29s 7ms/step - loss: 0.0014\n",
      "Epoch 29/100\n",
      "4274/4274 [==============================] - 29s 7ms/step - loss: 0.0014\n",
      "Epoch 30/100\n",
      "4274/4274 [==============================] - 29s 7ms/step - loss: 0.0014\n",
      "Epoch 31/100\n",
      "4274/4274 [==============================] - 29s 7ms/step - loss: 0.0014\n",
      "Epoch 32/100\n",
      "4274/4274 [==============================] - 30s 7ms/step - loss: 0.0014\n",
      "Epoch 33/100\n",
      "4274/4274 [==============================] - 29s 7ms/step - loss: 0.0014\n",
      "Epoch 34/100\n",
      "4274/4274 [==============================] - 29s 7ms/step - loss: 0.0014\n",
      "Epoch 35/100\n",
      "4274/4274 [==============================] - 29s 7ms/step - loss: 0.0014\n",
      "Epoch 36/100\n",
      "4274/4274 [==============================] - 29s 7ms/step - loss: 0.0014\n",
      "Epoch 37/100\n",
      "4274/4274 [==============================] - 30s 7ms/step - loss: 0.0014\n",
      "Epoch 38/100\n",
      "4274/4274 [==============================] - 30s 7ms/step - loss: 0.0014\n",
      "Epoch 39/100\n",
      "4274/4274 [==============================] - 30s 7ms/step - loss: 0.0014\n",
      "Epoch 40/100\n",
      "4274/4274 [==============================] - 30s 7ms/step - loss: 0.0013\n",
      "Epoch 41/100\n",
      "4274/4274 [==============================] - 28s 7ms/step - loss: 0.0013\n",
      "Epoch 42/100\n",
      "4274/4274 [==============================] - 28s 7ms/step - loss: 0.0013\n",
      "Epoch 43/100\n",
      "4274/4274 [==============================] - 30s 7ms/step - loss: 0.0013\n",
      "Epoch 44/100\n",
      "4274/4274 [==============================] - 29s 7ms/step - loss: 0.0013\n",
      "Epoch 45/100\n",
      "4274/4274 [==============================] - 29s 7ms/step - loss: 0.0013\n",
      "Epoch 46/100\n",
      "4274/4274 [==============================] - 30s 7ms/step - loss: 0.0013\n",
      "Epoch 47/100\n",
      "4274/4274 [==============================] - 29s 7ms/step - loss: 0.0013\n",
      "Epoch 48/100\n",
      "4274/4274 [==============================] - 28s 7ms/step - loss: 0.0013\n",
      "Epoch 49/100\n",
      "4274/4274 [==============================] - 29s 7ms/step - loss: 0.0013\n",
      "Epoch 50/100\n",
      "4274/4274 [==============================] - 29s 7ms/step - loss: 0.0013\n",
      "Epoch 51/100\n",
      "4274/4274 [==============================] - 29s 7ms/step - loss: 0.0013\n",
      "Epoch 52/100\n",
      "4274/4274 [==============================] - 30s 7ms/step - loss: 0.0013\n",
      "Epoch 53/100\n",
      "4274/4274 [==============================] - 28s 7ms/step - loss: 0.0013\n",
      "Epoch 54/100\n",
      "4274/4274 [==============================] - 28s 7ms/step - loss: 0.0013\n",
      "Epoch 55/100\n",
      "4274/4274 [==============================] - 28s 7ms/step - loss: 0.0013\n",
      "Epoch 56/100\n",
      "4274/4274 [==============================] - 29s 7ms/step - loss: 0.0013\n",
      "Epoch 57/100\n",
      "4274/4274 [==============================] - 28s 6ms/step - loss: 0.0013\n",
      "Epoch 58/100\n",
      "4274/4274 [==============================] - 28s 7ms/step - loss: 0.0013\n",
      "Epoch 59/100\n",
      "4274/4274 [==============================] - 27s 6ms/step - loss: 0.0013\n",
      "Epoch 60/100\n",
      "4274/4274 [==============================] - 28s 7ms/step - loss: 0.0013\n",
      "Epoch 61/100\n",
      "4274/4274 [==============================] - 29s 7ms/step - loss: 0.0013\n",
      "Epoch 62/100\n",
      "4274/4274 [==============================] - 29s 7ms/step - loss: 0.0013\n",
      "Epoch 63/100\n",
      "4274/4274 [==============================] - 29s 7ms/step - loss: 0.0013\n",
      "Epoch 64/100\n",
      "4274/4274 [==============================] - 28s 6ms/step - loss: 0.0013\n",
      "Epoch 65/100\n",
      "4274/4274 [==============================] - 27s 6ms/step - loss: 0.0013\n",
      "Epoch 66/100\n",
      "4274/4274 [==============================] - 27s 6ms/step - loss: 0.0013\n",
      "Epoch 67/100\n",
      "4274/4274 [==============================] - 27s 6ms/step - loss: 0.0013\n",
      "Epoch 68/100\n",
      "4274/4274 [==============================] - 28s 6ms/step - loss: 0.0013\n",
      "Epoch 69/100\n",
      "4274/4274 [==============================] - 27s 6ms/step - loss: 0.0013\n",
      "Epoch 70/100\n",
      "4274/4274 [==============================] - 27s 6ms/step - loss: 0.0013\n",
      "Epoch 71/100\n",
      "4274/4274 [==============================] - 28s 6ms/step - loss: 0.0013\n",
      "Epoch 72/100\n",
      "4274/4274 [==============================] - 27s 6ms/step - loss: 0.0013\n",
      "Epoch 73/100\n",
      "4274/4274 [==============================] - 27s 6ms/step - loss: 0.0013\n",
      "Epoch 74/100\n",
      "4274/4274 [==============================] - 27s 6ms/step - loss: 0.0013\n",
      "Epoch 75/100\n",
      "4274/4274 [==============================] - 27s 6ms/step - loss: 0.0013\n",
      "Epoch 76/100\n",
      "4274/4274 [==============================] - 27s 6ms/step - loss: 0.0013\n",
      "Epoch 77/100\n",
      "4274/4274 [==============================] - 27s 6ms/step - loss: 0.0013\n",
      "Epoch 78/100\n",
      "4274/4274 [==============================] - 27s 6ms/step - loss: 0.0013\n",
      "Epoch 79/100\n",
      "4274/4274 [==============================] - 28s 6ms/step - loss: 0.0013\n",
      "Epoch 80/100\n",
      "4274/4274 [==============================] - 27s 6ms/step - loss: 0.0013\n",
      "Epoch 81/100\n",
      "4274/4274 [==============================] - 27s 6ms/step - loss: 0.0013\n",
      "Epoch 82/100\n",
      "4274/4274 [==============================] - 29s 7ms/step - loss: 0.0013\n",
      "Epoch 83/100\n",
      "4274/4274 [==============================] - 29s 7ms/step - loss: 0.0012\n",
      "Epoch 84/100\n",
      "4274/4274 [==============================] - 29s 7ms/step - loss: 0.0013\n",
      "Epoch 85/100\n",
      "4274/4274 [==============================] - 28s 7ms/step - loss: 0.0013\n",
      "Epoch 86/100\n",
      "4274/4274 [==============================] - 29s 7ms/step - loss: 0.0012\n",
      "Epoch 87/100\n",
      "4274/4274 [==============================] - 30s 7ms/step - loss: 0.0013\n",
      "Epoch 88/100\n",
      "4274/4274 [==============================] - 30s 7ms/step - loss: 0.0012\n",
      "Epoch 89/100\n",
      "4274/4274 [==============================] - 29s 7ms/step - loss: 0.0012\n",
      "Epoch 90/100\n",
      "4274/4274 [==============================] - 29s 7ms/step - loss: 0.0012\n",
      "Epoch 91/100\n",
      "4274/4274 [==============================] - 29s 7ms/step - loss: 0.0012\n",
      "Epoch 92/100\n",
      "4274/4274 [==============================] - 29s 7ms/step - loss: 0.0012\n",
      "Epoch 93/100\n",
      "4274/4274 [==============================] - 29s 7ms/step - loss: 0.0012\n",
      "Epoch 94/100\n",
      "4274/4274 [==============================] - 30s 7ms/step - loss: 0.0012\n",
      "Epoch 95/100\n",
      "4274/4274 [==============================] - 29s 7ms/step - loss: 0.0012\n",
      "Epoch 96/100\n",
      "4274/4274 [==============================] - 29s 7ms/step - loss: 0.0012\n",
      "Epoch 97/100\n",
      "4274/4274 [==============================] - 30s 7ms/step - loss: 0.0012\n",
      "Epoch 98/100\n",
      "4274/4274 [==============================] - 29s 7ms/step - loss: 0.0012\n",
      "Epoch 99/100\n",
      "4274/4274 [==============================] - 29s 7ms/step - loss: 0.0012\n",
      "Epoch 100/100\n",
      "4274/4274 [==============================] - 29s 7ms/step - loss: 0.0012\n"
     ]
    },
    {
     "data": {
      "text/plain": [
       "<keras.src.callbacks.History at 0x1e757d86190>"
      ]
     },
     "execution_count": 48,
     "metadata": {},
     "output_type": "execute_result"
    }
   ],
   "source": [
    "# 모델 훈련 with EarlyStopping\n",
    "model.fit(generator, epochs=100, callbacks=[early_stopping])\n"
   ]
  },
  {
   "cell_type": "code",
   "execution_count": 33,
   "metadata": {},
   "outputs": [
    {
     "data": {
      "text/html": [
       "<div>\n",
       "<style scoped>\n",
       "    .dataframe tbody tr th:only-of-type {\n",
       "        vertical-align: middle;\n",
       "    }\n",
       "\n",
       "    .dataframe tbody tr th {\n",
       "        vertical-align: top;\n",
       "    }\n",
       "\n",
       "    .dataframe thead th {\n",
       "        text-align: right;\n",
       "    }\n",
       "</style>\n",
       "<table border=\"1\" class=\"dataframe\">\n",
       "  <thead>\n",
       "    <tr style=\"text-align: right;\">\n",
       "      <th></th>\n",
       "      <th>이산화질소</th>\n",
       "      <th>오존</th>\n",
       "      <th>일산화탄소</th>\n",
       "      <th>아황산</th>\n",
       "      <th>미세</th>\n",
       "      <th>초미세</th>\n",
       "    </tr>\n",
       "    <tr>\n",
       "      <th>측정일시</th>\n",
       "      <th></th>\n",
       "      <th></th>\n",
       "      <th></th>\n",
       "      <th></th>\n",
       "      <th></th>\n",
       "      <th></th>\n",
       "    </tr>\n",
       "  </thead>\n",
       "  <tbody>\n",
       "    <tr>\n",
       "      <th>2023-12-07</th>\n",
       "      <td>0.026</td>\n",
       "      <td>0.0184</td>\n",
       "      <td>0.50</td>\n",
       "      <td>0.0033</td>\n",
       "      <td>62.2</td>\n",
       "      <td>16.5</td>\n",
       "    </tr>\n",
       "    <tr>\n",
       "      <th>2023-12-08</th>\n",
       "      <td>0.029</td>\n",
       "      <td>0.0300</td>\n",
       "      <td>0.56</td>\n",
       "      <td>0.0031</td>\n",
       "      <td>84.2</td>\n",
       "      <td>22.8</td>\n",
       "    </tr>\n",
       "    <tr>\n",
       "      <th>2023-12-09</th>\n",
       "      <td>0.027</td>\n",
       "      <td>0.0379</td>\n",
       "      <td>0.61</td>\n",
       "      <td>0.0029</td>\n",
       "      <td>72.3</td>\n",
       "      <td>30.7</td>\n",
       "    </tr>\n",
       "    <tr>\n",
       "      <th>2023-12-10</th>\n",
       "      <td>0.025</td>\n",
       "      <td>0.0209</td>\n",
       "      <td>0.67</td>\n",
       "      <td>0.0029</td>\n",
       "      <td>80.2</td>\n",
       "      <td>35.6</td>\n",
       "    </tr>\n",
       "    <tr>\n",
       "      <th>2023-12-11</th>\n",
       "      <td>0.015</td>\n",
       "      <td>0.0227</td>\n",
       "      <td>0.40</td>\n",
       "      <td>0.0024</td>\n",
       "      <td>7.2</td>\n",
       "      <td>3.0</td>\n",
       "    </tr>\n",
       "  </tbody>\n",
       "</table>\n",
       "</div>"
      ],
      "text/plain": [
       "            이산화질소      오존  일산화탄소     아황산    미세   초미세\n",
       "측정일시                                                \n",
       "2023-12-07  0.026  0.0184   0.50  0.0033  62.2  16.5\n",
       "2023-12-08  0.029  0.0300   0.56  0.0031  84.2  22.8\n",
       "2023-12-09  0.027  0.0379   0.61  0.0029  72.3  30.7\n",
       "2023-12-10  0.025  0.0209   0.67  0.0029  80.2  35.6\n",
       "2023-12-11  0.015  0.0227   0.40  0.0024   7.2   3.0"
      ]
     },
     "execution_count": 33,
     "metadata": {},
     "output_type": "execute_result"
    }
   ],
   "source": [
    "df.tail()"
   ]
  },
  {
   "cell_type": "code",
   "execution_count": 49,
   "metadata": {},
   "outputs": [
    {
     "name": "stdout",
     "output_type": "stream",
     "text": [
      "4274/4274 [==============================] - 11s 2ms/step\n",
      "R^2 Score: 0.5005735436162553\n"
     ]
    }
   ],
   "source": [
    "from sklearn.metrics import r2_score\n",
    "\n",
    "# 테스트 데이터셋 준비 (예시)\n",
    "# 이 부분은 실제 데이터셋과 상황에 맞게 조정해야 합니다.\n",
    "# test_features_scaled, test_target_scaled는 테스트 데이터의 스케일된 피쳐와 타겟입니다.\n",
    "test_generator = TimeseriesGenerator(features_scaled , target_scaled, length=n_input, batch_size=1)\n",
    "\n",
    "# 테스트 데이터셋에 대한 예측 수행\n",
    "test_predictions = model.predict(test_generator)\n",
    "\n",
    "# 예측값 역 스케일링\n",
    "test_predictions_inverse = scaler_target.inverse_transform(test_predictions)\n",
    "\n",
    "# 실제 타겟 값 역 스케일링\n",
    "actual_target = scaler_target.inverse_transform(target_scaled[n_input:])\n",
    "\n",
    "# R^2 값 계산\n",
    "r2 = r2_score(actual_target, test_predictions_inverse)\n",
    "print(f'R^2 Score: {r2}')\n"
   ]
  },
  {
   "cell_type": "code",
   "execution_count": 51,
   "metadata": {},
   "outputs": [
    {
     "name": "stdout",
     "output_type": "stream",
     "text": [
      "[[15.164758]]\n"
     ]
    }
   ],
   "source": [
    "# 최근 데이터를 사용한 예측\n",
    "x_input = features_scaled[-n_input:]\n",
    "x_input = x_input.reshape((1, n_input, n_features))\n",
    "predicted = model.predict(x_input, verbose=0)\n",
    "\n",
    "# 예측값 역 스케일링\n",
    "predicted_inverse = scaler_target.inverse_transform(predicted)\n",
    "print(predicted_inverse)\n"
   ]
  },
  {
   "cell_type": "code",
   "execution_count": 52,
   "metadata": {},
   "outputs": [],
   "source": [
    "model.save('model/a/pm10_model.h5')"
   ]
  },
  {
   "cell_type": "code",
   "execution_count": 10,
   "metadata": {},
   "outputs": [],
   "source": [
    "from keras.models import load_model\n",
    "\n",
    "# 저장된 모델 불러오기\n",
    "model_pm10 = load_model('model/a/pm10_model.h5')\n",
    "model_pm25 = load_model('model/a/pm25_model.h5')"
   ]
  },
  {
   "cell_type": "code",
   "execution_count": 26,
   "metadata": {},
   "outputs": [
    {
     "name": "stdout",
     "output_type": "stream",
     "text": [
      "1/1 [==============================] - 0s 164ms/step\n",
      "[[15.164758]]\n"
     ]
    }
   ],
   "source": [
    "# 마지막 n_input 일의 데이터 선택\n",
    "recent_data = features[-n_input:]\n",
    "\n",
    "# 데이터 스케일링\n",
    "recent_data_scaled = scaler_features.transform(recent_data)\n",
    "\n",
    "# 모델 입력 형태에 맞게 조정\n",
    "recent_data_scaled = recent_data_scaled.reshape((1, n_input, n_features))\n",
    "\n",
    "# 모델로 하루 뒤 값 예측\n",
    "predicted_next_day = model_pm10.predict(recent_data_scaled)\n",
    "\n",
    "# 예측값 역 스케일링\n",
    "predicted_next_day_inverse = scaler_target.inverse_transform(predicted_next_day)\n",
    "\n",
    "# 예측 결과 출력\n",
    "print(predicted_next_day_inverse)\n"
   ]
  },
  {
   "cell_type": "code",
   "execution_count": 27,
   "metadata": {},
   "outputs": [
    {
     "name": "stdout",
     "output_type": "stream",
     "text": [
      "Epoch 1/100\n",
      "4274/4274 [==============================] - 30s 7ms/step - loss: 0.0043\n",
      "Epoch 2/100\n",
      "3285/4274 [======================>.......] - ETA: 6s - loss: 0.0036"
     ]
    }
   ],
   "source": [
    "# 피쳐 및 타겟 분리\n",
    "features = df[['이산화질소', '오존', '일산화탄소','미세', '초미세']]\n",
    "target = df['아황산']\n",
    "\n",
    "# 피쳐 스케일링\n",
    "scaler_features = MinMaxScaler()\n",
    "features_scaled = scaler_features.fit_transform(features)\n",
    "\n",
    "# 타겟 스케일링\n",
    "scaler_target = MinMaxScaler()\n",
    "target_scaled = scaler_target.fit_transform(target.values.reshape(-1, 1))\n",
    "\n",
    "from keras.preprocessing.sequence import TimeseriesGenerator\n",
    "\n",
    "n_input = 30\n",
    "n_features = features.shape[1]\n",
    "generator = TimeseriesGenerator(features_scaled, target_scaled, length=n_input, batch_size=1)\n",
    "\n",
    "from keras.models import Sequential\n",
    "from keras.layers import LSTM, Dense\n",
    "from keras.callbacks import EarlyStopping\n",
    "\n",
    "# LSTM 모델 구축\n",
    "model = Sequential()\n",
    "model.add(LSTM(50, activation='relu', input_shape=(n_input, n_features)))\n",
    "model.add(Dense(1))\n",
    "model.compile(optimizer='adam', loss='mse')\n",
    "\n",
    "# EarlyStopping 콜백 설정 조기종료\n",
    "early_stopping = EarlyStopping(monitor='loss', patience=10)\n",
    "\n",
    "# 모델 훈련 with EarlyStopping\n",
    "model.fit(generator, epochs=100, callbacks=[early_stopping])"
   ]
  },
  {
   "cell_type": "code",
   "execution_count": 4,
   "metadata": {},
   "outputs": [],
   "source": [
    "from sklearn.preprocessing import MinMaxScaler\n",
    "\n",
    "# 피쳐 및 타겟 분리\n",
    "features = df[['이산화질소', '오존', '일산화탄소', '아황산','미세']]\n",
    "target = df['초미세']\n",
    "\n",
    "# 피쳐 스케일링\n",
    "scaler_features = MinMaxScaler()\n",
    "features_scaled = scaler_features.fit_transform(features)\n",
    "\n",
    "# 타겟 스케일링\n",
    "scaler_target = MinMaxScaler()\n",
    "target_scaled = scaler_target.fit_transform(target.values.reshape(-1, 1))"
   ]
  },
  {
   "cell_type": "code",
   "execution_count": 5,
   "metadata": {},
   "outputs": [],
   "source": [
    "from keras.preprocessing.sequence import TimeseriesGenerator\n",
    "\n",
    "n_input = 30\n",
    "n_features = features.shape[1]\n",
    "generator = TimeseriesGenerator(features_scaled, target_scaled, length=n_input, batch_size=1)"
   ]
  },
  {
   "cell_type": "code",
   "execution_count": 6,
   "metadata": {},
   "outputs": [
    {
     "name": "stdout",
     "output_type": "stream",
     "text": [
      "WARNING:tensorflow:From c:\\Users\\th\\anaconda3\\Lib\\site-packages\\keras\\src\\backend.py:873: The name tf.get_default_graph is deprecated. Please use tf.compat.v1.get_default_graph instead.\n",
      "\n",
      "WARNING:tensorflow:From c:\\Users\\th\\anaconda3\\Lib\\site-packages\\keras\\src\\optimizers\\__init__.py:309: The name tf.train.Optimizer is deprecated. Please use tf.compat.v1.train.Optimizer instead.\n",
      "\n"
     ]
    }
   ],
   "source": [
    "from keras.models import Sequential\n",
    "from keras.layers import LSTM, Dense\n",
    "from keras.callbacks import EarlyStopping\n",
    "\n",
    "# LSTM 모델 구축\n",
    "model = Sequential()\n",
    "model.add(LSTM(50, activation='relu', input_shape=(n_input, n_features)))\n",
    "model.add(Dense(1))\n",
    "model.compile(optimizer='adam', loss='mse')\n",
    "\n",
    "# EarlyStopping 콜백 설정 조기종료\n",
    "early_stopping = EarlyStopping(monitor='loss', patience=10)"
   ]
  },
  {
   "cell_type": "code",
   "execution_count": 7,
   "metadata": {},
   "outputs": [
    {
     "name": "stdout",
     "output_type": "stream",
     "text": [
      "Epoch 1/100\n",
      "WARNING:tensorflow:From c:\\Users\\th\\anaconda3\\Lib\\site-packages\\keras\\src\\utils\\tf_utils.py:492: The name tf.ragged.RaggedTensorValue is deprecated. Please use tf.compat.v1.ragged.RaggedTensorValue instead.\n",
      "\n",
      "4274/4274 [==============================] - 16s 4ms/step - loss: 0.0072\n",
      "Epoch 2/100\n",
      "4274/4274 [==============================] - 16s 4ms/step - loss: 0.0062\n",
      "Epoch 3/100\n",
      "4274/4274 [==============================] - 16s 4ms/step - loss: 0.0061\n",
      "Epoch 4/100\n",
      "4274/4274 [==============================] - 16s 4ms/step - loss: 0.0061\n",
      "Epoch 5/100\n",
      "4274/4274 [==============================] - 16s 4ms/step - loss: 0.0060\n",
      "Epoch 6/100\n",
      "4274/4274 [==============================] - 16s 4ms/step - loss: 0.0060\n",
      "Epoch 7/100\n",
      "4274/4274 [==============================] - 16s 4ms/step - loss: 0.0060\n",
      "Epoch 8/100\n",
      "4274/4274 [==============================] - 16s 4ms/step - loss: 0.0059\n",
      "Epoch 9/100\n",
      "4274/4274 [==============================] - 16s 4ms/step - loss: 0.0059\n",
      "Epoch 10/100\n",
      "4274/4274 [==============================] - 16s 4ms/step - loss: 0.0058\n",
      "Epoch 11/100\n",
      "4274/4274 [==============================] - 15s 4ms/step - loss: 0.0058\n",
      "Epoch 12/100\n",
      "4274/4274 [==============================] - 15s 4ms/step - loss: 0.0058\n",
      "Epoch 13/100\n",
      "4274/4274 [==============================] - 15s 4ms/step - loss: 0.0057\n",
      "Epoch 14/100\n",
      "4274/4274 [==============================] - 16s 4ms/step - loss: 0.0057\n",
      "Epoch 15/100\n",
      "4274/4274 [==============================] - 16s 4ms/step - loss: 0.0057\n",
      "Epoch 16/100\n",
      "4274/4274 [==============================] - 16s 4ms/step - loss: 0.0057\n",
      "Epoch 17/100\n",
      "4274/4274 [==============================] - 16s 4ms/step - loss: 0.0056\n",
      "Epoch 18/100\n",
      "4274/4274 [==============================] - 16s 4ms/step - loss: 0.0056\n",
      "Epoch 19/100\n",
      "4274/4274 [==============================] - 16s 4ms/step - loss: 0.0056\n",
      "Epoch 20/100\n",
      "4274/4274 [==============================] - 16s 4ms/step - loss: 0.0056\n",
      "Epoch 21/100\n",
      "4274/4274 [==============================] - 16s 4ms/step - loss: 0.0055\n",
      "Epoch 22/100\n",
      "4274/4274 [==============================] - 15s 4ms/step - loss: 0.0055\n",
      "Epoch 23/100\n",
      "4274/4274 [==============================] - 15s 4ms/step - loss: 0.0056\n",
      "Epoch 24/100\n",
      "4274/4274 [==============================] - 15s 4ms/step - loss: 0.0055\n",
      "Epoch 25/100\n",
      "4274/4274 [==============================] - 15s 4ms/step - loss: 0.0055\n",
      "Epoch 26/100\n",
      "4274/4274 [==============================] - 16s 4ms/step - loss: 0.0054\n",
      "Epoch 27/100\n",
      "4274/4274 [==============================] - 16s 4ms/step - loss: 0.0054\n",
      "Epoch 28/100\n",
      "4274/4274 [==============================] - 16s 4ms/step - loss: 0.0053\n",
      "Epoch 29/100\n",
      "4274/4274 [==============================] - 16s 4ms/step - loss: 0.0054\n",
      "Epoch 30/100\n",
      "4274/4274 [==============================] - 15s 4ms/step - loss: 0.0053\n",
      "Epoch 31/100\n",
      "4274/4274 [==============================] - 16s 4ms/step - loss: 0.0052\n",
      "Epoch 32/100\n",
      "4274/4274 [==============================] - 16s 4ms/step - loss: 0.0053\n",
      "Epoch 33/100\n",
      "4274/4274 [==============================] - 15s 4ms/step - loss: 0.0053\n",
      "Epoch 34/100\n",
      "4274/4274 [==============================] - 16s 4ms/step - loss: 0.0053\n",
      "Epoch 35/100\n",
      "4274/4274 [==============================] - 15s 4ms/step - loss: 0.0052\n",
      "Epoch 36/100\n",
      "4274/4274 [==============================] - 15s 4ms/step - loss: 0.0053\n",
      "Epoch 37/100\n",
      "4274/4274 [==============================] - 15s 4ms/step - loss: 0.0052\n",
      "Epoch 38/100\n",
      "4274/4274 [==============================] - 16s 4ms/step - loss: 0.0051\n",
      "Epoch 39/100\n",
      "4274/4274 [==============================] - 15s 4ms/step - loss: 0.0052\n",
      "Epoch 40/100\n",
      "4274/4274 [==============================] - 15s 4ms/step - loss: 0.0051\n",
      "Epoch 41/100\n",
      "4274/4274 [==============================] - 15s 4ms/step - loss: 0.0051\n",
      "Epoch 42/100\n",
      "4274/4274 [==============================] - 15s 4ms/step - loss: 0.0051\n",
      "Epoch 43/100\n",
      "4274/4274 [==============================] - 16s 4ms/step - loss: 0.0050\n",
      "Epoch 44/100\n",
      "4274/4274 [==============================] - 15s 4ms/step - loss: 0.0050\n",
      "Epoch 45/100\n",
      "4274/4274 [==============================] - 16s 4ms/step - loss: 0.0050\n",
      "Epoch 46/100\n",
      "4274/4274 [==============================] - 15s 4ms/step - loss: 0.0050\n",
      "Epoch 47/100\n",
      "4274/4274 [==============================] - 15s 4ms/step - loss: 0.0050\n",
      "Epoch 48/100\n",
      "4274/4274 [==============================] - 16s 4ms/step - loss: 0.0050\n",
      "Epoch 49/100\n",
      "4274/4274 [==============================] - 16s 4ms/step - loss: 0.0049\n",
      "Epoch 50/100\n",
      "4274/4274 [==============================] - 16s 4ms/step - loss: 0.0050\n",
      "Epoch 51/100\n",
      "4274/4274 [==============================] - 15s 4ms/step - loss: 0.0049\n",
      "Epoch 52/100\n",
      "4274/4274 [==============================] - 16s 4ms/step - loss: 0.0049\n",
      "Epoch 53/100\n",
      "4274/4274 [==============================] - 16s 4ms/step - loss: 0.0049\n",
      "Epoch 54/100\n",
      "4274/4274 [==============================] - 15s 4ms/step - loss: 0.0048\n",
      "Epoch 55/100\n",
      "4274/4274 [==============================] - 15s 4ms/step - loss: 0.0049\n",
      "Epoch 56/100\n",
      "4274/4274 [==============================] - 15s 4ms/step - loss: 0.0049\n",
      "Epoch 57/100\n",
      "4274/4274 [==============================] - 16s 4ms/step - loss: 0.0048\n",
      "Epoch 58/100\n",
      "4274/4274 [==============================] - 16s 4ms/step - loss: 0.0049\n",
      "Epoch 59/100\n",
      "4274/4274 [==============================] - 16s 4ms/step - loss: 0.0048\n",
      "Epoch 60/100\n",
      "4274/4274 [==============================] - 15s 4ms/step - loss: 0.0047\n",
      "Epoch 61/100\n",
      "4274/4274 [==============================] - 15s 4ms/step - loss: 0.0047\n",
      "Epoch 62/100\n",
      "4274/4274 [==============================] - 15s 4ms/step - loss: 0.0047\n",
      "Epoch 63/100\n",
      "4274/4274 [==============================] - 16s 4ms/step - loss: 0.0047\n",
      "Epoch 64/100\n",
      "4274/4274 [==============================] - 16s 4ms/step - loss: 0.0047\n",
      "Epoch 65/100\n",
      "4274/4274 [==============================] - 15s 4ms/step - loss: 0.0046\n",
      "Epoch 66/100\n",
      "4274/4274 [==============================] - 16s 4ms/step - loss: 0.0047\n",
      "Epoch 67/100\n",
      "4274/4274 [==============================] - 16s 4ms/step - loss: 0.0046\n",
      "Epoch 68/100\n",
      "4274/4274 [==============================] - 15s 4ms/step - loss: 0.0046\n",
      "Epoch 69/100\n",
      "4274/4274 [==============================] - 16s 4ms/step - loss: 0.0045\n",
      "Epoch 70/100\n",
      "4274/4274 [==============================] - 16s 4ms/step - loss: 0.0045\n",
      "Epoch 71/100\n",
      "4274/4274 [==============================] - 16s 4ms/step - loss: 0.0045\n",
      "Epoch 72/100\n",
      "4274/4274 [==============================] - 16s 4ms/step - loss: 0.0046\n",
      "Epoch 73/100\n",
      "4274/4274 [==============================] - 16s 4ms/step - loss: 0.0044\n",
      "Epoch 74/100\n",
      "4274/4274 [==============================] - 16s 4ms/step - loss: 0.0046\n",
      "Epoch 75/100\n",
      "4274/4274 [==============================] - 16s 4ms/step - loss: 0.0046\n",
      "Epoch 76/100\n",
      "4274/4274 [==============================] - 16s 4ms/step - loss: 0.0045\n",
      "Epoch 77/100\n",
      "4274/4274 [==============================] - 16s 4ms/step - loss: 0.0046\n",
      "Epoch 78/100\n",
      "4274/4274 [==============================] - 15s 3ms/step - loss: 0.0047\n",
      "Epoch 79/100\n",
      "4274/4274 [==============================] - 15s 4ms/step - loss: 0.0044\n",
      "Epoch 80/100\n",
      "4274/4274 [==============================] - 16s 4ms/step - loss: 0.0044\n",
      "Epoch 81/100\n",
      "4274/4274 [==============================] - 16s 4ms/step - loss: 0.0046\n",
      "Epoch 82/100\n",
      "4274/4274 [==============================] - 16s 4ms/step - loss: 0.0044\n",
      "Epoch 83/100\n",
      "4274/4274 [==============================] - 16s 4ms/step - loss: 0.0044\n"
     ]
    },
    {
     "data": {
      "text/plain": [
       "<keras.src.callbacks.History at 0x2225f337f10>"
      ]
     },
     "execution_count": 7,
     "metadata": {},
     "output_type": "execute_result"
    }
   ],
   "source": [
    "# 모델 훈련 with EarlyStopping\n",
    "model.fit(generator, epochs=100, callbacks=[early_stopping])"
   ]
  },
  {
   "cell_type": "code",
   "execution_count": 8,
   "metadata": {},
   "outputs": [
    {
     "name": "stdout",
     "output_type": "stream",
     "text": [
      "[[7.9859047]]\n"
     ]
    }
   ],
   "source": [
    "# 최근 데이터를 사용한 예측\n",
    "x_input = features_scaled[-n_input:]\n",
    "x_input = x_input.reshape((1, n_input, n_features))\n",
    "predicted = model.predict(x_input, verbose=0)\n",
    "\n",
    "# 예측값 역 스케일링\n",
    "predicted_inverse = scaler_target.inverse_transform(predicted)\n",
    "print(predicted_inverse)"
   ]
  },
  {
   "cell_type": "code",
   "execution_count": 9,
   "metadata": {},
   "outputs": [
    {
     "data": {
      "text/html": [
       "<div>\n",
       "<style scoped>\n",
       "    .dataframe tbody tr th:only-of-type {\n",
       "        vertical-align: middle;\n",
       "    }\n",
       "\n",
       "    .dataframe tbody tr th {\n",
       "        vertical-align: top;\n",
       "    }\n",
       "\n",
       "    .dataframe thead th {\n",
       "        text-align: right;\n",
       "    }\n",
       "</style>\n",
       "<table border=\"1\" class=\"dataframe\">\n",
       "  <thead>\n",
       "    <tr style=\"text-align: right;\">\n",
       "      <th></th>\n",
       "      <th>측정일시</th>\n",
       "      <th>이산화질소</th>\n",
       "      <th>오존</th>\n",
       "      <th>일산화탄소</th>\n",
       "      <th>아황산</th>\n",
       "      <th>미세</th>\n",
       "      <th>초미세</th>\n",
       "    </tr>\n",
       "  </thead>\n",
       "  <tbody>\n",
       "    <tr>\n",
       "      <th>4303</th>\n",
       "      <td>20231211</td>\n",
       "      <td>0.015</td>\n",
       "      <td>0.0227</td>\n",
       "      <td>0.4</td>\n",
       "      <td>0.0024</td>\n",
       "      <td>7.2</td>\n",
       "      <td>3.0</td>\n",
       "    </tr>\n",
       "  </tbody>\n",
       "</table>\n",
       "</div>"
      ],
      "text/plain": [
       "          측정일시  이산화질소      오존  일산화탄소     아황산   미세  초미세\n",
       "4303  20231211  0.015  0.0227    0.4  0.0024  7.2  3.0"
      ]
     },
     "execution_count": 9,
     "metadata": {},
     "output_type": "execute_result"
    }
   ],
   "source": [
    "df.tail(1)"
   ]
  },
  {
   "cell_type": "code",
   "execution_count": 10,
   "metadata": {},
   "outputs": [
    {
     "name": "stdout",
     "output_type": "stream",
     "text": [
      "4274/4274 [==============================] - 5s 1ms/step\n",
      "R^2 Score: 0.5407085845015371\n"
     ]
    }
   ],
   "source": [
    "from sklearn.metrics import r2_score\n",
    "\n",
    "# 테스트 데이터셋 준비 (예시)\n",
    "# 이 부분은 실제 데이터셋과 상황에 맞게 조정해야 합니다.\n",
    "# test_features_scaled, test_target_scaled는 테스트 데이터의 스케일된 피쳐와 타겟입니다.\n",
    "test_generator = TimeseriesGenerator(features_scaled , target_scaled, length=n_input, batch_size=1)\n",
    "\n",
    "# 테스트 데이터셋에 대한 예측 수행\n",
    "test_predictions = model.predict(test_generator)\n",
    "\n",
    "# 예측값 역 스케일링\n",
    "test_predictions_inverse = scaler_target.inverse_transform(test_predictions)\n",
    "\n",
    "# 실제 타겟 값 역 스케일링\n",
    "actual_target = scaler_target.inverse_transform(target_scaled[n_input:])\n",
    "\n",
    "# R^2 값 계산\n",
    "r2 = r2_score(actual_target, test_predictions_inverse)\n",
    "print(f'R^2 Score: {r2}')"
   ]
  },
  {
   "cell_type": "code",
   "execution_count": 11,
   "metadata": {},
   "outputs": [],
   "source": [
    "model.save('model/a/pm25_model.h5')"
   ]
  },
  {
   "cell_type": "code",
   "execution_count": 5,
   "metadata": {},
   "outputs": [
    {
     "data": {
      "text/plain": [
       "['model/scaler_pm10.joblib']"
      ]
     },
     "execution_count": 5,
     "metadata": {},
     "output_type": "execute_result"
    }
   ],
   "source": [
    "import pandas as pd\n",
    "from sklearn.preprocessing import MinMaxScaler\n",
    "import joblib\n",
    "import os\n",
    "from flask import current_app\n",
    "\n",
    "# 데이터 로드 및 피쳐 선택\n",
    "df = pd.read_csv('1211.대기오염미래예측/data/12-23대기오염nan처리.csv')\n",
    "features_pm10 = df[['이산화질소', '오존', '일산화탄소', '아황산', '초미세']]\n",
    "\n",
    "# 스케일러 학습\n",
    "scaler_pm10 = MinMaxScaler()\n",
    "scaler_pm10.fit(features_pm10)\n",
    "\n",
    "# 스케일러 저장\n",
    "scaler_filename_pm10 = 'model/scaler_pm10.joblib'\n",
    "joblib.dump(scaler_pm10, scaler_filename_pm10)\n"
   ]
  },
  {
   "cell_type": "code",
   "execution_count": 6,
   "metadata": {},
   "outputs": [
    {
     "data": {
      "text/plain": [
       "['model/scaler_pm25.joblib']"
      ]
     },
     "execution_count": 6,
     "metadata": {},
     "output_type": "execute_result"
    }
   ],
   "source": [
    "# 초미세먼지 데이터에 대한 피쳐 선택\n",
    "features_pm25 = df[['이산화질소', '오존', '일산화탄소', '아황산', '미세']]\n",
    "\n",
    "# 스케일러 학습\n",
    "scaler_pm25 = MinMaxScaler()\n",
    "scaler_pm25.fit(features_pm25)\n",
    "\n",
    "scaler_filename_pm25 = 'model/scaler_pm25.joblib'\n",
    "joblib.dump(scaler_pm25, scaler_filename_pm25)"
   ]
  },
  {
   "cell_type": "code",
   "execution_count": 9,
   "metadata": {},
   "outputs": [
    {
     "data": {
      "text/plain": [
       "['model/scaler_pm10_target.joblib']"
      ]
     },
     "execution_count": 9,
     "metadata": {},
     "output_type": "execute_result"
    }
   ],
   "source": [
    "# 데이터 로드 및 피쳐 선택\n",
    "df = pd.read_csv('1211.대기오염미래예측/data/12-23대기오염nan처리.csv')\n",
    "target_pm10 = df['미세'].values.reshape(-1, 1)  # 예측 대상 피쳐\n",
    "\n",
    "# 스케일러 학습\n",
    "scaler_pm10_target = MinMaxScaler()\n",
    "scaler_pm10_target.fit(target_pm10)\n",
    "\n",
    "# 스케일러 저장\n",
    "scaler_filename_pm10 = 'model/scaler_pm10_target.joblib'\n",
    "joblib.dump(scaler_pm10_target, scaler_filename_pm10)\n"
   ]
  },
  {
   "cell_type": "code",
   "execution_count": 10,
   "metadata": {},
   "outputs": [
    {
     "data": {
      "text/plain": [
       "['model/scaler_pm25_target.joblib']"
      ]
     },
     "execution_count": 10,
     "metadata": {},
     "output_type": "execute_result"
    }
   ],
   "source": [
    "# 데이터 로드 및 피쳐 선택\n",
    "df = pd.read_csv('1211.대기오염미래예측/data/12-23대기오염nan처리.csv')\n",
    "target_pm25 = df['초미세'].values.reshape(-1, 1)  # 예측 대상 피쳐\n",
    "\n",
    "# 스케일러 학습\n",
    "scaler_pm25_target = MinMaxScaler()\n",
    "scaler_pm25_target.fit(target_pm25)\n",
    "\n",
    "# 스케일러 저장\n",
    "scaler_filename_pm25 = 'model/scaler_pm25_target.joblib'\n",
    "joblib.dump(scaler_pm25_target, scaler_filename_pm25)"
   ]
  },
  {
   "cell_type": "code",
   "execution_count": null,
   "metadata": {},
   "outputs": [],
   "source": []
  }
 ],
 "metadata": {
  "kernelspec": {
   "display_name": "base",
   "language": "python",
   "name": "python3"
  },
  "language_info": {
   "codemirror_mode": {
    "name": "ipython",
    "version": 3
   },
   "file_extension": ".py",
   "mimetype": "text/x-python",
   "name": "python",
   "nbconvert_exporter": "python",
   "pygments_lexer": "ipython3",
   "version": "3.11.4"
  }
 },
 "nbformat": 4,
 "nbformat_minor": 2
}
