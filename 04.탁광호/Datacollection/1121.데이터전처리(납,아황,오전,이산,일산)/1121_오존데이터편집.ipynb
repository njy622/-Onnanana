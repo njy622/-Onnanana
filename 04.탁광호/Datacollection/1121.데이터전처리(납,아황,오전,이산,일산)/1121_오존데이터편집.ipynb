{
 "cells": [
  {
   "cell_type": "code",
   "execution_count": 118,
   "metadata": {},
   "outputs": [],
   "source": [
    "import pandas as pd"
   ]
  },
  {
   "cell_type": "code",
   "execution_count": 119,
   "metadata": {},
   "outputs": [],
   "source": [
    "df = pd.read_csv('../data/오존 월별 도시별 대기오염도.csv', encoding='ansi')"
   ]
  },
  {
   "cell_type": "code",
   "execution_count": 120,
   "metadata": {},
   "outputs": [
    {
     "data": {
      "text/html": [
       "<div>\n",
       "<style scoped>\n",
       "    .dataframe tbody tr th:only-of-type {\n",
       "        vertical-align: middle;\n",
       "    }\n",
       "\n",
       "    .dataframe tbody tr th {\n",
       "        vertical-align: top;\n",
       "    }\n",
       "\n",
       "    .dataframe thead th {\n",
       "        text-align: right;\n",
       "    }\n",
       "</style>\n",
       "<table border=\"1\" class=\"dataframe\">\n",
       "  <thead>\n",
       "    <tr style=\"text-align: right;\">\n",
       "      <th></th>\n",
       "      <th>구분</th>\n",
       "      <th>항목</th>\n",
       "      <th>단위</th>\n",
       "      <th>2010.01 월</th>\n",
       "      <th>2010.02 월</th>\n",
       "      <th>2010.03 월</th>\n",
       "      <th>2010.04 월</th>\n",
       "      <th>2010.05 월</th>\n",
       "      <th>2010.06 월</th>\n",
       "      <th>2010.07 월</th>\n",
       "      <th>...</th>\n",
       "      <th>2022.06 월</th>\n",
       "      <th>2022.07 월</th>\n",
       "      <th>2022.08 월</th>\n",
       "      <th>2022.09 월</th>\n",
       "      <th>2022.10 월</th>\n",
       "      <th>2022.11 월</th>\n",
       "      <th>2022.12 월</th>\n",
       "      <th>2023.01 월</th>\n",
       "      <th>2023.02 월</th>\n",
       "      <th>Unnamed: 161</th>\n",
       "    </tr>\n",
       "  </thead>\n",
       "  <tbody>\n",
       "    <tr>\n",
       "      <th>171</th>\n",
       "      <td>제주</td>\n",
       "      <td>월평균</td>\n",
       "      <td>NaN</td>\n",
       "      <td>0.034</td>\n",
       "      <td>0.039</td>\n",
       "      <td>0.043</td>\n",
       "      <td>.045</td>\n",
       "      <td>.039</td>\n",
       "      <td>.039</td>\n",
       "      <td>.029</td>\n",
       "      <td>...</td>\n",
       "      <td>.036</td>\n",
       "      <td>.036</td>\n",
       "      <td>.031</td>\n",
       "      <td>.038</td>\n",
       "      <td>.041</td>\n",
       "      <td>.039</td>\n",
       "      <td>.036</td>\n",
       "      <td>0.0389</td>\n",
       "      <td>.0412</td>\n",
       "      <td>NaN</td>\n",
       "    </tr>\n",
       "    <tr>\n",
       "      <th>172</th>\n",
       "      <td>서귀포</td>\n",
       "      <td>월평균</td>\n",
       "      <td>NaN</td>\n",
       "      <td>0.040</td>\n",
       "      <td>0.042</td>\n",
       "      <td>0.052</td>\n",
       "      <td>.057</td>\n",
       "      <td>.054</td>\n",
       "      <td>.045</td>\n",
       "      <td>.035</td>\n",
       "      <td>...</td>\n",
       "      <td>.04</td>\n",
       "      <td>.037</td>\n",
       "      <td>.033</td>\n",
       "      <td>.042</td>\n",
       "      <td>.044</td>\n",
       "      <td>.044</td>\n",
       "      <td>.037</td>\n",
       "      <td>0.0402</td>\n",
       "      <td>.0432</td>\n",
       "      <td>NaN</td>\n",
       "    </tr>\n",
       "    <tr>\n",
       "      <th>173</th>\n",
       "      <td>도평균</td>\n",
       "      <td>월평균</td>\n",
       "      <td>NaN</td>\n",
       "      <td>0.036</td>\n",
       "      <td>0.040</td>\n",
       "      <td>0.046</td>\n",
       "      <td>.049</td>\n",
       "      <td>.044</td>\n",
       "      <td>.041</td>\n",
       "      <td>.031</td>\n",
       "      <td>...</td>\n",
       "      <td>.038</td>\n",
       "      <td>.036</td>\n",
       "      <td>.032</td>\n",
       "      <td>.04</td>\n",
       "      <td>.042</td>\n",
       "      <td>.042</td>\n",
       "      <td>.037</td>\n",
       "      <td>0.0395</td>\n",
       "      <td>.0421</td>\n",
       "      <td>NaN</td>\n",
       "    </tr>\n",
       "  </tbody>\n",
       "</table>\n",
       "<p>3 rows × 162 columns</p>\n",
       "</div>"
      ],
      "text/plain": [
       "      구분   항목  단위  2010.01 월  2010.02 월  2010.03 월 2010.04 월 2010.05 월  \\\n",
       "171   제주  월평균 NaN      0.034      0.039      0.043      .045      .039   \n",
       "172  서귀포  월평균 NaN      0.040      0.042      0.052      .057      .054   \n",
       "173  도평균  월평균 NaN      0.036      0.040      0.046      .049      .044   \n",
       "\n",
       "    2010.06 월 2010.07 월  ... 2022.06 월 2022.07 월  2022.08 월  2022.09 월  \\\n",
       "171      .039      .029  ...      .036      .036       .031       .038   \n",
       "172      .045      .035  ...       .04      .037       .033       .042   \n",
       "173      .041      .031  ...      .038      .036       .032        .04   \n",
       "\n",
       "     2022.10 월 2022.11 월  2022.12 월  2023.01 월  2023.02 월  Unnamed: 161  \n",
       "171       .041      .039       .036     0.0389      .0412           NaN  \n",
       "172       .044      .044       .037     0.0402      .0432           NaN  \n",
       "173       .042      .042       .037     0.0395      .0421           NaN  \n",
       "\n",
       "[3 rows x 162 columns]"
      ]
     },
     "execution_count": 120,
     "metadata": {},
     "output_type": "execute_result"
    }
   ],
   "source": [
    "df.tail(3)"
   ]
  },
  {
   "cell_type": "code",
   "execution_count": 121,
   "metadata": {},
   "outputs": [],
   "source": [
    "long_df = df.melt(id_vars=['구분', '항목','단위'], \n",
    "                  var_name='STD_YYYYMM', \n",
    "                  value_name='오존')"
   ]
  },
  {
   "cell_type": "code",
   "execution_count": 122,
   "metadata": {},
   "outputs": [
    {
     "data": {
      "text/html": [
       "<div>\n",
       "<style scoped>\n",
       "    .dataframe tbody tr th:only-of-type {\n",
       "        vertical-align: middle;\n",
       "    }\n",
       "\n",
       "    .dataframe tbody tr th {\n",
       "        vertical-align: top;\n",
       "    }\n",
       "\n",
       "    .dataframe thead th {\n",
       "        text-align: right;\n",
       "    }\n",
       "</style>\n",
       "<table border=\"1\" class=\"dataframe\">\n",
       "  <thead>\n",
       "    <tr style=\"text-align: right;\">\n",
       "      <th></th>\n",
       "      <th>구분</th>\n",
       "      <th>항목</th>\n",
       "      <th>단위</th>\n",
       "      <th>STD_YYYYMM</th>\n",
       "      <th>오존</th>\n",
       "    </tr>\n",
       "  </thead>\n",
       "  <tbody>\n",
       "    <tr>\n",
       "      <th>0</th>\n",
       "      <td>서울특별시</td>\n",
       "      <td>월평균</td>\n",
       "      <td>NaN</td>\n",
       "      <td>2010.01 월</td>\n",
       "      <td>0.011</td>\n",
       "    </tr>\n",
       "    <tr>\n",
       "      <th>1</th>\n",
       "      <td>부산광역시</td>\n",
       "      <td>월평균</td>\n",
       "      <td>NaN</td>\n",
       "      <td>2010.01 월</td>\n",
       "      <td>0.021</td>\n",
       "    </tr>\n",
       "    <tr>\n",
       "      <th>2</th>\n",
       "      <td>대구광역시</td>\n",
       "      <td>월평균</td>\n",
       "      <td>NaN</td>\n",
       "      <td>2010.01 월</td>\n",
       "      <td>0.014</td>\n",
       "    </tr>\n",
       "  </tbody>\n",
       "</table>\n",
       "</div>"
      ],
      "text/plain": [
       "      구분   항목  단위 STD_YYYYMM     오존\n",
       "0  서울특별시  월평균 NaN  2010.01 월  0.011\n",
       "1  부산광역시  월평균 NaN  2010.01 월  0.021\n",
       "2  대구광역시  월평균 NaN  2010.01 월  0.014"
      ]
     },
     "execution_count": 122,
     "metadata": {},
     "output_type": "execute_result"
    }
   ],
   "source": [
    "long_df.head(3)"
   ]
  },
  {
   "cell_type": "code",
   "execution_count": 123,
   "metadata": {},
   "outputs": [],
   "source": [
    "long_df.rename(columns={'구분': 'SIDO'}, inplace=True)"
   ]
  },
  {
   "cell_type": "code",
   "execution_count": 124,
   "metadata": {},
   "outputs": [],
   "source": [
    "# 대체하고자 하는 도시 이름 목록\n",
    "cities = [\n",
    "    \"수원\", \"안양\", \"성남\", \"의정부\", \"광명\", \"안산\", \"평택\", \"과천\", \"구리\", \"의왕\",\n",
    "    \"고양\", \"광주\", \"군포\", \"시흥\", \"부천\", \"남양주\", \"용인\", \"김포\", \"오산\", \"하남\",\n",
    "    \"화성\", \"양주\", \"동두천\", \"안성\", \"이천\", \"파주\", \"포천\", \"여주\", \"연천\", \"가평\", \"양평\"\n",
    "]\n",
    "\n",
    "# '구분' 열에서 해당 도시 이름들을 '경기도'로 변경\n",
    "long_df['SIDO'] = long_df['SIDO'].replace(cities, '경기도')"
   ]
  },
  {
   "cell_type": "code",
   "execution_count": 125,
   "metadata": {},
   "outputs": [],
   "source": [
    "cities = [\n",
    "    \"양구\", \"고성\", \"정선\", \"횡성\", \"춘천\", \"강릉\", \"원주\", \"동해\", \"삼척\", \"평창\", \n",
    "    \"양양\", \"속초\", \"영월\", \"철원\", \"홍천\", \"화천\", \"태백\", \"인제\"\n",
    "]\n",
    "\n",
    "# '구분' 열에서 해당 도시 이름들을 '강원도'로 변경\n",
    "long_df['SIDO'] = long_df['SIDO'].replace(cities, '강원도')"
   ]
  },
  {
   "cell_type": "code",
   "execution_count": 126,
   "metadata": {},
   "outputs": [],
   "source": [
    "# 대체하고자 하는 충청북도 도시 이름 목록\n",
    "cities = [\n",
    "    \"괴산\", \"음성\", \"청주\", \"충주\", \"제천\", \"청원\", \"단양\", \"진천\", \"옥천\", \"영동\", \"증평\", \"보은\"\n",
    "]\n",
    "\n",
    "# '구분' 열에서 해당 도시 이름들을 '충청북도'로 변경\n",
    "long_df['SIDO'] = long_df['SIDO'].replace(cities, '충청북도')"
   ]
  },
  {
   "cell_type": "code",
   "execution_count": 127,
   "metadata": {},
   "outputs": [],
   "source": [
    "# 대체하고자 하는 충청남도 도시 이름 목록\n",
    "cities = [\n",
    "    \"천안\", \"당진\", \"서산\", \"아산\", \"논산\", \"태안\", \"보령\", \"홍성\", \"공주\", \n",
    "    \"부여\", \"청양\", \"금산\", \"예산\", \"계룡\", \"서천\"\n",
    "]\n",
    "\n",
    "# '구분' 열에서 해당 도시 이름들을 '충청남도'로 변경\n",
    "long_df['SIDO'] = long_df['SIDO'].replace(cities, '충청남도')"
   ]
  },
  {
   "cell_type": "code",
   "execution_count": 128,
   "metadata": {},
   "outputs": [],
   "source": [
    "# 대체하고자 하는 전라북도 도시 이름 목록\n",
    "cities = [\n",
    "    \"임실\", \"전주\", \"군산\", \"익산\", \"남원\", \"정읍\", \"고창\", \"부안\", \"김제\", \n",
    "    \"완주\", \"진안\", \"무주\", \"순창\", \"장수\"\n",
    "]\n",
    "\n",
    "# '구분' 열에서 해당 도시 이름들을 '전라북도'로 변경\n",
    "long_df['SIDO'] = long_df['SIDO'].replace(cities, '전라북도')"
   ]
  },
  {
   "cell_type": "code",
   "execution_count": 129,
   "metadata": {},
   "outputs": [],
   "source": [
    "# 대체하고자 하는 전라남도 도시 이름 목록\n",
    "cities = [\n",
    "    \"화순\", \"여수\", \"광양\", \"순천\", \"목포\", \"영암\", \"나주\", \"담양\", \"장성\", \"해남\", \n",
    "    \"영광\", \"장흥\", \"진도\", \"완도\", \"함평\", \"고흥\", \"신안\", \"무안\", \"강진\", \"곡성\", \"구례\", \"보성\"\n",
    "]\n",
    "\n",
    "# 'SIDO' 열에서 해당 도시 이름들을 '전라남도'로 변경\n",
    "long_df['SIDO'] = long_df['SIDO'].replace(cities, '전라남도')"
   ]
  },
  {
   "cell_type": "code",
   "execution_count": 130,
   "metadata": {},
   "outputs": [],
   "source": [
    "# 대체하고자 하는 경상북도 도시 이름 목록\n",
    "cities = [\n",
    "    \"영덕\", \"영천\", \"의성\", \"울릉도\", \"포항\", \"구미\", \"김천\", \"경주\", \"안동\", \"영주\", \n",
    "    \"경산\", \"상주\", \"칠곡\", \"울진\", \"봉화\", \"고령\", \"군위\", \"성주\", \"예천\", \"청도\", \n",
    "    \"청송\", \"영양\", \"문경\"\n",
    "]\n",
    "\n",
    "# 'SIDO' 열에서 해당 도시 이름들을 '경상북도'로 변경\n",
    "long_df['SIDO'] = long_df['SIDO'].replace(cities, '경상북도')"
   ]
  },
  {
   "cell_type": "code",
   "execution_count": 131,
   "metadata": {},
   "outputs": [],
   "source": [
    "# 대체하고자 하는 경상남도 도시 이름 목록\n",
    "cities = [\n",
    "    \"창원\", \"마산\", \"진주\", \"진해\", \"하동\", \"김해\", \"양산\", \"거제\", \"사천\", \"밀양\", \n",
    "    \"통영\", \"거창\", \"함안\", \"함양\", \"남해\", \"산청\", \"의령\", \"창녕\", \"합천\"\n",
    "]\n",
    "\n",
    "# 'SIDO' 열에서 해당 도시 이름들을 '경상남도'로 변경\n",
    "long_df['SIDO'] = long_df['SIDO'].replace(cities, '경상남도')\n"
   ]
  },
  {
   "cell_type": "code",
   "execution_count": 132,
   "metadata": {},
   "outputs": [],
   "source": [
    "# 대체하고자 하는 경상남도 도시 이름 목록\n",
    "cities = [\n",
    "    \"제주\", \"서귀포\"\n",
    "]\n",
    "\n",
    "# 'SIDO' 열에서 해당 도시 이름들을 '제주특별자치도'로 변경\n",
    "long_df['SIDO'] = long_df['SIDO'].replace(cities, '제주특별자치도')\n"
   ]
  },
  {
   "cell_type": "code",
   "execution_count": 133,
   "metadata": {},
   "outputs": [
    {
     "data": {
      "text/plain": [
       "SIDO\n",
       "경기도        4929\n",
       "경상북도       3657\n",
       "전라남도       3498\n",
       "강원도        3021\n",
       "경상남도       3021\n",
       "충청남도       2385\n",
       "전라북도       2226\n",
       "충청북도       1908\n",
       "도평균        1431\n",
       "제주특별자치도     318\n",
       "부산광역시       159\n",
       "세종특별자치시     159\n",
       "울산광역시       159\n",
       "대전광역시       159\n",
       "광주광역시       159\n",
       "인천광역시       159\n",
       "대구광역시       159\n",
       "서울특별시       159\n",
       "Name: count, dtype: int64"
      ]
     },
     "execution_count": 133,
     "metadata": {},
     "output_type": "execute_result"
    }
   ],
   "source": [
    "long_df['SIDO'].value_counts()"
   ]
  },
  {
   "cell_type": "code",
   "execution_count": 134,
   "metadata": {},
   "outputs": [
    {
     "data": {
      "text/plain": [
       "dtype('O')"
      ]
     },
     "execution_count": 134,
     "metadata": {},
     "output_type": "execute_result"
    }
   ],
   "source": [
    "long_df['오존'].dtype"
   ]
  },
  {
   "cell_type": "code",
   "execution_count": 135,
   "metadata": {},
   "outputs": [],
   "source": [
    "long_df['오존'] = pd.to_numeric(long_df['오존'], errors='coerce') \n",
    "\n",
    "# 오브젝트 타입에서의 변환"
   ]
  },
  {
   "cell_type": "code",
   "execution_count": 136,
   "metadata": {},
   "outputs": [],
   "source": [
    "# SIDO, STD_YYYYMM 열을 기준으로 그룹바이 한후 PM10의 평균값을 새로운 콜롬에 저장\n",
    "long_df['AVG_오존'] = long_df.groupby(['SIDO', 'STD_YYYYMM'])['오존'].transform('mean')"
   ]
  },
  {
   "cell_type": "code",
   "execution_count": 137,
   "metadata": {},
   "outputs": [],
   "source": [
    "# 평균값을 소수점 넷째자리까지 반올림\n",
    "long_df['AVG_오존'] = long_df['AVG_오존'].round(4)"
   ]
  },
  {
   "cell_type": "code",
   "execution_count": 138,
   "metadata": {},
   "outputs": [],
   "source": [
    "long_df.to_csv('../data/test/오존.csv',index=False)"
   ]
  },
  {
   "cell_type": "code",
   "execution_count": 139,
   "metadata": {},
   "outputs": [],
   "source": [
    "df2 = long_df.drop_duplicates(subset=['SIDO', 'STD_YYYYMM', 'AVG_오존'])\n",
    "# SIDO와 STD_YYYYMM 열을 기준으로 중복을 제거\n",
    "# 중복된 데이터를 제거하면 데이터가 정렬됨 "
   ]
  },
  {
   "cell_type": "code",
   "execution_count": 140,
   "metadata": {},
   "outputs": [],
   "source": [
    "# SIDO 열에 총계 또는 도평균을 포함하는 열을 필터링 \n",
    "df2 = df2[~df2['SIDO'].str.contains('총계|도평균')]"
   ]
  },
  {
   "cell_type": "code",
   "execution_count": 141,
   "metadata": {},
   "outputs": [],
   "source": [
    "# PM10 , 항목 , 단위 콜롬 제거\n",
    "df2 = df2.drop(columns=['오존', '항목', '단위'])"
   ]
  },
  {
   "cell_type": "code",
   "execution_count": 142,
   "metadata": {},
   "outputs": [],
   "source": [
    "# 'STD_YYYYMM' 열의 숫자가 아닌 문자를 제거\n",
    "df2['STD_YYYYMM'] = df2['STD_YYYYMM'].str.replace('[^\\d]', '', regex=True)"
   ]
  },
  {
   "cell_type": "code",
   "execution_count": 143,
   "metadata": {},
   "outputs": [],
   "source": [
    "# 결과를 정수 타입으로 변환\n",
    "df2['STD_YYYYMM'] = df2['STD_YYYYMM'].astype(int)\n"
   ]
  },
  {
   "cell_type": "code",
   "execution_count": 144,
   "metadata": {},
   "outputs": [
    {
     "data": {
      "text/plain": [
       "dtype('int32')"
      ]
     },
     "execution_count": 144,
     "metadata": {},
     "output_type": "execute_result"
    }
   ],
   "source": [
    "df2['STD_YYYYMM'].dtype"
   ]
  },
  {
   "cell_type": "code",
   "execution_count": 145,
   "metadata": {},
   "outputs": [],
   "source": [
    "df2.to_csv('../data/test/오존.csv', index=False)"
   ]
  },
  {
   "cell_type": "code",
   "execution_count": 146,
   "metadata": {},
   "outputs": [
    {
     "data": {
      "text/html": [
       "<div>\n",
       "<style scoped>\n",
       "    .dataframe tbody tr th:only-of-type {\n",
       "        vertical-align: middle;\n",
       "    }\n",
       "\n",
       "    .dataframe tbody tr th {\n",
       "        vertical-align: top;\n",
       "    }\n",
       "\n",
       "    .dataframe thead th {\n",
       "        text-align: right;\n",
       "    }\n",
       "</style>\n",
       "<table border=\"1\" class=\"dataframe\">\n",
       "  <thead>\n",
       "    <tr style=\"text-align: right;\">\n",
       "      <th></th>\n",
       "      <th>SIDO</th>\n",
       "      <th>STD_YYYYMM</th>\n",
       "      <th>AVG_오존</th>\n",
       "    </tr>\n",
       "  </thead>\n",
       "  <tbody>\n",
       "    <tr>\n",
       "      <th>0</th>\n",
       "      <td>서울특별시</td>\n",
       "      <td>201001</td>\n",
       "      <td>0.011</td>\n",
       "    </tr>\n",
       "    <tr>\n",
       "      <th>1</th>\n",
       "      <td>부산광역시</td>\n",
       "      <td>201001</td>\n",
       "      <td>0.021</td>\n",
       "    </tr>\n",
       "    <tr>\n",
       "      <th>2</th>\n",
       "      <td>대구광역시</td>\n",
       "      <td>201001</td>\n",
       "      <td>0.014</td>\n",
       "    </tr>\n",
       "    <tr>\n",
       "      <th>3</th>\n",
       "      <td>인천광역시</td>\n",
       "      <td>201001</td>\n",
       "      <td>0.014</td>\n",
       "    </tr>\n",
       "    <tr>\n",
       "      <th>4</th>\n",
       "      <td>광주광역시</td>\n",
       "      <td>201001</td>\n",
       "      <td>0.017</td>\n",
       "    </tr>\n",
       "  </tbody>\n",
       "</table>\n",
       "</div>"
      ],
      "text/plain": [
       "    SIDO  STD_YYYYMM  AVG_오존\n",
       "0  서울특별시      201001   0.011\n",
       "1  부산광역시      201001   0.021\n",
       "2  대구광역시      201001   0.014\n",
       "3  인천광역시      201001   0.014\n",
       "4  광주광역시      201001   0.017"
      ]
     },
     "execution_count": 146,
     "metadata": {},
     "output_type": "execute_result"
    }
   ],
   "source": [
    "df2.head()"
   ]
  },
  {
   "cell_type": "code",
   "execution_count": 147,
   "metadata": {},
   "outputs": [
    {
     "data": {
      "text/html": [
       "<div>\n",
       "<style scoped>\n",
       "    .dataframe tbody tr th:only-of-type {\n",
       "        vertical-align: middle;\n",
       "    }\n",
       "\n",
       "    .dataframe tbody tr th {\n",
       "        vertical-align: top;\n",
       "    }\n",
       "\n",
       "    .dataframe thead th {\n",
       "        text-align: right;\n",
       "    }\n",
       "</style>\n",
       "<table border=\"1\" class=\"dataframe\">\n",
       "  <thead>\n",
       "    <tr style=\"text-align: right;\">\n",
       "      <th></th>\n",
       "      <th>SIDO</th>\n",
       "      <th>STD_YYYYMM</th>\n",
       "      <th>AVG_오존</th>\n",
       "    </tr>\n",
       "  </thead>\n",
       "  <tbody>\n",
       "    <tr>\n",
       "      <th>27580</th>\n",
       "      <td>전라북도</td>\n",
       "      <td>161</td>\n",
       "      <td>NaN</td>\n",
       "    </tr>\n",
       "    <tr>\n",
       "      <th>27595</th>\n",
       "      <td>전라남도</td>\n",
       "      <td>161</td>\n",
       "      <td>NaN</td>\n",
       "    </tr>\n",
       "    <tr>\n",
       "      <th>27618</th>\n",
       "      <td>경상북도</td>\n",
       "      <td>161</td>\n",
       "      <td>NaN</td>\n",
       "    </tr>\n",
       "    <tr>\n",
       "      <th>27642</th>\n",
       "      <td>경상남도</td>\n",
       "      <td>161</td>\n",
       "      <td>NaN</td>\n",
       "    </tr>\n",
       "    <tr>\n",
       "      <th>27663</th>\n",
       "      <td>제주특별자치도</td>\n",
       "      <td>161</td>\n",
       "      <td>NaN</td>\n",
       "    </tr>\n",
       "  </tbody>\n",
       "</table>\n",
       "</div>"
      ],
      "text/plain": [
       "          SIDO  STD_YYYYMM  AVG_오존\n",
       "27580     전라북도         161     NaN\n",
       "27595     전라남도         161     NaN\n",
       "27618     경상북도         161     NaN\n",
       "27642     경상남도         161     NaN\n",
       "27663  제주특별자치도         161     NaN"
      ]
     },
     "execution_count": 147,
     "metadata": {},
     "output_type": "execute_result"
    }
   ],
   "source": [
    "df2.tail()"
   ]
  },
  {
   "cell_type": "code",
   "execution_count": 148,
   "metadata": {},
   "outputs": [],
   "source": [
    "import pandas as pd\n",
    "import numpy as np"
   ]
  },
  {
   "cell_type": "code",
   "execution_count": 149,
   "metadata": {},
   "outputs": [
    {
     "data": {
      "text/html": [
       "<div>\n",
       "<style scoped>\n",
       "    .dataframe tbody tr th:only-of-type {\n",
       "        vertical-align: middle;\n",
       "    }\n",
       "\n",
       "    .dataframe tbody tr th {\n",
       "        vertical-align: top;\n",
       "    }\n",
       "\n",
       "    .dataframe thead th {\n",
       "        text-align: right;\n",
       "    }\n",
       "</style>\n",
       "<table border=\"1\" class=\"dataframe\">\n",
       "  <thead>\n",
       "    <tr style=\"text-align: right;\">\n",
       "      <th></th>\n",
       "      <th>SIDO</th>\n",
       "      <th>STD_YYYYMM</th>\n",
       "      <th>AVG_오존</th>\n",
       "    </tr>\n",
       "  </thead>\n",
       "  <tbody>\n",
       "    <tr>\n",
       "      <th>0</th>\n",
       "      <td>서울특별시</td>\n",
       "      <td>201001</td>\n",
       "      <td>0.011</td>\n",
       "    </tr>\n",
       "    <tr>\n",
       "      <th>1</th>\n",
       "      <td>부산광역시</td>\n",
       "      <td>201001</td>\n",
       "      <td>0.021</td>\n",
       "    </tr>\n",
       "    <tr>\n",
       "      <th>2</th>\n",
       "      <td>대구광역시</td>\n",
       "      <td>201001</td>\n",
       "      <td>0.014</td>\n",
       "    </tr>\n",
       "    <tr>\n",
       "      <th>3</th>\n",
       "      <td>인천광역시</td>\n",
       "      <td>201001</td>\n",
       "      <td>0.014</td>\n",
       "    </tr>\n",
       "    <tr>\n",
       "      <th>4</th>\n",
       "      <td>광주광역시</td>\n",
       "      <td>201001</td>\n",
       "      <td>0.017</td>\n",
       "    </tr>\n",
       "  </tbody>\n",
       "</table>\n",
       "</div>"
      ],
      "text/plain": [
       "    SIDO  STD_YYYYMM  AVG_오존\n",
       "0  서울특별시      201001   0.011\n",
       "1  부산광역시      201001   0.021\n",
       "2  대구광역시      201001   0.014\n",
       "3  인천광역시      201001   0.014\n",
       "4  광주광역시      201001   0.017"
      ]
     },
     "execution_count": 149,
     "metadata": {},
     "output_type": "execute_result"
    }
   ],
   "source": [
    "df = pd.read_csv('../data/test/오존.csv')\n",
    "df.head()"
   ]
  },
  {
   "cell_type": "markdown",
   "metadata": {},
   "source": [
    "\n",
    "대기 중 오존(O3)에 대한 대기환경 기준은 다음과 같습니다:\n",
    "\n",
    "8시간평균치 0.06ppm 이하\n",
    "1시간평균치 0.1ppm 이하"
   ]
  },
  {
   "cell_type": "markdown",
   "metadata": {},
   "source": [
    "데이터의 해상도: 월별 평균이 일별 데이터를 기반으로 계산되었다면, 이는 각 날짜의 변동을 반영합니다. 따라서, 일별 변동성을 적절히 반영하는 기준치를 사용하는 것이 타당합니다.\n",
    "\n",
    "짧은 기간 동안의 변화 포착: 일별 기준치는 짧은 기간 동안의 환경 변화를 더 잘 포착할 수 있습니다. 이는 특히 특정 사건이나 조건이 대기질에 미치는 영향을 이해하는 데 중요할 수 있습니다.\n",
    "\n",
    "규제 및 건강 영향 고려: 일별 기준치는 단기간 동안의 대기질 변화가 건강에 미치는 영향을 평가하는 데 자주 사용됩니다. 따라서 공중 보건과 관련된 연구나 분석에는 이러한 기준이 더 적합할 수 있습니다."
   ]
  },
  {
   "cell_type": "code",
   "execution_count": 150,
   "metadata": {},
   "outputs": [],
   "source": [
    "# 'AVG_오존'의 값이 0.06 이하이거나 NaN이면 'N', 0.06 초과이면 'Y'를 '오존_BAD' 열에 할당\n",
    "df['오존0.06_BAD'] = np.where((df['AVG_오존'] <= 0.06) | pd.isna(df['AVG_오존']), 'N', 'Y')\n"
   ]
  },
  {
   "cell_type": "code",
   "execution_count": 151,
   "metadata": {},
   "outputs": [],
   "source": [
    "# 'AVG_오존'의 값이 0.1 이하이거나 NaN이면 'N', 0.1 초과이면 'Y'를 '오존_BAD' 열에 할당\n",
    "df['오존0.1_BAD'] = np.where((df['AVG_오존'] <= 0.1) | pd.isna(df['AVG_오존']), 'N', 'Y')\n"
   ]
  },
  {
   "cell_type": "code",
   "execution_count": 152,
   "metadata": {},
   "outputs": [
    {
     "data": {
      "text/html": [
       "<div>\n",
       "<style scoped>\n",
       "    .dataframe tbody tr th:only-of-type {\n",
       "        vertical-align: middle;\n",
       "    }\n",
       "\n",
       "    .dataframe tbody tr th {\n",
       "        vertical-align: top;\n",
       "    }\n",
       "\n",
       "    .dataframe thead th {\n",
       "        text-align: right;\n",
       "    }\n",
       "</style>\n",
       "<table border=\"1\" class=\"dataframe\">\n",
       "  <thead>\n",
       "    <tr style=\"text-align: right;\">\n",
       "      <th></th>\n",
       "      <th>SIDO</th>\n",
       "      <th>STD_YYYYMM</th>\n",
       "      <th>AVG_오존</th>\n",
       "      <th>오존0.06_BAD</th>\n",
       "      <th>오존0.1_BAD</th>\n",
       "    </tr>\n",
       "  </thead>\n",
       "  <tbody>\n",
       "    <tr>\n",
       "      <th>0</th>\n",
       "      <td>서울특별시</td>\n",
       "      <td>201001</td>\n",
       "      <td>0.011</td>\n",
       "      <td>N</td>\n",
       "      <td>N</td>\n",
       "    </tr>\n",
       "    <tr>\n",
       "      <th>1</th>\n",
       "      <td>부산광역시</td>\n",
       "      <td>201001</td>\n",
       "      <td>0.021</td>\n",
       "      <td>N</td>\n",
       "      <td>N</td>\n",
       "    </tr>\n",
       "    <tr>\n",
       "      <th>2</th>\n",
       "      <td>대구광역시</td>\n",
       "      <td>201001</td>\n",
       "      <td>0.014</td>\n",
       "      <td>N</td>\n",
       "      <td>N</td>\n",
       "    </tr>\n",
       "    <tr>\n",
       "      <th>3</th>\n",
       "      <td>인천광역시</td>\n",
       "      <td>201001</td>\n",
       "      <td>0.014</td>\n",
       "      <td>N</td>\n",
       "      <td>N</td>\n",
       "    </tr>\n",
       "    <tr>\n",
       "      <th>4</th>\n",
       "      <td>광주광역시</td>\n",
       "      <td>201001</td>\n",
       "      <td>0.017</td>\n",
       "      <td>N</td>\n",
       "      <td>N</td>\n",
       "    </tr>\n",
       "  </tbody>\n",
       "</table>\n",
       "</div>"
      ],
      "text/plain": [
       "    SIDO  STD_YYYYMM  AVG_오존 오존0.06_BAD 오존0.1_BAD\n",
       "0  서울특별시      201001   0.011          N         N\n",
       "1  부산광역시      201001   0.021          N         N\n",
       "2  대구광역시      201001   0.014          N         N\n",
       "3  인천광역시      201001   0.014          N         N\n",
       "4  광주광역시      201001   0.017          N         N"
      ]
     },
     "execution_count": 152,
     "metadata": {},
     "output_type": "execute_result"
    }
   ],
   "source": [
    "df.head()"
   ]
  },
  {
   "cell_type": "code",
   "execution_count": 153,
   "metadata": {},
   "outputs": [],
   "source": [
    "df.to_csv('../data/test/오존.csv', index=False)"
   ]
  },
  {
   "cell_type": "markdown",
   "metadata": {},
   "source": [
    "오존의 8시간평균치기준, 1시간평균치기준은 모든 데이터가 측정치에 들어가므로 분석에 사용될수 없음.\n",
    "그렇기 때문에"
   ]
  },
  {
   "cell_type": "markdown",
   "metadata": {},
   "source": [
    "상대적 비교: 데이터셋 내에서의 상대적인 대기질을 비교하는 데 중요합니다. 이 방법은 데이터 내에서의 변동성을 포착하고, 특정 시기나 지역에서의 대기질 변화를 이해하는 데 도움이 됩니다.\n",
    "\n",
    "특정 연구 목적: 연구의 목적이나 가설에 따라 데이터 내에서의 기준 설정이 필요할 수 있습니다. 예를 들어, 특정 지역 또는 시간대의 대기질 변화를 연구하는 경우에 적합할 수 있습니다.\n",
    "\n",
    "데이터 특성 고려: 사용 가능한 데이터의 특성과 한계를 고려하여, 가장 적합한 분석 방법을 선택하는 것이 중요합니다.\n",
    "\n",
    "그러나 이러한 접근 방법은 다음과 같은 제한 사항을 고려해야 합니다:\n",
    "\n",
    "주관적 기준: 자체적으로 설정한 기준은 주관적일 수 있으며, 다른 연구나 데이터셋과의 비교가 어려울 수 있습니다.\n",
    "외부 요인의 영향: 데이터의 평균치가 특정한 외부 요인(예: 계절적 변화, 특정 사건)의 영향을 받을 수 있으므로, 이러한 요인들을 고려해야 합니다."
   ]
  },
  {
   "cell_type": "code",
   "execution_count": 154,
   "metadata": {},
   "outputs": [],
   "source": [
    "# AVG_오존의 평균 계산\n",
    "avg_오존 = df['AVG_오존'].mean()\n",
    "\n",
    "# 조건에 따라 오존_BAD에 Y 또는 N 할당\n",
    "df['오존_BAD'] = df['AVG_오존'].apply(lambda x: 'Y' if x > avg_오존 else 'N')\n"
   ]
  },
  {
   "cell_type": "code",
   "execution_count": 155,
   "metadata": {},
   "outputs": [
    {
     "data": {
      "text/plain": [
       "0.028784750957854405"
      ]
     },
     "execution_count": 155,
     "metadata": {},
     "output_type": "execute_result"
    }
   ],
   "source": [
    "avg_오존"
   ]
  },
  {
   "cell_type": "code",
   "execution_count": 156,
   "metadata": {},
   "outputs": [],
   "source": [
    "df.to_csv('../data/test/오존.csv', index=False)"
   ]
  },
  {
   "cell_type": "code",
   "execution_count": null,
   "metadata": {},
   "outputs": [],
   "source": []
  }
 ],
 "metadata": {
  "kernelspec": {
   "display_name": "base",
   "language": "python",
   "name": "python3"
  },
  "language_info": {
   "codemirror_mode": {
    "name": "ipython",
    "version": 3
   },
   "file_extension": ".py",
   "mimetype": "text/x-python",
   "name": "python",
   "nbconvert_exporter": "python",
   "pygments_lexer": "ipython3",
   "version": "3.11.4"
  }
 },
 "nbformat": 4,
 "nbformat_minor": 2
}
