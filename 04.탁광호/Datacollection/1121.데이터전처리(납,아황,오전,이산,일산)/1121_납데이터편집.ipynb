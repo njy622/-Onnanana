{
 "cells": [
  {
   "cell_type": "code",
   "execution_count": 1,
   "metadata": {},
   "outputs": [],
   "source": [
    "import pandas as pd"
   ]
  },
  {
   "cell_type": "code",
   "execution_count": 55,
   "metadata": {},
   "outputs": [],
   "source": [
    "df = pd.read_csv('../data/납 월별 도시별 대기오염도.csv',encoding='ansi')"
   ]
  },
  {
   "cell_type": "code",
   "execution_count": 56,
   "metadata": {},
   "outputs": [
    {
     "data": {
      "text/html": [
       "<div>\n",
       "<style scoped>\n",
       "    .dataframe tbody tr th:only-of-type {\n",
       "        vertical-align: middle;\n",
       "    }\n",
       "\n",
       "    .dataframe tbody tr th {\n",
       "        vertical-align: top;\n",
       "    }\n",
       "\n",
       "    .dataframe thead th {\n",
       "        text-align: right;\n",
       "    }\n",
       "</style>\n",
       "<table border=\"1\" class=\"dataframe\">\n",
       "  <thead>\n",
       "    <tr style=\"text-align: right;\">\n",
       "      <th></th>\n",
       "      <th>구분</th>\n",
       "      <th>항목</th>\n",
       "      <th>단위</th>\n",
       "      <th>2013.01 월</th>\n",
       "      <th>2013.02 월</th>\n",
       "      <th>2013.03 월</th>\n",
       "      <th>2013.04 월</th>\n",
       "      <th>2013.05 월</th>\n",
       "      <th>2013.06 월</th>\n",
       "      <th>2013.07 월</th>\n",
       "      <th>...</th>\n",
       "      <th>2022.06 월</th>\n",
       "      <th>2022.07 월</th>\n",
       "      <th>2022.08 월</th>\n",
       "      <th>2022.09 월</th>\n",
       "      <th>2022.10 월</th>\n",
       "      <th>2022.11 월</th>\n",
       "      <th>2022.12 월</th>\n",
       "      <th>2023.01 월</th>\n",
       "      <th>2023.02 월</th>\n",
       "      <th>Unnamed: 125</th>\n",
       "    </tr>\n",
       "  </thead>\n",
       "  <tbody>\n",
       "    <tr>\n",
       "      <th>109</th>\n",
       "      <td>장흥동</td>\n",
       "      <td>Pb</td>\n",
       "      <td>NaN</td>\n",
       "      <td>0.0682</td>\n",
       "      <td>0.0162</td>\n",
       "      <td>0.1004</td>\n",
       "      <td>0.0307</td>\n",
       "      <td>0.0591</td>\n",
       "      <td>0.0415</td>\n",
       "      <td>0.0219</td>\n",
       "      <td>...</td>\n",
       "      <td>NaN</td>\n",
       "      <td>NaN</td>\n",
       "      <td>NaN</td>\n",
       "      <td>NaN</td>\n",
       "      <td>NaN</td>\n",
       "      <td>NaN</td>\n",
       "      <td>NaN</td>\n",
       "      <td>NaN</td>\n",
       "      <td>NaN</td>\n",
       "      <td>NaN</td>\n",
       "    </tr>\n",
       "    <tr>\n",
       "      <th>110</th>\n",
       "      <td>죽도동</td>\n",
       "      <td>Pb</td>\n",
       "      <td>NaN</td>\n",
       "      <td>0.0475</td>\n",
       "      <td>0.0097</td>\n",
       "      <td>0.0889</td>\n",
       "      <td>0.0249</td>\n",
       "      <td>0.0292</td>\n",
       "      <td>0.0096</td>\n",
       "      <td>0.0032</td>\n",
       "      <td>...</td>\n",
       "      <td>NaN</td>\n",
       "      <td>NaN</td>\n",
       "      <td>NaN</td>\n",
       "      <td>NaN</td>\n",
       "      <td>NaN</td>\n",
       "      <td>NaN</td>\n",
       "      <td>NaN</td>\n",
       "      <td>NaN</td>\n",
       "      <td>NaN</td>\n",
       "      <td>NaN</td>\n",
       "    </tr>\n",
       "    <tr>\n",
       "      <th>111</th>\n",
       "      <td>3공단</td>\n",
       "      <td>Pb</td>\n",
       "      <td>NaN</td>\n",
       "      <td>0.0585</td>\n",
       "      <td>0.0192</td>\n",
       "      <td>0.1094</td>\n",
       "      <td>0.0318</td>\n",
       "      <td>0.0425</td>\n",
       "      <td>0.0234</td>\n",
       "      <td>0.0090</td>\n",
       "      <td>...</td>\n",
       "      <td>NaN</td>\n",
       "      <td>NaN</td>\n",
       "      <td>NaN</td>\n",
       "      <td>NaN</td>\n",
       "      <td>NaN</td>\n",
       "      <td>NaN</td>\n",
       "      <td>NaN</td>\n",
       "      <td>NaN</td>\n",
       "      <td>NaN</td>\n",
       "      <td>NaN</td>\n",
       "    </tr>\n",
       "  </tbody>\n",
       "</table>\n",
       "<p>3 rows × 126 columns</p>\n",
       "</div>"
      ],
      "text/plain": [
       "      구분  항목  단위  2013.01 월  2013.02 월  2013.03 월  2013.04 월  2013.05 월  \\\n",
       "109  장흥동  Pb NaN     0.0682     0.0162     0.1004     0.0307     0.0591   \n",
       "110  죽도동  Pb NaN     0.0475     0.0097     0.0889     0.0249     0.0292   \n",
       "111  3공단  Pb NaN     0.0585     0.0192     0.1094     0.0318     0.0425   \n",
       "\n",
       "     2013.06 월  2013.07 월  ...  2022.06 월  2022.07 월  2022.08 월  2022.09 월  \\\n",
       "109     0.0415     0.0219  ...        NaN        NaN        NaN        NaN   \n",
       "110     0.0096     0.0032  ...        NaN        NaN        NaN        NaN   \n",
       "111     0.0234     0.0090  ...        NaN        NaN        NaN        NaN   \n",
       "\n",
       "     2022.10 월  2022.11 월  2022.12 월  2023.01 월  2023.02 월  Unnamed: 125  \n",
       "109        NaN        NaN        NaN        NaN        NaN           NaN  \n",
       "110        NaN        NaN        NaN        NaN        NaN           NaN  \n",
       "111        NaN        NaN        NaN        NaN        NaN           NaN  \n",
       "\n",
       "[3 rows x 126 columns]"
      ]
     },
     "execution_count": 56,
     "metadata": {},
     "output_type": "execute_result"
    }
   ],
   "source": [
    "df.tail(3)"
   ]
  },
  {
   "cell_type": "code",
   "execution_count": 57,
   "metadata": {},
   "outputs": [],
   "source": [
    "long_df = df.melt(id_vars=['구분', '항목','단위'], \n",
    "                  var_name='STD_YYYYMM', \n",
    "                  value_name='납')"
   ]
  },
  {
   "cell_type": "code",
   "execution_count": 58,
   "metadata": {},
   "outputs": [
    {
     "data": {
      "text/html": [
       "<div>\n",
       "<style scoped>\n",
       "    .dataframe tbody tr th:only-of-type {\n",
       "        vertical-align: middle;\n",
       "    }\n",
       "\n",
       "    .dataframe tbody tr th {\n",
       "        vertical-align: top;\n",
       "    }\n",
       "\n",
       "    .dataframe thead th {\n",
       "        text-align: right;\n",
       "    }\n",
       "</style>\n",
       "<table border=\"1\" class=\"dataframe\">\n",
       "  <thead>\n",
       "    <tr style=\"text-align: right;\">\n",
       "      <th></th>\n",
       "      <th>구분</th>\n",
       "      <th>항목</th>\n",
       "      <th>단위</th>\n",
       "      <th>STD_YYYYMM</th>\n",
       "      <th>납</th>\n",
       "    </tr>\n",
       "  </thead>\n",
       "  <tbody>\n",
       "    <tr>\n",
       "      <th>0</th>\n",
       "      <td>대흥동</td>\n",
       "      <td>Pb</td>\n",
       "      <td>NaN</td>\n",
       "      <td>2013.01 월</td>\n",
       "      <td>0.0839</td>\n",
       "    </tr>\n",
       "    <tr>\n",
       "      <th>1</th>\n",
       "      <td>성수동</td>\n",
       "      <td>Pb</td>\n",
       "      <td>NaN</td>\n",
       "      <td>2013.01 월</td>\n",
       "      <td>0.0846</td>\n",
       "    </tr>\n",
       "    <tr>\n",
       "      <th>2</th>\n",
       "      <td>마포구</td>\n",
       "      <td>Pb</td>\n",
       "      <td>NaN</td>\n",
       "      <td>2013.01 월</td>\n",
       "      <td>NaN</td>\n",
       "    </tr>\n",
       "  </tbody>\n",
       "</table>\n",
       "</div>"
      ],
      "text/plain": [
       "    구분  항목  단위 STD_YYYYMM       납\n",
       "0  대흥동  Pb NaN  2013.01 월  0.0839\n",
       "1  성수동  Pb NaN  2013.01 월  0.0846\n",
       "2  마포구  Pb NaN  2013.01 월     NaN"
      ]
     },
     "execution_count": 58,
     "metadata": {},
     "output_type": "execute_result"
    }
   ],
   "source": [
    "long_df.head(3)"
   ]
  },
  {
   "cell_type": "code",
   "execution_count": 59,
   "metadata": {},
   "outputs": [],
   "source": [
    "long_df.rename(columns={'구분': 'SIDO'}, inplace=True)"
   ]
  },
  {
   "cell_type": "code",
   "execution_count": 60,
   "metadata": {},
   "outputs": [],
   "source": [
    "# 대체하고자 하는 도시 이름 목록\n",
    "seoul_districts = [\"대흥동\", \"성수동\", \"마포구\", \"광진구\", \"성동구\", \"구로구\", \"송파구\", \"방이동\", \"양재동\"]\n",
    "\n",
    "# 'SIDO' 열에서 해당 도시 이름들을 '서울특별시'로 변경\n",
    "long_df['SIDO'] = long_df['SIDO'].replace(seoul_districts, '서울특별시')\n"
   ]
  },
  {
   "cell_type": "code",
   "execution_count": 61,
   "metadata": {},
   "outputs": [],
   "source": [
    "# 대체하고자 하는 도시 이름 목록\n",
    "busan_areas = [\"학장동\", \"덕천동\", \"전포동\", \"연산동\", \"부곡동\", \"광안동\"]\n",
    "\n",
    "# 'SIDO' 열에서 해당 지역 이름들을 '부산광역시'로 변경\n",
    "long_df['SIDO'] = long_df['SIDO'].replace(busan_areas, '부산광역시')\n"
   ]
  },
  {
   "cell_type": "code",
   "execution_count": 62,
   "metadata": {},
   "outputs": [],
   "source": [
    "# 대체하고자 하는 지역 이름 목록\n",
    "daegu_areas = [\"수창동\", \"이현동\", \"대명동\", \"지산동\", \"달성산단\"]\n",
    "\n",
    "# 'SIDO' 열에서 해당 지역 이름들을 '대구광역시'로 변경\n",
    "long_df['SIDO'] = long_df['SIDO'].replace(daegu_areas, '대구광역시')\n"
   ]
  },
  {
   "cell_type": "code",
   "execution_count": 63,
   "metadata": {},
   "outputs": [],
   "source": [
    "# 대체하고자 하는 지역 이름 목록\n",
    "incheon_areas = [\"신흥\", \"구월동\", \"부평\", \"연희\", \"고잔\"]\n",
    "\n",
    "# 'SIDO' 열에서 해당 지역 이름들을 '인천광역시'로 변경\n",
    "long_df['SIDO'] = long_df['SIDO'].replace(incheon_areas, '인천광역시')\n"
   ]
  },
  {
   "cell_type": "code",
   "execution_count": 64,
   "metadata": {},
   "outputs": [],
   "source": [
    "# 대체하고자 하는 지역 이름 목록\n",
    "gwangju_areas = [\"농성동\", \"두암동\", \"건국동\", \"노대동\", \"평동\", \"서동\"]\n",
    "\n",
    "# 'SIDO' 열에서 해당 지역 이름들을 '광주광역시'로 변경\n",
    "long_df['SIDO'] = long_df['SIDO'].replace(gwangju_areas, '광주광역시')\n"
   ]
  },
  {
   "cell_type": "code",
   "execution_count": 65,
   "metadata": {},
   "outputs": [],
   "source": [
    "# 대체하고자 하는 지역 이름 목록\n",
    "daejeon_areas = [\"읍내동\", \"문창동\", \"구성동\", \"정림동\"]\n",
    "\n",
    "# 'SIDO' 열에서 해당 지역 이름들을 '대전광역시'로 변경\n",
    "long_df['SIDO'] = long_df['SIDO'].replace(daejeon_areas, '대전광역시')\n"
   ]
  },
  {
   "cell_type": "code",
   "execution_count": 66,
   "metadata": {},
   "outputs": [],
   "source": [
    "# 대체하고자 하는 지역 이름 목록\n",
    "ulsan_areas = [\"여천동\", \"야음동\", \"신정동\", \"효문동\", \"덕신리\", \"전하동\", \"온산산단\"]\n",
    "\n",
    "# 'SIDO' 열에서 해당 지역 이름들을 '울산광역시'로 변경\n",
    "long_df['SIDO'] = long_df['SIDO'].replace(ulsan_areas, '울산광역시')\n"
   ]
  },
  {
   "cell_type": "code",
   "execution_count": 67,
   "metadata": {},
   "outputs": [],
   "source": [
    "# 대체하고자 하는 지역 이름 목록\n",
    "sejong_areas = [\"아름동\"]\n",
    "\n",
    "# 'SIDO' 열에서 해당 지역 이름들을 '세종특별자치시'로 변경\n",
    "long_df['SIDO'] = long_df['SIDO'].replace(sejong_areas, '세종특별자치시')"
   ]
  },
  {
   "cell_type": "code",
   "execution_count": 68,
   "metadata": {},
   "outputs": [],
   "source": [
    "# 대체하고자 하는 지역 이름 목록\n",
    "gyeonggi_areas = [\"신풍동\", \"상대원1동\", \"의정부1동\", \"원시동\", \"평택항\", \"고천동\", \"안성\", \"가산면\", \"가평읍\"]\n",
    "\n",
    "# 'SIDO' 열에서 해당 지역 이름들을 '경기도'로 변경\n",
    "long_df['SIDO'] = long_df['SIDO'].replace(gyeonggi_areas, '경기도')\n"
   ]
  },
  {
   "cell_type": "code",
   "execution_count": 69,
   "metadata": {},
   "outputs": [],
   "source": [
    "# 대체하고자 하는 지역 이름 목록\n",
    "gangwon_areas = [\"중앙로\", \"신북읍1\", \"옥천동\", \"은하수로\", \"옥천동\", \"우산동\", \"문막공단\", \"금호동\"]\n",
    "\n",
    "# 'SIDO' 열에서 해당 지역 이름들을 '강원도'로 변경\n",
    "long_df['SIDO'] = long_df['SIDO'].replace(gangwon_areas, '강원도')\n"
   ]
  },
  {
   "cell_type": "code",
   "execution_count": 70,
   "metadata": {},
   "outputs": [],
   "source": [
    "# 대체하고자 하는 지역 이름 목록\n",
    "chungcheongbukdo_areas = [\"송정동\", \"매포읍\"]\n",
    "\n",
    "# 'SIDO' 열에서 해당 지역 이름들을 '충청북도'로 변경\n",
    "long_df['SIDO'] = long_df['SIDO'].replace(chungcheongbukdo_areas, '충청북도')\n"
   ]
  },
  {
   "cell_type": "code",
   "execution_count": 71,
   "metadata": {},
   "outputs": [],
   "source": [
    "# 대체하고자 하는 지역 이름 목록\n",
    "chungcheongnamdo_areas = [\"성황동\", \"송산면\", \"독곶리\", \"배방읍\", \"보령시\"]\n",
    "\n",
    "# 'SIDO' 열에서 해당 지역 이름들을 '충청남도'로 변경\n",
    "long_df['SIDO'] = long_df['SIDO'].replace(chungcheongnamdo_areas, '충청남도')\n"
   ]
  },
  {
   "cell_type": "code",
   "execution_count": 72,
   "metadata": {},
   "outputs": [],
   "source": [
    "# 대체하고자 하는 지역 이름 목록\n",
    "jeollabukdo_areas = [\"삼천동\", \"팔봉동\"]\n",
    "\n",
    "# 'SIDO' 열에서 해당 지역 이름들을 '전라북도'로 변경\n",
    "long_df['SIDO'] = long_df['SIDO'].replace(jeollabukdo_areas, '전라북도')\n"
   ]
  },
  {
   "cell_type": "code",
   "execution_count": 73,
   "metadata": {},
   "outputs": [],
   "source": [
    "# 대체하고자 하는 지역 이름 목록\n",
    "jeollanamdo_areas = [\"여천동\", \"쌍봉동\", \"묘도동\", \"율촌면\", \"중동\", \"신대리\", \"대불\", \"주삼동\"]\n",
    "\n",
    "# 'SIDO' 열에서 해당 지역 이름들을 '전라남도'로 변경\n",
    "long_df['SIDO'] = long_df['SIDO'].replace(jeollanamdo_areas, '전라남도')\n"
   ]
  },
  {
   "cell_type": "code",
   "execution_count": 74,
   "metadata": {},
   "outputs": [],
   "source": [
    "# 대체하고자 하는 지역 이름 목록\n",
    "gyeongsangbukdo_areas = [\"장흥동\", \"장량동\", \"죽도동\", \"대송면\", \"3공단\", \"4공단\", \"석포면\"]\n",
    "\n",
    "# 'SIDO' 열에서 해당 지역 이름들을 '경상북도'로 변경\n",
    "long_df['SIDO'] = long_df['SIDO'].replace(gyeongsangbukdo_areas, '경상북도')\n"
   ]
  },
  {
   "cell_type": "code",
   "execution_count": 75,
   "metadata": {},
   "outputs": [],
   "source": [
    "# 대체하고자 하는 지역 이름 목록\n",
    "gyeongsangnamdo_areas = [\"명서동\", \"봉암동\", \"하동읍\", \"아주동\"]\n",
    "\n",
    "# 'SIDO' 열에서 해당 지역 이름들을 '경상남도'로 변경\n",
    "long_df['SIDO'] = long_df['SIDO'].replace(gyeongsangnamdo_areas, '경상남도')\n"
   ]
  },
  {
   "cell_type": "code",
   "execution_count": 76,
   "metadata": {},
   "outputs": [],
   "source": [
    "long_df.to_csv('data/test/납.csv', index=False)"
   ]
  },
  {
   "cell_type": "code",
   "execution_count": 77,
   "metadata": {},
   "outputs": [
    {
     "data": {
      "text/plain": [
       "dtype('O')"
      ]
     },
     "execution_count": 77,
     "metadata": {},
     "output_type": "execute_result"
    }
   ],
   "source": [
    "long_df['납'].dtype"
   ]
  },
  {
   "cell_type": "code",
   "execution_count": 78,
   "metadata": {},
   "outputs": [],
   "source": [
    "long_df['납'] = pd.to_numeric(long_df['납'], errors='coerce') \n",
    "\n",
    "# 오브젝트 타입에서의 변환"
   ]
  },
  {
   "cell_type": "code",
   "execution_count": 79,
   "metadata": {},
   "outputs": [],
   "source": [
    "# SIDO, STD_YYYYMM 열을 기준으로 그룹바이 한후 PM10의 평균값을 새로운 콜롬에 저장\n",
    "long_df['AVG_납'] = long_df.groupby(['SIDO', 'STD_YYYYMM'])['납'].transform('mean')"
   ]
  },
  {
   "cell_type": "code",
   "execution_count": 80,
   "metadata": {},
   "outputs": [],
   "source": [
    "# 평균값을 소수점 넷째자리까지 반올림\n",
    "long_df['AVG_납'] = long_df['AVG_납'].round(4)"
   ]
  },
  {
   "cell_type": "code",
   "execution_count": 81,
   "metadata": {},
   "outputs": [],
   "source": [
    "long_df.to_csv('data/test/납.csv',index=False)"
   ]
  },
  {
   "cell_type": "code",
   "execution_count": 82,
   "metadata": {},
   "outputs": [],
   "source": [
    "df2 = long_df.drop_duplicates(subset=['SIDO', 'STD_YYYYMM', 'AVG_납'])\n",
    "# SIDO와 STD_YYYYMM 열을 기준으로 중복을 제거\n",
    "# 중복된 데이터를 제거하면 데이터가 정렬됨 "
   ]
  },
  {
   "cell_type": "code",
   "execution_count": 83,
   "metadata": {},
   "outputs": [],
   "source": [
    "# SIDO 열에 총계 또는 도평균을 포함하는 열을 필터링 \n",
    "df2 = df2[~df2['SIDO'].str.contains('총계|도평균')]"
   ]
  },
  {
   "cell_type": "code",
   "execution_count": 84,
   "metadata": {},
   "outputs": [],
   "source": [
    "# 납 , 항목 , 단위 콜롬 제거\n",
    "df2 = df2.drop(columns=['납', '항목', '단위'])"
   ]
  },
  {
   "cell_type": "code",
   "execution_count": 85,
   "metadata": {},
   "outputs": [],
   "source": [
    "# 'STD_YYYYMM' 열의 숫자가 아닌 문자를 제거\n",
    "df2['STD_YYYYMM'] = df2['STD_YYYYMM'].str.replace('[^\\d]', '', regex=True)"
   ]
  },
  {
   "cell_type": "code",
   "execution_count": 86,
   "metadata": {},
   "outputs": [],
   "source": [
    "# 결과를 정수 타입으로 변환\n",
    "df2['STD_YYYYMM'] = df2['STD_YYYYMM'].astype(int)\n"
   ]
  },
  {
   "cell_type": "code",
   "execution_count": 87,
   "metadata": {},
   "outputs": [
    {
     "data": {
      "text/plain": [
       "dtype('int32')"
      ]
     },
     "execution_count": 87,
     "metadata": {},
     "output_type": "execute_result"
    }
   ],
   "source": [
    "df2['STD_YYYYMM'].dtype"
   ]
  },
  {
   "cell_type": "code",
   "execution_count": 88,
   "metadata": {},
   "outputs": [],
   "source": [
    "df2.to_csv('data/test/납.csv', index=False)"
   ]
  },
  {
   "cell_type": "code",
   "execution_count": 89,
   "metadata": {},
   "outputs": [
    {
     "data": {
      "text/html": [
       "<div>\n",
       "<style scoped>\n",
       "    .dataframe tbody tr th:only-of-type {\n",
       "        vertical-align: middle;\n",
       "    }\n",
       "\n",
       "    .dataframe tbody tr th {\n",
       "        vertical-align: top;\n",
       "    }\n",
       "\n",
       "    .dataframe thead th {\n",
       "        text-align: right;\n",
       "    }\n",
       "</style>\n",
       "<table border=\"1\" class=\"dataframe\">\n",
       "  <thead>\n",
       "    <tr style=\"text-align: right;\">\n",
       "      <th></th>\n",
       "      <th>SIDO</th>\n",
       "      <th>STD_YYYYMM</th>\n",
       "      <th>AVG_납</th>\n",
       "    </tr>\n",
       "  </thead>\n",
       "  <tbody>\n",
       "    <tr>\n",
       "      <th>0</th>\n",
       "      <td>서울특별시</td>\n",
       "      <td>201301</td>\n",
       "      <td>0.0894</td>\n",
       "    </tr>\n",
       "    <tr>\n",
       "      <th>9</th>\n",
       "      <td>부산광역시</td>\n",
       "      <td>201301</td>\n",
       "      <td>0.0510</td>\n",
       "    </tr>\n",
       "    <tr>\n",
       "      <th>15</th>\n",
       "      <td>대구광역시</td>\n",
       "      <td>201301</td>\n",
       "      <td>0.0504</td>\n",
       "    </tr>\n",
       "    <tr>\n",
       "      <th>20</th>\n",
       "      <td>인천광역시</td>\n",
       "      <td>201301</td>\n",
       "      <td>0.1104</td>\n",
       "    </tr>\n",
       "    <tr>\n",
       "      <th>25</th>\n",
       "      <td>광주광역시</td>\n",
       "      <td>201301</td>\n",
       "      <td>0.0476</td>\n",
       "    </tr>\n",
       "  </tbody>\n",
       "</table>\n",
       "</div>"
      ],
      "text/plain": [
       "     SIDO  STD_YYYYMM   AVG_납\n",
       "0   서울특별시      201301  0.0894\n",
       "9   부산광역시      201301  0.0510\n",
       "15  대구광역시      201301  0.0504\n",
       "20  인천광역시      201301  0.1104\n",
       "25  광주광역시      201301  0.0476"
      ]
     },
     "execution_count": 89,
     "metadata": {},
     "output_type": "execute_result"
    }
   ],
   "source": [
    "df2.head()"
   ]
  },
  {
   "cell_type": "code",
   "execution_count": 90,
   "metadata": {},
   "outputs": [
    {
     "data": {
      "text/html": [
       "<div>\n",
       "<style scoped>\n",
       "    .dataframe tbody tr th:only-of-type {\n",
       "        vertical-align: middle;\n",
       "    }\n",
       "\n",
       "    .dataframe tbody tr th {\n",
       "        vertical-align: top;\n",
       "    }\n",
       "\n",
       "    .dataframe thead th {\n",
       "        text-align: right;\n",
       "    }\n",
       "</style>\n",
       "<table border=\"1\" class=\"dataframe\">\n",
       "  <thead>\n",
       "    <tr style=\"text-align: right;\">\n",
       "      <th></th>\n",
       "      <th>SIDO</th>\n",
       "      <th>STD_YYYYMM</th>\n",
       "      <th>AVG_납</th>\n",
       "    </tr>\n",
       "  </thead>\n",
       "  <tbody>\n",
       "    <tr>\n",
       "      <th>13726</th>\n",
       "      <td>충청남도</td>\n",
       "      <td>125</td>\n",
       "      <td>NaN</td>\n",
       "    </tr>\n",
       "    <tr>\n",
       "      <th>13731</th>\n",
       "      <td>전라북도</td>\n",
       "      <td>125</td>\n",
       "      <td>NaN</td>\n",
       "    </tr>\n",
       "    <tr>\n",
       "      <th>13734</th>\n",
       "      <td>전라남도</td>\n",
       "      <td>125</td>\n",
       "      <td>NaN</td>\n",
       "    </tr>\n",
       "    <tr>\n",
       "      <th>13741</th>\n",
       "      <td>경상북도</td>\n",
       "      <td>125</td>\n",
       "      <td>NaN</td>\n",
       "    </tr>\n",
       "    <tr>\n",
       "      <th>13748</th>\n",
       "      <td>경상남도</td>\n",
       "      <td>125</td>\n",
       "      <td>NaN</td>\n",
       "    </tr>\n",
       "  </tbody>\n",
       "</table>\n",
       "</div>"
      ],
      "text/plain": [
       "       SIDO  STD_YYYYMM  AVG_납\n",
       "13726  충청남도         125    NaN\n",
       "13731  전라북도         125    NaN\n",
       "13734  전라남도         125    NaN\n",
       "13741  경상북도         125    NaN\n",
       "13748  경상남도         125    NaN"
      ]
     },
     "execution_count": 90,
     "metadata": {},
     "output_type": "execute_result"
    }
   ],
   "source": [
    "df2.tail()"
   ]
  },
  {
   "cell_type": "code",
   "execution_count": 91,
   "metadata": {},
   "outputs": [],
   "source": [
    "import pandas as pd\n",
    "import numpy as np"
   ]
  },
  {
   "cell_type": "code",
   "execution_count": 92,
   "metadata": {},
   "outputs": [
    {
     "data": {
      "text/html": [
       "<div>\n",
       "<style scoped>\n",
       "    .dataframe tbody tr th:only-of-type {\n",
       "        vertical-align: middle;\n",
       "    }\n",
       "\n",
       "    .dataframe tbody tr th {\n",
       "        vertical-align: top;\n",
       "    }\n",
       "\n",
       "    .dataframe thead th {\n",
       "        text-align: right;\n",
       "    }\n",
       "</style>\n",
       "<table border=\"1\" class=\"dataframe\">\n",
       "  <thead>\n",
       "    <tr style=\"text-align: right;\">\n",
       "      <th></th>\n",
       "      <th>SIDO</th>\n",
       "      <th>STD_YYYYMM</th>\n",
       "      <th>AVG_납</th>\n",
       "    </tr>\n",
       "  </thead>\n",
       "  <tbody>\n",
       "    <tr>\n",
       "      <th>0</th>\n",
       "      <td>서울특별시</td>\n",
       "      <td>201301</td>\n",
       "      <td>0.0894</td>\n",
       "    </tr>\n",
       "    <tr>\n",
       "      <th>1</th>\n",
       "      <td>부산광역시</td>\n",
       "      <td>201301</td>\n",
       "      <td>0.0510</td>\n",
       "    </tr>\n",
       "    <tr>\n",
       "      <th>2</th>\n",
       "      <td>대구광역시</td>\n",
       "      <td>201301</td>\n",
       "      <td>0.0504</td>\n",
       "    </tr>\n",
       "    <tr>\n",
       "      <th>3</th>\n",
       "      <td>인천광역시</td>\n",
       "      <td>201301</td>\n",
       "      <td>0.1104</td>\n",
       "    </tr>\n",
       "    <tr>\n",
       "      <th>4</th>\n",
       "      <td>광주광역시</td>\n",
       "      <td>201301</td>\n",
       "      <td>0.0476</td>\n",
       "    </tr>\n",
       "  </tbody>\n",
       "</table>\n",
       "</div>"
      ],
      "text/plain": [
       "    SIDO  STD_YYYYMM   AVG_납\n",
       "0  서울특별시      201301  0.0894\n",
       "1  부산광역시      201301  0.0510\n",
       "2  대구광역시      201301  0.0504\n",
       "3  인천광역시      201301  0.1104\n",
       "4  광주광역시      201301  0.0476"
      ]
     },
     "execution_count": 92,
     "metadata": {},
     "output_type": "execute_result"
    }
   ],
   "source": [
    "df = pd.read_csv('data/test/납.csv')\n",
    "df.head()"
   ]
  },
  {
   "cell_type": "code",
   "execution_count": 93,
   "metadata": {},
   "outputs": [],
   "source": [
    "# 'AVG_납'의 값이 0.5 이하이거나 NaN이면 'N', 0.5 초과이면 'Y'를 '납_0.5BAD' 열에 할당\n",
    "df['납_0.5BAD'] = np.where((df['AVG_납'] <= 0.5) | pd.isna(df['AVG_납']), 'N', 'Y')\n"
   ]
  },
  {
   "cell_type": "code",
   "execution_count": 94,
   "metadata": {},
   "outputs": [
    {
     "data": {
      "text/html": [
       "<div>\n",
       "<style scoped>\n",
       "    .dataframe tbody tr th:only-of-type {\n",
       "        vertical-align: middle;\n",
       "    }\n",
       "\n",
       "    .dataframe tbody tr th {\n",
       "        vertical-align: top;\n",
       "    }\n",
       "\n",
       "    .dataframe thead th {\n",
       "        text-align: right;\n",
       "    }\n",
       "</style>\n",
       "<table border=\"1\" class=\"dataframe\">\n",
       "  <thead>\n",
       "    <tr style=\"text-align: right;\">\n",
       "      <th></th>\n",
       "      <th>SIDO</th>\n",
       "      <th>STD_YYYYMM</th>\n",
       "      <th>AVG_납</th>\n",
       "      <th>납_0.5BAD</th>\n",
       "    </tr>\n",
       "  </thead>\n",
       "  <tbody>\n",
       "    <tr>\n",
       "      <th>0</th>\n",
       "      <td>서울특별시</td>\n",
       "      <td>201301</td>\n",
       "      <td>0.0894</td>\n",
       "      <td>N</td>\n",
       "    </tr>\n",
       "    <tr>\n",
       "      <th>1</th>\n",
       "      <td>부산광역시</td>\n",
       "      <td>201301</td>\n",
       "      <td>0.0510</td>\n",
       "      <td>N</td>\n",
       "    </tr>\n",
       "    <tr>\n",
       "      <th>2</th>\n",
       "      <td>대구광역시</td>\n",
       "      <td>201301</td>\n",
       "      <td>0.0504</td>\n",
       "      <td>N</td>\n",
       "    </tr>\n",
       "    <tr>\n",
       "      <th>3</th>\n",
       "      <td>인천광역시</td>\n",
       "      <td>201301</td>\n",
       "      <td>0.1104</td>\n",
       "      <td>N</td>\n",
       "    </tr>\n",
       "    <tr>\n",
       "      <th>4</th>\n",
       "      <td>광주광역시</td>\n",
       "      <td>201301</td>\n",
       "      <td>0.0476</td>\n",
       "      <td>N</td>\n",
       "    </tr>\n",
       "  </tbody>\n",
       "</table>\n",
       "</div>"
      ],
      "text/plain": [
       "    SIDO  STD_YYYYMM   AVG_납 납_0.5BAD\n",
       "0  서울특별시      201301  0.0894        N\n",
       "1  부산광역시      201301  0.0510        N\n",
       "2  대구광역시      201301  0.0504        N\n",
       "3  인천광역시      201301  0.1104        N\n",
       "4  광주광역시      201301  0.0476        N"
      ]
     },
     "execution_count": 94,
     "metadata": {},
     "output_type": "execute_result"
    }
   ],
   "source": [
    "df.head()"
   ]
  },
  {
   "cell_type": "code",
   "execution_count": 95,
   "metadata": {},
   "outputs": [],
   "source": [
    "df.to_csv('data/test/납.csv', index=False)"
   ]
  },
  {
   "cell_type": "code",
   "execution_count": 96,
   "metadata": {},
   "outputs": [
    {
     "data": {
      "text/plain": [
       "납_0.5BAD\n",
       "N    1968\n",
       "Name: count, dtype: int64"
      ]
     },
     "execution_count": 96,
     "metadata": {},
     "output_type": "execute_result"
    }
   ],
   "source": [
    "df['납_0.5BAD'].value_counts()"
   ]
  },
  {
   "cell_type": "markdown",
   "metadata": {},
   "source": [
    "\n",
    "대기 중 납(Pb)에 대한 대기환경 기준은 다음과 같습니다:\n",
    "\n",
    "연간평균치 0.5㎍/㎥ 이하\n",
    "\n"
   ]
  },
  {
   "cell_type": "markdown",
   "metadata": {},
   "source": [
    "\"납의 기준치를 분석한 결과, 대부분의 데이터가 'N'으로 분류되어 있어, 'Y'와 'N' 사이의 비교가 불균형적입니다. 이로 인해, 납 농도의 영향을 정확하게 평가하기 어렵습니다. 데이터의 이러한 불균형은 통계적 분석의 신뢰도를 저하시킬 수 있으며, 따라서 추가 데이터를 수집하거나 다른 접근 방법을 고려할 필요가 있습니다.\""
   ]
  },
  {
   "cell_type": "markdown",
   "metadata": {},
   "source": [
    "\n",
    "데이터의 전체 평균을 기준으로 '납_BAD' 열에 'Y' 또는 'N'을 할당하는 방법은 여러 측면에서 분석에 적용될 수 있습니다:"
   ]
  },
  {
   "cell_type": "markdown",
   "metadata": {},
   "source": [
    "상대적 비교: 데이터셋 내에서의 상대적인 대기질을 비교하는 데 중요합니다. 이 방법은 데이터 내에서의 변동성을 포착하고, 특정 시기나 지역에서의 대기질 변화를 이해하는 데 도움이 됩니다.\n",
    "\n",
    "특정 연구 목적: 연구의 목적이나 가설에 따라 데이터 내에서의 기준 설정이 필요할 수 있습니다. 예를 들어, 특정 지역 또는 시간대의 대기질 변화를 연구하는 경우에 적합할 수 있습니다.\n",
    "\n",
    "데이터 특성 고려: 사용 가능한 데이터의 특성과 한계를 고려하여, 가장 적합한 분석 방법을 선택하는 것이 중요합니다.\n",
    "\n",
    "그러나 이러한 접근 방법은 다음과 같은 제한 사항을 고려해야 합니다:\n",
    "\n",
    "주관적 기준: 자체적으로 설정한 기준은 주관적일 수 있으며, 다른 연구나 데이터셋과의 비교가 어려울 수 있습니다.\n",
    "외부 요인의 영향: 데이터의 평균치가 특정한 외부 요인(예: 계절적 변화, 특정 사건)의 영향을 받을 수 있으므로, 이러한 요인들을 고려해야 합니다."
   ]
  },
  {
   "cell_type": "code",
   "execution_count": 97,
   "metadata": {},
   "outputs": [],
   "source": [
    "# AVG_납의 평균 계산\n",
    "avg_납 = df['AVG_납'].mean()\n",
    "\n",
    "# 조건에 따라 납_BAD에 Y 또는 N 할당\n",
    "df['납_BAD'] = df['AVG_납'].apply(lambda x: 'Y' if x > avg_납 else 'N')\n"
   ]
  },
  {
   "cell_type": "code",
   "execution_count": 98,
   "metadata": {},
   "outputs": [
    {
     "data": {
      "text/plain": [
       "0.022183690987124464"
      ]
     },
     "execution_count": 98,
     "metadata": {},
     "output_type": "execute_result"
    }
   ],
   "source": [
    "avg_납"
   ]
  },
  {
   "cell_type": "code",
   "execution_count": 99,
   "metadata": {},
   "outputs": [
    {
     "data": {
      "text/plain": [
       "납_BAD\n",
       "N    1260\n",
       "Y     708\n",
       "Name: count, dtype: int64"
      ]
     },
     "execution_count": 99,
     "metadata": {},
     "output_type": "execute_result"
    }
   ],
   "source": [
    "df['납_BAD'].value_counts()"
   ]
  },
  {
   "cell_type": "code",
   "execution_count": 100,
   "metadata": {},
   "outputs": [],
   "source": [
    "df.to_csv('data/test/납.csv', index=False)"
   ]
  },
  {
   "cell_type": "code",
   "execution_count": null,
   "metadata": {},
   "outputs": [],
   "source": []
  }
 ],
 "metadata": {
  "kernelspec": {
   "display_name": "base",
   "language": "python",
   "name": "python3"
  },
  "language_info": {
   "codemirror_mode": {
    "name": "ipython",
    "version": 3
   },
   "file_extension": ".py",
   "mimetype": "text/x-python",
   "name": "python",
   "nbconvert_exporter": "python",
   "pygments_lexer": "ipython3",
   "version": "3.11.4"
  }
 },
 "nbformat": 4,
 "nbformat_minor": 2
}
