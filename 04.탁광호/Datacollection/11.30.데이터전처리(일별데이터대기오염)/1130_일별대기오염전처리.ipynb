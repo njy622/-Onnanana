{
 "cells": [
  {
   "cell_type": "code",
   "execution_count": 48,
   "metadata": {},
   "outputs": [],
   "source": [
    "import pandas as pd"
   ]
  },
  {
   "cell_type": "code",
   "execution_count": 49,
   "metadata": {},
   "outputs": [],
   "source": [
    "df = pd.read_excel('data/일별평균대기오염도_2010.xlsx')"
   ]
  },
  {
   "cell_type": "code",
   "execution_count": 50,
   "metadata": {},
   "outputs": [],
   "source": [
    "df = df.drop(columns=['측정소명'])\n",
    "# 측정일시 별로 그룹화하여 평균 계산\n",
    "df = df.groupby('측정일시').mean()"
   ]
  },
  {
   "cell_type": "code",
   "execution_count": 51,
   "metadata": {},
   "outputs": [],
   "source": [
    "df1 = pd.read_excel('data/일별평균대기오염도_2011.xlsx')\n",
    "df1 = df1.drop(columns=['측정소명'])\n",
    "# 측정일시 별로 그룹화하여 평균 계산\n",
    "df1 = df1.groupby('측정일시').mean()"
   ]
  },
  {
   "cell_type": "code",
   "execution_count": 52,
   "metadata": {},
   "outputs": [],
   "source": [
    "df2 = pd.read_excel('data/일별평균대기오염도_2012.xlsx')\n",
    "df2 = df2.drop(columns=['측정소명'])\n",
    "# 측정일시 별로 그룹화하여 평균 계산\n",
    "df2 = df2.groupby('측정일시').mean()"
   ]
  },
  {
   "cell_type": "code",
   "execution_count": 53,
   "metadata": {},
   "outputs": [],
   "source": [
    "df3 = pd.read_excel('data/일별평균대기오염도_2013.xlsx')\n",
    "df3 = df3.drop(columns=['측정소명'])\n",
    "# 측정일시 별로 그룹화하여 평균 계산\n",
    "df3 = df3.groupby('측정일시').mean()"
   ]
  },
  {
   "cell_type": "code",
   "execution_count": 54,
   "metadata": {},
   "outputs": [],
   "source": [
    "df4 = pd.read_excel('data/일별평균대기오염도_2014.xlsx')\n",
    "df4 = df4.drop(columns=['측정소명'])\n",
    "# 측정일시 별로 그룹화하여 평균 계산\n",
    "df4 = df4.groupby('측정일시').mean()"
   ]
  },
  {
   "cell_type": "code",
   "execution_count": 55,
   "metadata": {},
   "outputs": [],
   "source": [
    "df5 = pd.read_excel('data/일별평균대기오염도_2015.xlsx')\n",
    "df5 = df5.drop(columns=['측정소명'])\n",
    "# 측정일시 별로 그룹화하여 평균 계산\n",
    "df5 = df5.groupby('측정일시').mean()"
   ]
  },
  {
   "cell_type": "code",
   "execution_count": 56,
   "metadata": {},
   "outputs": [],
   "source": [
    "df6 = pd.read_excel('data/일별평균대기오염도_2016.xlsx')\n",
    "df6 = df6.drop(columns=['측정소명'])\n",
    "# 측정일시 별로 그룹화하여 평균 계산\n",
    "df6 = df6.groupby('측정일시').mean()"
   ]
  },
  {
   "cell_type": "code",
   "execution_count": 57,
   "metadata": {},
   "outputs": [],
   "source": [
    "df7 = pd.read_excel('data/일별평균대기오염도_2017.xlsx')\n",
    "df7 = df7.drop(columns=['측정소명'])\n",
    "# 측정일시 별로 그룹화하여 평균 계산\n",
    "df7 = df7.groupby('측정일시').mean()"
   ]
  },
  {
   "cell_type": "code",
   "execution_count": 58,
   "metadata": {},
   "outputs": [],
   "source": [
    "df8 = pd.read_csv('data/일별평균대기오염도_2018.csv', encoding='euc-kr')\n",
    "df8 = df8.drop(columns=['측정소명'])\n",
    "# 측정일시 별로 그룹화하여 평균 계산\n",
    "df8 = df8.groupby('측정일시').mean()"
   ]
  },
  {
   "cell_type": "code",
   "execution_count": 59,
   "metadata": {},
   "outputs": [],
   "source": [
    "df9 = pd.read_csv('data/일별평균대기오염도_2019.csv', encoding='euc-kr')\n",
    "df9 = df9.drop(columns=['측정소명'])\n",
    "# 측정일시 별로 그룹화하여 평균 계산\n",
    "df9 = df9.groupby('측정일시').mean()"
   ]
  },
  {
   "cell_type": "code",
   "execution_count": 60,
   "metadata": {},
   "outputs": [],
   "source": [
    "df10 = pd.read_csv('data/일별평균대기오염도_2020.csv', encoding='euc-kr')\n",
    "df10 = df10.drop(columns=['측정소명'])\n",
    "# 측정일시 별로 그룹화하여 평균 계산\n",
    "df10 = df10.groupby('측정일시').mean()"
   ]
  },
  {
   "cell_type": "code",
   "execution_count": 61,
   "metadata": {},
   "outputs": [],
   "source": [
    "df11 = pd.read_csv('data/일별평균대기오염도_2021.csv', encoding='euc-kr')\n",
    "df11 = df11.drop(columns=['측정소명'])\n",
    "# 측정일시 별로 그룹화하여 평균 계산\n",
    "df11 = df11.groupby('측정일시').mean()"
   ]
  },
  {
   "cell_type": "code",
   "execution_count": 62,
   "metadata": {},
   "outputs": [],
   "source": [
    "df12 = pd.read_csv('data/일별평균대기오염도_2022.csv', encoding='euc-kr')\n",
    "df12 = df12.drop(columns=['측정소명'])\n",
    "# 측정일시 별로 그룹화하여 평균 계산\n",
    "df12 = df12.groupby('측정일시').mean()"
   ]
  },
  {
   "cell_type": "code",
   "execution_count": 63,
   "metadata": {},
   "outputs": [
    {
     "data": {
      "text/html": [
       "<div>\n",
       "<style scoped>\n",
       "    .dataframe tbody tr th:only-of-type {\n",
       "        vertical-align: middle;\n",
       "    }\n",
       "\n",
       "    .dataframe tbody tr th {\n",
       "        vertical-align: top;\n",
       "    }\n",
       "\n",
       "    .dataframe thead th {\n",
       "        text-align: right;\n",
       "    }\n",
       "</style>\n",
       "<table border=\"1\" class=\"dataframe\">\n",
       "  <thead>\n",
       "    <tr style=\"text-align: right;\">\n",
       "      <th></th>\n",
       "      <th>이산화질소농도(ppm)</th>\n",
       "      <th>오존농도(ppm)</th>\n",
       "      <th>일산화탄소농도(ppm)</th>\n",
       "      <th>아황산가스농도(ppm)</th>\n",
       "      <th>미세먼지농도(㎍/㎥)</th>\n",
       "      <th>초미세먼지농도(㎍/㎥)</th>\n",
       "    </tr>\n",
       "    <tr>\n",
       "      <th>측정일시</th>\n",
       "      <th></th>\n",
       "      <th></th>\n",
       "      <th></th>\n",
       "      <th></th>\n",
       "      <th></th>\n",
       "      <th></th>\n",
       "    </tr>\n",
       "  </thead>\n",
       "  <tbody>\n",
       "    <tr>\n",
       "      <th>20220101</th>\n",
       "      <td>0.03412</td>\n",
       "      <td>0.01278</td>\n",
       "      <td>0.624</td>\n",
       "      <td>0.00352</td>\n",
       "      <td>27.80</td>\n",
       "      <td>14.38</td>\n",
       "    </tr>\n",
       "    <tr>\n",
       "      <th>20220102</th>\n",
       "      <td>0.02966</td>\n",
       "      <td>0.01638</td>\n",
       "      <td>0.612</td>\n",
       "      <td>0.00334</td>\n",
       "      <td>35.32</td>\n",
       "      <td>23.58</td>\n",
       "    </tr>\n",
       "    <tr>\n",
       "      <th>20220103</th>\n",
       "      <td>0.03846</td>\n",
       "      <td>0.00894</td>\n",
       "      <td>0.660</td>\n",
       "      <td>0.00360</td>\n",
       "      <td>25.90</td>\n",
       "      <td>15.04</td>\n",
       "    </tr>\n",
       "    <tr>\n",
       "      <th>20220104</th>\n",
       "      <td>0.02618</td>\n",
       "      <td>0.01678</td>\n",
       "      <td>0.594</td>\n",
       "      <td>0.00372</td>\n",
       "      <td>35.00</td>\n",
       "      <td>19.60</td>\n",
       "    </tr>\n",
       "    <tr>\n",
       "      <th>20220105</th>\n",
       "      <td>0.04180</td>\n",
       "      <td>0.00664</td>\n",
       "      <td>0.812</td>\n",
       "      <td>0.00404</td>\n",
       "      <td>48.26</td>\n",
       "      <td>28.82</td>\n",
       "    </tr>\n",
       "  </tbody>\n",
       "</table>\n",
       "</div>"
      ],
      "text/plain": [
       "          이산화질소농도(ppm)  오존농도(ppm)  일산화탄소농도(ppm)  아황산가스농도(ppm)  미세먼지농도(㎍/㎥)  \\\n",
       "측정일시                                                                         \n",
       "20220101       0.03412    0.01278         0.624       0.00352        27.80   \n",
       "20220102       0.02966    0.01638         0.612       0.00334        35.32   \n",
       "20220103       0.03846    0.00894         0.660       0.00360        25.90   \n",
       "20220104       0.02618    0.01678         0.594       0.00372        35.00   \n",
       "20220105       0.04180    0.00664         0.812       0.00404        48.26   \n",
       "\n",
       "          초미세먼지농도(㎍/㎥)  \n",
       "측정일시                    \n",
       "20220101         14.38  \n",
       "20220102         23.58  \n",
       "20220103         15.04  \n",
       "20220104         19.60  \n",
       "20220105         28.82  "
      ]
     },
     "execution_count": 63,
     "metadata": {},
     "output_type": "execute_result"
    }
   ],
   "source": [
    "df12.head()"
   ]
  },
  {
   "cell_type": "code",
   "execution_count": 64,
   "metadata": {},
   "outputs": [
    {
     "name": "stdout",
     "output_type": "stream",
     "text": [
      "          측정일시  이산화질소농도(ppm)  오존농도(ppm)  이산화탄소농도(ppm)  아황산가스(ppm)  미세먼지(㎍/㎥)  \\\n",
      "0     20100101      0.038297   0.006973      0.656757    0.006919  34.297297   \n",
      "1     20100102      0.036243   0.009162      0.659459    0.007676  52.189189   \n",
      "2     20100103      0.036162   0.014189      0.675676    0.007378  48.405405   \n",
      "3     20100104      0.038459   0.011216      0.627027    0.005108  38.486486   \n",
      "4     20100105      0.029081   0.020297      0.535135    0.006351  48.756757   \n",
      "...        ...           ...        ...           ...         ...        ...   \n",
      "4743  20221227      0.046700   0.008260           NaN         NaN        NaN   \n",
      "4744  20221228      0.027920   0.017380           NaN         NaN        NaN   \n",
      "4745  20221229      0.032860   0.012900           NaN         NaN        NaN   \n",
      "4746  20221230      0.033660   0.014720           NaN         NaN        NaN   \n",
      "4747  20221231      0.041980   0.008300           NaN         NaN        NaN   \n",
      "\n",
      "      초미세먼지(㎍/㎥)  일산화탄소농도(ppm)  아황산가스농도(ppm)  미세먼지농도(㎍/㎥)  초미세먼지농도(㎍/㎥)  \n",
      "0            NaN           NaN           NaN          NaN           NaN  \n",
      "1            NaN           NaN           NaN          NaN           NaN  \n",
      "2            NaN           NaN           NaN          NaN           NaN  \n",
      "3            NaN           NaN           NaN          NaN           NaN  \n",
      "4            NaN           NaN           NaN          NaN           NaN  \n",
      "...          ...           ...           ...          ...           ...  \n",
      "4743         NaN         0.872       0.00366        49.08         36.00  \n",
      "4744         NaN         0.564       0.00352        34.92         20.46  \n",
      "4745         NaN         0.576       0.00380        30.10         17.84  \n",
      "4746         NaN         0.606       0.00360        38.20         26.94  \n",
      "4747         NaN         0.786       0.00378        43.18         32.22  \n",
      "\n",
      "[4748 rows x 11 columns]\n"
     ]
    }
   ],
   "source": [
    "# 데이터프레임 리스트 생성\n",
    "dataframes = [df, df1, df2, df3, df4, df5, df6, df7, df8, df9, df10, df11, df12]\n",
    "\n",
    "# 각 데이터프레임에서 '측정일시'를 일반 컬럼으로 변환\n",
    "dataframes = [df.reset_index() for df in dataframes]\n",
    "\n",
    "# 모든 데이터프레임을 하나로 합치기\n",
    "combined_df = pd.concat(dataframes, ignore_index=True)\n",
    "\n",
    "# 결과 확인\n",
    "print(combined_df)\n",
    "\n"
   ]
  },
  {
   "cell_type": "code",
   "execution_count": 72,
   "metadata": {},
   "outputs": [],
   "source": [
    "combined_df.to_csv('data/일별대기오염합침.csv', index=False)"
   ]
  },
  {
   "cell_type": "code",
   "execution_count": 66,
   "metadata": {},
   "outputs": [
    {
     "data": {
      "text/plain": [
       "Index(['측정일시', '이산화질소농도(ppm)', '오존농도(ppm)', '이산화탄소농도(ppm)', '아황산가스(ppm)',\n",
       "       '미세먼지(㎍/㎥)', '초미세먼지(㎍/㎥)', '일산화탄소농도(ppm)', '아황산가스농도(ppm)',\n",
       "       '미세먼지농도(㎍/㎥)', '초미세먼지농도(㎍/㎥)'],\n",
       "      dtype='object')"
      ]
     },
     "execution_count": 66,
     "metadata": {},
     "output_type": "execute_result"
    }
   ],
   "source": [
    "combined_df.columns"
   ]
  },
  {
   "cell_type": "code",
   "execution_count": 69,
   "metadata": {},
   "outputs": [],
   "source": [
    "combined_df['이산화질소농도(ppm)'] = combined_df['이산화질소농도(ppm)'].round(3)\n",
    "combined_df['오존농도(ppm)'] = combined_df['오존농도(ppm)'].round(3)\n",
    "combined_df['일산화탄소농도(ppm)'] = combined_df['일산화탄소농도(ppm)'].round(1)\n",
    "combined_df['아황산가스(ppm)'] = combined_df['아황산가스(ppm)'].round(3)\n",
    "combined_df['미세먼지(㎍/㎥)'] = combined_df['미세먼지(㎍/㎥)'].round(0)\n",
    "combined_df['초미세먼지(㎍/㎥)'] = combined_df['초미세먼지(㎍/㎥)'].round(0)\n"
   ]
  },
  {
   "cell_type": "code",
   "execution_count": 70,
   "metadata": {},
   "outputs": [],
   "source": [
    "import re\n",
    "\n",
    "def remove_non_korean_characters(column_name):\n",
    "    return re.sub('[^가-힣]', '', column_name)\n",
    "\n",
    "combined_df = combined_df.rename(columns={col: remove_non_korean_characters(col) for col in combined_df.columns})\n"
   ]
  },
  {
   "cell_type": "code",
   "execution_count": 71,
   "metadata": {},
   "outputs": [
    {
     "data": {
      "text/html": [
       "<div>\n",
       "<style scoped>\n",
       "    .dataframe tbody tr th:only-of-type {\n",
       "        vertical-align: middle;\n",
       "    }\n",
       "\n",
       "    .dataframe tbody tr th {\n",
       "        vertical-align: top;\n",
       "    }\n",
       "\n",
       "    .dataframe thead th {\n",
       "        text-align: right;\n",
       "    }\n",
       "</style>\n",
       "<table border=\"1\" class=\"dataframe\">\n",
       "  <thead>\n",
       "    <tr style=\"text-align: right;\">\n",
       "      <th></th>\n",
       "      <th>측정일시</th>\n",
       "      <th>이산화질소농도</th>\n",
       "      <th>오존농도</th>\n",
       "      <th>이산화탄소농도</th>\n",
       "      <th>아황산가스</th>\n",
       "      <th>미세먼지</th>\n",
       "      <th>초미세먼지</th>\n",
       "      <th>일산화탄소농도</th>\n",
       "      <th>아황산가스농도</th>\n",
       "      <th>미세먼지농도</th>\n",
       "      <th>초미세먼지농도</th>\n",
       "    </tr>\n",
       "  </thead>\n",
       "  <tbody>\n",
       "    <tr>\n",
       "      <th>0</th>\n",
       "      <td>20100101</td>\n",
       "      <td>0.038</td>\n",
       "      <td>0.007</td>\n",
       "      <td>0.656757</td>\n",
       "      <td>0.007</td>\n",
       "      <td>34.0</td>\n",
       "      <td>NaN</td>\n",
       "      <td>NaN</td>\n",
       "      <td>NaN</td>\n",
       "      <td>NaN</td>\n",
       "      <td>NaN</td>\n",
       "    </tr>\n",
       "    <tr>\n",
       "      <th>1</th>\n",
       "      <td>20100102</td>\n",
       "      <td>0.036</td>\n",
       "      <td>0.009</td>\n",
       "      <td>0.659459</td>\n",
       "      <td>0.008</td>\n",
       "      <td>52.0</td>\n",
       "      <td>NaN</td>\n",
       "      <td>NaN</td>\n",
       "      <td>NaN</td>\n",
       "      <td>NaN</td>\n",
       "      <td>NaN</td>\n",
       "    </tr>\n",
       "    <tr>\n",
       "      <th>2</th>\n",
       "      <td>20100103</td>\n",
       "      <td>0.036</td>\n",
       "      <td>0.014</td>\n",
       "      <td>0.675676</td>\n",
       "      <td>0.007</td>\n",
       "      <td>48.0</td>\n",
       "      <td>NaN</td>\n",
       "      <td>NaN</td>\n",
       "      <td>NaN</td>\n",
       "      <td>NaN</td>\n",
       "      <td>NaN</td>\n",
       "    </tr>\n",
       "    <tr>\n",
       "      <th>3</th>\n",
       "      <td>20100104</td>\n",
       "      <td>0.038</td>\n",
       "      <td>0.011</td>\n",
       "      <td>0.627027</td>\n",
       "      <td>0.005</td>\n",
       "      <td>38.0</td>\n",
       "      <td>NaN</td>\n",
       "      <td>NaN</td>\n",
       "      <td>NaN</td>\n",
       "      <td>NaN</td>\n",
       "      <td>NaN</td>\n",
       "    </tr>\n",
       "    <tr>\n",
       "      <th>4</th>\n",
       "      <td>20100105</td>\n",
       "      <td>0.029</td>\n",
       "      <td>0.020</td>\n",
       "      <td>0.535135</td>\n",
       "      <td>0.006</td>\n",
       "      <td>49.0</td>\n",
       "      <td>NaN</td>\n",
       "      <td>NaN</td>\n",
       "      <td>NaN</td>\n",
       "      <td>NaN</td>\n",
       "      <td>NaN</td>\n",
       "    </tr>\n",
       "    <tr>\n",
       "      <th>...</th>\n",
       "      <td>...</td>\n",
       "      <td>...</td>\n",
       "      <td>...</td>\n",
       "      <td>...</td>\n",
       "      <td>...</td>\n",
       "      <td>...</td>\n",
       "      <td>...</td>\n",
       "      <td>...</td>\n",
       "      <td>...</td>\n",
       "      <td>...</td>\n",
       "      <td>...</td>\n",
       "    </tr>\n",
       "    <tr>\n",
       "      <th>4743</th>\n",
       "      <td>20221227</td>\n",
       "      <td>0.047</td>\n",
       "      <td>0.008</td>\n",
       "      <td>NaN</td>\n",
       "      <td>NaN</td>\n",
       "      <td>NaN</td>\n",
       "      <td>NaN</td>\n",
       "      <td>0.9</td>\n",
       "      <td>0.00366</td>\n",
       "      <td>49.08</td>\n",
       "      <td>36.00</td>\n",
       "    </tr>\n",
       "    <tr>\n",
       "      <th>4744</th>\n",
       "      <td>20221228</td>\n",
       "      <td>0.028</td>\n",
       "      <td>0.017</td>\n",
       "      <td>NaN</td>\n",
       "      <td>NaN</td>\n",
       "      <td>NaN</td>\n",
       "      <td>NaN</td>\n",
       "      <td>0.6</td>\n",
       "      <td>0.00352</td>\n",
       "      <td>34.92</td>\n",
       "      <td>20.46</td>\n",
       "    </tr>\n",
       "    <tr>\n",
       "      <th>4745</th>\n",
       "      <td>20221229</td>\n",
       "      <td>0.033</td>\n",
       "      <td>0.013</td>\n",
       "      <td>NaN</td>\n",
       "      <td>NaN</td>\n",
       "      <td>NaN</td>\n",
       "      <td>NaN</td>\n",
       "      <td>0.6</td>\n",
       "      <td>0.00380</td>\n",
       "      <td>30.10</td>\n",
       "      <td>17.84</td>\n",
       "    </tr>\n",
       "    <tr>\n",
       "      <th>4746</th>\n",
       "      <td>20221230</td>\n",
       "      <td>0.034</td>\n",
       "      <td>0.015</td>\n",
       "      <td>NaN</td>\n",
       "      <td>NaN</td>\n",
       "      <td>NaN</td>\n",
       "      <td>NaN</td>\n",
       "      <td>0.6</td>\n",
       "      <td>0.00360</td>\n",
       "      <td>38.20</td>\n",
       "      <td>26.94</td>\n",
       "    </tr>\n",
       "    <tr>\n",
       "      <th>4747</th>\n",
       "      <td>20221231</td>\n",
       "      <td>0.042</td>\n",
       "      <td>0.008</td>\n",
       "      <td>NaN</td>\n",
       "      <td>NaN</td>\n",
       "      <td>NaN</td>\n",
       "      <td>NaN</td>\n",
       "      <td>0.8</td>\n",
       "      <td>0.00378</td>\n",
       "      <td>43.18</td>\n",
       "      <td>32.22</td>\n",
       "    </tr>\n",
       "  </tbody>\n",
       "</table>\n",
       "<p>4748 rows × 11 columns</p>\n",
       "</div>"
      ],
      "text/plain": [
       "          측정일시  이산화질소농도   오존농도   이산화탄소농도  아황산가스  미세먼지  초미세먼지  일산화탄소농도  \\\n",
       "0     20100101    0.038  0.007  0.656757  0.007  34.0    NaN      NaN   \n",
       "1     20100102    0.036  0.009  0.659459  0.008  52.0    NaN      NaN   \n",
       "2     20100103    0.036  0.014  0.675676  0.007  48.0    NaN      NaN   \n",
       "3     20100104    0.038  0.011  0.627027  0.005  38.0    NaN      NaN   \n",
       "4     20100105    0.029  0.020  0.535135  0.006  49.0    NaN      NaN   \n",
       "...        ...      ...    ...       ...    ...   ...    ...      ...   \n",
       "4743  20221227    0.047  0.008       NaN    NaN   NaN    NaN      0.9   \n",
       "4744  20221228    0.028  0.017       NaN    NaN   NaN    NaN      0.6   \n",
       "4745  20221229    0.033  0.013       NaN    NaN   NaN    NaN      0.6   \n",
       "4746  20221230    0.034  0.015       NaN    NaN   NaN    NaN      0.6   \n",
       "4747  20221231    0.042  0.008       NaN    NaN   NaN    NaN      0.8   \n",
       "\n",
       "      아황산가스농도  미세먼지농도  초미세먼지농도  \n",
       "0         NaN     NaN      NaN  \n",
       "1         NaN     NaN      NaN  \n",
       "2         NaN     NaN      NaN  \n",
       "3         NaN     NaN      NaN  \n",
       "4         NaN     NaN      NaN  \n",
       "...       ...     ...      ...  \n",
       "4743  0.00366   49.08    36.00  \n",
       "4744  0.00352   34.92    20.46  \n",
       "4745  0.00380   30.10    17.84  \n",
       "4746  0.00360   38.20    26.94  \n",
       "4747  0.00378   43.18    32.22  \n",
       "\n",
       "[4748 rows x 11 columns]"
      ]
     },
     "execution_count": 71,
     "metadata": {},
     "output_type": "execute_result"
    }
   ],
   "source": [
    "combined_df"
   ]
  },
  {
   "cell_type": "code",
   "execution_count": null,
   "metadata": {},
   "outputs": [],
   "source": []
  }
 ],
 "metadata": {
  "kernelspec": {
   "display_name": "base",
   "language": "python",
   "name": "python3"
  },
  "language_info": {
   "codemirror_mode": {
    "name": "ipython",
    "version": 3
   },
   "file_extension": ".py",
   "mimetype": "text/x-python",
   "name": "python",
   "nbconvert_exporter": "python",
   "pygments_lexer": "ipython3",
   "version": "3.11.4"
  }
 },
 "nbformat": 4,
 "nbformat_minor": 2
}
