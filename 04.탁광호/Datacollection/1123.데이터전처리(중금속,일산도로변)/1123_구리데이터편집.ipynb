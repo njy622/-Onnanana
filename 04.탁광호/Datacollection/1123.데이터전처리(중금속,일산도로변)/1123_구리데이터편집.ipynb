{
 "cells": [
  {
   "cell_type": "code",
   "execution_count": 1,
   "metadata": {},
   "outputs": [],
   "source": [
    "import pandas as pd"
   ]
  },
  {
   "cell_type": "code",
   "execution_count": 2,
   "metadata": {},
   "outputs": [],
   "source": [
    "df = pd.read_csv('../data/구리.csv', encoding='ansi')"
   ]
  },
  {
   "cell_type": "code",
   "execution_count": 3,
   "metadata": {},
   "outputs": [],
   "source": [
    "df.to_csv('data/구리.csv', index=False)"
   ]
  },
  {
   "cell_type": "code",
   "execution_count": 3,
   "metadata": {},
   "outputs": [
    {
     "data": {
      "text/html": [
       "<div>\n",
       "<style scoped>\n",
       "    .dataframe tbody tr th:only-of-type {\n",
       "        vertical-align: middle;\n",
       "    }\n",
       "\n",
       "    .dataframe tbody tr th {\n",
       "        vertical-align: top;\n",
       "    }\n",
       "\n",
       "    .dataframe thead th {\n",
       "        text-align: right;\n",
       "    }\n",
       "</style>\n",
       "<table border=\"1\" class=\"dataframe\">\n",
       "  <thead>\n",
       "    <tr style=\"text-align: right;\">\n",
       "      <th></th>\n",
       "      <th>구분</th>\n",
       "      <th>항목</th>\n",
       "      <th>단위</th>\n",
       "      <th>2013.01 월</th>\n",
       "      <th>2013.02 월</th>\n",
       "      <th>2013.03 월</th>\n",
       "      <th>2013.04 월</th>\n",
       "      <th>2013.05 월</th>\n",
       "      <th>2013.06 월</th>\n",
       "      <th>2013.07 월</th>\n",
       "      <th>...</th>\n",
       "      <th>2022.06 월</th>\n",
       "      <th>2022.07 월</th>\n",
       "      <th>2022.08 월</th>\n",
       "      <th>2022.09 월</th>\n",
       "      <th>2022.10 월</th>\n",
       "      <th>2022.11 월</th>\n",
       "      <th>2022.12 월</th>\n",
       "      <th>2023.01 월</th>\n",
       "      <th>2023.02 월</th>\n",
       "      <th>Unnamed: 125</th>\n",
       "    </tr>\n",
       "  </thead>\n",
       "  <tbody>\n",
       "    <tr>\n",
       "      <th>0</th>\n",
       "      <td>대흥동</td>\n",
       "      <td>Cu</td>\n",
       "      <td>NaN</td>\n",
       "      <td>0.0302</td>\n",
       "      <td>0.0236</td>\n",
       "      <td>0.0365</td>\n",
       "      <td>0.0290</td>\n",
       "      <td>0.0455</td>\n",
       "      <td>0.0155</td>\n",
       "      <td>.0082</td>\n",
       "      <td>...</td>\n",
       "      <td>NaN</td>\n",
       "      <td>NaN</td>\n",
       "      <td>NaN</td>\n",
       "      <td>NaN</td>\n",
       "      <td>NaN</td>\n",
       "      <td>NaN</td>\n",
       "      <td>NaN</td>\n",
       "      <td>NaN</td>\n",
       "      <td>NaN</td>\n",
       "      <td>NaN</td>\n",
       "    </tr>\n",
       "    <tr>\n",
       "      <th>1</th>\n",
       "      <td>성수동</td>\n",
       "      <td>Cu</td>\n",
       "      <td>NaN</td>\n",
       "      <td>0.0282</td>\n",
       "      <td>0.0130</td>\n",
       "      <td>0.0557</td>\n",
       "      <td>0.0457</td>\n",
       "      <td>0.0848</td>\n",
       "      <td>0.0198</td>\n",
       "      <td>.029</td>\n",
       "      <td>...</td>\n",
       "      <td>NaN</td>\n",
       "      <td>NaN</td>\n",
       "      <td>NaN</td>\n",
       "      <td>NaN</td>\n",
       "      <td>NaN</td>\n",
       "      <td>NaN</td>\n",
       "      <td>NaN</td>\n",
       "      <td>NaN</td>\n",
       "      <td>NaN</td>\n",
       "      <td>NaN</td>\n",
       "    </tr>\n",
       "  </tbody>\n",
       "</table>\n",
       "<p>2 rows × 126 columns</p>\n",
       "</div>"
      ],
      "text/plain": [
       "    구분  항목  단위  2013.01 월  2013.02 월  2013.03 월  2013.04 월  2013.05 월  \\\n",
       "0  대흥동  Cu NaN     0.0302     0.0236     0.0365     0.0290     0.0455   \n",
       "1  성수동  Cu NaN     0.0282     0.0130     0.0557     0.0457     0.0848   \n",
       "\n",
       "   2013.06 월 2013.07 월  ...  2022.06 월  2022.07 월  2022.08 월  2022.09 월  \\\n",
       "0     0.0155     .0082  ...        NaN        NaN        NaN        NaN   \n",
       "1     0.0198      .029  ...        NaN        NaN        NaN        NaN   \n",
       "\n",
       "   2022.10 월 2022.11 월 2022.12 월  2023.01 월  2023.02 월  Unnamed: 125  \n",
       "0        NaN       NaN       NaN        NaN        NaN           NaN  \n",
       "1        NaN       NaN       NaN        NaN        NaN           NaN  \n",
       "\n",
       "[2 rows x 126 columns]"
      ]
     },
     "execution_count": 3,
     "metadata": {},
     "output_type": "execute_result"
    }
   ],
   "source": [
    "df.head(2)"
   ]
  },
  {
   "cell_type": "code",
   "execution_count": 32,
   "metadata": {},
   "outputs": [],
   "source": [
    "long_df = df.melt(id_vars=['구분', '항목','단위'], \n",
    "                  var_name='STD_YYYYMM', \n",
    "                  value_name='구리')"
   ]
  },
  {
   "cell_type": "code",
   "execution_count": 33,
   "metadata": {},
   "outputs": [],
   "source": [
    "long_df.rename(columns={'구분': 'SIDO'}, inplace=True)"
   ]
  },
  {
   "cell_type": "code",
   "execution_count": 34,
   "metadata": {},
   "outputs": [],
   "source": [
    "# 대체하고자 하는 도시 이름 목록\n",
    "seoul_districts = [\"대흥동\", \"성수동\", \"마포구\", \"광진구\", \"성동구\", \"구로구\", \"송파구\", \"방이동\", \"양재동\"]\n",
    "\n",
    "# 'SIDO' 열에서 해당 도시 이름들을 '서울특별시'로 변경\n",
    "long_df['SIDO'] = long_df['SIDO'].replace(seoul_districts, '서울특별시')"
   ]
  },
  {
   "cell_type": "code",
   "execution_count": 35,
   "metadata": {},
   "outputs": [],
   "source": [
    "# 대체하고자 하는 도시 이름 목록\n",
    "busan_areas = [\"학장동\", \"덕천동\", \"전포동\", \"연산동\", \"부곡동\", \"광안동\"]\n",
    "\n",
    "# 'SIDO' 열에서 해당 지역 이름들을 '부산광역시'로 변경\n",
    "long_df['SIDO'] = long_df['SIDO'].replace(busan_areas, '부산광역시')"
   ]
  },
  {
   "cell_type": "code",
   "execution_count": 36,
   "metadata": {},
   "outputs": [],
   "source": [
    "# 대체하고자 하는 지역 이름 목록\n",
    "daegu_areas = [\"수창동\", \"이현동\", \"대명동\", \"지산동\", \"달성산단\"]\n",
    "\n",
    "# 'SIDO' 열에서 해당 지역 이름들을 '대구광역시'로 변경\n",
    "long_df['SIDO'] = long_df['SIDO'].replace(daegu_areas, '대구광역시')"
   ]
  },
  {
   "cell_type": "code",
   "execution_count": 37,
   "metadata": {},
   "outputs": [],
   "source": [
    "# 대체하고자 하는 지역 이름 목록\n",
    "incheon_areas = [\"신흥\", \"구월동\", \"부평\", \"연희\", \"고잔\"]\n",
    "\n",
    "# 'SIDO' 열에서 해당 지역 이름들을 '인천광역시'로 변경\n",
    "long_df['SIDO'] = long_df['SIDO'].replace(incheon_areas, '인천광역시')\n"
   ]
  },
  {
   "cell_type": "code",
   "execution_count": 38,
   "metadata": {},
   "outputs": [],
   "source": [
    "# 대체하고자 하는 지역 이름 목록\n",
    "gwangju_areas = [\"농성동\", \"두암동\", \"건국동\", \"노대동\", \"평동\", \"서동\"]\n",
    "\n",
    "# 'SIDO' 열에서 해당 지역 이름들을 '광주광역시'로 변경\n",
    "long_df['SIDO'] = long_df['SIDO'].replace(gwangju_areas, '광주광역시')"
   ]
  },
  {
   "cell_type": "code",
   "execution_count": 39,
   "metadata": {},
   "outputs": [],
   "source": [
    "# 대체하고자 하는 지역 이름 목록\n",
    "daejeon_areas = [\"읍내동\", \"문창동\", \"구성동\", \"정림동\"]\n",
    "\n",
    "# 'SIDO' 열에서 해당 지역 이름들을 '대전광역시'로 변경\n",
    "long_df['SIDO'] = long_df['SIDO'].replace(daejeon_areas, '대전광역시')"
   ]
  },
  {
   "cell_type": "code",
   "execution_count": 40,
   "metadata": {},
   "outputs": [],
   "source": [
    "# 대체하고자 하는 지역 이름 목록\n",
    "ulsan_areas = [\"여천동\", \"야음동\", \"신정동\", \"효문동\", \"덕신리\", \"전하동\", \"온산산단\"]\n",
    "\n",
    "# 'SIDO' 열에서 해당 지역 이름들을 '울산광역시'로 변경\n",
    "long_df['SIDO'] = long_df['SIDO'].replace(ulsan_areas, '울산광역시')"
   ]
  },
  {
   "cell_type": "code",
   "execution_count": 41,
   "metadata": {},
   "outputs": [],
   "source": [
    "# 대체하고자 하는 지역 이름 목록\n",
    "sejong_areas = [\"아름동\"]\n",
    "\n",
    "# 'SIDO' 열에서 해당 지역 이름들을 '세종특별자치시'로 변경\n",
    "long_df['SIDO'] = long_df['SIDO'].replace(sejong_areas, '세종특별자치시')"
   ]
  },
  {
   "cell_type": "code",
   "execution_count": 42,
   "metadata": {},
   "outputs": [],
   "source": [
    "# 대체하고자 하는 지역 이름 목록\n",
    "gyeonggi_areas = [\"신풍동\", \"상대원1동\", \"의정부1동\", \"원시동\", \"평택항\", \"고천동\", \"안성\", \"가산면\", \"가평읍\"]\n",
    "\n",
    "# 'SIDO' 열에서 해당 지역 이름들을 '경기도'로 변경\n",
    "long_df['SIDO'] = long_df['SIDO'].replace(gyeonggi_areas, '경기도')"
   ]
  },
  {
   "cell_type": "code",
   "execution_count": 43,
   "metadata": {},
   "outputs": [],
   "source": [
    "# 대체하고자 하는 지역 이름 목록\n",
    "gangwon_areas = [\"중앙로\", \"신북읍1\", \"옥천동\", \"은하수로\", \"옥천동\", \"우산동\", \"문막공단\", \"금호동\"]\n",
    "\n",
    "# 'SIDO' 열에서 해당 지역 이름들을 '강원도'로 변경\n",
    "long_df['SIDO'] = long_df['SIDO'].replace(gangwon_areas, '강원도')"
   ]
  },
  {
   "cell_type": "code",
   "execution_count": 44,
   "metadata": {},
   "outputs": [],
   "source": [
    "# 대체하고자 하는 지역 이름 목록\n",
    "chungcheongbukdo_areas = [\"송정동\", \"매포읍\"]\n",
    "\n",
    "# 'SIDO' 열에서 해당 지역 이름들을 '충청북도'로 변경\n",
    "long_df['SIDO'] = long_df['SIDO'].replace(chungcheongbukdo_areas, '충청북도')"
   ]
  },
  {
   "cell_type": "code",
   "execution_count": 45,
   "metadata": {},
   "outputs": [],
   "source": [
    "# 대체하고자 하는 지역 이름 목록\n",
    "chungcheongnamdo_areas = [\"성황동\", \"송산면\", \"독곶리\", \"배방읍\", \"보령시\"]\n",
    "\n",
    "# 'SIDO' 열에서 해당 지역 이름들을 '충청남도'로 변경\n",
    "long_df['SIDO'] = long_df['SIDO'].replace(chungcheongnamdo_areas, '충청남도')"
   ]
  },
  {
   "cell_type": "code",
   "execution_count": 46,
   "metadata": {},
   "outputs": [],
   "source": [
    "# 대체하고자 하는 지역 이름 목록\n",
    "jeollabukdo_areas = [\"삼천동\", \"팔봉동\"]\n",
    "\n",
    "# 'SIDO' 열에서 해당 지역 이름들을 '전라북도'로 변경\n",
    "long_df['SIDO'] = long_df['SIDO'].replace(jeollabukdo_areas, '전라북도')"
   ]
  },
  {
   "cell_type": "code",
   "execution_count": 47,
   "metadata": {},
   "outputs": [],
   "source": [
    "# 대체하고자 하는 지역 이름 목록\n",
    "jeollanamdo_areas = [\"여천동\", \"쌍봉동\", \"묘도동\", \"율촌면\", \"중동\", \"신대리\", \"대불\", \"주삼동\"]\n",
    "\n",
    "# 'SIDO' 열에서 해당 지역 이름들을 '전라남도'로 변경\n",
    "long_df['SIDO'] = long_df['SIDO'].replace(jeollanamdo_areas, '전라남도')"
   ]
  },
  {
   "cell_type": "code",
   "execution_count": 48,
   "metadata": {},
   "outputs": [],
   "source": [
    "# 대체하고자 하는 지역 이름 목록\n",
    "gyeongsangbukdo_areas = [\"장흥동\", \"장량동\", \"죽도동\", \"대송면\", \"3공단\", \"4공단\", \"석포면\"]\n",
    "\n",
    "# 'SIDO' 열에서 해당 지역 이름들을 '경상북도'로 변경\n",
    "long_df['SIDO'] = long_df['SIDO'].replace(gyeongsangbukdo_areas, '경상북도')"
   ]
  },
  {
   "cell_type": "code",
   "execution_count": 49,
   "metadata": {},
   "outputs": [],
   "source": [
    "# 대체하고자 하는 지역 이름 목록\n",
    "gyeongsangnamdo_areas = [\"명서동\", \"봉암동\", \"하동읍\", \"아주동\"]\n",
    "\n",
    "# 'SIDO' 열에서 해당 지역 이름들을 '경상남도'로 변경\n",
    "long_df['SIDO'] = long_df['SIDO'].replace(gyeongsangnamdo_areas, '경상남도')"
   ]
  },
  {
   "cell_type": "code",
   "execution_count": 50,
   "metadata": {},
   "outputs": [],
   "source": [
    "long_df.to_csv('data/test/구리.csv', index=False)"
   ]
  },
  {
   "cell_type": "code",
   "execution_count": 51,
   "metadata": {},
   "outputs": [
    {
     "data": {
      "text/plain": [
       "dtype('O')"
      ]
     },
     "execution_count": 51,
     "metadata": {},
     "output_type": "execute_result"
    }
   ],
   "source": [
    "\n",
    "long_df['구리'].dtype"
   ]
  },
  {
   "cell_type": "code",
   "execution_count": 52,
   "metadata": {},
   "outputs": [],
   "source": [
    "long_df['구리'] = pd.to_numeric(long_df['구리'], errors='coerce') \n",
    "\n",
    "# 오브젝트 타입에서의 변환"
   ]
  },
  {
   "cell_type": "code",
   "execution_count": 53,
   "metadata": {},
   "outputs": [],
   "source": [
    "# SIDO, STD_YYYYMM 열을 기준으로 그룹바이 한후 PM10의 평균값을 새로운 콜롬에 저장\n",
    "long_df['AVG_구리'] = long_df.groupby(['SIDO', 'STD_YYYYMM'])['구리'].transform('mean').round(4)"
   ]
  },
  {
   "cell_type": "code",
   "execution_count": 54,
   "metadata": {},
   "outputs": [],
   "source": [
    "long_df.to_csv('data/test/구리.csv',index=False)"
   ]
  },
  {
   "cell_type": "code",
   "execution_count": 55,
   "metadata": {},
   "outputs": [],
   "source": [
    "df2 = long_df.drop_duplicates(subset=['SIDO', 'STD_YYYYMM', 'AVG_구리'])\n",
    "# SIDO와 STD_YYYYMM 열을 기준으로 중복을 제거\n",
    "# 중복된 데이터를 제거하면 데이터가 정렬됨 "
   ]
  },
  {
   "cell_type": "code",
   "execution_count": 56,
   "metadata": {},
   "outputs": [],
   "source": [
    "# SIDO 열에 총계 또는 도평균을 포함하는 열을 필터링 \n",
    "df2 = df2[~df2['SIDO'].str.contains('총계|도평균')]"
   ]
  },
  {
   "cell_type": "code",
   "execution_count": 57,
   "metadata": {},
   "outputs": [],
   "source": [
    "# 크롬 , 항목 , 단위 콜롬 제거\n",
    "df2 = df2.drop(columns=['구리', '항목', '단위'])"
   ]
  },
  {
   "cell_type": "code",
   "execution_count": 58,
   "metadata": {},
   "outputs": [],
   "source": [
    "# 'STD_YYYYMM' 열의 숫자가 아닌 문자를 제거\n",
    "df2['STD_YYYYMM'] = df2['STD_YYYYMM'].str.replace('[^\\d]', '', regex=True)"
   ]
  },
  {
   "cell_type": "code",
   "execution_count": 59,
   "metadata": {},
   "outputs": [],
   "source": [
    "# 결과를 정수 타입으로 변환\n",
    "df2['STD_YYYYMM'] = df2['STD_YYYYMM'].astype(int)"
   ]
  },
  {
   "cell_type": "code",
   "execution_count": 60,
   "metadata": {},
   "outputs": [
    {
     "data": {
      "text/plain": [
       "dtype('int32')"
      ]
     },
     "execution_count": 60,
     "metadata": {},
     "output_type": "execute_result"
    }
   ],
   "source": [
    "df2['STD_YYYYMM'].dtype"
   ]
  },
  {
   "cell_type": "code",
   "execution_count": 61,
   "metadata": {},
   "outputs": [],
   "source": [
    "df2.to_csv('data/test/구리.csv', index=False)"
   ]
  },
  {
   "cell_type": "code",
   "execution_count": 62,
   "metadata": {},
   "outputs": [
    {
     "data": {
      "text/html": [
       "<div>\n",
       "<style scoped>\n",
       "    .dataframe tbody tr th:only-of-type {\n",
       "        vertical-align: middle;\n",
       "    }\n",
       "\n",
       "    .dataframe tbody tr th {\n",
       "        vertical-align: top;\n",
       "    }\n",
       "\n",
       "    .dataframe thead th {\n",
       "        text-align: right;\n",
       "    }\n",
       "</style>\n",
       "<table border=\"1\" class=\"dataframe\">\n",
       "  <thead>\n",
       "    <tr style=\"text-align: right;\">\n",
       "      <th></th>\n",
       "      <th>SIDO</th>\n",
       "      <th>STD_YYYYMM</th>\n",
       "      <th>AVG_구리</th>\n",
       "    </tr>\n",
       "  </thead>\n",
       "  <tbody>\n",
       "    <tr>\n",
       "      <th>0</th>\n",
       "      <td>서울특별시</td>\n",
       "      <td>201301</td>\n",
       "      <td>0.0306</td>\n",
       "    </tr>\n",
       "    <tr>\n",
       "      <th>9</th>\n",
       "      <td>부산광역시</td>\n",
       "      <td>201301</td>\n",
       "      <td>0.0332</td>\n",
       "    </tr>\n",
       "    <tr>\n",
       "      <th>15</th>\n",
       "      <td>대구광역시</td>\n",
       "      <td>201301</td>\n",
       "      <td>0.0165</td>\n",
       "    </tr>\n",
       "    <tr>\n",
       "      <th>20</th>\n",
       "      <td>인천광역시</td>\n",
       "      <td>201301</td>\n",
       "      <td>0.0311</td>\n",
       "    </tr>\n",
       "    <tr>\n",
       "      <th>25</th>\n",
       "      <td>광주광역시</td>\n",
       "      <td>201301</td>\n",
       "      <td>0.0157</td>\n",
       "    </tr>\n",
       "  </tbody>\n",
       "</table>\n",
       "</div>"
      ],
      "text/plain": [
       "     SIDO  STD_YYYYMM  AVG_구리\n",
       "0   서울특별시      201301  0.0306\n",
       "9   부산광역시      201301  0.0332\n",
       "15  대구광역시      201301  0.0165\n",
       "20  인천광역시      201301  0.0311\n",
       "25  광주광역시      201301  0.0157"
      ]
     },
     "execution_count": 62,
     "metadata": {},
     "output_type": "execute_result"
    }
   ],
   "source": [
    "df2.head()"
   ]
  },
  {
   "cell_type": "code",
   "execution_count": 63,
   "metadata": {},
   "outputs": [
    {
     "data": {
      "text/html": [
       "<div>\n",
       "<style scoped>\n",
       "    .dataframe tbody tr th:only-of-type {\n",
       "        vertical-align: middle;\n",
       "    }\n",
       "\n",
       "    .dataframe tbody tr th {\n",
       "        vertical-align: top;\n",
       "    }\n",
       "\n",
       "    .dataframe thead th {\n",
       "        text-align: right;\n",
       "    }\n",
       "</style>\n",
       "<table border=\"1\" class=\"dataframe\">\n",
       "  <thead>\n",
       "    <tr style=\"text-align: right;\">\n",
       "      <th></th>\n",
       "      <th>SIDO</th>\n",
       "      <th>STD_YYYYMM</th>\n",
       "      <th>AVG_구리</th>\n",
       "    </tr>\n",
       "  </thead>\n",
       "  <tbody>\n",
       "    <tr>\n",
       "      <th>0</th>\n",
       "      <td>서울특별시</td>\n",
       "      <td>201301</td>\n",
       "      <td>0.0306</td>\n",
       "    </tr>\n",
       "    <tr>\n",
       "      <th>1</th>\n",
       "      <td>부산광역시</td>\n",
       "      <td>201301</td>\n",
       "      <td>0.0332</td>\n",
       "    </tr>\n",
       "    <tr>\n",
       "      <th>2</th>\n",
       "      <td>대구광역시</td>\n",
       "      <td>201301</td>\n",
       "      <td>0.0165</td>\n",
       "    </tr>\n",
       "    <tr>\n",
       "      <th>3</th>\n",
       "      <td>인천광역시</td>\n",
       "      <td>201301</td>\n",
       "      <td>0.0311</td>\n",
       "    </tr>\n",
       "    <tr>\n",
       "      <th>4</th>\n",
       "      <td>광주광역시</td>\n",
       "      <td>201301</td>\n",
       "      <td>0.0157</td>\n",
       "    </tr>\n",
       "  </tbody>\n",
       "</table>\n",
       "</div>"
      ],
      "text/plain": [
       "    SIDO  STD_YYYYMM  AVG_구리\n",
       "0  서울특별시      201301  0.0306\n",
       "1  부산광역시      201301  0.0332\n",
       "2  대구광역시      201301  0.0165\n",
       "3  인천광역시      201301  0.0311\n",
       "4  광주광역시      201301  0.0157"
      ]
     },
     "execution_count": 63,
     "metadata": {},
     "output_type": "execute_result"
    }
   ],
   "source": [
    "df = pd.read_csv('data/test/구리.csv')\n",
    "df.head()"
   ]
  },
  {
   "cell_type": "code",
   "execution_count": 64,
   "metadata": {},
   "outputs": [],
   "source": [
    "# AVG_구리의 평균 계산\n",
    "avg_구리 = df['AVG_구리'].mean()\n",
    "\n",
    "# 조건에 따라 납_BAD에 Y 또는 N 할당\n",
    "df['구리_BAD'] = df['AVG_구리'].apply(lambda x: 'Y' if x > avg_구리 else 'N')"
   ]
  },
  {
   "cell_type": "code",
   "execution_count": 65,
   "metadata": {},
   "outputs": [
    {
     "data": {
      "text/plain": [
       "구리_BAD\n",
       "N    1278\n",
       "Y     690\n",
       "Name: count, dtype: int64"
      ]
     },
     "execution_count": 65,
     "metadata": {},
     "output_type": "execute_result"
    }
   ],
   "source": [
    "df['구리_BAD'].value_counts()"
   ]
  },
  {
   "cell_type": "code",
   "execution_count": 66,
   "metadata": {},
   "outputs": [],
   "source": [
    "df.to_csv('data/test/구리.csv', index=False)"
   ]
  },
  {
   "cell_type": "code",
   "execution_count": null,
   "metadata": {},
   "outputs": [],
   "source": []
  }
 ],
 "metadata": {
  "kernelspec": {
   "display_name": "base",
   "language": "python",
   "name": "python3"
  },
  "language_info": {
   "codemirror_mode": {
    "name": "ipython",
    "version": 3
   },
   "file_extension": ".py",
   "mimetype": "text/x-python",
   "name": "python",
   "nbconvert_exporter": "python",
   "pygments_lexer": "ipython3",
   "version": "3.11.4"
  }
 },
 "nbformat": 4,
 "nbformat_minor": 2
}
