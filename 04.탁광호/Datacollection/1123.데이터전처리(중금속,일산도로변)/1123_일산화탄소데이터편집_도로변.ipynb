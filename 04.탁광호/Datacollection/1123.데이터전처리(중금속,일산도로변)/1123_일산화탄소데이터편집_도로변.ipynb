{
 "cells": [
  {
   "cell_type": "code",
   "execution_count": 112,
   "metadata": {},
   "outputs": [],
   "source": [
    "import pandas as pd"
   ]
  },
  {
   "cell_type": "code",
   "execution_count": 113,
   "metadata": {},
   "outputs": [],
   "source": [
    "df= pd.read_csv('../data/일산화탄소_월별_시도별_도로변.csv', encoding='ansi')"
   ]
  },
  {
   "cell_type": "code",
   "execution_count": 114,
   "metadata": {},
   "outputs": [
    {
     "data": {
      "text/html": [
       "<div>\n",
       "<style scoped>\n",
       "    .dataframe tbody tr th:only-of-type {\n",
       "        vertical-align: middle;\n",
       "    }\n",
       "\n",
       "    .dataframe tbody tr th {\n",
       "        vertical-align: top;\n",
       "    }\n",
       "\n",
       "    .dataframe thead th {\n",
       "        text-align: right;\n",
       "    }\n",
       "</style>\n",
       "<table border=\"1\" class=\"dataframe\">\n",
       "  <thead>\n",
       "    <tr style=\"text-align: right;\">\n",
       "      <th></th>\n",
       "      <th>구분</th>\n",
       "      <th>항목</th>\n",
       "      <th>단위</th>\n",
       "      <th>2010.01 월</th>\n",
       "      <th>2010.02 월</th>\n",
       "      <th>2010.03 월</th>\n",
       "      <th>2010.04 월</th>\n",
       "      <th>2010.05 월</th>\n",
       "      <th>2010.06 월</th>\n",
       "      <th>2010.07 월</th>\n",
       "      <th>...</th>\n",
       "      <th>2022.06 월</th>\n",
       "      <th>2022.07 월</th>\n",
       "      <th>2022.08 월</th>\n",
       "      <th>2022.09 월</th>\n",
       "      <th>2022.10 월</th>\n",
       "      <th>2022.11 월</th>\n",
       "      <th>2022.12 월</th>\n",
       "      <th>2023.01 월</th>\n",
       "      <th>2023.02 월</th>\n",
       "      <th>Unnamed: 161</th>\n",
       "    </tr>\n",
       "  </thead>\n",
       "  <tbody>\n",
       "    <tr>\n",
       "      <th>0</th>\n",
       "      <td>서소문동</td>\n",
       "      <td>월평균</td>\n",
       "      <td>NaN</td>\n",
       "      <td>1.0</td>\n",
       "      <td>0.8</td>\n",
       "      <td>0.7</td>\n",
       "      <td>0.7</td>\n",
       "      <td>0.7</td>\n",
       "      <td>0.6</td>\n",
       "      <td>0.6</td>\n",
       "      <td>...</td>\n",
       "      <td>NaN</td>\n",
       "      <td>NaN</td>\n",
       "      <td>NaN</td>\n",
       "      <td>NaN</td>\n",
       "      <td>NaN</td>\n",
       "      <td>NaN</td>\n",
       "      <td>NaN</td>\n",
       "      <td>NaN</td>\n",
       "      <td>NaN</td>\n",
       "      <td>NaN</td>\n",
       "    </tr>\n",
       "    <tr>\n",
       "      <th>1</th>\n",
       "      <td>중구</td>\n",
       "      <td>월평균</td>\n",
       "      <td>NaN</td>\n",
       "      <td>NaN</td>\n",
       "      <td>NaN</td>\n",
       "      <td>NaN</td>\n",
       "      <td>NaN</td>\n",
       "      <td>NaN</td>\n",
       "      <td>NaN</td>\n",
       "      <td>NaN</td>\n",
       "      <td>...</td>\n",
       "      <td>.3</td>\n",
       "      <td>.4</td>\n",
       "      <td>.3</td>\n",
       "      <td>.4</td>\n",
       "      <td>.4</td>\n",
       "      <td>.5</td>\n",
       "      <td>.5</td>\n",
       "      <td>0.72**</td>\n",
       "      <td>0.51**</td>\n",
       "      <td>NaN</td>\n",
       "    </tr>\n",
       "  </tbody>\n",
       "</table>\n",
       "<p>2 rows × 162 columns</p>\n",
       "</div>"
      ],
      "text/plain": [
       "     구분   항목  단위  2010.01 월  2010.02 월  2010.03 월  2010.04 월  2010.05 월  \\\n",
       "0  서소문동  월평균 NaN        1.0        0.8        0.7        0.7        0.7   \n",
       "1    중구  월평균 NaN        NaN        NaN        NaN        NaN        NaN   \n",
       "\n",
       "   2010.06 월  2010.07 월  ...  2022.06 월  2022.07 월  2022.08 월  2022.09 월  \\\n",
       "0        0.6        0.6  ...        NaN        NaN        NaN        NaN   \n",
       "1        NaN        NaN  ...         .3         .4         .3         .4   \n",
       "\n",
       "   2022.10 월  2022.11 월  2022.12 월  2023.01 월  2023.02 월  Unnamed: 161  \n",
       "0        NaN        NaN        NaN        NaN        NaN           NaN  \n",
       "1         .4         .5         .5     0.72**     0.51**           NaN  \n",
       "\n",
       "[2 rows x 162 columns]"
      ]
     },
     "execution_count": 114,
     "metadata": {},
     "output_type": "execute_result"
    }
   ],
   "source": [
    "df.head(2)"
   ]
  },
  {
   "cell_type": "code",
   "execution_count": 115,
   "metadata": {},
   "outputs": [],
   "source": [
    "long_df = df.melt(id_vars=['구분', '항목','단위'], \n",
    "                  var_name='STD_YYYYMM', \n",
    "                  value_name='도로일산화')"
   ]
  },
  {
   "cell_type": "code",
   "execution_count": 116,
   "metadata": {},
   "outputs": [
    {
     "data": {
      "text/html": [
       "<div>\n",
       "<style scoped>\n",
       "    .dataframe tbody tr th:only-of-type {\n",
       "        vertical-align: middle;\n",
       "    }\n",
       "\n",
       "    .dataframe tbody tr th {\n",
       "        vertical-align: top;\n",
       "    }\n",
       "\n",
       "    .dataframe thead th {\n",
       "        text-align: right;\n",
       "    }\n",
       "</style>\n",
       "<table border=\"1\" class=\"dataframe\">\n",
       "  <thead>\n",
       "    <tr style=\"text-align: right;\">\n",
       "      <th></th>\n",
       "      <th>구분</th>\n",
       "      <th>항목</th>\n",
       "      <th>단위</th>\n",
       "      <th>STD_YYYYMM</th>\n",
       "      <th>도로일산화</th>\n",
       "    </tr>\n",
       "  </thead>\n",
       "  <tbody>\n",
       "    <tr>\n",
       "      <th>0</th>\n",
       "      <td>서소문동</td>\n",
       "      <td>월평균</td>\n",
       "      <td>NaN</td>\n",
       "      <td>2010.01 월</td>\n",
       "      <td>1.0</td>\n",
       "    </tr>\n",
       "    <tr>\n",
       "      <th>1</th>\n",
       "      <td>중구</td>\n",
       "      <td>월평균</td>\n",
       "      <td>NaN</td>\n",
       "      <td>2010.01 월</td>\n",
       "      <td>NaN</td>\n",
       "    </tr>\n",
       "  </tbody>\n",
       "</table>\n",
       "</div>"
      ],
      "text/plain": [
       "     구분   항목  단위 STD_YYYYMM 도로일산화\n",
       "0  서소문동  월평균 NaN  2010.01 월   1.0\n",
       "1    중구  월평균 NaN  2010.01 월   NaN"
      ]
     },
     "execution_count": 116,
     "metadata": {},
     "output_type": "execute_result"
    }
   ],
   "source": [
    "long_df.head(2)"
   ]
  },
  {
   "cell_type": "code",
   "execution_count": 117,
   "metadata": {},
   "outputs": [],
   "source": [
    "long_df.rename(columns={'구분': 'SIDO'}, inplace=True)"
   ]
  },
  {
   "cell_type": "code",
   "execution_count": 118,
   "metadata": {},
   "outputs": [],
   "source": [
    "# 대체하고자 하는 서울특별시의 지역 이름 목록\n",
    "seoul_areas = [\n",
    "    \"서소문동\", \"중구\", \"효제동\", \"종로구\", \"면목동\", \"중랑구\", \"용두동\", \"동대문구\", \n",
    "    \"불광동\", \"은평구\", \"대흥동\", \"마포구\", \"당산동\", \"영등포구\", \"사당동\", \"동작구\",\n",
    "    \"신림동\", \"관악구\", \"대치동\", \"강남구\", \"시흥동\", \"금천구\", \"천호동\", \"강동구\", \n",
    "    \"번동\", \"강북구\", \"길음동\", \"성북구\", \"한남동\", \"용산구\", \"구의동\", \"광진구\",\n",
    "    \"성수동\", \"성동구\", \"쌍문동\", \"도봉구\", \"남가좌동\", \"서대문구\", \"구로동\", \"구로구\",\n",
    "    \"반포동\", \"서초구\", \"화곡동\", \"강서구\", \"방이동\", \"송파구\", \"신정동\", \"양천구\", \"상계동\", \"노원구\"\n",
    "]\n",
    "\n",
    "# DataFrame 'SIDO' 열에서 해당 지역 이름들을 '서울특별시'로 변경\n",
    "long_df['SIDO'] = long_df['SIDO'].replace(seoul_areas, '서울특별시')\n"
   ]
  },
  {
   "cell_type": "code",
   "execution_count": 119,
   "metadata": {},
   "outputs": [],
   "source": [
    "# 대체하고자 하는 부산광역시의 지역 이름 목록\n",
    "busan_areas = [\n",
    "    \"광복동\", \"대연동\", \"용호동\", \"학장동\", \"덕포동\", \"덕천동\", \"장림동\", \"당리동\",\n",
    "    \"전포동\", \"개금동\", \"연산동\", \"태종대\", \"청학동\", \"청룡동\", \"부곡동\", \"회동동\",\n",
    "    \"좌동\", \"재송동\", \"대저동\", \"녹산동\", \"명지동\", \"기장읍\", \"용수리\", \"광안동\",\n",
    "    \"명장동\", \"수정동\", \"대신동\"\n",
    "]\n",
    "\n",
    "# DataFrame 'SIDO' 열에서 해당 지역 이름들을 '부산광역시'로 변경\n",
    "long_df['SIDO'] = long_df['SIDO'].replace(busan_areas, '부산광역시')\n"
   ]
  },
  {
   "cell_type": "code",
   "execution_count": 120,
   "metadata": {},
   "outputs": [],
   "source": [
    "# 대체하고자 하는 대구광역시의 지역 이름 목록\n",
    "daegu_areas = [\n",
    "    \"수창동\", \"남산1동\", \"이현동\", \"내당동\", \"대명동\", \"노원동\", \"태전동\", \"산격동\",\n",
    "    \"침산동\", \"신암동\", \"서호동\", \"율하동\", \"만촌동\", \"지산동\", \"시지동\", \"갈산동\",\n",
    "    \"호림동\", \"진천동\", \"본동\", \"유가읍\", \"다사읍\", \"현풍면\", \"화원읍\"\n",
    "]\n",
    "\n",
    "# DataFrame 'SIDO' 열에서 해당 지역 이름들을 '대구광역시'로 변경\n",
    "long_df['SIDO'] = long_df['SIDO'].replace(daegu_areas, '대구광역시')\n"
   ]
  },
  {
   "cell_type": "code",
   "execution_count": 121,
   "metadata": {},
   "outputs": [],
   "source": [
    "# 대체하고자 하는 인천광역시의 지역 이름 목록\n",
    "incheon_areas = [\n",
    "    \"신흥\", \"영종\", \"운서\", \"송림\", \"구월동\", \"고잔\", \"서창\", \"논현\", \"부평\", \"삼산\",\n",
    "    \"영흥\", \"연희\", \"석남\", \"검단\", \"원당\", \"청라\", \"계산\", \"계양동\", \"효성\", \"송해\",\n",
    "    \"길상\", \"동춘\", \"송도\", \"아암\", \"숭의\", \"주안\"\n",
    "]\n",
    "\n",
    "# DataFrame 'SIDO' 열에서 해당 지역 이름들을 '인천광역시'로 변경\n",
    "long_df['SIDO'] = long_df['SIDO'].replace(incheon_areas, '인천광역시')\n"
   ]
  },
  {
   "cell_type": "code",
   "execution_count": 122,
   "metadata": {},
   "outputs": [],
   "source": [
    "# 대체하고자 하는 광주광역시의 지역 이름 목록\n",
    "gwangju_areas = [\n",
    "    \"서석동\", \"농성동\", \"유촌동\", \"두암동\", \"건국동\", \"일곡동\", \"송정동\", \"송정1동\", \n",
    "    \"오선동\", \"평동\", \"우산동\", \"주월동\", \"노대동\"\n",
    "]\n",
    "\n",
    "# DataFrame 'SIDO' 열에서 해당 지역 이름들을 '광주광역시'로 변경\n",
    "long_df['SIDO'] = long_df['SIDO'].replace(gwangju_areas, '광주광역시')\n"
   ]
  },
  {
   "cell_type": "code",
   "execution_count": 123,
   "metadata": {},
   "outputs": [],
   "source": [
    "# 대체하고자 하는 대전광역시의 지역 이름 목록\n",
    "daejeon_areas = [\n",
    "    \"읍내동\", \"문평동\", \"문창동\", \"상대동\", \"구성동\", \"노은동\", \"관평동\", \"성남동\", \n",
    "    \"대성동\", \"정림동\", \"둔산동\"\n",
    "]\n",
    "\n",
    "# DataFrame 'SIDO' 열에서 해당 지역 이름들을 '대전광역시'로 변경\n",
    "long_df['SIDO'] = long_df['SIDO'].replace(daejeon_areas, '대전광역시')\n"
   ]
  },
  {
   "cell_type": "code",
   "execution_count": 124,
   "metadata": {},
   "outputs": [],
   "source": [
    "# 대체하고자 하는 울산광역시의 지역 이름 목록\n",
    "ulsan_areas = [\n",
    "    \"성남동\", \"약사동\", \"부곡동\", \"여천동\", \"야음동\", \"신정동\", \"무거동\", \"삼산동\", \n",
    "    \"덕신리\", \"웅촌면\", \"범서읍\", \"삼남읍\", \"화산리\", \"상남리\", \"효문동\", \"농소동\", \n",
    "    \"송정동\", \"대송동\", \"전하동\"\n",
    "]\n",
    "\n",
    "# DataFrame 'SIDO' 열에서 해당 지역 이름들을 '울산광역시'로 변경\n",
    "long_df['SIDO'] = long_df['SIDO'].replace(ulsan_areas, '울산광역시')\n"
   ]
  },
  {
   "cell_type": "code",
   "execution_count": 125,
   "metadata": {},
   "outputs": [],
   "source": [
    "# 대체하고자 하는 세종특별자치시의 지역 이름 목록\n",
    "sejong_areas = [\n",
    "    \"신흥동\", \"아름동\", \"한솔동\", \"부강면\", \"전의면\"\n",
    "]\n",
    "\n",
    "# DataFrame 'SIDO' 열에서 해당 지역 이름들을 '세종특별자치시'로 변경\n",
    "long_df['SIDO'] = long_df['SIDO'].replace(sejong_areas, '세종특별자치시')\n"
   ]
  },
  {
   "cell_type": "code",
   "execution_count": 126,
   "metadata": {},
   "outputs": [],
   "source": [
    "# 대체하고자 하는 경기도의 지역 이름 목록\n",
    "gyeonggi_areas = [\n",
    "    \"신흥동\", \"아름동\", \"한솔동\", \"부강면\", \"전의면\", \"인계동\", \"신풍동\", \"우만동\", \n",
    "    \"광교동\", \"영통동\", \"천천동\", \"고색동\", \"호매실동\", \"안양8동\", \"안양6동\", \"부림동\", \n",
    "    \"호계동\", \"안양2동\", \"단대동\", \"정자동\", \"하대원동\", \"수내동\", \"복정동\", \"상대원동\", \n",
    "    \"운중동\", \"의정부동\", \"의정부1동\", \"송산3동\", \"철산동\", \"광명3동\", \"소하동\", \"고잔동\", \n",
    "    \"원시동\", \"본오동\", \"원곡동\", \"부곡동\", \"대부동\", \"호수동\", \"비전동\", \"안중\", \"평택항\", \n",
    "    \"송북동\", \"청북읍\", \"고덕면\", \"별양동\", \"과천동\", \"교문동\", \"동구동\", \"부곡3동\", \"고천동\", \n",
    "    \"행신동\", \"식사동\", \"신원동\", \"주엽동\", \"경안동\", \"오포읍\", \"오포1동\", \"곤지암\", \"당동\", \n",
    "    \"산본동\", \"정왕동\", \"시화산단\", \"대야동\", \"목감동\", \"장현동\", \"배곧동\", \"소사본동\", \"내동\", \n",
    "    \"중2동\", \"오정동\", \"금곡동\", \"오남읍\", \"별내동\", \"화도읍\", \"와부읍\", \"진접읍\", \"김량장동\", \n",
    "    \"수지\", \"기흥\", \"모현읍\", \"이동읍\", \"백암면\", \"사우동\", \"고촌읍\", \"통진읍\", \"월곶면\", \n",
    "    \"한강신도시\", \"오산동\", \"신장동\", \"미사\", \"남양읍\", \"향남\", \"동탄동\", \"우정읍\", \"새솔동\", \n",
    "    \"봉담읍\", \"서신면\", \"청계동\", \"광적면\", \"백석읍\", \"고읍\", \"보산동\", \"봉산동\", \"공도읍\", \n",
    "    \"죽산면\", \"창전동\", \"장호원읍\", \"부발읍\", \"금촌동\", \"운정\", \"파주읍\", \"신읍동\", \"선단동\", \n",
    "    \"일동면\", \"여주\", \"중앙동\", \"대신면\", \"가남읍\", \"연천\", \"전곡\", \"가평읍\", \"설악면\", \"양평군청\", \n",
    "    \"양평읍\", \"용문면\"\n",
    "]\n",
    "\n",
    "# DataFrame 'SIDO' 열에서 해당 지역 이름들을 '경기도'로 변경\n",
    "long_df['SIDO'] = long_df['SIDO'].replace(gyeonggi_areas, '경기도')\n"
   ]
  },
  {
   "cell_type": "code",
   "execution_count": 127,
   "metadata": {},
   "outputs": [],
   "source": [
    "# 대체하고자 하는 강원도의 지역 이름 목록\n",
    "gangwon_areas = [\n",
    "    \"양구읍\", \"상리\", \"정선읍사무소\", \"우천면\", \"횡성읍\", \"중앙로\", \"석사동\", \"신사우동\", \n",
    "    \"주문진읍\", \"옥천동\", \"중앙동\", \"명륜동\", \"문막읍\", \"반곡동\", \"지정면\", \"천곡동\", \n",
    "    \"남양동\", \"평창읍\", \"양양읍\", \"속초시\", \"금호동\", \"영월읍\", \"갈말읍\", \"홍천읍\", \n",
    "    \"화천군\", \"태백시\", \"황지동\", \"인제읍\"\n",
    "]\n",
    "\n",
    "# DataFrame 'SIDO' 열에서 해당 지역 이름들을 '강원도'로 변경\n",
    "long_df['SIDO'] = long_df['SIDO'].replace(gangwon_areas, '강원도')\n"
   ]
  },
  {
   "cell_type": "code",
   "execution_count": 128,
   "metadata": {},
   "outputs": [],
   "source": [
    "# 대체하고자 하는 충청북도의 지역 이름 목록\n",
    "chungcheongbukdo_areas = [\n",
    "    \"괴산읍\", \"감물면\", \"음성읍\", \"소이면\", \"송정동\", \"사천동\", \"문화동\", \"용담동\", \n",
    "    \"용암동\", \"오창읍\", \"산남동\", \"가덕면\", \"오송읍\", \"호암동\", \"칠금동\", \"중앙탑면\", \n",
    "    \"살미면\", \"장락동\", \"영천동\", \"청풍면\", \"매포읍\", \"단성면\", \"단양읍\", \"진천읍\", \n",
    "    \"덕산읍\", \"옥천읍\", \"영동읍\", \"황간면\", \"증평읍\", \"도안면\", \"보은읍\"\n",
    "]\n",
    "\n",
    "# DataFrame 'SIDO' 열에서 해당 지역 이름들을 '충청북도'로 변경\n",
    "long_df['SIDO'] = long_df['SIDO'].replace(chungcheongbukdo_areas, '충청북도')\n"
   ]
  },
  {
   "cell_type": "code",
   "execution_count": 129,
   "metadata": {},
   "outputs": [],
   "source": [
    "# 대체하고자 하는 충청남도의 지역 이름 목록\n",
    "chungcheongnamdo_areas = [\n",
    "    \"성황동\", \"백석동\", \"성거읍\", \"신방동\", \"난지도리\", \"정곡리\", \"송산면\", \"당진시청사\", \n",
    "    \"합덕읍\", \"독곶리\", \"동문동\", \"대산리\", \"성연면\", \"모종동\", \"배방읍\", \"도고면\", \n",
    "    \"둔포면\", \"인주면\", \"송악면\", \"논산\", \"연무읍사무소\", \"성동면\", \"이원면\", \"태안읍\", \n",
    "    \"원북면\", \"대천2동\", \"주교면\", \"홍성읍\", \"내포\", \"공주\", \"탄천면\", \"부여읍\", \n",
    "    \"청양읍\", \"정산면사무소\", \"금산읍\", \"예산군\", \"삽교읍\", \"엄사면\", \"서천읍\", \"서면\", \"장항읍\"\n",
    "]\n",
    "\n",
    "# DataFrame 'SIDO' 열에서 해당 지역 이름들을 '충청남도'로 변경\n",
    "long_df['SIDO'] = long_df['SIDO'].replace(chungcheongnamdo_areas, '충청남도')\n"
   ]
  },
  {
   "cell_type": "code",
   "execution_count": 130,
   "metadata": {},
   "outputs": [],
   "source": [
    "# 대체하고자 하는 전라북도의 지역 이름 목록\n",
    "jeollabukdo_areas = [\n",
    "    \"임실읍\", \"관촌면\", \"삼천동\", \"팔복동\", \"노송동\", \"태평동\", \"중앙동\", \"송천동\", \n",
    "    \"혁신동\", \"여의동\", \"효자동\", \"신풍동\", \"소룡동\", \"사정동\", \"개정동\", \"옥산면\", \n",
    "    \"비응도동\", \"소룡동2\", \"함열읍\", \"남중동\", \"팔봉동\", \"모현동\", \"삼기면\", \"용동면\", \n",
    "    \"춘포면\", \"여산면\", \"죽항동\", \"운봉읍\", \"연지동\", \"신태인\", \"영파동\", \"고창군\", \n",
    "    \"고창읍\", \"심원면\", \"부안읍\", \"계화면\", \"요촌동\", \"광활면\", \"고산면\", \"봉동읍\", \n",
    "    \"구이면\", \"진안읍\", \"무주읍\", \"순창읍\", \"장수읍\"\n",
    "]\n",
    "\n",
    "# DataFrame 'SIDO' 열에서 해당 지역 이름들을 '전라북도'로 변경\n",
    "long_df['SIDO'] = long_df['SIDO'].replace(jeollabukdo_areas, '전라북도')\n"
   ]
  },
  {
   "cell_type": "code",
   "execution_count": 131,
   "metadata": {},
   "outputs": [],
   "source": [
    "# 대체하고자 하는 전라남도의 지역 이름 목록\n",
    "jeollanamdo_areas = [\n",
    "    \"화순읍\", \"광무동\", \"서강동\", \"월내동\", \"문수동\", \"여천동\", \"덕충동\", \"화양면\", \n",
    "    \"율촌면\", \"삼일동\", \"중동\", \"태인동\", \"봉강면\", \"진상면\", \"광양읍\", \"진월면\", \n",
    "    \"장천동\", \"연향동\", \"순천만\", \"호두리\", \"신대\", \"용당동\", \"부흥동\", \"나불리\", \n",
    "    \"영암읍\", \"대불\", \"빛가람동\", \"담양읍\", \"장성읍\", \"해남읍\", \"영광읍\", \"장흥읍\", \n",
    "    \"진도읍\", \"신지면\", \"함평읍\", \"고흥읍\", \"신안군\", \"무안읍\", \"강진읍\", \"곡성읍\", \n",
    "    \"구례읍\", \"벌교읍\", \"보성읍\"\n",
    "]\n",
    "\n",
    "# DataFrame 'SIDO' 열에서 해당 지역 이름들을 '전라남도'로 변경\n",
    "long_df['SIDO'] = long_df['SIDO'].replace(jeollanamdo_areas, '전라남도')\n"
   ]
  },
  {
   "cell_type": "code",
   "execution_count": 132,
   "metadata": {},
   "outputs": [],
   "source": [
    "# 대체하고자 하는 경상북도의 지역 이름 목록\n",
    "gyeongsangbukdo_areas = [\n",
    "    \"영덕읍\", \"영해면\", \"영천시\", \"의성읍\", \"안계면사무소\", \"장흥동\", \"장량동\", \"죽도동\", \n",
    "    \"대도동\", \"대송면\", \"3공단\", \"송도동\", \"오천읍\", \"청림동\", \"연일읍\", \"제철동\", \n",
    "    \"공단동\", \"원평동\", \"형곡동\", \"4공단\", \"진미동\", \"신음동\", \"문당동\", \"대광동\", \n",
    "    \"율곡동\", \"평화남산동\", \"성건동\", \"보덕동\", \"안강읍\", \"외동읍\", \"남문동\", \"명륜동\", \n",
    "    \"휴천2동\", \"가흥동\", \"영주동\", \"중방동\", \"진량읍\", \"하양읍\", \"상주시\", \"칠곡군\", \n",
    "    \"울진군\", \"석포면\", \"봉화군\", \"울릉읍\", \"대가야읍\", \"군위군\", \"성주군\", \"예천군\", \n",
    "    \"화양읍\", \"청송군\", \"영양군\", \"문경시\"\n",
    "]\n",
    "\n",
    "# DataFrame 'SIDO' 열에서 해당 지역 이름들을 '경상북도'로 변경\n",
    "long_df['SIDO'] = long_df['SIDO'].replace(gyeongsangbukdo_areas, '경상북도')\n"
   ]
  },
  {
   "cell_type": "code",
   "execution_count": 133,
   "metadata": {},
   "outputs": [],
   "source": [
    "# 대체하고자 하는 경상남도의 지역 이름 목록\n",
    "gyeongsangnamdo_areas = [\n",
    "    \"명서동\", \"웅남동\", \"성주동\", \"가음정동\", \"용지동\", \"사파동\", \"경화동\", \"회원동\", \n",
    "    \"봉암동\", \"월영동\", \"내서읍\", \"상봉동\", \"대안동\", \"상대동\", \"정촌면\", \"하동읍\", \n",
    "    \"금성면\", \"동상동\", \"삼방동\", \"장유동\", \"진영읍\", \"북부동\", \"삼호동\", \"웅상읍\", \n",
    "    \"물금읍\", \"아주동\", \"고현동\", \"사천읍\", \"향촌동\", \"내일동\", \"무전동\", \"고성읍\", \n",
    "    \"거창읍\", \"가야읍\", \"함양읍\", \"남해읍\", \"산청읍\", \"의령읍\", \"창녕읍\", \"합천읍\"\n",
    "]\n",
    "\n",
    "# DataFrame 'SIDO' 열에서 해당 지역 이름들을 '경상남도'로 변경\n",
    "long_df['SIDO'] = long_df['SIDO'].replace(gyeongsangnamdo_areas, '경상남도')\n"
   ]
  },
  {
   "cell_type": "code",
   "execution_count": 134,
   "metadata": {},
   "outputs": [],
   "source": [
    "# 대체하고자 하는 제주특별자치도의 지역 이름 목록\n",
    "jeju_areas = [\n",
    "    \"이도동\", \"연동\", \"조천읍\", \"한림읍\", \"화북동\", \"애월읍\", \"동홍동\", \"성산읍\", \n",
    "    \"대정읍\", \"남원읍\", \"강정동\"\n",
    "]\n",
    "\n",
    "# DataFrame 'SIDO' 열에서 해당 지역 이름들을 '제주특별자치도'로 변경\n",
    "long_df['SIDO'] = long_df['SIDO'].replace(jeju_areas, '제주특별자치도')"
   ]
  },
  {
   "cell_type": "code",
   "execution_count": 135,
   "metadata": {},
   "outputs": [],
   "source": [
    "# 삭제하고자 하는 SIDO 이름 목록\n",
    "remove_sido_names = [\n",
    "    \"백령도\", \"연평도\", \"울도\", \"외연도\", \"안마도\", \"홍도\", \"가거도\", \"태하리\", \"고산리\", \n",
    "    \"석모리\", \"덕적도\", \"경인항\", \"인천항\", \"울산항\", \"설성면\", \"파주\", \"관인면\", \"연천(DMZ)\", \n",
    "    \"방산면\", \"간성읍\", \"인제(DMZ)\", \"고성(DMZ)\", \"북평면\", \"치악산\", \"묵호항\", \"동해항\", \n",
    "    \"철원(DMZ)\", \"화천(DMZ)\", \"청천면\", \"금왕\", \"파도리\", \"대산항\", \"평택당진항\", \"사곡면\", \"장항항\"\n",
    "]\n",
    "\n",
    "# DataFrame에서 해당 SIDO 이름을 포함하는 행 삭제\n",
    "long_df = long_df[~long_df['SIDO'].isin(remove_sido_names)]\n"
   ]
  },
  {
   "cell_type": "code",
   "execution_count": 136,
   "metadata": {},
   "outputs": [],
   "source": [
    "# 삭제하고자 하는 SIDO 이름 목록\n",
    "remove_sido_names = [\n",
    "    \"운암면\", \"군산항\", \"새만금\", \"송단리\", \"여수항\", \"광양항\", \"목포항\", \"지품면\", \"강구면\", \"화북면\",\n",
    "    \"안계면\", \"포항항\", \"대산면\", \"부산항\", \"마산항\", \"저구리\", \"남상면\", \"동대문\", \"서울역\", \"한강대로\",\n",
    "    \"청계천로\", \"종로\", \"홍릉로\", \"청량리\", \"신촌로\", \"영등포로\", \"도산대로\", \"천호대로\", \"강남대로\", \"신사동\",\n",
    "    \"길동\", \"양재로\", \"강변북로\", \"화랑로\", \"태릉\", \"공항대로\", \"동작대로\", \"정릉로\", \"내부순환로\", \"시흥대로\",\n",
    "    \"시도평균\", \"온천동\", \"초량동\", \"부산북항\", \"부산신항\", \"삼락동\", \"시도평균\", \"남산동\", \"평리동\", \"이곡동\",\n",
    "    \"시도평균\", \"석바위\", \"부평역\", \"송현\", \"서해\", \"남동\", \"중봉\", \"시도평균\", \"치평동\", \"운암동\",\n",
    "    \"시도평균\", \"대흥동1\", \"월평동\", \"시도평균\", \"신정로\", \"북부순환도로\", \"시도평균\", \"보람동\", \"경수대로(동수원)\",\n",
    "    \"성남대로(모란역)\", \"대왕판교로(백현동)\", \"중앙대로(고잔동)\", \"백마로(마두역)\", \"서해안로\", \"계남공원\",\n",
    "    \"송내대로(중동)\", \"경춘로\", \"중부대로(구갈동)\", \"한강로\", \"금암로(신장동)\", \"시도평균\", \"온의동\", \"복대동\",\n",
    "    \"성성동\", \"복운리\", \"장재리\", \"시도평균\", \"금마면\", \"금암동\", \"서신동\", \"시도평균\", \"우현동\", \"김해대로\",\n",
    "    \"삼진로\", \"반송로\", \"시도평균\", \"노형로\", \"SIDO콜롬\"\n",
    "]\n",
    "\n",
    "# DataFrame에서 해당 SIDO 이름을 포함하는 행 삭제\n",
    "long_df = long_df[~long_df['SIDO'].isin(remove_sido_names)]\n",
    "\n",
    "# DataFrame에서 해당 SIDO 이름을 포함하는 행 삭제"
   ]
  },
  {
   "cell_type": "code",
   "execution_count": 137,
   "metadata": {},
   "outputs": [
    {
     "data": {
      "text/html": [
       "<div>\n",
       "<style scoped>\n",
       "    .dataframe tbody tr th:only-of-type {\n",
       "        vertical-align: middle;\n",
       "    }\n",
       "\n",
       "    .dataframe tbody tr th {\n",
       "        vertical-align: top;\n",
       "    }\n",
       "\n",
       "    .dataframe thead th {\n",
       "        text-align: right;\n",
       "    }\n",
       "</style>\n",
       "<table border=\"1\" class=\"dataframe\">\n",
       "  <thead>\n",
       "    <tr style=\"text-align: right;\">\n",
       "      <th></th>\n",
       "      <th>SIDO</th>\n",
       "      <th>항목</th>\n",
       "      <th>단위</th>\n",
       "      <th>STD_YYYYMM</th>\n",
       "      <th>도로일산화</th>\n",
       "    </tr>\n",
       "  </thead>\n",
       "  <tbody>\n",
       "    <tr>\n",
       "      <th>0</th>\n",
       "      <td>서울특별시</td>\n",
       "      <td>월평균</td>\n",
       "      <td>NaN</td>\n",
       "      <td>2010.01 월</td>\n",
       "      <td>1.0</td>\n",
       "    </tr>\n",
       "    <tr>\n",
       "      <th>1</th>\n",
       "      <td>서울특별시</td>\n",
       "      <td>월평균</td>\n",
       "      <td>NaN</td>\n",
       "      <td>2010.01 월</td>\n",
       "      <td>NaN</td>\n",
       "    </tr>\n",
       "  </tbody>\n",
       "</table>\n",
       "</div>"
      ],
      "text/plain": [
       "    SIDO   항목  단위 STD_YYYYMM 도로일산화\n",
       "0  서울특별시  월평균 NaN  2010.01 월   1.0\n",
       "1  서울특별시  월평균 NaN  2010.01 월   NaN"
      ]
     },
     "execution_count": 137,
     "metadata": {},
     "output_type": "execute_result"
    }
   ],
   "source": [
    "long_df.head(2)"
   ]
  },
  {
   "cell_type": "code",
   "execution_count": 138,
   "metadata": {},
   "outputs": [
    {
     "data": {
      "text/plain": [
       "dtype('O')"
      ]
     },
     "execution_count": 138,
     "metadata": {},
     "output_type": "execute_result"
    }
   ],
   "source": [
    "long_df['도로일산화'].dtype"
   ]
  },
  {
   "cell_type": "code",
   "execution_count": 139,
   "metadata": {},
   "outputs": [],
   "source": [
    "long_df['도로일산화'] = pd.to_numeric(long_df['도로일산화'], errors='coerce') \n",
    "\n",
    "# 오브젝트 타입에서의 변환"
   ]
  },
  {
   "cell_type": "markdown",
   "metadata": {},
   "source": [
    "평균보다 낮은 수치의 도로를 분석자료에서 제외\n",
    "사람들은 밀집된 지역을 많이 가는 이유로 \n"
   ]
  },
  {
   "cell_type": "code",
   "execution_count": 140,
   "metadata": {},
   "outputs": [],
   "source": [
    "# '도로일산화' 컬럼의 값이 0.4 이하거나 NaN인 행 삭제\n",
    "#long_df = long_df.drop(long_df[(long_df['도로일산화'] <= 0.4) | (long_df['도로일산화'].isna())].index)\n"
   ]
  },
  {
   "cell_type": "code",
   "execution_count": 141,
   "metadata": {},
   "outputs": [],
   "source": [
    "# SIDO, STD_YYYYMM 열을 기준으로 그룹바이 한 후 PM10의 평균값을 새로운 컬럼에 저장하고, \n",
    "# 결과값을 소수점 두 자리까지 반올림\n",
    "long_df['AVG_도로일산화'] = long_df.groupby(['SIDO', 'STD_YYYYMM'])['도로일산화'].transform('mean').round(2)\n"
   ]
  },
  {
   "cell_type": "code",
   "execution_count": 142,
   "metadata": {},
   "outputs": [],
   "source": [
    "long_df.to_csv('data/test/도로일산화.csv', index=False)"
   ]
  },
  {
   "cell_type": "code",
   "execution_count": 143,
   "metadata": {},
   "outputs": [],
   "source": [
    "df2 = long_df.drop_duplicates(subset=['SIDO', 'STD_YYYYMM', 'AVG_도로일산화'])\n",
    "# SIDO와 STD_YYYYMM 열을 기준으로 중복을 제거\n",
    "# 중복된 데이터를 제거하면 데이터가 정렬됨 "
   ]
  },
  {
   "cell_type": "code",
   "execution_count": 144,
   "metadata": {},
   "outputs": [],
   "source": [
    "# SIDO 열에 총계 또는 도평균을 포함하는 열을 필터링 \n",
    "df2 = df2[~df2['SIDO'].str.contains('총계|도평균')]"
   ]
  },
  {
   "cell_type": "code",
   "execution_count": 145,
   "metadata": {},
   "outputs": [],
   "source": [
    "# 일산화 , 항목 , 단위 콜롬 제거\n",
    "df2 = df2.drop(columns=['도로일산화', '항목', '단위'])"
   ]
  },
  {
   "cell_type": "code",
   "execution_count": 146,
   "metadata": {},
   "outputs": [],
   "source": [
    "# 'STD_YYYYMM' 열의 숫자가 아닌 문자를 제거\n",
    "df2['STD_YYYYMM'] = df2['STD_YYYYMM'].str.replace('[^\\d]', '', regex=True)"
   ]
  },
  {
   "cell_type": "code",
   "execution_count": 147,
   "metadata": {},
   "outputs": [],
   "source": [
    "# 결과를 정수 타입으로 변환\n",
    "df2['STD_YYYYMM'] = df2['STD_YYYYMM'].astype(int)"
   ]
  },
  {
   "cell_type": "code",
   "execution_count": 148,
   "metadata": {},
   "outputs": [
    {
     "data": {
      "text/plain": [
       "dtype('int32')"
      ]
     },
     "execution_count": 148,
     "metadata": {},
     "output_type": "execute_result"
    }
   ],
   "source": [
    "df2['STD_YYYYMM'].dtype"
   ]
  },
  {
   "cell_type": "code",
   "execution_count": 149,
   "metadata": {},
   "outputs": [],
   "source": [
    "df2.reset_index(drop=True, inplace=True)\n"
   ]
  },
  {
   "cell_type": "code",
   "execution_count": 150,
   "metadata": {},
   "outputs": [],
   "source": [
    "df2.to_csv('data/test/도로일산화.csv', index=False)"
   ]
  },
  {
   "cell_type": "code",
   "execution_count": 151,
   "metadata": {},
   "outputs": [
    {
     "data": {
      "text/html": [
       "<div>\n",
       "<style scoped>\n",
       "    .dataframe tbody tr th:only-of-type {\n",
       "        vertical-align: middle;\n",
       "    }\n",
       "\n",
       "    .dataframe tbody tr th {\n",
       "        vertical-align: top;\n",
       "    }\n",
       "\n",
       "    .dataframe thead th {\n",
       "        text-align: right;\n",
       "    }\n",
       "</style>\n",
       "<table border=\"1\" class=\"dataframe\">\n",
       "  <thead>\n",
       "    <tr style=\"text-align: right;\">\n",
       "      <th></th>\n",
       "      <th>SIDO</th>\n",
       "      <th>STD_YYYYMM</th>\n",
       "      <th>AVG_도로일산화</th>\n",
       "    </tr>\n",
       "  </thead>\n",
       "  <tbody>\n",
       "    <tr>\n",
       "      <th>0</th>\n",
       "      <td>서울특별시</td>\n",
       "      <td>201001</td>\n",
       "      <td>0.80</td>\n",
       "    </tr>\n",
       "    <tr>\n",
       "      <th>1</th>\n",
       "      <td>부산광역시</td>\n",
       "      <td>201001</td>\n",
       "      <td>0.48</td>\n",
       "    </tr>\n",
       "    <tr>\n",
       "      <th>2</th>\n",
       "      <td>대구광역시</td>\n",
       "      <td>201001</td>\n",
       "      <td>0.67</td>\n",
       "    </tr>\n",
       "    <tr>\n",
       "      <th>3</th>\n",
       "      <td>인천광역시</td>\n",
       "      <td>201001</td>\n",
       "      <td>0.89</td>\n",
       "    </tr>\n",
       "    <tr>\n",
       "      <th>4</th>\n",
       "      <td>광주광역시</td>\n",
       "      <td>201001</td>\n",
       "      <td>0.65</td>\n",
       "    </tr>\n",
       "  </tbody>\n",
       "</table>\n",
       "</div>"
      ],
      "text/plain": [
       "    SIDO  STD_YYYYMM  AVG_도로일산화\n",
       "0  서울특별시      201001       0.80\n",
       "1  부산광역시      201001       0.48\n",
       "2  대구광역시      201001       0.67\n",
       "3  인천광역시      201001       0.89\n",
       "4  광주광역시      201001       0.65"
      ]
     },
     "execution_count": 151,
     "metadata": {},
     "output_type": "execute_result"
    }
   ],
   "source": [
    "df2.head()"
   ]
  },
  {
   "cell_type": "code",
   "execution_count": null,
   "metadata": {},
   "outputs": [],
   "source": []
  },
  {
   "cell_type": "code",
   "execution_count": null,
   "metadata": {},
   "outputs": [],
   "source": []
  }
 ],
 "metadata": {
  "kernelspec": {
   "display_name": "base",
   "language": "python",
   "name": "python3"
  },
  "language_info": {
   "codemirror_mode": {
    "name": "ipython",
    "version": 3
   },
   "file_extension": ".py",
   "mimetype": "text/x-python",
   "name": "python",
   "nbconvert_exporter": "python",
   "pygments_lexer": "ipython3",
   "version": "3.11.4"
  }
 },
 "nbformat": 4,
 "nbformat_minor": 2
}
