{
 "cells": [
  {
   "cell_type": "code",
   "execution_count": 1,
   "metadata": {},
   "outputs": [],
   "source": [
    "import pandas as pd"
   ]
  },
  {
   "cell_type": "code",
   "execution_count": 2,
   "metadata": {},
   "outputs": [],
   "source": [
    "df1 = pd.read_csv('../data/test/평균기온.csv')\n",
    "df2 = pd.read_csv('../data/test/평균상대습도.csv')\n",
    "df3 = pd.read_csv('../data/test/평균증기압.csv')\n",
    "df4 = pd.read_csv('../data/test/평균최고기온.csv')\n",
    "df5 = pd.read_csv('../data/test/평균최저기온.csv')\n",
    "df6 = pd.read_csv('../data/test/평균풍속.csv')\n"
   ]
  },
  {
   "cell_type": "code",
   "execution_count": 3,
   "metadata": {},
   "outputs": [],
   "source": [
    "# STD_YYYYMM과 SIDO 컬럼을 기준으로 데이터프레임 병합\n",
    "merged_df = pd.merge(df1, df2, on=['STD_YYYYMM', 'SIDO'], how='inner')\n",
    "merged_df = pd.merge(merged_df, df3, on=['STD_YYYYMM', 'SIDO'], how='inner')\n",
    "merged_df = pd.merge(merged_df, df4, on=['STD_YYYYMM', 'SIDO'], how='inner')\n",
    "merged_df = pd.merge(merged_df, df5, on=['STD_YYYYMM', 'SIDO'], how='inner')\n",
    "merged_df = pd.merge(merged_df, df6, on=['STD_YYYYMM', 'SIDO'], how='inner')\n",
    "\n",
    "\n",
    "\n"
   ]
  },
  {
   "cell_type": "code",
   "execution_count": null,
   "metadata": {},
   "outputs": [],
   "source": [
    "merged_df"
   ]
  },
  {
   "cell_type": "code",
   "execution_count": 23,
   "metadata": {},
   "outputs": [],
   "source": [
    "# 년월별 그룹바이해서 NAN 값 대체 \n",
    "\n",
    "for col in merged_df.columns:\n",
    "    if merged_df[col].isna().any() and col not in ['SIDO', 'STD_YYYYMM']:\n",
    "        merged_df[col] = merged_df.groupby(['STD_YYYYMM'])[col].transform(lambda x: x.fillna(x.mean()).round(4))\n"
   ]
  },
  {
   "cell_type": "code",
   "execution_count": 4,
   "metadata": {},
   "outputs": [
    {
     "data": {
      "text/plain": [
       "SIDO          0\n",
       "STD_YYYYMM    0\n",
       "평균기온          0\n",
       "평균상대습도        0\n",
       "평균증기압         0\n",
       "평균최고기온        0\n",
       "평균최저기온        0\n",
       "평균풍속          0\n",
       "dtype: int64"
      ]
     },
     "execution_count": 4,
     "metadata": {},
     "output_type": "execute_result"
    }
   ],
   "source": [
    "merged_df.isna().sum()"
   ]
  },
  {
   "cell_type": "code",
   "execution_count": 26,
   "metadata": {},
   "outputs": [],
   "source": [
    "# 마지막 남은 NAN 값 대체\n",
    "for col in merged_df.columns:\n",
    "    if merged_df[col].isna().any() and col not in ['SIDO', 'STD_YYYYMM']:\n",
    "        merged_df[col] = merged_df[col].transform(lambda x: x.fillna(x.mean()).round(4))\n"
   ]
  },
  {
   "cell_type": "code",
   "execution_count": 5,
   "metadata": {},
   "outputs": [
    {
     "data": {
      "text/html": [
       "<div>\n",
       "<style scoped>\n",
       "    .dataframe tbody tr th:only-of-type {\n",
       "        vertical-align: middle;\n",
       "    }\n",
       "\n",
       "    .dataframe tbody tr th {\n",
       "        vertical-align: top;\n",
       "    }\n",
       "\n",
       "    .dataframe thead th {\n",
       "        text-align: right;\n",
       "    }\n",
       "</style>\n",
       "<table border=\"1\" class=\"dataframe\">\n",
       "  <thead>\n",
       "    <tr style=\"text-align: right;\">\n",
       "      <th></th>\n",
       "      <th>SIDO</th>\n",
       "      <th>STD_YYYYMM</th>\n",
       "      <th>평균기온</th>\n",
       "      <th>평균상대습도</th>\n",
       "      <th>평균증기압</th>\n",
       "      <th>평균최고기온</th>\n",
       "      <th>평균최저기온</th>\n",
       "      <th>평균풍속</th>\n",
       "    </tr>\n",
       "  </thead>\n",
       "  <tbody>\n",
       "    <tr>\n",
       "      <th>4687</th>\n",
       "      <td>광주광역시</td>\n",
       "      <td>202212</td>\n",
       "      <td>1.1</td>\n",
       "      <td>63.0</td>\n",
       "      <td>4.1</td>\n",
       "      <td>5.5</td>\n",
       "      <td>-2.6</td>\n",
       "      <td>1.2</td>\n",
       "    </tr>\n",
       "    <tr>\n",
       "      <th>4688</th>\n",
       "      <td>부산광역시</td>\n",
       "      <td>202212</td>\n",
       "      <td>3.3</td>\n",
       "      <td>44.0</td>\n",
       "      <td>3.5</td>\n",
       "      <td>8.1</td>\n",
       "      <td>-0.3</td>\n",
       "      <td>3.3</td>\n",
       "    </tr>\n",
       "    <tr>\n",
       "      <th>4689</th>\n",
       "      <td>전라남도</td>\n",
       "      <td>202212</td>\n",
       "      <td>2.1</td>\n",
       "      <td>65.8</td>\n",
       "      <td>4.7</td>\n",
       "      <td>6.6</td>\n",
       "      <td>-1.9</td>\n",
       "      <td>3.0</td>\n",
       "    </tr>\n",
       "    <tr>\n",
       "      <th>4690</th>\n",
       "      <td>제주특별자치도</td>\n",
       "      <td>202212</td>\n",
       "      <td>6.8</td>\n",
       "      <td>66.0</td>\n",
       "      <td>6.6</td>\n",
       "      <td>9.8</td>\n",
       "      <td>4.0</td>\n",
       "      <td>4.7</td>\n",
       "    </tr>\n",
       "    <tr>\n",
       "      <th>4691</th>\n",
       "      <td>세종특별자치시</td>\n",
       "      <td>202212</td>\n",
       "      <td>-0.4</td>\n",
       "      <td>61.0</td>\n",
       "      <td>3.7</td>\n",
       "      <td>4.4</td>\n",
       "      <td>-4.7</td>\n",
       "      <td>2.2</td>\n",
       "    </tr>\n",
       "  </tbody>\n",
       "</table>\n",
       "</div>"
      ],
      "text/plain": [
       "         SIDO  STD_YYYYMM  평균기온  평균상대습도  평균증기압  평균최고기온  평균최저기온  평균풍속\n",
       "4687    광주광역시      202212   1.1    63.0    4.1     5.5    -2.6   1.2\n",
       "4688    부산광역시      202212   3.3    44.0    3.5     8.1    -0.3   3.3\n",
       "4689     전라남도      202212   2.1    65.8    4.7     6.6    -1.9   3.0\n",
       "4690  제주특별자치도      202212   6.8    66.0    6.6     9.8     4.0   4.7\n",
       "4691  세종특별자치시      202212  -0.4    61.0    3.7     4.4    -4.7   2.2"
      ]
     },
     "execution_count": 5,
     "metadata": {},
     "output_type": "execute_result"
    }
   ],
   "source": [
    "merged_df.tail()"
   ]
  },
  {
   "cell_type": "code",
   "execution_count": 6,
   "metadata": {},
   "outputs": [
    {
     "data": {
      "text/html": [
       "<div>\n",
       "<style scoped>\n",
       "    .dataframe tbody tr th:only-of-type {\n",
       "        vertical-align: middle;\n",
       "    }\n",
       "\n",
       "    .dataframe tbody tr th {\n",
       "        vertical-align: top;\n",
       "    }\n",
       "\n",
       "    .dataframe thead th {\n",
       "        text-align: right;\n",
       "    }\n",
       "</style>\n",
       "<table border=\"1\" class=\"dataframe\">\n",
       "  <thead>\n",
       "    <tr style=\"text-align: right;\">\n",
       "      <th></th>\n",
       "      <th>SIDO</th>\n",
       "      <th>STD_YYYYMM</th>\n",
       "      <th>평균기온</th>\n",
       "      <th>평균상대습도</th>\n",
       "      <th>평균증기압</th>\n",
       "      <th>평균최고기온</th>\n",
       "      <th>평균최저기온</th>\n",
       "      <th>평균풍속</th>\n",
       "    </tr>\n",
       "  </thead>\n",
       "  <tbody>\n",
       "    <tr>\n",
       "      <th>0</th>\n",
       "      <td>강원도</td>\n",
       "      <td>200001</td>\n",
       "      <td>-2.7</td>\n",
       "      <td>66.3</td>\n",
       "      <td>3.4</td>\n",
       "      <td>2.0</td>\n",
       "      <td>-7.0</td>\n",
       "      <td>1.9</td>\n",
       "    </tr>\n",
       "  </tbody>\n",
       "</table>\n",
       "</div>"
      ],
      "text/plain": [
       "  SIDO  STD_YYYYMM  평균기온  평균상대습도  평균증기압  평균최고기온  평균최저기온  평균풍속\n",
       "0  강원도      200001  -2.7    66.3    3.4     2.0    -7.0   1.9"
      ]
     },
     "execution_count": 6,
     "metadata": {},
     "output_type": "execute_result"
    }
   ],
   "source": [
    "merged_df.head(1)"
   ]
  },
  {
   "cell_type": "code",
   "execution_count": 30,
   "metadata": {},
   "outputs": [],
   "source": [
    "# STD_YYYYMM의 값이 10000 이하인 행을 제거\n",
    "merged_df = merged_df[merged_df['STD_YYYYMM'] > 10000]"
   ]
  },
  {
   "cell_type": "code",
   "execution_count": 29,
   "metadata": {},
   "outputs": [
    {
     "data": {
      "text/plain": [
       "N    1278\n",
       "Y     690\n",
       "Name: 구리_BAD, dtype: int64"
      ]
     },
     "execution_count": 29,
     "metadata": {},
     "output_type": "execute_result"
    }
   ],
   "source": [
    "merged_df['구리_BAD'].value_counts()"
   ]
  },
  {
   "cell_type": "code",
   "execution_count": 8,
   "metadata": {},
   "outputs": [],
   "source": [
    "merged_df.to_csv('data/월별기온합침2000-2022.csv', index=False)"
   ]
  },
  {
   "cell_type": "code",
   "execution_count": null,
   "metadata": {},
   "outputs": [],
   "source": []
  }
 ],
 "metadata": {
  "kernelspec": {
   "display_name": "base",
   "language": "python",
   "name": "python3"
  },
  "language_info": {
   "codemirror_mode": {
    "name": "ipython",
    "version": 3
   },
   "file_extension": ".py",
   "mimetype": "text/x-python",
   "name": "python",
   "nbconvert_exporter": "python",
   "pygments_lexer": "ipython3",
   "version": "3.11.4"
  }
 },
 "nbformat": 4,
 "nbformat_minor": 2
}
