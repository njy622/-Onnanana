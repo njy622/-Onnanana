{
 "cells": [
  {
   "cell_type": "code",
   "execution_count": 1,
   "metadata": {},
   "outputs": [],
   "source": [
    "import pandas as pd"
   ]
  },
  {
   "cell_type": "code",
   "execution_count": 11,
   "metadata": {},
   "outputs": [],
   "source": [
    "df1 = pd.read_csv('../data/test/구리.csv')\n",
    "df2 = pd.read_csv('../data/test/납.csv')\n",
    "df3 = pd.read_csv('../data/test/니켈.csv')\n",
    "df4 = pd.read_csv('../data/test/망간.csv')\n",
    "df5 = pd.read_csv('../data/test/비소.csv')\n",
    "df6 = pd.read_csv('../data/test/철.csv')\n",
    "df7 = pd.read_csv('../data/test/카드뮴.csv')\n",
    "df8 = pd.read_csv('../data/test/크롬.csv')\n"
   ]
  },
  {
   "cell_type": "code",
   "execution_count": 19,
   "metadata": {},
   "outputs": [],
   "source": [
    "# STD_YYYYMM과 SIDO 컬럼을 기준으로 데이터프레임 병합\n",
    "merged_df = pd.merge(df1, df2, on=['STD_YYYYMM', 'SIDO'], how='inner')\n",
    "merged_df = pd.merge(merged_df, df3, on=['STD_YYYYMM', 'SIDO'], how='inner')\n",
    "merged_df = pd.merge(merged_df, df4, on=['STD_YYYYMM', 'SIDO'], how='inner')\n",
    "merged_df = pd.merge(merged_df, df5, on=['STD_YYYYMM', 'SIDO'], how='inner')\n",
    "merged_df = pd.merge(merged_df, df6, on=['STD_YYYYMM', 'SIDO'], how='inner')\n",
    "merged_df = pd.merge(merged_df, df7, on=['STD_YYYYMM', 'SIDO'], how='inner')\n",
    "merged_df = pd.merge(merged_df, df8, on=['STD_YYYYMM', 'SIDO'], how='inner')\n",
    "\n",
    "\n",
    "\n"
   ]
  },
  {
   "cell_type": "code",
   "execution_count": null,
   "metadata": {},
   "outputs": [],
   "source": [
    "merged_df"
   ]
  },
  {
   "cell_type": "code",
   "execution_count": 23,
   "metadata": {},
   "outputs": [],
   "source": [
    "# 년월별 그룹바이해서 NAN 값 대체 \n",
    "\n",
    "for col in merged_df.columns:\n",
    "    if merged_df[col].isna().any() and col not in ['SIDO', 'STD_YYYYMM']:\n",
    "        merged_df[col] = merged_df.groupby(['STD_YYYYMM'])[col].transform(lambda x: x.fillna(x.mean()).round(4))\n"
   ]
  },
  {
   "cell_type": "code",
   "execution_count": 24,
   "metadata": {},
   "outputs": [
    {
     "data": {
      "text/plain": [
       "SIDO           0\n",
       "STD_YYYYMM     0\n",
       "AVG_구리        16\n",
       "구리_BAD         0\n",
       "AVG_납         16\n",
       "납_0.5BAD       0\n",
       "납_BAD          0\n",
       "AVG_니켈        16\n",
       "니켈_BAD         0\n",
       "AVG_망간        16\n",
       "망간_BAD         0\n",
       "AVG_비소        16\n",
       "비소_BAD         0\n",
       "AVG_철         16\n",
       "철_BAD          0\n",
       "AVG_카드뮴       16\n",
       "카드뮴_BAD        0\n",
       "AVG_크롬        16\n",
       "크롬_BAD         0\n",
       "dtype: int64"
      ]
     },
     "execution_count": 24,
     "metadata": {},
     "output_type": "execute_result"
    }
   ],
   "source": [
    "merged_df.isna().sum()"
   ]
  },
  {
   "cell_type": "code",
   "execution_count": 26,
   "metadata": {},
   "outputs": [],
   "source": [
    "# 마지막 남은 NAN 값 대체\n",
    "for col in merged_df.columns:\n",
    "    if merged_df[col].isna().any() and col not in ['SIDO', 'STD_YYYYMM']:\n",
    "        merged_df[col] = merged_df[col].transform(lambda x: x.fillna(x.mean()).round(4))\n"
   ]
  },
  {
   "cell_type": "code",
   "execution_count": 31,
   "metadata": {},
   "outputs": [
    {
     "data": {
      "text/html": [
       "<div>\n",
       "<style scoped>\n",
       "    .dataframe tbody tr th:only-of-type {\n",
       "        vertical-align: middle;\n",
       "    }\n",
       "\n",
       "    .dataframe tbody tr th {\n",
       "        vertical-align: top;\n",
       "    }\n",
       "\n",
       "    .dataframe thead th {\n",
       "        text-align: right;\n",
       "    }\n",
       "</style>\n",
       "<table border=\"1\" class=\"dataframe\">\n",
       "  <thead>\n",
       "    <tr style=\"text-align: right;\">\n",
       "      <th></th>\n",
       "      <th>SIDO</th>\n",
       "      <th>STD_YYYYMM</th>\n",
       "      <th>AVG_구리</th>\n",
       "      <th>구리_BAD</th>\n",
       "      <th>AVG_납</th>\n",
       "      <th>납_0.5BAD</th>\n",
       "      <th>납_BAD</th>\n",
       "      <th>AVG_니켈</th>\n",
       "      <th>니켈_BAD</th>\n",
       "      <th>AVG_망간</th>\n",
       "      <th>망간_BAD</th>\n",
       "      <th>AVG_비소</th>\n",
       "      <th>비소_BAD</th>\n",
       "      <th>AVG_철</th>\n",
       "      <th>철_BAD</th>\n",
       "      <th>AVG_카드뮴</th>\n",
       "      <th>카드뮴_BAD</th>\n",
       "      <th>AVG_크롬</th>\n",
       "      <th>크롬_BAD</th>\n",
       "    </tr>\n",
       "  </thead>\n",
       "  <tbody>\n",
       "    <tr>\n",
       "      <th>1947</th>\n",
       "      <td>충청남도</td>\n",
       "      <td>202302</td>\n",
       "      <td>0.0232</td>\n",
       "      <td>Y</td>\n",
       "      <td>0.0503</td>\n",
       "      <td>N</td>\n",
       "      <td>Y</td>\n",
       "      <td>0.0028</td>\n",
       "      <td>N</td>\n",
       "      <td>0.0341</td>\n",
       "      <td>Y</td>\n",
       "      <td>0.0273</td>\n",
       "      <td>Y</td>\n",
       "      <td>1.0027</td>\n",
       "      <td>Y</td>\n",
       "      <td>0.0005</td>\n",
       "      <td>N</td>\n",
       "      <td>0.0054</td>\n",
       "      <td>Y</td>\n",
       "    </tr>\n",
       "    <tr>\n",
       "      <th>1948</th>\n",
       "      <td>전라북도</td>\n",
       "      <td>202302</td>\n",
       "      <td>0.0138</td>\n",
       "      <td>N</td>\n",
       "      <td>0.0212</td>\n",
       "      <td>N</td>\n",
       "      <td>N</td>\n",
       "      <td>0.0015</td>\n",
       "      <td>N</td>\n",
       "      <td>0.0269</td>\n",
       "      <td>N</td>\n",
       "      <td>0.0065</td>\n",
       "      <td>Y</td>\n",
       "      <td>0.3214</td>\n",
       "      <td>N</td>\n",
       "      <td>0.0006</td>\n",
       "      <td>N</td>\n",
       "      <td>0.0026</td>\n",
       "      <td>N</td>\n",
       "    </tr>\n",
       "    <tr>\n",
       "      <th>1949</th>\n",
       "      <td>전라남도</td>\n",
       "      <td>202302</td>\n",
       "      <td>0.0180</td>\n",
       "      <td>Y</td>\n",
       "      <td>0.0190</td>\n",
       "      <td>N</td>\n",
       "      <td>N</td>\n",
       "      <td>0.0108</td>\n",
       "      <td>Y</td>\n",
       "      <td>0.0977</td>\n",
       "      <td>Y</td>\n",
       "      <td>0.0069</td>\n",
       "      <td>Y</td>\n",
       "      <td>1.9173</td>\n",
       "      <td>Y</td>\n",
       "      <td>0.0009</td>\n",
       "      <td>Y</td>\n",
       "      <td>0.0057</td>\n",
       "      <td>Y</td>\n",
       "    </tr>\n",
       "    <tr>\n",
       "      <th>1950</th>\n",
       "      <td>경상북도</td>\n",
       "      <td>202302</td>\n",
       "      <td>0.0120</td>\n",
       "      <td>N</td>\n",
       "      <td>0.0406</td>\n",
       "      <td>N</td>\n",
       "      <td>Y</td>\n",
       "      <td>0.0188</td>\n",
       "      <td>Y</td>\n",
       "      <td>0.0739</td>\n",
       "      <td>Y</td>\n",
       "      <td>0.0178</td>\n",
       "      <td>Y</td>\n",
       "      <td>0.5647</td>\n",
       "      <td>N</td>\n",
       "      <td>0.0015</td>\n",
       "      <td>Y</td>\n",
       "      <td>0.0028</td>\n",
       "      <td>N</td>\n",
       "    </tr>\n",
       "    <tr>\n",
       "      <th>1951</th>\n",
       "      <td>경상남도</td>\n",
       "      <td>202302</td>\n",
       "      <td>0.0111</td>\n",
       "      <td>N</td>\n",
       "      <td>0.0134</td>\n",
       "      <td>N</td>\n",
       "      <td>N</td>\n",
       "      <td>0.0032</td>\n",
       "      <td>N</td>\n",
       "      <td>0.0600</td>\n",
       "      <td>Y</td>\n",
       "      <td>0.0051</td>\n",
       "      <td>Y</td>\n",
       "      <td>0.4817</td>\n",
       "      <td>N</td>\n",
       "      <td>0.0006</td>\n",
       "      <td>N</td>\n",
       "      <td>0.0023</td>\n",
       "      <td>N</td>\n",
       "    </tr>\n",
       "  </tbody>\n",
       "</table>\n",
       "</div>"
      ],
      "text/plain": [
       "      SIDO  STD_YYYYMM  AVG_구리 구리_BAD   AVG_납 납_0.5BAD 납_BAD  AVG_니켈 니켈_BAD  \\\n",
       "1947  충청남도      202302  0.0232      Y  0.0503        N     Y  0.0028      N   \n",
       "1948  전라북도      202302  0.0138      N  0.0212        N     N  0.0015      N   \n",
       "1949  전라남도      202302  0.0180      Y  0.0190        N     N  0.0108      Y   \n",
       "1950  경상북도      202302  0.0120      N  0.0406        N     Y  0.0188      Y   \n",
       "1951  경상남도      202302  0.0111      N  0.0134        N     N  0.0032      N   \n",
       "\n",
       "      AVG_망간 망간_BAD  AVG_비소 비소_BAD   AVG_철 철_BAD  AVG_카드뮴 카드뮴_BAD  AVG_크롬  \\\n",
       "1947  0.0341      Y  0.0273      Y  1.0027     Y   0.0005       N  0.0054   \n",
       "1948  0.0269      N  0.0065      Y  0.3214     N   0.0006       N  0.0026   \n",
       "1949  0.0977      Y  0.0069      Y  1.9173     Y   0.0009       Y  0.0057   \n",
       "1950  0.0739      Y  0.0178      Y  0.5647     N   0.0015       Y  0.0028   \n",
       "1951  0.0600      Y  0.0051      Y  0.4817     N   0.0006       N  0.0023   \n",
       "\n",
       "     크롬_BAD  \n",
       "1947      Y  \n",
       "1948      N  \n",
       "1949      Y  \n",
       "1950      N  \n",
       "1951      N  "
      ]
     },
     "execution_count": 31,
     "metadata": {},
     "output_type": "execute_result"
    }
   ],
   "source": [
    "merged_df.tail()"
   ]
  },
  {
   "cell_type": "code",
   "execution_count": 32,
   "metadata": {},
   "outputs": [
    {
     "data": {
      "text/html": [
       "<div>\n",
       "<style scoped>\n",
       "    .dataframe tbody tr th:only-of-type {\n",
       "        vertical-align: middle;\n",
       "    }\n",
       "\n",
       "    .dataframe tbody tr th {\n",
       "        vertical-align: top;\n",
       "    }\n",
       "\n",
       "    .dataframe thead th {\n",
       "        text-align: right;\n",
       "    }\n",
       "</style>\n",
       "<table border=\"1\" class=\"dataframe\">\n",
       "  <thead>\n",
       "    <tr style=\"text-align: right;\">\n",
       "      <th></th>\n",
       "      <th>SIDO</th>\n",
       "      <th>STD_YYYYMM</th>\n",
       "      <th>AVG_구리</th>\n",
       "      <th>구리_BAD</th>\n",
       "      <th>AVG_납</th>\n",
       "      <th>납_0.5BAD</th>\n",
       "      <th>납_BAD</th>\n",
       "      <th>AVG_니켈</th>\n",
       "      <th>니켈_BAD</th>\n",
       "      <th>AVG_망간</th>\n",
       "      <th>망간_BAD</th>\n",
       "      <th>AVG_비소</th>\n",
       "      <th>비소_BAD</th>\n",
       "      <th>AVG_철</th>\n",
       "      <th>철_BAD</th>\n",
       "      <th>AVG_카드뮴</th>\n",
       "      <th>카드뮴_BAD</th>\n",
       "      <th>AVG_크롬</th>\n",
       "      <th>크롬_BAD</th>\n",
       "    </tr>\n",
       "  </thead>\n",
       "  <tbody>\n",
       "    <tr>\n",
       "      <th>0</th>\n",
       "      <td>서울특별시</td>\n",
       "      <td>201301</td>\n",
       "      <td>0.0306</td>\n",
       "      <td>Y</td>\n",
       "      <td>0.0894</td>\n",
       "      <td>N</td>\n",
       "      <td>Y</td>\n",
       "      <td>0.0033</td>\n",
       "      <td>N</td>\n",
       "      <td>0.036</td>\n",
       "      <td>Y</td>\n",
       "      <td>0.0086</td>\n",
       "      <td>Y</td>\n",
       "      <td>0.8287</td>\n",
       "      <td>Y</td>\n",
       "      <td>0.0035</td>\n",
       "      <td>Y</td>\n",
       "      <td>0.0035</td>\n",
       "      <td>N</td>\n",
       "    </tr>\n",
       "  </tbody>\n",
       "</table>\n",
       "</div>"
      ],
      "text/plain": [
       "    SIDO  STD_YYYYMM  AVG_구리 구리_BAD   AVG_납 납_0.5BAD 납_BAD  AVG_니켈 니켈_BAD  \\\n",
       "0  서울특별시      201301  0.0306      Y  0.0894        N     Y  0.0033      N   \n",
       "\n",
       "   AVG_망간 망간_BAD  AVG_비소 비소_BAD   AVG_철 철_BAD  AVG_카드뮴 카드뮴_BAD  AVG_크롬 크롬_BAD  \n",
       "0   0.036      Y  0.0086      Y  0.8287     Y   0.0035       Y  0.0035      N  "
      ]
     },
     "execution_count": 32,
     "metadata": {},
     "output_type": "execute_result"
    }
   ],
   "source": [
    "merged_df.head(1)"
   ]
  },
  {
   "cell_type": "code",
   "execution_count": 30,
   "metadata": {},
   "outputs": [],
   "source": [
    "# STD_YYYYMM의 값이 10000 이하인 행을 제거\n",
    "merged_df = merged_df[merged_df['STD_YYYYMM'] > 10000]"
   ]
  },
  {
   "cell_type": "code",
   "execution_count": 29,
   "metadata": {},
   "outputs": [
    {
     "data": {
      "text/plain": [
       "N    1278\n",
       "Y     690\n",
       "Name: 구리_BAD, dtype: int64"
      ]
     },
     "execution_count": 29,
     "metadata": {},
     "output_type": "execute_result"
    }
   ],
   "source": [
    "merged_df['구리_BAD'].value_counts()"
   ]
  },
  {
   "cell_type": "code",
   "execution_count": 33,
   "metadata": {},
   "outputs": [],
   "source": [
    "merged_df.to_csv('data/월별중금속합침2013-2023.csv', index=False)"
   ]
  },
  {
   "cell_type": "code",
   "execution_count": null,
   "metadata": {},
   "outputs": [],
   "source": []
  }
 ],
 "metadata": {
  "kernelspec": {
   "display_name": "base",
   "language": "python",
   "name": "python3"
  },
  "language_info": {
   "codemirror_mode": {
    "name": "ipython",
    "version": 3
   },
   "file_extension": ".py",
   "mimetype": "text/x-python",
   "name": "python",
   "nbconvert_exporter": "python",
   "pygments_lexer": "ipython3",
   "version": "3.11.4"
  }
 },
 "nbformat": 4,
 "nbformat_minor": 2
}
