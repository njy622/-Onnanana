{
 "cells": [
  {
   "cell_type": "code",
   "execution_count": 1,
   "metadata": {},
   "outputs": [],
   "source": [
    "import pandas as pd"
   ]
  },
  {
   "cell_type": "code",
   "execution_count": 3,
   "metadata": {},
   "outputs": [],
   "source": [
    "df1 = pd.read_csv('data/월별질병합침2014-2021.csv')\n",
    "df2 = pd.read_csv('data/월별기온합침2000-2022.csv')\n",
    "df3 = pd.read_csv('data/월별대기오염합침2015-2023.csv')\n",
    "df4 = pd.read_csv('data/월별중금속합침2013-2023.csv')\n"
   ]
  },
  {
   "cell_type": "code",
   "execution_count": 4,
   "metadata": {},
   "outputs": [],
   "source": [
    "# STD_YYYYMM과 SIDO 컬럼을 기준으로 데이터프레임 병합\n",
    "merged_df = pd.merge(df1, df2, on=['STD_YYYYMM', 'SIDO'], how='inner')\n",
    "merged_df = pd.merge(merged_df, df3, on=['STD_YYYYMM', 'SIDO'], how='inner')\n",
    "merged_df = pd.merge(merged_df, df4, on=['STD_YYYYMM', 'SIDO'], how='inner')"
   ]
  },
  {
   "cell_type": "code",
   "execution_count": null,
   "metadata": {},
   "outputs": [],
   "source": [
    "merged_df"
   ]
  },
  {
   "cell_type": "code",
   "execution_count": 23,
   "metadata": {},
   "outputs": [],
   "source": [
    "# 년월별 그룹바이해서 NAN 값 대체 \n",
    "\n",
    "for col in merged_df.columns:\n",
    "    if merged_df[col].isna().any() and col not in ['SIDO', 'STD_YYYYMM']:\n",
    "        merged_df[col] = merged_df.groupby(['STD_YYYYMM'])[col].transform(lambda x: x.fillna(x.mean()).round(4))\n"
   ]
  },
  {
   "cell_type": "code",
   "execution_count": 13,
   "metadata": {},
   "outputs": [
    {
     "name": "stdout",
     "output_type": "stream",
     "text": [
      "merged_df에 NaN 값이 존재합니까? False\n"
     ]
    }
   ],
   "source": [
    "# 데이터프레임 내에 NaN 값이 있는지 확인\n",
    "nan_exists = merged_df.isna().any().any()\n",
    "\n",
    "# 결과 출력\n",
    "print(f\"merged_df에 NaN 값이 존재합니까? {nan_exists}\")"
   ]
  },
  {
   "cell_type": "code",
   "execution_count": 12,
   "metadata": {},
   "outputs": [
    {
     "data": {
      "text/plain": [
       "STD_YYYYMM     0\n",
       "SIDO           0\n",
       "비염환자수          0\n",
       "심근경색           0\n",
       "아토피환자수         0\n",
       "천식환자수          0\n",
       "뇌졸증            0\n",
       "평균기온           0\n",
       "평균상대습도         0\n",
       "평균증기압          0\n",
       "평균최고기온         0\n",
       "평균최저기온         0\n",
       "평균풍속           0\n",
       "AVG_PM10       0\n",
       "PM10_BAD       0\n",
       "PM10_80BAD     0\n",
       "AVG_PM2.5      0\n",
       "PM2_BAD        0\n",
       "PM2_35BAD      0\n",
       "AVG_아황산        0\n",
       "아황산_0.05BAD    0\n",
       "아황산_BAD        0\n",
       "AVG_이산화        0\n",
       "이산화_0.06BAD    0\n",
       "이산화_0.03BAD    0\n",
       "이산화_BAD        0\n",
       "AVG_일산화        0\n",
       "일산화_9BAD       0\n",
       "일산화_BAD        0\n",
       "차량수            0\n",
       "AVG_구리         0\n",
       "구리_BAD         0\n",
       "AVG_납          0\n",
       "납_0.5BAD       0\n",
       "납_BAD          0\n",
       "AVG_니켈         0\n",
       "니켈_BAD         0\n",
       "AVG_망간         0\n",
       "망간_BAD         0\n",
       "AVG_비소         0\n",
       "비소_BAD         0\n",
       "AVG_철          0\n",
       "철_BAD          0\n",
       "AVG_카드뮴        0\n",
       "카드뮴_BAD        0\n",
       "AVG_크롬         0\n",
       "크롬_BAD         0\n",
       "dtype: int64"
      ]
     },
     "execution_count": 12,
     "metadata": {},
     "output_type": "execute_result"
    }
   ],
   "source": [
    "merged_df.isna().sum()"
   ]
  },
  {
   "cell_type": "code",
   "execution_count": 26,
   "metadata": {},
   "outputs": [],
   "source": [
    "# 마지막 남은 NAN 값 대체\n",
    "for col in merged_df.columns:\n",
    "    if merged_df[col].isna().any() and col not in ['SIDO', 'STD_YYYYMM']:\n",
    "        merged_df[col] = merged_df[col].transform(lambda x: x.fillna(x.mean()).round(4))\n"
   ]
  },
  {
   "cell_type": "code",
   "execution_count": 8,
   "metadata": {},
   "outputs": [
    {
     "data": {
      "text/html": [
       "<div>\n",
       "<style scoped>\n",
       "    .dataframe tbody tr th:only-of-type {\n",
       "        vertical-align: middle;\n",
       "    }\n",
       "\n",
       "    .dataframe tbody tr th {\n",
       "        vertical-align: top;\n",
       "    }\n",
       "\n",
       "    .dataframe thead th {\n",
       "        text-align: right;\n",
       "    }\n",
       "</style>\n",
       "<table border=\"1\" class=\"dataframe\">\n",
       "  <thead>\n",
       "    <tr style=\"text-align: right;\">\n",
       "      <th></th>\n",
       "      <th>STD_YYYYMM</th>\n",
       "      <th>SIDO</th>\n",
       "      <th>비염환자수</th>\n",
       "      <th>심근경색</th>\n",
       "      <th>아토피환자수</th>\n",
       "      <th>천식환자수</th>\n",
       "      <th>뇌졸증</th>\n",
       "      <th>평균기온</th>\n",
       "      <th>평균상대습도</th>\n",
       "      <th>평균증기압</th>\n",
       "      <th>...</th>\n",
       "      <th>AVG_망간</th>\n",
       "      <th>망간_BAD</th>\n",
       "      <th>AVG_비소</th>\n",
       "      <th>비소_BAD</th>\n",
       "      <th>AVG_철</th>\n",
       "      <th>철_BAD</th>\n",
       "      <th>AVG_카드뮴</th>\n",
       "      <th>카드뮴_BAD</th>\n",
       "      <th>AVG_크롬</th>\n",
       "      <th>크롬_BAD</th>\n",
       "    </tr>\n",
       "  </thead>\n",
       "  <tbody>\n",
       "    <tr>\n",
       "      <th>1150</th>\n",
       "      <td>202107</td>\n",
       "      <td>경상남도</td>\n",
       "      <td>60192</td>\n",
       "      <td>166.0</td>\n",
       "      <td>8691</td>\n",
       "      <td>5779</td>\n",
       "      <td>519.0</td>\n",
       "      <td>26.3</td>\n",
       "      <td>81.3</td>\n",
       "      <td>27.4</td>\n",
       "      <td>...</td>\n",
       "      <td>0.0440</td>\n",
       "      <td>Y</td>\n",
       "      <td>0.0008</td>\n",
       "      <td>N</td>\n",
       "      <td>0.3119</td>\n",
       "      <td>N</td>\n",
       "      <td>0.0003</td>\n",
       "      <td>N</td>\n",
       "      <td>0.0056</td>\n",
       "      <td>Y</td>\n",
       "    </tr>\n",
       "    <tr>\n",
       "      <th>1151</th>\n",
       "      <td>202108</td>\n",
       "      <td>경상남도</td>\n",
       "      <td>55664</td>\n",
       "      <td>152.0</td>\n",
       "      <td>8394</td>\n",
       "      <td>5555</td>\n",
       "      <td>490.0</td>\n",
       "      <td>25.9</td>\n",
       "      <td>82.1</td>\n",
       "      <td>27.0</td>\n",
       "      <td>...</td>\n",
       "      <td>0.0259</td>\n",
       "      <td>N</td>\n",
       "      <td>0.0017</td>\n",
       "      <td>N</td>\n",
       "      <td>0.1499</td>\n",
       "      <td>N</td>\n",
       "      <td>0.0004</td>\n",
       "      <td>N</td>\n",
       "      <td>0.0027</td>\n",
       "      <td>N</td>\n",
       "    </tr>\n",
       "    <tr>\n",
       "      <th>1152</th>\n",
       "      <td>202109</td>\n",
       "      <td>경상남도</td>\n",
       "      <td>118285</td>\n",
       "      <td>174.0</td>\n",
       "      <td>7919</td>\n",
       "      <td>9041</td>\n",
       "      <td>489.0</td>\n",
       "      <td>22.1</td>\n",
       "      <td>81.1</td>\n",
       "      <td>21.3</td>\n",
       "      <td>...</td>\n",
       "      <td>0.0245</td>\n",
       "      <td>N</td>\n",
       "      <td>0.0014</td>\n",
       "      <td>N</td>\n",
       "      <td>0.2511</td>\n",
       "      <td>N</td>\n",
       "      <td>0.0005</td>\n",
       "      <td>N</td>\n",
       "      <td>0.0030</td>\n",
       "      <td>N</td>\n",
       "    </tr>\n",
       "    <tr>\n",
       "      <th>1153</th>\n",
       "      <td>202111</td>\n",
       "      <td>경상남도</td>\n",
       "      <td>133041</td>\n",
       "      <td>165.0</td>\n",
       "      <td>7299</td>\n",
       "      <td>10491</td>\n",
       "      <td>512.0</td>\n",
       "      <td>9.4</td>\n",
       "      <td>67.4</td>\n",
       "      <td>7.9</td>\n",
       "      <td>...</td>\n",
       "      <td>0.0078</td>\n",
       "      <td>N</td>\n",
       "      <td>0.0006</td>\n",
       "      <td>N</td>\n",
       "      <td>0.1389</td>\n",
       "      <td>N</td>\n",
       "      <td>0.0001</td>\n",
       "      <td>N</td>\n",
       "      <td>0.0012</td>\n",
       "      <td>N</td>\n",
       "    </tr>\n",
       "    <tr>\n",
       "      <th>1154</th>\n",
       "      <td>202112</td>\n",
       "      <td>경상남도</td>\n",
       "      <td>95404</td>\n",
       "      <td>177.0</td>\n",
       "      <td>7231</td>\n",
       "      <td>10645</td>\n",
       "      <td>498.0</td>\n",
       "      <td>3.5</td>\n",
       "      <td>58.6</td>\n",
       "      <td>4.9</td>\n",
       "      <td>...</td>\n",
       "      <td>0.0164</td>\n",
       "      <td>N</td>\n",
       "      <td>0.0014</td>\n",
       "      <td>N</td>\n",
       "      <td>0.3176</td>\n",
       "      <td>N</td>\n",
       "      <td>0.0004</td>\n",
       "      <td>N</td>\n",
       "      <td>0.0020</td>\n",
       "      <td>N</td>\n",
       "    </tr>\n",
       "  </tbody>\n",
       "</table>\n",
       "<p>5 rows × 47 columns</p>\n",
       "</div>"
      ],
      "text/plain": [
       "      STD_YYYYMM  SIDO   비염환자수   심근경색  아토피환자수  천식환자수    뇌졸증  평균기온  평균상대습도  \\\n",
       "1150      202107  경상남도   60192  166.0    8691   5779  519.0  26.3    81.3   \n",
       "1151      202108  경상남도   55664  152.0    8394   5555  490.0  25.9    82.1   \n",
       "1152      202109  경상남도  118285  174.0    7919   9041  489.0  22.1    81.1   \n",
       "1153      202111  경상남도  133041  165.0    7299  10491  512.0   9.4    67.4   \n",
       "1154      202112  경상남도   95404  177.0    7231  10645  498.0   3.5    58.6   \n",
       "\n",
       "      평균증기압  ...  AVG_망간  망간_BAD  AVG_비소  비소_BAD   AVG_철 철_BAD  AVG_카드뮴  \\\n",
       "1150   27.4  ...  0.0440       Y  0.0008       N  0.3119     N   0.0003   \n",
       "1151   27.0  ...  0.0259       N  0.0017       N  0.1499     N   0.0004   \n",
       "1152   21.3  ...  0.0245       N  0.0014       N  0.2511     N   0.0005   \n",
       "1153    7.9  ...  0.0078       N  0.0006       N  0.1389     N   0.0001   \n",
       "1154    4.9  ...  0.0164       N  0.0014       N  0.3176     N   0.0004   \n",
       "\n",
       "     카드뮴_BAD  AVG_크롬  크롬_BAD  \n",
       "1150       N  0.0056       Y  \n",
       "1151       N  0.0027       N  \n",
       "1152       N  0.0030       N  \n",
       "1153       N  0.0012       N  \n",
       "1154       N  0.0020       N  \n",
       "\n",
       "[5 rows x 47 columns]"
      ]
     },
     "execution_count": 8,
     "metadata": {},
     "output_type": "execute_result"
    }
   ],
   "source": [
    "merged_df.tail()"
   ]
  },
  {
   "cell_type": "code",
   "execution_count": 9,
   "metadata": {},
   "outputs": [
    {
     "data": {
      "text/html": [
       "<div>\n",
       "<style scoped>\n",
       "    .dataframe tbody tr th:only-of-type {\n",
       "        vertical-align: middle;\n",
       "    }\n",
       "\n",
       "    .dataframe tbody tr th {\n",
       "        vertical-align: top;\n",
       "    }\n",
       "\n",
       "    .dataframe thead th {\n",
       "        text-align: right;\n",
       "    }\n",
       "</style>\n",
       "<table border=\"1\" class=\"dataframe\">\n",
       "  <thead>\n",
       "    <tr style=\"text-align: right;\">\n",
       "      <th></th>\n",
       "      <th>STD_YYYYMM</th>\n",
       "      <th>SIDO</th>\n",
       "      <th>비염환자수</th>\n",
       "      <th>심근경색</th>\n",
       "      <th>아토피환자수</th>\n",
       "      <th>천식환자수</th>\n",
       "      <th>뇌졸증</th>\n",
       "      <th>평균기온</th>\n",
       "      <th>평균상대습도</th>\n",
       "      <th>평균증기압</th>\n",
       "      <th>...</th>\n",
       "      <th>AVG_망간</th>\n",
       "      <th>망간_BAD</th>\n",
       "      <th>AVG_비소</th>\n",
       "      <th>비소_BAD</th>\n",
       "      <th>AVG_철</th>\n",
       "      <th>철_BAD</th>\n",
       "      <th>AVG_카드뮴</th>\n",
       "      <th>카드뮴_BAD</th>\n",
       "      <th>AVG_크롬</th>\n",
       "      <th>크롬_BAD</th>\n",
       "    </tr>\n",
       "  </thead>\n",
       "  <tbody>\n",
       "    <tr>\n",
       "      <th>0</th>\n",
       "      <td>201501</td>\n",
       "      <td>서울특별시</td>\n",
       "      <td>377167</td>\n",
       "      <td>550.0</td>\n",
       "      <td>28189</td>\n",
       "      <td>53718</td>\n",
       "      <td>1912.0</td>\n",
       "      <td>-0.9</td>\n",
       "      <td>56.0</td>\n",
       "      <td>3.4</td>\n",
       "      <td>...</td>\n",
       "      <td>0.0375</td>\n",
       "      <td>Y</td>\n",
       "      <td>0.0072</td>\n",
       "      <td>Y</td>\n",
       "      <td>0.8326</td>\n",
       "      <td>Y</td>\n",
       "      <td>0.0014</td>\n",
       "      <td>Y</td>\n",
       "      <td>0.0033</td>\n",
       "      <td>N</td>\n",
       "    </tr>\n",
       "  </tbody>\n",
       "</table>\n",
       "<p>1 rows × 47 columns</p>\n",
       "</div>"
      ],
      "text/plain": [
       "   STD_YYYYMM   SIDO   비염환자수   심근경색  아토피환자수  천식환자수     뇌졸증  평균기온  평균상대습도  \\\n",
       "0      201501  서울특별시  377167  550.0   28189  53718  1912.0  -0.9    56.0   \n",
       "\n",
       "   평균증기압  ...  AVG_망간  망간_BAD  AVG_비소  비소_BAD   AVG_철 철_BAD  AVG_카드뮴 카드뮴_BAD  \\\n",
       "0    3.4  ...  0.0375       Y  0.0072       Y  0.8326     Y   0.0014       Y   \n",
       "\n",
       "   AVG_크롬  크롬_BAD  \n",
       "0  0.0033       N  \n",
       "\n",
       "[1 rows x 47 columns]"
      ]
     },
     "execution_count": 9,
     "metadata": {},
     "output_type": "execute_result"
    }
   ],
   "source": [
    "merged_df.head(1)"
   ]
  },
  {
   "cell_type": "code",
   "execution_count": 30,
   "metadata": {},
   "outputs": [],
   "source": [
    "# STD_YYYYMM의 값이 10000 이하인 행을 제거\n",
    "merged_df = merged_df[merged_df['STD_YYYYMM'] > 10000]"
   ]
  },
  {
   "cell_type": "code",
   "execution_count": 29,
   "metadata": {},
   "outputs": [
    {
     "data": {
      "text/plain": [
       "N    1278\n",
       "Y     690\n",
       "Name: 구리_BAD, dtype: int64"
      ]
     },
     "execution_count": 29,
     "metadata": {},
     "output_type": "execute_result"
    }
   ],
   "source": [
    "merged_df['구리_BAD'].value_counts()"
   ]
  },
  {
   "cell_type": "code",
   "execution_count": 14,
   "metadata": {},
   "outputs": [],
   "source": [
    "merged_df.to_csv('data/월별데이터합침2015-2021.csv', index=False)"
   ]
  },
  {
   "cell_type": "code",
   "execution_count": null,
   "metadata": {},
   "outputs": [],
   "source": []
  }
 ],
 "metadata": {
  "kernelspec": {
   "display_name": "base",
   "language": "python",
   "name": "python3"
  },
  "language_info": {
   "codemirror_mode": {
    "name": "ipython",
    "version": 3
   },
   "file_extension": ".py",
   "mimetype": "text/x-python",
   "name": "python",
   "nbconvert_exporter": "python",
   "pygments_lexer": "ipython3",
   "version": "3.11.4"
  }
 },
 "nbformat": 4,
 "nbformat_minor": 2
}
