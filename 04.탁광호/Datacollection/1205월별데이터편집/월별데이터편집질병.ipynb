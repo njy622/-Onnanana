{
 "cells": [
  {
   "cell_type": "code",
   "execution_count": 15,
   "metadata": {},
   "outputs": [],
   "source": [
    "import pandas as pd"
   ]
  },
  {
   "cell_type": "code",
   "execution_count": 16,
   "metadata": {},
   "outputs": [],
   "source": [
    "df1 = pd.read_csv('../data/test/비염.csv')\n",
    "df2 = pd.read_csv('../data/test/심근경색.csv')\n",
    "df3 = pd.read_csv('../data/test/아토피.csv')\n",
    "df4 = pd.read_csv('../data/test/천식.csv')\n",
    "df5 = pd.read_csv('../data/test/뇌졸증.csv')\n"
   ]
  },
  {
   "cell_type": "code",
   "execution_count": 17,
   "metadata": {},
   "outputs": [],
   "source": [
    "# STD_YYYYMM과 SIDO 컬럼을 기준으로 데이터프레임 병합\n",
    "merged_df = pd.merge(df1, df2, on=['STD_YYYYMM', 'SIDO'], how='inner')\n",
    "merged_df = pd.merge(merged_df, df3, on=['STD_YYYYMM', 'SIDO'], how='inner')\n",
    "merged_df = pd.merge(merged_df, df4, on=['STD_YYYYMM', 'SIDO'], how='inner')\n",
    "merged_df = pd.merge(merged_df, df5, on=['STD_YYYYMM', 'SIDO'], how='inner')\n"
   ]
  },
  {
   "cell_type": "code",
   "execution_count": 20,
   "metadata": {},
   "outputs": [
    {
     "data": {
      "text/plain": [
       "STD_YYYYMM    0\n",
       "SIDO          0\n",
       "비염환자수         0\n",
       "심근경색          0\n",
       "아토피환자수        0\n",
       "천식환자수         0\n",
       "뇌졸증           0\n",
       "dtype: int64"
      ]
     },
     "execution_count": 20,
     "metadata": {},
     "output_type": "execute_result"
    }
   ],
   "source": [
    "merged_df.isna().sum()"
   ]
  },
  {
   "cell_type": "code",
   "execution_count": 18,
   "metadata": {},
   "outputs": [
    {
     "data": {
      "text/html": [
       "<div>\n",
       "<style scoped>\n",
       "    .dataframe tbody tr th:only-of-type {\n",
       "        vertical-align: middle;\n",
       "    }\n",
       "\n",
       "    .dataframe tbody tr th {\n",
       "        vertical-align: top;\n",
       "    }\n",
       "\n",
       "    .dataframe thead th {\n",
       "        text-align: right;\n",
       "    }\n",
       "</style>\n",
       "<table border=\"1\" class=\"dataframe\">\n",
       "  <thead>\n",
       "    <tr style=\"text-align: right;\">\n",
       "      <th></th>\n",
       "      <th>STD_YYYYMM</th>\n",
       "      <th>SIDO</th>\n",
       "      <th>비염환자수</th>\n",
       "      <th>심근경색</th>\n",
       "      <th>아토피환자수</th>\n",
       "      <th>천식환자수</th>\n",
       "      <th>뇌졸증</th>\n",
       "    </tr>\n",
       "  </thead>\n",
       "  <tbody>\n",
       "    <tr>\n",
       "      <th>0</th>\n",
       "      <td>201401</td>\n",
       "      <td>서울특별시</td>\n",
       "      <td>446345</td>\n",
       "      <td>505.0</td>\n",
       "      <td>27596</td>\n",
       "      <td>60688</td>\n",
       "      <td>2012.0</td>\n",
       "    </tr>\n",
       "    <tr>\n",
       "      <th>1</th>\n",
       "      <td>201402</td>\n",
       "      <td>서울특별시</td>\n",
       "      <td>498315</td>\n",
       "      <td>509.0</td>\n",
       "      <td>27185</td>\n",
       "      <td>69514</td>\n",
       "      <td>1871.0</td>\n",
       "    </tr>\n",
       "    <tr>\n",
       "      <th>2</th>\n",
       "      <td>201403</td>\n",
       "      <td>서울특별시</td>\n",
       "      <td>397567</td>\n",
       "      <td>498.0</td>\n",
       "      <td>29439</td>\n",
       "      <td>61372</td>\n",
       "      <td>2003.0</td>\n",
       "    </tr>\n",
       "    <tr>\n",
       "      <th>3</th>\n",
       "      <td>201404</td>\n",
       "      <td>서울특별시</td>\n",
       "      <td>412948</td>\n",
       "      <td>475.0</td>\n",
       "      <td>31803</td>\n",
       "      <td>68498</td>\n",
       "      <td>1970.0</td>\n",
       "    </tr>\n",
       "    <tr>\n",
       "      <th>4</th>\n",
       "      <td>201405</td>\n",
       "      <td>서울특별시</td>\n",
       "      <td>313904</td>\n",
       "      <td>534.0</td>\n",
       "      <td>34314</td>\n",
       "      <td>54470</td>\n",
       "      <td>2037.0</td>\n",
       "    </tr>\n",
       "  </tbody>\n",
       "</table>\n",
       "</div>"
      ],
      "text/plain": [
       "   STD_YYYYMM   SIDO   비염환자수   심근경색  아토피환자수  천식환자수     뇌졸증\n",
       "0      201401  서울특별시  446345  505.0   27596  60688  2012.0\n",
       "1      201402  서울특별시  498315  509.0   27185  69514  1871.0\n",
       "2      201403  서울특별시  397567  498.0   29439  61372  2003.0\n",
       "3      201404  서울특별시  412948  475.0   31803  68498  1970.0\n",
       "4      201405  서울특별시  313904  534.0   34314  54470  2037.0"
      ]
     },
     "execution_count": 18,
     "metadata": {},
     "output_type": "execute_result"
    }
   ],
   "source": [
    "merged_df.head()"
   ]
  },
  {
   "cell_type": "code",
   "execution_count": 19,
   "metadata": {},
   "outputs": [
    {
     "data": {
      "text/html": [
       "<div>\n",
       "<style scoped>\n",
       "    .dataframe tbody tr th:only-of-type {\n",
       "        vertical-align: middle;\n",
       "    }\n",
       "\n",
       "    .dataframe tbody tr th {\n",
       "        vertical-align: top;\n",
       "    }\n",
       "\n",
       "    .dataframe thead th {\n",
       "        text-align: right;\n",
       "    }\n",
       "</style>\n",
       "<table border=\"1\" class=\"dataframe\">\n",
       "  <thead>\n",
       "    <tr style=\"text-align: right;\">\n",
       "      <th></th>\n",
       "      <th>STD_YYYYMM</th>\n",
       "      <th>SIDO</th>\n",
       "      <th>비염환자수</th>\n",
       "      <th>심근경색</th>\n",
       "      <th>아토피환자수</th>\n",
       "      <th>천식환자수</th>\n",
       "      <th>뇌졸증</th>\n",
       "    </tr>\n",
       "  </thead>\n",
       "  <tbody>\n",
       "    <tr>\n",
       "      <th>1491</th>\n",
       "      <td>202107</td>\n",
       "      <td>제주특별자치도</td>\n",
       "      <td>14793</td>\n",
       "      <td>41.0</td>\n",
       "      <td>2355</td>\n",
       "      <td>1419</td>\n",
       "      <td>201.0</td>\n",
       "    </tr>\n",
       "    <tr>\n",
       "      <th>1492</th>\n",
       "      <td>202108</td>\n",
       "      <td>제주특별자치도</td>\n",
       "      <td>13909</td>\n",
       "      <td>41.0</td>\n",
       "      <td>2280</td>\n",
       "      <td>1427</td>\n",
       "      <td>176.0</td>\n",
       "    </tr>\n",
       "    <tr>\n",
       "      <th>1493</th>\n",
       "      <td>202109</td>\n",
       "      <td>제주특별자치도</td>\n",
       "      <td>16975</td>\n",
       "      <td>43.0</td>\n",
       "      <td>2123</td>\n",
       "      <td>1509</td>\n",
       "      <td>173.0</td>\n",
       "    </tr>\n",
       "    <tr>\n",
       "      <th>1494</th>\n",
       "      <td>202111</td>\n",
       "      <td>제주특별자치도</td>\n",
       "      <td>29778</td>\n",
       "      <td>48.0</td>\n",
       "      <td>2006</td>\n",
       "      <td>2808</td>\n",
       "      <td>158.0</td>\n",
       "    </tr>\n",
       "    <tr>\n",
       "      <th>1495</th>\n",
       "      <td>202112</td>\n",
       "      <td>제주특별자치도</td>\n",
       "      <td>19925</td>\n",
       "      <td>44.0</td>\n",
       "      <td>1903</td>\n",
       "      <td>2337</td>\n",
       "      <td>179.0</td>\n",
       "    </tr>\n",
       "  </tbody>\n",
       "</table>\n",
       "</div>"
      ],
      "text/plain": [
       "      STD_YYYYMM     SIDO  비염환자수  심근경색  아토피환자수  천식환자수    뇌졸증\n",
       "1491      202107  제주특별자치도  14793  41.0    2355   1419  201.0\n",
       "1492      202108  제주특별자치도  13909  41.0    2280   1427  176.0\n",
       "1493      202109  제주특별자치도  16975  43.0    2123   1509  173.0\n",
       "1494      202111  제주특별자치도  29778  48.0    2006   2808  158.0\n",
       "1495      202112  제주특별자치도  19925  44.0    1903   2337  179.0"
      ]
     },
     "execution_count": 19,
     "metadata": {},
     "output_type": "execute_result"
    }
   ],
   "source": [
    "merged_df.tail()"
   ]
  },
  {
   "cell_type": "code",
   "execution_count": 21,
   "metadata": {},
   "outputs": [],
   "source": [
    "merged_df.to_csv('data/월별질병합침2014-2021.csv', index=False)"
   ]
  },
  {
   "cell_type": "code",
   "execution_count": null,
   "metadata": {},
   "outputs": [],
   "source": []
  }
 ],
 "metadata": {
  "kernelspec": {
   "display_name": "base",
   "language": "python",
   "name": "python3"
  },
  "language_info": {
   "codemirror_mode": {
    "name": "ipython",
    "version": 3
   },
   "file_extension": ".py",
   "mimetype": "text/x-python",
   "name": "python",
   "nbconvert_exporter": "python",
   "pygments_lexer": "ipython3",
   "version": "3.11.4"
  }
 },
 "nbformat": 4,
 "nbformat_minor": 2
}
