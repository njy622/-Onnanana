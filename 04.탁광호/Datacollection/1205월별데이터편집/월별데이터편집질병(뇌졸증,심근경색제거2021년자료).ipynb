{
 "cells": [
  {
   "cell_type": "code",
   "execution_count": 1,
   "metadata": {},
   "outputs": [],
   "source": [
    "import pandas as pd"
   ]
  },
  {
   "cell_type": "code",
   "execution_count": 2,
   "metadata": {},
   "outputs": [],
   "source": [
    "df1 = pd.read_csv('../data/test/비염.csv')\n",
    "df2 = pd.read_csv('../data/test/아토피.csv')\n",
    "df3 = pd.read_csv('../data/test/천식.csv')\n",
    "\n"
   ]
  },
  {
   "cell_type": "code",
   "execution_count": 3,
   "metadata": {},
   "outputs": [],
   "source": [
    "# STD_YYYYMM과 SIDO 컬럼을 기준으로 데이터프레임 병합\n",
    "merged_df = pd.merge(df1, df2, on=['STD_YYYYMM', 'SIDO'], how='inner')\n",
    "merged_df = pd.merge(merged_df, df3, on=['STD_YYYYMM', 'SIDO'], how='inner')\n",
    "\n"
   ]
  },
  {
   "cell_type": "code",
   "execution_count": 4,
   "metadata": {},
   "outputs": [
    {
     "data": {
      "text/plain": [
       "STD_YYYYMM    0\n",
       "SIDO          0\n",
       "비염환자수         0\n",
       "아토피환자수        0\n",
       "천식환자수         0\n",
       "dtype: int64"
      ]
     },
     "execution_count": 4,
     "metadata": {},
     "output_type": "execute_result"
    }
   ],
   "source": [
    "merged_df.isna().sum()"
   ]
  },
  {
   "cell_type": "code",
   "execution_count": 5,
   "metadata": {},
   "outputs": [
    {
     "data": {
      "text/html": [
       "<div>\n",
       "<style scoped>\n",
       "    .dataframe tbody tr th:only-of-type {\n",
       "        vertical-align: middle;\n",
       "    }\n",
       "\n",
       "    .dataframe tbody tr th {\n",
       "        vertical-align: top;\n",
       "    }\n",
       "\n",
       "    .dataframe thead th {\n",
       "        text-align: right;\n",
       "    }\n",
       "</style>\n",
       "<table border=\"1\" class=\"dataframe\">\n",
       "  <thead>\n",
       "    <tr style=\"text-align: right;\">\n",
       "      <th></th>\n",
       "      <th>STD_YYYYMM</th>\n",
       "      <th>SIDO</th>\n",
       "      <th>비염환자수</th>\n",
       "      <th>아토피환자수</th>\n",
       "      <th>천식환자수</th>\n",
       "    </tr>\n",
       "  </thead>\n",
       "  <tbody>\n",
       "    <tr>\n",
       "      <th>0</th>\n",
       "      <td>200601</td>\n",
       "      <td>서울특별시</td>\n",
       "      <td>234658</td>\n",
       "      <td>30449</td>\n",
       "      <td>53349</td>\n",
       "    </tr>\n",
       "    <tr>\n",
       "      <th>1</th>\n",
       "      <td>200602</td>\n",
       "      <td>서울특별시</td>\n",
       "      <td>190039</td>\n",
       "      <td>32459</td>\n",
       "      <td>47646</td>\n",
       "    </tr>\n",
       "    <tr>\n",
       "      <th>2</th>\n",
       "      <td>200603</td>\n",
       "      <td>서울특별시</td>\n",
       "      <td>281952</td>\n",
       "      <td>35248</td>\n",
       "      <td>64888</td>\n",
       "    </tr>\n",
       "    <tr>\n",
       "      <th>3</th>\n",
       "      <td>200604</td>\n",
       "      <td>서울특별시</td>\n",
       "      <td>270801</td>\n",
       "      <td>30866</td>\n",
       "      <td>70532</td>\n",
       "    </tr>\n",
       "    <tr>\n",
       "      <th>4</th>\n",
       "      <td>200605</td>\n",
       "      <td>서울특별시</td>\n",
       "      <td>223894</td>\n",
       "      <td>35524</td>\n",
       "      <td>60583</td>\n",
       "    </tr>\n",
       "  </tbody>\n",
       "</table>\n",
       "</div>"
      ],
      "text/plain": [
       "   STD_YYYYMM   SIDO   비염환자수  아토피환자수  천식환자수\n",
       "0      200601  서울특별시  234658   30449  53349\n",
       "1      200602  서울특별시  190039   32459  47646\n",
       "2      200603  서울특별시  281952   35248  64888\n",
       "3      200604  서울특별시  270801   30866  70532\n",
       "4      200605  서울특별시  223894   35524  60583"
      ]
     },
     "execution_count": 5,
     "metadata": {},
     "output_type": "execute_result"
    }
   ],
   "source": [
    "merged_df.head()"
   ]
  },
  {
   "cell_type": "code",
   "execution_count": 6,
   "metadata": {},
   "outputs": [
    {
     "data": {
      "text/html": [
       "<div>\n",
       "<style scoped>\n",
       "    .dataframe tbody tr th:only-of-type {\n",
       "        vertical-align: middle;\n",
       "    }\n",
       "\n",
       "    .dataframe tbody tr th {\n",
       "        vertical-align: top;\n",
       "    }\n",
       "\n",
       "    .dataframe thead th {\n",
       "        text-align: right;\n",
       "    }\n",
       "</style>\n",
       "<table border=\"1\" class=\"dataframe\">\n",
       "  <thead>\n",
       "    <tr style=\"text-align: right;\">\n",
       "      <th></th>\n",
       "      <th>STD_YYYYMM</th>\n",
       "      <th>SIDO</th>\n",
       "      <th>비염환자수</th>\n",
       "      <th>아토피환자수</th>\n",
       "      <th>천식환자수</th>\n",
       "    </tr>\n",
       "  </thead>\n",
       "  <tbody>\n",
       "    <tr>\n",
       "      <th>3463</th>\n",
       "      <td>202208</td>\n",
       "      <td>제주특별자치도</td>\n",
       "      <td>21942</td>\n",
       "      <td>2245</td>\n",
       "      <td>1752</td>\n",
       "    </tr>\n",
       "    <tr>\n",
       "      <th>3464</th>\n",
       "      <td>202209</td>\n",
       "      <td>제주특별자치도</td>\n",
       "      <td>22190</td>\n",
       "      <td>1986</td>\n",
       "      <td>2458</td>\n",
       "    </tr>\n",
       "    <tr>\n",
       "      <th>3465</th>\n",
       "      <td>202210</td>\n",
       "      <td>제주특별자치도</td>\n",
       "      <td>32033</td>\n",
       "      <td>1902</td>\n",
       "      <td>2886</td>\n",
       "    </tr>\n",
       "    <tr>\n",
       "      <th>3466</th>\n",
       "      <td>202211</td>\n",
       "      <td>제주특별자치도</td>\n",
       "      <td>27187</td>\n",
       "      <td>1801</td>\n",
       "      <td>2210</td>\n",
       "    </tr>\n",
       "    <tr>\n",
       "      <th>3467</th>\n",
       "      <td>202212</td>\n",
       "      <td>제주특별자치도</td>\n",
       "      <td>33172</td>\n",
       "      <td>1778</td>\n",
       "      <td>2289</td>\n",
       "    </tr>\n",
       "  </tbody>\n",
       "</table>\n",
       "</div>"
      ],
      "text/plain": [
       "      STD_YYYYMM     SIDO  비염환자수  아토피환자수  천식환자수\n",
       "3463      202208  제주특별자치도  21942    2245   1752\n",
       "3464      202209  제주특별자치도  22190    1986   2458\n",
       "3465      202210  제주특별자치도  32033    1902   2886\n",
       "3466      202211  제주특별자치도  27187    1801   2210\n",
       "3467      202212  제주특별자치도  33172    1778   2289"
      ]
     },
     "execution_count": 6,
     "metadata": {},
     "output_type": "execute_result"
    }
   ],
   "source": [
    "merged_df.tail()"
   ]
  },
  {
   "cell_type": "code",
   "execution_count": 7,
   "metadata": {},
   "outputs": [],
   "source": [
    "merged_df.to_csv('data/월별질병합침2006-2022(뇌졸심근제거).csv', index=False)"
   ]
  },
  {
   "cell_type": "code",
   "execution_count": null,
   "metadata": {},
   "outputs": [],
   "source": []
  }
 ],
 "metadata": {
  "kernelspec": {
   "display_name": "base",
   "language": "python",
   "name": "python3"
  },
  "language_info": {
   "codemirror_mode": {
    "name": "ipython",
    "version": 3
   },
   "file_extension": ".py",
   "mimetype": "text/x-python",
   "name": "python",
   "nbconvert_exporter": "python",
   "pygments_lexer": "ipython3",
   "version": "3.11.4"
  }
 },
 "nbformat": 4,
 "nbformat_minor": 2
}
