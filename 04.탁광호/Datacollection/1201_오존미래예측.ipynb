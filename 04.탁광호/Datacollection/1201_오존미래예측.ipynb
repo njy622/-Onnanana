{
 "cells": [
  {
   "cell_type": "code",
   "execution_count": 1,
   "metadata": {},
   "outputs": [],
   "source": [
    "import pandas as pd\n",
    "import warnings\n",
    "warnings.filterwarnings('ignore')"
   ]
  },
  {
   "cell_type": "code",
   "execution_count": 2,
   "metadata": {},
   "outputs": [],
   "source": [
    "df = pd.read_csv('data/test/일별대기오염온도합침.csv')"
   ]
  },
  {
   "cell_type": "code",
   "execution_count": 3,
   "metadata": {},
   "outputs": [
    {
     "data": {
      "text/html": [
       "<div>\n",
       "<style scoped>\n",
       "    .dataframe tbody tr th:only-of-type {\n",
       "        vertical-align: middle;\n",
       "    }\n",
       "\n",
       "    .dataframe tbody tr th {\n",
       "        vertical-align: top;\n",
       "    }\n",
       "\n",
       "    .dataframe thead th {\n",
       "        text-align: right;\n",
       "    }\n",
       "</style>\n",
       "<table border=\"1\" class=\"dataframe\">\n",
       "  <thead>\n",
       "    <tr style=\"text-align: right;\">\n",
       "      <th></th>\n",
       "      <th>측정일시</th>\n",
       "      <th>이산화질소</th>\n",
       "      <th>오존</th>\n",
       "      <th>일산화탄소</th>\n",
       "      <th>아황산</th>\n",
       "      <th>미세</th>\n",
       "      <th>초미세</th>\n",
       "      <th>평균기온</th>\n",
       "      <th>최고기온</th>\n",
       "      <th>최저기온</th>\n",
       "      <th>일교차</th>\n",
       "    </tr>\n",
       "  </thead>\n",
       "  <tbody>\n",
       "    <tr>\n",
       "      <th>0</th>\n",
       "      <td>20100101</td>\n",
       "      <td>0.038</td>\n",
       "      <td>0.007</td>\n",
       "      <td>0.7</td>\n",
       "      <td>0.007</td>\n",
       "      <td>34.0</td>\n",
       "      <td>NaN</td>\n",
       "      <td>-7.6</td>\n",
       "      <td>-3.6</td>\n",
       "      <td>-12.7</td>\n",
       "      <td>9.1</td>\n",
       "    </tr>\n",
       "  </tbody>\n",
       "</table>\n",
       "</div>"
      ],
      "text/plain": [
       "       측정일시  이산화질소     오존  일산화탄소    아황산    미세  초미세  평균기온  최고기온  최저기온  일교차\n",
       "0  20100101  0.038  0.007    0.7  0.007  34.0  NaN  -7.6  -3.6 -12.7  9.1"
      ]
     },
     "execution_count": 3,
     "metadata": {},
     "output_type": "execute_result"
    }
   ],
   "source": [
    "df.head(1)"
   ]
  },
  {
   "cell_type": "code",
   "execution_count": 4,
   "metadata": {},
   "outputs": [
    {
     "data": {
      "text/html": [
       "<div>\n",
       "<style scoped>\n",
       "    .dataframe tbody tr th:only-of-type {\n",
       "        vertical-align: middle;\n",
       "    }\n",
       "\n",
       "    .dataframe tbody tr th {\n",
       "        vertical-align: top;\n",
       "    }\n",
       "\n",
       "    .dataframe thead th {\n",
       "        text-align: right;\n",
       "    }\n",
       "</style>\n",
       "<table border=\"1\" class=\"dataframe\">\n",
       "  <thead>\n",
       "    <tr style=\"text-align: right;\">\n",
       "      <th></th>\n",
       "      <th>측정일시</th>\n",
       "      <th>이산화질소</th>\n",
       "      <th>오존</th>\n",
       "      <th>일산화탄소</th>\n",
       "      <th>아황산</th>\n",
       "      <th>미세</th>\n",
       "      <th>초미세</th>\n",
       "      <th>평균기온</th>\n",
       "      <th>최고기온</th>\n",
       "      <th>최저기온</th>\n",
       "      <th>일교차</th>\n",
       "    </tr>\n",
       "  </thead>\n",
       "  <tbody>\n",
       "    <tr>\n",
       "      <th>4747</th>\n",
       "      <td>20221231</td>\n",
       "      <td>0.042</td>\n",
       "      <td>0.008</td>\n",
       "      <td>0.8</td>\n",
       "      <td>0.004</td>\n",
       "      <td>43.0</td>\n",
       "      <td>32.0</td>\n",
       "      <td>-1.2</td>\n",
       "      <td>2.1</td>\n",
       "      <td>-5.1</td>\n",
       "      <td>7.2</td>\n",
       "    </tr>\n",
       "  </tbody>\n",
       "</table>\n",
       "</div>"
      ],
      "text/plain": [
       "          측정일시  이산화질소     오존  일산화탄소    아황산    미세   초미세  평균기온  최고기온  최저기온  일교차\n",
       "4747  20221231  0.042  0.008    0.8  0.004  43.0  32.0  -1.2   2.1  -5.1  7.2"
      ]
     },
     "execution_count": 4,
     "metadata": {},
     "output_type": "execute_result"
    }
   ],
   "source": [
    "df.tail(1)"
   ]
  },
  {
   "cell_type": "code",
   "execution_count": 4,
   "metadata": {},
   "outputs": [],
   "source": [
    "df['측정일시'] = pd.to_datetime(df['측정일시'], format='%Y%m%d')"
   ]
  },
  {
   "cell_type": "code",
   "execution_count": 5,
   "metadata": {},
   "outputs": [
    {
     "data": {
      "text/html": [
       "<div>\n",
       "<style scoped>\n",
       "    .dataframe tbody tr th:only-of-type {\n",
       "        vertical-align: middle;\n",
       "    }\n",
       "\n",
       "    .dataframe tbody tr th {\n",
       "        vertical-align: top;\n",
       "    }\n",
       "\n",
       "    .dataframe thead th {\n",
       "        text-align: right;\n",
       "    }\n",
       "</style>\n",
       "<table border=\"1\" class=\"dataframe\">\n",
       "  <thead>\n",
       "    <tr style=\"text-align: right;\">\n",
       "      <th></th>\n",
       "      <th>측정일시</th>\n",
       "      <th>이산화질소</th>\n",
       "      <th>오존</th>\n",
       "      <th>일산화탄소</th>\n",
       "      <th>아황산</th>\n",
       "      <th>미세</th>\n",
       "      <th>초미세</th>\n",
       "      <th>평균기온</th>\n",
       "      <th>최고기온</th>\n",
       "      <th>최저기온</th>\n",
       "      <th>일교차</th>\n",
       "    </tr>\n",
       "  </thead>\n",
       "  <tbody>\n",
       "    <tr>\n",
       "      <th>0</th>\n",
       "      <td>2010-01-01</td>\n",
       "      <td>0.038</td>\n",
       "      <td>0.007</td>\n",
       "      <td>0.7</td>\n",
       "      <td>0.007</td>\n",
       "      <td>34.0</td>\n",
       "      <td>NaN</td>\n",
       "      <td>-7.6</td>\n",
       "      <td>-3.6</td>\n",
       "      <td>-12.7</td>\n",
       "      <td>9.1</td>\n",
       "    </tr>\n",
       "  </tbody>\n",
       "</table>\n",
       "</div>"
      ],
      "text/plain": [
       "        측정일시  이산화질소     오존  일산화탄소    아황산    미세  초미세  평균기온  최고기온  최저기온  일교차\n",
       "0 2010-01-01  0.038  0.007    0.7  0.007  34.0  NaN  -7.6  -3.6 -12.7  9.1"
      ]
     },
     "execution_count": 5,
     "metadata": {},
     "output_type": "execute_result"
    }
   ],
   "source": [
    "df.head(1)"
   ]
  },
  {
   "cell_type": "code",
   "execution_count": 6,
   "metadata": {},
   "outputs": [],
   "source": [
    "df = df[['측정일시','이산화질소','오존','일산화탄소','아황산','미세','평균기온','최고기온','최저기온','일교차']]"
   ]
  },
  {
   "cell_type": "code",
   "execution_count": 7,
   "metadata": {},
   "outputs": [],
   "source": [
    "df = df.set_index('측정일시')"
   ]
  },
  {
   "cell_type": "code",
   "execution_count": 8,
   "metadata": {},
   "outputs": [
    {
     "data": {
      "text/plain": [
       "DatetimeIndex(['2010-01-01', '2010-01-02', '2010-01-03', '2010-01-04',\n",
       "               '2010-01-05', '2010-01-06', '2010-01-07', '2010-01-08',\n",
       "               '2010-01-09', '2010-01-10',\n",
       "               ...\n",
       "               '2022-12-22', '2022-12-23', '2022-12-24', '2022-12-25',\n",
       "               '2022-12-26', '2022-12-27', '2022-12-28', '2022-12-29',\n",
       "               '2022-12-30', '2022-12-31'],\n",
       "              dtype='datetime64[ns]', name='측정일시', length=4748, freq=None)"
      ]
     },
     "execution_count": 8,
     "metadata": {},
     "output_type": "execute_result"
    }
   ],
   "source": [
    "df.index"
   ]
  },
  {
   "cell_type": "code",
   "execution_count": 9,
   "metadata": {},
   "outputs": [],
   "source": [
    "df['최고기온'] = df['최고기온'].fillna(df['최고기온'].mean()).round(1)\n",
    "df['최저기온'] = df['최저기온'].fillna(df['최저기온'].mean()).round(1)\n",
    "df['일교차'] = df['일교차'].fillna(df['일교차'].mean()).round(1)\n"
   ]
  },
  {
   "cell_type": "code",
   "execution_count": 10,
   "metadata": {},
   "outputs": [
    {
     "data": {
      "text/plain": [
       "이산화질소    0\n",
       "오존       0\n",
       "일산화탄소    0\n",
       "아황산      0\n",
       "미세       0\n",
       "평균기온     0\n",
       "최고기온     0\n",
       "최저기온     0\n",
       "일교차      0\n",
       "dtype: int64"
      ]
     },
     "execution_count": 10,
     "metadata": {},
     "output_type": "execute_result"
    }
   ],
   "source": [
    "df.isna().sum()"
   ]
  },
  {
   "cell_type": "code",
   "execution_count": 41,
   "metadata": {},
   "outputs": [
    {
     "data": {
      "text/html": [
       "<div>\n",
       "<style scoped>\n",
       "    .dataframe tbody tr th:only-of-type {\n",
       "        vertical-align: middle;\n",
       "    }\n",
       "\n",
       "    .dataframe tbody tr th {\n",
       "        vertical-align: top;\n",
       "    }\n",
       "\n",
       "    .dataframe thead th {\n",
       "        text-align: right;\n",
       "    }\n",
       "</style>\n",
       "<table border=\"1\" class=\"dataframe\">\n",
       "  <thead>\n",
       "    <tr style=\"text-align: right;\">\n",
       "      <th></th>\n",
       "      <th>이산화질소</th>\n",
       "      <th>오존</th>\n",
       "      <th>일산화탄소</th>\n",
       "      <th>아황산</th>\n",
       "      <th>미세</th>\n",
       "      <th>평균기온</th>\n",
       "      <th>최고기온</th>\n",
       "      <th>최저기온</th>\n",
       "      <th>일교차</th>\n",
       "    </tr>\n",
       "    <tr>\n",
       "      <th>측정일시</th>\n",
       "      <th></th>\n",
       "      <th></th>\n",
       "      <th></th>\n",
       "      <th></th>\n",
       "      <th></th>\n",
       "      <th></th>\n",
       "      <th></th>\n",
       "      <th></th>\n",
       "      <th></th>\n",
       "    </tr>\n",
       "  </thead>\n",
       "  <tbody>\n",
       "    <tr>\n",
       "      <th>2010-01-01</th>\n",
       "      <td>0.038</td>\n",
       "      <td>0.007</td>\n",
       "      <td>0.7</td>\n",
       "      <td>0.007</td>\n",
       "      <td>34.0</td>\n",
       "      <td>-7.6</td>\n",
       "      <td>-3.6</td>\n",
       "      <td>-12.7</td>\n",
       "      <td>9.1</td>\n",
       "    </tr>\n",
       "    <tr>\n",
       "      <th>2010-01-02</th>\n",
       "      <td>0.036</td>\n",
       "      <td>0.009</td>\n",
       "      <td>0.7</td>\n",
       "      <td>0.008</td>\n",
       "      <td>52.0</td>\n",
       "      <td>-3.6</td>\n",
       "      <td>0.2</td>\n",
       "      <td>-7.4</td>\n",
       "      <td>7.6</td>\n",
       "    </tr>\n",
       "    <tr>\n",
       "      <th>2010-01-03</th>\n",
       "      <td>0.036</td>\n",
       "      <td>0.014</td>\n",
       "      <td>0.7</td>\n",
       "      <td>0.007</td>\n",
       "      <td>48.0</td>\n",
       "      <td>-6.8</td>\n",
       "      <td>-3.2</td>\n",
       "      <td>-10.5</td>\n",
       "      <td>7.3</td>\n",
       "    </tr>\n",
       "    <tr>\n",
       "      <th>2010-01-04</th>\n",
       "      <td>0.038</td>\n",
       "      <td>0.011</td>\n",
       "      <td>0.6</td>\n",
       "      <td>0.005</td>\n",
       "      <td>38.0</td>\n",
       "      <td>-5.9</td>\n",
       "      <td>-3.4</td>\n",
       "      <td>-8.0</td>\n",
       "      <td>4.6</td>\n",
       "    </tr>\n",
       "    <tr>\n",
       "      <th>2010-01-05</th>\n",
       "      <td>0.029</td>\n",
       "      <td>0.020</td>\n",
       "      <td>0.5</td>\n",
       "      <td>0.006</td>\n",
       "      <td>49.0</td>\n",
       "      <td>-9.9</td>\n",
       "      <td>-7.0</td>\n",
       "      <td>-12.3</td>\n",
       "      <td>5.3</td>\n",
       "    </tr>\n",
       "    <tr>\n",
       "      <th>...</th>\n",
       "      <td>...</td>\n",
       "      <td>...</td>\n",
       "      <td>...</td>\n",
       "      <td>...</td>\n",
       "      <td>...</td>\n",
       "      <td>...</td>\n",
       "      <td>...</td>\n",
       "      <td>...</td>\n",
       "      <td>...</td>\n",
       "    </tr>\n",
       "    <tr>\n",
       "      <th>2022-12-27</th>\n",
       "      <td>0.047</td>\n",
       "      <td>0.008</td>\n",
       "      <td>0.9</td>\n",
       "      <td>0.004</td>\n",
       "      <td>49.0</td>\n",
       "      <td>-2.6</td>\n",
       "      <td>3.3</td>\n",
       "      <td>-7.3</td>\n",
       "      <td>10.6</td>\n",
       "    </tr>\n",
       "    <tr>\n",
       "      <th>2022-12-28</th>\n",
       "      <td>0.028</td>\n",
       "      <td>0.017</td>\n",
       "      <td>0.6</td>\n",
       "      <td>0.004</td>\n",
       "      <td>35.0</td>\n",
       "      <td>-3.3</td>\n",
       "      <td>0.1</td>\n",
       "      <td>-6.0</td>\n",
       "      <td>6.1</td>\n",
       "    </tr>\n",
       "    <tr>\n",
       "      <th>2022-12-29</th>\n",
       "      <td>0.033</td>\n",
       "      <td>0.013</td>\n",
       "      <td>0.6</td>\n",
       "      <td>0.004</td>\n",
       "      <td>30.0</td>\n",
       "      <td>-2.9</td>\n",
       "      <td>2.1</td>\n",
       "      <td>-7.8</td>\n",
       "      <td>9.9</td>\n",
       "    </tr>\n",
       "    <tr>\n",
       "      <th>2022-12-30</th>\n",
       "      <td>0.034</td>\n",
       "      <td>0.015</td>\n",
       "      <td>0.6</td>\n",
       "      <td>0.004</td>\n",
       "      <td>38.0</td>\n",
       "      <td>-1.8</td>\n",
       "      <td>2.3</td>\n",
       "      <td>-4.4</td>\n",
       "      <td>6.7</td>\n",
       "    </tr>\n",
       "    <tr>\n",
       "      <th>2022-12-31</th>\n",
       "      <td>0.042</td>\n",
       "      <td>0.008</td>\n",
       "      <td>0.8</td>\n",
       "      <td>0.004</td>\n",
       "      <td>43.0</td>\n",
       "      <td>-1.2</td>\n",
       "      <td>2.1</td>\n",
       "      <td>-5.1</td>\n",
       "      <td>7.2</td>\n",
       "    </tr>\n",
       "  </tbody>\n",
       "</table>\n",
       "<p>4748 rows × 9 columns</p>\n",
       "</div>"
      ],
      "text/plain": [
       "            이산화질소     오존  일산화탄소    아황산    미세  평균기온  최고기온  최저기온   일교차\n",
       "측정일시                                                                \n",
       "2010-01-01  0.038  0.007    0.7  0.007  34.0  -7.6  -3.6 -12.7   9.1\n",
       "2010-01-02  0.036  0.009    0.7  0.008  52.0  -3.6   0.2  -7.4   7.6\n",
       "2010-01-03  0.036  0.014    0.7  0.007  48.0  -6.8  -3.2 -10.5   7.3\n",
       "2010-01-04  0.038  0.011    0.6  0.005  38.0  -5.9  -3.4  -8.0   4.6\n",
       "2010-01-05  0.029  0.020    0.5  0.006  49.0  -9.9  -7.0 -12.3   5.3\n",
       "...           ...    ...    ...    ...   ...   ...   ...   ...   ...\n",
       "2022-12-27  0.047  0.008    0.9  0.004  49.0  -2.6   3.3  -7.3  10.6\n",
       "2022-12-28  0.028  0.017    0.6  0.004  35.0  -3.3   0.1  -6.0   6.1\n",
       "2022-12-29  0.033  0.013    0.6  0.004  30.0  -2.9   2.1  -7.8   9.9\n",
       "2022-12-30  0.034  0.015    0.6  0.004  38.0  -1.8   2.3  -4.4   6.7\n",
       "2022-12-31  0.042  0.008    0.8  0.004  43.0  -1.2   2.1  -5.1   7.2\n",
       "\n",
       "[4748 rows x 9 columns]"
      ]
     },
     "execution_count": 41,
     "metadata": {},
     "output_type": "execute_result"
    }
   ],
   "source": [
    "df"
   ]
  },
  {
   "cell_type": "code",
   "execution_count": 11,
   "metadata": {},
   "outputs": [
    {
     "data": {
      "text/html": [
       "<div>\n",
       "<style scoped>\n",
       "    .dataframe tbody tr th:only-of-type {\n",
       "        vertical-align: middle;\n",
       "    }\n",
       "\n",
       "    .dataframe tbody tr th {\n",
       "        vertical-align: top;\n",
       "    }\n",
       "\n",
       "    .dataframe thead th {\n",
       "        text-align: right;\n",
       "    }\n",
       "</style>\n",
       "<table border=\"1\" class=\"dataframe\">\n",
       "  <thead>\n",
       "    <tr style=\"text-align: right;\">\n",
       "      <th></th>\n",
       "      <th>이산화질소</th>\n",
       "      <th>오존</th>\n",
       "      <th>일산화탄소</th>\n",
       "      <th>아황산</th>\n",
       "      <th>미세</th>\n",
       "      <th>평균기온</th>\n",
       "      <th>최고기온</th>\n",
       "      <th>최저기온</th>\n",
       "      <th>일교차</th>\n",
       "    </tr>\n",
       "    <tr>\n",
       "      <th>측정일시</th>\n",
       "      <th></th>\n",
       "      <th></th>\n",
       "      <th></th>\n",
       "      <th></th>\n",
       "      <th></th>\n",
       "      <th></th>\n",
       "      <th></th>\n",
       "      <th></th>\n",
       "      <th></th>\n",
       "    </tr>\n",
       "  </thead>\n",
       "  <tbody>\n",
       "    <tr>\n",
       "      <th>2010-01-01</th>\n",
       "      <td>0.038</td>\n",
       "      <td>0.007</td>\n",
       "      <td>0.7</td>\n",
       "      <td>0.007</td>\n",
       "      <td>34.0</td>\n",
       "      <td>-7.6</td>\n",
       "      <td>-3.6</td>\n",
       "      <td>-12.7</td>\n",
       "      <td>9.1</td>\n",
       "    </tr>\n",
       "  </tbody>\n",
       "</table>\n",
       "</div>"
      ],
      "text/plain": [
       "            이산화질소     오존  일산화탄소    아황산    미세  평균기온  최고기온  최저기온  일교차\n",
       "측정일시                                                               \n",
       "2010-01-01  0.038  0.007    0.7  0.007  34.0  -7.6  -3.6 -12.7  9.1"
      ]
     },
     "execution_count": 11,
     "metadata": {},
     "output_type": "execute_result"
    }
   ],
   "source": [
    "df.head(1)"
   ]
  },
  {
   "cell_type": "code",
   "execution_count": 12,
   "metadata": {},
   "outputs": [
    {
     "data": {
      "text/plain": [
       "Index(['이산화질소', '오존', '일산화탄소', '아황산', '미세', '평균기온', '최고기온', '최저기온', '일교차'], dtype='object')"
      ]
     },
     "execution_count": 12,
     "metadata": {},
     "output_type": "execute_result"
    }
   ],
   "source": [
    "df.columns"
   ]
  },
  {
   "cell_type": "code",
   "execution_count": 13,
   "metadata": {},
   "outputs": [],
   "source": [
    "df_feature =  df[['이산화질소', '일산화탄소', '아황산', '미세', '평균기온', '최고기온', '최저기온', '일교차']]"
   ]
  },
  {
   "cell_type": "code",
   "execution_count": 14,
   "metadata": {},
   "outputs": [],
   "source": [
    "df_target =  df[['오존']]"
   ]
  },
  {
   "cell_type": "code",
   "execution_count": 15,
   "metadata": {},
   "outputs": [
    {
     "data": {
      "image/png": "[encoded data removed]",
      "text/plain": [
       "<Figure size 1200x1000 with 2 Axes>"
      ]
     },
     "metadata": {},
     "output_type": "display_data"
    }
   ],
   "source": [
    "import pandas as pd\n",
    "import seaborn as sns\n",
    "import matplotlib.pyplot as plt\n",
    "plt.rcParams['font.family'] = 'Malgun Gothic'\n",
    "plt.rcParams['axes.unicode_minus'] = False\n",
    "\n",
    "# 전체 상관관계 행렬 계산\n",
    "full_corr_matrix = df.corr()\n",
    "\n",
    "# 시각화용 상관관계 행렬 생성 (시간 및 도시 컬럼 제외)\n",
    "visualization_columns = [col for col in df.columns if 'Year' not in col and 'Month' not in col and not col.startswith('SIDO')]\n",
    "vis_corr_matrix = df[visualization_columns].corr()\n",
    "\n",
    "# 상관 계수 행렬 시각화\n",
    "plt.figure(figsize=(12, 10))\n",
    "sns.heatmap(vis_corr_matrix, annot=True, fmt=\".2f\", cmap='coolwarm')\n",
    "plt.title('선택된 변수 간 상관 관계')\n",
    "plt.show()"
   ]
  },
  {
   "cell_type": "code",
   "execution_count": 16,
   "metadata": {},
   "outputs": [
    {
     "data": {
      "text/html": [
       "<div>\n",
       "<style scoped>\n",
       "    .dataframe tbody tr th:only-of-type {\n",
       "        vertical-align: middle;\n",
       "    }\n",
       "\n",
       "    .dataframe tbody tr th {\n",
       "        vertical-align: top;\n",
       "    }\n",
       "\n",
       "    .dataframe thead th {\n",
       "        text-align: right;\n",
       "    }\n",
       "</style>\n",
       "<table border=\"1\" class=\"dataframe\">\n",
       "  <thead>\n",
       "    <tr style=\"text-align: right;\">\n",
       "      <th></th>\n",
       "      <th>이산화질소</th>\n",
       "      <th>일산화탄소</th>\n",
       "      <th>아황산</th>\n",
       "      <th>미세</th>\n",
       "      <th>평균기온</th>\n",
       "      <th>최고기온</th>\n",
       "      <th>최저기온</th>\n",
       "      <th>일교차</th>\n",
       "    </tr>\n",
       "    <tr>\n",
       "      <th>측정일시</th>\n",
       "      <th></th>\n",
       "      <th></th>\n",
       "      <th></th>\n",
       "      <th></th>\n",
       "      <th></th>\n",
       "      <th></th>\n",
       "      <th></th>\n",
       "      <th></th>\n",
       "    </tr>\n",
       "  </thead>\n",
       "  <tbody>\n",
       "    <tr>\n",
       "      <th>2010-01-01</th>\n",
       "      <td>0.038</td>\n",
       "      <td>0.7</td>\n",
       "      <td>0.007</td>\n",
       "      <td>34.0</td>\n",
       "      <td>-7.6</td>\n",
       "      <td>-3.6</td>\n",
       "      <td>-12.7</td>\n",
       "      <td>9.1</td>\n",
       "    </tr>\n",
       "  </tbody>\n",
       "</table>\n",
       "</div>"
      ],
      "text/plain": [
       "            이산화질소  일산화탄소    아황산    미세  평균기온  최고기온  최저기온  일교차\n",
       "측정일시                                                        \n",
       "2010-01-01  0.038    0.7  0.007  34.0  -7.6  -3.6 -12.7  9.1"
      ]
     },
     "execution_count": 16,
     "metadata": {},
     "output_type": "execute_result"
    }
   ],
   "source": [
    "df_feature.head(1)"
   ]
  },
  {
   "cell_type": "code",
   "execution_count": 17,
   "metadata": {},
   "outputs": [],
   "source": [
    "from sklearn.linear_model import LinearRegression\n",
    "from sklearn.model_selection import train_test_split"
   ]
  },
  {
   "cell_type": "code",
   "execution_count": 18,
   "metadata": {},
   "outputs": [
    {
     "data": {
      "text/plain": [
       "(Index(['이산화질소', '일산화탄소', '아황산', '미세', '평균기온', '최고기온', '최저기온', '일교차'], dtype='object'),\n",
       " Index(['오존'], dtype='object'))"
      ]
     },
     "execution_count": 18,
     "metadata": {},
     "output_type": "execute_result"
    }
   ],
   "source": [
    "df_feature.columns , df_target.columns"
   ]
  },
  {
   "cell_type": "code",
   "execution_count": 19,
   "metadata": {},
   "outputs": [],
   "source": [
    "from sklearn.model_selection import train_test_split\n",
    "X_train, X_test, y_train, y_test = train_test_split(\n",
    "    df_feature.values, df_target.values, test_size=0.2, random_state=2023\n",
    ")"
   ]
  },
  {
   "cell_type": "code",
   "execution_count": 20,
   "metadata": {},
   "outputs": [
    {
     "data": {
      "text/html": [
       "<style>#sk-container-id-1 {color: black;}#sk-container-id-1 pre{padding: 0;}#sk-container-id-1 div.sk-toggleable {background-color: white;}#sk-container-id-1 label.sk-toggleable__label {cursor: pointer;display: block;width: 100%;margin-bottom: 0;padding: 0.3em;box-sizing: border-box;text-align: center;}#sk-container-id-1 label.sk-toggleable__label-arrow:before {content: \"▸\";float: left;margin-right: 0.25em;color: #696969;}#sk-container-id-1 label.sk-toggleable__label-arrow:hover:before {color: black;}#sk-container-id-1 div.sk-estimator:hover label.sk-toggleable__label-arrow:before {color: black;}#sk-container-id-1 div.sk-toggleable__content {max-height: 0;max-width: 0;overflow: hidden;text-align: left;background-color: #f0f8ff;}#sk-container-id-1 div.sk-toggleable__content pre {margin: 0.2em;color: black;border-radius: 0.25em;background-color: #f0f8ff;}#sk-container-id-1 input.sk-toggleable__control:checked~div.sk-toggleable__content {max-height: 200px;max-width: 100%;overflow: auto;}#sk-container-id-1 input.sk-toggleable__control:checked~label.sk-toggleable__label-arrow:before {content: \"▾\";}#sk-container-id-1 div.sk-estimator input.sk-toggleable__control:checked~label.sk-toggleable__label {background-color: #d4ebff;}#sk-container-id-1 div.sk-label input.sk-toggleable__control:checked~label.sk-toggleable__label {background-color: #d4ebff;}#sk-container-id-1 input.sk-hidden--visually {border: 0;clip: rect(1px 1px 1px 1px);clip: rect(1px, 1px, 1px, 1px);height: 1px;margin: -1px;overflow: hidden;padding: 0;position: absolute;width: 1px;}#sk-container-id-1 div.sk-estimator {font-family: monospace;background-color: #f0f8ff;border: 1px dotted black;border-radius: 0.25em;box-sizing: border-box;margin-bottom: 0.5em;}#sk-container-id-1 div.sk-estimator:hover {background-color: #d4ebff;}#sk-container-id-1 div.sk-parallel-item::after {content: \"\";width: 100%;border-bottom: 1px solid gray;flex-grow: 1;}#sk-container-id-1 div.sk-label:hover label.sk-toggleable__label {background-color: #d4ebff;}#sk-container-id-1 div.sk-serial::before {content: \"\";position: absolute;border-left: 1px solid gray;box-sizing: border-box;top: 0;bottom: 0;left: 50%;z-index: 0;}#sk-container-id-1 div.sk-serial {display: flex;flex-direction: column;align-items: center;background-color: white;padding-right: 0.2em;padding-left: 0.2em;position: relative;}#sk-container-id-1 div.sk-item {position: relative;z-index: 1;}#sk-container-id-1 div.sk-parallel {display: flex;align-items: stretch;justify-content: center;background-color: white;position: relative;}#sk-container-id-1 div.sk-item::before, #sk-container-id-1 div.sk-parallel-item::before {content: \"\";position: absolute;border-left: 1px solid gray;box-sizing: border-box;top: 0;bottom: 0;left: 50%;z-index: -1;}#sk-container-id-1 div.sk-parallel-item {display: flex;flex-direction: column;z-index: 1;position: relative;background-color: white;}#sk-container-id-1 div.sk-parallel-item:first-child::after {align-self: flex-end;width: 50%;}#sk-container-id-1 div.sk-parallel-item:last-child::after {align-self: flex-start;width: 50%;}#sk-container-id-1 div.sk-parallel-item:only-child::after {width: 0;}#sk-container-id-1 div.sk-dashed-wrapped {border: 1px dashed gray;margin: 0 0.4em 0.5em 0.4em;box-sizing: border-box;padding-bottom: 0.4em;background-color: white;}#sk-container-id-1 div.sk-label label {font-family: monospace;font-weight: bold;display: inline-block;line-height: 1.2em;}#sk-container-id-1 div.sk-label-container {text-align: center;}#sk-container-id-1 div.sk-container {/* jupyter's `normalize.less` sets `[hidden] { display: none; }` but bootstrap.min.css set `[hidden] { display: none !important; }` so we also need the `!important` here to be able to override the default hidden behavior on the sphinx rendered scikit-learn.org. See: https://github.com/scikit-learn/scikit-learn/issues/21755 */display: inline-block !important;position: relative;}#sk-container-id-1 div.sk-text-repr-fallback {display: none;}</style><div id=\"sk-container-id-1\" class=\"sk-top-container\"><div class=\"sk-text-repr-fallback\"><pre>LinearRegression()</pre><b>In a Jupyter environment, please rerun this cell to show the HTML representation or trust the notebook. <br />On GitHub, the HTML representation is unable to render, please try loading this page with nbviewer.org.</b></div><div class=\"sk-container\" hidden><div class=\"sk-item\"><div class=\"sk-estimator sk-toggleable\"><input class=\"sk-toggleable__control sk-hidden--visually\" id=\"sk-estimator-id-1\" type=\"checkbox\" checked><label for=\"sk-estimator-id-1\" class=\"sk-toggleable__label sk-toggleable__label-arrow\">LinearRegression</label><div class=\"sk-toggleable__content\"><pre>LinearRegression()</pre></div></div></div></div></div>"
      ],
      "text/plain": [
       "LinearRegression()"
      ]
     },
     "execution_count": 20,
     "metadata": {},
     "output_type": "execute_result"
    }
   ],
   "source": [
    "lr = LinearRegression()\n",
    "lr.fit(X_train, y_train)"
   ]
  },
  {
   "cell_type": "code",
   "execution_count": 21,
   "metadata": {},
   "outputs": [
    {
     "data": {
      "text/plain": [
       "0.414579851787789"
      ]
     },
     "execution_count": 21,
     "metadata": {},
     "output_type": "execute_result"
    }
   ],
   "source": [
    "# 결정계수(R Squared)\n",
    "lr.score(X_test, y_test)"
   ]
  },
  {
   "cell_type": "code",
   "execution_count": 22,
   "metadata": {},
   "outputs": [],
   "source": [
    "\n",
    "from sklearn.svm import SVR\n",
    "from sklearn.metrics import r2_score, mean_squared_error"
   ]
  },
  {
   "cell_type": "code",
   "execution_count": 23,
   "metadata": {},
   "outputs": [
    {
     "data": {
      "text/plain": [
       "-2.33767570558139"
      ]
     },
     "execution_count": 23,
     "metadata": {},
     "output_type": "execute_result"
    }
   ],
   "source": [
    "svr = SVR()\n",
    "svr.fit(X_train, y_train)\n",
    "y_hat_sv = svr.predict(X_test)\n",
    "r2_sv = r2_score(y_test, y_hat_sv)\n",
    "mse_sv = mean_squared_error(y_test, y_hat_sv)\n",
    "r2_sv"
   ]
  },
  {
   "cell_type": "code",
   "execution_count": 24,
   "metadata": {},
   "outputs": [
    {
     "data": {
      "text/plain": [
       "0.6719792471394082"
      ]
     },
     "execution_count": 24,
     "metadata": {},
     "output_type": "execute_result"
    }
   ],
   "source": [
    "from sklearn.ensemble import RandomForestRegressor\n",
    "rfr = RandomForestRegressor(random_state=2023)\n",
    "rfr.fit(X_train, y_train)\n",
    "y_hat_rf = rfr.predict(X_test)\n",
    "r2_rf = r2_score(y_test, y_hat_rf)\n",
    "mse_rf = mean_squared_error(y_test, y_hat_rf)\n",
    "r2_rf"
   ]
  },
  {
   "cell_type": "code",
   "execution_count": 25,
   "metadata": {},
   "outputs": [
    {
     "data": {
      "text/plain": [
       "0.6719792471394082"
      ]
     },
     "execution_count": 25,
     "metadata": {},
     "output_type": "execute_result"
    }
   ],
   "source": [
    "rfr = RandomForestRegressor(random_state=2023)\n",
    "rfr.fit(X_train, y_train)\n",
    "y_hat_rf = rfr.predict(X_test)\n",
    "r2_rf = r2_score(y_test, y_hat_rf)\n",
    "mse_rf = mean_squared_error(y_test, y_hat_rf)\n",
    "r2_rf"
   ]
  },
  {
   "cell_type": "code",
   "execution_count": 26,
   "metadata": {},
   "outputs": [
    {
     "data": {
      "text/plain": [
       "{'bootstrap': True,\n",
       " 'ccp_alpha': 0.0,\n",
       " 'criterion': 'squared_error',\n",
       " 'max_depth': None,\n",
       " 'max_features': 1.0,\n",
       " 'max_leaf_nodes': None,\n",
       " 'max_samples': None,\n",
       " 'min_impurity_decrease': 0.0,\n",
       " 'min_samples_leaf': 1,\n",
       " 'min_samples_split': 2,\n",
       " 'min_weight_fraction_leaf': 0.0,\n",
       " 'n_estimators': 100,\n",
       " 'n_jobs': None,\n",
       " 'oob_score': False,\n",
       " 'random_state': 2023,\n",
       " 'verbose': 0,\n",
       " 'warm_start': False}"
      ]
     },
     "execution_count": 26,
     "metadata": {},
     "output_type": "execute_result"
    }
   ],
   "source": [
    "rfr.get_params()"
   ]
  },
  {
   "cell_type": "code",
   "execution_count": 27,
   "metadata": {},
   "outputs": [
    {
     "data": {
      "text/plain": [
       "({'max_depth': 1, 'min_samples_leaf': 1, 'min_samples_split': 2},\n",
       " 0.2489949618126286)"
      ]
     },
     "execution_count": 27,
     "metadata": {},
     "output_type": "execute_result"
    }
   ],
   "source": [
    "from sklearn.model_selection import GridSearchCV\n",
    "params = { 'max_depth' : [1, 3, 5, 7], \n",
    "    'min_samples_leaf' : [1, 3, 5, 7],\n",
    "    'min_samples_split' : [2, 3, 5, 7] }\n",
    "grid_rfr = GridSearchCV(rfr, params, scoring='accuracy', cv=5)\n",
    "grid_rfr.fit(X_train, y_train)\n",
    "grid_rfr.best_params_ , grid_rfr.best_estimator_.score(X_test, y_test)"
   ]
  },
  {
   "cell_type": "code",
   "execution_count": 28,
   "metadata": {},
   "outputs": [
    {
     "data": {
      "text/plain": [
       "({'n_estimators': 100}, 0.6719792471394082)"
      ]
     },
     "execution_count": 28,
     "metadata": {},
     "output_type": "execute_result"
    }
   ],
   "source": [
    "from sklearn.model_selection import GridSearchCV\n",
    "params = {'n_estimators': [100,300,600]}\n",
    "grid_rfr = GridSearchCV(rfr, params, scoring='accuracy', cv=5)\n",
    "grid_rfr.fit(X_train, y_train)\n",
    "grid_rfr.best_params_ , grid_rfr.best_estimator_.score(X_test, y_test)"
   ]
  },
  {
   "cell_type": "code",
   "execution_count": 29,
   "metadata": {},
   "outputs": [
    {
     "data": {
      "text/plain": [
       "0.6719792471394082"
      ]
     },
     "execution_count": 29,
     "metadata": {},
     "output_type": "execute_result"
    }
   ],
   "source": [
    "grid_rfr.best_estimator_.score(X_test, y_test)"
   ]
  },
  {
   "cell_type": "code",
   "execution_count": 30,
   "metadata": {},
   "outputs": [
    {
     "data": {
      "text/plain": [
       "{'max_depth': 3}"
      ]
     },
     "execution_count": 30,
     "metadata": {},
     "output_type": "execute_result"
    }
   ],
   "source": [
    "from sklearn.model_selection import GridSearchCV\n",
    "params = {'max_depth': [3, 6, 9,12]}\n",
    "grid_rfr = GridSearchCV(rfr, params, scoring='accuracy', cv=5)\n",
    "grid_rfr.fit(X_train, y_train)\n",
    "grid_rfr.best_params_"
   ]
  },
  {
   "cell_type": "code",
   "execution_count": 31,
   "metadata": {},
   "outputs": [
    {
     "data": {
      "text/plain": [
       "0.4127685028829484"
      ]
     },
     "execution_count": 31,
     "metadata": {},
     "output_type": "execute_result"
    }
   ],
   "source": [
    "grid_rfr.best_estimator_.score(X_test, y_test)"
   ]
  },
  {
   "cell_type": "code",
   "execution_count": 32,
   "metadata": {},
   "outputs": [
    {
     "data": {
      "text/plain": [
       "{'max_depth': 2}"
      ]
     },
     "execution_count": 32,
     "metadata": {},
     "output_type": "execute_result"
    }
   ],
   "source": [
    "params = {'max_depth': [2,3,4,5]}\n",
    "grid_rfr = GridSearchCV(rfr, params, scoring='accuracy', cv=5)\n",
    "grid_rfr.fit(X_train, y_train)\n",
    "grid_rfr.best_params_"
   ]
  },
  {
   "cell_type": "code",
   "execution_count": 33,
   "metadata": {},
   "outputs": [
    {
     "data": {
      "text/plain": [
       "0.33250224999052924"
      ]
     },
     "execution_count": 33,
     "metadata": {},
     "output_type": "execute_result"
    }
   ],
   "source": [
    "grid_rfr.best_estimator_.score(X_test, y_test)"
   ]
  },
  {
   "cell_type": "code",
   "execution_count": 34,
   "metadata": {},
   "outputs": [
    {
     "data": {
      "text/plain": [
       "{'max_depth': 1}"
      ]
     },
     "execution_count": 34,
     "metadata": {},
     "output_type": "execute_result"
    }
   ],
   "source": [
    "params = {'max_depth': [1,1.5,2]}\n",
    "grid_rfr = GridSearchCV(rfr, params, scoring='accuracy', cv=5)\n",
    "grid_rfr.fit(X_train, y_train)\n",
    "grid_rfr.best_params_"
   ]
  },
  {
   "cell_type": "code",
   "execution_count": 35,
   "metadata": {},
   "outputs": [
    {
     "data": {
      "text/plain": [
       "0.2489949618126286"
      ]
     },
     "execution_count": 35,
     "metadata": {},
     "output_type": "execute_result"
    }
   ],
   "source": [
    "grid_rfr.best_estimator_.score(X_test, y_test)"
   ]
  },
  {
   "cell_type": "code",
   "execution_count": 36,
   "metadata": {},
   "outputs": [
    {
     "data": {
      "text/plain": [
       "0.6295326033837909"
      ]
     },
     "execution_count": 36,
     "metadata": {},
     "output_type": "execute_result"
    }
   ],
   "source": [
    "from xgboost import XGBRegressor\n",
    "xgbr = XGBRegressor()\n",
    "xgbr.fit(X_train, y_train)\n",
    "y_hat_xgb = xgbr.predict(X_test)\n",
    "r2_xgb = r2_score(y_test, y_hat_xgb)\n",
    "mse_xgb = mean_squared_error(y_test, y_hat_xgb)\n",
    "r2_xgb"
   ]
  },
  {
   "cell_type": "code",
   "execution_count": 37,
   "metadata": {},
   "outputs": [],
   "source": [
    "import numpy as np\n",
    "import pandas as pd\n",
    "from sklearn.preprocessing import MinMaxScaler\n",
    "from tensorflow.keras.models import Sequential\n",
    "from tensorflow.keras.layers import LSTM, Dense\n",
    "from tensorflow.keras.optimizers import Adam\n",
    "from sklearn.preprocessing import StandardScaler\n",
    "import matplotlib.pyplot as plt\n"
   ]
  },
  {
   "cell_type": "code",
   "execution_count": 56,
   "metadata": {},
   "outputs": [
    {
     "name": "stdout",
     "output_type": "stream",
     "text": [
      "Epoch 1/30\n",
      "119/119 [==============================] - 10s 47ms/step - loss: 0.0300 - val_loss: 0.0148\n",
      "Epoch 2/30\n",
      "119/119 [==============================] - 4s 35ms/step - loss: 0.0104 - val_loss: 0.0107\n",
      "Epoch 3/30\n",
      "119/119 [==============================] - 4s 35ms/step - loss: 0.0093 - val_loss: 0.0101\n",
      "Epoch 4/30\n",
      "119/119 [==============================] - 4s 35ms/step - loss: 0.0086 - val_loss: 0.0105\n",
      "Epoch 5/30\n",
      "119/119 [==============================] - 4s 35ms/step - loss: 0.0084 - val_loss: 0.0107\n",
      "Epoch 6/30\n",
      "119/119 [==============================] - 4s 35ms/step - loss: 0.0086 - val_loss: 0.0092\n",
      "Epoch 7/30\n",
      "119/119 [==============================] - 4s 35ms/step - loss: 0.0090 - val_loss: 0.0095\n",
      "Epoch 8/30\n",
      "119/119 [==============================] - 4s 35ms/step - loss: 0.0084 - val_loss: 0.0093\n",
      "Epoch 9/30\n",
      "119/119 [==============================] - 4s 35ms/step - loss: 0.0085 - val_loss: 0.0108\n",
      "Epoch 10/30\n",
      "119/119 [==============================] - 4s 35ms/step - loss: 0.0086 - val_loss: 0.0093\n",
      "Epoch 11/30\n",
      "119/119 [==============================] - 4s 38ms/step - loss: 0.0082 - val_loss: 0.0092\n",
      "Epoch 12/30\n",
      "119/119 [==============================] - 4s 36ms/step - loss: 0.0085 - val_loss: 0.0091\n",
      "Epoch 13/30\n",
      "119/119 [==============================] - 4s 37ms/step - loss: 0.0084 - val_loss: 0.0093\n",
      "Epoch 14/30\n",
      "119/119 [==============================] - 4s 37ms/step - loss: 0.0081 - val_loss: 0.0094\n",
      "Epoch 15/30\n",
      "119/119 [==============================] - 4s 37ms/step - loss: 0.0082 - val_loss: 0.0094\n",
      "Epoch 16/30\n",
      "119/119 [==============================] - 4s 37ms/step - loss: 0.0084 - val_loss: 0.0105\n",
      "Epoch 17/30\n",
      "119/119 [==============================] - 4s 37ms/step - loss: 0.0081 - val_loss: 0.0092\n",
      "Epoch 18/30\n",
      "119/119 [==============================] - 4s 37ms/step - loss: 0.0083 - val_loss: 0.0092\n",
      "Epoch 19/30\n",
      "119/119 [==============================] - 4s 36ms/step - loss: 0.0081 - val_loss: 0.0093\n",
      "Epoch 20/30\n",
      "119/119 [==============================] - 4s 35ms/step - loss: 0.0081 - val_loss: 0.0093\n",
      "Epoch 21/30\n",
      "119/119 [==============================] - 4s 35ms/step - loss: 0.0080 - val_loss: 0.0093\n",
      "Epoch 22/30\n",
      "119/119 [==============================] - 4s 35ms/step - loss: 0.0080 - val_loss: 0.0101\n",
      "Epoch 23/30\n",
      "119/119 [==============================] - 4s 35ms/step - loss: 0.0080 - val_loss: 0.0098\n",
      "Epoch 24/30\n",
      "119/119 [==============================] - 4s 35ms/step - loss: 0.0081 - val_loss: 0.0099\n",
      "Epoch 25/30\n",
      "119/119 [==============================] - 4s 35ms/step - loss: 0.0081 - val_loss: 0.0109\n",
      "Epoch 26/30\n",
      "119/119 [==============================] - 4s 35ms/step - loss: 0.0079 - val_loss: 0.0093\n",
      "Epoch 27/30\n",
      "119/119 [==============================] - 4s 35ms/step - loss: 0.0079 - val_loss: 0.0101\n",
      "Epoch 28/30\n",
      "119/119 [==============================] - 4s 35ms/step - loss: 0.0081 - val_loss: 0.0097\n",
      "Epoch 29/30\n",
      "119/119 [==============================] - 4s 35ms/step - loss: 0.0081 - val_loss: 0.0095\n",
      "Epoch 30/30\n",
      "119/119 [==============================] - 4s 36ms/step - loss: 0.0080 - val_loss: 0.0092\n",
      "13/13 [==============================] - 1s 14ms/step\n"
     ]
    }
   ],
   "source": [
    "\n",
    "\n",
    "# 데이터셋 준비 (이미 원-핫 인코딩 및 NaN 처리 완료)\n",
    "data = df.values\n",
    "\n",
    "# 데이터 정규화\n",
    "scaler = MinMaxScaler()\n",
    "data_scaled = scaler.fit_transform(data)\n",
    "\n",
    "# 데이터셋 분할\n",
    "n_train = int(0.9 * len(data_scaled))\n",
    "train_data = data_scaled[:n_train]\n",
    "test_data = data_scaled[n_train:]\n",
    "train_dates = df.index[:n_train]\n",
    "test_dates = df.index[n_train:]\n",
    "\n",
    "# 데이터셋 재구성\n",
    "seq_len = 60  # 수치구성방법 총 데이터의수 20%가 최대치 (수치를 조정해서 모델 적중률 조정)\n",
    "input_dim = train_data.shape[1]  # 입력 차원 (원-핫 인코딩된 열의 수)\n",
    "\n",
    "trainX, trainY = [], []\n",
    "testX, testY = [], []\n",
    "\n",
    "for i in range(seq_len, len(train_data)):\n",
    "    trainX.append(train_data[i-seq_len:i, :])\n",
    "    trainY.append(train_data[i, 1])  # 첫 번째 열이 타겟 변수라고 가정\n",
    "\n",
    "for i in range(seq_len, len(test_data)):\n",
    "    testX.append(test_data[i-seq_len:i, :])\n",
    "    testY.append(test_data[i, 1])\n",
    "\n",
    "trainX, trainY = np.array(trainX), np.array(trainY)\n",
    "testX, testY = np.array(testX), np.array(testY)\n",
    "\n",
    "# LSTM 모델 구성\n",
    "model = Sequential()\n",
    "model.add(LSTM(64, input_shape=(seq_len, input_dim), return_sequences=True))\n",
    "model.add(LSTM(32, return_sequences=False))\n",
    "model.add(Dense(1))  # 하나의 출력 뉴런\n",
    "\n",
    "# 모델 컴파일 및 학습\n",
    "model.compile(optimizer=Adam(learning_rate=0.01), loss='mse')\n",
    "model.fit(trainX, trainY, epochs=30, batch_size=32, validation_split=0.1, verbose=1)\n",
    "\n",
    "# 예측 및 역변환\n",
    "prediction = model.predict(testX)\n",
    "prediction_transformed = scaler.inverse_transform(np.concatenate((prediction, np.zeros((prediction.shape[0], data_scaled.shape[1]-1))), axis=1))[:,0]\n",
    "\n",
    "testY_transformed = scaler.inverse_transform(np.concatenate((testY.reshape(-1,1), np.zeros((testY.shape[0], data_scaled.shape[1]-1))), axis=1))[:,0]\n",
    "\n",
    "\n"
   ]
  },
  {
   "cell_type": "code",
   "execution_count": 57,
   "metadata": {},
   "outputs": [
    {
     "name": "stdout",
     "output_type": "stream",
     "text": [
      "R-squared (Coefficient of Determination): 0.6333352301694328\n"
     ]
    }
   ],
   "source": [
    "from sklearn.metrics import r2_score\n",
    "\n",
    "# R² 값 계산\n",
    "r_squared = r2_score(testY_transformed, prediction_transformed)\n",
    "\n",
    "print(\"R-squared (Coefficient of Determination):\", r_squared)"
   ]
  },
  {
   "cell_type": "code",
   "execution_count": 58,
   "metadata": {},
   "outputs": [
    {
     "name": "stdout",
     "output_type": "stream",
     "text": [
      "Mean Squared Error: 6.71536496773621e-05\n",
      "Mean Absolute Error: 0.006278635399440525\n"
     ]
    }
   ],
   "source": [
    "from sklearn.metrics import mean_squared_error, mean_absolute_error\n",
    "\n",
    "# MSE 및 MAE 계산\n",
    "mse = mean_squared_error(testY_transformed, prediction_transformed)\n",
    "mae = mean_absolute_error(testY_transformed, prediction_transformed)\n",
    "\n",
    "print(\"Mean Squared Error:\", mse)\n",
    "print(\"Mean Absolute Error:\", mae)"
   ]
  },
  {
   "cell_type": "code",
   "execution_count": 59,
   "metadata": {},
   "outputs": [
    {
     "name": "stdout",
     "output_type": "stream",
     "text": [
      "R-squared: 0.6719951216838018\n"
     ]
    }
   ],
   "source": [
    "from sklearn.model_selection import train_test_split\n",
    "from sklearn.preprocessing import StandardScaler\n",
    "from sklearn.ensemble import RandomForestRegressor\n",
    "from sklearn.metrics import r2_score, mean_squared_error\n",
    "\n",
    "# 데이터 스케일링\n",
    "scaler = MinMaxScaler()\n",
    "df_feature_scaled = scaler.fit_transform(df_feature)\n",
    "\n",
    "# 데이터셋 분할\n",
    "X_train, X_test, y_train, y_test = train_test_split(\n",
    "    df_feature_scaled, df_target.values, test_size=0.2, random_state=2023\n",
    ")\n",
    "\n",
    "# 랜덤 포레스트 모델 학습\n",
    "rfr = RandomForestRegressor(random_state=2023)\n",
    "rfr.fit(X_train, y_train.ravel())  # y_train을 1차원 배열로 변환\n",
    "y_hat_rf = rfr.predict(X_test)\n",
    "\n",
    "# 성능 평가\n",
    "r2_rf = r2_score(y_test, y_hat_rf)\n",
    "mse_rf = mean_squared_error(y_test, y_hat_rf)\n",
    "\n",
    "print(\"R-squared:\", r2_rf)\n"
   ]
  },
  {
   "cell_type": "code",
   "execution_count": 51,
   "metadata": {},
   "outputs": [
    {
     "name": "stdout",
     "output_type": "stream",
     "text": [
      "Variance of Actual Values: 0.0\n",
      "Warning: Variance of actual values is zero. R² cannot be computed.\n"
     ]
    }
   ],
   "source": [
    "# 실제값의 분산 계산\n",
    "variance = np.var(testY_transformed)\n",
    "print(\"Variance of Actual Values:\", variance)\n",
    "\n",
    "# 분산이 0인지 확인\n",
    "if variance == 0:\n",
    "    print(\"Warning: Variance of actual values is zero. R² cannot be computed.\")\n"
   ]
  },
  {
   "cell_type": "code",
   "execution_count": 52,
   "metadata": {},
   "outputs": [],
   "source": [
    "# testY_transformed에서 nan 또는 inf 값 확인\n",
    "if np.isnan(testY_transformed).any() or np.isinf(testY_transformed).any():\n",
    "    print(\"Warning: Actual values contain nan or inf.\")\n",
    "\n",
    "# prediction_transformed에서 nan 또는 inf 값 확인\n",
    "if np.isnan(prediction_transformed).any() or np.isinf(prediction_transformed).any():\n",
    "    print(\"Warning: Predicted values contain nan or inf.\")\n"
   ]
  },
  {
   "cell_type": "code",
   "execution_count": 40,
   "metadata": {},
   "outputs": [
    {
     "ename": "NameError",
     "evalue": "name 'ddddddddddddddddddddddddddddddd' is not defined",
     "output_type": "error",
     "traceback": [
      "\u001b[1;31m---------------------------------------------------------------------------\u001b[0m",
      "\u001b[1;31mNameError\u001b[0m                                 Traceback (most recent call last)",
      "\u001b[1;32md:\\WorkSpace\\98.project2\\Datacollection\\1201_오존미래예측.ipynb 셀 40\u001b[0m line \u001b[0;36m1\n\u001b[1;32m----> <a href='vscode-notebook-cell:/d%3A/WorkSpace/98.project2/Datacollection/1201_%EC%98%A4%EC%A1%B4%EB%AF%B8%EB%9E%98%EC%98%88%EC%B8%A1.ipynb#X54sZmlsZQ%3D%3D?line=0'>1</a>\u001b[0m ddddddddddddddddddddddddddddddd\n",
      "\u001b[1;31mNameError\u001b[0m: name 'ddddddddddddddddddddddddddddddd' is not defined"
     ]
    }
   ],
   "source": [
    "ddddddddddddddddddddddddddddddd"
   ]
  },
  {
   "cell_type": "code",
   "execution_count": null,
   "metadata": {},
   "outputs": [
    {
     "name": "stdout",
     "output_type": "stream",
     "text": [
      "Epoch 1/50\n",
      "227/227 [==============================] - 14s 35ms/step - loss: 1.0171 - val_loss: 1.0777\n",
      "Epoch 2/50\n",
      "227/227 [==============================] - 7s 29ms/step - loss: 1.0057 - val_loss: 1.0774\n",
      "Epoch 3/50\n",
      "227/227 [==============================] - 7s 29ms/step - loss: 1.0045 - val_loss: 1.0803\n",
      "Epoch 4/50\n",
      "227/227 [==============================] - 7s 30ms/step - loss: 1.0043 - val_loss: 1.0779\n",
      "Epoch 5/50\n",
      "227/227 [==============================] - 7s 31ms/step - loss: 1.0039 - val_loss: 1.0851\n",
      "Epoch 6/50\n",
      "227/227 [==============================] - 7s 30ms/step - loss: 1.0045 - val_loss: 1.0762\n",
      "Epoch 7/50\n",
      "227/227 [==============================] - 7s 30ms/step - loss: 1.0042 - val_loss: 1.0894\n",
      "Epoch 8/50\n",
      "227/227 [==============================] - 7s 29ms/step - loss: 1.0032 - val_loss: 1.1082\n",
      "Epoch 9/50\n",
      "227/227 [==============================] - 7s 30ms/step - loss: 1.0062 - val_loss: 1.0900\n",
      "Epoch 10/50\n",
      "227/227 [==============================] - 7s 32ms/step - loss: 1.0037 - val_loss: 1.0770\n",
      "Epoch 11/50\n",
      "227/227 [==============================] - 7s 29ms/step - loss: 1.0026 - val_loss: 1.1026\n",
      "Epoch 12/50\n",
      "227/227 [==============================] - 7s 29ms/step - loss: 1.0047 - val_loss: 1.0866\n",
      "Epoch 13/50\n",
      "227/227 [==============================] - 7s 31ms/step - loss: 1.0042 - val_loss: 1.0929\n",
      "Epoch 14/50\n",
      "227/227 [==============================] - 7s 29ms/step - loss: 1.0037 - val_loss: 1.0792\n",
      "Epoch 15/50\n",
      "227/227 [==============================] - 7s 29ms/step - loss: 1.0038 - val_loss: 1.0902\n",
      "Epoch 16/50\n",
      "227/227 [==============================] - 7s 29ms/step - loss: 1.0149 - val_loss: 1.0907\n",
      "Epoch 17/50\n",
      "227/227 [==============================] - 7s 29ms/step - loss: 1.0049 - val_loss: 1.0988\n",
      "Epoch 18/50\n",
      "227/227 [==============================] - 7s 30ms/step - loss: 1.0061 - val_loss: 1.0785\n",
      "Epoch 19/50\n",
      "227/227 [==============================] - 7s 30ms/step - loss: 1.0049 - val_loss: 1.0913\n",
      "Epoch 20/50\n",
      "227/227 [==============================] - 7s 30ms/step - loss: 1.0046 - val_loss: 1.0789\n",
      "Epoch 21/50\n",
      "227/227 [==============================] - 7s 31ms/step - loss: 1.0045 - val_loss: 1.0765\n",
      "Epoch 22/50\n",
      "227/227 [==============================] - 7s 31ms/step - loss: 1.0051 - val_loss: 1.0844\n",
      "Epoch 23/50\n",
      "227/227 [==============================] - 7s 30ms/step - loss: 1.0044 - val_loss: 1.0866\n",
      "Epoch 24/50\n",
      "227/227 [==============================] - 7s 29ms/step - loss: 1.0045 - val_loss: 1.0880\n",
      "Epoch 25/50\n",
      "227/227 [==============================] - 7s 29ms/step - loss: 1.0047 - val_loss: 1.0739\n",
      "Epoch 26/50\n",
      "227/227 [==============================] - 7s 29ms/step - loss: 1.0055 - val_loss: 1.0819\n",
      "Epoch 27/50\n",
      "227/227 [==============================] - 7s 29ms/step - loss: 1.0050 - val_loss: 1.0830\n",
      "Epoch 28/50\n",
      "227/227 [==============================] - 6s 28ms/step - loss: 1.0036 - val_loss: 1.0833\n",
      "Epoch 29/50\n",
      "227/227 [==============================] - 7s 29ms/step - loss: 1.0043 - val_loss: 1.0825\n",
      "Epoch 30/50\n",
      "227/227 [==============================] - 7s 30ms/step - loss: 1.0042 - val_loss: 1.0899\n",
      "Epoch 31/50\n",
      "227/227 [==============================] - 7s 29ms/step - loss: 1.0038 - val_loss: 1.0742\n",
      "Epoch 32/50\n",
      "227/227 [==============================] - 7s 30ms/step - loss: 1.0036 - val_loss: 1.0886\n",
      "Epoch 33/50\n",
      "227/227 [==============================] - 7s 30ms/step - loss: 1.0039 - val_loss: 1.0819\n",
      "Epoch 34/50\n",
      "227/227 [==============================] - 7s 29ms/step - loss: 1.0043 - val_loss: 1.0809\n",
      "Epoch 35/50\n",
      "227/227 [==============================] - 7s 29ms/step - loss: 1.0044 - val_loss: 1.0851\n",
      "Epoch 36/50\n",
      "227/227 [==============================] - 7s 31ms/step - loss: 1.0041 - val_loss: 1.0827\n",
      "Epoch 37/50\n",
      "227/227 [==============================] - 7s 31ms/step - loss: 1.0061 - val_loss: 1.0813\n",
      "Epoch 38/50\n",
      "227/227 [==============================] - 7s 30ms/step - loss: 1.0041 - val_loss: 1.0900\n",
      "Epoch 39/50\n",
      "227/227 [==============================] - 7s 30ms/step - loss: 1.0039 - val_loss: 1.0724\n",
      "Epoch 40/50\n",
      "227/227 [==============================] - 7s 29ms/step - loss: 1.0045 - val_loss: 1.0826\n",
      "Epoch 41/50\n",
      "227/227 [==============================] - 7s 30ms/step - loss: 1.0044 - val_loss: 1.0755\n",
      "Epoch 42/50\n",
      "227/227 [==============================] - 7s 30ms/step - loss: 1.0063 - val_loss: 1.0942\n",
      "Epoch 43/50\n",
      "227/227 [==============================] - 7s 29ms/step - loss: 1.0046 - val_loss: 1.0821\n",
      "Epoch 44/50\n",
      "227/227 [==============================] - 7s 30ms/step - loss: 1.0033 - val_loss: 1.0894\n",
      "Epoch 45/50\n",
      "227/227 [==============================] - 7s 29ms/step - loss: 1.0039 - val_loss: 1.0756\n",
      "Epoch 46/50\n",
      "227/227 [==============================] - 7s 30ms/step - loss: 1.0042 - val_loss: 1.0805\n",
      "Epoch 47/50\n",
      "227/227 [==============================] - 7s 31ms/step - loss: 1.0037 - val_loss: 1.0806\n",
      "Epoch 48/50\n",
      "227/227 [==============================] - 7s 31ms/step - loss: 1.0027 - val_loss: 1.0776\n",
      "Epoch 49/50\n",
      "227/227 [==============================] - 7s 29ms/step - loss: 1.0038 - val_loss: 1.0826\n",
      "Epoch 50/50\n",
      "227/227 [==============================] - 7s 30ms/step - loss: 1.0022 - val_loss: 1.0771\n",
      "29/29 [==============================] - 2s 16ms/step\n"
     ]
    }
   ],
   "source": [
    "import numpy as np\n",
    "import pandas as pd\n",
    "from sklearn.preprocessing import StandardScaler\n",
    "from sklearn.model_selection import train_test_split\n",
    "from tensorflow.keras.models import Sequential\n",
    "from tensorflow.keras.layers import LSTM, Dense\n",
    "from tensorflow.keras.optimizers import Adam\n",
    "\n",
    "# 데이터셋 준비\n",
    "X = df_feature.values\n",
    "y = df_target.values\n",
    "\n",
    "# 데이터 정규화\n",
    "scaler_X = StandardScaler()\n",
    "scaler_y = StandardScaler()\n",
    "X_scaled = scaler_X.fit_transform(X)\n",
    "y_scaled = scaler_y.fit_transform(y.reshape(-1, 1))\n",
    "\n",
    "# 데이터셋 분할\n",
    "X_train, X_test, y_train, y_test = train_test_split(X_scaled, y_scaled, test_size=0.2, random_state=2023)\n",
    "\n",
    "# 데이터셋 재구성\n",
    "seq_len = 30\n",
    "input_dim = X_train.shape[1]\n",
    "\n",
    "trainX, trainY = [], []\n",
    "testX, testY = [], []\n",
    "\n",
    "for i in range(seq_len, len(X_train)):\n",
    "    trainX.append(X_train[i-seq_len:i, :])\n",
    "    trainY.append(y_train[i, 0])\n",
    "\n",
    "for i in range(seq_len, len(X_test)):\n",
    "    testX.append(X_test[i-seq_len:i, :])\n",
    "    testY.append(y_test[i, 0])\n",
    "\n",
    "trainX, trainY = np.array(trainX), np.array(trainY)\n",
    "testX, testY = np.array(testX), np.array(testY)\n",
    "\n",
    "# LSTM 모델 구성\n",
    "model = Sequential()\n",
    "model.add(LSTM(128, input_shape=(seq_len, input_dim), return_sequences=True))\n",
    "model.add(LSTM(64, return_sequences=False))\n",
    "model.add(Dense(1))\n",
    "\n",
    "# 모델 컴파일 및 학습\n",
    "model.compile(optimizer=Adam(learning_rate=0.01), loss='mse')\n",
    "model.fit(trainX, trainY, epochs=50, batch_size=15, validation_split=0.1, verbose=1)\n",
    "\n",
    "# 예측 및 역변환\n",
    "prediction = model.predict(testX)\n",
    "prediction_transformed = scaler_y.inverse_transform(prediction)\n",
    "\n",
    "testY_transformed = scaler_y.inverse_transform(testY.reshape(-1, 1))\n"
   ]
  },
  {
   "cell_type": "code",
   "execution_count": null,
   "metadata": {},
   "outputs": [
    {
     "name": "stdout",
     "output_type": "stream",
     "text": [
      "R-squared (Coefficient of Determination): -0.0005972210555156288\n"
     ]
    }
   ],
   "source": [
    "from sklearn.metrics import r2_score\n",
    "\n",
    "# R² 값 계산\n",
    "r_squared = r2_score(testY_transformed, prediction_transformed)\n",
    "\n",
    "print(\"R-squared (Coefficient of Determination):\", r_squared)"
   ]
  },
  {
   "cell_type": "code",
   "execution_count": null,
   "metadata": {},
   "outputs": [
    {
     "ename": "NameError",
     "evalue": "name 'dsdddddddddddddddd' is not defined",
     "output_type": "error",
     "traceback": [
      "\u001b[1;31m---------------------------------------------------------------------------\u001b[0m",
      "\u001b[1;31mNameError\u001b[0m                                 Traceback (most recent call last)",
      "\u001b[1;32md:\\WorkSpace\\98.project2\\Datacollection\\1201_오존미래예측.ipynb 셀 36\u001b[0m line \u001b[0;36m1\n\u001b[1;32m----> <a href='vscode-notebook-cell:/d%3A/WorkSpace/98.project2/Datacollection/1201_%EC%98%A4%EC%A1%B4%EB%AF%B8%EB%9E%98%EC%98%88%EC%B8%A1.ipynb#X50sZmlsZQ%3D%3D?line=0'>1</a>\u001b[0m dsdddddddddddddddd\n",
      "\u001b[1;31mNameError\u001b[0m: name 'dsdddddddddddddddd' is not defined"
     ]
    }
   ],
   "source": [
    "dsdddddddddddddddd"
   ]
  },
  {
   "cell_type": "code",
   "execution_count": null,
   "metadata": {},
   "outputs": [],
   "source": [
    "# 내일의 특성 데이터 준비 (예시 데이터)\n",
    "# 이 부분은 실제로 내일의 데이터로 채워야 합니다.\n",
    "tomorrow_features = {\n",
    "    '이산화질소': [값1],\n",
    "    '일산화탄소': [값2],\n",
    "    '아황산': [값3],\n",
    "    '미세': [값4],\n",
    "    '평균기온': [값5],\n",
    "    '최고기온': [값6],\n",
    "    '최저기온': [값7],\n",
    "    '일교차': [값8]\n",
    "}\n",
    "\n",
    "# DataFrame으로 변환\n",
    "tomorrow_df = pd.DataFrame(tomorrow_features)\n",
    "\n",
    "# 모델을 사용하여 내일의 오존값 예측\n",
    "predicted_ozone = rfr.predict(tomorrow_df)\n",
    "\n",
    "# 예측된 오존값 출력\n",
    "print(f\"예측된 내일의 오존값: {predicted_ozone[0]}\")"
   ]
  }
 ],
 "metadata": {
  "kernelspec": {
   "display_name": "base",
   "language": "python",
   "name": "python3"
  },
  "language_info": {
   "codemirror_mode": {
    "name": "ipython",
    "version": 3
   },
   "file_extension": ".py",
   "mimetype": "text/x-python",
   "name": "python",
   "nbconvert_exporter": "python",
   "pygments_lexer": "ipython3",
   "version": "3.11.4"
  }
 },
 "nbformat": 4,
 "nbformat_minor": 2
}
