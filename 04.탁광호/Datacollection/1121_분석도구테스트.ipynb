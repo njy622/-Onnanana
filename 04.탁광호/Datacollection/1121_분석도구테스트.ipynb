{
 "cells": [
  {
   "cell_type": "code",
   "execution_count": 2,
   "metadata": {},
   "outputs": [],
   "source": [
    "import pandas as pd"
   ]
  },
  {
   "cell_type": "code",
   "execution_count": 3,
   "metadata": {},
   "outputs": [],
   "source": [
    "df = pd.read_csv('data/미세먼지_PM2.5__월별_도시별_대기오염도_20231116153601.csv', encoding='ansi')"
   ]
  },
  {
   "cell_type": "code",
   "execution_count": 4,
   "metadata": {},
   "outputs": [
    {
     "data": {
      "text/html": [
       "<div>\n",
       "<style scoped>\n",
       "    .dataframe tbody tr th:only-of-type {\n",
       "        vertical-align: middle;\n",
       "    }\n",
       "\n",
       "    .dataframe tbody tr th {\n",
       "        vertical-align: top;\n",
       "    }\n",
       "\n",
       "    .dataframe thead th {\n",
       "        text-align: right;\n",
       "    }\n",
       "</style>\n",
       "<table border=\"1\" class=\"dataframe\">\n",
       "  <thead>\n",
       "    <tr style=\"text-align: right;\">\n",
       "      <th></th>\n",
       "      <th>구분(1)</th>\n",
       "      <th>구분(2)</th>\n",
       "      <th>2015.01</th>\n",
       "      <th>2015.02</th>\n",
       "      <th>2015.03</th>\n",
       "      <th>2015.04</th>\n",
       "      <th>2015.05</th>\n",
       "      <th>2015.06</th>\n",
       "      <th>2015.07</th>\n",
       "      <th>2015.08</th>\n",
       "      <th>...</th>\n",
       "      <th>2022.05</th>\n",
       "      <th>2022.06</th>\n",
       "      <th>2022.07</th>\n",
       "      <th>2022.08</th>\n",
       "      <th>2022.09</th>\n",
       "      <th>2022.10</th>\n",
       "      <th>2022.11</th>\n",
       "      <th>2022.12</th>\n",
       "      <th>2023.01</th>\n",
       "      <th>2023.02</th>\n",
       "    </tr>\n",
       "  </thead>\n",
       "  <tbody>\n",
       "    <tr>\n",
       "      <th>0</th>\n",
       "      <td>총계</td>\n",
       "      <td>소계</td>\n",
       "      <td>28</td>\n",
       "      <td>32</td>\n",
       "      <td>30</td>\n",
       "      <td>24</td>\n",
       "      <td>26</td>\n",
       "      <td>26</td>\n",
       "      <td>21</td>\n",
       "      <td>23</td>\n",
       "      <td>...</td>\n",
       "      <td>17</td>\n",
       "      <td>12</td>\n",
       "      <td>13</td>\n",
       "      <td>10</td>\n",
       "      <td>11</td>\n",
       "      <td>14</td>\n",
       "      <td>23</td>\n",
       "      <td>20</td>\n",
       "      <td>24</td>\n",
       "      <td>28</td>\n",
       "    </tr>\n",
       "    <tr>\n",
       "      <th>1</th>\n",
       "      <td>서울특별시</td>\n",
       "      <td>서울특별시</td>\n",
       "      <td>25</td>\n",
       "      <td>30</td>\n",
       "      <td>30</td>\n",
       "      <td>21</td>\n",
       "      <td>22</td>\n",
       "      <td>20</td>\n",
       "      <td>19</td>\n",
       "      <td>22</td>\n",
       "      <td>...</td>\n",
       "      <td>17</td>\n",
       "      <td>12</td>\n",
       "      <td>16</td>\n",
       "      <td>11</td>\n",
       "      <td>11</td>\n",
       "      <td>14</td>\n",
       "      <td>22</td>\n",
       "      <td>19</td>\n",
       "      <td>26</td>\n",
       "      <td>30</td>\n",
       "    </tr>\n",
       "    <tr>\n",
       "      <th>2</th>\n",
       "      <td>부산광역시</td>\n",
       "      <td>부산광역시</td>\n",
       "      <td>27</td>\n",
       "      <td>31</td>\n",
       "      <td>27</td>\n",
       "      <td>24</td>\n",
       "      <td>31</td>\n",
       "      <td>30</td>\n",
       "      <td>21</td>\n",
       "      <td>23</td>\n",
       "      <td>...</td>\n",
       "      <td>17</td>\n",
       "      <td>10</td>\n",
       "      <td>12</td>\n",
       "      <td>10</td>\n",
       "      <td>10</td>\n",
       "      <td>11</td>\n",
       "      <td>19</td>\n",
       "      <td>18</td>\n",
       "      <td>21</td>\n",
       "      <td>22</td>\n",
       "    </tr>\n",
       "  </tbody>\n",
       "</table>\n",
       "<p>3 rows × 100 columns</p>\n",
       "</div>"
      ],
      "text/plain": [
       "   구분(1)  구분(2) 2015.01 2015.02 2015.03 2015.04 2015.05 2015.06 2015.07  \\\n",
       "0     총계     소계      28      32      30      24      26      26      21   \n",
       "1  서울특별시  서울특별시      25      30      30      21      22      20      19   \n",
       "2  부산광역시  부산광역시      27      31      27      24      31      30      21   \n",
       "\n",
       "  2015.08  ... 2022.05 2022.06 2022.07 2022.08 2022.09 2022.10 2022.11  \\\n",
       "0      23  ...      17      12      13      10      11      14      23   \n",
       "1      22  ...      17      12      16      11      11      14      22   \n",
       "2      23  ...      17      10      12      10      10      11      19   \n",
       "\n",
       "  2022.12 2023.01 2023.02  \n",
       "0      20      24      28  \n",
       "1      19      26      30  \n",
       "2      18      21      22  \n",
       "\n",
       "[3 rows x 100 columns]"
      ]
     },
     "execution_count": 4,
     "metadata": {},
     "output_type": "execute_result"
    }
   ],
   "source": [
    "df.head(3)"
   ]
  },
  {
   "cell_type": "code",
   "execution_count": 5,
   "metadata": {},
   "outputs": [],
   "source": [
    "long_df = df.melt(id_vars=['구분(1)', '구분(2)'], \n",
    "                  var_name='STD_YYYYMM', \n",
    "                  value_name='PM2.5')\n",
    "\n",
    "\n",
    "\n",
    "# '구분(2)' 열을 'SIDO'로 이름 변경\n",
    "long_df.rename(columns={'구분(1)': 'SIDO'}, inplace=True)"
   ]
  },
  {
   "cell_type": "code",
   "execution_count": 6,
   "metadata": {},
   "outputs": [],
   "source": [
    "long_df.to_csv('data/2.5테스트.csv', index=False)"
   ]
  },
  {
   "cell_type": "code",
   "execution_count": 7,
   "metadata": {},
   "outputs": [
    {
     "name": "stdout",
     "output_type": "stream",
     "text": [
      "object\n"
     ]
    }
   ],
   "source": [
    "# 'PM2.5' 열의 데이터 타입 확인\n",
    "print(long_df['PM2.5'].dtypes)\n"
   ]
  },
  {
   "cell_type": "code",
   "execution_count": 8,
   "metadata": {},
   "outputs": [],
   "source": [
    "# 'PM2.5' 열을 수치형 데이터로 변환\n",
    "# 숫자로 변환할 수 없는 값은 NaN으로 변환됩니다.\n",
    "long_df['PM2.5'] = pd.to_numeric(long_df['PM2.5'], errors='coerce')"
   ]
  },
  {
   "cell_type": "code",
   "execution_count": 9,
   "metadata": {},
   "outputs": [],
   "source": [
    "long_df['AVG_PM2.5'] = long_df.groupby(['SIDO', 'STD_YYYYMM'])['PM2.5'].transform('mean')"
   ]
  },
  {
   "cell_type": "code",
   "execution_count": 10,
   "metadata": {},
   "outputs": [],
   "source": [
    "# 'AVG_PM2.5' 열을 소수점 두 자리까지 반올림\n",
    "long_df['AVG_PM2.5'] = long_df['AVG_PM2.5'].round(2)"
   ]
  },
  {
   "cell_type": "code",
   "execution_count": 11,
   "metadata": {},
   "outputs": [
    {
     "data": {
      "text/html": [
       "<div>\n",
       "<style scoped>\n",
       "    .dataframe tbody tr th:only-of-type {\n",
       "        vertical-align: middle;\n",
       "    }\n",
       "\n",
       "    .dataframe tbody tr th {\n",
       "        vertical-align: top;\n",
       "    }\n",
       "\n",
       "    .dataframe thead th {\n",
       "        text-align: right;\n",
       "    }\n",
       "</style>\n",
       "<table border=\"1\" class=\"dataframe\">\n",
       "  <thead>\n",
       "    <tr style=\"text-align: right;\">\n",
       "      <th></th>\n",
       "      <th>SIDO</th>\n",
       "      <th>구분(2)</th>\n",
       "      <th>STD_YYYYMM</th>\n",
       "      <th>PM2.5</th>\n",
       "      <th>AVG_PM2.5</th>\n",
       "    </tr>\n",
       "  </thead>\n",
       "  <tbody>\n",
       "    <tr>\n",
       "      <th>16851</th>\n",
       "      <td>경상남도</td>\n",
       "      <td>합천</td>\n",
       "      <td>2023.02</td>\n",
       "      <td>22.0</td>\n",
       "      <td>21.05</td>\n",
       "    </tr>\n",
       "    <tr>\n",
       "      <th>16852</th>\n",
       "      <td>경상남도</td>\n",
       "      <td>도평균</td>\n",
       "      <td>2023.02</td>\n",
       "      <td>21.0</td>\n",
       "      <td>21.05</td>\n",
       "    </tr>\n",
       "    <tr>\n",
       "      <th>16853</th>\n",
       "      <td>제주특별자치도</td>\n",
       "      <td>제주</td>\n",
       "      <td>2023.02</td>\n",
       "      <td>17.0</td>\n",
       "      <td>15.00</td>\n",
       "    </tr>\n",
       "    <tr>\n",
       "      <th>16854</th>\n",
       "      <td>제주특별자치도</td>\n",
       "      <td>서귀포</td>\n",
       "      <td>2023.02</td>\n",
       "      <td>13.0</td>\n",
       "      <td>15.00</td>\n",
       "    </tr>\n",
       "    <tr>\n",
       "      <th>16855</th>\n",
       "      <td>제주특별자치도</td>\n",
       "      <td>도평균</td>\n",
       "      <td>2023.02</td>\n",
       "      <td>15.0</td>\n",
       "      <td>15.00</td>\n",
       "    </tr>\n",
       "  </tbody>\n",
       "</table>\n",
       "</div>"
      ],
      "text/plain": [
       "          SIDO 구분(2) STD_YYYYMM  PM2.5  AVG_PM2.5\n",
       "16851     경상남도    합천    2023.02   22.0      21.05\n",
       "16852     경상남도   도평균    2023.02   21.0      21.05\n",
       "16853  제주특별자치도    제주    2023.02   17.0      15.00\n",
       "16854  제주특별자치도   서귀포    2023.02   13.0      15.00\n",
       "16855  제주특별자치도   도평균    2023.02   15.0      15.00"
      ]
     },
     "execution_count": 11,
     "metadata": {},
     "output_type": "execute_result"
    }
   ],
   "source": [
    "long_df.tail()"
   ]
  },
  {
   "cell_type": "code",
   "execution_count": 12,
   "metadata": {},
   "outputs": [],
   "source": [
    "df3 = long_df.drop_duplicates(subset=['SIDO', 'STD_YYYYMM', 'AVG_PM2.5'])\n",
    "# SIDO와 STD_YYYYMM 열을 기준으로 중복을 제거\n",
    "# 중복된 데이터를 제거하면 데이터가 정렬됨 "
   ]
  },
  {
   "cell_type": "code",
   "execution_count": 13,
   "metadata": {},
   "outputs": [],
   "source": [
    "df3.reset_index(drop=True, inplace=True)\n",
    "# 데이터정렬후 리셋인덱스"
   ]
  },
  {
   "cell_type": "code",
   "execution_count": 14,
   "metadata": {},
   "outputs": [
    {
     "data": {
      "text/html": [
       "<div>\n",
       "<style scoped>\n",
       "    .dataframe tbody tr th:only-of-type {\n",
       "        vertical-align: middle;\n",
       "    }\n",
       "\n",
       "    .dataframe tbody tr th {\n",
       "        vertical-align: top;\n",
       "    }\n",
       "\n",
       "    .dataframe thead th {\n",
       "        text-align: right;\n",
       "    }\n",
       "</style>\n",
       "<table border=\"1\" class=\"dataframe\">\n",
       "  <thead>\n",
       "    <tr style=\"text-align: right;\">\n",
       "      <th></th>\n",
       "      <th>SIDO</th>\n",
       "      <th>구분(2)</th>\n",
       "      <th>STD_YYYYMM</th>\n",
       "      <th>PM2.5</th>\n",
       "      <th>AVG_PM2.5</th>\n",
       "    </tr>\n",
       "  </thead>\n",
       "  <tbody>\n",
       "    <tr>\n",
       "      <th>0</th>\n",
       "      <td>총계</td>\n",
       "      <td>소계</td>\n",
       "      <td>2015.01</td>\n",
       "      <td>28.0</td>\n",
       "      <td>28.0</td>\n",
       "    </tr>\n",
       "    <tr>\n",
       "      <th>1</th>\n",
       "      <td>서울특별시</td>\n",
       "      <td>서울특별시</td>\n",
       "      <td>2015.01</td>\n",
       "      <td>25.0</td>\n",
       "      <td>25.0</td>\n",
       "    </tr>\n",
       "    <tr>\n",
       "      <th>2</th>\n",
       "      <td>부산광역시</td>\n",
       "      <td>부산광역시</td>\n",
       "      <td>2015.01</td>\n",
       "      <td>27.0</td>\n",
       "      <td>27.0</td>\n",
       "    </tr>\n",
       "    <tr>\n",
       "      <th>3</th>\n",
       "      <td>대구광역시</td>\n",
       "      <td>대구광역시</td>\n",
       "      <td>2015.01</td>\n",
       "      <td>33.0</td>\n",
       "      <td>33.0</td>\n",
       "    </tr>\n",
       "    <tr>\n",
       "      <th>4</th>\n",
       "      <td>인천광역시</td>\n",
       "      <td>인천광역시</td>\n",
       "      <td>2015.01</td>\n",
       "      <td>31.0</td>\n",
       "      <td>31.0</td>\n",
       "    </tr>\n",
       "  </tbody>\n",
       "</table>\n",
       "</div>"
      ],
      "text/plain": [
       "    SIDO  구분(2) STD_YYYYMM  PM2.5  AVG_PM2.5\n",
       "0     총계     소계    2015.01   28.0       28.0\n",
       "1  서울특별시  서울특별시    2015.01   25.0       25.0\n",
       "2  부산광역시  부산광역시    2015.01   27.0       27.0\n",
       "3  대구광역시  대구광역시    2015.01   33.0       33.0\n",
       "4  인천광역시  인천광역시    2015.01   31.0       31.0"
      ]
     },
     "execution_count": 14,
     "metadata": {},
     "output_type": "execute_result"
    }
   ],
   "source": [
    "df3.head()"
   ]
  },
  {
   "cell_type": "code",
   "execution_count": 15,
   "metadata": {},
   "outputs": [
    {
     "name": "stderr",
     "output_type": "stream",
     "text": [
      "C:\\Users\\th\\AppData\\Local\\Temp\\ipykernel_19768\\2030618435.py:2: SettingWithCopyWarning: \n",
      "A value is trying to be set on a copy of a slice from a DataFrame\n",
      "\n",
      "See the caveats in the documentation: https://pandas.pydata.org/pandas-docs/stable/user_guide/indexing.html#returning-a-view-versus-a-copy\n",
      "  df3.drop('구분(2)', axis=1, inplace=True)\n"
     ]
    }
   ],
   "source": [
    "# '구분(2)' 열 삭제\n",
    "df3.drop('구분(2)', axis=1, inplace=True)"
   ]
  },
  {
   "cell_type": "code",
   "execution_count": 16,
   "metadata": {},
   "outputs": [
    {
     "name": "stderr",
     "output_type": "stream",
     "text": [
      "C:\\Users\\th\\AppData\\Local\\Temp\\ipykernel_19768\\1379717036.py:2: SettingWithCopyWarning: \n",
      "A value is trying to be set on a copy of a slice from a DataFrame\n",
      "\n",
      "See the caveats in the documentation: https://pandas.pydata.org/pandas-docs/stable/user_guide/indexing.html#returning-a-view-versus-a-copy\n",
      "  df3.drop('PM2.5', axis=1, inplace=True)\n"
     ]
    }
   ],
   "source": [
    "# 'PM2.5' 열 삭제\n",
    "df3.drop('PM2.5', axis=1, inplace=True)"
   ]
  },
  {
   "cell_type": "code",
   "execution_count": 17,
   "metadata": {},
   "outputs": [],
   "source": [
    "# 'SIDO' 열의 값이 '총계'인 행 제거\n",
    "df3 = df3[df3['SIDO'] != '총계']"
   ]
  },
  {
   "cell_type": "code",
   "execution_count": 18,
   "metadata": {},
   "outputs": [
    {
     "data": {
      "text/html": [
       "<div>\n",
       "<style scoped>\n",
       "    .dataframe tbody tr th:only-of-type {\n",
       "        vertical-align: middle;\n",
       "    }\n",
       "\n",
       "    .dataframe tbody tr th {\n",
       "        vertical-align: top;\n",
       "    }\n",
       "\n",
       "    .dataframe thead th {\n",
       "        text-align: right;\n",
       "    }\n",
       "</style>\n",
       "<table border=\"1\" class=\"dataframe\">\n",
       "  <thead>\n",
       "    <tr style=\"text-align: right;\">\n",
       "      <th></th>\n",
       "      <th>SIDO</th>\n",
       "      <th>STD_YYYYMM</th>\n",
       "      <th>AVG_PM2.5</th>\n",
       "    </tr>\n",
       "  </thead>\n",
       "  <tbody>\n",
       "    <tr>\n",
       "      <th>1759</th>\n",
       "      <td>전라북도</td>\n",
       "      <td>2023.02</td>\n",
       "      <td>30.93</td>\n",
       "    </tr>\n",
       "    <tr>\n",
       "      <th>1760</th>\n",
       "      <td>전라남도</td>\n",
       "      <td>2023.02</td>\n",
       "      <td>20.57</td>\n",
       "    </tr>\n",
       "    <tr>\n",
       "      <th>1761</th>\n",
       "      <td>경상북도</td>\n",
       "      <td>2023.02</td>\n",
       "      <td>24.04</td>\n",
       "    </tr>\n",
       "    <tr>\n",
       "      <th>1762</th>\n",
       "      <td>경상남도</td>\n",
       "      <td>2023.02</td>\n",
       "      <td>21.05</td>\n",
       "    </tr>\n",
       "    <tr>\n",
       "      <th>1763</th>\n",
       "      <td>제주특별자치도</td>\n",
       "      <td>2023.02</td>\n",
       "      <td>15.00</td>\n",
       "    </tr>\n",
       "  </tbody>\n",
       "</table>\n",
       "</div>"
      ],
      "text/plain": [
       "         SIDO STD_YYYYMM  AVG_PM2.5\n",
       "1759     전라북도    2023.02      30.93\n",
       "1760     전라남도    2023.02      20.57\n",
       "1761     경상북도    2023.02      24.04\n",
       "1762     경상남도    2023.02      21.05\n",
       "1763  제주특별자치도    2023.02      15.00"
      ]
     },
     "execution_count": 18,
     "metadata": {},
     "output_type": "execute_result"
    }
   ],
   "source": [
    "df3.tail()"
   ]
  },
  {
   "cell_type": "code",
   "execution_count": 19,
   "metadata": {},
   "outputs": [
    {
     "name": "stdout",
     "output_type": "stream",
     "text": [
      "df3의 'STD_YYYYMM' 열의 데이터 타입: object\n"
     ]
    }
   ],
   "source": [
    "# df3의 'STD_YYYYMM' 열의 데이터 타입 확인\n",
    "dtype_df3 = df3['STD_YYYYMM'].dtype\n",
    "print(\"df3의 'STD_YYYYMM' 열의 데이터 타입:\", dtype_df3)"
   ]
  },
  {
   "cell_type": "code",
   "execution_count": 20,
   "metadata": {},
   "outputs": [
    {
     "name": "stdout",
     "output_type": "stream",
     "text": [
      "1    201501\n",
      "2    201501\n",
      "3    201501\n",
      "4    201501\n",
      "5    201501\n",
      "Name: STD_YYYYMM, dtype: int64\n",
      "int64\n"
     ]
    },
    {
     "name": "stderr",
     "output_type": "stream",
     "text": [
      "C:\\Users\\th\\AppData\\Local\\Temp\\ipykernel_19768\\936602652.py:1: FutureWarning: The default value of regex will change from True to False in a future version. In addition, single character regular expressions will *not* be treated as literal strings when regex=True.\n",
      "  df3['STD_YYYYMM'] = df3['STD_YYYYMM'].str.replace('.', '').astype('int64')\n"
     ]
    }
   ],
   "source": [
    "df3['STD_YYYYMM'] = df3['STD_YYYYMM'].str.replace('.', '').astype('int64')\n",
    "\n",
    "# 결과 확인\n",
    "print(df3['STD_YYYYMM'].head())\n",
    "print(df3['STD_YYYYMM'].dtype)"
   ]
  },
  {
   "cell_type": "code",
   "execution_count": 21,
   "metadata": {},
   "outputs": [],
   "source": [
    "df3.to_csv('data/2.5테스트.csv', index=False)"
   ]
  },
  {
   "cell_type": "code",
   "execution_count": 22,
   "metadata": {},
   "outputs": [],
   "source": [
    "df1 = pd.read_excel('data/국민건강보험공단_환경성질환(비염) 의료이용정보_20221231.xlsx')"
   ]
  },
  {
   "cell_type": "code",
   "execution_count": 23,
   "metadata": {},
   "outputs": [
    {
     "data": {
      "text/html": [
       "<div>\n",
       "<style scoped>\n",
       "    .dataframe tbody tr th:only-of-type {\n",
       "        vertical-align: middle;\n",
       "    }\n",
       "\n",
       "    .dataframe tbody tr th {\n",
       "        vertical-align: top;\n",
       "    }\n",
       "\n",
       "    .dataframe thead th {\n",
       "        text-align: right;\n",
       "    }\n",
       "</style>\n",
       "<table border=\"1\" class=\"dataframe\">\n",
       "  <thead>\n",
       "    <tr style=\"text-align: right;\">\n",
       "      <th></th>\n",
       "      <th>STD_YYYYMM</th>\n",
       "      <th>SIDO</th>\n",
       "      <th>SGG</th>\n",
       "      <th>GEN</th>\n",
       "      <th>AGG</th>\n",
       "      <th>CNT</th>\n",
       "    </tr>\n",
       "  </thead>\n",
       "  <tbody>\n",
       "    <tr>\n",
       "      <th>0</th>\n",
       "      <td>200601</td>\n",
       "      <td>11</td>\n",
       "      <td>11110</td>\n",
       "      <td>1</td>\n",
       "      <td>0</td>\n",
       "      <td>113</td>\n",
       "    </tr>\n",
       "    <tr>\n",
       "      <th>1</th>\n",
       "      <td>200601</td>\n",
       "      <td>11</td>\n",
       "      <td>11110</td>\n",
       "      <td>1</td>\n",
       "      <td>1</td>\n",
       "      <td>182</td>\n",
       "    </tr>\n",
       "    <tr>\n",
       "      <th>2</th>\n",
       "      <td>200601</td>\n",
       "      <td>11</td>\n",
       "      <td>11110</td>\n",
       "      <td>1</td>\n",
       "      <td>2</td>\n",
       "      <td>154</td>\n",
       "    </tr>\n",
       "  </tbody>\n",
       "</table>\n",
       "</div>"
      ],
      "text/plain": [
       "   STD_YYYYMM  SIDO    SGG  GEN  AGG  CNT\n",
       "0      200601    11  11110    1    0  113\n",
       "1      200601    11  11110    1    1  182\n",
       "2      200601    11  11110    1    2  154"
      ]
     },
     "execution_count": 23,
     "metadata": {},
     "output_type": "execute_result"
    }
   ],
   "source": [
    "df1.head(3)"
   ]
  },
  {
   "cell_type": "code",
   "execution_count": 24,
   "metadata": {},
   "outputs": [],
   "source": [
    "df1.drop('SGG', axis=1, inplace=True)"
   ]
  },
  {
   "cell_type": "code",
   "execution_count": 25,
   "metadata": {},
   "outputs": [
    {
     "data": {
      "text/html": [
       "<div>\n",
       "<style scoped>\n",
       "    .dataframe tbody tr th:only-of-type {\n",
       "        vertical-align: middle;\n",
       "    }\n",
       "\n",
       "    .dataframe tbody tr th {\n",
       "        vertical-align: top;\n",
       "    }\n",
       "\n",
       "    .dataframe thead th {\n",
       "        text-align: right;\n",
       "    }\n",
       "</style>\n",
       "<table border=\"1\" class=\"dataframe\">\n",
       "  <thead>\n",
       "    <tr style=\"text-align: right;\">\n",
       "      <th></th>\n",
       "      <th>STD_YYYYMM</th>\n",
       "      <th>SIDO</th>\n",
       "      <th>GEN</th>\n",
       "      <th>AGG</th>\n",
       "      <th>CNT</th>\n",
       "    </tr>\n",
       "  </thead>\n",
       "  <tbody>\n",
       "    <tr>\n",
       "      <th>0</th>\n",
       "      <td>200601</td>\n",
       "      <td>11</td>\n",
       "      <td>1</td>\n",
       "      <td>0</td>\n",
       "      <td>113</td>\n",
       "    </tr>\n",
       "    <tr>\n",
       "      <th>1</th>\n",
       "      <td>200601</td>\n",
       "      <td>11</td>\n",
       "      <td>1</td>\n",
       "      <td>1</td>\n",
       "      <td>182</td>\n",
       "    </tr>\n",
       "    <tr>\n",
       "      <th>2</th>\n",
       "      <td>200601</td>\n",
       "      <td>11</td>\n",
       "      <td>1</td>\n",
       "      <td>2</td>\n",
       "      <td>154</td>\n",
       "    </tr>\n",
       "    <tr>\n",
       "      <th>3</th>\n",
       "      <td>200601</td>\n",
       "      <td>11</td>\n",
       "      <td>1</td>\n",
       "      <td>3</td>\n",
       "      <td>600</td>\n",
       "    </tr>\n",
       "    <tr>\n",
       "      <th>4</th>\n",
       "      <td>200601</td>\n",
       "      <td>11</td>\n",
       "      <td>1</td>\n",
       "      <td>4</td>\n",
       "      <td>391</td>\n",
       "    </tr>\n",
       "  </tbody>\n",
       "</table>\n",
       "</div>"
      ],
      "text/plain": [
       "   STD_YYYYMM  SIDO  GEN  AGG  CNT\n",
       "0      200601    11    1    0  113\n",
       "1      200601    11    1    1  182\n",
       "2      200601    11    1    2  154\n",
       "3      200601    11    1    3  600\n",
       "4      200601    11    1    4  391"
      ]
     },
     "execution_count": 25,
     "metadata": {},
     "output_type": "execute_result"
    }
   ],
   "source": [
    "df1.head()"
   ]
  },
  {
   "cell_type": "code",
   "execution_count": 26,
   "metadata": {},
   "outputs": [],
   "source": [
    "# 'STD_YYYYMM'과 'SIDO'를 기준으로 그룹화하고, 'CNT'의 합계를 계산하여 'CNT_SUM' 열에 추가\n",
    "df1['CNT_SUM'] = df1.groupby(['STD_YYYYMM', 'SIDO'])['CNT'].transform('sum')\n",
    "# 날짜별과 시도를 기준으로 and로 해서 카운트수를 합침 \n"
   ]
  },
  {
   "cell_type": "code",
   "execution_count": 27,
   "metadata": {},
   "outputs": [
    {
     "data": {
      "text/html": [
       "<div>\n",
       "<style scoped>\n",
       "    .dataframe tbody tr th:only-of-type {\n",
       "        vertical-align: middle;\n",
       "    }\n",
       "\n",
       "    .dataframe tbody tr th {\n",
       "        vertical-align: top;\n",
       "    }\n",
       "\n",
       "    .dataframe thead th {\n",
       "        text-align: right;\n",
       "    }\n",
       "</style>\n",
       "<table border=\"1\" class=\"dataframe\">\n",
       "  <thead>\n",
       "    <tr style=\"text-align: right;\">\n",
       "      <th></th>\n",
       "      <th>STD_YYYYMM</th>\n",
       "      <th>SIDO</th>\n",
       "      <th>GEN</th>\n",
       "      <th>AGG</th>\n",
       "      <th>CNT</th>\n",
       "      <th>CNT_SUM</th>\n",
       "    </tr>\n",
       "  </thead>\n",
       "  <tbody>\n",
       "    <tr>\n",
       "      <th>611942</th>\n",
       "      <td>202212</td>\n",
       "      <td>50</td>\n",
       "      <td>2</td>\n",
       "      <td>1</td>\n",
       "      <td>611</td>\n",
       "      <td>33172</td>\n",
       "    </tr>\n",
       "    <tr>\n",
       "      <th>611943</th>\n",
       "      <td>202212</td>\n",
       "      <td>50</td>\n",
       "      <td>2</td>\n",
       "      <td>2</td>\n",
       "      <td>473</td>\n",
       "      <td>33172</td>\n",
       "    </tr>\n",
       "    <tr>\n",
       "      <th>611944</th>\n",
       "      <td>202212</td>\n",
       "      <td>50</td>\n",
       "      <td>2</td>\n",
       "      <td>3</td>\n",
       "      <td>1486</td>\n",
       "      <td>33172</td>\n",
       "    </tr>\n",
       "    <tr>\n",
       "      <th>611945</th>\n",
       "      <td>202212</td>\n",
       "      <td>50</td>\n",
       "      <td>2</td>\n",
       "      <td>4</td>\n",
       "      <td>1178</td>\n",
       "      <td>33172</td>\n",
       "    </tr>\n",
       "    <tr>\n",
       "      <th>611946</th>\n",
       "      <td>202212</td>\n",
       "      <td>50</td>\n",
       "      <td>2</td>\n",
       "      <td>5</td>\n",
       "      <td>750</td>\n",
       "      <td>33172</td>\n",
       "    </tr>\n",
       "  </tbody>\n",
       "</table>\n",
       "</div>"
      ],
      "text/plain": [
       "        STD_YYYYMM  SIDO  GEN  AGG   CNT  CNT_SUM\n",
       "611942      202212    50    2    1   611    33172\n",
       "611943      202212    50    2    2   473    33172\n",
       "611944      202212    50    2    3  1486    33172\n",
       "611945      202212    50    2    4  1178    33172\n",
       "611946      202212    50    2    5   750    33172"
      ]
     },
     "execution_count": 27,
     "metadata": {},
     "output_type": "execute_result"
    }
   ],
   "source": [
    "df1.tail()"
   ]
  },
  {
   "cell_type": "code",
   "execution_count": 28,
   "metadata": {},
   "outputs": [],
   "source": [
    "df1.to_csv('data/비염한번보기.csv', index= False)"
   ]
  },
  {
   "cell_type": "code",
   "execution_count": 29,
   "metadata": {},
   "outputs": [],
   "source": [
    "df2 = df1.drop_duplicates(subset=['SIDO', 'STD_YYYYMM', 'CNT_SUM'])\n",
    "# 시도와 날짜를 기준으로 카운트수를 합쳤기 때문에 \n",
    "# 중복된 데이터를 제거하면 데이터가 정렬됨 "
   ]
  },
  {
   "cell_type": "code",
   "execution_count": 30,
   "metadata": {},
   "outputs": [],
   "source": [
    "df2.reset_index(drop=True, inplace=True)\n",
    "# 데이터정렬후 리셋인덱스"
   ]
  },
  {
   "cell_type": "code",
   "execution_count": 31,
   "metadata": {},
   "outputs": [
    {
     "data": {
      "text/html": [
       "<div>\n",
       "<style scoped>\n",
       "    .dataframe tbody tr th:only-of-type {\n",
       "        vertical-align: middle;\n",
       "    }\n",
       "\n",
       "    .dataframe tbody tr th {\n",
       "        vertical-align: top;\n",
       "    }\n",
       "\n",
       "    .dataframe thead th {\n",
       "        text-align: right;\n",
       "    }\n",
       "</style>\n",
       "<table border=\"1\" class=\"dataframe\">\n",
       "  <thead>\n",
       "    <tr style=\"text-align: right;\">\n",
       "      <th></th>\n",
       "      <th>STD_YYYYMM</th>\n",
       "      <th>SIDO</th>\n",
       "      <th>GEN</th>\n",
       "      <th>AGG</th>\n",
       "      <th>CNT</th>\n",
       "      <th>CNT_SUM</th>\n",
       "    </tr>\n",
       "  </thead>\n",
       "  <tbody>\n",
       "    <tr>\n",
       "      <th>3463</th>\n",
       "      <td>202212</td>\n",
       "      <td>45</td>\n",
       "      <td>1</td>\n",
       "      <td>0</td>\n",
       "      <td>265</td>\n",
       "      <td>72773</td>\n",
       "    </tr>\n",
       "    <tr>\n",
       "      <th>3464</th>\n",
       "      <td>202212</td>\n",
       "      <td>46</td>\n",
       "      <td>1</td>\n",
       "      <td>0</td>\n",
       "      <td>175</td>\n",
       "      <td>77897</td>\n",
       "    </tr>\n",
       "    <tr>\n",
       "      <th>3465</th>\n",
       "      <td>202212</td>\n",
       "      <td>47</td>\n",
       "      <td>1</td>\n",
       "      <td>0</td>\n",
       "      <td>204</td>\n",
       "      <td>116227</td>\n",
       "    </tr>\n",
       "    <tr>\n",
       "      <th>3466</th>\n",
       "      <td>202212</td>\n",
       "      <td>48</td>\n",
       "      <td>1</td>\n",
       "      <td>0</td>\n",
       "      <td>265</td>\n",
       "      <td>172837</td>\n",
       "    </tr>\n",
       "    <tr>\n",
       "      <th>3467</th>\n",
       "      <td>202212</td>\n",
       "      <td>50</td>\n",
       "      <td>1</td>\n",
       "      <td>0</td>\n",
       "      <td>585</td>\n",
       "      <td>33172</td>\n",
       "    </tr>\n",
       "  </tbody>\n",
       "</table>\n",
       "</div>"
      ],
      "text/plain": [
       "      STD_YYYYMM  SIDO  GEN  AGG  CNT  CNT_SUM\n",
       "3463      202212    45    1    0  265    72773\n",
       "3464      202212    46    1    0  175    77897\n",
       "3465      202212    47    1    0  204   116227\n",
       "3466      202212    48    1    0  265   172837\n",
       "3467      202212    50    1    0  585    33172"
      ]
     },
     "execution_count": 31,
     "metadata": {},
     "output_type": "execute_result"
    }
   ],
   "source": [
    "df2.tail()"
   ]
  },
  {
   "cell_type": "code",
   "execution_count": 32,
   "metadata": {},
   "outputs": [],
   "source": [
    "df2.to_csv('data/비염test2.csv', index=False)"
   ]
  },
  {
   "cell_type": "code",
   "execution_count": 33,
   "metadata": {},
   "outputs": [],
   "source": [
    "sido_mapping = pd.DataFrame({\n",
    "    '시도코드': [11, 26, 27, 28, 29, 30, 31, 36, 41, 42, 43, 44, 45, 46, 47, 48, 50],\n",
    "    '시도명': ['서울특별시', '부산광역시', '대구광역시', '인천광역시', '광주광역시', '대전광역시', '울산광역시', '세종특별자치시', '경기도', '강원도', '충청북도', '충청남도', '전라북도', '전라남도', '경상북도', '경상남도', '제주특별자치도']\n",
    "})"
   ]
  },
  {
   "cell_type": "code",
   "execution_count": 34,
   "metadata": {},
   "outputs": [],
   "source": [
    "df2 = pd.merge(df2, sido_mapping, left_on='SIDO', right_on='시도코드')\n",
    "\n",
    "# 시도명으로 'SIDO' 열을 대체하고 불필요한 열 제거\n",
    "df2['SIDO'] = df2['시도명']\n",
    "df2.drop(['시도코드', '시도명'], axis=1, inplace=True)"
   ]
  },
  {
   "cell_type": "code",
   "execution_count": 35,
   "metadata": {},
   "outputs": [
    {
     "data": {
      "text/html": [
       "<div>\n",
       "<style scoped>\n",
       "    .dataframe tbody tr th:only-of-type {\n",
       "        vertical-align: middle;\n",
       "    }\n",
       "\n",
       "    .dataframe tbody tr th {\n",
       "        vertical-align: top;\n",
       "    }\n",
       "\n",
       "    .dataframe thead th {\n",
       "        text-align: right;\n",
       "    }\n",
       "</style>\n",
       "<table border=\"1\" class=\"dataframe\">\n",
       "  <thead>\n",
       "    <tr style=\"text-align: right;\">\n",
       "      <th></th>\n",
       "      <th>STD_YYYYMM</th>\n",
       "      <th>SIDO</th>\n",
       "      <th>GEN</th>\n",
       "      <th>AGG</th>\n",
       "      <th>CNT</th>\n",
       "      <th>CNT_SUM</th>\n",
       "    </tr>\n",
       "  </thead>\n",
       "  <tbody>\n",
       "    <tr>\n",
       "      <th>0</th>\n",
       "      <td>200601</td>\n",
       "      <td>서울특별시</td>\n",
       "      <td>1</td>\n",
       "      <td>0</td>\n",
       "      <td>113</td>\n",
       "      <td>234658</td>\n",
       "    </tr>\n",
       "    <tr>\n",
       "      <th>1</th>\n",
       "      <td>200602</td>\n",
       "      <td>서울특별시</td>\n",
       "      <td>1</td>\n",
       "      <td>0</td>\n",
       "      <td>142</td>\n",
       "      <td>190039</td>\n",
       "    </tr>\n",
       "    <tr>\n",
       "      <th>2</th>\n",
       "      <td>200603</td>\n",
       "      <td>서울특별시</td>\n",
       "      <td>1</td>\n",
       "      <td>0</td>\n",
       "      <td>240</td>\n",
       "      <td>281952</td>\n",
       "    </tr>\n",
       "    <tr>\n",
       "      <th>3</th>\n",
       "      <td>200604</td>\n",
       "      <td>서울특별시</td>\n",
       "      <td>1</td>\n",
       "      <td>0</td>\n",
       "      <td>192</td>\n",
       "      <td>270801</td>\n",
       "    </tr>\n",
       "    <tr>\n",
       "      <th>4</th>\n",
       "      <td>200605</td>\n",
       "      <td>서울특별시</td>\n",
       "      <td>1</td>\n",
       "      <td>0</td>\n",
       "      <td>175</td>\n",
       "      <td>223894</td>\n",
       "    </tr>\n",
       "  </tbody>\n",
       "</table>\n",
       "</div>"
      ],
      "text/plain": [
       "   STD_YYYYMM   SIDO  GEN  AGG  CNT  CNT_SUM\n",
       "0      200601  서울특별시    1    0  113   234658\n",
       "1      200602  서울특별시    1    0  142   190039\n",
       "2      200603  서울특별시    1    0  240   281952\n",
       "3      200604  서울특별시    1    0  192   270801\n",
       "4      200605  서울특별시    1    0  175   223894"
      ]
     },
     "execution_count": 35,
     "metadata": {},
     "output_type": "execute_result"
    }
   ],
   "source": [
    "df2.head()"
   ]
  },
  {
   "cell_type": "code",
   "execution_count": 36,
   "metadata": {},
   "outputs": [
    {
     "data": {
      "text/html": [
       "<div>\n",
       "<style scoped>\n",
       "    .dataframe tbody tr th:only-of-type {\n",
       "        vertical-align: middle;\n",
       "    }\n",
       "\n",
       "    .dataframe tbody tr th {\n",
       "        vertical-align: top;\n",
       "    }\n",
       "\n",
       "    .dataframe thead th {\n",
       "        text-align: right;\n",
       "    }\n",
       "</style>\n",
       "<table border=\"1\" class=\"dataframe\">\n",
       "  <thead>\n",
       "    <tr style=\"text-align: right;\">\n",
       "      <th></th>\n",
       "      <th>STD_YYYYMM</th>\n",
       "      <th>SIDO</th>\n",
       "      <th>GEN</th>\n",
       "      <th>AGG</th>\n",
       "      <th>CNT</th>\n",
       "      <th>CNT_SUM</th>\n",
       "    </tr>\n",
       "  </thead>\n",
       "  <tbody>\n",
       "    <tr>\n",
       "      <th>3463</th>\n",
       "      <td>202208</td>\n",
       "      <td>제주특별자치도</td>\n",
       "      <td>1</td>\n",
       "      <td>0</td>\n",
       "      <td>658</td>\n",
       "      <td>21942</td>\n",
       "    </tr>\n",
       "    <tr>\n",
       "      <th>3464</th>\n",
       "      <td>202209</td>\n",
       "      <td>제주특별자치도</td>\n",
       "      <td>1</td>\n",
       "      <td>0</td>\n",
       "      <td>973</td>\n",
       "      <td>22190</td>\n",
       "    </tr>\n",
       "    <tr>\n",
       "      <th>3465</th>\n",
       "      <td>202210</td>\n",
       "      <td>제주특별자치도</td>\n",
       "      <td>1</td>\n",
       "      <td>0</td>\n",
       "      <td>1162</td>\n",
       "      <td>32033</td>\n",
       "    </tr>\n",
       "    <tr>\n",
       "      <th>3466</th>\n",
       "      <td>202211</td>\n",
       "      <td>제주특별자치도</td>\n",
       "      <td>1</td>\n",
       "      <td>0</td>\n",
       "      <td>610</td>\n",
       "      <td>27187</td>\n",
       "    </tr>\n",
       "    <tr>\n",
       "      <th>3467</th>\n",
       "      <td>202212</td>\n",
       "      <td>제주특별자치도</td>\n",
       "      <td>1</td>\n",
       "      <td>0</td>\n",
       "      <td>585</td>\n",
       "      <td>33172</td>\n",
       "    </tr>\n",
       "  </tbody>\n",
       "</table>\n",
       "</div>"
      ],
      "text/plain": [
       "      STD_YYYYMM     SIDO  GEN  AGG   CNT  CNT_SUM\n",
       "3463      202208  제주특별자치도    1    0   658    21942\n",
       "3464      202209  제주특별자치도    1    0   973    22190\n",
       "3465      202210  제주특별자치도    1    0  1162    32033\n",
       "3466      202211  제주특별자치도    1    0   610    27187\n",
       "3467      202212  제주특별자치도    1    0   585    33172"
      ]
     },
     "execution_count": 36,
     "metadata": {},
     "output_type": "execute_result"
    }
   ],
   "source": [
    "df2.tail()"
   ]
  },
  {
   "cell_type": "code",
   "execution_count": 37,
   "metadata": {},
   "outputs": [
    {
     "data": {
      "text/plain": [
       "STD_YYYYMM    0\n",
       "SIDO          0\n",
       "GEN           0\n",
       "AGG           0\n",
       "CNT           0\n",
       "CNT_SUM       0\n",
       "dtype: int64"
      ]
     },
     "execution_count": 37,
     "metadata": {},
     "output_type": "execute_result"
    }
   ],
   "source": [
    "df2.isna().sum()"
   ]
  },
  {
   "cell_type": "code",
   "execution_count": 38,
   "metadata": {},
   "outputs": [
    {
     "name": "stdout",
     "output_type": "stream",
     "text": [
      "df2의 'STD_YYYYMM' 열의 데이터 타입: int64\n"
     ]
    }
   ],
   "source": [
    "# df2의 'STD_YYYYMM' 열의 데이터 타입 확인\n",
    "dtype_df2 = df2['STD_YYYYMM'].dtype\n",
    "print(\"df2의 'STD_YYYYMM' 열의 데이터 타입:\", dtype_df2)"
   ]
  },
  {
   "cell_type": "code",
   "execution_count": 39,
   "metadata": {},
   "outputs": [
    {
     "name": "stdout",
     "output_type": "stream",
     "text": [
      "   STD_YYYYMM   SIDO  GEN  AGG  CNT  CNT_SUM  AVG_PM2.5\n",
      "0      201501  서울특별시    1    0  190   377167       25.0\n",
      "1      201502  서울특별시    1    0  164   391955       30.0\n",
      "2      201503  서울특별시    1    0  271   456140       30.0\n",
      "3      201504  서울특별시    1    0  253   429844       21.0\n",
      "4      201505  서울특별시    1    0  212   320863       22.0\n"
     ]
    }
   ],
   "source": [
    "# df2와 df3을 'STD_YYYYMM'과 'SIDO'를 기준으로 inner join 수행\n",
    "merged_df = pd.merge(df2, df3, on=['STD_YYYYMM', 'SIDO'], how='inner')\n",
    "\n",
    "# 결과 확인\n",
    "print(merged_df.head())"
   ]
  },
  {
   "cell_type": "code",
   "execution_count": 40,
   "metadata": {},
   "outputs": [],
   "source": [
    "merged_df.to_csv('data/2.5비염합침테스트.csv', index=False)"
   ]
  },
  {
   "cell_type": "code",
   "execution_count": 41,
   "metadata": {},
   "outputs": [],
   "source": [
    "import pandas as pd"
   ]
  },
  {
   "cell_type": "code",
   "execution_count": 42,
   "metadata": {},
   "outputs": [],
   "source": [
    "df = pd.read_csv('data/test/천식.csv')"
   ]
  },
  {
   "cell_type": "code",
   "execution_count": 43,
   "metadata": {},
   "outputs": [],
   "source": [
    "df1 = pd.read_csv('data/test/pm10_2.csv')"
   ]
  },
  {
   "cell_type": "code",
   "execution_count": 44,
   "metadata": {},
   "outputs": [],
   "source": [
    "# df와 df1을 'STD_YYYYMM'과 'SIDO' 열을 기준으로 병합 (inner join)\n",
    "result_df = pd.merge(df, df1, on=['STD_YYYYMM', 'SIDO'], how='inner')"
   ]
  },
  {
   "cell_type": "code",
   "execution_count": 45,
   "metadata": {},
   "outputs": [],
   "source": [
    "result_df.to_csv('data/test/천식미세먼지.csv', index=False)"
   ]
  },
  {
   "cell_type": "code",
   "execution_count": 57,
   "metadata": {},
   "outputs": [
    {
     "data": {
      "text/html": [
       "<div>\n",
       "<style scoped>\n",
       "    .dataframe tbody tr th:only-of-type {\n",
       "        vertical-align: middle;\n",
       "    }\n",
       "\n",
       "    .dataframe tbody tr th {\n",
       "        vertical-align: top;\n",
       "    }\n",
       "\n",
       "    .dataframe thead th {\n",
       "        text-align: right;\n",
       "    }\n",
       "</style>\n",
       "<table border=\"1\" class=\"dataframe\">\n",
       "  <thead>\n",
       "    <tr style=\"text-align: right;\">\n",
       "      <th></th>\n",
       "      <th>STD_YYYYMM</th>\n",
       "      <th>SIDO</th>\n",
       "      <th>천식환자수</th>\n",
       "      <th>AVG_PM10</th>\n",
       "      <th>PM10_BAD</th>\n",
       "      <th>PM10_80BAD</th>\n",
       "    </tr>\n",
       "  </thead>\n",
       "  <tbody>\n",
       "    <tr>\n",
       "      <th>0</th>\n",
       "      <td>201001</td>\n",
       "      <td>서울특별시</td>\n",
       "      <td>51572</td>\n",
       "      <td>59.0</td>\n",
       "      <td>Y</td>\n",
       "      <td>N</td>\n",
       "    </tr>\n",
       "    <tr>\n",
       "      <th>1</th>\n",
       "      <td>201002</td>\n",
       "      <td>서울특별시</td>\n",
       "      <td>46974</td>\n",
       "      <td>50.0</td>\n",
       "      <td>Y</td>\n",
       "      <td>N</td>\n",
       "    </tr>\n",
       "  </tbody>\n",
       "</table>\n",
       "</div>"
      ],
      "text/plain": [
       "   STD_YYYYMM   SIDO  천식환자수  AVG_PM10 PM10_BAD PM10_80BAD\n",
       "0      201001  서울특별시  51572      59.0        Y          N\n",
       "1      201002  서울특별시  46974      50.0        Y          N"
      ]
     },
     "execution_count": 57,
     "metadata": {},
     "output_type": "execute_result"
    }
   ],
   "source": [
    "result_df.head(2)"
   ]
  },
  {
   "cell_type": "code",
   "execution_count": 56,
   "metadata": {},
   "outputs": [
    {
     "data": {
      "text/plain": [
       "N    1364\n",
       "Y    1132\n",
       "Name: PM10_BAD, dtype: int64"
      ]
     },
     "execution_count": 56,
     "metadata": {},
     "output_type": "execute_result"
    }
   ],
   "source": [
    "result_df['PM10_BAD'].value_counts()"
   ]
  },
  {
   "cell_type": "code",
   "execution_count": 46,
   "metadata": {},
   "outputs": [],
   "source": [
    "import seaborn as sns\n",
    "import matplotlib.pyplot as plt\n",
    "plt.rcParams['font.family'] = 'Malgun Gothic'\n",
    "plt.rcParams['axes.unicode_minus'] = False"
   ]
  },
  {
   "cell_type": "code",
   "execution_count": 47,
   "metadata": {},
   "outputs": [
    {
     "data": {
      "text/html": [
       "<div>\n",
       "<style scoped>\n",
       "    .dataframe tbody tr th:only-of-type {\n",
       "        vertical-align: middle;\n",
       "    }\n",
       "\n",
       "    .dataframe tbody tr th {\n",
       "        vertical-align: top;\n",
       "    }\n",
       "\n",
       "    .dataframe thead tr th {\n",
       "        text-align: left;\n",
       "    }\n",
       "\n",
       "    .dataframe thead tr:last-of-type th {\n",
       "        text-align: right;\n",
       "    }\n",
       "</style>\n",
       "<table border=\"1\" class=\"dataframe\">\n",
       "  <thead>\n",
       "    <tr>\n",
       "      <th></th>\n",
       "      <th>count</th>\n",
       "      <th>mean</th>\n",
       "      <th>min</th>\n",
       "      <th>max</th>\n",
       "      <th>std</th>\n",
       "      <th>var</th>\n",
       "    </tr>\n",
       "    <tr>\n",
       "      <th></th>\n",
       "      <th>천식환자수</th>\n",
       "      <th>천식환자수</th>\n",
       "      <th>천식환자수</th>\n",
       "      <th>천식환자수</th>\n",
       "      <th>천식환자수</th>\n",
       "      <th>천식환자수</th>\n",
       "    </tr>\n",
       "    <tr>\n",
       "      <th>PM10_BAD</th>\n",
       "      <th></th>\n",
       "      <th></th>\n",
       "      <th></th>\n",
       "      <th></th>\n",
       "      <th></th>\n",
       "      <th></th>\n",
       "    </tr>\n",
       "  </thead>\n",
       "  <tbody>\n",
       "    <tr>\n",
       "      <th>N</th>\n",
       "      <td>1364</td>\n",
       "      <td>12435.341642</td>\n",
       "      <td>483</td>\n",
       "      <td>117486</td>\n",
       "      <td>13447.049845</td>\n",
       "      <td>1.808231e+08</td>\n",
       "    </tr>\n",
       "    <tr>\n",
       "      <th>Y</th>\n",
       "      <td>1132</td>\n",
       "      <td>22298.590989</td>\n",
       "      <td>524</td>\n",
       "      <td>118215</td>\n",
       "      <td>21340.688034</td>\n",
       "      <td>4.554250e+08</td>\n",
       "    </tr>\n",
       "  </tbody>\n",
       "</table>\n",
       "</div>"
      ],
      "text/plain": [
       "         count          mean   min     max           std           var\n",
       "         천식환자수         천식환자수 천식환자수   천식환자수         천식환자수         천식환자수\n",
       "PM10_BAD                                                              \n",
       "N         1364  12435.341642   483  117486  13447.049845  1.808231e+08\n",
       "Y         1132  22298.590989   524  118215  21340.688034  4.554250e+08"
      ]
     },
     "execution_count": 47,
     "metadata": {},
     "output_type": "execute_result"
    }
   ],
   "source": [
    "result_df.pivot_table('천식환자수', 'PM10_BAD', aggfunc=['count', 'mean', 'min', 'max', 'std', 'var'])"
   ]
  },
  {
   "cell_type": "code",
   "execution_count": 48,
   "metadata": {},
   "outputs": [
    {
     "data": {
      "image/png": "[encoded data removed]",
      "text/plain": [
       "<Figure size 640x480 with 1 Axes>"
      ]
     },
     "metadata": {},
     "output_type": "display_data"
    }
   ],
   "source": [
    "sns.boxplot(result_df, x='PM10_BAD', y='천식환자수')\n",
    "plt.title('미세먼지에 따른 천식환자수 boxplot');"
   ]
  },
  {
   "cell_type": "code",
   "execution_count": 49,
   "metadata": {},
   "outputs": [
    {
     "data": {
      "image/png": "[encoded data removed]",
      "text/plain": [
       "<Figure size 800x600 with 1 Axes>"
      ]
     },
     "metadata": {},
     "output_type": "display_data"
    }
   ],
   "source": [
    "import seaborn as sns\n",
    "import matplotlib.pyplot as plt\n",
    "\n",
    "# 'PM10_BAD'에 따른 '천식환자수'의 최소값을 계산합니다.\n",
    "min_values = result_df.groupby('PM10_BAD')['천식환자수'].min().reset_index()\n",
    "\n",
    "# 최소값을 이용한 막대 그래프를 그립니다.\n",
    "plt.figure(figsize=(8, 6))\n",
    "sns.barplot(x='PM10_BAD', y='천식환자수', data=min_values)\n",
    "\n",
    "plt.title('미세먼지에 따른 천식환자수의 최소값 비교')\n",
    "plt.show()\n"
   ]
  },
  {
   "cell_type": "code",
   "execution_count": 50,
   "metadata": {},
   "outputs": [
    {
     "ename": "NameError",
     "evalue": "name 'DDDDDDDDDDDDDDDDDDDDDDDDDDDDDDDDDD' is not defined",
     "output_type": "error",
     "traceback": [
      "\u001b[1;31m---------------------------------------------------------------------------\u001b[0m",
      "\u001b[1;31mNameError\u001b[0m                                 Traceback (most recent call last)",
      "\u001b[1;32md:\\WorkSpace\\99.project2\\Datacollection\\1121_분석도구테스트.ipynb Cell 49\u001b[0m line \u001b[0;36m1\n\u001b[1;32m----> <a href='vscode-notebook-cell:/d%3A/WorkSpace/99.project2/Datacollection/1121_%EB%B6%84%EC%84%9D%EB%8F%84%EA%B5%AC%ED%85%8C%EC%8A%A4%ED%8A%B8.ipynb#Y122sZmlsZQ%3D%3D?line=0'>1</a>\u001b[0m DDDDDDDDDDDDDDDDDDDDDDDDDDDDDDDDDD\n",
      "\u001b[1;31mNameError\u001b[0m: name 'DDDDDDDDDDDDDDDDDDDDDDDDDDDDDDDDDD' is not defined"
     ]
    }
   ],
   "source": [
    "DDDDDDDDDDDDDDDDDDDDDDDDDDDDDDDDDD"
   ]
  },
  {
   "cell_type": "code",
   "execution_count": null,
   "metadata": {},
   "outputs": [],
   "source": [
    "result_df.pivot_table('천식환자수', 'PM10_BAD', aggfunc=['count', 'mean', 'min', 'max', 'std', 'var'])"
   ]
  },
  {
   "cell_type": "markdown",
   "metadata": {},
   "source": [
    "가설검정(2-sample T test)"
   ]
  },
  {
   "cell_type": "code",
   "execution_count": null,
   "metadata": {},
   "outputs": [
    {
     "data": {
      "text/plain": [
       "Ttest_indResult(statistic=1.7282905613782618, pvalue=0.11455736929361318)"
      ]
     },
     "execution_count": 11,
     "metadata": {},
     "output_type": "execute_result"
    }
   ],
   "source": [
    "import scipy as sp \n",
    "sp.stats.ttest_ind(result_df[result_df.PM10_BAD=='Y'].천식환자수, result_df[result_df.PM10_BAD=='N'].천식환자수, equal_var=False)"
   ]
  },
  {
   "cell_type": "code",
   "execution_count": null,
   "metadata": {},
   "outputs": [],
   "source": [
    "# p-value가 0.05보다 (훨씬) 작으므로 귀무가설 기각, 대립가설 체택\n",
    "#   - 귀무가설(H0): 셀프주유소와 일반주유소의 가격 차이가 없다.\n",
    "#   - 대립가설(H1): 셀프주유소와 일반주유소의 가격 차이가 있다."
   ]
  },
  {
   "cell_type": "markdown",
   "metadata": {},
   "source": [
    "\n",
    "Ttest_indResult(statistic=1.7282905613782618, pvalue=0.11455736929361318) 데이터를 통해 얻은 결과는 두 독립적인 표본 간의 평균 차이에 대한 t-검정(t-test) 결과를 나타냅니다. 이 결과를 해석하려면 몇 가지 중요한 요소를 고려해야 합니다.\n",
    "\n",
    "통계량 (Statistic): 1.7282905613782618\n",
    "\n",
    "이 값은 두 표본 간의 평균 차이가 표준 오차로 나눠진 것입니다. 이 값이 크면 클수록, 두 표본 간의 차이가 더 크다는 것을 의미합니다.\n",
    "p-값 (p-value): 0.11455736929361318\n",
    "\n",
    "p-값은 귀무 가설이 참일 때 관측된 결과와 같거나 더 극단적인 결과가 관측될 확률입니다. 일반적으로 p-값이 0.05 (5%) 이하일 때, 결과를 통계적으로 유의미하다고 판단합니다. 이 경우 p-값은 0.1145로, 0.05보다 높습니다.\n",
    "해석\n",
    "통계적 유의성: 이 경우, p-값이 0.05보다 크므로 통계적으로 유의미하다고 보기 어렵습니다. 즉, 두 표본 간의 평균 차이가 우연히 발생했을 가능성이 높습니다.\n",
    "실용적 유의성: 통계적 유의성 외에도 실용적인 관점에서 차이가 의미 있는지 고려해야 합니다. 통계적으로 유의미하지 않더라도, 연구의 맥락이나 특정 분야에서는 그 차이가 중요할 수 있습니다.\n",
    "결론적으로, 이 데이터는 통계적으로 유의미하다고 보기 어렵지만, 연구의 맥락에 따라 다르게 해석될 수 있습니다. 연구의 목적, 분야의 특성, 표본의 크기 및 다른 관련 요소를 고려하여 결과를 해석하는 것이 중요합니다."
   ]
  },
  {
   "cell_type": "markdown",
   "metadata": {},
   "source": [
    "비모수적 검정 (Non-parametric Test)\n",
    "\n",
    "만약 데이터가 정규 분포를 따르지 않는다면, 비모수적 검정이 적합할 수 있습니다. 예를 들어, Mann-Whitney U 검정은 두 독립 표본이 같은 분포에서 왔는지를 검정합니다."
   ]
  },
  {
   "cell_type": "code",
   "execution_count": null,
   "metadata": {},
   "outputs": [],
   "source": [
    "from scipy.stats import mannwhitneyu\n",
    "\n",
    "u_statistic, p_value = mannwhitneyu(result_df[result_df.PM10_BAD=='Y'].천식환자수, \n",
    "                                    result_df[result_df.PM10_BAD=='N'].천식환자수)"
   ]
  },
  {
   "cell_type": "code",
   "execution_count": null,
   "metadata": {},
   "outputs": [
    {
     "data": {
      "text/plain": [
       "(17817.5, 0.08188129165969112)"
      ]
     },
     "execution_count": 14,
     "metadata": {},
     "output_type": "execute_result"
    }
   ],
   "source": [
    "u_statistic, p_value"
   ]
  },
  {
   "cell_type": "markdown",
   "metadata": {},
   "source": [
    "비모수적 검정에서 얻은 결과 (17817.5, 0.08188129165969112) 는 Mann-Whitney U 검정의 결과입니다. 이 검정은 두 독립적인 표본이 같은 분포에서 왔는지를 검정하는 데 사용됩니다. 결과를 해석하려면 다음 두 요소를 고려해야 합니다:\n",
    "\n",
    "U 통계량 (17817.5): 이 값은 두 표본 간의 차이를 나타내는 통계량입니다. 그러나 이 값 자체는 통계적 유의미성을 직접적으로 나타내지 않습니다.\n",
    "\n",
    "p-값 (0.08188129165969112): p-값은 귀무 가설 (두 표본이 같은 분포에서 왔다는 가설)이 참일 때 관측된 결과와 같거나 더 극단적인 결과가 관측될 확률입니다. 일반적으로 p-값이 0.05 (5%) 이하일 때 결과를 통계적으로 유의미하다고 판단합니다. 이 경우, p-값은 0.08188로, 0.05보다 높습니다.\n",
    "\n",
    "해석\n",
    "통계적 유의미성: p-값이 0.05보다 크므로, 이 결과는 통계적으로 유의미하다고 보기 어렵습니다. 즉, 두 표본 간의 차이가 우연히 발생했을 가능성이 높습니다. 다시 말해, PM10 농도가 높은 날과 낮은 날의 천식 환자 수에 통계적으로 유의미한 차이가 있다고 결론지을 수 없습니다.\n",
    "\n",
    "실용적 유의성: 통계적 유의성 외에도 실용적인 관점에서 차이가 의미 있는지 고려해야 합니다. 통계적으로 유의미하지 않더라도, 연구의 맥락이나 특정 분야에서는 그 차이가 중요할 수 있습니다. 예를 들어, 공중 보건 분야에서는 작은 차이도 중요할 수 있습니다.\n",
    "\n",
    "결론적으로, 이 결과는 통계적으로 유의미하다고 보기 어렵지만, 연구의 맥락에 따라 다르게 해석될 수 있습니다. 연구의 목적, 분야의 특성, 표본의 크기 및 다른 관련 요소를 고려하여 결과를 해석하는 것이 중요합니다."
   ]
  },
  {
   "cell_type": "markdown",
   "metadata": {},
   "source": [
    "다변량 분석 (Multivariate Analysis)\n",
    "\n",
    "만약 추가적인 변수들이 있고 이들이 천식 환자 수에 영향을 미칠 수 있다면, 다변량 분석을 고려해볼 수 있습니다. 예를 들어, 회귀 분석을 통해 PM10 농도 외에 다른 요인들이 천식 환자 수에 미치는 영향을 평가할 수 있습니다."
   ]
  },
  {
   "cell_type": "code",
   "execution_count": null,
   "metadata": {},
   "outputs": [],
   "source": [
    "import statsmodels.api as sm\n",
    "\n",
    "# 예시: 'X1', 'X2' 는 다른 영향을 미치는 변수들\n",
    "X = result_df[['PM10_BAD', 'X1', 'X2']]  \n",
    "y = result_df['천식환자수']\n",
    "model = sm.OLS(y, X).fit()\n",
    "print(model.summary())"
   ]
  },
  {
   "cell_type": "markdown",
   "metadata": {},
   "source": [
    "부트스트래핑 (Bootstrapping)\n",
    "\n",
    "부트스트래핑은 표본의 재추출을 통해 통계적 추정을 수행하는 방법입니다. 이는 특히 표본 크기가 작을 때 유용할 수 있습니다."
   ]
  },
  {
   "cell_type": "code",
   "execution_count": null,
   "metadata": {},
   "outputs": [],
   "source": [
    "import numpy as np\n",
    "\n",
    "def bootstrap_statistic(data1, data2, n_bootstrap=1000):\n",
    "    size = max(len(data1), len(data2))\n",
    "    statistics = np.zeros(n_bootstrap)\n",
    "    for i in range(n_bootstrap):\n",
    "        sample1 = np.random.choice(data1, size=size, replace=True)\n",
    "        sample2 = np.random.choice(data2, size=size, replace=True)\n",
    "        statistics[i] = np.mean(sample1) - np.mean(sample2)\n",
    "    return statistics\n",
    "\n",
    "bootstrap_results = bootstrap_statistic(result_df[result_df.PM10_BAD=='Y'].천식환자수,\n",
    "                                        result_df[result_df.PM10_BAD=='N'].천식환자수)\n"
   ]
  },
  {
   "cell_type": "code",
   "execution_count": null,
   "metadata": {},
   "outputs": [
    {
     "name": "stdout",
     "output_type": "stream",
     "text": [
      "95% 신뢰 구간: 16536.96286720322 to 19530.173782696176\n",
      "신뢰 구간이 0을 포함하지 않으므로, 두 그룹 간의 차이는 통계적으로 유의미할 수 있습니다.\n"
     ]
    }
   ],
   "source": [
    "# 부트스트랩 결과를 직접 numpy 배열로 변환\n",
    "bootstrap_results = bootstrap_statistic(result_df[result_df.PM10_BAD=='Y'].천식환자수,\n",
    "                                        result_df[result_df.PM10_BAD=='N'].천식환자수)\n",
    "\n",
    "# 95% 신뢰 구간 계산\n",
    "lower_bound = np.percentile(bootstrap_results, 2.5)\n",
    "upper_bound = np.percentile(bootstrap_results, 97.5)\n",
    "\n",
    "# 신뢰 구간과 0의 포함 여부 출력\n",
    "print(f\"95% 신뢰 구간: {lower_bound} to {upper_bound}\")\n",
    "if lower_bound <= 0 <= upper_bound:\n",
    "    print(\"신뢰 구간이 0을 포함하므로, 두 그룹 간의 차이는 통계적으로 유의미하지 않습니다.\")\n",
    "else:\n",
    "    print(\"신뢰 구간이 0을 포함하지 않으므로, 두 그룹 간의 차이는 통계적으로 유의미할 수 있습니다.\")\n"
   ]
  },
  {
   "cell_type": "markdown",
   "metadata": {},
   "source": [
    "\"우리의 분석에서는 부트스트랩 방법을 사용하여 PM10 농도가 높은 날(PM10_BAD == 'Y')과 낮은 날(PM10_BAD == 'N') 사이의 천식 환자 수 차이를 평가했습니다. 이 방법은 데이터의 분포 가정에 크게 의존하지 않으면서, 표본의 재추출을 통해 통계적 추정을 수행합니다. 우리의 결과는 95% 신뢰 구간이 16,536.96에서 19,530.17 사이로 나타났으며, 이 구간은 0을 포함하지 않습니다. 이는 PM10 농도가 높은 날의 천식 환자 수가 유의미하게 높다는 것을 시사합니다.\"\n",
    "\n",
    "설득력 있는 포인트:\n",
    "\n",
    "데이터 기반의 결론: \"이 분석은 강력한 데이터 기반 접근을 사용하여, 공중 보건에 중요한 특정 환경 요인의 영향을 확인합니다.\"\n",
    "과학적 방법론: \"부트스트랩 방법은 우리 데이터의 특성을 고려하여 선택되었으며, 이는 보다 정확한 통계적 추정을 가능하게 합니다.\"\n",
    "공중 보건의 중요성: \"이 결과는 PM10 농도와 천식 발병률 사이의 관계를 보여주며, 공중 보건 정책 결정에 중요한 정보를 제공합니다.\""
   ]
  },
  {
   "cell_type": "code",
   "execution_count": null,
   "metadata": {},
   "outputs": [
    {
     "data": {
      "image/png": "[encoded data removed]",
      "text/plain": [
       "<Figure size 1000x600 with 1 Axes>"
      ]
     },
     "metadata": {},
     "output_type": "display_data"
    }
   ],
   "source": [
    "import matplotlib.pyplot as plt\n",
    "\n",
    "# 부트스트랩 결과를 직접 numpy 배열로 변환\n",
    "bootstrap_results = bootstrap_statistic(result_df[result_df.PM10_BAD=='Y'].천식환자수,\n",
    "                                        result_df[result_df.PM10_BAD=='N'].천식환자수)\n",
    "\n",
    "# 95% 신뢰 구간 계산\n",
    "lower_bound = np.percentile(bootstrap_results, 2.5)\n",
    "upper_bound = np.percentile(bootstrap_results, 97.5)\n",
    "\n",
    "# 시각화\n",
    "plt.figure(figsize=(10, 6))\n",
    "plt.hist(bootstrap_results, bins=30, color='skyblue', alpha=0.7, edgecolor='black')\n",
    "plt.axvline(x=lower_bound, color='red', linestyle='--', label=f'Lower Bound ({lower_bound:.2f})')\n",
    "plt.axvline(x=upper_bound, color='green', linestyle='--', label=f'Upper Bound ({upper_bound:.2f})')\n",
    "plt.title('Bootstrap Results with 95% Confidence Interval')\n",
    "plt.xlabel('Difference in 천식환자수 between PM10_BAD Y and N')\n",
    "plt.ylabel('Frequency')\n",
    "plt.legend()\n",
    "plt.show()\n"
   ]
  },
  {
   "cell_type": "code",
   "execution_count": null,
   "metadata": {},
   "outputs": [],
   "source": []
  }
 ],
 "metadata": {
  "kernelspec": {
   "display_name": "base",
   "language": "python",
   "name": "python3"
  },
  "language_info": {
   "codemirror_mode": {
    "name": "ipython",
    "version": 3
   },
   "file_extension": ".py",
   "mimetype": "text/x-python",
   "name": "python",
   "nbconvert_exporter": "python",
   "pygments_lexer": "ipython3",
   "version": "3.11.4"
  }
 },
 "nbformat": 4,
 "nbformat_minor": 2
}
